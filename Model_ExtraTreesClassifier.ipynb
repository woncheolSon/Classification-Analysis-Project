{
 "cells": [
  {
   "cell_type": "code",
   "execution_count": 76,
   "metadata": {},
   "outputs": [],
   "source": [
    "import pickle\n",
    "import time\n",
    "import tqdm\n",
    "import myslack\n",
    "\n",
    "from sklearn.model_selection import KFold, cross_val_score, train_test_split\n",
    "from sklearn.metrics import confusion_matrix, classification_report, accuracy_score, roc_auc_score\n",
    "from sklearn.ensemble import ExtraTreesClassifier"
   ]
  },
  {
   "cell_type": "markdown",
   "metadata": {},
   "source": [
    "#### - train.csv"
   ]
  },
  {
   "cell_type": "code",
   "execution_count": 4,
   "metadata": {
    "scrolled": true
   },
   "outputs": [
    {
     "name": "stdout",
     "output_type": "stream",
     "text": [
      "test data shape: (95674, 5166)\n",
      "CPU times: user 218 ms, sys: 639 ms, total: 857 ms\n",
      "Wall time: 887 ms\n"
     ]
    }
   ],
   "source": [
    "%%time\n",
    "train = pickle.load(open(\"./data/my_train.pkl\", \"rb\"))\n",
    "print(\"test data shape: \"+str(train.shape))"
   ]
  },
  {
   "cell_type": "code",
   "execution_count": 5,
   "metadata": {},
   "outputs": [
    {
     "data": {
      "text/plain": [
       "(95674, 5166)"
      ]
     },
     "execution_count": 5,
     "metadata": {},
     "output_type": "execute_result"
    }
   ],
   "source": [
    "train.shape"
   ]
  },
  {
   "cell_type": "markdown",
   "metadata": {},
   "source": [
    "#### - test.csv"
   ]
  },
  {
   "cell_type": "code",
   "execution_count": 6,
   "metadata": {},
   "outputs": [
    {
     "name": "stdout",
     "output_type": "stream",
     "text": [
      "test data shape: (95674, 5165)\n"
     ]
    }
   ],
   "source": [
    "# %%time\n",
    "test = pickle.load(open(\"./data/my_test.pkl\", \"rb\"))\n",
    "print(\"test data shape: \"+str(test.shape))"
   ]
  },
  {
   "cell_type": "code",
   "execution_count": 7,
   "metadata": {},
   "outputs": [
    {
     "data": {
      "text/plain": [
       "(95674, 5165)"
      ]
     },
     "execution_count": 7,
     "metadata": {},
     "output_type": "execute_result"
    }
   ],
   "source": [
    "test.shape"
   ]
  },
  {
   "cell_type": "markdown",
   "metadata": {},
   "source": [
    "---"
   ]
  },
  {
   "cell_type": "markdown",
   "metadata": {},
   "source": [
    "# ExtraTreesClassifier"
   ]
  },
  {
   "cell_type": "markdown",
   "metadata": {},
   "source": [
    "### Train_X, Train_y"
   ]
  },
  {
   "cell_type": "code",
   "execution_count": 8,
   "metadata": {},
   "outputs": [],
   "source": [
    "X = train.drop(columns='TripType')\n",
    "y = train['TripType']"
   ]
  },
  {
   "cell_type": "code",
   "execution_count": 63,
   "metadata": {},
   "outputs": [],
   "source": [
    "estimators=300\n",
    "depth=60"
   ]
  },
  {
   "cell_type": "code",
   "execution_count": 64,
   "metadata": {},
   "outputs": [
    {
     "name": "stdout",
     "output_type": "stream",
     "text": [
      "CPU times: user 11min 8s, sys: 7.06 s, total: 11min 15s\n",
      "Wall time: 11min 17s\n"
     ]
    }
   ],
   "source": [
    "%time extree_model = ExtraTreesClassifier(n_estimators = estimators, max_depth= depth).fit(X,y)"
   ]
  },
  {
   "cell_type": "code",
   "execution_count": 65,
   "metadata": {},
   "outputs": [
    {
     "name": "stdout",
     "output_type": "stream",
     "text": [
      "<Response [200]>\n"
     ]
    }
   ],
   "source": [
    "myslack.send_slack('finish')"
   ]
  },
  {
   "cell_type": "markdown",
   "metadata": {},
   "source": [
    "### Confusion Matrix"
   ]
  },
  {
   "cell_type": "code",
   "execution_count": 66,
   "metadata": {
    "scrolled": true
   },
   "outputs": [
    {
     "data": {
      "text/plain": [
       "array([[3597,    0,    0, ...,    0,    0,   22],\n",
       "       [   0,   50,    5, ...,    0,    0,    3],\n",
       "       [   1,    0, 2731, ...,    0,    0,    6],\n",
       "       ...,\n",
       "       [   0,    0,    0, ...,  579,    0,    0],\n",
       "       [   0,    0,    0, ...,    0, 1147,    0],\n",
       "       [ 276,    0,    1, ...,    0,    0, 7325]])"
      ]
     },
     "execution_count": 66,
     "metadata": {},
     "output_type": "execute_result"
    }
   ],
   "source": [
    "confusion_matrix(y, extree_model.predict(X))"
   ]
  },
  {
   "cell_type": "markdown",
   "metadata": {},
   "source": [
    "### Accuracy Score"
   ]
  },
  {
   "cell_type": "code",
   "execution_count": 67,
   "metadata": {},
   "outputs": [
    {
     "name": "stdout",
     "output_type": "stream",
     "text": [
      "accuracy_score 0.8022555762276062\n",
      "CPU times: user 17.8 s, sys: 3.46 s, total: 21.3 s\n",
      "Wall time: 21.5 s\n"
     ]
    }
   ],
   "source": [
    "%time print('accuracy_score '+str(accuracy_score(y, extree_model.predict(X))))"
   ]
  },
  {
   "cell_type": "markdown",
   "metadata": {},
   "source": [
    "### Train Test Split"
   ]
  },
  {
   "cell_type": "code",
   "execution_count": 68,
   "metadata": {},
   "outputs": [
    {
     "data": {
      "text/plain": [
       "(86106, 9568, 86106, 9568)"
      ]
     },
     "execution_count": 68,
     "metadata": {},
     "output_type": "execute_result"
    }
   ],
   "source": [
    "X_train, X_test, y_train, y_test = train_test_split(X, y, test_size=0.1, random_state=1)\n",
    "\n",
    "len(X_train), len(X_test), len(y_train), len(y_test)"
   ]
  },
  {
   "cell_type": "code",
   "execution_count": 69,
   "metadata": {},
   "outputs": [],
   "source": [
    "y_pred = extree_model.predict(X_test)"
   ]
  },
  {
   "cell_type": "code",
   "execution_count": 70,
   "metadata": {
    "scrolled": false
   },
   "outputs": [
    {
     "name": "stdout",
     "output_type": "stream",
     "text": [
      "             precision    recall  f1-score   support\n",
      "\n",
      "          3       0.90      0.99      0.94       357\n",
      "          4       1.00      0.14      0.25        28\n",
      "          5       1.00      0.59      0.74       472\n",
      "          6       1.00      0.53      0.69       139\n",
      "          7       0.98      0.81      0.88       544\n",
      "          8       0.45      1.00      0.62      1186\n",
      "          9       0.70      0.74      0.72       911\n",
      "         12       1.00      0.71      0.83        21\n",
      "         15       1.00      0.58      0.74        91\n",
      "         18       1.00      0.49      0.66        63\n",
      "         19       1.00      0.27      0.42        41\n",
      "         20       1.00      0.53      0.69        51\n",
      "         21       1.00      0.48      0.65        84\n",
      "         22       1.00      0.43      0.61       106\n",
      "         23       1.00      0.19      0.32        16\n",
      "         24       0.99      0.63      0.77       235\n",
      "         25       0.99      0.78      0.88       371\n",
      "         26       1.00      0.42      0.59        45\n",
      "         27       1.00      0.61      0.76        92\n",
      "         28       1.00      0.53      0.69        49\n",
      "         29       1.00      0.36      0.53        39\n",
      "         30       1.00      0.36      0.53       128\n",
      "         31       0.94      0.63      0.76        54\n",
      "         32       1.00      0.72      0.84       198\n",
      "         33       1.00      0.73      0.84       139\n",
      "         34       1.00      0.52      0.69        86\n",
      "         35       1.00      0.54      0.70       185\n",
      "         36       0.99      0.72      0.83       311\n",
      "         37       1.00      0.90      0.95       264\n",
      "         38       1.00      0.85      0.92       303\n",
      "         39       0.95      0.96      0.95      1056\n",
      "         40       1.00      1.00      1.00       596\n",
      "         41       1.00      0.73      0.85        64\n",
      "         42       1.00      0.78      0.88       180\n",
      "         43       1.00      0.69      0.82        78\n",
      "         44       1.00      0.95      0.97       114\n",
      "        999       0.99      0.86      0.92       871\n",
      "\n",
      "avg / total       0.89      0.80      0.81      9568\n",
      "\n"
     ]
    }
   ],
   "source": [
    "print(classification_report(y_test, y_pred))"
   ]
  },
  {
   "cell_type": "markdown",
   "metadata": {},
   "source": [
    "### Prediction"
   ]
  },
  {
   "cell_type": "code",
   "execution_count": 71,
   "metadata": {},
   "outputs": [
    {
     "name": "stdout",
     "output_type": "stream",
     "text": [
      "CPU times: user 18.8 s, sys: 4.69 s, total: 23.4 s\n",
      "Wall time: 24 s\n"
     ]
    }
   ],
   "source": [
    "%time result = extree_model.predict_proba(test)"
   ]
  },
  {
   "cell_type": "code",
   "execution_count": 72,
   "metadata": {},
   "outputs": [
    {
     "data": {
      "text/plain": [
       "(95674, 38)"
      ]
     },
     "execution_count": 72,
     "metadata": {},
     "output_type": "execute_result"
    }
   ],
   "source": [
    "result.shape"
   ]
  },
  {
   "cell_type": "code",
   "execution_count": 73,
   "metadata": {},
   "outputs": [
    {
     "data": {
      "text/plain": [
       "array([[0.01418589, 0.00292786, 0.03803827, ..., 0.00866913, 0.00524126,\n",
       "        0.07321052],\n",
       "       [0.01364851, 0.00350445, 0.04530083, ..., 0.02728213, 0.00253141,\n",
       "        0.17495134],\n",
       "       [0.02489958, 0.00434514, 0.05741996, ..., 0.00596614, 0.00312831,\n",
       "        0.20765996],\n",
       "       ...,\n",
       "       [0.02428597, 0.00461999, 0.05814477, ..., 0.00629677, 0.0034628 ,\n",
       "        0.11416539],\n",
       "       [0.00602574, 0.00149156, 0.02045307, ..., 0.01111685, 0.03612186,\n",
       "        0.03075966],\n",
       "       [0.01381585, 0.00303012, 0.03984058, ..., 0.01459433, 0.0097195 ,\n",
       "        0.0753907 ]])"
      ]
     },
     "execution_count": 73,
     "metadata": {},
     "output_type": "execute_result"
    }
   ],
   "source": [
    "result"
   ]
  },
  {
   "cell_type": "markdown",
   "metadata": {},
   "source": [
    "### Make Submission CSV file"
   ]
  },
  {
   "cell_type": "code",
   "execution_count": 74,
   "metadata": {},
   "outputs": [
    {
     "data": {
      "text/html": [
       "<div>\n",
       "<style scoped>\n",
       "    .dataframe tbody tr th:only-of-type {\n",
       "        vertical-align: middle;\n",
       "    }\n",
       "\n",
       "    .dataframe tbody tr th {\n",
       "        vertical-align: top;\n",
       "    }\n",
       "\n",
       "    .dataframe thead th {\n",
       "        text-align: right;\n",
       "    }\n",
       "</style>\n",
       "<table border=\"1\" class=\"dataframe\">\n",
       "  <thead>\n",
       "    <tr style=\"text-align: right;\">\n",
       "      <th></th>\n",
       "      <th>TripType_3</th>\n",
       "      <th>TripType_4</th>\n",
       "      <th>TripType_5</th>\n",
       "      <th>TripType_6</th>\n",
       "      <th>TripType_7</th>\n",
       "      <th>TripType_8</th>\n",
       "      <th>TripType_9</th>\n",
       "      <th>TripType_12</th>\n",
       "      <th>TripType_14</th>\n",
       "      <th>TripType_15</th>\n",
       "      <th>...</th>\n",
       "      <th>TripType_36</th>\n",
       "      <th>TripType_37</th>\n",
       "      <th>TripType_38</th>\n",
       "      <th>TripType_39</th>\n",
       "      <th>TripType_40</th>\n",
       "      <th>TripType_41</th>\n",
       "      <th>TripType_42</th>\n",
       "      <th>TripType_43</th>\n",
       "      <th>TripType_44</th>\n",
       "      <th>TripType_999</th>\n",
       "    </tr>\n",
       "    <tr>\n",
       "      <th>VisitNumber</th>\n",
       "      <th></th>\n",
       "      <th></th>\n",
       "      <th></th>\n",
       "      <th></th>\n",
       "      <th></th>\n",
       "      <th></th>\n",
       "      <th></th>\n",
       "      <th></th>\n",
       "      <th></th>\n",
       "      <th></th>\n",
       "      <th></th>\n",
       "      <th></th>\n",
       "      <th></th>\n",
       "      <th></th>\n",
       "      <th></th>\n",
       "      <th></th>\n",
       "      <th></th>\n",
       "      <th></th>\n",
       "      <th></th>\n",
       "      <th></th>\n",
       "      <th></th>\n",
       "    </tr>\n",
       "  </thead>\n",
       "  <tbody>\n",
       "    <tr>\n",
       "      <th>191338</th>\n",
       "      <td>0.007620</td>\n",
       "      <td>0.002364</td>\n",
       "      <td>0.028204</td>\n",
       "      <td>0.014012</td>\n",
       "      <td>0.043342</td>\n",
       "      <td>0.079782</td>\n",
       "      <td>0.044600</td>\n",
       "      <td>0.002915</td>\n",
       "      <td>0.000079</td>\n",
       "      <td>0.012528</td>\n",
       "      <td>...</td>\n",
       "      <td>0.028603</td>\n",
       "      <td>0.021900</td>\n",
       "      <td>0.029101</td>\n",
       "      <td>0.227683</td>\n",
       "      <td>0.034785</td>\n",
       "      <td>0.006219</td>\n",
       "      <td>0.019306</td>\n",
       "      <td>0.012933</td>\n",
       "      <td>0.014166</td>\n",
       "      <td>0.035717</td>\n",
       "    </tr>\n",
       "    <tr>\n",
       "      <th>191339</th>\n",
       "      <td>0.016563</td>\n",
       "      <td>0.003308</td>\n",
       "      <td>0.054423</td>\n",
       "      <td>0.010910</td>\n",
       "      <td>0.047777</td>\n",
       "      <td>0.117990</td>\n",
       "      <td>0.099623</td>\n",
       "      <td>0.002666</td>\n",
       "      <td>0.000042</td>\n",
       "      <td>0.018392</td>\n",
       "      <td>...</td>\n",
       "      <td>0.045598</td>\n",
       "      <td>0.014861</td>\n",
       "      <td>0.020292</td>\n",
       "      <td>0.088726</td>\n",
       "      <td>0.004872</td>\n",
       "      <td>0.007768</td>\n",
       "      <td>0.031800</td>\n",
       "      <td>0.018138</td>\n",
       "      <td>0.009137</td>\n",
       "      <td>0.065815</td>\n",
       "    </tr>\n",
       "    <tr>\n",
       "      <th>191340</th>\n",
       "      <td>0.024286</td>\n",
       "      <td>0.004620</td>\n",
       "      <td>0.058145</td>\n",
       "      <td>0.017798</td>\n",
       "      <td>0.056816</td>\n",
       "      <td>0.226232</td>\n",
       "      <td>0.152125</td>\n",
       "      <td>0.002102</td>\n",
       "      <td>0.000026</td>\n",
       "      <td>0.009688</td>\n",
       "      <td>...</td>\n",
       "      <td>0.024113</td>\n",
       "      <td>0.010681</td>\n",
       "      <td>0.015930</td>\n",
       "      <td>0.052168</td>\n",
       "      <td>0.004241</td>\n",
       "      <td>0.003750</td>\n",
       "      <td>0.012675</td>\n",
       "      <td>0.006297</td>\n",
       "      <td>0.003463</td>\n",
       "      <td>0.114165</td>\n",
       "    </tr>\n",
       "    <tr>\n",
       "      <th>191341</th>\n",
       "      <td>0.006026</td>\n",
       "      <td>0.001492</td>\n",
       "      <td>0.020453</td>\n",
       "      <td>0.005021</td>\n",
       "      <td>0.026976</td>\n",
       "      <td>0.055652</td>\n",
       "      <td>0.039603</td>\n",
       "      <td>0.002734</td>\n",
       "      <td>0.000049</td>\n",
       "      <td>0.007525</td>\n",
       "      <td>...</td>\n",
       "      <td>0.037173</td>\n",
       "      <td>0.034348</td>\n",
       "      <td>0.021937</td>\n",
       "      <td>0.205958</td>\n",
       "      <td>0.019969</td>\n",
       "      <td>0.010109</td>\n",
       "      <td>0.038932</td>\n",
       "      <td>0.011117</td>\n",
       "      <td>0.036122</td>\n",
       "      <td>0.030760</td>\n",
       "    </tr>\n",
       "    <tr>\n",
       "      <th>191348</th>\n",
       "      <td>0.013816</td>\n",
       "      <td>0.003030</td>\n",
       "      <td>0.039841</td>\n",
       "      <td>0.009669</td>\n",
       "      <td>0.041392</td>\n",
       "      <td>0.097251</td>\n",
       "      <td>0.098666</td>\n",
       "      <td>0.002463</td>\n",
       "      <td>0.000035</td>\n",
       "      <td>0.009131</td>\n",
       "      <td>...</td>\n",
       "      <td>0.029673</td>\n",
       "      <td>0.018170</td>\n",
       "      <td>0.018382</td>\n",
       "      <td>0.078295</td>\n",
       "      <td>0.004718</td>\n",
       "      <td>0.021900</td>\n",
       "      <td>0.030670</td>\n",
       "      <td>0.014594</td>\n",
       "      <td>0.009719</td>\n",
       "      <td>0.075391</td>\n",
       "    </tr>\n",
       "  </tbody>\n",
       "</table>\n",
       "<p>5 rows × 38 columns</p>\n",
       "</div>"
      ],
      "text/plain": [
       "             TripType_3  TripType_4  TripType_5  TripType_6  TripType_7  \\\n",
       "VisitNumber                                                               \n",
       "191338         0.007620    0.002364    0.028204    0.014012    0.043342   \n",
       "191339         0.016563    0.003308    0.054423    0.010910    0.047777   \n",
       "191340         0.024286    0.004620    0.058145    0.017798    0.056816   \n",
       "191341         0.006026    0.001492    0.020453    0.005021    0.026976   \n",
       "191348         0.013816    0.003030    0.039841    0.009669    0.041392   \n",
       "\n",
       "             TripType_8  TripType_9  TripType_12  TripType_14  TripType_15  \\\n",
       "VisitNumber                                                                  \n",
       "191338         0.079782    0.044600     0.002915     0.000079     0.012528   \n",
       "191339         0.117990    0.099623     0.002666     0.000042     0.018392   \n",
       "191340         0.226232    0.152125     0.002102     0.000026     0.009688   \n",
       "191341         0.055652    0.039603     0.002734     0.000049     0.007525   \n",
       "191348         0.097251    0.098666     0.002463     0.000035     0.009131   \n",
       "\n",
       "                 ...       TripType_36  TripType_37  TripType_38  TripType_39  \\\n",
       "VisitNumber      ...                                                            \n",
       "191338           ...          0.028603     0.021900     0.029101     0.227683   \n",
       "191339           ...          0.045598     0.014861     0.020292     0.088726   \n",
       "191340           ...          0.024113     0.010681     0.015930     0.052168   \n",
       "191341           ...          0.037173     0.034348     0.021937     0.205958   \n",
       "191348           ...          0.029673     0.018170     0.018382     0.078295   \n",
       "\n",
       "             TripType_40  TripType_41  TripType_42  TripType_43  TripType_44  \\\n",
       "VisitNumber                                                                    \n",
       "191338          0.034785     0.006219     0.019306     0.012933     0.014166   \n",
       "191339          0.004872     0.007768     0.031800     0.018138     0.009137   \n",
       "191340          0.004241     0.003750     0.012675     0.006297     0.003463   \n",
       "191341          0.019969     0.010109     0.038932     0.011117     0.036122   \n",
       "191348          0.004718     0.021900     0.030670     0.014594     0.009719   \n",
       "\n",
       "             TripType_999  \n",
       "VisitNumber                \n",
       "191338           0.035717  \n",
       "191339           0.065815  \n",
       "191340           0.114165  \n",
       "191341           0.030760  \n",
       "191348           0.075391  \n",
       "\n",
       "[5 rows x 38 columns]"
      ]
     },
     "execution_count": 74,
     "metadata": {},
     "output_type": "execute_result"
    }
   ],
   "source": [
    "samsub = pd.read_csv('./data/sample_submission.csv')\n",
    "subform_df_columns = samsub.columns[1:]\n",
    "result_df = pd.DataFrame(result)\n",
    "result_df.columns = subform_df_columns\n",
    "subform_df = pd.concat([test.reset_index()['VisitNumber'],result_df],axis=1)\n",
    "subform_df.set_index('VisitNumber',inplace=True)\n",
    "subform_df.tail()"
   ]
  },
  {
   "cell_type": "code",
   "execution_count": 75,
   "metadata": {},
   "outputs": [],
   "source": [
    "subform_df.to_csv('./ExtraTree/EXT_est{}_dep{}.csv'.format(estimators,depth))"
   ]
  },
  {
   "cell_type": "code",
   "execution_count": null,
   "metadata": {},
   "outputs": [],
   "source": []
  },
  {
   "cell_type": "code",
   "execution_count": null,
   "metadata": {},
   "outputs": [],
   "source": []
  }
 ],
 "metadata": {
  "kernelspec": {
   "display_name": "Python 3",
   "language": "python",
   "name": "python3"
  },
  "language_info": {
   "codemirror_mode": {
    "name": "ipython",
    "version": 3
   },
   "file_extension": ".py",
   "mimetype": "text/x-python",
   "name": "python",
   "nbconvert_exporter": "python",
   "pygments_lexer": "ipython3",
   "version": "3.6.4"
  }
 },
 "nbformat": 4,
 "nbformat_minor": 2
}
