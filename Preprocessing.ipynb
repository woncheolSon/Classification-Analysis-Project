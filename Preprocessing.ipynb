{
 "cells": [
  {
   "cell_type": "markdown",
   "metadata": {},
   "source": [
    "## csr_matrix ?\n",
    "- 모델링 직전에"
   ]
  },
  {
   "cell_type": "code",
   "execution_count": 1177,
   "metadata": {},
   "outputs": [],
   "source": [
    "import numpy as np\n",
    "import pandas as pd\n",
    "import time\n",
    "from tqdm import tqdm\n",
    "import myslack\n",
    "from sklearn.ensemble import GradientBoostingRegressor "
   ]
  },
  {
   "cell_type": "code",
   "execution_count": 1178,
   "metadata": {},
   "outputs": [],
   "source": [
    "train = pd.read_csv(\"./data/train.csv\")"
   ]
  },
  {
   "cell_type": "code",
   "execution_count": 1179,
   "metadata": {},
   "outputs": [],
   "source": [
    "test = pd.read_csv(\"./data/test.csv\")"
   ]
  },
  {
   "cell_type": "code",
   "execution_count": 1180,
   "metadata": {},
   "outputs": [],
   "source": [
    "samplesub = pd.read_csv(\"./data/sample_submission.csv\")"
   ]
  },
  {
   "cell_type": "code",
   "execution_count": 1181,
   "metadata": {},
   "outputs": [
    {
     "data": {
      "text/html": [
       "<div>\n",
       "<style scoped>\n",
       "    .dataframe tbody tr th:only-of-type {\n",
       "        vertical-align: middle;\n",
       "    }\n",
       "\n",
       "    .dataframe tbody tr th {\n",
       "        vertical-align: top;\n",
       "    }\n",
       "\n",
       "    .dataframe thead th {\n",
       "        text-align: right;\n",
       "    }\n",
       "</style>\n",
       "<table border=\"1\" class=\"dataframe\">\n",
       "  <thead>\n",
       "    <tr style=\"text-align: right;\">\n",
       "      <th></th>\n",
       "      <th>VisitNumber</th>\n",
       "      <th>TripType_3</th>\n",
       "      <th>TripType_4</th>\n",
       "      <th>TripType_5</th>\n",
       "      <th>TripType_6</th>\n",
       "      <th>TripType_7</th>\n",
       "      <th>TripType_8</th>\n",
       "      <th>TripType_9</th>\n",
       "      <th>TripType_12</th>\n",
       "      <th>TripType_14</th>\n",
       "      <th>...</th>\n",
       "      <th>TripType_36</th>\n",
       "      <th>TripType_37</th>\n",
       "      <th>TripType_38</th>\n",
       "      <th>TripType_39</th>\n",
       "      <th>TripType_40</th>\n",
       "      <th>TripType_41</th>\n",
       "      <th>TripType_42</th>\n",
       "      <th>TripType_43</th>\n",
       "      <th>TripType_44</th>\n",
       "      <th>TripType_999</th>\n",
       "    </tr>\n",
       "  </thead>\n",
       "  <tbody>\n",
       "    <tr>\n",
       "      <th>0</th>\n",
       "      <td>1</td>\n",
       "      <td>0</td>\n",
       "      <td>0</td>\n",
       "      <td>0</td>\n",
       "      <td>0</td>\n",
       "      <td>0</td>\n",
       "      <td>0</td>\n",
       "      <td>0</td>\n",
       "      <td>0</td>\n",
       "      <td>0</td>\n",
       "      <td>...</td>\n",
       "      <td>0</td>\n",
       "      <td>0</td>\n",
       "      <td>0</td>\n",
       "      <td>0</td>\n",
       "      <td>0</td>\n",
       "      <td>0</td>\n",
       "      <td>0</td>\n",
       "      <td>0</td>\n",
       "      <td>0</td>\n",
       "      <td>0</td>\n",
       "    </tr>\n",
       "    <tr>\n",
       "      <th>1</th>\n",
       "      <td>2</td>\n",
       "      <td>0</td>\n",
       "      <td>0</td>\n",
       "      <td>0</td>\n",
       "      <td>0</td>\n",
       "      <td>0</td>\n",
       "      <td>0</td>\n",
       "      <td>0</td>\n",
       "      <td>0</td>\n",
       "      <td>0</td>\n",
       "      <td>...</td>\n",
       "      <td>0</td>\n",
       "      <td>0</td>\n",
       "      <td>0</td>\n",
       "      <td>0</td>\n",
       "      <td>0</td>\n",
       "      <td>0</td>\n",
       "      <td>0</td>\n",
       "      <td>0</td>\n",
       "      <td>0</td>\n",
       "      <td>0</td>\n",
       "    </tr>\n",
       "    <tr>\n",
       "      <th>2</th>\n",
       "      <td>3</td>\n",
       "      <td>0</td>\n",
       "      <td>0</td>\n",
       "      <td>0</td>\n",
       "      <td>0</td>\n",
       "      <td>0</td>\n",
       "      <td>0</td>\n",
       "      <td>0</td>\n",
       "      <td>0</td>\n",
       "      <td>0</td>\n",
       "      <td>...</td>\n",
       "      <td>0</td>\n",
       "      <td>0</td>\n",
       "      <td>0</td>\n",
       "      <td>0</td>\n",
       "      <td>0</td>\n",
       "      <td>0</td>\n",
       "      <td>0</td>\n",
       "      <td>0</td>\n",
       "      <td>0</td>\n",
       "      <td>0</td>\n",
       "    </tr>\n",
       "    <tr>\n",
       "      <th>3</th>\n",
       "      <td>4</td>\n",
       "      <td>0</td>\n",
       "      <td>0</td>\n",
       "      <td>0</td>\n",
       "      <td>0</td>\n",
       "      <td>0</td>\n",
       "      <td>0</td>\n",
       "      <td>0</td>\n",
       "      <td>0</td>\n",
       "      <td>0</td>\n",
       "      <td>...</td>\n",
       "      <td>0</td>\n",
       "      <td>0</td>\n",
       "      <td>0</td>\n",
       "      <td>0</td>\n",
       "      <td>0</td>\n",
       "      <td>0</td>\n",
       "      <td>0</td>\n",
       "      <td>0</td>\n",
       "      <td>0</td>\n",
       "      <td>0</td>\n",
       "    </tr>\n",
       "    <tr>\n",
       "      <th>4</th>\n",
       "      <td>6</td>\n",
       "      <td>0</td>\n",
       "      <td>0</td>\n",
       "      <td>0</td>\n",
       "      <td>0</td>\n",
       "      <td>0</td>\n",
       "      <td>0</td>\n",
       "      <td>0</td>\n",
       "      <td>0</td>\n",
       "      <td>0</td>\n",
       "      <td>...</td>\n",
       "      <td>0</td>\n",
       "      <td>0</td>\n",
       "      <td>0</td>\n",
       "      <td>0</td>\n",
       "      <td>0</td>\n",
       "      <td>0</td>\n",
       "      <td>0</td>\n",
       "      <td>0</td>\n",
       "      <td>0</td>\n",
       "      <td>0</td>\n",
       "    </tr>\n",
       "  </tbody>\n",
       "</table>\n",
       "<p>5 rows × 39 columns</p>\n",
       "</div>"
      ],
      "text/plain": [
       "   VisitNumber  TripType_3  TripType_4  TripType_5  TripType_6  TripType_7  \\\n",
       "0            1           0           0           0           0           0   \n",
       "1            2           0           0           0           0           0   \n",
       "2            3           0           0           0           0           0   \n",
       "3            4           0           0           0           0           0   \n",
       "4            6           0           0           0           0           0   \n",
       "\n",
       "   TripType_8  TripType_9  TripType_12  TripType_14      ...       \\\n",
       "0           0           0            0            0      ...        \n",
       "1           0           0            0            0      ...        \n",
       "2           0           0            0            0      ...        \n",
       "3           0           0            0            0      ...        \n",
       "4           0           0            0            0      ...        \n",
       "\n",
       "   TripType_36  TripType_37  TripType_38  TripType_39  TripType_40  \\\n",
       "0            0            0            0            0            0   \n",
       "1            0            0            0            0            0   \n",
       "2            0            0            0            0            0   \n",
       "3            0            0            0            0            0   \n",
       "4            0            0            0            0            0   \n",
       "\n",
       "   TripType_41  TripType_42  TripType_43  TripType_44  TripType_999  \n",
       "0            0            0            0            0             0  \n",
       "1            0            0            0            0             0  \n",
       "2            0            0            0            0             0  \n",
       "3            0            0            0            0             0  \n",
       "4            0            0            0            0             0  \n",
       "\n",
       "[5 rows x 39 columns]"
      ]
     },
     "execution_count": 1181,
     "metadata": {},
     "output_type": "execute_result"
    }
   ],
   "source": [
    "samplesub.head()"
   ]
  },
  {
   "cell_type": "markdown",
   "metadata": {},
   "source": [
    "## Data Preprocessing"
   ]
  },
  {
   "cell_type": "markdown",
   "metadata": {},
   "source": [
    "## Check Train 'NaN' data before Imputation"
   ]
  },
  {
   "cell_type": "code",
   "execution_count": 1182,
   "metadata": {},
   "outputs": [
    {
     "data": {
      "text/html": [
       "<div>\n",
       "<style scoped>\n",
       "    .dataframe tbody tr th:only-of-type {\n",
       "        vertical-align: middle;\n",
       "    }\n",
       "\n",
       "    .dataframe tbody tr th {\n",
       "        vertical-align: top;\n",
       "    }\n",
       "\n",
       "    .dataframe thead th {\n",
       "        text-align: right;\n",
       "    }\n",
       "</style>\n",
       "<table border=\"1\" class=\"dataframe\">\n",
       "  <thead>\n",
       "    <tr style=\"text-align: right;\">\n",
       "      <th></th>\n",
       "      <th>MV_count</th>\n",
       "      <th>MV_ratio</th>\n",
       "    </tr>\n",
       "  </thead>\n",
       "  <tbody>\n",
       "    <tr>\n",
       "      <th>TripType</th>\n",
       "      <td>0</td>\n",
       "      <td>0.000000</td>\n",
       "    </tr>\n",
       "    <tr>\n",
       "      <th>VisitNumber</th>\n",
       "      <td>0</td>\n",
       "      <td>0.000000</td>\n",
       "    </tr>\n",
       "    <tr>\n",
       "      <th>Weekday</th>\n",
       "      <td>0</td>\n",
       "      <td>0.000000</td>\n",
       "    </tr>\n",
       "    <tr>\n",
       "      <th>Upc</th>\n",
       "      <td>4129</td>\n",
       "      <td>0.006381</td>\n",
       "    </tr>\n",
       "    <tr>\n",
       "      <th>ScanCount</th>\n",
       "      <td>0</td>\n",
       "      <td>0.000000</td>\n",
       "    </tr>\n",
       "    <tr>\n",
       "      <th>DepartmentDescription</th>\n",
       "      <td>1361</td>\n",
       "      <td>0.002103</td>\n",
       "    </tr>\n",
       "    <tr>\n",
       "      <th>FinelineNumber</th>\n",
       "      <td>4129</td>\n",
       "      <td>0.006381</td>\n",
       "    </tr>\n",
       "  </tbody>\n",
       "</table>\n",
       "</div>"
      ],
      "text/plain": [
       "                       MV_count  MV_ratio\n",
       "TripType                      0  0.000000\n",
       "VisitNumber                   0  0.000000\n",
       "Weekday                       0  0.000000\n",
       "Upc                        4129  0.006381\n",
       "ScanCount                     0  0.000000\n",
       "DepartmentDescription      1361  0.002103\n",
       "FinelineNumber             4129  0.006381"
      ]
     },
     "execution_count": 1182,
     "metadata": {},
     "output_type": "execute_result"
    }
   ],
   "source": [
    "train_desc = train.describe(include='all').transpose()\n",
    "train_desc['MV_count'] = train.isnull().sum()\n",
    "train_desc['MV_ratio'] = train_desc['MV_count']/train.shape[0]\n",
    "train_desc[['MV_count','MV_ratio']]"
   ]
  },
  {
   "cell_type": "markdown",
   "metadata": {},
   "source": [
    "## Check Test 'NaN' data before Imputation"
   ]
  },
  {
   "cell_type": "code",
   "execution_count": 1183,
   "metadata": {},
   "outputs": [
    {
     "data": {
      "text/html": [
       "<div>\n",
       "<style scoped>\n",
       "    .dataframe tbody tr th:only-of-type {\n",
       "        vertical-align: middle;\n",
       "    }\n",
       "\n",
       "    .dataframe tbody tr th {\n",
       "        vertical-align: top;\n",
       "    }\n",
       "\n",
       "    .dataframe thead th {\n",
       "        text-align: right;\n",
       "    }\n",
       "</style>\n",
       "<table border=\"1\" class=\"dataframe\">\n",
       "  <thead>\n",
       "    <tr style=\"text-align: right;\">\n",
       "      <th></th>\n",
       "      <th>MV_count</th>\n",
       "      <th>MV_ratio</th>\n",
       "    </tr>\n",
       "  </thead>\n",
       "  <tbody>\n",
       "    <tr>\n",
       "      <th>VisitNumber</th>\n",
       "      <td>0</td>\n",
       "      <td>0.000000</td>\n",
       "    </tr>\n",
       "    <tr>\n",
       "      <th>Weekday</th>\n",
       "      <td>0</td>\n",
       "      <td>0.000000</td>\n",
       "    </tr>\n",
       "    <tr>\n",
       "      <th>Upc</th>\n",
       "      <td>3986</td>\n",
       "      <td>0.006098</td>\n",
       "    </tr>\n",
       "    <tr>\n",
       "      <th>ScanCount</th>\n",
       "      <td>0</td>\n",
       "      <td>0.000000</td>\n",
       "    </tr>\n",
       "    <tr>\n",
       "      <th>DepartmentDescription</th>\n",
       "      <td>1328</td>\n",
       "      <td>0.002032</td>\n",
       "    </tr>\n",
       "    <tr>\n",
       "      <th>FinelineNumber</th>\n",
       "      <td>3986</td>\n",
       "      <td>0.006098</td>\n",
       "    </tr>\n",
       "  </tbody>\n",
       "</table>\n",
       "</div>"
      ],
      "text/plain": [
       "                       MV_count  MV_ratio\n",
       "VisitNumber                   0  0.000000\n",
       "Weekday                       0  0.000000\n",
       "Upc                        3986  0.006098\n",
       "ScanCount                     0  0.000000\n",
       "DepartmentDescription      1328  0.002032\n",
       "FinelineNumber             3986  0.006098"
      ]
     },
     "execution_count": 1183,
     "metadata": {},
     "output_type": "execute_result"
    }
   ],
   "source": [
    "test_desc = test.describe(include='all').transpose()\n",
    "test_desc['MV_count'] = test.isnull().sum()\n",
    "test_desc['MV_ratio'] = test_desc['MV_count']/test.shape[0]\n",
    "test_desc[['MV_count','MV_ratio']]"
   ]
  },
  {
   "cell_type": "markdown",
   "metadata": {},
   "source": [
    "## Preprocessing Step1 - Imputation \n",
    "아래 순서처럼 대분류, 중분류, 소분류 순으로 Imputation 한다.\n",
    "- DepartmentDescription \n",
    "- FinelineNumber\n",
    "- Upc"
   ]
  },
  {
   "cell_type": "markdown",
   "metadata": {},
   "source": [
    "### 1-1. Train - DepartmentDescription"
   ]
  },
  {
   "cell_type": "markdown",
   "metadata": {},
   "source": [
    "- VisitNumber에 따른 DepartmentDescription의 최빈값으로 DepartmentDescription의 NaN 값을 채움"
   ]
  },
  {
   "cell_type": "code",
   "execution_count": 1184,
   "metadata": {},
   "outputs": [
    {
     "data": {
      "text/html": [
       "<div>\n",
       "<style scoped>\n",
       "    .dataframe tbody tr th:only-of-type {\n",
       "        vertical-align: middle;\n",
       "    }\n",
       "\n",
       "    .dataframe tbody tr th {\n",
       "        vertical-align: top;\n",
       "    }\n",
       "\n",
       "    .dataframe thead th {\n",
       "        text-align: right;\n",
       "    }\n",
       "</style>\n",
       "<table border=\"1\" class=\"dataframe\">\n",
       "  <thead>\n",
       "    <tr style=\"text-align: right;\">\n",
       "      <th></th>\n",
       "      <th>TripType</th>\n",
       "      <th>VisitNumber</th>\n",
       "      <th>Weekday</th>\n",
       "      <th>Upc</th>\n",
       "      <th>ScanCount</th>\n",
       "      <th>DepartmentDescription</th>\n",
       "      <th>FinelineNumber</th>\n",
       "    </tr>\n",
       "  </thead>\n",
       "  <tbody>\n",
       "  </tbody>\n",
       "</table>\n",
       "</div>"
      ],
      "text/plain": [
       "Empty DataFrame\n",
       "Columns: [TripType, VisitNumber, Weekday, Upc, ScanCount, DepartmentDescription, FinelineNumber]\n",
       "Index: []"
      ]
     },
     "execution_count": 1184,
     "metadata": {},
     "output_type": "execute_result"
    }
   ],
   "source": [
    "# 일단 DepartmentDescription에 'MENSWEAR' 와 'MENS WEAR'가 구분되어 있던 것을 'MENS WEAR'로 통일\n",
    "train.loc[train['DepartmentDescription']=='MENSWEAR','DepartmentDescription']='MENS WEAR'\n",
    "train[train['DepartmentDescription']=='MENSWEAR']"
   ]
  },
  {
   "cell_type": "code",
   "execution_count": 1185,
   "metadata": {},
   "outputs": [
    {
     "data": {
      "text/plain": [
       "1361"
      ]
     },
     "execution_count": 1185,
     "metadata": {},
     "output_type": "execute_result"
    }
   ],
   "source": [
    "# before imputation\n",
    "train['DepartmentDescription'].isna().sum()"
   ]
  },
  {
   "cell_type": "code",
   "execution_count": 1186,
   "metadata": {},
   "outputs": [
    {
     "name": "stderr",
     "output_type": "stream",
     "text": [
      "100%|██████████| 1172/1172 [00:37<00:00, 31.00it/s]\n"
     ]
    }
   ],
   "source": [
    "# DepartmentDescription이 NaN 값인 데이터의 VisitNumber 리스트\n",
    "DD_null_VM = train[train['DepartmentDescription'].isna()]['VisitNumber'].unique()\n",
    "# VisitNumber에 따른 DepartmentDescription의 최빈값으로 DepartmentDescription의 NaN 값을 채움\n",
    "for idx in tqdm(DD_null_VM):\n",
    "    if len(train[train[\"VisitNumber\"] == idx][\"DepartmentDescription\"].value_counts().index) != 0:\n",
    "        train.loc[(train[\"VisitNumber\"] == idx)&(train[\"DepartmentDescription\"].isna()), \"DepartmentDescription\"] \\\n",
    "        = train[train[\"VisitNumber\"] == idx][\"DepartmentDescription\"].value_counts().index[0]"
   ]
  },
  {
   "cell_type": "code",
   "execution_count": 1187,
   "metadata": {},
   "outputs": [
    {
     "data": {
      "text/plain": [
       "191"
      ]
     },
     "execution_count": 1187,
     "metadata": {},
     "output_type": "execute_result"
    }
   ],
   "source": [
    "# after imputation step1\n",
    "train['DepartmentDescription'].isna().sum()"
   ]
  },
  {
   "cell_type": "code",
   "execution_count": 1188,
   "metadata": {},
   "outputs": [],
   "source": [
    "# 아직 처리하지 못한 총 191개 데이터는 VisitNumber 따른 DepartmentDescription 값이 모두 비어있는 경우인데\n",
    "# 이 경우 TripType이 모두 999이 때문에 그런 DepartmentDescription는 TripType 999의 DepartmentDescription 최빈값으로 imputation 함.\n",
    "train.loc[train[\"DepartmentDescription\"].isna(), \"DepartmentDescription\"] \\\n",
    "= train[train[\"TripType\"] == 999][\"DepartmentDescription\"].value_counts().index[0]"
   ]
  },
  {
   "cell_type": "code",
   "execution_count": 1189,
   "metadata": {},
   "outputs": [
    {
     "data": {
      "text/plain": [
       "'FINANCIAL SERVICES'"
      ]
     },
     "execution_count": 1189,
     "metadata": {},
     "output_type": "execute_result"
    }
   ],
   "source": [
    "train[train[\"TripType\"] == 999][\"DepartmentDescription\"].value_counts().index[0]"
   ]
  },
  {
   "cell_type": "code",
   "execution_count": 1190,
   "metadata": {},
   "outputs": [
    {
     "data": {
      "text/plain": [
       "0"
      ]
     },
     "execution_count": 1190,
     "metadata": {},
     "output_type": "execute_result"
    }
   ],
   "source": [
    "# after imputation step2\n",
    "train['DepartmentDescription'].isna().sum()"
   ]
  },
  {
   "cell_type": "markdown",
   "metadata": {},
   "source": [
    "### 1-2. Test - DepartmentDescription"
   ]
  },
  {
   "cell_type": "markdown",
   "metadata": {},
   "source": [
    "- VisitNumber에 따른 DepartmentDescription의 최빈값으로 DepartmentDescription의 NaN 값을 채움"
   ]
  },
  {
   "cell_type": "code",
   "execution_count": 1191,
   "metadata": {},
   "outputs": [],
   "source": [
    "test = pd.read_csv(\"./data/test.csv\")"
   ]
  },
  {
   "cell_type": "code",
   "execution_count": 1192,
   "metadata": {},
   "outputs": [
    {
     "data": {
      "text/html": [
       "<div>\n",
       "<style scoped>\n",
       "    .dataframe tbody tr th:only-of-type {\n",
       "        vertical-align: middle;\n",
       "    }\n",
       "\n",
       "    .dataframe tbody tr th {\n",
       "        vertical-align: top;\n",
       "    }\n",
       "\n",
       "    .dataframe thead th {\n",
       "        text-align: right;\n",
       "    }\n",
       "</style>\n",
       "<table border=\"1\" class=\"dataframe\">\n",
       "  <thead>\n",
       "    <tr style=\"text-align: right;\">\n",
       "      <th></th>\n",
       "      <th>VisitNumber</th>\n",
       "      <th>Weekday</th>\n",
       "      <th>Upc</th>\n",
       "      <th>ScanCount</th>\n",
       "      <th>DepartmentDescription</th>\n",
       "      <th>FinelineNumber</th>\n",
       "    </tr>\n",
       "  </thead>\n",
       "  <tbody>\n",
       "  </tbody>\n",
       "</table>\n",
       "</div>"
      ],
      "text/plain": [
       "Empty DataFrame\n",
       "Columns: [VisitNumber, Weekday, Upc, ScanCount, DepartmentDescription, FinelineNumber]\n",
       "Index: []"
      ]
     },
     "execution_count": 1192,
     "metadata": {},
     "output_type": "execute_result"
    }
   ],
   "source": [
    "# 일단 DepartmentDescription에 'MENSWEAR' 와 'MENS WEAR'가 구분되어 있던 것을 'MENS WEAR'로 통일\n",
    "test.loc[test['DepartmentDescription']=='MENSWEAR','DepartmentDescription']='MENS WEAR'\n",
    "test[test['DepartmentDescription']=='MENSWEAR']"
   ]
  },
  {
   "cell_type": "code",
   "execution_count": 1193,
   "metadata": {},
   "outputs": [
    {
     "data": {
      "text/plain": [
       "1328"
      ]
     },
     "execution_count": 1193,
     "metadata": {},
     "output_type": "execute_result"
    }
   ],
   "source": [
    "# before imputation\n",
    "test['DepartmentDescription'].isna().sum()"
   ]
  },
  {
   "cell_type": "code",
   "execution_count": 1194,
   "metadata": {},
   "outputs": [
    {
     "name": "stderr",
     "output_type": "stream",
     "text": [
      "100%|██████████| 1141/1141 [00:35<00:00, 31.97it/s]\n"
     ]
    }
   ],
   "source": [
    "# DepartmentDescription이 NaN 값인 데이터의 VisitNumber 리스트\n",
    "DD_null_VM = test[test['DepartmentDescription'].isna()]['VisitNumber'].unique()\n",
    "# VisitNumber에 따른 DepartmentDescription의 최빈값으로 DepartmentDescription의 NaN 값을 채움\n",
    "for idx in tqdm(DD_null_VM):\n",
    "    if len(test[test[\"VisitNumber\"] == idx][\"DepartmentDescription\"].value_counts().index) != 0:\n",
    "        test.loc[(test[\"VisitNumber\"] == idx)&(test[\"DepartmentDescription\"].isna()), \"DepartmentDescription\"] \\\n",
    "        = test[test[\"VisitNumber\"] == idx][\"DepartmentDescription\"].value_counts().index[0]"
   ]
  },
  {
   "cell_type": "code",
   "execution_count": 1195,
   "metadata": {},
   "outputs": [
    {
     "data": {
      "text/plain": [
       "219"
      ]
     },
     "execution_count": 1195,
     "metadata": {},
     "output_type": "execute_result"
    }
   ],
   "source": [
    "# after imputation step1\n",
    "test['DepartmentDescription'].isna().sum()"
   ]
  },
  {
   "cell_type": "code",
   "execution_count": 1196,
   "metadata": {},
   "outputs": [],
   "source": [
    "# 아직 처리하지 못한 총 219개 데이터는 VisitNumber 따른 DepartmentDescription 값이 모두 비어있는 경우인데\n",
    "# 이 경우 Train데이터에서 TripType이 모두 999이었고 그런 DepartmentDescription의 최빈값인 'FINANCIAL SERVICES'로 imputaion 함.\n",
    "test.loc[test[\"DepartmentDescription\"].isna(), \"DepartmentDescription\"] = 'FINANCIAL SERVICES'"
   ]
  },
  {
   "cell_type": "code",
   "execution_count": 1197,
   "metadata": {},
   "outputs": [
    {
     "data": {
      "text/plain": [
       "'FINANCIAL SERVICES'"
      ]
     },
     "execution_count": 1197,
     "metadata": {},
     "output_type": "execute_result"
    }
   ],
   "source": [
    "train[train[\"TripType\"] == 999][\"DepartmentDescription\"].value_counts().index[0]"
   ]
  },
  {
   "cell_type": "code",
   "execution_count": 1198,
   "metadata": {},
   "outputs": [
    {
     "data": {
      "text/plain": [
       "0"
      ]
     },
     "execution_count": 1198,
     "metadata": {},
     "output_type": "execute_result"
    }
   ],
   "source": [
    "# after imputation step2\n",
    "test['DepartmentDescription'].isna().sum()"
   ]
  },
  {
   "cell_type": "markdown",
   "metadata": {},
   "source": [
    "### 2-1. Train - FinelineNumber"
   ]
  },
  {
   "cell_type": "markdown",
   "metadata": {},
   "source": [
    "- VisitNumber에 따른 FinelineNumber의 최빈값으로 FinelineNumber의 NaN 값을 채움"
   ]
  },
  {
   "cell_type": "code",
   "execution_count": 1199,
   "metadata": {},
   "outputs": [
    {
     "data": {
      "text/plain": [
       "4129"
      ]
     },
     "execution_count": 1199,
     "metadata": {},
     "output_type": "execute_result"
    }
   ],
   "source": [
    "# before imputation\n",
    "train['FinelineNumber'].isna().sum()"
   ]
  },
  {
   "cell_type": "code",
   "execution_count": 1200,
   "metadata": {},
   "outputs": [
    {
     "name": "stderr",
     "output_type": "stream",
     "text": [
      "100%|██████████| 2754/2754 [00:15<00:00, 178.30it/s]\n"
     ]
    }
   ],
   "source": [
    "# DepartmentDescription이 NaN 값인 데이터의 VisitNumber 리스트\n",
    "DD_null_VM = train[train['FinelineNumber'].isna()]['VisitNumber'].unique()\n",
    "# VisitNumber에 따른 DepartmentDescription의 최빈값으로 DepartmentDescription의 NaN 값을 채움\n",
    "for idx in tqdm(DD_null_VM):\n",
    "    if len(train[train[\"VisitNumber\"] == idx][\"FinelineNumber\"].value_counts().index) != 0:\n",
    "        train.loc[(train[\"VisitNumber\"] == idx)&(train[\"FinelineNumber\"].isna()), \"FinelineNumber\"] \\\n",
    "        = train[train[\"VisitNumber\"] == idx][\"FinelineNumber\"].value_counts().index[0]"
   ]
  },
  {
   "cell_type": "code",
   "execution_count": 1201,
   "metadata": {},
   "outputs": [
    {
     "data": {
      "text/plain": [
       "2369"
      ]
     },
     "execution_count": 1201,
     "metadata": {},
     "output_type": "execute_result"
    }
   ],
   "source": [
    "# after imputation step1\n",
    "train['FinelineNumber'].isna().sum()"
   ]
  },
  {
   "cell_type": "code",
   "execution_count": 1202,
   "metadata": {},
   "outputs": [
    {
     "data": {
      "text/plain": [
       "5      2089\n",
       "999     280\n",
       "Name: TripType, dtype: int64"
      ]
     },
     "execution_count": 1202,
     "metadata": {},
     "output_type": "execute_result"
    }
   ],
   "source": [
    "# 아직 처리하지 못한 총 2369개 데이터는 TripType으로 구분해보면 5와 999 두 개로 나뉜다.\n",
    "train[train['FinelineNumber'].isna()]['TripType'].value_counts()"
   ]
  },
  {
   "cell_type": "code",
   "execution_count": 1203,
   "metadata": {},
   "outputs": [
    {
     "data": {
      "text/plain": [
       "Int64Index([ 74003,  52567, 111813, 114942, 156445,  83995,  41497,  79927,\n",
       "              1860,  69775,\n",
       "            ...\n",
       "            168331,  78201, 127351,  78197, 168307,  16747,  14684, 102743,\n",
       "              2390,  16384],\n",
       "           dtype='int64', length=1427)"
      ]
     },
     "execution_count": 1203,
     "metadata": {},
     "output_type": "execute_result"
    }
   ],
   "source": [
    "train_after_step1_FL_null_VM_list = train[train['FinelineNumber'].isna()]['VisitNumber'].value_counts().index\n",
    "train_after_step1_FL_null_VM_list"
   ]
  },
  {
   "cell_type": "code",
   "execution_count": 1204,
   "metadata": {},
   "outputs": [],
   "source": [
    "# 따라서 각 TripType의 최빈 FinelineNumber 값으로 imputation 함.\n",
    "train.loc[(train[\"TripType\"] == 5)&(train[\"FinelineNumber\"].isna()), \"FinelineNumber\"] \\\n",
    "= train[train[\"TripType\"] == 5][\"FinelineNumber\"].value_counts().index[0]\n",
    "train.loc[(train[\"TripType\"] == 999)&(train[\"FinelineNumber\"].isna()), \"FinelineNumber\"] \\\n",
    "= train[train[\"TripType\"] == 999][\"FinelineNumber\"].value_counts().index[0]"
   ]
  },
  {
   "cell_type": "code",
   "execution_count": 1205,
   "metadata": {},
   "outputs": [
    {
     "data": {
      "text/plain": [
       "5501.0"
      ]
     },
     "execution_count": 1205,
     "metadata": {},
     "output_type": "execute_result"
    }
   ],
   "source": [
    "train[train[\"TripType\"] == 5][\"FinelineNumber\"].value_counts().index[0]"
   ]
  },
  {
   "cell_type": "code",
   "execution_count": 1206,
   "metadata": {},
   "outputs": [
    {
     "data": {
      "text/plain": [
       "279.0"
      ]
     },
     "execution_count": 1206,
     "metadata": {},
     "output_type": "execute_result"
    }
   ],
   "source": [
    "train[train[\"TripType\"] == 999][\"FinelineNumber\"].value_counts().index[0]"
   ]
  },
  {
   "cell_type": "code",
   "execution_count": 1207,
   "metadata": {
    "scrolled": true
   },
   "outputs": [
    {
     "data": {
      "text/plain": [
       "0"
      ]
     },
     "execution_count": 1207,
     "metadata": {},
     "output_type": "execute_result"
    }
   ],
   "source": [
    "# after imputation step2\n",
    "train['FinelineNumber'].isna().sum()"
   ]
  },
  {
   "cell_type": "markdown",
   "metadata": {},
   "source": [
    "### 2-2. Test - FinelineNumber"
   ]
  },
  {
   "cell_type": "markdown",
   "metadata": {},
   "source": [
    "- VisitNumber에 따른 FinelineNumber의 최빈값으로 FinelineNumber의 NaN 값을 채움"
   ]
  },
  {
   "cell_type": "code",
   "execution_count": 1208,
   "metadata": {},
   "outputs": [
    {
     "data": {
      "text/plain": [
       "3986"
      ]
     },
     "execution_count": 1208,
     "metadata": {},
     "output_type": "execute_result"
    }
   ],
   "source": [
    "# before imputation\n",
    "test['FinelineNumber'].isna().sum()"
   ]
  },
  {
   "cell_type": "code",
   "execution_count": 1209,
   "metadata": {},
   "outputs": [
    {
     "name": "stderr",
     "output_type": "stream",
     "text": [
      "100%|██████████| 2706/2706 [00:15<00:00, 176.47it/s]\n"
     ]
    }
   ],
   "source": [
    "# DepartmentDescription이 NaN 값인 데이터의 VisitNumber 리스트\n",
    "DD_null_VM = test[test['FinelineNumber'].isna()]['VisitNumber'].unique()\n",
    "# VisitNumber에 따른 DepartmentDescription의 최빈값으로 DepartmentDescription의 NaN 값을 채움\n",
    "for idx in tqdm(DD_null_VM):\n",
    "    if len(test[test[\"VisitNumber\"] == idx][\"FinelineNumber\"].value_counts().index) != 0:\n",
    "        test.loc[(test[\"VisitNumber\"] == idx)&(test[\"FinelineNumber\"].isna()), \"FinelineNumber\"] \\\n",
    "        = test[test[\"VisitNumber\"] == idx][\"FinelineNumber\"].value_counts().index[0]"
   ]
  },
  {
   "cell_type": "code",
   "execution_count": 1210,
   "metadata": {},
   "outputs": [
    {
     "data": {
      "text/plain": [
       "2257"
      ]
     },
     "execution_count": 1210,
     "metadata": {},
     "output_type": "execute_result"
    }
   ],
   "source": [
    "# after imputation step1\n",
    "test['FinelineNumber'].isna().sum()"
   ]
  },
  {
   "cell_type": "code",
   "execution_count": 1211,
   "metadata": {},
   "outputs": [],
   "source": [
    "# 아직 처리하지 못한 총 2257개 데이터는 VisitNumber 따른 FinelineNumber 값이 모두 비어있는 경우인데\n",
    "# 이 경우 Train데이터에서 TripType이 5 혹은 999이어서 그에 맞춰 FinelineNumber의 최빈값을 imputation할 수 있었지만\n",
    "# Test데이터는 TripType을 기준으로 imputation 할 수 없고 train데이터와 VisitNumber와 도 겹치지 않기 때문에\n",
    "# Train데이터와 Test데이터의 Weekday, ScanCount, DepartmentDescription을 기준으로 FinelineNumber를 imputation 함."
   ]
  },
  {
   "cell_type": "code",
   "execution_count": 1212,
   "metadata": {},
   "outputs": [
    {
     "data": {
      "text/plain": [
       "[]"
      ]
     },
     "execution_count": 1212,
     "metadata": {},
     "output_type": "execute_result"
    }
   ],
   "source": [
    "# train데이터와 test데이터의 imputation step1 이후의 VisitNumber가 겹치지 않음\n",
    "test_after_step1_FL_null_VM_list = test[test['FinelineNumber'].isna()]['VisitNumber'].value_counts().index\n",
    "[i for i in test_after_step1_FL_null_VM_list if i in train_after_step1_FL_null_VM_list]"
   ]
  },
  {
   "cell_type": "code",
   "execution_count": 1213,
   "metadata": {
    "scrolled": true
   },
   "outputs": [],
   "source": [
    "def test_FinelineNumber_or_Upc_imputation_step2(feature):\n",
    "    print('Let\\'s start '+str(feature)+' imputation\\n')\n",
    "    for weekday in train['Weekday'].unique():\n",
    "        print('============ Start Weekday: '+str(weekday) +' ============\\n')\n",
    "        for scancount in [2,1,-1,-2,-3,-4,-5]:\n",
    "            print('------------ Start ScanCount: '+str(scancount)+' ------------')\n",
    "            for dd in ['PHARMACY RX','FINANCIAL SERVICES']:\n",
    "                try:\n",
    "                    print('\\n[ DepartmentDescription: \\''+str(dd)+'\\' ]'\n",
    "                          +'\\nthis combination contains: '\n",
    "                          +str(len(test.loc[(test[feature].isna())&(test['Weekday']==weekday)\n",
    "                                       &(test['ScanCount']==scancount)\n",
    "                                       &(test['DepartmentDescription']==dd),feature])))\n",
    "                    test.loc[(test[feature].isna())\n",
    "                         &(test['Weekday']==weekday)\n",
    "                         &(test['ScanCount']==scancount)\n",
    "                         &(test['DepartmentDescription']==dd),feature]\\\n",
    "                    = train.loc[(train['Weekday']==weekday)\n",
    "                            &(train['ScanCount']==scancount)\n",
    "                            &(train['DepartmentDescription']==dd)\n",
    "                            &(train['TripType'] == train.loc[(train['Weekday']==weekday)\n",
    "                                                             &(train['ScanCount']==scancount)\n",
    "                                                             &(train['DepartmentDescription']==dd),\n",
    "                                                             'TripType'].value_counts().index[0]),\n",
    "                                feature].value_counts().index[0]\n",
    "                    print('after this combination imputation, NaN still remains: '\n",
    "                          +str(test[feature].isna().sum()))\n",
    "\n",
    "\n",
    "                except IndexError:\n",
    "                    print('\\n[ DepartmentDescription: \\''+str(dd)+'\\' ]'\n",
    "                          +'\\nthis combination doesn\\'t exist, so let\\'s except train scancount condition, then it contains: '\n",
    "                          +str(len(test.loc[(test[feature].isna())&(test['Weekday']==weekday)\n",
    "                                       &(test['ScanCount']==scancount)\n",
    "                                       &(test['DepartmentDescription']==dd),feature])))\n",
    "                    test.loc[(test[feature].isna())\n",
    "                         &(test['Weekday']==weekday)\n",
    "                         &(test['ScanCount']==scancount)\n",
    "                         &(test['DepartmentDescription']==dd),feature]\\\n",
    "                    = train.loc[(train['Weekday']==weekday)\n",
    "                            &(train['DepartmentDescription']==dd)\n",
    "                            &(train['TripType'] == train.loc[(train['Weekday']==weekday)\n",
    "                                                             &(train['DepartmentDescription']==dd),\n",
    "                                                             'TripType'].value_counts().index[0]),\n",
    "                                feature].value_counts().index[0]\n",
    "                    print('after this combination imputation, NaN still remains: '\n",
    "                          +str(test[feature].isna().sum()))\n",
    "            print('\\n------------ Finish ScanCount: '+str(scancount)+' ------------\\n')\n",
    "        print('============ Finish Weekday: '+str(weekday)+' ============\\n')\n",
    "    print(str(feature)+' Imputation Finished!')    \n",
    "    return print('After '+str(feature)+' Imputation, NaN count: '+str(test[feature].isna().sum()))"
   ]
  },
  {
   "cell_type": "code",
   "execution_count": 1214,
   "metadata": {},
   "outputs": [
    {
     "name": "stdout",
     "output_type": "stream",
     "text": [
      "Let's start FinelineNumber imputation\n",
      "\n",
      "============ Start Weekday: Friday ============\n",
      "\n",
      "------------ Start ScanCount: 2 ------------\n",
      "\n",
      "[ DepartmentDescription: 'PHARMACY RX' ]\n",
      "this combination contains: 0\n",
      "after this combination imputation, NaN still remains: 2257\n",
      "\n",
      "[ DepartmentDescription: 'FINANCIAL SERVICES' ]\n",
      "this combination contains: 1\n",
      "after this combination imputation, NaN still remains: 2256\n",
      "\n",
      "------------ Finish ScanCount: 2 ------------\n",
      "\n",
      "------------ Start ScanCount: 1 ------------\n",
      "\n",
      "[ DepartmentDescription: 'PHARMACY RX' ]\n",
      "this combination contains: 376\n",
      "after this combination imputation, NaN still remains: 1880\n",
      "\n",
      "[ DepartmentDescription: 'FINANCIAL SERVICES' ]\n",
      "this combination contains: 5\n",
      "after this combination imputation, NaN still remains: 1875\n",
      "\n",
      "------------ Finish ScanCount: 1 ------------\n",
      "\n",
      "------------ Start ScanCount: -1 ------------\n",
      "\n",
      "[ DepartmentDescription: 'PHARMACY RX' ]\n",
      "this combination contains: 7\n",
      "after this combination imputation, NaN still remains: 1868\n",
      "\n",
      "[ DepartmentDescription: 'FINANCIAL SERVICES' ]\n",
      "this combination contains: 19\n",
      "after this combination imputation, NaN still remains: 1849\n",
      "\n",
      "------------ Finish ScanCount: -1 ------------\n",
      "\n",
      "------------ Start ScanCount: -2 ------------\n",
      "\n",
      "[ DepartmentDescription: 'PHARMACY RX' ]\n",
      "this combination contains: 0\n",
      "\n",
      "[ DepartmentDescription: 'PHARMACY RX' ]\n",
      "this combination doesn't exist, so let's except train scancount condition, then it contains: 0\n",
      "after this combination imputation, NaN still remains: 1849\n",
      "\n",
      "[ DepartmentDescription: 'FINANCIAL SERVICES' ]\n",
      "this combination contains: 1\n",
      "after this combination imputation, NaN still remains: 1848\n",
      "\n",
      "------------ Finish ScanCount: -2 ------------\n",
      "\n",
      "------------ Start ScanCount: -3 ------------\n",
      "\n",
      "[ DepartmentDescription: 'PHARMACY RX' ]\n",
      "this combination contains: 0\n",
      "after this combination imputation, NaN still remains: 1848\n",
      "\n",
      "[ DepartmentDescription: 'FINANCIAL SERVICES' ]\n",
      "this combination contains: 0\n",
      "after this combination imputation, NaN still remains: 1848\n",
      "\n",
      "------------ Finish ScanCount: -3 ------------\n",
      "\n",
      "------------ Start ScanCount: -4 ------------\n",
      "\n",
      "[ DepartmentDescription: 'PHARMACY RX' ]\n",
      "this combination contains: 0\n",
      "\n",
      "[ DepartmentDescription: 'PHARMACY RX' ]\n",
      "this combination doesn't exist, so let's except train scancount condition, then it contains: 0\n",
      "after this combination imputation, NaN still remains: 1848\n",
      "\n",
      "[ DepartmentDescription: 'FINANCIAL SERVICES' ]\n",
      "this combination contains: 0\n",
      "after this combination imputation, NaN still remains: 1848\n",
      "\n",
      "------------ Finish ScanCount: -4 ------------\n",
      "\n",
      "------------ Start ScanCount: -5 ------------\n",
      "\n",
      "[ DepartmentDescription: 'PHARMACY RX' ]\n",
      "this combination contains: 0\n",
      "\n",
      "[ DepartmentDescription: 'PHARMACY RX' ]\n",
      "this combination doesn't exist, so let's except train scancount condition, then it contains: 0\n",
      "after this combination imputation, NaN still remains: 1848\n",
      "\n",
      "[ DepartmentDescription: 'FINANCIAL SERVICES' ]\n",
      "this combination contains: 0\n",
      "\n",
      "[ DepartmentDescription: 'FINANCIAL SERVICES' ]\n",
      "this combination doesn't exist, so let's except train scancount condition, then it contains: 0\n",
      "after this combination imputation, NaN still remains: 1848\n",
      "\n",
      "------------ Finish ScanCount: -5 ------------\n",
      "\n",
      "============ Finish Weekday: Friday ============\n",
      "\n",
      "============ Start Weekday: Saturday ============\n",
      "\n",
      "------------ Start ScanCount: 2 ------------\n",
      "\n",
      "[ DepartmentDescription: 'PHARMACY RX' ]\n",
      "this combination contains: 0\n",
      "after this combination imputation, NaN still remains: 1848\n",
      "\n",
      "[ DepartmentDescription: 'FINANCIAL SERVICES' ]\n",
      "this combination contains: 2\n",
      "after this combination imputation, NaN still remains: 1846\n",
      "\n",
      "------------ Finish ScanCount: 2 ------------\n",
      "\n",
      "------------ Start ScanCount: 1 ------------\n",
      "\n",
      "[ DepartmentDescription: 'PHARMACY RX' ]\n",
      "this combination contains: 294\n",
      "after this combination imputation, NaN still remains: 1552\n",
      "\n",
      "[ DepartmentDescription: 'FINANCIAL SERVICES' ]\n",
      "this combination contains: 28\n",
      "after this combination imputation, NaN still remains: 1524\n",
      "\n",
      "------------ Finish ScanCount: 1 ------------\n",
      "\n",
      "------------ Start ScanCount: -1 ------------\n",
      "\n",
      "[ DepartmentDescription: 'PHARMACY RX' ]\n",
      "this combination contains: 2\n",
      "after this combination imputation, NaN still remains: 1522\n",
      "\n",
      "[ DepartmentDescription: 'FINANCIAL SERVICES' ]\n",
      "this combination contains: 14\n",
      "after this combination imputation, NaN still remains: 1508\n",
      "\n",
      "------------ Finish ScanCount: -1 ------------\n",
      "\n",
      "------------ Start ScanCount: -2 ------------\n",
      "\n",
      "[ DepartmentDescription: 'PHARMACY RX' ]\n",
      "this combination contains: 0\n",
      "\n",
      "[ DepartmentDescription: 'PHARMACY RX' ]\n",
      "this combination doesn't exist, so let's except train scancount condition, then it contains: 0\n",
      "after this combination imputation, NaN still remains: 1508\n",
      "\n",
      "[ DepartmentDescription: 'FINANCIAL SERVICES' ]\n",
      "this combination contains: 3\n",
      "after this combination imputation, NaN still remains: 1505\n",
      "\n",
      "------------ Finish ScanCount: -2 ------------\n",
      "\n",
      "------------ Start ScanCount: -3 ------------\n",
      "\n",
      "[ DepartmentDescription: 'PHARMACY RX' ]\n",
      "this combination contains: 0\n",
      "\n",
      "[ DepartmentDescription: 'PHARMACY RX' ]\n",
      "this combination doesn't exist, so let's except train scancount condition, then it contains: 0\n",
      "after this combination imputation, NaN still remains: 1505\n",
      "\n",
      "[ DepartmentDescription: 'FINANCIAL SERVICES' ]\n",
      "this combination contains: 0\n",
      "\n",
      "[ DepartmentDescription: 'FINANCIAL SERVICES' ]\n",
      "this combination doesn't exist, so let's except train scancount condition, then it contains: 0\n",
      "after this combination imputation, NaN still remains: 1505\n",
      "\n",
      "------------ Finish ScanCount: -3 ------------\n",
      "\n",
      "------------ Start ScanCount: -4 ------------\n",
      "\n",
      "[ DepartmentDescription: 'PHARMACY RX' ]\n",
      "this combination contains: 0\n",
      "\n",
      "[ DepartmentDescription: 'PHARMACY RX' ]\n",
      "this combination doesn't exist, so let's except train scancount condition, then it contains: 0\n",
      "after this combination imputation, NaN still remains: 1505\n",
      "\n",
      "[ DepartmentDescription: 'FINANCIAL SERVICES' ]\n",
      "this combination contains: 0\n",
      "\n",
      "[ DepartmentDescription: 'FINANCIAL SERVICES' ]\n",
      "this combination doesn't exist, so let's except train scancount condition, then it contains: 0\n",
      "after this combination imputation, NaN still remains: 1505\n",
      "\n",
      "------------ Finish ScanCount: -4 ------------\n",
      "\n",
      "------------ Start ScanCount: -5 ------------\n",
      "\n",
      "[ DepartmentDescription: 'PHARMACY RX' ]\n",
      "this combination contains: 0\n",
      "\n",
      "[ DepartmentDescription: 'PHARMACY RX' ]\n",
      "this combination doesn't exist, so let's except train scancount condition, then it contains: 0\n",
      "after this combination imputation, NaN still remains: 1505\n",
      "\n",
      "[ DepartmentDescription: 'FINANCIAL SERVICES' ]\n",
      "this combination contains: 1\n",
      "\n",
      "[ DepartmentDescription: 'FINANCIAL SERVICES' ]\n",
      "this combination doesn't exist, so let's except train scancount condition, then it contains: 1\n",
      "after this combination imputation, NaN still remains: 1504\n",
      "\n",
      "------------ Finish ScanCount: -5 ------------\n",
      "\n",
      "============ Finish Weekday: Saturday ============\n",
      "\n",
      "============ Start Weekday: Sunday ============\n",
      "\n",
      "------------ Start ScanCount: 2 ------------\n",
      "\n",
      "[ DepartmentDescription: 'PHARMACY RX' ]\n",
      "this combination contains: 0\n",
      "\n",
      "[ DepartmentDescription: 'PHARMACY RX' ]\n",
      "this combination doesn't exist, so let's except train scancount condition, then it contains: 0\n",
      "after this combination imputation, NaN still remains: 1504\n",
      "\n",
      "[ DepartmentDescription: 'FINANCIAL SERVICES' ]\n",
      "this combination contains: 2\n",
      "after this combination imputation, NaN still remains: 1502\n",
      "\n",
      "------------ Finish ScanCount: 2 ------------\n",
      "\n",
      "------------ Start ScanCount: 1 ------------\n",
      "\n",
      "[ DepartmentDescription: 'PHARMACY RX' ]\n",
      "this combination contains: 146\n",
      "after this combination imputation, NaN still remains: 1356\n",
      "\n",
      "[ DepartmentDescription: 'FINANCIAL SERVICES' ]\n",
      "this combination contains: 12\n",
      "after this combination imputation, NaN still remains: 1344\n",
      "\n",
      "------------ Finish ScanCount: 1 ------------\n",
      "\n",
      "------------ Start ScanCount: -1 ------------\n",
      "\n",
      "[ DepartmentDescription: 'PHARMACY RX' ]\n",
      "this combination contains: 2\n",
      "after this combination imputation, NaN still remains: 1342\n",
      "\n",
      "[ DepartmentDescription: 'FINANCIAL SERVICES' ]\n",
      "this combination contains: 17\n",
      "after this combination imputation, NaN still remains: 1325\n",
      "\n",
      "------------ Finish ScanCount: -1 ------------\n",
      "\n",
      "------------ Start ScanCount: -2 ------------\n",
      "\n",
      "[ DepartmentDescription: 'PHARMACY RX' ]\n",
      "this combination contains: 0\n"
     ]
    },
    {
     "name": "stdout",
     "output_type": "stream",
     "text": [
      "\n",
      "[ DepartmentDescription: 'PHARMACY RX' ]\n",
      "this combination doesn't exist, so let's except train scancount condition, then it contains: 0\n",
      "after this combination imputation, NaN still remains: 1325\n",
      "\n",
      "[ DepartmentDescription: 'FINANCIAL SERVICES' ]\n",
      "this combination contains: 0\n",
      "after this combination imputation, NaN still remains: 1325\n",
      "\n",
      "------------ Finish ScanCount: -2 ------------\n",
      "\n",
      "------------ Start ScanCount: -3 ------------\n",
      "\n",
      "[ DepartmentDescription: 'PHARMACY RX' ]\n",
      "this combination contains: 0\n",
      "\n",
      "[ DepartmentDescription: 'PHARMACY RX' ]\n",
      "this combination doesn't exist, so let's except train scancount condition, then it contains: 0\n",
      "after this combination imputation, NaN still remains: 1325\n",
      "\n",
      "[ DepartmentDescription: 'FINANCIAL SERVICES' ]\n",
      "this combination contains: 0\n",
      "after this combination imputation, NaN still remains: 1325\n",
      "\n",
      "------------ Finish ScanCount: -3 ------------\n",
      "\n",
      "------------ Start ScanCount: -4 ------------\n",
      "\n",
      "[ DepartmentDescription: 'PHARMACY RX' ]\n",
      "this combination contains: 0\n",
      "\n",
      "[ DepartmentDescription: 'PHARMACY RX' ]\n",
      "this combination doesn't exist, so let's except train scancount condition, then it contains: 0\n",
      "after this combination imputation, NaN still remains: 1325\n",
      "\n",
      "[ DepartmentDescription: 'FINANCIAL SERVICES' ]\n",
      "this combination contains: 1\n",
      "\n",
      "[ DepartmentDescription: 'FINANCIAL SERVICES' ]\n",
      "this combination doesn't exist, so let's except train scancount condition, then it contains: 1\n",
      "after this combination imputation, NaN still remains: 1324\n",
      "\n",
      "------------ Finish ScanCount: -4 ------------\n",
      "\n",
      "------------ Start ScanCount: -5 ------------\n",
      "\n",
      "[ DepartmentDescription: 'PHARMACY RX' ]\n",
      "this combination contains: 0\n",
      "\n",
      "[ DepartmentDescription: 'PHARMACY RX' ]\n",
      "this combination doesn't exist, so let's except train scancount condition, then it contains: 0\n",
      "after this combination imputation, NaN still remains: 1324\n",
      "\n",
      "[ DepartmentDescription: 'FINANCIAL SERVICES' ]\n",
      "this combination contains: 0\n",
      "\n",
      "[ DepartmentDescription: 'FINANCIAL SERVICES' ]\n",
      "this combination doesn't exist, so let's except train scancount condition, then it contains: 0\n",
      "after this combination imputation, NaN still remains: 1324\n",
      "\n",
      "------------ Finish ScanCount: -5 ------------\n",
      "\n",
      "============ Finish Weekday: Sunday ============\n",
      "\n",
      "============ Start Weekday: Monday ============\n",
      "\n",
      "------------ Start ScanCount: 2 ------------\n",
      "\n",
      "[ DepartmentDescription: 'PHARMACY RX' ]\n",
      "this combination contains: 0\n",
      "after this combination imputation, NaN still remains: 1324\n",
      "\n",
      "[ DepartmentDescription: 'FINANCIAL SERVICES' ]\n",
      "this combination contains: 0\n",
      "after this combination imputation, NaN still remains: 1324\n",
      "\n",
      "------------ Finish ScanCount: 2 ------------\n",
      "\n",
      "------------ Start ScanCount: 1 ------------\n",
      "\n",
      "[ DepartmentDescription: 'PHARMACY RX' ]\n",
      "this combination contains: 244\n",
      "after this combination imputation, NaN still remains: 1080\n",
      "\n",
      "[ DepartmentDescription: 'FINANCIAL SERVICES' ]\n",
      "this combination contains: 11\n",
      "after this combination imputation, NaN still remains: 1069\n",
      "\n",
      "------------ Finish ScanCount: 1 ------------\n",
      "\n",
      "------------ Start ScanCount: -1 ------------\n",
      "\n",
      "[ DepartmentDescription: 'PHARMACY RX' ]\n",
      "this combination contains: 2\n",
      "after this combination imputation, NaN still remains: 1067\n",
      "\n",
      "[ DepartmentDescription: 'FINANCIAL SERVICES' ]\n",
      "this combination contains: 19\n",
      "after this combination imputation, NaN still remains: 1048\n",
      "\n",
      "------------ Finish ScanCount: -1 ------------\n",
      "\n",
      "------------ Start ScanCount: -2 ------------\n",
      "\n",
      "[ DepartmentDescription: 'PHARMACY RX' ]\n",
      "this combination contains: 0\n",
      "\n",
      "[ DepartmentDescription: 'PHARMACY RX' ]\n",
      "this combination doesn't exist, so let's except train scancount condition, then it contains: 0\n",
      "after this combination imputation, NaN still remains: 1048\n",
      "\n",
      "[ DepartmentDescription: 'FINANCIAL SERVICES' ]\n",
      "this combination contains: 2\n",
      "after this combination imputation, NaN still remains: 1046\n",
      "\n",
      "------------ Finish ScanCount: -2 ------------\n",
      "\n",
      "------------ Start ScanCount: -3 ------------\n",
      "\n",
      "[ DepartmentDescription: 'PHARMACY RX' ]\n",
      "this combination contains: 0\n",
      "\n",
      "[ DepartmentDescription: 'PHARMACY RX' ]\n",
      "this combination doesn't exist, so let's except train scancount condition, then it contains: 0\n",
      "after this combination imputation, NaN still remains: 1046\n",
      "\n",
      "[ DepartmentDescription: 'FINANCIAL SERVICES' ]\n",
      "this combination contains: 3\n",
      "\n",
      "[ DepartmentDescription: 'FINANCIAL SERVICES' ]\n",
      "this combination doesn't exist, so let's except train scancount condition, then it contains: 3\n",
      "after this combination imputation, NaN still remains: 1043\n",
      "\n",
      "------------ Finish ScanCount: -3 ------------\n",
      "\n",
      "------------ Start ScanCount: -4 ------------\n",
      "\n",
      "[ DepartmentDescription: 'PHARMACY RX' ]\n",
      "this combination contains: 0\n",
      "\n",
      "[ DepartmentDescription: 'PHARMACY RX' ]\n",
      "this combination doesn't exist, so let's except train scancount condition, then it contains: 0\n",
      "after this combination imputation, NaN still remains: 1043\n",
      "\n",
      "[ DepartmentDescription: 'FINANCIAL SERVICES' ]\n",
      "this combination contains: 0\n",
      "after this combination imputation, NaN still remains: 1043\n",
      "\n",
      "------------ Finish ScanCount: -4 ------------\n",
      "\n",
      "------------ Start ScanCount: -5 ------------\n",
      "\n",
      "[ DepartmentDescription: 'PHARMACY RX' ]\n",
      "this combination contains: 0\n",
      "\n",
      "[ DepartmentDescription: 'PHARMACY RX' ]\n",
      "this combination doesn't exist, so let's except train scancount condition, then it contains: 0\n",
      "after this combination imputation, NaN still remains: 1043\n",
      "\n",
      "[ DepartmentDescription: 'FINANCIAL SERVICES' ]\n",
      "this combination contains: 0\n",
      "\n",
      "[ DepartmentDescription: 'FINANCIAL SERVICES' ]\n",
      "this combination doesn't exist, so let's except train scancount condition, then it contains: 0\n",
      "after this combination imputation, NaN still remains: 1043\n",
      "\n",
      "------------ Finish ScanCount: -5 ------------\n",
      "\n",
      "============ Finish Weekday: Monday ============\n",
      "\n",
      "============ Start Weekday: Tuesday ============\n",
      "\n",
      "------------ Start ScanCount: 2 ------------\n",
      "\n",
      "[ DepartmentDescription: 'PHARMACY RX' ]\n",
      "this combination contains: 2\n",
      "after this combination imputation, NaN still remains: 1041\n",
      "\n",
      "[ DepartmentDescription: 'FINANCIAL SERVICES' ]\n",
      "this combination contains: 0\n",
      "after this combination imputation, NaN still remains: 1041\n",
      "\n",
      "------------ Finish ScanCount: 2 ------------\n",
      "\n",
      "------------ Start ScanCount: 1 ------------\n",
      "\n",
      "[ DepartmentDescription: 'PHARMACY RX' ]\n",
      "this combination contains: 297\n",
      "after this combination imputation, NaN still remains: 744\n",
      "\n",
      "[ DepartmentDescription: 'FINANCIAL SERVICES' ]\n",
      "this combination contains: 13\n",
      "after this combination imputation, NaN still remains: 731\n",
      "\n",
      "------------ Finish ScanCount: 1 ------------\n",
      "\n",
      "------------ Start ScanCount: -1 ------------\n",
      "\n",
      "[ DepartmentDescription: 'PHARMACY RX' ]\n",
      "this combination contains: 4\n",
      "after this combination imputation, NaN still remains: 727\n",
      "\n",
      "[ DepartmentDescription: 'FINANCIAL SERVICES' ]\n",
      "this combination contains: 12\n",
      "after this combination imputation, NaN still remains: 715\n",
      "\n",
      "------------ Finish ScanCount: -1 ------------\n",
      "\n",
      "------------ Start ScanCount: -2 ------------\n",
      "\n",
      "[ DepartmentDescription: 'PHARMACY RX' ]\n",
      "this combination contains: 2\n",
      "\n",
      "[ DepartmentDescription: 'PHARMACY RX' ]\n",
      "this combination doesn't exist, so let's except train scancount condition, then it contains: 2\n",
      "after this combination imputation, NaN still remains: 713\n",
      "\n",
      "[ DepartmentDescription: 'FINANCIAL SERVICES' ]\n",
      "this combination contains: 1\n",
      "\n",
      "[ DepartmentDescription: 'FINANCIAL SERVICES' ]\n",
      "this combination doesn't exist, so let's except train scancount condition, then it contains: 1\n",
      "after this combination imputation, NaN still remains: 712\n",
      "\n",
      "------------ Finish ScanCount: -2 ------------\n",
      "\n",
      "------------ Start ScanCount: -3 ------------\n",
      "\n",
      "[ DepartmentDescription: 'PHARMACY RX' ]\n",
      "this combination contains: 0\n",
      "\n",
      "[ DepartmentDescription: 'PHARMACY RX' ]\n",
      "this combination doesn't exist, so let's except train scancount condition, then it contains: 0\n",
      "after this combination imputation, NaN still remains: 712\n",
      "\n",
      "[ DepartmentDescription: 'FINANCIAL SERVICES' ]\n",
      "this combination contains: 0\n",
      "\n",
      "[ DepartmentDescription: 'FINANCIAL SERVICES' ]\n",
      "this combination doesn't exist, so let's except train scancount condition, then it contains: 0\n",
      "after this combination imputation, NaN still remains: 712\n",
      "\n",
      "------------ Finish ScanCount: -3 ------------\n",
      "\n",
      "------------ Start ScanCount: -4 ------------\n",
      "\n",
      "[ DepartmentDescription: 'PHARMACY RX' ]\n",
      "this combination contains: 0\n"
     ]
    },
    {
     "name": "stdout",
     "output_type": "stream",
     "text": [
      "\n",
      "[ DepartmentDescription: 'PHARMACY RX' ]\n",
      "this combination doesn't exist, so let's except train scancount condition, then it contains: 0\n",
      "after this combination imputation, NaN still remains: 712\n",
      "\n",
      "[ DepartmentDescription: 'FINANCIAL SERVICES' ]\n",
      "this combination contains: 0\n",
      "\n",
      "[ DepartmentDescription: 'FINANCIAL SERVICES' ]\n",
      "this combination doesn't exist, so let's except train scancount condition, then it contains: 0\n",
      "after this combination imputation, NaN still remains: 712\n",
      "\n",
      "------------ Finish ScanCount: -4 ------------\n",
      "\n",
      "------------ Start ScanCount: -5 ------------\n",
      "\n",
      "[ DepartmentDescription: 'PHARMACY RX' ]\n",
      "this combination contains: 0\n",
      "\n",
      "[ DepartmentDescription: 'PHARMACY RX' ]\n",
      "this combination doesn't exist, so let's except train scancount condition, then it contains: 0\n",
      "after this combination imputation, NaN still remains: 712\n",
      "\n",
      "[ DepartmentDescription: 'FINANCIAL SERVICES' ]\n",
      "this combination contains: 0\n",
      "\n",
      "[ DepartmentDescription: 'FINANCIAL SERVICES' ]\n",
      "this combination doesn't exist, so let's except train scancount condition, then it contains: 0\n",
      "after this combination imputation, NaN still remains: 712\n",
      "\n",
      "------------ Finish ScanCount: -5 ------------\n",
      "\n",
      "============ Finish Weekday: Tuesday ============\n",
      "\n",
      "============ Start Weekday: Wednesday ============\n",
      "\n",
      "------------ Start ScanCount: 2 ------------\n",
      "\n",
      "[ DepartmentDescription: 'PHARMACY RX' ]\n",
      "this combination contains: 0\n",
      "after this combination imputation, NaN still remains: 712\n",
      "\n",
      "[ DepartmentDescription: 'FINANCIAL SERVICES' ]\n",
      "this combination contains: 1\n",
      "after this combination imputation, NaN still remains: 711\n",
      "\n",
      "------------ Finish ScanCount: 2 ------------\n",
      "\n",
      "------------ Start ScanCount: 1 ------------\n",
      "\n",
      "[ DepartmentDescription: 'PHARMACY RX' ]\n",
      "this combination contains: 329\n",
      "after this combination imputation, NaN still remains: 382\n",
      "\n",
      "[ DepartmentDescription: 'FINANCIAL SERVICES' ]\n",
      "this combination contains: 12\n",
      "after this combination imputation, NaN still remains: 370\n",
      "\n",
      "------------ Finish ScanCount: 1 ------------\n",
      "\n",
      "------------ Start ScanCount: -1 ------------\n",
      "\n",
      "[ DepartmentDescription: 'PHARMACY RX' ]\n",
      "this combination contains: 24\n",
      "after this combination imputation, NaN still remains: 346\n",
      "\n",
      "[ DepartmentDescription: 'FINANCIAL SERVICES' ]\n",
      "this combination contains: 19\n",
      "after this combination imputation, NaN still remains: 327\n",
      "\n",
      "------------ Finish ScanCount: -1 ------------\n",
      "\n",
      "------------ Start ScanCount: -2 ------------\n",
      "\n",
      "[ DepartmentDescription: 'PHARMACY RX' ]\n",
      "this combination contains: 0\n",
      "\n",
      "[ DepartmentDescription: 'PHARMACY RX' ]\n",
      "this combination doesn't exist, so let's except train scancount condition, then it contains: 0\n",
      "after this combination imputation, NaN still remains: 327\n",
      "\n",
      "[ DepartmentDescription: 'FINANCIAL SERVICES' ]\n",
      "this combination contains: 4\n",
      "after this combination imputation, NaN still remains: 323\n",
      "\n",
      "------------ Finish ScanCount: -2 ------------\n",
      "\n",
      "------------ Start ScanCount: -3 ------------\n",
      "\n",
      "[ DepartmentDescription: 'PHARMACY RX' ]\n",
      "this combination contains: 0\n",
      "\n",
      "[ DepartmentDescription: 'PHARMACY RX' ]\n",
      "this combination doesn't exist, so let's except train scancount condition, then it contains: 0\n",
      "after this combination imputation, NaN still remains: 323\n",
      "\n",
      "[ DepartmentDescription: 'FINANCIAL SERVICES' ]\n",
      "this combination contains: 0\n",
      "after this combination imputation, NaN still remains: 323\n",
      "\n",
      "------------ Finish ScanCount: -3 ------------\n",
      "\n",
      "------------ Start ScanCount: -4 ------------\n",
      "\n",
      "[ DepartmentDescription: 'PHARMACY RX' ]\n",
      "this combination contains: 0\n",
      "\n",
      "[ DepartmentDescription: 'PHARMACY RX' ]\n",
      "this combination doesn't exist, so let's except train scancount condition, then it contains: 0\n",
      "after this combination imputation, NaN still remains: 323\n",
      "\n",
      "[ DepartmentDescription: 'FINANCIAL SERVICES' ]\n",
      "this combination contains: 0\n",
      "\n",
      "[ DepartmentDescription: 'FINANCIAL SERVICES' ]\n",
      "this combination doesn't exist, so let's except train scancount condition, then it contains: 0\n",
      "after this combination imputation, NaN still remains: 323\n",
      "\n",
      "------------ Finish ScanCount: -4 ------------\n",
      "\n",
      "------------ Start ScanCount: -5 ------------\n",
      "\n",
      "[ DepartmentDescription: 'PHARMACY RX' ]\n",
      "this combination contains: 0\n",
      "\n",
      "[ DepartmentDescription: 'PHARMACY RX' ]\n",
      "this combination doesn't exist, so let's except train scancount condition, then it contains: 0\n",
      "after this combination imputation, NaN still remains: 323\n",
      "\n",
      "[ DepartmentDescription: 'FINANCIAL SERVICES' ]\n",
      "this combination contains: 1\n",
      "\n",
      "[ DepartmentDescription: 'FINANCIAL SERVICES' ]\n",
      "this combination doesn't exist, so let's except train scancount condition, then it contains: 1\n",
      "after this combination imputation, NaN still remains: 322\n",
      "\n",
      "------------ Finish ScanCount: -5 ------------\n",
      "\n",
      "============ Finish Weekday: Wednesday ============\n",
      "\n",
      "============ Start Weekday: Thursday ============\n",
      "\n",
      "------------ Start ScanCount: 2 ------------\n",
      "\n",
      "[ DepartmentDescription: 'PHARMACY RX' ]\n",
      "this combination contains: 0\n",
      "after this combination imputation, NaN still remains: 322\n",
      "\n",
      "[ DepartmentDescription: 'FINANCIAL SERVICES' ]\n",
      "this combination contains: 1\n",
      "after this combination imputation, NaN still remains: 321\n",
      "\n",
      "------------ Finish ScanCount: 2 ------------\n",
      "\n",
      "------------ Start ScanCount: 1 ------------\n",
      "\n",
      "[ DepartmentDescription: 'PHARMACY RX' ]\n",
      "this combination contains: 301\n",
      "after this combination imputation, NaN still remains: 20\n",
      "\n",
      "[ DepartmentDescription: 'FINANCIAL SERVICES' ]\n",
      "this combination contains: 5\n",
      "after this combination imputation, NaN still remains: 15\n",
      "\n",
      "------------ Finish ScanCount: 1 ------------\n",
      "\n",
      "------------ Start ScanCount: -1 ------------\n",
      "\n",
      "[ DepartmentDescription: 'PHARMACY RX' ]\n",
      "this combination contains: 6\n",
      "after this combination imputation, NaN still remains: 9\n",
      "\n",
      "[ DepartmentDescription: 'FINANCIAL SERVICES' ]\n",
      "this combination contains: 8\n",
      "after this combination imputation, NaN still remains: 1\n",
      "\n",
      "------------ Finish ScanCount: -1 ------------\n",
      "\n",
      "------------ Start ScanCount: -2 ------------\n",
      "\n",
      "[ DepartmentDescription: 'PHARMACY RX' ]\n",
      "this combination contains: 0\n",
      "\n",
      "[ DepartmentDescription: 'PHARMACY RX' ]\n",
      "this combination doesn't exist, so let's except train scancount condition, then it contains: 0\n",
      "after this combination imputation, NaN still remains: 1\n",
      "\n",
      "[ DepartmentDescription: 'FINANCIAL SERVICES' ]\n",
      "this combination contains: 0\n",
      "after this combination imputation, NaN still remains: 1\n",
      "\n",
      "------------ Finish ScanCount: -2 ------------\n",
      "\n",
      "------------ Start ScanCount: -3 ------------\n",
      "\n",
      "[ DepartmentDescription: 'PHARMACY RX' ]\n",
      "this combination contains: 0\n",
      "\n",
      "[ DepartmentDescription: 'PHARMACY RX' ]\n",
      "this combination doesn't exist, so let's except train scancount condition, then it contains: 0\n",
      "after this combination imputation, NaN still remains: 1\n",
      "\n",
      "[ DepartmentDescription: 'FINANCIAL SERVICES' ]\n",
      "this combination contains: 1\n",
      "after this combination imputation, NaN still remains: 0\n",
      "\n",
      "------------ Finish ScanCount: -3 ------------\n",
      "\n",
      "------------ Start ScanCount: -4 ------------\n",
      "\n",
      "[ DepartmentDescription: 'PHARMACY RX' ]\n",
      "this combination contains: 0\n",
      "\n",
      "[ DepartmentDescription: 'PHARMACY RX' ]\n",
      "this combination doesn't exist, so let's except train scancount condition, then it contains: 0\n",
      "after this combination imputation, NaN still remains: 0\n",
      "\n",
      "[ DepartmentDescription: 'FINANCIAL SERVICES' ]\n",
      "this combination contains: 0\n",
      "after this combination imputation, NaN still remains: 0\n",
      "\n",
      "------------ Finish ScanCount: -4 ------------\n",
      "\n",
      "------------ Start ScanCount: -5 ------------\n",
      "\n",
      "[ DepartmentDescription: 'PHARMACY RX' ]\n",
      "this combination contains: 0\n",
      "\n",
      "[ DepartmentDescription: 'PHARMACY RX' ]\n",
      "this combination doesn't exist, so let's except train scancount condition, then it contains: 0\n",
      "after this combination imputation, NaN still remains: 0\n",
      "\n",
      "[ DepartmentDescription: 'FINANCIAL SERVICES' ]\n",
      "this combination contains: 0\n",
      "\n",
      "[ DepartmentDescription: 'FINANCIAL SERVICES' ]\n",
      "this combination doesn't exist, so let's except train scancount condition, then it contains: 0\n",
      "after this combination imputation, NaN still remains: 0\n",
      "\n",
      "------------ Finish ScanCount: -5 ------------\n",
      "\n",
      "============ Finish Weekday: Thursday ============\n",
      "\n",
      "FinelineNumber Imputation Finished!\n",
      "After FinelineNumber Imputation, NaN count: 0\n"
     ]
    }
   ],
   "source": [
    "test_FinelineNumber_or_Upc_imputation_step2('FinelineNumber')"
   ]
  },
  {
   "cell_type": "code",
   "execution_count": 1215,
   "metadata": {
    "scrolled": false
   },
   "outputs": [
    {
     "data": {
      "text/html": [
       "<div>\n",
       "<style scoped>\n",
       "    .dataframe tbody tr th:only-of-type {\n",
       "        vertical-align: middle;\n",
       "    }\n",
       "\n",
       "    .dataframe tbody tr th {\n",
       "        vertical-align: top;\n",
       "    }\n",
       "\n",
       "    .dataframe thead th {\n",
       "        text-align: right;\n",
       "    }\n",
       "</style>\n",
       "<table border=\"1\" class=\"dataframe\">\n",
       "  <thead>\n",
       "    <tr style=\"text-align: right;\">\n",
       "      <th></th>\n",
       "      <th>VisitNumber</th>\n",
       "      <th>Weekday</th>\n",
       "      <th>Upc</th>\n",
       "      <th>ScanCount</th>\n",
       "      <th>DepartmentDescription</th>\n",
       "      <th>FinelineNumber</th>\n",
       "    </tr>\n",
       "  </thead>\n",
       "  <tbody>\n",
       "  </tbody>\n",
       "</table>\n",
       "</div>"
      ],
      "text/plain": [
       "Empty DataFrame\n",
       "Columns: [VisitNumber, Weekday, Upc, ScanCount, DepartmentDescription, FinelineNumber]\n",
       "Index: []"
      ]
     },
     "execution_count": 1215,
     "metadata": {},
     "output_type": "execute_result"
    }
   ],
   "source": [
    "test[test['FinelineNumber'].isna()]"
   ]
  },
  {
   "cell_type": "code",
   "execution_count": 1216,
   "metadata": {},
   "outputs": [
    {
     "data": {
      "text/plain": [
       "0"
      ]
     },
     "execution_count": 1216,
     "metadata": {},
     "output_type": "execute_result"
    }
   ],
   "source": [
    "# after imputation step2\n",
    "test['FinelineNumber'].isna().sum()"
   ]
  },
  {
   "cell_type": "markdown",
   "metadata": {},
   "source": [
    "### 3-1. Train - Upc"
   ]
  },
  {
   "cell_type": "markdown",
   "metadata": {},
   "source": [
    "- VisitNumber에 따른 Upc의 최빈값으로 Upc의 NaN 값을 채움"
   ]
  },
  {
   "cell_type": "code",
   "execution_count": 1217,
   "metadata": {},
   "outputs": [
    {
     "data": {
      "text/plain": [
       "4129"
      ]
     },
     "execution_count": 1217,
     "metadata": {},
     "output_type": "execute_result"
    }
   ],
   "source": [
    "# before imputation\n",
    "train['Upc'].isna().sum()"
   ]
  },
  {
   "cell_type": "code",
   "execution_count": 1218,
   "metadata": {},
   "outputs": [
    {
     "name": "stderr",
     "output_type": "stream",
     "text": [
      "100%|██████████| 2754/2754 [00:15<00:00, 179.71it/s]\n"
     ]
    }
   ],
   "source": [
    "# Upc이 NaN 값인 데이터의 VisitNumber 리스트\n",
    "Upc_null_VM = train[train['Upc'].isna()]['VisitNumber'].unique()\n",
    "# VisitNumber에 따른 Upc의 최빈값으로 Upc의 NaN 값을 채움\n",
    "for idx in tqdm(Upc_null_VM):\n",
    "    if len(train[train[\"VisitNumber\"] == idx][\"Upc\"].value_counts().index) != 0:\n",
    "        train.loc[(train[\"VisitNumber\"] == idx)&(train[\"Upc\"].isna()), \"Upc\"] \\\n",
    "        = train[train[\"VisitNumber\"] == idx][\"Upc\"].value_counts().index[0]"
   ]
  },
  {
   "cell_type": "code",
   "execution_count": 1219,
   "metadata": {},
   "outputs": [
    {
     "data": {
      "text/plain": [
       "2369"
      ]
     },
     "execution_count": 1219,
     "metadata": {},
     "output_type": "execute_result"
    }
   ],
   "source": [
    "# after imputation step1\n",
    "train['Upc'].isna().sum()"
   ]
  },
  {
   "cell_type": "code",
   "execution_count": 1220,
   "metadata": {},
   "outputs": [
    {
     "data": {
      "text/plain": [
       "5      2089\n",
       "999     280\n",
       "Name: TripType, dtype: int64"
      ]
     },
     "execution_count": 1220,
     "metadata": {},
     "output_type": "execute_result"
    }
   ],
   "source": [
    "# 아직 처리하지 못한 총 2369개 데이터는 TripType으로 구분해보면 5와 999 두 개로 나뉜다.\n",
    "train[train['Upc'].isna()]['TripType'].value_counts()"
   ]
  },
  {
   "cell_type": "code",
   "execution_count": 1221,
   "metadata": {},
   "outputs": [
    {
     "data": {
      "text/plain": [
       "Int64Index([ 74003,  52567, 111813, 114942, 156445,  83995,  41497,  79927,\n",
       "              1860,  69775,\n",
       "            ...\n",
       "            168331,  78201, 127351,  78197, 168307,  16747,  14684, 102743,\n",
       "              2390,  16384],\n",
       "           dtype='int64', length=1427)"
      ]
     },
     "execution_count": 1221,
     "metadata": {},
     "output_type": "execute_result"
    }
   ],
   "source": [
    "train_after_step1_Upc_null_VM_list = train[train['Upc'].isna()]['VisitNumber'].value_counts().index\n",
    "train_after_step1_Upc_null_VM_list"
   ]
  },
  {
   "cell_type": "code",
   "execution_count": 1222,
   "metadata": {},
   "outputs": [],
   "source": [
    "# 따라서 각 TripType의 최빈 Upc 값으로 imputation 함.\n",
    "train.loc[(train[\"TripType\"] == 5)&(train[\"Upc\"].isna()), \"Upc\"] \\\n",
    "= train[train[\"TripType\"] == 5][\"Upc\"].value_counts().index[0]\n",
    "train.loc[(train[\"TripType\"] == 999)&(train[\"Upc\"].isna()), \"Upc\"] \\\n",
    "= train[train[\"TripType\"] == 999][\"Upc\"].value_counts().index[0]"
   ]
  },
  {
   "cell_type": "code",
   "execution_count": 1223,
   "metadata": {},
   "outputs": [
    {
     "data": {
      "text/plain": [
       "4011.0"
      ]
     },
     "execution_count": 1223,
     "metadata": {},
     "output_type": "execute_result"
    }
   ],
   "source": [
    "train[train[\"TripType\"] == 5][\"Upc\"].value_counts().index[0]"
   ]
  },
  {
   "cell_type": "code",
   "execution_count": 1224,
   "metadata": {},
   "outputs": [
    {
     "data": {
      "text/plain": [
       "60538812238.0"
      ]
     },
     "execution_count": 1224,
     "metadata": {},
     "output_type": "execute_result"
    }
   ],
   "source": [
    "train[train[\"TripType\"] == 999][\"Upc\"].value_counts().index[0]"
   ]
  },
  {
   "cell_type": "code",
   "execution_count": 1225,
   "metadata": {},
   "outputs": [
    {
     "data": {
      "text/plain": [
       "0"
      ]
     },
     "execution_count": 1225,
     "metadata": {},
     "output_type": "execute_result"
    }
   ],
   "source": [
    "# after imputation step2\n",
    "train['Upc'].isna().sum()"
   ]
  },
  {
   "cell_type": "markdown",
   "metadata": {},
   "source": [
    "### 3-2. Test - Upc"
   ]
  },
  {
   "cell_type": "markdown",
   "metadata": {},
   "source": [
    "- VisitNumber에 따른 Upc의 최빈값으로 Upc의 NaN 값을 채움"
   ]
  },
  {
   "cell_type": "code",
   "execution_count": 1226,
   "metadata": {},
   "outputs": [
    {
     "data": {
      "text/plain": [
       "3986"
      ]
     },
     "execution_count": 1226,
     "metadata": {},
     "output_type": "execute_result"
    }
   ],
   "source": [
    "# before imputation\n",
    "test['Upc'].isna().sum()"
   ]
  },
  {
   "cell_type": "code",
   "execution_count": 1227,
   "metadata": {},
   "outputs": [
    {
     "name": "stderr",
     "output_type": "stream",
     "text": [
      "100%|██████████| 2706/2706 [00:15<00:00, 176.72it/s]\n"
     ]
    }
   ],
   "source": [
    "# Upc이 NaN 값인 데이터의 VisitNumber 리스트\n",
    "Upc_null_VM = test[test['Upc'].isna()]['VisitNumber'].unique()\n",
    "# VisitNumber에 따른 Upc의 최빈값으로 Upc의 NaN 값을 채움\n",
    "for idx in tqdm(Upc_null_VM):\n",
    "    if len(test[test[\"VisitNumber\"] == idx][\"Upc\"].value_counts().index) != 0:\n",
    "        test.loc[(test[\"VisitNumber\"] == idx)&(test[\"Upc\"].isna()), \"Upc\"] \\\n",
    "        = test[test[\"VisitNumber\"] == idx][\"Upc\"].value_counts().index[0]"
   ]
  },
  {
   "cell_type": "code",
   "execution_count": 1228,
   "metadata": {},
   "outputs": [
    {
     "data": {
      "text/plain": [
       "2257"
      ]
     },
     "execution_count": 1228,
     "metadata": {},
     "output_type": "execute_result"
    }
   ],
   "source": [
    "# after imputation step1\n",
    "test['Upc'].isna().sum()"
   ]
  },
  {
   "cell_type": "code",
   "execution_count": 1229,
   "metadata": {},
   "outputs": [],
   "source": [
    "# 아직 처리하지 못한 총 2257개 데이터는 VisitNumber 따른 Upc 값이 모두 비어있는 경우인데\n",
    "# 이 경우 Train데이터에서 TripType이 5 혹은 999이어서 그에 맞춰 Upc 최빈값을 imputation할 수 있었지만\n",
    "# Test데이터는 TripType을 기준으로 imputation 할 수 없고 train데이터와 VisitNumber와 도 겹치지 않기 때문에\n",
    "# Train데이터와 Test데이터의 Weekday, ScanCount, DepartmentDescription을 기준으로 Upc를 imputation 함."
   ]
  },
  {
   "cell_type": "code",
   "execution_count": 1230,
   "metadata": {},
   "outputs": [
    {
     "data": {
      "text/plain": [
       "[]"
      ]
     },
     "execution_count": 1230,
     "metadata": {},
     "output_type": "execute_result"
    }
   ],
   "source": [
    "# train데이터와 test데이터의 imputation step1 이후의 VisitNumber가 겹치지 않음\n",
    "test_after_step1_Upc_null_VM_list = test[test['Upc'].isna()]['VisitNumber'].value_counts().index\n",
    "[i for i in test_after_step1_Upc_null_VM_list if i in train_after_step1_Upc_null_VM_list]"
   ]
  },
  {
   "cell_type": "code",
   "execution_count": 1231,
   "metadata": {
    "scrolled": true
   },
   "outputs": [
    {
     "name": "stdout",
     "output_type": "stream",
     "text": [
      "Let's start Upc imputation\n",
      "\n",
      "============ Start Weekday: Friday ============\n",
      "\n",
      "------------ Start ScanCount: 2 ------------\n",
      "\n",
      "[ DepartmentDescription: 'PHARMACY RX' ]\n",
      "this combination contains: 0\n",
      "after this combination imputation, NaN still remains: 2257\n",
      "\n",
      "[ DepartmentDescription: 'FINANCIAL SERVICES' ]\n",
      "this combination contains: 1\n",
      "after this combination imputation, NaN still remains: 2256\n",
      "\n",
      "------------ Finish ScanCount: 2 ------------\n",
      "\n",
      "------------ Start ScanCount: 1 ------------\n",
      "\n",
      "[ DepartmentDescription: 'PHARMACY RX' ]\n",
      "this combination contains: 376\n",
      "after this combination imputation, NaN still remains: 1880\n",
      "\n",
      "[ DepartmentDescription: 'FINANCIAL SERVICES' ]\n",
      "this combination contains: 5\n",
      "after this combination imputation, NaN still remains: 1875\n",
      "\n",
      "------------ Finish ScanCount: 1 ------------\n",
      "\n",
      "------------ Start ScanCount: -1 ------------\n",
      "\n",
      "[ DepartmentDescription: 'PHARMACY RX' ]\n",
      "this combination contains: 7\n",
      "after this combination imputation, NaN still remains: 1868\n",
      "\n",
      "[ DepartmentDescription: 'FINANCIAL SERVICES' ]\n",
      "this combination contains: 19\n",
      "after this combination imputation, NaN still remains: 1849\n",
      "\n",
      "------------ Finish ScanCount: -1 ------------\n",
      "\n",
      "------------ Start ScanCount: -2 ------------\n",
      "\n",
      "[ DepartmentDescription: 'PHARMACY RX' ]\n",
      "this combination contains: 0\n",
      "\n",
      "[ DepartmentDescription: 'PHARMACY RX' ]\n",
      "this combination doesn't exist, so let's except train scancount condition, then it contains: 0\n",
      "after this combination imputation, NaN still remains: 1849\n",
      "\n",
      "[ DepartmentDescription: 'FINANCIAL SERVICES' ]\n",
      "this combination contains: 1\n",
      "after this combination imputation, NaN still remains: 1848\n",
      "\n",
      "------------ Finish ScanCount: -2 ------------\n",
      "\n",
      "------------ Start ScanCount: -3 ------------\n",
      "\n",
      "[ DepartmentDescription: 'PHARMACY RX' ]\n",
      "this combination contains: 0\n",
      "after this combination imputation, NaN still remains: 1848\n",
      "\n",
      "[ DepartmentDescription: 'FINANCIAL SERVICES' ]\n",
      "this combination contains: 0\n",
      "after this combination imputation, NaN still remains: 1848\n",
      "\n",
      "------------ Finish ScanCount: -3 ------------\n",
      "\n",
      "------------ Start ScanCount: -4 ------------\n",
      "\n",
      "[ DepartmentDescription: 'PHARMACY RX' ]\n",
      "this combination contains: 0\n",
      "\n",
      "[ DepartmentDescription: 'PHARMACY RX' ]\n",
      "this combination doesn't exist, so let's except train scancount condition, then it contains: 0\n",
      "after this combination imputation, NaN still remains: 1848\n",
      "\n",
      "[ DepartmentDescription: 'FINANCIAL SERVICES' ]\n",
      "this combination contains: 0\n",
      "after this combination imputation, NaN still remains: 1848\n",
      "\n",
      "------------ Finish ScanCount: -4 ------------\n",
      "\n",
      "------------ Start ScanCount: -5 ------------\n",
      "\n",
      "[ DepartmentDescription: 'PHARMACY RX' ]\n",
      "this combination contains: 0\n",
      "\n",
      "[ DepartmentDescription: 'PHARMACY RX' ]\n",
      "this combination doesn't exist, so let's except train scancount condition, then it contains: 0\n",
      "after this combination imputation, NaN still remains: 1848\n",
      "\n",
      "[ DepartmentDescription: 'FINANCIAL SERVICES' ]\n",
      "this combination contains: 0\n",
      "\n",
      "[ DepartmentDescription: 'FINANCIAL SERVICES' ]\n",
      "this combination doesn't exist, so let's except train scancount condition, then it contains: 0\n",
      "after this combination imputation, NaN still remains: 1848\n",
      "\n",
      "------------ Finish ScanCount: -5 ------------\n",
      "\n",
      "============ Finish Weekday: Friday ============\n",
      "\n",
      "============ Start Weekday: Saturday ============\n",
      "\n",
      "------------ Start ScanCount: 2 ------------\n",
      "\n",
      "[ DepartmentDescription: 'PHARMACY RX' ]\n",
      "this combination contains: 0\n",
      "after this combination imputation, NaN still remains: 1848\n",
      "\n",
      "[ DepartmentDescription: 'FINANCIAL SERVICES' ]\n",
      "this combination contains: 2\n",
      "after this combination imputation, NaN still remains: 1846\n",
      "\n",
      "------------ Finish ScanCount: 2 ------------\n",
      "\n",
      "------------ Start ScanCount: 1 ------------\n",
      "\n",
      "[ DepartmentDescription: 'PHARMACY RX' ]\n",
      "this combination contains: 294\n",
      "after this combination imputation, NaN still remains: 1552\n",
      "\n",
      "[ DepartmentDescription: 'FINANCIAL SERVICES' ]\n",
      "this combination contains: 28\n",
      "after this combination imputation, NaN still remains: 1524\n",
      "\n",
      "------------ Finish ScanCount: 1 ------------\n",
      "\n",
      "------------ Start ScanCount: -1 ------------\n",
      "\n",
      "[ DepartmentDescription: 'PHARMACY RX' ]\n",
      "this combination contains: 2\n",
      "after this combination imputation, NaN still remains: 1522\n",
      "\n",
      "[ DepartmentDescription: 'FINANCIAL SERVICES' ]\n",
      "this combination contains: 14\n",
      "after this combination imputation, NaN still remains: 1508\n",
      "\n",
      "------------ Finish ScanCount: -1 ------------\n",
      "\n",
      "------------ Start ScanCount: -2 ------------\n",
      "\n",
      "[ DepartmentDescription: 'PHARMACY RX' ]\n",
      "this combination contains: 0\n",
      "\n",
      "[ DepartmentDescription: 'PHARMACY RX' ]\n",
      "this combination doesn't exist, so let's except train scancount condition, then it contains: 0\n",
      "after this combination imputation, NaN still remains: 1508\n",
      "\n",
      "[ DepartmentDescription: 'FINANCIAL SERVICES' ]\n",
      "this combination contains: 3\n",
      "after this combination imputation, NaN still remains: 1505\n",
      "\n",
      "------------ Finish ScanCount: -2 ------------\n",
      "\n",
      "------------ Start ScanCount: -3 ------------\n",
      "\n",
      "[ DepartmentDescription: 'PHARMACY RX' ]\n",
      "this combination contains: 0\n",
      "\n",
      "[ DepartmentDescription: 'PHARMACY RX' ]\n",
      "this combination doesn't exist, so let's except train scancount condition, then it contains: 0\n",
      "after this combination imputation, NaN still remains: 1505\n",
      "\n",
      "[ DepartmentDescription: 'FINANCIAL SERVICES' ]\n",
      "this combination contains: 0\n",
      "\n",
      "[ DepartmentDescription: 'FINANCIAL SERVICES' ]\n",
      "this combination doesn't exist, so let's except train scancount condition, then it contains: 0\n",
      "after this combination imputation, NaN still remains: 1505\n",
      "\n",
      "------------ Finish ScanCount: -3 ------------\n",
      "\n",
      "------------ Start ScanCount: -4 ------------\n",
      "\n",
      "[ DepartmentDescription: 'PHARMACY RX' ]\n",
      "this combination contains: 0\n",
      "\n",
      "[ DepartmentDescription: 'PHARMACY RX' ]\n",
      "this combination doesn't exist, so let's except train scancount condition, then it contains: 0\n",
      "after this combination imputation, NaN still remains: 1505\n",
      "\n",
      "[ DepartmentDescription: 'FINANCIAL SERVICES' ]\n",
      "this combination contains: 0\n",
      "\n",
      "[ DepartmentDescription: 'FINANCIAL SERVICES' ]\n",
      "this combination doesn't exist, so let's except train scancount condition, then it contains: 0\n",
      "after this combination imputation, NaN still remains: 1505\n",
      "\n",
      "------------ Finish ScanCount: -4 ------------\n",
      "\n",
      "------------ Start ScanCount: -5 ------------\n",
      "\n",
      "[ DepartmentDescription: 'PHARMACY RX' ]\n",
      "this combination contains: 0\n",
      "\n",
      "[ DepartmentDescription: 'PHARMACY RX' ]\n",
      "this combination doesn't exist, so let's except train scancount condition, then it contains: 0\n",
      "after this combination imputation, NaN still remains: 1505\n",
      "\n",
      "[ DepartmentDescription: 'FINANCIAL SERVICES' ]\n",
      "this combination contains: 1\n",
      "\n",
      "[ DepartmentDescription: 'FINANCIAL SERVICES' ]\n",
      "this combination doesn't exist, so let's except train scancount condition, then it contains: 1\n",
      "after this combination imputation, NaN still remains: 1504\n",
      "\n",
      "------------ Finish ScanCount: -5 ------------\n",
      "\n",
      "============ Finish Weekday: Saturday ============\n",
      "\n",
      "============ Start Weekday: Sunday ============\n",
      "\n",
      "------------ Start ScanCount: 2 ------------\n",
      "\n",
      "[ DepartmentDescription: 'PHARMACY RX' ]\n",
      "this combination contains: 0\n",
      "\n",
      "[ DepartmentDescription: 'PHARMACY RX' ]\n",
      "this combination doesn't exist, so let's except train scancount condition, then it contains: 0\n",
      "after this combination imputation, NaN still remains: 1504\n",
      "\n",
      "[ DepartmentDescription: 'FINANCIAL SERVICES' ]\n",
      "this combination contains: 2\n",
      "after this combination imputation, NaN still remains: 1502\n",
      "\n",
      "------------ Finish ScanCount: 2 ------------\n",
      "\n",
      "------------ Start ScanCount: 1 ------------\n",
      "\n",
      "[ DepartmentDescription: 'PHARMACY RX' ]\n",
      "this combination contains: 146\n",
      "after this combination imputation, NaN still remains: 1356\n",
      "\n",
      "[ DepartmentDescription: 'FINANCIAL SERVICES' ]\n",
      "this combination contains: 12\n",
      "after this combination imputation, NaN still remains: 1344\n",
      "\n",
      "------------ Finish ScanCount: 1 ------------\n",
      "\n",
      "------------ Start ScanCount: -1 ------------\n",
      "\n",
      "[ DepartmentDescription: 'PHARMACY RX' ]\n",
      "this combination contains: 2\n",
      "after this combination imputation, NaN still remains: 1342\n",
      "\n",
      "[ DepartmentDescription: 'FINANCIAL SERVICES' ]\n",
      "this combination contains: 17\n",
      "after this combination imputation, NaN still remains: 1325\n",
      "\n",
      "------------ Finish ScanCount: -1 ------------\n",
      "\n",
      "------------ Start ScanCount: -2 ------------\n",
      "\n",
      "[ DepartmentDescription: 'PHARMACY RX' ]\n",
      "this combination contains: 0\n"
     ]
    },
    {
     "name": "stdout",
     "output_type": "stream",
     "text": [
      "\n",
      "[ DepartmentDescription: 'PHARMACY RX' ]\n",
      "this combination doesn't exist, so let's except train scancount condition, then it contains: 0\n",
      "after this combination imputation, NaN still remains: 1325\n",
      "\n",
      "[ DepartmentDescription: 'FINANCIAL SERVICES' ]\n",
      "this combination contains: 0\n",
      "after this combination imputation, NaN still remains: 1325\n",
      "\n",
      "------------ Finish ScanCount: -2 ------------\n",
      "\n",
      "------------ Start ScanCount: -3 ------------\n",
      "\n",
      "[ DepartmentDescription: 'PHARMACY RX' ]\n",
      "this combination contains: 0\n",
      "\n",
      "[ DepartmentDescription: 'PHARMACY RX' ]\n",
      "this combination doesn't exist, so let's except train scancount condition, then it contains: 0\n",
      "after this combination imputation, NaN still remains: 1325\n",
      "\n",
      "[ DepartmentDescription: 'FINANCIAL SERVICES' ]\n",
      "this combination contains: 0\n",
      "after this combination imputation, NaN still remains: 1325\n",
      "\n",
      "------------ Finish ScanCount: -3 ------------\n",
      "\n",
      "------------ Start ScanCount: -4 ------------\n",
      "\n",
      "[ DepartmentDescription: 'PHARMACY RX' ]\n",
      "this combination contains: 0\n",
      "\n",
      "[ DepartmentDescription: 'PHARMACY RX' ]\n",
      "this combination doesn't exist, so let's except train scancount condition, then it contains: 0\n",
      "after this combination imputation, NaN still remains: 1325\n",
      "\n",
      "[ DepartmentDescription: 'FINANCIAL SERVICES' ]\n",
      "this combination contains: 1\n",
      "\n",
      "[ DepartmentDescription: 'FINANCIAL SERVICES' ]\n",
      "this combination doesn't exist, so let's except train scancount condition, then it contains: 1\n",
      "after this combination imputation, NaN still remains: 1324\n",
      "\n",
      "------------ Finish ScanCount: -4 ------------\n",
      "\n",
      "------------ Start ScanCount: -5 ------------\n",
      "\n",
      "[ DepartmentDescription: 'PHARMACY RX' ]\n",
      "this combination contains: 0\n",
      "\n",
      "[ DepartmentDescription: 'PHARMACY RX' ]\n",
      "this combination doesn't exist, so let's except train scancount condition, then it contains: 0\n",
      "after this combination imputation, NaN still remains: 1324\n",
      "\n",
      "[ DepartmentDescription: 'FINANCIAL SERVICES' ]\n",
      "this combination contains: 0\n",
      "\n",
      "[ DepartmentDescription: 'FINANCIAL SERVICES' ]\n",
      "this combination doesn't exist, so let's except train scancount condition, then it contains: 0\n",
      "after this combination imputation, NaN still remains: 1324\n",
      "\n",
      "------------ Finish ScanCount: -5 ------------\n",
      "\n",
      "============ Finish Weekday: Sunday ============\n",
      "\n",
      "============ Start Weekday: Monday ============\n",
      "\n",
      "------------ Start ScanCount: 2 ------------\n",
      "\n",
      "[ DepartmentDescription: 'PHARMACY RX' ]\n",
      "this combination contains: 0\n",
      "after this combination imputation, NaN still remains: 1324\n",
      "\n",
      "[ DepartmentDescription: 'FINANCIAL SERVICES' ]\n",
      "this combination contains: 0\n",
      "after this combination imputation, NaN still remains: 1324\n",
      "\n",
      "------------ Finish ScanCount: 2 ------------\n",
      "\n",
      "------------ Start ScanCount: 1 ------------\n",
      "\n",
      "[ DepartmentDescription: 'PHARMACY RX' ]\n",
      "this combination contains: 244\n",
      "after this combination imputation, NaN still remains: 1080\n",
      "\n",
      "[ DepartmentDescription: 'FINANCIAL SERVICES' ]\n",
      "this combination contains: 11\n",
      "after this combination imputation, NaN still remains: 1069\n",
      "\n",
      "------------ Finish ScanCount: 1 ------------\n",
      "\n",
      "------------ Start ScanCount: -1 ------------\n",
      "\n",
      "[ DepartmentDescription: 'PHARMACY RX' ]\n",
      "this combination contains: 2\n",
      "after this combination imputation, NaN still remains: 1067\n",
      "\n",
      "[ DepartmentDescription: 'FINANCIAL SERVICES' ]\n",
      "this combination contains: 19\n",
      "after this combination imputation, NaN still remains: 1048\n",
      "\n",
      "------------ Finish ScanCount: -1 ------------\n",
      "\n",
      "------------ Start ScanCount: -2 ------------\n",
      "\n",
      "[ DepartmentDescription: 'PHARMACY RX' ]\n",
      "this combination contains: 0\n",
      "\n",
      "[ DepartmentDescription: 'PHARMACY RX' ]\n",
      "this combination doesn't exist, so let's except train scancount condition, then it contains: 0\n",
      "after this combination imputation, NaN still remains: 1048\n",
      "\n",
      "[ DepartmentDescription: 'FINANCIAL SERVICES' ]\n",
      "this combination contains: 2\n",
      "after this combination imputation, NaN still remains: 1046\n",
      "\n",
      "------------ Finish ScanCount: -2 ------------\n",
      "\n",
      "------------ Start ScanCount: -3 ------------\n",
      "\n",
      "[ DepartmentDescription: 'PHARMACY RX' ]\n",
      "this combination contains: 0\n",
      "\n",
      "[ DepartmentDescription: 'PHARMACY RX' ]\n",
      "this combination doesn't exist, so let's except train scancount condition, then it contains: 0\n",
      "after this combination imputation, NaN still remains: 1046\n",
      "\n",
      "[ DepartmentDescription: 'FINANCIAL SERVICES' ]\n",
      "this combination contains: 3\n",
      "\n",
      "[ DepartmentDescription: 'FINANCIAL SERVICES' ]\n",
      "this combination doesn't exist, so let's except train scancount condition, then it contains: 3\n",
      "after this combination imputation, NaN still remains: 1043\n",
      "\n",
      "------------ Finish ScanCount: -3 ------------\n",
      "\n",
      "------------ Start ScanCount: -4 ------------\n",
      "\n",
      "[ DepartmentDescription: 'PHARMACY RX' ]\n",
      "this combination contains: 0\n",
      "\n",
      "[ DepartmentDescription: 'PHARMACY RX' ]\n",
      "this combination doesn't exist, so let's except train scancount condition, then it contains: 0\n",
      "after this combination imputation, NaN still remains: 1043\n",
      "\n",
      "[ DepartmentDescription: 'FINANCIAL SERVICES' ]\n",
      "this combination contains: 0\n",
      "after this combination imputation, NaN still remains: 1043\n",
      "\n",
      "------------ Finish ScanCount: -4 ------------\n",
      "\n",
      "------------ Start ScanCount: -5 ------------\n",
      "\n",
      "[ DepartmentDescription: 'PHARMACY RX' ]\n",
      "this combination contains: 0\n",
      "\n",
      "[ DepartmentDescription: 'PHARMACY RX' ]\n",
      "this combination doesn't exist, so let's except train scancount condition, then it contains: 0\n",
      "after this combination imputation, NaN still remains: 1043\n",
      "\n",
      "[ DepartmentDescription: 'FINANCIAL SERVICES' ]\n",
      "this combination contains: 0\n",
      "\n",
      "[ DepartmentDescription: 'FINANCIAL SERVICES' ]\n",
      "this combination doesn't exist, so let's except train scancount condition, then it contains: 0\n",
      "after this combination imputation, NaN still remains: 1043\n",
      "\n",
      "------------ Finish ScanCount: -5 ------------\n",
      "\n",
      "============ Finish Weekday: Monday ============\n",
      "\n",
      "============ Start Weekday: Tuesday ============\n",
      "\n",
      "------------ Start ScanCount: 2 ------------\n",
      "\n",
      "[ DepartmentDescription: 'PHARMACY RX' ]\n",
      "this combination contains: 2\n",
      "after this combination imputation, NaN still remains: 1041\n",
      "\n",
      "[ DepartmentDescription: 'FINANCIAL SERVICES' ]\n",
      "this combination contains: 0\n",
      "after this combination imputation, NaN still remains: 1041\n",
      "\n",
      "------------ Finish ScanCount: 2 ------------\n",
      "\n",
      "------------ Start ScanCount: 1 ------------\n",
      "\n",
      "[ DepartmentDescription: 'PHARMACY RX' ]\n",
      "this combination contains: 297\n",
      "after this combination imputation, NaN still remains: 744\n",
      "\n",
      "[ DepartmentDescription: 'FINANCIAL SERVICES' ]\n",
      "this combination contains: 13\n",
      "after this combination imputation, NaN still remains: 731\n",
      "\n",
      "------------ Finish ScanCount: 1 ------------\n",
      "\n",
      "------------ Start ScanCount: -1 ------------\n",
      "\n",
      "[ DepartmentDescription: 'PHARMACY RX' ]\n",
      "this combination contains: 4\n",
      "after this combination imputation, NaN still remains: 727\n",
      "\n",
      "[ DepartmentDescription: 'FINANCIAL SERVICES' ]\n",
      "this combination contains: 12\n",
      "after this combination imputation, NaN still remains: 715\n",
      "\n",
      "------------ Finish ScanCount: -1 ------------\n",
      "\n",
      "------------ Start ScanCount: -2 ------------\n",
      "\n",
      "[ DepartmentDescription: 'PHARMACY RX' ]\n",
      "this combination contains: 2\n",
      "\n",
      "[ DepartmentDescription: 'PHARMACY RX' ]\n",
      "this combination doesn't exist, so let's except train scancount condition, then it contains: 2\n",
      "after this combination imputation, NaN still remains: 713\n",
      "\n",
      "[ DepartmentDescription: 'FINANCIAL SERVICES' ]\n",
      "this combination contains: 1\n",
      "\n",
      "[ DepartmentDescription: 'FINANCIAL SERVICES' ]\n",
      "this combination doesn't exist, so let's except train scancount condition, then it contains: 1\n",
      "after this combination imputation, NaN still remains: 712\n",
      "\n",
      "------------ Finish ScanCount: -2 ------------\n",
      "\n",
      "------------ Start ScanCount: -3 ------------\n",
      "\n",
      "[ DepartmentDescription: 'PHARMACY RX' ]\n",
      "this combination contains: 0\n",
      "\n",
      "[ DepartmentDescription: 'PHARMACY RX' ]\n",
      "this combination doesn't exist, so let's except train scancount condition, then it contains: 0\n",
      "after this combination imputation, NaN still remains: 712\n",
      "\n",
      "[ DepartmentDescription: 'FINANCIAL SERVICES' ]\n",
      "this combination contains: 0\n",
      "\n",
      "[ DepartmentDescription: 'FINANCIAL SERVICES' ]\n",
      "this combination doesn't exist, so let's except train scancount condition, then it contains: 0\n",
      "after this combination imputation, NaN still remains: 712\n",
      "\n",
      "------------ Finish ScanCount: -3 ------------\n",
      "\n",
      "------------ Start ScanCount: -4 ------------\n",
      "\n",
      "[ DepartmentDescription: 'PHARMACY RX' ]\n",
      "this combination contains: 0\n"
     ]
    },
    {
     "name": "stdout",
     "output_type": "stream",
     "text": [
      "\n",
      "[ DepartmentDescription: 'PHARMACY RX' ]\n",
      "this combination doesn't exist, so let's except train scancount condition, then it contains: 0\n",
      "after this combination imputation, NaN still remains: 712\n",
      "\n",
      "[ DepartmentDescription: 'FINANCIAL SERVICES' ]\n",
      "this combination contains: 0\n",
      "\n",
      "[ DepartmentDescription: 'FINANCIAL SERVICES' ]\n",
      "this combination doesn't exist, so let's except train scancount condition, then it contains: 0\n",
      "after this combination imputation, NaN still remains: 712\n",
      "\n",
      "------------ Finish ScanCount: -4 ------------\n",
      "\n",
      "------------ Start ScanCount: -5 ------------\n",
      "\n",
      "[ DepartmentDescription: 'PHARMACY RX' ]\n",
      "this combination contains: 0\n",
      "\n",
      "[ DepartmentDescription: 'PHARMACY RX' ]\n",
      "this combination doesn't exist, so let's except train scancount condition, then it contains: 0\n",
      "after this combination imputation, NaN still remains: 712\n",
      "\n",
      "[ DepartmentDescription: 'FINANCIAL SERVICES' ]\n",
      "this combination contains: 0\n",
      "\n",
      "[ DepartmentDescription: 'FINANCIAL SERVICES' ]\n",
      "this combination doesn't exist, so let's except train scancount condition, then it contains: 0\n",
      "after this combination imputation, NaN still remains: 712\n",
      "\n",
      "------------ Finish ScanCount: -5 ------------\n",
      "\n",
      "============ Finish Weekday: Tuesday ============\n",
      "\n",
      "============ Start Weekday: Wednesday ============\n",
      "\n",
      "------------ Start ScanCount: 2 ------------\n",
      "\n",
      "[ DepartmentDescription: 'PHARMACY RX' ]\n",
      "this combination contains: 0\n",
      "after this combination imputation, NaN still remains: 712\n",
      "\n",
      "[ DepartmentDescription: 'FINANCIAL SERVICES' ]\n",
      "this combination contains: 1\n",
      "after this combination imputation, NaN still remains: 711\n",
      "\n",
      "------------ Finish ScanCount: 2 ------------\n",
      "\n",
      "------------ Start ScanCount: 1 ------------\n",
      "\n",
      "[ DepartmentDescription: 'PHARMACY RX' ]\n",
      "this combination contains: 329\n",
      "after this combination imputation, NaN still remains: 382\n",
      "\n",
      "[ DepartmentDescription: 'FINANCIAL SERVICES' ]\n",
      "this combination contains: 12\n",
      "after this combination imputation, NaN still remains: 370\n",
      "\n",
      "------------ Finish ScanCount: 1 ------------\n",
      "\n",
      "------------ Start ScanCount: -1 ------------\n",
      "\n",
      "[ DepartmentDescription: 'PHARMACY RX' ]\n",
      "this combination contains: 24\n",
      "after this combination imputation, NaN still remains: 346\n",
      "\n",
      "[ DepartmentDescription: 'FINANCIAL SERVICES' ]\n",
      "this combination contains: 19\n",
      "after this combination imputation, NaN still remains: 327\n",
      "\n",
      "------------ Finish ScanCount: -1 ------------\n",
      "\n",
      "------------ Start ScanCount: -2 ------------\n",
      "\n",
      "[ DepartmentDescription: 'PHARMACY RX' ]\n",
      "this combination contains: 0\n",
      "\n",
      "[ DepartmentDescription: 'PHARMACY RX' ]\n",
      "this combination doesn't exist, so let's except train scancount condition, then it contains: 0\n",
      "after this combination imputation, NaN still remains: 327\n",
      "\n",
      "[ DepartmentDescription: 'FINANCIAL SERVICES' ]\n",
      "this combination contains: 4\n",
      "after this combination imputation, NaN still remains: 323\n",
      "\n",
      "------------ Finish ScanCount: -2 ------------\n",
      "\n",
      "------------ Start ScanCount: -3 ------------\n",
      "\n",
      "[ DepartmentDescription: 'PHARMACY RX' ]\n",
      "this combination contains: 0\n",
      "\n",
      "[ DepartmentDescription: 'PHARMACY RX' ]\n",
      "this combination doesn't exist, so let's except train scancount condition, then it contains: 0\n",
      "after this combination imputation, NaN still remains: 323\n",
      "\n",
      "[ DepartmentDescription: 'FINANCIAL SERVICES' ]\n",
      "this combination contains: 0\n",
      "after this combination imputation, NaN still remains: 323\n",
      "\n",
      "------------ Finish ScanCount: -3 ------------\n",
      "\n",
      "------------ Start ScanCount: -4 ------------\n",
      "\n",
      "[ DepartmentDescription: 'PHARMACY RX' ]\n",
      "this combination contains: 0\n",
      "\n",
      "[ DepartmentDescription: 'PHARMACY RX' ]\n",
      "this combination doesn't exist, so let's except train scancount condition, then it contains: 0\n",
      "after this combination imputation, NaN still remains: 323\n",
      "\n",
      "[ DepartmentDescription: 'FINANCIAL SERVICES' ]\n",
      "this combination contains: 0\n",
      "\n",
      "[ DepartmentDescription: 'FINANCIAL SERVICES' ]\n",
      "this combination doesn't exist, so let's except train scancount condition, then it contains: 0\n",
      "after this combination imputation, NaN still remains: 323\n",
      "\n",
      "------------ Finish ScanCount: -4 ------------\n",
      "\n",
      "------------ Start ScanCount: -5 ------------\n",
      "\n",
      "[ DepartmentDescription: 'PHARMACY RX' ]\n",
      "this combination contains: 0\n",
      "\n",
      "[ DepartmentDescription: 'PHARMACY RX' ]\n",
      "this combination doesn't exist, so let's except train scancount condition, then it contains: 0\n",
      "after this combination imputation, NaN still remains: 323\n",
      "\n",
      "[ DepartmentDescription: 'FINANCIAL SERVICES' ]\n",
      "this combination contains: 1\n",
      "\n",
      "[ DepartmentDescription: 'FINANCIAL SERVICES' ]\n",
      "this combination doesn't exist, so let's except train scancount condition, then it contains: 1\n",
      "after this combination imputation, NaN still remains: 322\n",
      "\n",
      "------------ Finish ScanCount: -5 ------------\n",
      "\n",
      "============ Finish Weekday: Wednesday ============\n",
      "\n",
      "============ Start Weekday: Thursday ============\n",
      "\n",
      "------------ Start ScanCount: 2 ------------\n",
      "\n",
      "[ DepartmentDescription: 'PHARMACY RX' ]\n",
      "this combination contains: 0\n",
      "after this combination imputation, NaN still remains: 322\n",
      "\n",
      "[ DepartmentDescription: 'FINANCIAL SERVICES' ]\n",
      "this combination contains: 1\n",
      "after this combination imputation, NaN still remains: 321\n",
      "\n",
      "------------ Finish ScanCount: 2 ------------\n",
      "\n",
      "------------ Start ScanCount: 1 ------------\n",
      "\n",
      "[ DepartmentDescription: 'PHARMACY RX' ]\n",
      "this combination contains: 301\n",
      "after this combination imputation, NaN still remains: 20\n",
      "\n",
      "[ DepartmentDescription: 'FINANCIAL SERVICES' ]\n",
      "this combination contains: 5\n",
      "after this combination imputation, NaN still remains: 15\n",
      "\n",
      "------------ Finish ScanCount: 1 ------------\n",
      "\n",
      "------------ Start ScanCount: -1 ------------\n",
      "\n",
      "[ DepartmentDescription: 'PHARMACY RX' ]\n",
      "this combination contains: 6\n",
      "after this combination imputation, NaN still remains: 9\n",
      "\n",
      "[ DepartmentDescription: 'FINANCIAL SERVICES' ]\n",
      "this combination contains: 8\n",
      "after this combination imputation, NaN still remains: 1\n",
      "\n",
      "------------ Finish ScanCount: -1 ------------\n",
      "\n",
      "------------ Start ScanCount: -2 ------------\n",
      "\n",
      "[ DepartmentDescription: 'PHARMACY RX' ]\n",
      "this combination contains: 0\n",
      "\n",
      "[ DepartmentDescription: 'PHARMACY RX' ]\n",
      "this combination doesn't exist, so let's except train scancount condition, then it contains: 0\n",
      "after this combination imputation, NaN still remains: 1\n",
      "\n",
      "[ DepartmentDescription: 'FINANCIAL SERVICES' ]\n",
      "this combination contains: 0\n",
      "after this combination imputation, NaN still remains: 1\n",
      "\n",
      "------------ Finish ScanCount: -2 ------------\n",
      "\n",
      "------------ Start ScanCount: -3 ------------\n",
      "\n",
      "[ DepartmentDescription: 'PHARMACY RX' ]\n",
      "this combination contains: 0\n",
      "\n",
      "[ DepartmentDescription: 'PHARMACY RX' ]\n",
      "this combination doesn't exist, so let's except train scancount condition, then it contains: 0\n",
      "after this combination imputation, NaN still remains: 1\n",
      "\n",
      "[ DepartmentDescription: 'FINANCIAL SERVICES' ]\n",
      "this combination contains: 1\n",
      "after this combination imputation, NaN still remains: 0\n",
      "\n",
      "------------ Finish ScanCount: -3 ------------\n",
      "\n",
      "------------ Start ScanCount: -4 ------------\n",
      "\n",
      "[ DepartmentDescription: 'PHARMACY RX' ]\n",
      "this combination contains: 0\n",
      "\n",
      "[ DepartmentDescription: 'PHARMACY RX' ]\n",
      "this combination doesn't exist, so let's except train scancount condition, then it contains: 0\n",
      "after this combination imputation, NaN still remains: 0\n",
      "\n",
      "[ DepartmentDescription: 'FINANCIAL SERVICES' ]\n",
      "this combination contains: 0\n",
      "after this combination imputation, NaN still remains: 0\n",
      "\n",
      "------------ Finish ScanCount: -4 ------------\n",
      "\n",
      "------------ Start ScanCount: -5 ------------\n",
      "\n",
      "[ DepartmentDescription: 'PHARMACY RX' ]\n",
      "this combination contains: 0\n",
      "\n",
      "[ DepartmentDescription: 'PHARMACY RX' ]\n",
      "this combination doesn't exist, so let's except train scancount condition, then it contains: 0\n",
      "after this combination imputation, NaN still remains: 0\n",
      "\n",
      "[ DepartmentDescription: 'FINANCIAL SERVICES' ]\n",
      "this combination contains: 0\n",
      "\n",
      "[ DepartmentDescription: 'FINANCIAL SERVICES' ]\n",
      "this combination doesn't exist, so let's except train scancount condition, then it contains: 0\n",
      "after this combination imputation, NaN still remains: 0\n",
      "\n",
      "------------ Finish ScanCount: -5 ------------\n",
      "\n",
      "============ Finish Weekday: Thursday ============\n",
      "\n",
      "Upc Imputation Finished!\n",
      "After Upc Imputation, NaN count: 0\n"
     ]
    }
   ],
   "source": [
    "test_FinelineNumber_or_Upc_imputation_step2('Upc')"
   ]
  },
  {
   "cell_type": "code",
   "execution_count": 1232,
   "metadata": {
    "scrolled": false
   },
   "outputs": [
    {
     "data": {
      "text/html": [
       "<div>\n",
       "<style scoped>\n",
       "    .dataframe tbody tr th:only-of-type {\n",
       "        vertical-align: middle;\n",
       "    }\n",
       "\n",
       "    .dataframe tbody tr th {\n",
       "        vertical-align: top;\n",
       "    }\n",
       "\n",
       "    .dataframe thead th {\n",
       "        text-align: right;\n",
       "    }\n",
       "</style>\n",
       "<table border=\"1\" class=\"dataframe\">\n",
       "  <thead>\n",
       "    <tr style=\"text-align: right;\">\n",
       "      <th></th>\n",
       "      <th>VisitNumber</th>\n",
       "      <th>Weekday</th>\n",
       "      <th>Upc</th>\n",
       "      <th>ScanCount</th>\n",
       "      <th>DepartmentDescription</th>\n",
       "      <th>FinelineNumber</th>\n",
       "    </tr>\n",
       "  </thead>\n",
       "  <tbody>\n",
       "  </tbody>\n",
       "</table>\n",
       "</div>"
      ],
      "text/plain": [
       "Empty DataFrame\n",
       "Columns: [VisitNumber, Weekday, Upc, ScanCount, DepartmentDescription, FinelineNumber]\n",
       "Index: []"
      ]
     },
     "execution_count": 1232,
     "metadata": {},
     "output_type": "execute_result"
    }
   ],
   "source": [
    "test[test['Upc'].isna()]"
   ]
  },
  {
   "cell_type": "code",
   "execution_count": 1233,
   "metadata": {},
   "outputs": [
    {
     "data": {
      "text/plain": [
       "0"
      ]
     },
     "execution_count": 1233,
     "metadata": {},
     "output_type": "execute_result"
    }
   ],
   "source": [
    "# after imputation step2\n",
    "test['Upc'].isna().sum()"
   ]
  },
  {
   "cell_type": "markdown",
   "metadata": {},
   "source": [
    "## Check Train 'NaN' data after Imputation"
   ]
  },
  {
   "cell_type": "code",
   "execution_count": 1234,
   "metadata": {},
   "outputs": [
    {
     "data": {
      "text/html": [
       "<div>\n",
       "<style scoped>\n",
       "    .dataframe tbody tr th:only-of-type {\n",
       "        vertical-align: middle;\n",
       "    }\n",
       "\n",
       "    .dataframe tbody tr th {\n",
       "        vertical-align: top;\n",
       "    }\n",
       "\n",
       "    .dataframe thead th {\n",
       "        text-align: right;\n",
       "    }\n",
       "</style>\n",
       "<table border=\"1\" class=\"dataframe\">\n",
       "  <thead>\n",
       "    <tr style=\"text-align: right;\">\n",
       "      <th></th>\n",
       "      <th>MV_count</th>\n",
       "      <th>MV_ratio</th>\n",
       "    </tr>\n",
       "  </thead>\n",
       "  <tbody>\n",
       "    <tr>\n",
       "      <th>TripType</th>\n",
       "      <td>0</td>\n",
       "      <td>0.0</td>\n",
       "    </tr>\n",
       "    <tr>\n",
       "      <th>VisitNumber</th>\n",
       "      <td>0</td>\n",
       "      <td>0.0</td>\n",
       "    </tr>\n",
       "    <tr>\n",
       "      <th>Weekday</th>\n",
       "      <td>0</td>\n",
       "      <td>0.0</td>\n",
       "    </tr>\n",
       "    <tr>\n",
       "      <th>Upc</th>\n",
       "      <td>0</td>\n",
       "      <td>0.0</td>\n",
       "    </tr>\n",
       "    <tr>\n",
       "      <th>ScanCount</th>\n",
       "      <td>0</td>\n",
       "      <td>0.0</td>\n",
       "    </tr>\n",
       "    <tr>\n",
       "      <th>DepartmentDescription</th>\n",
       "      <td>0</td>\n",
       "      <td>0.0</td>\n",
       "    </tr>\n",
       "    <tr>\n",
       "      <th>FinelineNumber</th>\n",
       "      <td>0</td>\n",
       "      <td>0.0</td>\n",
       "    </tr>\n",
       "  </tbody>\n",
       "</table>\n",
       "</div>"
      ],
      "text/plain": [
       "                       MV_count  MV_ratio\n",
       "TripType                      0       0.0\n",
       "VisitNumber                   0       0.0\n",
       "Weekday                       0       0.0\n",
       "Upc                           0       0.0\n",
       "ScanCount                     0       0.0\n",
       "DepartmentDescription         0       0.0\n",
       "FinelineNumber                0       0.0"
      ]
     },
     "execution_count": 1234,
     "metadata": {},
     "output_type": "execute_result"
    }
   ],
   "source": [
    "desc = train.describe(include='all').transpose()\n",
    "desc['MV_count'] = train.isnull().sum()\n",
    "desc['MV_ratio'] = desc['MV_count']/train.shape[0]\n",
    "desc[['MV_count','MV_ratio']]"
   ]
  },
  {
   "cell_type": "markdown",
   "metadata": {},
   "source": [
    "## Check Test 'NaN' data after Imputation"
   ]
  },
  {
   "cell_type": "code",
   "execution_count": 1235,
   "metadata": {},
   "outputs": [
    {
     "data": {
      "text/html": [
       "<div>\n",
       "<style scoped>\n",
       "    .dataframe tbody tr th:only-of-type {\n",
       "        vertical-align: middle;\n",
       "    }\n",
       "\n",
       "    .dataframe tbody tr th {\n",
       "        vertical-align: top;\n",
       "    }\n",
       "\n",
       "    .dataframe thead th {\n",
       "        text-align: right;\n",
       "    }\n",
       "</style>\n",
       "<table border=\"1\" class=\"dataframe\">\n",
       "  <thead>\n",
       "    <tr style=\"text-align: right;\">\n",
       "      <th></th>\n",
       "      <th>MV_count</th>\n",
       "      <th>MV_ratio</th>\n",
       "    </tr>\n",
       "  </thead>\n",
       "  <tbody>\n",
       "    <tr>\n",
       "      <th>TripType</th>\n",
       "      <td>0</td>\n",
       "      <td>0.0</td>\n",
       "    </tr>\n",
       "    <tr>\n",
       "      <th>VisitNumber</th>\n",
       "      <td>0</td>\n",
       "      <td>0.0</td>\n",
       "    </tr>\n",
       "    <tr>\n",
       "      <th>Weekday</th>\n",
       "      <td>0</td>\n",
       "      <td>0.0</td>\n",
       "    </tr>\n",
       "    <tr>\n",
       "      <th>Upc</th>\n",
       "      <td>0</td>\n",
       "      <td>0.0</td>\n",
       "    </tr>\n",
       "    <tr>\n",
       "      <th>ScanCount</th>\n",
       "      <td>0</td>\n",
       "      <td>0.0</td>\n",
       "    </tr>\n",
       "    <tr>\n",
       "      <th>DepartmentDescription</th>\n",
       "      <td>0</td>\n",
       "      <td>0.0</td>\n",
       "    </tr>\n",
       "    <tr>\n",
       "      <th>FinelineNumber</th>\n",
       "      <td>0</td>\n",
       "      <td>0.0</td>\n",
       "    </tr>\n",
       "  </tbody>\n",
       "</table>\n",
       "</div>"
      ],
      "text/plain": [
       "                       MV_count  MV_ratio\n",
       "TripType                      0       0.0\n",
       "VisitNumber                   0       0.0\n",
       "Weekday                       0       0.0\n",
       "Upc                           0       0.0\n",
       "ScanCount                     0       0.0\n",
       "DepartmentDescription         0       0.0\n",
       "FinelineNumber                0       0.0"
      ]
     },
     "execution_count": 1235,
     "metadata": {},
     "output_type": "execute_result"
    }
   ],
   "source": [
    "desc = train.describe(include='all').transpose()\n",
    "desc['MV_count'] = train.isnull().sum()\n",
    "desc['MV_ratio'] = desc['MV_count']/train.shape[0]\n",
    "desc[['MV_count','MV_ratio']]"
   ]
  },
  {
   "cell_type": "code",
   "execution_count": 1236,
   "metadata": {},
   "outputs": [
    {
     "name": "stdout",
     "output_type": "stream",
     "text": [
      "<Response [200]>\n"
     ]
    }
   ],
   "source": [
    "myslack.send_slack('Imputation Finish!!!')"
   ]
  },
  {
   "cell_type": "markdown",
   "metadata": {},
   "source": [
    "## Preprocessing Step2 -  Encoding"
   ]
  },
  {
   "cell_type": "markdown",
   "metadata": {},
   "source": [
    "### Weekday"
   ]
  },
  {
   "cell_type": "code",
   "execution_count": 1237,
   "metadata": {
    "scrolled": true
   },
   "outputs": [
    {
     "data": {
      "text/plain": [
       "Sunday       133975\n",
       "Saturday     122096\n",
       "Friday        96247\n",
       "Monday        83130\n",
       "Tuesday       72529\n",
       "Wednesday     71115\n",
       "Thursday      67962\n",
       "Name: Weekday, dtype: int64"
      ]
     },
     "execution_count": 1237,
     "metadata": {},
     "output_type": "execute_result"
    }
   ],
   "source": [
    "# before\n",
    "train['Weekday'].value_counts()"
   ]
  },
  {
   "cell_type": "code",
   "execution_count": 1238,
   "metadata": {},
   "outputs": [
    {
     "data": {
      "text/plain": [
       "1    133975\n",
       "2    122096\n",
       "3     96247\n",
       "4     83130\n",
       "5     72529\n",
       "6     71115\n",
       "7     67962\n",
       "Name: Weekday, dtype: int64"
      ]
     },
     "execution_count": 1238,
     "metadata": {},
     "output_type": "execute_result"
    }
   ],
   "source": [
    "# after\n",
    "def weekday_preprocessing(dataframe):\n",
    "    weekday_dict={\n",
    "        'Sunday':1,\n",
    "        'Saturday':2,\n",
    "        'Friday':3,\n",
    "        'Monday':4,\n",
    "        'Tuesday':5,\n",
    "        'Wednesday':6,\n",
    "        'Thursday':7,\n",
    "    }\n",
    "    return dataframe['Weekday'].map(weekday_dict)\n",
    "\n",
    "train['Weekday'] = weekday_preprocessing(train)\n",
    "train['Weekday'].value_counts()"
   ]
  },
  {
   "cell_type": "markdown",
   "metadata": {},
   "source": [
    "### ScanCount"
   ]
  },
  {
   "cell_type": "markdown",
   "metadata": {},
   "source": [
    "- VisitNumber로 groupby 할때 sum으로 대체"
   ]
  },
  {
   "cell_type": "code",
   "execution_count": null,
   "metadata": {},
   "outputs": [],
   "source": []
  },
  {
   "cell_type": "code",
   "execution_count": null,
   "metadata": {},
   "outputs": [],
   "source": []
  },
  {
   "cell_type": "code",
   "execution_count": null,
   "metadata": {},
   "outputs": [],
   "source": []
  },
  {
   "cell_type": "code",
   "execution_count": null,
   "metadata": {},
   "outputs": [],
   "source": []
  },
  {
   "cell_type": "code",
   "execution_count": null,
   "metadata": {},
   "outputs": [],
   "source": []
  },
  {
   "cell_type": "code",
   "execution_count": null,
   "metadata": {},
   "outputs": [],
   "source": []
  },
  {
   "cell_type": "code",
   "execution_count": null,
   "metadata": {},
   "outputs": [],
   "source": []
  },
  {
   "cell_type": "code",
   "execution_count": null,
   "metadata": {},
   "outputs": [],
   "source": []
  },
  {
   "cell_type": "code",
   "execution_count": null,
   "metadata": {},
   "outputs": [],
   "source": []
  },
  {
   "cell_type": "code",
   "execution_count": null,
   "metadata": {},
   "outputs": [],
   "source": []
  },
  {
   "cell_type": "code",
   "execution_count": 19,
   "metadata": {
    "scrolled": true
   },
   "outputs": [
    {
     "data": {
      "text/html": [
       "<div>\n",
       "<style scoped>\n",
       "    .dataframe tbody tr th:only-of-type {\n",
       "        vertical-align: middle;\n",
       "    }\n",
       "\n",
       "    .dataframe tbody tr th {\n",
       "        vertical-align: top;\n",
       "    }\n",
       "\n",
       "    .dataframe thead th {\n",
       "        text-align: right;\n",
       "    }\n",
       "</style>\n",
       "<table border=\"1\" class=\"dataframe\">\n",
       "  <thead>\n",
       "    <tr style=\"text-align: right;\">\n",
       "      <th></th>\n",
       "      <th>count</th>\n",
       "      <th>unique</th>\n",
       "      <th>top</th>\n",
       "      <th>freq</th>\n",
       "      <th>mean</th>\n",
       "      <th>std</th>\n",
       "      <th>min</th>\n",
       "      <th>25%</th>\n",
       "      <th>50%</th>\n",
       "      <th>75%</th>\n",
       "      <th>max</th>\n",
       "      <th>MV_count</th>\n",
       "      <th>MV_ratio</th>\n",
       "    </tr>\n",
       "  </thead>\n",
       "  <tbody>\n",
       "    <tr>\n",
       "      <th>TripType</th>\n",
       "      <td>647054</td>\n",
       "      <td>NaN</td>\n",
       "      <td>NaN</td>\n",
       "      <td>NaN</td>\n",
       "      <td>58.5845</td>\n",
       "      <td>157.636</td>\n",
       "      <td>3</td>\n",
       "      <td>27</td>\n",
       "      <td>39</td>\n",
       "      <td>40</td>\n",
       "      <td>999</td>\n",
       "      <td>0</td>\n",
       "      <td>0.000000</td>\n",
       "    </tr>\n",
       "    <tr>\n",
       "      <th>VisitNumber</th>\n",
       "      <td>647054</td>\n",
       "      <td>NaN</td>\n",
       "      <td>NaN</td>\n",
       "      <td>NaN</td>\n",
       "      <td>96167.6</td>\n",
       "      <td>55545.5</td>\n",
       "      <td>5</td>\n",
       "      <td>49268</td>\n",
       "      <td>97074</td>\n",
       "      <td>144316</td>\n",
       "      <td>191347</td>\n",
       "      <td>0</td>\n",
       "      <td>0.000000</td>\n",
       "    </tr>\n",
       "    <tr>\n",
       "      <th>Weekday</th>\n",
       "      <td>647054</td>\n",
       "      <td>NaN</td>\n",
       "      <td>NaN</td>\n",
       "      <td>NaN</td>\n",
       "      <td>3.4997</td>\n",
       "      <td>2.00343</td>\n",
       "      <td>1</td>\n",
       "      <td>2</td>\n",
       "      <td>3</td>\n",
       "      <td>5</td>\n",
       "      <td>7</td>\n",
       "      <td>0</td>\n",
       "      <td>0.000000</td>\n",
       "    </tr>\n",
       "    <tr>\n",
       "      <th>Upc</th>\n",
       "      <td>642925</td>\n",
       "      <td>NaN</td>\n",
       "      <td>NaN</td>\n",
       "      <td>NaN</td>\n",
       "      <td>3.0607e+10</td>\n",
       "      <td>9.12013e+10</td>\n",
       "      <td>834</td>\n",
       "      <td>3.4e+09</td>\n",
       "      <td>7.0501e+09</td>\n",
       "      <td>3.00653e+10</td>\n",
       "      <td>9.78971e+11</td>\n",
       "      <td>4129</td>\n",
       "      <td>0.006381</td>\n",
       "    </tr>\n",
       "    <tr>\n",
       "      <th>ScanCount</th>\n",
       "      <td>647054</td>\n",
       "      <td>NaN</td>\n",
       "      <td>NaN</td>\n",
       "      <td>NaN</td>\n",
       "      <td>1.10888</td>\n",
       "      <td>0.700776</td>\n",
       "      <td>-12</td>\n",
       "      <td>1</td>\n",
       "      <td>1</td>\n",
       "      <td>1</td>\n",
       "      <td>71</td>\n",
       "      <td>0</td>\n",
       "      <td>0.000000</td>\n",
       "    </tr>\n",
       "    <tr>\n",
       "      <th>DepartmentDescription</th>\n",
       "      <td>645693</td>\n",
       "      <td>68</td>\n",
       "      <td>GROCERY DRY GOODS</td>\n",
       "      <td>70402</td>\n",
       "      <td>NaN</td>\n",
       "      <td>NaN</td>\n",
       "      <td>NaN</td>\n",
       "      <td>NaN</td>\n",
       "      <td>NaN</td>\n",
       "      <td>NaN</td>\n",
       "      <td>NaN</td>\n",
       "      <td>1361</td>\n",
       "      <td>0.002103</td>\n",
       "    </tr>\n",
       "    <tr>\n",
       "      <th>FinelineNumber</th>\n",
       "      <td>642925</td>\n",
       "      <td>NaN</td>\n",
       "      <td>NaN</td>\n",
       "      <td>NaN</td>\n",
       "      <td>3726.88</td>\n",
       "      <td>2780.97</td>\n",
       "      <td>0</td>\n",
       "      <td>1404</td>\n",
       "      <td>3352</td>\n",
       "      <td>5501</td>\n",
       "      <td>9998</td>\n",
       "      <td>4129</td>\n",
       "      <td>0.006381</td>\n",
       "    </tr>\n",
       "  </tbody>\n",
       "</table>\n",
       "</div>"
      ],
      "text/plain": [
       "                        count unique                top   freq        mean  \\\n",
       "TripType               647054    NaN                NaN    NaN     58.5845   \n",
       "VisitNumber            647054    NaN                NaN    NaN     96167.6   \n",
       "Weekday                647054    NaN                NaN    NaN      3.4997   \n",
       "Upc                    642925    NaN                NaN    NaN  3.0607e+10   \n",
       "ScanCount              647054    NaN                NaN    NaN     1.10888   \n",
       "DepartmentDescription  645693     68  GROCERY DRY GOODS  70402         NaN   \n",
       "FinelineNumber         642925    NaN                NaN    NaN     3726.88   \n",
       "\n",
       "                               std  min      25%         50%          75%  \\\n",
       "TripType                   157.636    3       27          39           40   \n",
       "VisitNumber                55545.5    5    49268       97074       144316   \n",
       "Weekday                    2.00343    1        2           3            5   \n",
       "Upc                    9.12013e+10  834  3.4e+09  7.0501e+09  3.00653e+10   \n",
       "ScanCount                 0.700776  -12        1           1            1   \n",
       "DepartmentDescription          NaN  NaN      NaN         NaN          NaN   \n",
       "FinelineNumber             2780.97    0     1404        3352         5501   \n",
       "\n",
       "                               max  MV_count  MV_ratio  \n",
       "TripType                       999         0  0.000000  \n",
       "VisitNumber                 191347         0  0.000000  \n",
       "Weekday                          7         0  0.000000  \n",
       "Upc                    9.78971e+11      4129  0.006381  \n",
       "ScanCount                       71         0  0.000000  \n",
       "DepartmentDescription          NaN      1361  0.002103  \n",
       "FinelineNumber                9998      4129  0.006381  "
      ]
     },
     "execution_count": 19,
     "metadata": {},
     "output_type": "execute_result"
    }
   ],
   "source": [
    "# after preprocessing\n",
    "desc['MV_count'] = train.isnull().sum()\n",
    "desc['MV_ratio'] = desc['MV_count']/train.shape[0]\n",
    "desc"
   ]
  },
  {
   "cell_type": "code",
   "execution_count": null,
   "metadata": {},
   "outputs": [],
   "source": []
  },
  {
   "cell_type": "markdown",
   "metadata": {},
   "source": [
    "##  Feature importance via Gradient Boosting model"
   ]
  },
  {
   "cell_type": "code",
   "execution_count": 52,
   "metadata": {},
   "outputs": [],
   "source": [
    "X = train.drop(columns='TripType')\n",
    "y = train['TripType']"
   ]
  },
  {
   "cell_type": "code",
   "execution_count": 54,
   "metadata": {},
   "outputs": [
    {
     "ename": "ValueError",
     "evalue": "could not convert string to float: 'GROCERY DRY GOODS'",
     "output_type": "error",
     "traceback": [
      "\u001b[0;31m---------------------------------------------------------------------------\u001b[0m",
      "\u001b[0;31mValueError\u001b[0m                                Traceback (most recent call last)",
      "\u001b[0;32m<ipython-input-54-ada2654657c2>\u001b[0m in \u001b[0;36m<module>\u001b[0;34m()\u001b[0m\n\u001b[1;32m      2\u001b[0m \u001b[0;34m\u001b[0m\u001b[0m\n\u001b[1;32m      3\u001b[0m \u001b[0mgb\u001b[0m \u001b[0;34m=\u001b[0m \u001b[0mGradientBoostingRegressor\u001b[0m\u001b[0;34m(\u001b[0m\u001b[0;34m)\u001b[0m\u001b[0;34m\u001b[0m\u001b[0m\n\u001b[0;32m----> 4\u001b[0;31m \u001b[0mgb\u001b[0m\u001b[0;34m.\u001b[0m\u001b[0mfit\u001b[0m\u001b[0;34m(\u001b[0m\u001b[0mX\u001b[0m\u001b[0;34m,\u001b[0m \u001b[0my\u001b[0m\u001b[0;34m)\u001b[0m\u001b[0;34m\u001b[0m\u001b[0m\n\u001b[0m\u001b[1;32m      5\u001b[0m \u001b[0mfeatures\u001b[0m \u001b[0;34m=\u001b[0m \u001b[0mX\u001b[0m\u001b[0;34m.\u001b[0m\u001b[0mcolumns\u001b[0m\u001b[0;34m.\u001b[0m\u001b[0mvalues\u001b[0m\u001b[0;34m\u001b[0m\u001b[0m\n\u001b[1;32m      6\u001b[0m \u001b[0;34m\u001b[0m\u001b[0m\n",
      "\u001b[0;32m/Library/Frameworks/Python.framework/Versions/3.6/lib/python3.6/site-packages/sklearn/ensemble/gradient_boosting.py\u001b[0m in \u001b[0;36mfit\u001b[0;34m(self, X, y, sample_weight, monitor)\u001b[0m\n\u001b[1;32m    977\u001b[0m \u001b[0;34m\u001b[0m\u001b[0m\n\u001b[1;32m    978\u001b[0m         \u001b[0;31m# Check input\u001b[0m\u001b[0;34m\u001b[0m\u001b[0;34m\u001b[0m\u001b[0m\n\u001b[0;32m--> 979\u001b[0;31m         \u001b[0mX\u001b[0m\u001b[0;34m,\u001b[0m \u001b[0my\u001b[0m \u001b[0;34m=\u001b[0m \u001b[0mcheck_X_y\u001b[0m\u001b[0;34m(\u001b[0m\u001b[0mX\u001b[0m\u001b[0;34m,\u001b[0m \u001b[0my\u001b[0m\u001b[0;34m,\u001b[0m \u001b[0maccept_sparse\u001b[0m\u001b[0;34m=\u001b[0m\u001b[0;34m[\u001b[0m\u001b[0;34m'csr'\u001b[0m\u001b[0;34m,\u001b[0m \u001b[0;34m'csc'\u001b[0m\u001b[0;34m,\u001b[0m \u001b[0;34m'coo'\u001b[0m\u001b[0;34m]\u001b[0m\u001b[0;34m,\u001b[0m \u001b[0mdtype\u001b[0m\u001b[0;34m=\u001b[0m\u001b[0mDTYPE\u001b[0m\u001b[0;34m)\u001b[0m\u001b[0;34m\u001b[0m\u001b[0m\n\u001b[0m\u001b[1;32m    980\u001b[0m         \u001b[0mn_samples\u001b[0m\u001b[0;34m,\u001b[0m \u001b[0mself\u001b[0m\u001b[0;34m.\u001b[0m\u001b[0mn_features_\u001b[0m \u001b[0;34m=\u001b[0m \u001b[0mX\u001b[0m\u001b[0;34m.\u001b[0m\u001b[0mshape\u001b[0m\u001b[0;34m\u001b[0m\u001b[0m\n\u001b[1;32m    981\u001b[0m         \u001b[0;32mif\u001b[0m \u001b[0msample_weight\u001b[0m \u001b[0;32mis\u001b[0m \u001b[0;32mNone\u001b[0m\u001b[0;34m:\u001b[0m\u001b[0;34m\u001b[0m\u001b[0m\n",
      "\u001b[0;32m/Library/Frameworks/Python.framework/Versions/3.6/lib/python3.6/site-packages/sklearn/utils/validation.py\u001b[0m in \u001b[0;36mcheck_X_y\u001b[0;34m(X, y, accept_sparse, dtype, order, copy, force_all_finite, ensure_2d, allow_nd, multi_output, ensure_min_samples, ensure_min_features, y_numeric, warn_on_dtype, estimator)\u001b[0m\n\u001b[1;32m    571\u001b[0m     X = check_array(X, accept_sparse, dtype, order, copy, force_all_finite,\n\u001b[1;32m    572\u001b[0m                     \u001b[0mensure_2d\u001b[0m\u001b[0;34m,\u001b[0m \u001b[0mallow_nd\u001b[0m\u001b[0;34m,\u001b[0m \u001b[0mensure_min_samples\u001b[0m\u001b[0;34m,\u001b[0m\u001b[0;34m\u001b[0m\u001b[0m\n\u001b[0;32m--> 573\u001b[0;31m                     ensure_min_features, warn_on_dtype, estimator)\n\u001b[0m\u001b[1;32m    574\u001b[0m     \u001b[0;32mif\u001b[0m \u001b[0mmulti_output\u001b[0m\u001b[0;34m:\u001b[0m\u001b[0;34m\u001b[0m\u001b[0m\n\u001b[1;32m    575\u001b[0m         y = check_array(y, 'csr', force_all_finite=True, ensure_2d=False,\n",
      "\u001b[0;32m/Library/Frameworks/Python.framework/Versions/3.6/lib/python3.6/site-packages/sklearn/utils/validation.py\u001b[0m in \u001b[0;36mcheck_array\u001b[0;34m(array, accept_sparse, dtype, order, copy, force_all_finite, ensure_2d, allow_nd, ensure_min_samples, ensure_min_features, warn_on_dtype, estimator)\u001b[0m\n\u001b[1;32m    431\u001b[0m                                       force_all_finite)\n\u001b[1;32m    432\u001b[0m     \u001b[0;32melse\u001b[0m\u001b[0;34m:\u001b[0m\u001b[0;34m\u001b[0m\u001b[0m\n\u001b[0;32m--> 433\u001b[0;31m         \u001b[0marray\u001b[0m \u001b[0;34m=\u001b[0m \u001b[0mnp\u001b[0m\u001b[0;34m.\u001b[0m\u001b[0marray\u001b[0m\u001b[0;34m(\u001b[0m\u001b[0marray\u001b[0m\u001b[0;34m,\u001b[0m \u001b[0mdtype\u001b[0m\u001b[0;34m=\u001b[0m\u001b[0mdtype\u001b[0m\u001b[0;34m,\u001b[0m \u001b[0morder\u001b[0m\u001b[0;34m=\u001b[0m\u001b[0morder\u001b[0m\u001b[0;34m,\u001b[0m \u001b[0mcopy\u001b[0m\u001b[0;34m=\u001b[0m\u001b[0mcopy\u001b[0m\u001b[0;34m)\u001b[0m\u001b[0;34m\u001b[0m\u001b[0m\n\u001b[0m\u001b[1;32m    434\u001b[0m \u001b[0;34m\u001b[0m\u001b[0m\n\u001b[1;32m    435\u001b[0m         \u001b[0;32mif\u001b[0m \u001b[0mensure_2d\u001b[0m\u001b[0;34m:\u001b[0m\u001b[0;34m\u001b[0m\u001b[0m\n",
      "\u001b[0;31mValueError\u001b[0m: could not convert string to float: 'GROCERY DRY GOODS'"
     ]
    }
   ],
   "source": [
    "start_time=time.time()\n",
    "\n",
    "gb = GradientBoostingRegressor()\n",
    "gb.fit(X, y)\n",
    "features = X.columns.values\n",
    "\n",
    "end_time=time.time()\n",
    "print(\"total time in the current cell \",end_time-start_time,\"s\")"
   ]
  },
  {
   "cell_type": "code",
   "execution_count": 46,
   "metadata": {},
   "outputs": [
    {
     "data": {
      "application/vnd.plotly.v1+json": {
       "data": [
        {
         "marker": {
          "color": [
           0.07563775956576074,
           0.006820549079465375,
           0.18466926681960516,
           0.30402486121218003,
           0.13621030328193034,
           0.29263726004105833
          ],
          "colorscale": "Portland",
          "showscale": true,
          "size": 13,
          "sizemode": "diameter",
          "sizeref": 1
         },
         "mode": "markers",
         "text": [
          "TripType",
          "VisitNumber",
          "Weekday",
          "Upc",
          "ScanCount",
          "DepartmentDescription",
          "FinelineNumber"
         ],
         "type": "scatter",
         "uid": "381b4474-92e2-11e8-b34a-8c8590746e45",
         "x": [
          "TripType",
          "VisitNumber",
          "Weekday",
          "Upc",
          "ScanCount",
          "DepartmentDescription",
          "FinelineNumber"
         ],
         "y": [
          0.07563775956576074,
          0.006820549079465375,
          0.18466926681960516,
          0.30402486121218003,
          0.13621030328193034,
          0.29263726004105833
         ]
        }
       ],
       "layout": {
        "autosize": true,
        "hovermode": "closest",
        "showlegend": false,
        "title": "Gradient Boosting Machine Feature Importance",
        "xaxis": {
         "showgrid": false,
         "showline": false,
         "ticklen": 5,
         "zeroline": false
        },
        "yaxis": {
         "gridwidth": 2,
         "showgrid": false,
         "ticklen": 5,
         "title": "Feature Importance",
         "zeroline": false
        }
       }
      },
      "text/html": [
       "<div id=\"1f7caded-776a-4148-8e77-b770cc956464\" style=\"height: 525px; width: 100%;\" class=\"plotly-graph-div\"></div><script type=\"text/javascript\">require([\"plotly\"], function(Plotly) { window.PLOTLYENV=window.PLOTLYENV || {};window.PLOTLYENV.BASE_URL=\"https://plot.ly\";\n",
       "        Plotly.plot(\n",
       "            '1f7caded-776a-4148-8e77-b770cc956464',\n",
       "            [{\"marker\": {\"color\": [0.07563775956576074, 0.006820549079465375, 0.18466926681960516, 0.30402486121218003, 0.13621030328193034, 0.29263726004105833], \"colorscale\": \"Portland\", \"showscale\": true, \"size\": 13, \"sizemode\": \"diameter\", \"sizeref\": 1}, \"mode\": \"markers\", \"text\": [\"TripType\", \"VisitNumber\", \"Weekday\", \"Upc\", \"ScanCount\", \"DepartmentDescription\", \"FinelineNumber\"], \"x\": [\"TripType\", \"VisitNumber\", \"Weekday\", \"Upc\", \"ScanCount\", \"DepartmentDescription\", \"FinelineNumber\"], \"y\": [0.07563775956576074, 0.006820549079465375, 0.18466926681960516, 0.30402486121218003, 0.13621030328193034, 0.29263726004105833], \"type\": \"scatter\", \"uid\": \"381b4474-92e2-11e8-b34a-8c8590746e45\"}],\n",
       "            {\"autosize\": true, \"hovermode\": \"closest\", \"showlegend\": false, \"title\": \"Gradient Boosting Machine Feature Importance\", \"xaxis\": {\"showgrid\": false, \"showline\": false, \"ticklen\": 5, \"zeroline\": false}, \"yaxis\": {\"gridwidth\": 2, \"showgrid\": false, \"ticklen\": 5, \"title\": \"Feature Importance\", \"zeroline\": false}},\n",
       "            {\"showLink\": true, \"linkText\": \"Export to plot.ly\"}\n",
       "        ).then(function () {return Plotly.addFrames('1f7caded-776a-4148-8e77-b770cc956464',{});}).then(function(){Plotly.animate('1f7caded-776a-4148-8e77-b770cc956464');})\n",
       "        });</script>"
      ],
      "text/vnd.plotly.v1+html": [
       "<div id=\"1f7caded-776a-4148-8e77-b770cc956464\" style=\"height: 525px; width: 100%;\" class=\"plotly-graph-div\"></div><script type=\"text/javascript\">require([\"plotly\"], function(Plotly) { window.PLOTLYENV=window.PLOTLYENV || {};window.PLOTLYENV.BASE_URL=\"https://plot.ly\";\n",
       "        Plotly.plot(\n",
       "            '1f7caded-776a-4148-8e77-b770cc956464',\n",
       "            [{\"marker\": {\"color\": [0.07563775956576074, 0.006820549079465375, 0.18466926681960516, 0.30402486121218003, 0.13621030328193034, 0.29263726004105833], \"colorscale\": \"Portland\", \"showscale\": true, \"size\": 13, \"sizemode\": \"diameter\", \"sizeref\": 1}, \"mode\": \"markers\", \"text\": [\"TripType\", \"VisitNumber\", \"Weekday\", \"Upc\", \"ScanCount\", \"DepartmentDescription\", \"FinelineNumber\"], \"x\": [\"TripType\", \"VisitNumber\", \"Weekday\", \"Upc\", \"ScanCount\", \"DepartmentDescription\", \"FinelineNumber\"], \"y\": [0.07563775956576074, 0.006820549079465375, 0.18466926681960516, 0.30402486121218003, 0.13621030328193034, 0.29263726004105833], \"type\": \"scatter\", \"uid\": \"381b4474-92e2-11e8-b34a-8c8590746e45\"}],\n",
       "            {\"autosize\": true, \"hovermode\": \"closest\", \"showlegend\": false, \"title\": \"Gradient Boosting Machine Feature Importance\", \"xaxis\": {\"showgrid\": false, \"showline\": false, \"ticklen\": 5, \"zeroline\": false}, \"yaxis\": {\"gridwidth\": 2, \"showgrid\": false, \"ticklen\": 5, \"title\": \"Feature Importance\", \"zeroline\": false}},\n",
       "            {\"showLink\": true, \"linkText\": \"Export to plot.ly\"}\n",
       "        ).then(function () {return Plotly.addFrames('1f7caded-776a-4148-8e77-b770cc956464',{});}).then(function(){Plotly.animate('1f7caded-776a-4148-8e77-b770cc956464');})\n",
       "        });</script>"
      ]
     },
     "metadata": {},
     "output_type": "display_data"
    }
   ],
   "source": [
    "# Scatter plot \n",
    "trace = go.Scatter(\n",
    "    y = gb.feature_importances_,\n",
    "    x = features,\n",
    "    mode='markers',\n",
    "    marker=dict(\n",
    "        sizemode = 'diameter',\n",
    "        sizeref = 1,\n",
    "        size = 13,\n",
    "        color = gb.feature_importances_,\n",
    "        colorscale='Portland',\n",
    "        showscale=True\n",
    "    ),\n",
    "    text = features\n",
    ")\n",
    "\n",
    "layout= go.Layout(\n",
    "    autosize= True,\n",
    "    title= 'Gradient Boosting Machine Feature Importance',\n",
    "    hovermode= 'closest',\n",
    "     xaxis= dict(\n",
    "         ticklen= 5,\n",
    "         showgrid=False,\n",
    "        zeroline=False,\n",
    "        showline=False\n",
    "     ),\n",
    "    yaxis=dict(\n",
    "        title= 'Feature Importance',\n",
    "        showgrid=False,\n",
    "        zeroline=False,\n",
    "        ticklen= 5,\n",
    "        gridwidth= 2\n",
    "    ),\n",
    "    showlegend= False\n",
    ")\n",
    "fig = go.Figure(data=[trace], layout=layout)\n",
    "py.iplot(fig)"
   ]
  },
  {
   "cell_type": "code",
   "execution_count": null,
   "metadata": {},
   "outputs": [],
   "source": []
  },
  {
   "cell_type": "code",
   "execution_count": null,
   "metadata": {},
   "outputs": [],
   "source": []
  }
 ],
 "metadata": {
  "kernelspec": {
   "display_name": "Python 3",
   "language": "python",
   "name": "python3"
  },
  "language_info": {
   "codemirror_mode": {
    "name": "ipython",
    "version": 3
   },
   "file_extension": ".py",
   "mimetype": "text/x-python",
   "name": "python",
   "nbconvert_exporter": "python",
   "pygments_lexer": "ipython3",
   "version": "3.6.4"
  }
 },
 "nbformat": 4,
 "nbformat_minor": 2
}
