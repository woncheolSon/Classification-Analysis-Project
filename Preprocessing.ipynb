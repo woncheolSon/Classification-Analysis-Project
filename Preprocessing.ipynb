{
 "cells": [
  {
   "cell_type": "code",
   "execution_count": 2,
   "metadata": {},
   "outputs": [],
   "source": [
    "import numpy as np\n",
    "import pandas as pd\n",
    "import time\n",
    "from tqdm import tqdm\n",
    "from sklearn.ensemble import GradientBoostingRegressor \n"
   ]
  },
  {
   "cell_type": "code",
   "execution_count": 3,
   "metadata": {},
   "outputs": [],
   "source": [
    "train = pd.read_csv(\"./data/train.csv\")\n",
    "test = pd.read_csv(\"./data/test.csv\")\n",
    "samplesub = pd.read_csv(\"./data/sample_submission.csv\")"
   ]
  },
  {
   "cell_type": "markdown",
   "metadata": {},
   "source": [
    "## Check Missing Values"
   ]
  },
  {
   "cell_type": "code",
   "execution_count": 18,
   "metadata": {},
   "outputs": [
    {
     "data": {
      "text/html": [
       "<div>\n",
       "<style scoped>\n",
       "    .dataframe tbody tr th:only-of-type {\n",
       "        vertical-align: middle;\n",
       "    }\n",
       "\n",
       "    .dataframe tbody tr th {\n",
       "        vertical-align: top;\n",
       "    }\n",
       "\n",
       "    .dataframe thead th {\n",
       "        text-align: right;\n",
       "    }\n",
       "</style>\n",
       "<table border=\"1\" class=\"dataframe\">\n",
       "  <thead>\n",
       "    <tr style=\"text-align: right;\">\n",
       "      <th></th>\n",
       "      <th>count</th>\n",
       "      <th>unique</th>\n",
       "      <th>top</th>\n",
       "      <th>freq</th>\n",
       "      <th>mean</th>\n",
       "      <th>std</th>\n",
       "      <th>min</th>\n",
       "      <th>25%</th>\n",
       "      <th>50%</th>\n",
       "      <th>75%</th>\n",
       "      <th>max</th>\n",
       "      <th>MV_count</th>\n",
       "      <th>MV_ratio</th>\n",
       "    </tr>\n",
       "  </thead>\n",
       "  <tbody>\n",
       "    <tr>\n",
       "      <th>TripType</th>\n",
       "      <td>647054</td>\n",
       "      <td>NaN</td>\n",
       "      <td>NaN</td>\n",
       "      <td>NaN</td>\n",
       "      <td>58.5845</td>\n",
       "      <td>157.636</td>\n",
       "      <td>3</td>\n",
       "      <td>27</td>\n",
       "      <td>39</td>\n",
       "      <td>40</td>\n",
       "      <td>999</td>\n",
       "      <td>0</td>\n",
       "      <td>0.000000</td>\n",
       "    </tr>\n",
       "    <tr>\n",
       "      <th>VisitNumber</th>\n",
       "      <td>647054</td>\n",
       "      <td>NaN</td>\n",
       "      <td>NaN</td>\n",
       "      <td>NaN</td>\n",
       "      <td>96167.6</td>\n",
       "      <td>55545.5</td>\n",
       "      <td>5</td>\n",
       "      <td>49268</td>\n",
       "      <td>97074</td>\n",
       "      <td>144316</td>\n",
       "      <td>191347</td>\n",
       "      <td>0</td>\n",
       "      <td>0.000000</td>\n",
       "    </tr>\n",
       "    <tr>\n",
       "      <th>Weekday</th>\n",
       "      <td>647054</td>\n",
       "      <td>NaN</td>\n",
       "      <td>NaN</td>\n",
       "      <td>NaN</td>\n",
       "      <td>3.4997</td>\n",
       "      <td>2.00343</td>\n",
       "      <td>1</td>\n",
       "      <td>2</td>\n",
       "      <td>3</td>\n",
       "      <td>5</td>\n",
       "      <td>7</td>\n",
       "      <td>0</td>\n",
       "      <td>0.000000</td>\n",
       "    </tr>\n",
       "    <tr>\n",
       "      <th>Upc</th>\n",
       "      <td>642925</td>\n",
       "      <td>NaN</td>\n",
       "      <td>NaN</td>\n",
       "      <td>NaN</td>\n",
       "      <td>3.0607e+10</td>\n",
       "      <td>9.12013e+10</td>\n",
       "      <td>834</td>\n",
       "      <td>3.4e+09</td>\n",
       "      <td>7.0501e+09</td>\n",
       "      <td>3.00653e+10</td>\n",
       "      <td>9.78971e+11</td>\n",
       "      <td>4129</td>\n",
       "      <td>0.006381</td>\n",
       "    </tr>\n",
       "    <tr>\n",
       "      <th>ScanCount</th>\n",
       "      <td>647054</td>\n",
       "      <td>NaN</td>\n",
       "      <td>NaN</td>\n",
       "      <td>NaN</td>\n",
       "      <td>1.10888</td>\n",
       "      <td>0.700776</td>\n",
       "      <td>-12</td>\n",
       "      <td>1</td>\n",
       "      <td>1</td>\n",
       "      <td>1</td>\n",
       "      <td>71</td>\n",
       "      <td>0</td>\n",
       "      <td>0.000000</td>\n",
       "    </tr>\n",
       "    <tr>\n",
       "      <th>DepartmentDescription</th>\n",
       "      <td>645693</td>\n",
       "      <td>68</td>\n",
       "      <td>GROCERY DRY GOODS</td>\n",
       "      <td>70402</td>\n",
       "      <td>NaN</td>\n",
       "      <td>NaN</td>\n",
       "      <td>NaN</td>\n",
       "      <td>NaN</td>\n",
       "      <td>NaN</td>\n",
       "      <td>NaN</td>\n",
       "      <td>NaN</td>\n",
       "      <td>1361</td>\n",
       "      <td>0.002103</td>\n",
       "    </tr>\n",
       "    <tr>\n",
       "      <th>FinelineNumber</th>\n",
       "      <td>642925</td>\n",
       "      <td>NaN</td>\n",
       "      <td>NaN</td>\n",
       "      <td>NaN</td>\n",
       "      <td>3726.88</td>\n",
       "      <td>2780.97</td>\n",
       "      <td>0</td>\n",
       "      <td>1404</td>\n",
       "      <td>3352</td>\n",
       "      <td>5501</td>\n",
       "      <td>9998</td>\n",
       "      <td>4129</td>\n",
       "      <td>0.006381</td>\n",
       "    </tr>\n",
       "  </tbody>\n",
       "</table>\n",
       "</div>"
      ],
      "text/plain": [
       "                        count unique                top   freq        mean  \\\n",
       "TripType               647054    NaN                NaN    NaN     58.5845   \n",
       "VisitNumber            647054    NaN                NaN    NaN     96167.6   \n",
       "Weekday                647054    NaN                NaN    NaN      3.4997   \n",
       "Upc                    642925    NaN                NaN    NaN  3.0607e+10   \n",
       "ScanCount              647054    NaN                NaN    NaN     1.10888   \n",
       "DepartmentDescription  645693     68  GROCERY DRY GOODS  70402         NaN   \n",
       "FinelineNumber         642925    NaN                NaN    NaN     3726.88   \n",
       "\n",
       "                               std  min      25%         50%          75%  \\\n",
       "TripType                   157.636    3       27          39           40   \n",
       "VisitNumber                55545.5    5    49268       97074       144316   \n",
       "Weekday                    2.00343    1        2           3            5   \n",
       "Upc                    9.12013e+10  834  3.4e+09  7.0501e+09  3.00653e+10   \n",
       "ScanCount                 0.700776  -12        1           1            1   \n",
       "DepartmentDescription          NaN  NaN      NaN         NaN          NaN   \n",
       "FinelineNumber             2780.97    0     1404        3352         5501   \n",
       "\n",
       "                               max  MV_count  MV_ratio  \n",
       "TripType                       999         0  0.000000  \n",
       "VisitNumber                 191347         0  0.000000  \n",
       "Weekday                          7         0  0.000000  \n",
       "Upc                    9.78971e+11      4129  0.006381  \n",
       "ScanCount                       71         0  0.000000  \n",
       "DepartmentDescription          NaN      1361  0.002103  \n",
       "FinelineNumber                9998      4129  0.006381  "
      ]
     },
     "execution_count": 18,
     "metadata": {},
     "output_type": "execute_result"
    }
   ],
   "source": [
    "desc = train.describe(include='all').transpose()\n",
    "desc['MV_count'] = train.isnull().sum()\n",
    "desc['MV_ratio'] = desc['MV_count']/train.shape[0]\n",
    "desc"
   ]
  },
  {
   "cell_type": "markdown",
   "metadata": {},
   "source": [
    "## Data Preprocessing"
   ]
  },
  {
   "cell_type": "markdown",
   "metadata": {},
   "source": [
    "## 1. Imputation"
   ]
  },
  {
   "cell_type": "markdown",
   "metadata": {},
   "source": [
    "### Upc"
   ]
  },
  {
   "cell_type": "code",
   "execution_count": 50,
   "metadata": {},
   "outputs": [
    {
     "data": {
      "text/plain": [
       "VisitNumber\n",
       "8         hi\n",
       "259       hi\n",
       "409       hi\n",
       "479       hi\n",
       "484       hi\n",
       "496       hi\n",
       "521       hi\n",
       "585       hi\n",
       "619       hi\n",
       "787       hi\n",
       "845       hi\n",
       "897       hi\n",
       "1004      hi\n",
       "1036      hi\n",
       "1064      hi\n",
       "1073      hi\n",
       "1170      hi\n",
       "1179      hi\n",
       "1236      hi\n",
       "1355      hi\n",
       "1392      hi\n",
       "1402      hi\n",
       "1425      hi\n",
       "1487      hi\n",
       "1597      hi\n",
       "1603      hi\n",
       "1627      hi\n",
       "1652      hi\n",
       "1664      hi\n",
       "1676      hi\n",
       "          ..\n",
       "188212    hi\n",
       "188234    hi\n",
       "188248    hi\n",
       "188267    hi\n",
       "188355    hi\n",
       "188391    hi\n",
       "188403    hi\n",
       "188502    hi\n",
       "188580    hi\n",
       "188619    hi\n",
       "188661    hi\n",
       "188673    hi\n",
       "188743    hi\n",
       "188760    hi\n",
       "188775    hi\n",
       "188839    hi\n",
       "188896    hi\n",
       "188898    hi\n",
       "188901    hi\n",
       "188907    hi\n",
       "188940    hi\n",
       "189509    hi\n",
       "189818    hi\n",
       "190133    hi\n",
       "190182    hi\n",
       "190230    hi\n",
       "190309    hi\n",
       "190408    hi\n",
       "190651    hi\n",
       "191080    hi\n",
       "Name: Upc, Length: 2754, dtype: object"
      ]
     },
     "execution_count": 50,
     "metadata": {},
     "output_type": "execute_result"
    }
   ],
   "source": [
    "train[train['Upc'].isnull().any()==True and train['FinelineNumber'].isnull()==True].groupby('VisitNumber')['Upc'].apply(lambda x:'hi')"
   ]
  },
  {
   "cell_type": "code",
   "execution_count": null,
   "metadata": {},
   "outputs": [],
   "source": []
  },
  {
   "cell_type": "code",
   "execution_count": null,
   "metadata": {},
   "outputs": [],
   "source": []
  },
  {
   "cell_type": "code",
   "execution_count": null,
   "metadata": {},
   "outputs": [],
   "source": []
  },
  {
   "cell_type": "code",
   "execution_count": null,
   "metadata": {},
   "outputs": [],
   "source": []
  },
  {
   "cell_type": "code",
   "execution_count": null,
   "metadata": {},
   "outputs": [],
   "source": []
  },
  {
   "cell_type": "code",
   "execution_count": null,
   "metadata": {},
   "outputs": [],
   "source": []
  },
  {
   "cell_type": "code",
   "execution_count": null,
   "metadata": {},
   "outputs": [],
   "source": []
  },
  {
   "cell_type": "code",
   "execution_count": null,
   "metadata": {},
   "outputs": [],
   "source": []
  },
  {
   "cell_type": "code",
   "execution_count": null,
   "metadata": {},
   "outputs": [],
   "source": []
  },
  {
   "cell_type": "markdown",
   "metadata": {},
   "source": [
    "## 2. Encoding"
   ]
  },
  {
   "cell_type": "markdown",
   "metadata": {},
   "source": [
    "### Weekday"
   ]
  },
  {
   "cell_type": "code",
   "execution_count": 12,
   "metadata": {
    "scrolled": true
   },
   "outputs": [
    {
     "data": {
      "text/plain": [
       "Sunday       133975\n",
       "Saturday     122096\n",
       "Friday        96247\n",
       "Monday        83130\n",
       "Tuesday       72529\n",
       "Wednesday     71115\n",
       "Thursday      67962\n",
       "Name: Weekday, dtype: int64"
      ]
     },
     "execution_count": 12,
     "metadata": {},
     "output_type": "execute_result"
    }
   ],
   "source": [
    "# before\n",
    "train['Weekday'].value_counts()"
   ]
  },
  {
   "cell_type": "code",
   "execution_count": 16,
   "metadata": {},
   "outputs": [
    {
     "data": {
      "text/plain": [
       "1    133975\n",
       "2    122096\n",
       "3     96247\n",
       "4     83130\n",
       "5     72529\n",
       "6     71115\n",
       "7     67962\n",
       "Name: Weekday, dtype: int64"
      ]
     },
     "execution_count": 16,
     "metadata": {},
     "output_type": "execute_result"
    }
   ],
   "source": [
    "# after\n",
    "def weekday_preprocessing(dataframe):\n",
    "    weekday_dict={\n",
    "        'Sunday':1,\n",
    "        'Saturday':2,\n",
    "        'Friday':3,\n",
    "        'Monday':4,\n",
    "        'Tuesday':5,\n",
    "        'Wednesday':6,\n",
    "        'Thursday':7,\n",
    "    }\n",
    "    return dataframe['Weekday'].map(weekday_dict)\n",
    "\n",
    "train['Weekday'] = weekday_preprocessing(train)\n",
    "train['Weekday'].value_counts()"
   ]
  },
  {
   "cell_type": "code",
   "execution_count": 20,
   "metadata": {},
   "outputs": [
    {
     "data": {
      "text/html": [
       "<div>\n",
       "<style scoped>\n",
       "    .dataframe tbody tr th:only-of-type {\n",
       "        vertical-align: middle;\n",
       "    }\n",
       "\n",
       "    .dataframe tbody tr th {\n",
       "        vertical-align: top;\n",
       "    }\n",
       "\n",
       "    .dataframe thead th {\n",
       "        text-align: right;\n",
       "    }\n",
       "</style>\n",
       "<table border=\"1\" class=\"dataframe\">\n",
       "  <thead>\n",
       "    <tr style=\"text-align: right;\">\n",
       "      <th></th>\n",
       "      <th>TripType</th>\n",
       "      <th>VisitNumber</th>\n",
       "      <th>Weekday</th>\n",
       "      <th>Upc</th>\n",
       "      <th>ScanCount</th>\n",
       "      <th>DepartmentDescription</th>\n",
       "      <th>FinelineNumber</th>\n",
       "    </tr>\n",
       "  </thead>\n",
       "  <tbody>\n",
       "    <tr>\n",
       "      <th>647049</th>\n",
       "      <td>39</td>\n",
       "      <td>191346</td>\n",
       "      <td>1</td>\n",
       "      <td>3.239000e+10</td>\n",
       "      <td>1</td>\n",
       "      <td>PHARMACY OTC</td>\n",
       "      <td>1118.0</td>\n",
       "    </tr>\n",
       "    <tr>\n",
       "      <th>647050</th>\n",
       "      <td>39</td>\n",
       "      <td>191346</td>\n",
       "      <td>1</td>\n",
       "      <td>7.874205e+09</td>\n",
       "      <td>1</td>\n",
       "      <td>FROZEN FOODS</td>\n",
       "      <td>1752.0</td>\n",
       "    </tr>\n",
       "    <tr>\n",
       "      <th>647051</th>\n",
       "      <td>39</td>\n",
       "      <td>191346</td>\n",
       "      <td>1</td>\n",
       "      <td>4.072000e+03</td>\n",
       "      <td>1</td>\n",
       "      <td>PRODUCE</td>\n",
       "      <td>4170.0</td>\n",
       "    </tr>\n",
       "    <tr>\n",
       "      <th>647052</th>\n",
       "      <td>8</td>\n",
       "      <td>191347</td>\n",
       "      <td>1</td>\n",
       "      <td>4.190008e+09</td>\n",
       "      <td>1</td>\n",
       "      <td>DAIRY</td>\n",
       "      <td>1512.0</td>\n",
       "    </tr>\n",
       "    <tr>\n",
       "      <th>647053</th>\n",
       "      <td>8</td>\n",
       "      <td>191347</td>\n",
       "      <td>1</td>\n",
       "      <td>3.800060e+09</td>\n",
       "      <td>1</td>\n",
       "      <td>GROCERY DRY GOODS</td>\n",
       "      <td>3600.0</td>\n",
       "    </tr>\n",
       "  </tbody>\n",
       "</table>\n",
       "</div>"
      ],
      "text/plain": [
       "        TripType  VisitNumber  Weekday           Upc  ScanCount  \\\n",
       "647049        39       191346        1  3.239000e+10          1   \n",
       "647050        39       191346        1  7.874205e+09          1   \n",
       "647051        39       191346        1  4.072000e+03          1   \n",
       "647052         8       191347        1  4.190008e+09          1   \n",
       "647053         8       191347        1  3.800060e+09          1   \n",
       "\n",
       "       DepartmentDescription  FinelineNumber  \n",
       "647049          PHARMACY OTC          1118.0  \n",
       "647050          FROZEN FOODS          1752.0  \n",
       "647051               PRODUCE          4170.0  \n",
       "647052                 DAIRY          1512.0  \n",
       "647053     GROCERY DRY GOODS          3600.0  "
      ]
     },
     "execution_count": 20,
     "metadata": {},
     "output_type": "execute_result"
    }
   ],
   "source": [
    "train.tail()"
   ]
  },
  {
   "cell_type": "markdown",
   "metadata": {},
   "source": [
    "### ScanCount"
   ]
  },
  {
   "cell_type": "markdown",
   "metadata": {},
   "source": [
    "- VisitNumber로 groupby 할때 sum으로 대체"
   ]
  },
  {
   "cell_type": "code",
   "execution_count": null,
   "metadata": {},
   "outputs": [],
   "source": []
  },
  {
   "cell_type": "code",
   "execution_count": null,
   "metadata": {},
   "outputs": [],
   "source": []
  },
  {
   "cell_type": "code",
   "execution_count": null,
   "metadata": {},
   "outputs": [],
   "source": []
  },
  {
   "cell_type": "code",
   "execution_count": null,
   "metadata": {},
   "outputs": [],
   "source": []
  },
  {
   "cell_type": "code",
   "execution_count": null,
   "metadata": {},
   "outputs": [],
   "source": []
  },
  {
   "cell_type": "code",
   "execution_count": null,
   "metadata": {},
   "outputs": [],
   "source": []
  },
  {
   "cell_type": "code",
   "execution_count": null,
   "metadata": {},
   "outputs": [],
   "source": []
  },
  {
   "cell_type": "code",
   "execution_count": null,
   "metadata": {},
   "outputs": [],
   "source": []
  },
  {
   "cell_type": "code",
   "execution_count": null,
   "metadata": {},
   "outputs": [],
   "source": []
  },
  {
   "cell_type": "code",
   "execution_count": null,
   "metadata": {},
   "outputs": [],
   "source": []
  },
  {
   "cell_type": "code",
   "execution_count": 19,
   "metadata": {
    "scrolled": true
   },
   "outputs": [
    {
     "data": {
      "text/html": [
       "<div>\n",
       "<style scoped>\n",
       "    .dataframe tbody tr th:only-of-type {\n",
       "        vertical-align: middle;\n",
       "    }\n",
       "\n",
       "    .dataframe tbody tr th {\n",
       "        vertical-align: top;\n",
       "    }\n",
       "\n",
       "    .dataframe thead th {\n",
       "        text-align: right;\n",
       "    }\n",
       "</style>\n",
       "<table border=\"1\" class=\"dataframe\">\n",
       "  <thead>\n",
       "    <tr style=\"text-align: right;\">\n",
       "      <th></th>\n",
       "      <th>count</th>\n",
       "      <th>unique</th>\n",
       "      <th>top</th>\n",
       "      <th>freq</th>\n",
       "      <th>mean</th>\n",
       "      <th>std</th>\n",
       "      <th>min</th>\n",
       "      <th>25%</th>\n",
       "      <th>50%</th>\n",
       "      <th>75%</th>\n",
       "      <th>max</th>\n",
       "      <th>MV_count</th>\n",
       "      <th>MV_ratio</th>\n",
       "    </tr>\n",
       "  </thead>\n",
       "  <tbody>\n",
       "    <tr>\n",
       "      <th>TripType</th>\n",
       "      <td>647054</td>\n",
       "      <td>NaN</td>\n",
       "      <td>NaN</td>\n",
       "      <td>NaN</td>\n",
       "      <td>58.5845</td>\n",
       "      <td>157.636</td>\n",
       "      <td>3</td>\n",
       "      <td>27</td>\n",
       "      <td>39</td>\n",
       "      <td>40</td>\n",
       "      <td>999</td>\n",
       "      <td>0</td>\n",
       "      <td>0.000000</td>\n",
       "    </tr>\n",
       "    <tr>\n",
       "      <th>VisitNumber</th>\n",
       "      <td>647054</td>\n",
       "      <td>NaN</td>\n",
       "      <td>NaN</td>\n",
       "      <td>NaN</td>\n",
       "      <td>96167.6</td>\n",
       "      <td>55545.5</td>\n",
       "      <td>5</td>\n",
       "      <td>49268</td>\n",
       "      <td>97074</td>\n",
       "      <td>144316</td>\n",
       "      <td>191347</td>\n",
       "      <td>0</td>\n",
       "      <td>0.000000</td>\n",
       "    </tr>\n",
       "    <tr>\n",
       "      <th>Weekday</th>\n",
       "      <td>647054</td>\n",
       "      <td>NaN</td>\n",
       "      <td>NaN</td>\n",
       "      <td>NaN</td>\n",
       "      <td>3.4997</td>\n",
       "      <td>2.00343</td>\n",
       "      <td>1</td>\n",
       "      <td>2</td>\n",
       "      <td>3</td>\n",
       "      <td>5</td>\n",
       "      <td>7</td>\n",
       "      <td>0</td>\n",
       "      <td>0.000000</td>\n",
       "    </tr>\n",
       "    <tr>\n",
       "      <th>Upc</th>\n",
       "      <td>642925</td>\n",
       "      <td>NaN</td>\n",
       "      <td>NaN</td>\n",
       "      <td>NaN</td>\n",
       "      <td>3.0607e+10</td>\n",
       "      <td>9.12013e+10</td>\n",
       "      <td>834</td>\n",
       "      <td>3.4e+09</td>\n",
       "      <td>7.0501e+09</td>\n",
       "      <td>3.00653e+10</td>\n",
       "      <td>9.78971e+11</td>\n",
       "      <td>4129</td>\n",
       "      <td>0.006381</td>\n",
       "    </tr>\n",
       "    <tr>\n",
       "      <th>ScanCount</th>\n",
       "      <td>647054</td>\n",
       "      <td>NaN</td>\n",
       "      <td>NaN</td>\n",
       "      <td>NaN</td>\n",
       "      <td>1.10888</td>\n",
       "      <td>0.700776</td>\n",
       "      <td>-12</td>\n",
       "      <td>1</td>\n",
       "      <td>1</td>\n",
       "      <td>1</td>\n",
       "      <td>71</td>\n",
       "      <td>0</td>\n",
       "      <td>0.000000</td>\n",
       "    </tr>\n",
       "    <tr>\n",
       "      <th>DepartmentDescription</th>\n",
       "      <td>645693</td>\n",
       "      <td>68</td>\n",
       "      <td>GROCERY DRY GOODS</td>\n",
       "      <td>70402</td>\n",
       "      <td>NaN</td>\n",
       "      <td>NaN</td>\n",
       "      <td>NaN</td>\n",
       "      <td>NaN</td>\n",
       "      <td>NaN</td>\n",
       "      <td>NaN</td>\n",
       "      <td>NaN</td>\n",
       "      <td>1361</td>\n",
       "      <td>0.002103</td>\n",
       "    </tr>\n",
       "    <tr>\n",
       "      <th>FinelineNumber</th>\n",
       "      <td>642925</td>\n",
       "      <td>NaN</td>\n",
       "      <td>NaN</td>\n",
       "      <td>NaN</td>\n",
       "      <td>3726.88</td>\n",
       "      <td>2780.97</td>\n",
       "      <td>0</td>\n",
       "      <td>1404</td>\n",
       "      <td>3352</td>\n",
       "      <td>5501</td>\n",
       "      <td>9998</td>\n",
       "      <td>4129</td>\n",
       "      <td>0.006381</td>\n",
       "    </tr>\n",
       "  </tbody>\n",
       "</table>\n",
       "</div>"
      ],
      "text/plain": [
       "                        count unique                top   freq        mean  \\\n",
       "TripType               647054    NaN                NaN    NaN     58.5845   \n",
       "VisitNumber            647054    NaN                NaN    NaN     96167.6   \n",
       "Weekday                647054    NaN                NaN    NaN      3.4997   \n",
       "Upc                    642925    NaN                NaN    NaN  3.0607e+10   \n",
       "ScanCount              647054    NaN                NaN    NaN     1.10888   \n",
       "DepartmentDescription  645693     68  GROCERY DRY GOODS  70402         NaN   \n",
       "FinelineNumber         642925    NaN                NaN    NaN     3726.88   \n",
       "\n",
       "                               std  min      25%         50%          75%  \\\n",
       "TripType                   157.636    3       27          39           40   \n",
       "VisitNumber                55545.5    5    49268       97074       144316   \n",
       "Weekday                    2.00343    1        2           3            5   \n",
       "Upc                    9.12013e+10  834  3.4e+09  7.0501e+09  3.00653e+10   \n",
       "ScanCount                 0.700776  -12        1           1            1   \n",
       "DepartmentDescription          NaN  NaN      NaN         NaN          NaN   \n",
       "FinelineNumber             2780.97    0     1404        3352         5501   \n",
       "\n",
       "                               max  MV_count  MV_ratio  \n",
       "TripType                       999         0  0.000000  \n",
       "VisitNumber                 191347         0  0.000000  \n",
       "Weekday                          7         0  0.000000  \n",
       "Upc                    9.78971e+11      4129  0.006381  \n",
       "ScanCount                       71         0  0.000000  \n",
       "DepartmentDescription          NaN      1361  0.002103  \n",
       "FinelineNumber                9998      4129  0.006381  "
      ]
     },
     "execution_count": 19,
     "metadata": {},
     "output_type": "execute_result"
    }
   ],
   "source": [
    "# after preprocessing\n",
    "desc['MV_count'] = train.isnull().sum()\n",
    "desc['MV_ratio'] = desc['MV_count']/train.shape[0]\n",
    "desc"
   ]
  },
  {
   "cell_type": "code",
   "execution_count": null,
   "metadata": {},
   "outputs": [],
   "source": []
  },
  {
   "cell_type": "markdown",
   "metadata": {},
   "source": [
    "##  Feature importance via Gradient Boosting model"
   ]
  },
  {
   "cell_type": "code",
   "execution_count": 44,
   "metadata": {},
   "outputs": [],
   "source": [
    "X = data.drop(columns='TripType')\n",
    "y = data['TripType']"
   ]
  },
  {
   "cell_type": "code",
   "execution_count": 45,
   "metadata": {},
   "outputs": [
    {
     "name": "stdout",
     "output_type": "stream",
     "text": [
      "total time in the current cell  35.37821698188782 s\n"
     ]
    }
   ],
   "source": [
    "start_time=time.time()\n",
    "\n",
    "gb = GradientBoostingRegressor()\n",
    "gb.fit(X, y)\n",
    "features = data.columns.values\n",
    "\n",
    "end_time=time.time()\n",
    "print(\"total time in the current cell \",end_time-start_time,\"s\")"
   ]
  },
  {
   "cell_type": "code",
   "execution_count": 46,
   "metadata": {},
   "outputs": [
    {
     "data": {
      "application/vnd.plotly.v1+json": {
       "data": [
        {
         "marker": {
          "color": [
           0.07563775956576074,
           0.006820549079465375,
           0.18466926681960516,
           0.30402486121218003,
           0.13621030328193034,
           0.29263726004105833
          ],
          "colorscale": "Portland",
          "showscale": true,
          "size": 13,
          "sizemode": "diameter",
          "sizeref": 1
         },
         "mode": "markers",
         "text": [
          "TripType",
          "VisitNumber",
          "Weekday",
          "Upc",
          "ScanCount",
          "DepartmentDescription",
          "FinelineNumber"
         ],
         "type": "scatter",
         "uid": "381b4474-92e2-11e8-b34a-8c8590746e45",
         "x": [
          "TripType",
          "VisitNumber",
          "Weekday",
          "Upc",
          "ScanCount",
          "DepartmentDescription",
          "FinelineNumber"
         ],
         "y": [
          0.07563775956576074,
          0.006820549079465375,
          0.18466926681960516,
          0.30402486121218003,
          0.13621030328193034,
          0.29263726004105833
         ]
        }
       ],
       "layout": {
        "autosize": true,
        "hovermode": "closest",
        "showlegend": false,
        "title": "Gradient Boosting Machine Feature Importance",
        "xaxis": {
         "showgrid": false,
         "showline": false,
         "ticklen": 5,
         "zeroline": false
        },
        "yaxis": {
         "gridwidth": 2,
         "showgrid": false,
         "ticklen": 5,
         "title": "Feature Importance",
         "zeroline": false
        }
       }
      },
      "text/html": [
       "<div id=\"1f7caded-776a-4148-8e77-b770cc956464\" style=\"height: 525px; width: 100%;\" class=\"plotly-graph-div\"></div><script type=\"text/javascript\">require([\"plotly\"], function(Plotly) { window.PLOTLYENV=window.PLOTLYENV || {};window.PLOTLYENV.BASE_URL=\"https://plot.ly\";\n",
       "        Plotly.plot(\n",
       "            '1f7caded-776a-4148-8e77-b770cc956464',\n",
       "            [{\"marker\": {\"color\": [0.07563775956576074, 0.006820549079465375, 0.18466926681960516, 0.30402486121218003, 0.13621030328193034, 0.29263726004105833], \"colorscale\": \"Portland\", \"showscale\": true, \"size\": 13, \"sizemode\": \"diameter\", \"sizeref\": 1}, \"mode\": \"markers\", \"text\": [\"TripType\", \"VisitNumber\", \"Weekday\", \"Upc\", \"ScanCount\", \"DepartmentDescription\", \"FinelineNumber\"], \"x\": [\"TripType\", \"VisitNumber\", \"Weekday\", \"Upc\", \"ScanCount\", \"DepartmentDescription\", \"FinelineNumber\"], \"y\": [0.07563775956576074, 0.006820549079465375, 0.18466926681960516, 0.30402486121218003, 0.13621030328193034, 0.29263726004105833], \"type\": \"scatter\", \"uid\": \"381b4474-92e2-11e8-b34a-8c8590746e45\"}],\n",
       "            {\"autosize\": true, \"hovermode\": \"closest\", \"showlegend\": false, \"title\": \"Gradient Boosting Machine Feature Importance\", \"xaxis\": {\"showgrid\": false, \"showline\": false, \"ticklen\": 5, \"zeroline\": false}, \"yaxis\": {\"gridwidth\": 2, \"showgrid\": false, \"ticklen\": 5, \"title\": \"Feature Importance\", \"zeroline\": false}},\n",
       "            {\"showLink\": true, \"linkText\": \"Export to plot.ly\"}\n",
       "        ).then(function () {return Plotly.addFrames('1f7caded-776a-4148-8e77-b770cc956464',{});}).then(function(){Plotly.animate('1f7caded-776a-4148-8e77-b770cc956464');})\n",
       "        });</script>"
      ],
      "text/vnd.plotly.v1+html": [
       "<div id=\"1f7caded-776a-4148-8e77-b770cc956464\" style=\"height: 525px; width: 100%;\" class=\"plotly-graph-div\"></div><script type=\"text/javascript\">require([\"plotly\"], function(Plotly) { window.PLOTLYENV=window.PLOTLYENV || {};window.PLOTLYENV.BASE_URL=\"https://plot.ly\";\n",
       "        Plotly.plot(\n",
       "            '1f7caded-776a-4148-8e77-b770cc956464',\n",
       "            [{\"marker\": {\"color\": [0.07563775956576074, 0.006820549079465375, 0.18466926681960516, 0.30402486121218003, 0.13621030328193034, 0.29263726004105833], \"colorscale\": \"Portland\", \"showscale\": true, \"size\": 13, \"sizemode\": \"diameter\", \"sizeref\": 1}, \"mode\": \"markers\", \"text\": [\"TripType\", \"VisitNumber\", \"Weekday\", \"Upc\", \"ScanCount\", \"DepartmentDescription\", \"FinelineNumber\"], \"x\": [\"TripType\", \"VisitNumber\", \"Weekday\", \"Upc\", \"ScanCount\", \"DepartmentDescription\", \"FinelineNumber\"], \"y\": [0.07563775956576074, 0.006820549079465375, 0.18466926681960516, 0.30402486121218003, 0.13621030328193034, 0.29263726004105833], \"type\": \"scatter\", \"uid\": \"381b4474-92e2-11e8-b34a-8c8590746e45\"}],\n",
       "            {\"autosize\": true, \"hovermode\": \"closest\", \"showlegend\": false, \"title\": \"Gradient Boosting Machine Feature Importance\", \"xaxis\": {\"showgrid\": false, \"showline\": false, \"ticklen\": 5, \"zeroline\": false}, \"yaxis\": {\"gridwidth\": 2, \"showgrid\": false, \"ticklen\": 5, \"title\": \"Feature Importance\", \"zeroline\": false}},\n",
       "            {\"showLink\": true, \"linkText\": \"Export to plot.ly\"}\n",
       "        ).then(function () {return Plotly.addFrames('1f7caded-776a-4148-8e77-b770cc956464',{});}).then(function(){Plotly.animate('1f7caded-776a-4148-8e77-b770cc956464');})\n",
       "        });</script>"
      ]
     },
     "metadata": {},
     "output_type": "display_data"
    }
   ],
   "source": [
    "# Scatter plot \n",
    "trace = go.Scatter(\n",
    "    y = gb.feature_importances_,\n",
    "    x = features,\n",
    "    mode='markers',\n",
    "    marker=dict(\n",
    "        sizemode = 'diameter',\n",
    "        sizeref = 1,\n",
    "        size = 13,\n",
    "        color = gb.feature_importances_,\n",
    "        colorscale='Portland',\n",
    "        showscale=True\n",
    "    ),\n",
    "    text = features\n",
    ")\n",
    "\n",
    "layout= go.Layout(\n",
    "    autosize= True,\n",
    "    title= 'Gradient Boosting Machine Feature Importance',\n",
    "    hovermode= 'closest',\n",
    "     xaxis= dict(\n",
    "         ticklen= 5,\n",
    "         showgrid=False,\n",
    "        zeroline=False,\n",
    "        showline=False\n",
    "     ),\n",
    "    yaxis=dict(\n",
    "        title= 'Feature Importance',\n",
    "        showgrid=False,\n",
    "        zeroline=False,\n",
    "        ticklen= 5,\n",
    "        gridwidth= 2\n",
    "    ),\n",
    "    showlegend= False\n",
    ")\n",
    "fig = go.Figure(data=[trace], layout=layout)\n",
    "py.iplot(fig)"
   ]
  },
  {
   "cell_type": "code",
   "execution_count": null,
   "metadata": {},
   "outputs": [],
   "source": []
  },
  {
   "cell_type": "code",
   "execution_count": null,
   "metadata": {},
   "outputs": [],
   "source": []
  }
 ],
 "metadata": {
  "kernelspec": {
   "display_name": "Python 3",
   "language": "python",
   "name": "python3"
  },
  "language_info": {
   "codemirror_mode": {
    "name": "ipython",
    "version": 3
   },
   "file_extension": ".py",
   "mimetype": "text/x-python",
   "name": "python",
   "nbconvert_exporter": "python",
   "pygments_lexer": "ipython3",
   "version": "3.6.4"
  }
 },
 "nbformat": 4,
 "nbformat_minor": 2
}
