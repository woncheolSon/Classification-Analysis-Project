{
 "cells": [
  {
   "cell_type": "markdown",
   "metadata": {},
   "source": [
    "## csr_matrix ?\n",
    "- 모델링 직전에"
   ]
  },
  {
   "cell_type": "code",
   "execution_count": 99,
   "metadata": {},
   "outputs": [],
   "source": [
    "import numpy as np\n",
    "import pandas as pd\n",
    "import time\n",
    "from tqdm import tqdm\n",
    "from sklearn.ensemble import GradientBoostingRegressor "
   ]
  },
  {
   "cell_type": "code",
   "execution_count": 592,
   "metadata": {},
   "outputs": [],
   "source": [
    "train = pd.read_csv(\"./data/train.csv\")"
   ]
  },
  {
   "cell_type": "code",
   "execution_count": 901,
   "metadata": {},
   "outputs": [],
   "source": [
    "test = pd.read_csv(\"./data/test.csv\")"
   ]
  },
  {
   "cell_type": "code",
   "execution_count": 144,
   "metadata": {},
   "outputs": [],
   "source": [
    "samplesub = pd.read_csv(\"./data/sample_submission.csv\")"
   ]
  },
  {
   "cell_type": "code",
   "execution_count": 644,
   "metadata": {},
   "outputs": [
    {
     "data": {
      "text/html": [
       "<div>\n",
       "<style scoped>\n",
       "    .dataframe tbody tr th:only-of-type {\n",
       "        vertical-align: middle;\n",
       "    }\n",
       "\n",
       "    .dataframe tbody tr th {\n",
       "        vertical-align: top;\n",
       "    }\n",
       "\n",
       "    .dataframe thead th {\n",
       "        text-align: right;\n",
       "    }\n",
       "</style>\n",
       "<table border=\"1\" class=\"dataframe\">\n",
       "  <thead>\n",
       "    <tr style=\"text-align: right;\">\n",
       "      <th></th>\n",
       "      <th>VisitNumber</th>\n",
       "      <th>TripType_3</th>\n",
       "      <th>TripType_4</th>\n",
       "      <th>TripType_5</th>\n",
       "      <th>TripType_6</th>\n",
       "      <th>TripType_7</th>\n",
       "      <th>TripType_8</th>\n",
       "      <th>TripType_9</th>\n",
       "      <th>TripType_12</th>\n",
       "      <th>TripType_14</th>\n",
       "      <th>...</th>\n",
       "      <th>TripType_36</th>\n",
       "      <th>TripType_37</th>\n",
       "      <th>TripType_38</th>\n",
       "      <th>TripType_39</th>\n",
       "      <th>TripType_40</th>\n",
       "      <th>TripType_41</th>\n",
       "      <th>TripType_42</th>\n",
       "      <th>TripType_43</th>\n",
       "      <th>TripType_44</th>\n",
       "      <th>TripType_999</th>\n",
       "    </tr>\n",
       "  </thead>\n",
       "  <tbody>\n",
       "    <tr>\n",
       "      <th>0</th>\n",
       "      <td>1</td>\n",
       "      <td>0</td>\n",
       "      <td>0</td>\n",
       "      <td>0</td>\n",
       "      <td>0</td>\n",
       "      <td>0</td>\n",
       "      <td>0</td>\n",
       "      <td>0</td>\n",
       "      <td>0</td>\n",
       "      <td>0</td>\n",
       "      <td>...</td>\n",
       "      <td>0</td>\n",
       "      <td>0</td>\n",
       "      <td>0</td>\n",
       "      <td>0</td>\n",
       "      <td>0</td>\n",
       "      <td>0</td>\n",
       "      <td>0</td>\n",
       "      <td>0</td>\n",
       "      <td>0</td>\n",
       "      <td>0</td>\n",
       "    </tr>\n",
       "    <tr>\n",
       "      <th>1</th>\n",
       "      <td>2</td>\n",
       "      <td>0</td>\n",
       "      <td>0</td>\n",
       "      <td>0</td>\n",
       "      <td>0</td>\n",
       "      <td>0</td>\n",
       "      <td>0</td>\n",
       "      <td>0</td>\n",
       "      <td>0</td>\n",
       "      <td>0</td>\n",
       "      <td>...</td>\n",
       "      <td>0</td>\n",
       "      <td>0</td>\n",
       "      <td>0</td>\n",
       "      <td>0</td>\n",
       "      <td>0</td>\n",
       "      <td>0</td>\n",
       "      <td>0</td>\n",
       "      <td>0</td>\n",
       "      <td>0</td>\n",
       "      <td>0</td>\n",
       "    </tr>\n",
       "    <tr>\n",
       "      <th>2</th>\n",
       "      <td>3</td>\n",
       "      <td>0</td>\n",
       "      <td>0</td>\n",
       "      <td>0</td>\n",
       "      <td>0</td>\n",
       "      <td>0</td>\n",
       "      <td>0</td>\n",
       "      <td>0</td>\n",
       "      <td>0</td>\n",
       "      <td>0</td>\n",
       "      <td>...</td>\n",
       "      <td>0</td>\n",
       "      <td>0</td>\n",
       "      <td>0</td>\n",
       "      <td>0</td>\n",
       "      <td>0</td>\n",
       "      <td>0</td>\n",
       "      <td>0</td>\n",
       "      <td>0</td>\n",
       "      <td>0</td>\n",
       "      <td>0</td>\n",
       "    </tr>\n",
       "    <tr>\n",
       "      <th>3</th>\n",
       "      <td>4</td>\n",
       "      <td>0</td>\n",
       "      <td>0</td>\n",
       "      <td>0</td>\n",
       "      <td>0</td>\n",
       "      <td>0</td>\n",
       "      <td>0</td>\n",
       "      <td>0</td>\n",
       "      <td>0</td>\n",
       "      <td>0</td>\n",
       "      <td>...</td>\n",
       "      <td>0</td>\n",
       "      <td>0</td>\n",
       "      <td>0</td>\n",
       "      <td>0</td>\n",
       "      <td>0</td>\n",
       "      <td>0</td>\n",
       "      <td>0</td>\n",
       "      <td>0</td>\n",
       "      <td>0</td>\n",
       "      <td>0</td>\n",
       "    </tr>\n",
       "    <tr>\n",
       "      <th>4</th>\n",
       "      <td>6</td>\n",
       "      <td>0</td>\n",
       "      <td>0</td>\n",
       "      <td>0</td>\n",
       "      <td>0</td>\n",
       "      <td>0</td>\n",
       "      <td>0</td>\n",
       "      <td>0</td>\n",
       "      <td>0</td>\n",
       "      <td>0</td>\n",
       "      <td>...</td>\n",
       "      <td>0</td>\n",
       "      <td>0</td>\n",
       "      <td>0</td>\n",
       "      <td>0</td>\n",
       "      <td>0</td>\n",
       "      <td>0</td>\n",
       "      <td>0</td>\n",
       "      <td>0</td>\n",
       "      <td>0</td>\n",
       "      <td>0</td>\n",
       "    </tr>\n",
       "  </tbody>\n",
       "</table>\n",
       "<p>5 rows × 39 columns</p>\n",
       "</div>"
      ],
      "text/plain": [
       "   VisitNumber  TripType_3  TripType_4  TripType_5  TripType_6  TripType_7  \\\n",
       "0            1           0           0           0           0           0   \n",
       "1            2           0           0           0           0           0   \n",
       "2            3           0           0           0           0           0   \n",
       "3            4           0           0           0           0           0   \n",
       "4            6           0           0           0           0           0   \n",
       "\n",
       "   TripType_8  TripType_9  TripType_12  TripType_14      ...       \\\n",
       "0           0           0            0            0      ...        \n",
       "1           0           0            0            0      ...        \n",
       "2           0           0            0            0      ...        \n",
       "3           0           0            0            0      ...        \n",
       "4           0           0            0            0      ...        \n",
       "\n",
       "   TripType_36  TripType_37  TripType_38  TripType_39  TripType_40  \\\n",
       "0            0            0            0            0            0   \n",
       "1            0            0            0            0            0   \n",
       "2            0            0            0            0            0   \n",
       "3            0            0            0            0            0   \n",
       "4            0            0            0            0            0   \n",
       "\n",
       "   TripType_41  TripType_42  TripType_43  TripType_44  TripType_999  \n",
       "0            0            0            0            0             0  \n",
       "1            0            0            0            0             0  \n",
       "2            0            0            0            0             0  \n",
       "3            0            0            0            0             0  \n",
       "4            0            0            0            0             0  \n",
       "\n",
       "[5 rows x 39 columns]"
      ]
     },
     "execution_count": 644,
     "metadata": {},
     "output_type": "execute_result"
    }
   ],
   "source": [
    "samplesub.head()"
   ]
  },
  {
   "cell_type": "markdown",
   "metadata": {},
   "source": [
    "## Data Preprocessing"
   ]
  },
  {
   "cell_type": "markdown",
   "metadata": {},
   "source": [
    "## Check Train 'NaN' data before Imputation"
   ]
  },
  {
   "cell_type": "code",
   "execution_count": 593,
   "metadata": {},
   "outputs": [
    {
     "data": {
      "text/html": [
       "<div>\n",
       "<style scoped>\n",
       "    .dataframe tbody tr th:only-of-type {\n",
       "        vertical-align: middle;\n",
       "    }\n",
       "\n",
       "    .dataframe tbody tr th {\n",
       "        vertical-align: top;\n",
       "    }\n",
       "\n",
       "    .dataframe thead th {\n",
       "        text-align: right;\n",
       "    }\n",
       "</style>\n",
       "<table border=\"1\" class=\"dataframe\">\n",
       "  <thead>\n",
       "    <tr style=\"text-align: right;\">\n",
       "      <th></th>\n",
       "      <th>count</th>\n",
       "      <th>unique</th>\n",
       "      <th>top</th>\n",
       "      <th>freq</th>\n",
       "      <th>mean</th>\n",
       "      <th>std</th>\n",
       "      <th>min</th>\n",
       "      <th>25%</th>\n",
       "      <th>50%</th>\n",
       "      <th>75%</th>\n",
       "      <th>max</th>\n",
       "      <th>MV_count</th>\n",
       "      <th>MV_ratio</th>\n",
       "    </tr>\n",
       "  </thead>\n",
       "  <tbody>\n",
       "    <tr>\n",
       "      <th>TripType</th>\n",
       "      <td>647054</td>\n",
       "      <td>NaN</td>\n",
       "      <td>NaN</td>\n",
       "      <td>NaN</td>\n",
       "      <td>58.5845</td>\n",
       "      <td>157.636</td>\n",
       "      <td>3</td>\n",
       "      <td>27</td>\n",
       "      <td>39</td>\n",
       "      <td>40</td>\n",
       "      <td>999</td>\n",
       "      <td>0</td>\n",
       "      <td>0.000000</td>\n",
       "    </tr>\n",
       "    <tr>\n",
       "      <th>VisitNumber</th>\n",
       "      <td>647054</td>\n",
       "      <td>NaN</td>\n",
       "      <td>NaN</td>\n",
       "      <td>NaN</td>\n",
       "      <td>96167.6</td>\n",
       "      <td>55545.5</td>\n",
       "      <td>5</td>\n",
       "      <td>49268</td>\n",
       "      <td>97074</td>\n",
       "      <td>144316</td>\n",
       "      <td>191347</td>\n",
       "      <td>0</td>\n",
       "      <td>0.000000</td>\n",
       "    </tr>\n",
       "    <tr>\n",
       "      <th>Weekday</th>\n",
       "      <td>647054</td>\n",
       "      <td>7</td>\n",
       "      <td>Sunday</td>\n",
       "      <td>133975</td>\n",
       "      <td>NaN</td>\n",
       "      <td>NaN</td>\n",
       "      <td>NaN</td>\n",
       "      <td>NaN</td>\n",
       "      <td>NaN</td>\n",
       "      <td>NaN</td>\n",
       "      <td>NaN</td>\n",
       "      <td>0</td>\n",
       "      <td>0.000000</td>\n",
       "    </tr>\n",
       "    <tr>\n",
       "      <th>Upc</th>\n",
       "      <td>642925</td>\n",
       "      <td>NaN</td>\n",
       "      <td>NaN</td>\n",
       "      <td>NaN</td>\n",
       "      <td>3.0607e+10</td>\n",
       "      <td>9.12013e+10</td>\n",
       "      <td>834</td>\n",
       "      <td>3.4e+09</td>\n",
       "      <td>7.0501e+09</td>\n",
       "      <td>3.00653e+10</td>\n",
       "      <td>9.78971e+11</td>\n",
       "      <td>4129</td>\n",
       "      <td>0.006381</td>\n",
       "    </tr>\n",
       "    <tr>\n",
       "      <th>ScanCount</th>\n",
       "      <td>647054</td>\n",
       "      <td>NaN</td>\n",
       "      <td>NaN</td>\n",
       "      <td>NaN</td>\n",
       "      <td>1.10888</td>\n",
       "      <td>0.700776</td>\n",
       "      <td>-12</td>\n",
       "      <td>1</td>\n",
       "      <td>1</td>\n",
       "      <td>1</td>\n",
       "      <td>71</td>\n",
       "      <td>0</td>\n",
       "      <td>0.000000</td>\n",
       "    </tr>\n",
       "    <tr>\n",
       "      <th>DepartmentDescription</th>\n",
       "      <td>645693</td>\n",
       "      <td>68</td>\n",
       "      <td>GROCERY DRY GOODS</td>\n",
       "      <td>70402</td>\n",
       "      <td>NaN</td>\n",
       "      <td>NaN</td>\n",
       "      <td>NaN</td>\n",
       "      <td>NaN</td>\n",
       "      <td>NaN</td>\n",
       "      <td>NaN</td>\n",
       "      <td>NaN</td>\n",
       "      <td>1361</td>\n",
       "      <td>0.002103</td>\n",
       "    </tr>\n",
       "    <tr>\n",
       "      <th>FinelineNumber</th>\n",
       "      <td>642925</td>\n",
       "      <td>NaN</td>\n",
       "      <td>NaN</td>\n",
       "      <td>NaN</td>\n",
       "      <td>3726.88</td>\n",
       "      <td>2780.97</td>\n",
       "      <td>0</td>\n",
       "      <td>1404</td>\n",
       "      <td>3352</td>\n",
       "      <td>5501</td>\n",
       "      <td>9998</td>\n",
       "      <td>4129</td>\n",
       "      <td>0.006381</td>\n",
       "    </tr>\n",
       "  </tbody>\n",
       "</table>\n",
       "</div>"
      ],
      "text/plain": [
       "                        count unique                top    freq        mean  \\\n",
       "TripType               647054    NaN                NaN     NaN     58.5845   \n",
       "VisitNumber            647054    NaN                NaN     NaN     96167.6   \n",
       "Weekday                647054      7             Sunday  133975         NaN   \n",
       "Upc                    642925    NaN                NaN     NaN  3.0607e+10   \n",
       "ScanCount              647054    NaN                NaN     NaN     1.10888   \n",
       "DepartmentDescription  645693     68  GROCERY DRY GOODS   70402         NaN   \n",
       "FinelineNumber         642925    NaN                NaN     NaN     3726.88   \n",
       "\n",
       "                               std  min      25%         50%          75%  \\\n",
       "TripType                   157.636    3       27          39           40   \n",
       "VisitNumber                55545.5    5    49268       97074       144316   \n",
       "Weekday                        NaN  NaN      NaN         NaN          NaN   \n",
       "Upc                    9.12013e+10  834  3.4e+09  7.0501e+09  3.00653e+10   \n",
       "ScanCount                 0.700776  -12        1           1            1   \n",
       "DepartmentDescription          NaN  NaN      NaN         NaN          NaN   \n",
       "FinelineNumber             2780.97    0     1404        3352         5501   \n",
       "\n",
       "                               max  MV_count  MV_ratio  \n",
       "TripType                       999         0  0.000000  \n",
       "VisitNumber                 191347         0  0.000000  \n",
       "Weekday                        NaN         0  0.000000  \n",
       "Upc                    9.78971e+11      4129  0.006381  \n",
       "ScanCount                       71         0  0.000000  \n",
       "DepartmentDescription          NaN      1361  0.002103  \n",
       "FinelineNumber                9998      4129  0.006381  "
      ]
     },
     "execution_count": 593,
     "metadata": {},
     "output_type": "execute_result"
    }
   ],
   "source": [
    "train_desc = train.describe(include='all').transpose()\n",
    "train_desc['MV_count'] = train.isnull().sum()\n",
    "train_desc['MV_ratio'] = train_desc['MV_count']/train.shape[0]\n",
    "train_desc"
   ]
  },
  {
   "cell_type": "markdown",
   "metadata": {},
   "source": [
    "## Check Test 'NaN' data before Imputation"
   ]
  },
  {
   "cell_type": "code",
   "execution_count": 582,
   "metadata": {},
   "outputs": [
    {
     "data": {
      "text/html": [
       "<div>\n",
       "<style scoped>\n",
       "    .dataframe tbody tr th:only-of-type {\n",
       "        vertical-align: middle;\n",
       "    }\n",
       "\n",
       "    .dataframe tbody tr th {\n",
       "        vertical-align: top;\n",
       "    }\n",
       "\n",
       "    .dataframe thead th {\n",
       "        text-align: right;\n",
       "    }\n",
       "</style>\n",
       "<table border=\"1\" class=\"dataframe\">\n",
       "  <thead>\n",
       "    <tr style=\"text-align: right;\">\n",
       "      <th></th>\n",
       "      <th>count</th>\n",
       "      <th>unique</th>\n",
       "      <th>top</th>\n",
       "      <th>freq</th>\n",
       "      <th>mean</th>\n",
       "      <th>std</th>\n",
       "      <th>min</th>\n",
       "      <th>25%</th>\n",
       "      <th>50%</th>\n",
       "      <th>75%</th>\n",
       "      <th>max</th>\n",
       "      <th>MV_count</th>\n",
       "      <th>MV_ratio</th>\n",
       "    </tr>\n",
       "  </thead>\n",
       "  <tbody>\n",
       "    <tr>\n",
       "      <th>VisitNumber</th>\n",
       "      <td>653646</td>\n",
       "      <td>NaN</td>\n",
       "      <td>NaN</td>\n",
       "      <td>NaN</td>\n",
       "      <td>97041</td>\n",
       "      <td>55575.2</td>\n",
       "      <td>1</td>\n",
       "      <td>49689</td>\n",
       "      <td>98219</td>\n",
       "      <td>145271</td>\n",
       "      <td>191348</td>\n",
       "      <td>0</td>\n",
       "      <td>0.000000</td>\n",
       "    </tr>\n",
       "    <tr>\n",
       "      <th>Weekday</th>\n",
       "      <td>653646</td>\n",
       "      <td>7</td>\n",
       "      <td>Sunday</td>\n",
       "      <td>133233</td>\n",
       "      <td>NaN</td>\n",
       "      <td>NaN</td>\n",
       "      <td>NaN</td>\n",
       "      <td>NaN</td>\n",
       "      <td>NaN</td>\n",
       "      <td>NaN</td>\n",
       "      <td>NaN</td>\n",
       "      <td>0</td>\n",
       "      <td>0.000000</td>\n",
       "    </tr>\n",
       "    <tr>\n",
       "      <th>Upc</th>\n",
       "      <td>649660</td>\n",
       "      <td>NaN</td>\n",
       "      <td>NaN</td>\n",
       "      <td>NaN</td>\n",
       "      <td>3.05432e+10</td>\n",
       "      <td>9.12545e+10</td>\n",
       "      <td>834</td>\n",
       "      <td>3.4e+09</td>\n",
       "      <td>7.04705e+09</td>\n",
       "      <td>3.00417e+10</td>\n",
       "      <td>9.78971e+11</td>\n",
       "      <td>3986</td>\n",
       "      <td>0.006098</td>\n",
       "    </tr>\n",
       "    <tr>\n",
       "      <th>ScanCount</th>\n",
       "      <td>653646</td>\n",
       "      <td>NaN</td>\n",
       "      <td>NaN</td>\n",
       "      <td>NaN</td>\n",
       "      <td>1.10873</td>\n",
       "      <td>0.712841</td>\n",
       "      <td>-21</td>\n",
       "      <td>1</td>\n",
       "      <td>1</td>\n",
       "      <td>1</td>\n",
       "      <td>55</td>\n",
       "      <td>0</td>\n",
       "      <td>0.000000</td>\n",
       "    </tr>\n",
       "    <tr>\n",
       "      <th>DepartmentDescription</th>\n",
       "      <td>652318</td>\n",
       "      <td>67</td>\n",
       "      <td>GROCERY DRY GOODS</td>\n",
       "      <td>72335</td>\n",
       "      <td>NaN</td>\n",
       "      <td>NaN</td>\n",
       "      <td>NaN</td>\n",
       "      <td>NaN</td>\n",
       "      <td>NaN</td>\n",
       "      <td>NaN</td>\n",
       "      <td>NaN</td>\n",
       "      <td>1328</td>\n",
       "      <td>0.002032</td>\n",
       "    </tr>\n",
       "    <tr>\n",
       "      <th>FinelineNumber</th>\n",
       "      <td>649660</td>\n",
       "      <td>NaN</td>\n",
       "      <td>NaN</td>\n",
       "      <td>NaN</td>\n",
       "      <td>3725.24</td>\n",
       "      <td>2776.63</td>\n",
       "      <td>0</td>\n",
       "      <td>1404</td>\n",
       "      <td>3353</td>\n",
       "      <td>5501</td>\n",
       "      <td>9999</td>\n",
       "      <td>3986</td>\n",
       "      <td>0.006098</td>\n",
       "    </tr>\n",
       "  </tbody>\n",
       "</table>\n",
       "</div>"
      ],
      "text/plain": [
       "                        count unique                top    freq         mean  \\\n",
       "VisitNumber            653646    NaN                NaN     NaN        97041   \n",
       "Weekday                653646      7             Sunday  133233          NaN   \n",
       "Upc                    649660    NaN                NaN     NaN  3.05432e+10   \n",
       "ScanCount              653646    NaN                NaN     NaN      1.10873   \n",
       "DepartmentDescription  652318     67  GROCERY DRY GOODS   72335          NaN   \n",
       "FinelineNumber         649660    NaN                NaN     NaN      3725.24   \n",
       "\n",
       "                               std  min      25%          50%          75%  \\\n",
       "VisitNumber                55575.2    1    49689        98219       145271   \n",
       "Weekday                        NaN  NaN      NaN          NaN          NaN   \n",
       "Upc                    9.12545e+10  834  3.4e+09  7.04705e+09  3.00417e+10   \n",
       "ScanCount                 0.712841  -21        1            1            1   \n",
       "DepartmentDescription          NaN  NaN      NaN          NaN          NaN   \n",
       "FinelineNumber             2776.63    0     1404         3353         5501   \n",
       "\n",
       "                               max  MV_count  MV_ratio  \n",
       "VisitNumber                 191348         0  0.000000  \n",
       "Weekday                        NaN         0  0.000000  \n",
       "Upc                    9.78971e+11      3986  0.006098  \n",
       "ScanCount                       55         0  0.000000  \n",
       "DepartmentDescription          NaN      1328  0.002032  \n",
       "FinelineNumber                9999      3986  0.006098  "
      ]
     },
     "execution_count": 582,
     "metadata": {},
     "output_type": "execute_result"
    }
   ],
   "source": [
    "test_desc = test.describe(include='all').transpose()\n",
    "test_desc['MV_count'] = test.isnull().sum()\n",
    "test_desc['MV_ratio'] = test_desc['MV_count']/test.shape[0]\n",
    "test_desc"
   ]
  },
  {
   "cell_type": "markdown",
   "metadata": {},
   "source": [
    "## Preprocessing Step1 - Imputation \n",
    "아래 순서처럼 대분류, 중분류, 소분류 순으로 Imputation 한다.\n",
    "- DepartmentDescription \n",
    "- FinelineNumber\n",
    "- Upc"
   ]
  },
  {
   "cell_type": "markdown",
   "metadata": {},
   "source": [
    "### 1-1. Train - DepartmentDescription"
   ]
  },
  {
   "cell_type": "markdown",
   "metadata": {},
   "source": [
    "- VisitNumber에 따른 DepartmentDescription의 최빈값으로 DepartmentDescription의 NaN 값을 채움"
   ]
  },
  {
   "cell_type": "code",
   "execution_count": 594,
   "metadata": {},
   "outputs": [
    {
     "data": {
      "text/html": [
       "<div>\n",
       "<style scoped>\n",
       "    .dataframe tbody tr th:only-of-type {\n",
       "        vertical-align: middle;\n",
       "    }\n",
       "\n",
       "    .dataframe tbody tr th {\n",
       "        vertical-align: top;\n",
       "    }\n",
       "\n",
       "    .dataframe thead th {\n",
       "        text-align: right;\n",
       "    }\n",
       "</style>\n",
       "<table border=\"1\" class=\"dataframe\">\n",
       "  <thead>\n",
       "    <tr style=\"text-align: right;\">\n",
       "      <th></th>\n",
       "      <th>TripType</th>\n",
       "      <th>VisitNumber</th>\n",
       "      <th>Weekday</th>\n",
       "      <th>Upc</th>\n",
       "      <th>ScanCount</th>\n",
       "      <th>DepartmentDescription</th>\n",
       "      <th>FinelineNumber</th>\n",
       "    </tr>\n",
       "  </thead>\n",
       "  <tbody>\n",
       "  </tbody>\n",
       "</table>\n",
       "</div>"
      ],
      "text/plain": [
       "Empty DataFrame\n",
       "Columns: [TripType, VisitNumber, Weekday, Upc, ScanCount, DepartmentDescription, FinelineNumber]\n",
       "Index: []"
      ]
     },
     "execution_count": 594,
     "metadata": {},
     "output_type": "execute_result"
    }
   ],
   "source": [
    "# 일단 DepartmentDescription에 'MENSWEAR' 와 'MENS WEAR'가 구분되어 있던 것을 'MENS WEAR'로 통일\n",
    "train.loc[train['DepartmentDescription']=='MENSWEAR','DepartmentDescription']='MENS WEAR'\n",
    "train[train['DepartmentDescription']=='MENSWEAR']"
   ]
  },
  {
   "cell_type": "code",
   "execution_count": 595,
   "metadata": {},
   "outputs": [
    {
     "data": {
      "text/plain": [
       "1361"
      ]
     },
     "execution_count": 595,
     "metadata": {},
     "output_type": "execute_result"
    }
   ],
   "source": [
    "# before imputation\n",
    "train['DepartmentDescription'].isna().sum()"
   ]
  },
  {
   "cell_type": "code",
   "execution_count": 596,
   "metadata": {},
   "outputs": [
    {
     "name": "stderr",
     "output_type": "stream",
     "text": [
      "100%|██████████| 1172/1172 [00:37<00:00, 30.98it/s]\n"
     ]
    }
   ],
   "source": [
    "# DepartmentDescription이 NaN 값인 데이터의 VisitNumber 리스트\n",
    "DD_null_VM = train[train['DepartmentDescription'].isna()]['VisitNumber'].unique()\n",
    "# VisitNumber에 따른 DepartmentDescription의 최빈값으로 DepartmentDescription의 NaN 값을 채움\n",
    "for idx in tqdm(DD_null_VM):\n",
    "    if len(train[train[\"VisitNumber\"] == idx][\"DepartmentDescription\"].value_counts().index) != 0:\n",
    "        train.loc[(train[\"VisitNumber\"] == idx)&(train[\"DepartmentDescription\"].isna()), \"DepartmentDescription\"] \\\n",
    "        = train[train[\"VisitNumber\"] == idx][\"DepartmentDescription\"].value_counts().index[0]"
   ]
  },
  {
   "cell_type": "code",
   "execution_count": 597,
   "metadata": {},
   "outputs": [
    {
     "data": {
      "text/plain": [
       "191"
      ]
     },
     "execution_count": 597,
     "metadata": {},
     "output_type": "execute_result"
    }
   ],
   "source": [
    "# after imputation step1\n",
    "train['DepartmentDescription'].isna().sum()"
   ]
  },
  {
   "cell_type": "code",
   "execution_count": 598,
   "metadata": {},
   "outputs": [],
   "source": [
    "# 아직 처리하지 못한 총 191개 데이터는 VisitNumber 따른 DepartmentDescription 값이 모두 비어있는 경우인데\n",
    "# 이 경우 TripType이 모두 999이 때문에 그런 DepartmentDescription는 TripType 999의 DepartmentDescription 최빈값으로 imputation 함.\n",
    "train.loc[train[\"DepartmentDescription\"].isna(), \"DepartmentDescription\"] \\\n",
    "= train[train[\"TripType\"] == 999][\"DepartmentDescription\"].value_counts().index[0]"
   ]
  },
  {
   "cell_type": "code",
   "execution_count": 599,
   "metadata": {},
   "outputs": [
    {
     "data": {
      "text/plain": [
       "'FINANCIAL SERVICES'"
      ]
     },
     "execution_count": 599,
     "metadata": {},
     "output_type": "execute_result"
    }
   ],
   "source": [
    "train[train[\"TripType\"] == 999][\"DepartmentDescription\"].value_counts().index[0]"
   ]
  },
  {
   "cell_type": "code",
   "execution_count": 600,
   "metadata": {},
   "outputs": [
    {
     "data": {
      "text/plain": [
       "0"
      ]
     },
     "execution_count": 600,
     "metadata": {},
     "output_type": "execute_result"
    }
   ],
   "source": [
    "# after imputation step2\n",
    "train['DepartmentDescription'].isna().sum()"
   ]
  },
  {
   "cell_type": "markdown",
   "metadata": {},
   "source": [
    "### 1-2. Test - DepartmentDescription"
   ]
  },
  {
   "cell_type": "markdown",
   "metadata": {},
   "source": [
    "- VisitNumber에 따른 DepartmentDescription의 최빈값으로 DepartmentDescription의 NaN 값을 채움"
   ]
  },
  {
   "cell_type": "code",
   "execution_count": 902,
   "metadata": {},
   "outputs": [
    {
     "data": {
      "text/html": [
       "<div>\n",
       "<style scoped>\n",
       "    .dataframe tbody tr th:only-of-type {\n",
       "        vertical-align: middle;\n",
       "    }\n",
       "\n",
       "    .dataframe tbody tr th {\n",
       "        vertical-align: top;\n",
       "    }\n",
       "\n",
       "    .dataframe thead th {\n",
       "        text-align: right;\n",
       "    }\n",
       "</style>\n",
       "<table border=\"1\" class=\"dataframe\">\n",
       "  <thead>\n",
       "    <tr style=\"text-align: right;\">\n",
       "      <th></th>\n",
       "      <th>VisitNumber</th>\n",
       "      <th>Weekday</th>\n",
       "      <th>Upc</th>\n",
       "      <th>ScanCount</th>\n",
       "      <th>DepartmentDescription</th>\n",
       "      <th>FinelineNumber</th>\n",
       "    </tr>\n",
       "  </thead>\n",
       "  <tbody>\n",
       "  </tbody>\n",
       "</table>\n",
       "</div>"
      ],
      "text/plain": [
       "Empty DataFrame\n",
       "Columns: [VisitNumber, Weekday, Upc, ScanCount, DepartmentDescription, FinelineNumber]\n",
       "Index: []"
      ]
     },
     "execution_count": 902,
     "metadata": {},
     "output_type": "execute_result"
    }
   ],
   "source": [
    "# 일단 DepartmentDescription에 'MENSWEAR' 와 'MENS WEAR'가 구분되어 있던 것을 'MENS WEAR'로 통일\n",
    "test.loc[test['DepartmentDescription']=='MENSWEAR','DepartmentDescription']='MENS WEAR'\n",
    "test[test['DepartmentDescription']=='MENSWEAR']"
   ]
  },
  {
   "cell_type": "code",
   "execution_count": 903,
   "metadata": {},
   "outputs": [
    {
     "data": {
      "text/plain": [
       "1328"
      ]
     },
     "execution_count": 903,
     "metadata": {},
     "output_type": "execute_result"
    }
   ],
   "source": [
    "# before imputation\n",
    "test['DepartmentDescription'].isna().sum()"
   ]
  },
  {
   "cell_type": "code",
   "execution_count": 904,
   "metadata": {},
   "outputs": [
    {
     "name": "stderr",
     "output_type": "stream",
     "text": [
      "100%|██████████| 1141/1141 [00:36<00:00, 30.90it/s]\n"
     ]
    }
   ],
   "source": [
    "# DepartmentDescription이 NaN 값인 데이터의 VisitNumber 리스트\n",
    "DD_null_VM = test[test['DepartmentDescription'].isna()]['VisitNumber'].unique()\n",
    "# VisitNumber에 따른 DepartmentDescription의 최빈값으로 DepartmentDescription의 NaN 값을 채움\n",
    "for idx in tqdm(DD_null_VM):\n",
    "    if len(test[test[\"VisitNumber\"] == idx][\"DepartmentDescription\"].value_counts().index) != 0:\n",
    "        test.loc[(test[\"VisitNumber\"] == idx)&(test[\"DepartmentDescription\"].isna()), \"DepartmentDescription\"] \\\n",
    "        = test[test[\"VisitNumber\"] == idx][\"DepartmentDescription\"].value_counts().index[0]"
   ]
  },
  {
   "cell_type": "code",
   "execution_count": 905,
   "metadata": {},
   "outputs": [
    {
     "data": {
      "text/plain": [
       "219"
      ]
     },
     "execution_count": 905,
     "metadata": {},
     "output_type": "execute_result"
    }
   ],
   "source": [
    "# after imputation step1\n",
    "test['DepartmentDescription'].isna().sum()"
   ]
  },
  {
   "cell_type": "code",
   "execution_count": 906,
   "metadata": {},
   "outputs": [],
   "source": [
    "# 아직 처리하지 못한 총 219개 데이터는 VisitNumber 따른 DepartmentDescription 값이 모두 비어있는 경우인데\n",
    "# 이 경우 Train데이터에서 TripType이 모두 999이었고 그런 DepartmentDescription의 최빈값인 'FINANCIAL SERVICES'로 imputaion 함.\n",
    "test.loc[test[\"DepartmentDescription\"].isna(), \"DepartmentDescription\"] = 'FINANCIAL SERVICES'"
   ]
  },
  {
   "cell_type": "code",
   "execution_count": 907,
   "metadata": {},
   "outputs": [
    {
     "data": {
      "text/plain": [
       "'FINANCIAL SERVICES'"
      ]
     },
     "execution_count": 907,
     "metadata": {},
     "output_type": "execute_result"
    }
   ],
   "source": [
    "train[train[\"TripType\"] == 999][\"DepartmentDescription\"].value_counts().index[0]"
   ]
  },
  {
   "cell_type": "code",
   "execution_count": 908,
   "metadata": {},
   "outputs": [
    {
     "data": {
      "text/plain": [
       "0"
      ]
     },
     "execution_count": 908,
     "metadata": {},
     "output_type": "execute_result"
    }
   ],
   "source": [
    "# after imputation step2\n",
    "test['DepartmentDescription'].isna().sum()"
   ]
  },
  {
   "cell_type": "markdown",
   "metadata": {},
   "source": [
    "### 2-1. Train - FinelineNumber"
   ]
  },
  {
   "cell_type": "markdown",
   "metadata": {},
   "source": [
    "- VisitNumber에 따른 FinelineNumber의 최빈값으로 FinelineNumber의 NaN 값을 채움"
   ]
  },
  {
   "cell_type": "code",
   "execution_count": 602,
   "metadata": {},
   "outputs": [
    {
     "data": {
      "text/plain": [
       "4129"
      ]
     },
     "execution_count": 602,
     "metadata": {},
     "output_type": "execute_result"
    }
   ],
   "source": [
    "# before imputation\n",
    "train['FinelineNumber'].isna().sum()"
   ]
  },
  {
   "cell_type": "code",
   "execution_count": 603,
   "metadata": {},
   "outputs": [
    {
     "name": "stderr",
     "output_type": "stream",
     "text": [
      "100%|██████████| 2754/2754 [00:15<00:00, 172.27it/s]\n"
     ]
    }
   ],
   "source": [
    "# DepartmentDescription이 NaN 값인 데이터의 VisitNumber 리스트\n",
    "DD_null_VM = train[train['FinelineNumber'].isna()]['VisitNumber'].unique()\n",
    "# VisitNumber에 따른 DepartmentDescription의 최빈값으로 DepartmentDescription의 NaN 값을 채움\n",
    "for idx in tqdm(DD_null_VM):\n",
    "    if len(train[train[\"VisitNumber\"] == idx][\"FinelineNumber\"].value_counts().index) != 0:\n",
    "        train.loc[(train[\"VisitNumber\"] == idx)&(train[\"FinelineNumber\"].isna()), \"FinelineNumber\"] \\\n",
    "        = train[train[\"VisitNumber\"] == idx][\"FinelineNumber\"].value_counts().index[0]"
   ]
  },
  {
   "cell_type": "code",
   "execution_count": 604,
   "metadata": {},
   "outputs": [
    {
     "data": {
      "text/plain": [
       "2369"
      ]
     },
     "execution_count": 604,
     "metadata": {},
     "output_type": "execute_result"
    }
   ],
   "source": [
    "# after imputation step1\n",
    "train['FinelineNumber'].isna().sum()"
   ]
  },
  {
   "cell_type": "code",
   "execution_count": 605,
   "metadata": {},
   "outputs": [
    {
     "data": {
      "text/plain": [
       "5      2089\n",
       "999     280\n",
       "Name: TripType, dtype: int64"
      ]
     },
     "execution_count": 605,
     "metadata": {},
     "output_type": "execute_result"
    }
   ],
   "source": [
    "# 아직 처리하지 못한 총 2369개 데이터는 TripType으로 구분해보면 5와 999 두 개로 나뉜다.\n",
    "train[train['FinelineNumber'].isna()]['TripType'].value_counts()"
   ]
  },
  {
   "cell_type": "code",
   "execution_count": 606,
   "metadata": {},
   "outputs": [
    {
     "data": {
      "text/plain": [
       "Int64Index([ 74003,  52567, 111813, 114942, 156445,  83995,  41497,  79927,\n",
       "              1860,  69775,\n",
       "            ...\n",
       "            168331,  78201, 127351,  78197, 168307,  16747,  14684, 102743,\n",
       "              2390,  16384],\n",
       "           dtype='int64', length=1427)"
      ]
     },
     "execution_count": 606,
     "metadata": {},
     "output_type": "execute_result"
    }
   ],
   "source": [
    "train_after_step1_FL_null_VM_list = train[train['FinelineNumber'].isna()]['VisitNumber'].value_counts().index\n",
    "train_after_step1_FL_null_VM_list"
   ]
  },
  {
   "cell_type": "code",
   "execution_count": 607,
   "metadata": {},
   "outputs": [],
   "source": [
    "# 따라서 각 TripType의 최빈 FinelineNumber 값으로 imputation 함.\n",
    "train.loc[(train[\"TripType\"] == 5)&(train[\"FinelineNumber\"].isna()), \"FinelineNumber\"] \\\n",
    "= train[train[\"TripType\"] == 5][\"FinelineNumber\"].value_counts().index[0]\n",
    "train.loc[(train[\"TripType\"] == 999)&(train[\"FinelineNumber\"].isna()), \"FinelineNumber\"] \\\n",
    "= train[train[\"TripType\"] == 999][\"FinelineNumber\"].value_counts().index[0]"
   ]
  },
  {
   "cell_type": "code",
   "execution_count": 608,
   "metadata": {},
   "outputs": [
    {
     "data": {
      "text/plain": [
       "5501.0"
      ]
     },
     "execution_count": 608,
     "metadata": {},
     "output_type": "execute_result"
    }
   ],
   "source": [
    "train[train[\"TripType\"] == 5][\"FinelineNumber\"].value_counts().index[0]"
   ]
  },
  {
   "cell_type": "code",
   "execution_count": 609,
   "metadata": {},
   "outputs": [
    {
     "data": {
      "text/plain": [
       "279.0"
      ]
     },
     "execution_count": 609,
     "metadata": {},
     "output_type": "execute_result"
    }
   ],
   "source": [
    "train[train[\"TripType\"] == 999][\"FinelineNumber\"].value_counts().index[0]"
   ]
  },
  {
   "cell_type": "code",
   "execution_count": 610,
   "metadata": {
    "scrolled": true
   },
   "outputs": [
    {
     "data": {
      "text/plain": [
       "0"
      ]
     },
     "execution_count": 610,
     "metadata": {},
     "output_type": "execute_result"
    }
   ],
   "source": [
    "# after imputation step2\n",
    "train['FinelineNumber'].isna().sum()"
   ]
  },
  {
   "cell_type": "markdown",
   "metadata": {},
   "source": [
    "### 2-2. Test - FinelineNumber"
   ]
  },
  {
   "cell_type": "markdown",
   "metadata": {},
   "source": [
    "- VisitNumber에 따른 FinelineNumber의 최빈값으로 FinelineNumber의 NaN 값을 채움"
   ]
  },
  {
   "cell_type": "code",
   "execution_count": 909,
   "metadata": {},
   "outputs": [
    {
     "data": {
      "text/plain": [
       "3986"
      ]
     },
     "execution_count": 909,
     "metadata": {},
     "output_type": "execute_result"
    }
   ],
   "source": [
    "# before imputation\n",
    "test['FinelineNumber'].isna().sum()"
   ]
  },
  {
   "cell_type": "code",
   "execution_count": 910,
   "metadata": {},
   "outputs": [
    {
     "name": "stderr",
     "output_type": "stream",
     "text": [
      "100%|██████████| 2706/2706 [00:18<00:00, 150.32it/s]\n"
     ]
    }
   ],
   "source": [
    "# DepartmentDescription이 NaN 값인 데이터의 VisitNumber 리스트\n",
    "DD_null_VM = test[test['FinelineNumber'].isna()]['VisitNumber'].unique()\n",
    "# VisitNumber에 따른 DepartmentDescription의 최빈값으로 DepartmentDescription의 NaN 값을 채움\n",
    "for idx in tqdm(DD_null_VM):\n",
    "    if len(test[test[\"VisitNumber\"] == idx][\"FinelineNumber\"].value_counts().index) != 0:\n",
    "        test.loc[(test[\"VisitNumber\"] == idx)&(test[\"FinelineNumber\"].isna()), \"FinelineNumber\"] \\\n",
    "        = test[test[\"VisitNumber\"] == idx][\"FinelineNumber\"].value_counts().index[0]"
   ]
  },
  {
   "cell_type": "code",
   "execution_count": 911,
   "metadata": {},
   "outputs": [
    {
     "data": {
      "text/plain": [
       "2257"
      ]
     },
     "execution_count": 911,
     "metadata": {},
     "output_type": "execute_result"
    }
   ],
   "source": [
    "# after imputation step1\n",
    "test['FinelineNumber'].isna().sum()"
   ]
  },
  {
   "cell_type": "code",
   "execution_count": 912,
   "metadata": {},
   "outputs": [],
   "source": [
    "# 아직 처리하지 못한 총 2257개 데이터는 VisitNumber 따른 FinelineNumber 값이 모두 비어있는 경우인데\n",
    "# 이 경우 Train데이터에서 TripType이 5 혹은 999이어서 그에 맞춰 FinelineNumber의 최빈값을 imputation할 수 있었지만\n",
    "# Test데이터는 TripType을 기준으로 imputation 할 수 없고 train데이터와 VisitNumber와 도 겹치지 않기 때문에\n",
    "# Train데이터와 Test데이터의 Weekday, ScanCount, DepartmentDescription을 기준으로 FinelineNumber를 imputation 함."
   ]
  },
  {
   "cell_type": "code",
   "execution_count": 913,
   "metadata": {},
   "outputs": [
    {
     "data": {
      "text/plain": [
       "[]"
      ]
     },
     "execution_count": 913,
     "metadata": {},
     "output_type": "execute_result"
    }
   ],
   "source": [
    "# train데이터와 test데이터의 imputation step1 이후의 VisitNumber가 겹치지 않음\n",
    "test_after_step1_FL_null_VM_list = test[test['FinelineNumber'].isna()]['VisitNumber'].value_counts().index\n",
    "[i for i in test_after_step1_FL_null_VM_list if i in train_after_step1_FL_null_VM_list]"
   ]
  },
  {
   "cell_type": "code",
   "execution_count": 914,
   "metadata": {},
   "outputs": [
    {
     "name": "stdout",
     "output_type": "stream",
     "text": [
      "146\n",
      "2111\n"
     ]
    }
   ],
   "source": [
    "#1 : Sunday, 1, PHARMACY RX\n",
    "print(len(test.loc[(test['FinelineNumber'].isna())&(test['Weekday']=='Sunday')&(test['ScanCount']==1)\n",
    "                   &(test['DepartmentDescription']=='PHARMACY RX'),'FinelineNumber']))\n",
    "test.loc[(test['FinelineNumber'].isna())\n",
    "     &(test['Weekday']=='Sunday')\n",
    "     &(test['ScanCount']==1)\n",
    "     &(test['DepartmentDescription']=='PHARMACY RX'),'FinelineNumber']\\\n",
    "= train.loc[(train['Weekday']=='Sunday')\n",
    "        &(train['ScanCount']==1)\n",
    "        &(train['DepartmentDescription']=='PHARMACY RX')\n",
    "        &(train['TripType'] == train.loc[(train['Weekday']=='Sunday')\n",
    "                                         &(train['ScanCount']==1)\n",
    "                                         &(train['DepartmentDescription']=='PHARMACY RX'),\n",
    "                                         'TripType'].value_counts().index[0]),\n",
    "            'FinelineNumber'].value_counts().index[0]\n",
    "print(test['FinelineNumber'].isna().sum())"
   ]
  },
  {
   "cell_type": "code",
   "execution_count": 915,
   "metadata": {},
   "outputs": [
    {
     "name": "stdout",
     "output_type": "stream",
     "text": [
      "12\n",
      "2099\n"
     ]
    }
   ],
   "source": [
    "#2 : Sunday, 1, FINANCIAL SERVICES\n",
    "print(len(test.loc[(test['FinelineNumber'].isna())&(test['Weekday']=='Sunday')&(test['ScanCount']==1)\n",
    "                   &(test['DepartmentDescription']=='FINANCIAL SERVICES'),'FinelineNumber']))\n",
    "test.loc[(test['FinelineNumber'].isna())\n",
    "     &(test['Weekday']=='Sunday')\n",
    "     &(test['ScanCount']==1)\n",
    "     &(test['DepartmentDescription']=='FINANCIAL SERVICES'),'FinelineNumber']\\\n",
    "= train.loc[(train['Weekday']=='Sunday')\n",
    "        &(train['ScanCount']==1)\n",
    "        &(train['DepartmentDescription']=='FINANCIAL SERVICES')\n",
    "        &(train['TripType'] == train.loc[(train['Weekday']=='Sunday')\n",
    "                                         &(train['ScanCount']==1)\n",
    "                                         &(train['DepartmentDescription']=='FINANCIAL SERVICES'),\n",
    "                                         'TripType'].value_counts().index[0])\n",
    "            ,'FinelineNumber'].value_counts().index[0]\n",
    "print(test['FinelineNumber'].isna().sum())"
   ]
  },
  {
   "cell_type": "code",
   "execution_count": 916,
   "metadata": {},
   "outputs": [
    {
     "name": "stdout",
     "output_type": "stream",
     "text": [
      "17\n",
      "2082\n"
     ]
    }
   ],
   "source": [
    "#3 : Sunday, -1, FINANCIAL SERVICES\n",
    "print(len(test.loc[(test['FinelineNumber'].isna())&(test['Weekday']=='Sunday')&(test['ScanCount']==-1)\n",
    "                   &(test['DepartmentDescription']=='FINANCIAL SERVICES'),'FinelineNumber']))\n",
    "test.loc[(test['FinelineNumber'].isna())\n",
    "     &(test['Weekday']=='Sunday')\n",
    "     &(test['ScanCount']==-1)\n",
    "     &(test['DepartmentDescription']=='FINANCIAL SERVICES'),'FinelineNumber']\\\n",
    "= train.loc[(train['Weekday']=='Sunday')\n",
    "        &(train['ScanCount']==-1)\n",
    "        &(train['DepartmentDescription']=='FINANCIAL SERVICES')\n",
    "        &(train['TripType']==train.loc[(train['Weekday']=='Sunday')\n",
    "                                         &(train['ScanCount']==-1)\n",
    "                                         &(train['DepartmentDescription']=='FINANCIAL SERVICES'),\n",
    "                                         'TripType'].value_counts().index[0])\n",
    "            ,'FinelineNumber'].value_counts().index[0]\n",
    "print(test['FinelineNumber'].isna().sum())"
   ]
  },
  {
   "cell_type": "code",
   "execution_count": 917,
   "metadata": {},
   "outputs": [
    {
     "name": "stdout",
     "output_type": "stream",
     "text": [
      "2\n",
      "2080\n"
     ]
    }
   ],
   "source": [
    "#4 : Sunday, -1, PHARMACY RX \n",
    "print(len(test.loc[(test['FinelineNumber'].isna())&(test['Weekday']=='Sunday')&(test['ScanCount']==-1)\n",
    "                   &(test['DepartmentDescription']=='PHARMACY RX'),'FinelineNumber']))\n",
    "test.loc[(test['FinelineNumber'].isna())\n",
    "     &(test['Weekday']=='Sunday')\n",
    "     &(test['ScanCount']==-1)\n",
    "     &(test['DepartmentDescription']=='PHARMACY RX'),'FinelineNumber']\\\n",
    "= train.loc[(train['Weekday']=='Sunday')\n",
    "        &(train['ScanCount']==-1)\n",
    "        &(train['DepartmentDescription']=='PHARMACY RX')\n",
    "        &(train['TripType']==train.loc[(train['Weekday']=='Sunday')\n",
    "                                         &(train['ScanCount']==-1)\n",
    "                                         &(train['DepartmentDescription']=='PHARMACY RX'),\n",
    "                                         'TripType'].value_counts().index[0]\n",
    "         ),'FinelineNumber'].value_counts().index[0]\n",
    "print(test['FinelineNumber'].isna().sum())"
   ]
  },
  {
   "cell_type": "code",
   "execution_count": 918,
   "metadata": {},
   "outputs": [
    {
     "name": "stdout",
     "output_type": "stream",
     "text": [
      "2\n",
      "2078\n"
     ]
    }
   ],
   "source": [
    "#5 : Sunday, 2, FINANCIAL SERVICES\n",
    "print(len(test.loc[(test['FinelineNumber'].isna())&(test['Weekday']=='Sunday')&(test['ScanCount']==2)\n",
    "                   &(test['DepartmentDescription']=='FINANCIAL SERVICES'),'FinelineNumber']))\n",
    "test.loc[(test['FinelineNumber'].isna())\n",
    "     &(test['Weekday']=='Sunday')\n",
    "     &(test['ScanCount']==2)\n",
    "     &(test['DepartmentDescription']=='FINANCIAL SERVICES'),'FinelineNumber']\\\n",
    "= train.loc[(train['Weekday']=='Sunday')\n",
    "        &(train['ScanCount']==2)\n",
    "        &(train['DepartmentDescription']=='FINANCIAL SERVICES')\n",
    "        &(train['TripType']==train.loc[(train['Weekday']=='Sunday')\n",
    "                                         &(train['ScanCount']==2)\n",
    "                                         &(train['DepartmentDescription']=='FINANCIAL SERVICES'),\n",
    "                                         'TripType'].value_counts().index[0]\n",
    "         ),'FinelineNumber'].value_counts().index[0]\n",
    "print(test['FinelineNumber'].isna().sum())"
   ]
  },
  {
   "cell_type": "code",
   "execution_count": 919,
   "metadata": {},
   "outputs": [
    {
     "name": "stdout",
     "output_type": "stream",
     "text": [
      "28\n",
      "2050\n"
     ]
    }
   ],
   "source": [
    "#6 : Saturday, 1, FINANCIAL SERVICES\n",
    "print(len(test.loc[(test['FinelineNumber'].isna())&(test['Weekday']=='Saturday')&(test['ScanCount']==1)\n",
    "                   &(test['DepartmentDescription']=='FINANCIAL SERVICES'),'FinelineNumber']))\n",
    "test.loc[(test['FinelineNumber'].isna())\n",
    "     &(test['Weekday']=='Saturday')\n",
    "     &(test['ScanCount']==1)\n",
    "     &(test['DepartmentDescription']=='FINANCIAL SERVICES'),'FinelineNumber']\\\n",
    "= train.loc[(train['Weekday']=='Saturday')\n",
    "        &(train['ScanCount']==1)\n",
    "        &(train['DepartmentDescription']=='FINANCIAL SERVICES')\n",
    "        &(train['TripType']==train.loc[(train['Weekday']=='Saturday')\n",
    "                                         &(train['ScanCount']==1)\n",
    "                                         &(train['DepartmentDescription']=='FINANCIAL SERVICES'),\n",
    "                                         'TripType'].value_counts().index[0]\n",
    "         ),'FinelineNumber'].value_counts().index[0]\n",
    "print(test['FinelineNumber'].isna().sum())"
   ]
  },
  {
   "cell_type": "code",
   "execution_count": 920,
   "metadata": {},
   "outputs": [
    {
     "name": "stdout",
     "output_type": "stream",
     "text": [
      "294\n",
      "1756\n"
     ]
    }
   ],
   "source": [
    "#7 : Saturday, 1, PHARMACY RX\n",
    "print(len(test.loc[(test['FinelineNumber'].isna())&(test['Weekday']=='Saturday')&(test['ScanCount']==1)\n",
    "                   &(test['DepartmentDescription']=='PHARMACY RX'),'FinelineNumber']))\n",
    "test.loc[(test['FinelineNumber'].isna())\n",
    "     &(test['Weekday']=='Saturday')\n",
    "     &(test['ScanCount']==1)\n",
    "     &(test['DepartmentDescription']=='PHARMACY RX'),'FinelineNumber']\\\n",
    "= train.loc[(train['Weekday']=='Saturday')\n",
    "        &(train['ScanCount']==1)\n",
    "        &(train['DepartmentDescription']=='PHARMACY RX')\n",
    "        &(train['TripType']==train.loc[(train['Weekday']=='Saturday')\n",
    "                                         &(train['ScanCount']==1)\n",
    "                                         &(train['DepartmentDescription']=='PHARMACY RX'),\n",
    "                                         'TripType'].value_counts().index[0]\n",
    "         ),'FinelineNumber'].value_counts().index[0]\n",
    "print(test['FinelineNumber'].isna().sum())"
   ]
  },
  {
   "cell_type": "code",
   "execution_count": 921,
   "metadata": {},
   "outputs": [
    {
     "name": "stdout",
     "output_type": "stream",
     "text": [
      "14\n",
      "1742\n"
     ]
    }
   ],
   "source": [
    "#8 : Saturday, -1, FINANCIAL SERVICES\n",
    "print(len(test.loc[(test['FinelineNumber'].isna())&(test['Weekday']=='Saturday')&(test['ScanCount']==-1)\n",
    "                   &(test['DepartmentDescription']=='FINANCIAL SERVICES'),'FinelineNumber']))\n",
    "test.loc[(test['FinelineNumber'].isna())\n",
    "     &(test['Weekday']=='Saturday')\n",
    "     &(test['ScanCount']==-1)\n",
    "     &(test['DepartmentDescription']=='FINANCIAL SERVICES'),'FinelineNumber']\\\n",
    "= train.loc[(train['Weekday']=='Saturday')\n",
    "        &(train['ScanCount']==-1)\n",
    "        &(train['DepartmentDescription']=='FINANCIAL SERVICES')\n",
    "        &(train['TripType'] == train.loc[(train['Weekday']=='Saturday')\n",
    "                                         &(train['ScanCount']==-1)\n",
    "                                         &(train['DepartmentDescription']=='FINANCIAL SERVICES'),\n",
    "                                         'TripType'].value_counts().index[0])\n",
    "            ,'FinelineNumber'].value_counts().index[0]\n",
    "print(test['FinelineNumber'].isna().sum())"
   ]
  },
  {
   "cell_type": "code",
   "execution_count": 922,
   "metadata": {},
   "outputs": [
    {
     "name": "stdout",
     "output_type": "stream",
     "text": [
      "7\n",
      "1735\n"
     ]
    }
   ],
   "source": [
    "#9 : Friday, -1, PHARMACY RX\n",
    "print(len(test.loc[(test['FinelineNumber'].isna())&(test['Weekday']=='Friday')&(test['ScanCount']==-1)\n",
    "                   &(test['DepartmentDescription']=='PHARMACY RX'),'FinelineNumber']))\n",
    "test.loc[(test['FinelineNumber'].isna())\n",
    "     &(test['Weekday']=='Friday')\n",
    "     &(test['ScanCount']==-1)\n",
    "     &(test['DepartmentDescription']=='PHARMACY RX'),'FinelineNumber']\\\n",
    "= train.loc[(train['Weekday']=='Friday')\n",
    "        &(train['ScanCount']==-1)\n",
    "        &(train['DepartmentDescription']=='PHARMACY RX')\n",
    "        &(train['TripType'] == train.loc[(train['Weekday']=='Friday')\n",
    "                                         &(train['ScanCount']==-1)\n",
    "                                         &(train['DepartmentDescription']=='PHARMACY RX'),\n",
    "                                         'TripType'].value_counts().index[0])\n",
    "            ,'FinelineNumber'].value_counts().index[0]\n",
    "print(test['FinelineNumber'].isna().sum())"
   ]
  },
  {
   "cell_type": "code",
   "execution_count": 923,
   "metadata": {},
   "outputs": [
    {
     "name": "stdout",
     "output_type": "stream",
     "text": [
      "376\n",
      "1359\n"
     ]
    }
   ],
   "source": [
    "#10 : Friday, 1, PHARMACY RX\n",
    "print(len(test.loc[(test['FinelineNumber'].isna())&(test['Weekday']=='Friday')&(test['ScanCount']==1)\n",
    "                   &(test['DepartmentDescription']=='PHARMACY RX'),'FinelineNumber']))\n",
    "test.loc[(test['FinelineNumber'].isna())\n",
    "     &(test['Weekday']=='Friday')\n",
    "     &(test['ScanCount']==1)\n",
    "     &(test['DepartmentDescription']=='PHARMACY RX'),'FinelineNumber']\\\n",
    "= train.loc[(train['Weekday']=='Friday')\n",
    "        &(train['ScanCount']==1)\n",
    "        &(train['DepartmentDescription']=='PHARMACY RX')\n",
    "        &(train['TripType'] == train.loc[(train['Weekday']=='Friday')\n",
    "                                         &(train['ScanCount']==1)\n",
    "                                         &(train['DepartmentDescription']=='PHARMACY RX'),\n",
    "                                         'TripType'].value_counts().index[0])\n",
    "            ,'FinelineNumber'].value_counts().index[0]\n",
    "print(test['FinelineNumber'].isna().sum())"
   ]
  },
  {
   "cell_type": "code",
   "execution_count": 924,
   "metadata": {},
   "outputs": [
    {
     "name": "stdout",
     "output_type": "stream",
     "text": [
      "19\n",
      "1340\n"
     ]
    }
   ],
   "source": [
    "#11 : Friday, -1, FINANCIAL SERVICES\n",
    "print(len(test.loc[(test['FinelineNumber'].isna())&(test['Weekday']=='Friday')&(test['ScanCount']==-1)\n",
    "                   &(test['DepartmentDescription']=='FINANCIAL SERVICES'),'FinelineNumber']))\n",
    "test.loc[(test['FinelineNumber'].isna())\n",
    "     &(test['Weekday']=='Friday')\n",
    "     &(test['ScanCount']==-1)\n",
    "     &(test['DepartmentDescription']=='FINANCIAL SERVICES'),'FinelineNumber']\\\n",
    "= train.loc[(train['Weekday']=='Friday')\n",
    "        &(train['ScanCount']==-1)\n",
    "        &(train['DepartmentDescription']=='FINANCIAL SERVICES')\n",
    "        &(train['TripType'] == train.loc[(train['Weekday']=='Friday')\n",
    "                                         &(train['ScanCount']==-1)\n",
    "                                         &(train['DepartmentDescription']=='FINANCIAL SERVICES'),\n",
    "                                         'TripType'].value_counts().index[0])\n",
    "            ,'FinelineNumber'].value_counts().index[0]\n",
    "print(test['FinelineNumber'].isna().sum())"
   ]
  },
  {
   "cell_type": "code",
   "execution_count": 925,
   "metadata": {},
   "outputs": [
    {
     "name": "stdout",
     "output_type": "stream",
     "text": [
      "1\n",
      "1339\n"
     ]
    }
   ],
   "source": [
    "#12 : Friday, 2, FINANCIAL SERVICES\n",
    "print(len(test.loc[(test['FinelineNumber'].isna())&(test['Weekday']=='Friday')&(test['ScanCount']==2)\n",
    "                   &(test['DepartmentDescription']=='FINANCIAL SERVICES'),'FinelineNumber']))\n",
    "test.loc[(test['FinelineNumber'].isna())\n",
    "     &(test['Weekday']=='Friday')\n",
    "     &(test['ScanCount']==2)\n",
    "     &(test['DepartmentDescription']=='FINANCIAL SERVICES'),'FinelineNumber']\\\n",
    "= train.loc[(train['Weekday']=='Friday')\n",
    "        &(train['ScanCount']==2)\n",
    "        &(train['DepartmentDescription']=='FINANCIAL SERVICES')\n",
    "        &(train['TripType'] == train.loc[(train['Weekday']=='Friday')\n",
    "                                         &(train['ScanCount']==2)\n",
    "                                         &(train['DepartmentDescription']=='FINANCIAL SERVICES'),\n",
    "                                         'TripType'].value_counts().index[0])\n",
    "            ,'FinelineNumber'].value_counts().index[0]\n",
    "print(test['FinelineNumber'].isna().sum())"
   ]
  },
  {
   "cell_type": "code",
   "execution_count": 926,
   "metadata": {},
   "outputs": [
    {
     "name": "stdout",
     "output_type": "stream",
     "text": [
      "5\n",
      "1334\n"
     ]
    }
   ],
   "source": [
    "#13 : Friday, 1, FINANCIAL SERVICES\n",
    "print(len(test.loc[(test['FinelineNumber'].isna())&(test['Weekday']=='Friday')&(test['ScanCount']==1)\n",
    "                   &(test['DepartmentDescription']=='FINANCIAL SERVICES'),'FinelineNumber']))\n",
    "test.loc[(test['FinelineNumber'].isna())\n",
    "     &(test['Weekday']=='Friday')\n",
    "     &(test['ScanCount']==1)\n",
    "     &(test['DepartmentDescription']=='FINANCIAL SERVICES'),'FinelineNumber']\\\n",
    "= train.loc[(train['Weekday']=='Friday')\n",
    "        &(train['ScanCount']==1)\n",
    "        &(train['DepartmentDescription']=='FINANCIAL SERVICES')\n",
    "        &(train['TripType'] == train.loc[(train['Weekday']=='Friday')\n",
    "                                         &(train['ScanCount']==1)\n",
    "                                         &(train['DepartmentDescription']=='FINANCIAL SERVICES'),\n",
    "                                         'TripType'].value_counts().index[0])\n",
    "            ,'FinelineNumber'].value_counts().index[0]\n",
    "print(test['FinelineNumber'].isna().sum())"
   ]
  },
  {
   "cell_type": "code",
   "execution_count": 927,
   "metadata": {},
   "outputs": [
    {
     "name": "stdout",
     "output_type": "stream",
     "text": [
      "301\n",
      "1033\n"
     ]
    }
   ],
   "source": [
    "#14 : Thursday, 1, PHARMACY RX\n",
    "print(len(test.loc[(test['FinelineNumber'].isna())&(test['Weekday']=='Thursday')&(test['ScanCount']==1)\n",
    "                   &(test['DepartmentDescription']=='PHARMACY RX'),'FinelineNumber']))\n",
    "test.loc[(test['FinelineNumber'].isna())\n",
    "     &(test['Weekday']=='Thursday')\n",
    "     &(test['ScanCount']==1)\n",
    "     &(test['DepartmentDescription']=='PHARMACY RX'),'FinelineNumber']\\\n",
    "= train.loc[(train['Weekday']=='Thursday')\n",
    "        &(train['ScanCount']==1)\n",
    "        &(train['DepartmentDescription']=='PHARMACY RX')\n",
    "        &(train['TripType'] == train.loc[(train['Weekday']=='Thursday')\n",
    "                                         &(train['ScanCount']==1)\n",
    "                                         &(train['DepartmentDescription']=='PHARMACY RX'),\n",
    "                                         'TripType'].value_counts().index[0])\n",
    "            ,'FinelineNumber'].value_counts().index[0]\n",
    "print(test['FinelineNumber'].isna().sum())"
   ]
  },
  {
   "cell_type": "code",
   "execution_count": 928,
   "metadata": {},
   "outputs": [
    {
     "name": "stdout",
     "output_type": "stream",
     "text": [
      "6\n",
      "1027\n"
     ]
    }
   ],
   "source": [
    "#15 : Thursday, -1, PHARMACY RX\n",
    "print(len(test.loc[(test['FinelineNumber'].isna())&(test['Weekday']=='Thursday')&(test['ScanCount']==-1)\n",
    "                   &(test['DepartmentDescription']=='PHARMACY RX'),'FinelineNumber']))\n",
    "test.loc[(test['FinelineNumber'].isna())\n",
    "     &(test['Weekday']=='Thursday')\n",
    "     &(test['ScanCount']==-1)\n",
    "     &(test['DepartmentDescription']=='PHARMACY RX'),'FinelineNumber']\\\n",
    "= train.loc[(train['Weekday']=='Thursday')\n",
    "        &(train['ScanCount']==-1)\n",
    "        &(train['DepartmentDescription']=='PHARMACY RX')\n",
    "        &(train['TripType'] == train.loc[(train['Weekday']=='Thursday')\n",
    "                                         &(train['ScanCount']==-1)\n",
    "                                         &(train['DepartmentDescription']=='PHARMACY RX'),\n",
    "                                         'TripType'].value_counts().index[0])\n",
    "            ,'FinelineNumber'].value_counts().index[0]\n",
    "print(test['FinelineNumber'].isna().sum())"
   ]
  },
  {
   "cell_type": "code",
   "execution_count": 929,
   "metadata": {},
   "outputs": [
    {
     "name": "stdout",
     "output_type": "stream",
     "text": [
      "5\n",
      "1022\n"
     ]
    }
   ],
   "source": [
    "#16 : Thursday, 1, FINANCIAL SERVICES\n",
    "print(len(test.loc[(test['FinelineNumber'].isna())&(test['Weekday']=='Thursday')&(test['ScanCount']==1)\n",
    "                   &(test['DepartmentDescription']=='FINANCIAL SERVICES'),'FinelineNumber']))\n",
    "test.loc[(test['FinelineNumber'].isna())\n",
    "     &(test['Weekday']=='Thursday')\n",
    "     &(test['ScanCount']==1)\n",
    "     &(test['DepartmentDescription']=='FINANCIAL SERVICES'),'FinelineNumber']\\\n",
    "= train.loc[(train['Weekday']=='Thursday')\n",
    "        &(train['ScanCount']==1)\n",
    "        &(train['DepartmentDescription']=='FINANCIAL SERVICES')\n",
    "        &(train['TripType'] == train.loc[(train['Weekday']=='Thursday')\n",
    "                                         &(train['ScanCount']==1)\n",
    "                                         &(train['DepartmentDescription']=='FINANCIAL SERVICES'),\n",
    "                                         'TripType'].value_counts().index[0])\n",
    "            ,'FinelineNumber'].value_counts().index[0]\n",
    "print(test['FinelineNumber'].isna().sum())"
   ]
  },
  {
   "cell_type": "code",
   "execution_count": 930,
   "metadata": {},
   "outputs": [
    {
     "name": "stdout",
     "output_type": "stream",
     "text": [
      "12\n",
      "1010\n"
     ]
    }
   ],
   "source": [
    "#17 : Wednesday, 1, FINANCIAL SERVICES\n",
    "print(len(test.loc[(test['FinelineNumber'].isna())&(test['Weekday']=='Wednesday')&(test['ScanCount']==1)\n",
    "                   &(test['DepartmentDescription']=='FINANCIAL SERVICES'),'FinelineNumber']))\n",
    "test.loc[(test['FinelineNumber'].isna())\n",
    "     &(test['Weekday']=='Wednesday')\n",
    "     &(test['ScanCount']==1)\n",
    "     &(test['DepartmentDescription']=='FINANCIAL SERVICES'),'FinelineNumber']\\\n",
    "= train.loc[(train['Weekday']=='Wednesday')\n",
    "        &(train['ScanCount']==1)\n",
    "        &(train['DepartmentDescription']=='FINANCIAL SERVICES')\n",
    "        &(train['TripType'] == train.loc[(train['Weekday']=='Wednesday')\n",
    "                                         &(train['ScanCount']==1)\n",
    "                                         &(train['DepartmentDescription']=='FINANCIAL SERVICES'),\n",
    "                                         'TripType'].value_counts().index[0])\n",
    "            ,'FinelineNumber'].value_counts().index[0]\n",
    "print(test['FinelineNumber'].isna().sum())"
   ]
  },
  {
   "cell_type": "code",
   "execution_count": 931,
   "metadata": {},
   "outputs": [
    {
     "name": "stdout",
     "output_type": "stream",
     "text": [
      "329\n",
      "681\n"
     ]
    }
   ],
   "source": [
    "#18 : Wednesday, 1, PHARMACY RX\n",
    "print(len(test.loc[(test['FinelineNumber'].isna())&(test['Weekday']=='Wednesday')&(test['ScanCount']==1)\n",
    "                   &(test['DepartmentDescription']=='PHARMACY RX'),'FinelineNumber']))\n",
    "test.loc[(test['FinelineNumber'].isna())\n",
    "     &(test['Weekday']=='Wednesday')\n",
    "     &(test['ScanCount']==1)\n",
    "     &(test['DepartmentDescription']=='PHARMACY RX'),'FinelineNumber']\\\n",
    "= train.loc[(train['Weekday']=='Wednesday')\n",
    "        &(train['ScanCount']==1)\n",
    "        &(train['DepartmentDescription']=='PHARMACY RX')\n",
    "        &(train['TripType'] == train.loc[(train['Weekday']=='Wednesday')\n",
    "                                         &(train['ScanCount']==1)\n",
    "                                         &(train['DepartmentDescription']=='PHARMACY RX'),\n",
    "                                         'TripType'].value_counts().index[0])\n",
    "            ,'FinelineNumber'].value_counts().index[0]\n",
    "print(test['FinelineNumber'].isna().sum())"
   ]
  },
  {
   "cell_type": "code",
   "execution_count": 932,
   "metadata": {},
   "outputs": [
    {
     "name": "stdout",
     "output_type": "stream",
     "text": [
      "19\n",
      "662\n"
     ]
    }
   ],
   "source": [
    "#19 : Wednesday, -1, FINANCIAL SERVICES\n",
    "print(len(test.loc[(test['FinelineNumber'].isna())&(test['Weekday']=='Wednesday')&(test['ScanCount']==-1)\n",
    "                   &(test['DepartmentDescription']=='FINANCIAL SERVICES'),'FinelineNumber']))\n",
    "test.loc[(test['FinelineNumber'].isna())\n",
    "     &(test['Weekday']=='Wednesday')\n",
    "     &(test['ScanCount']==-1)\n",
    "     &(test['DepartmentDescription']=='FINANCIAL SERVICES'),'FinelineNumber']\\\n",
    "= train.loc[(train['Weekday']=='Wednesday')\n",
    "        &(train['ScanCount']==-1)\n",
    "        &(train['DepartmentDescription']=='FINANCIAL SERVICES')\n",
    "        &(train['TripType'] == train.loc[(train['Weekday']=='Wednesday')\n",
    "                                         &(train['ScanCount']==-1)\n",
    "                                         &(train['DepartmentDescription']=='FINANCIAL SERVICES'),\n",
    "                                         'TripType'].value_counts().index[0])\n",
    "            ,'FinelineNumber'].value_counts().index[0]\n",
    "print(test['FinelineNumber'].isna().sum())"
   ]
  },
  {
   "cell_type": "code",
   "execution_count": 933,
   "metadata": {},
   "outputs": [
    {
     "name": "stdout",
     "output_type": "stream",
     "text": [
      "24\n",
      "638\n"
     ]
    }
   ],
   "source": [
    "#20 : Wednesday, -1, PHARMACY RX\n",
    "print(len(test.loc[(test['FinelineNumber'].isna())&(test['Weekday']=='Wednesday')&(test['ScanCount']==-1)\n",
    "                   &(test['DepartmentDescription']=='PHARMACY RX'),'FinelineNumber']))\n",
    "test.loc[(test['FinelineNumber'].isna())\n",
    "     &(test['Weekday']=='Wednesday')\n",
    "     &(test['ScanCount']==-1)\n",
    "     &(test['DepartmentDescription']=='PHARMACY RX'),'FinelineNumber']\\\n",
    "= train.loc[(train['Weekday']=='Wednesday')\n",
    "        &(train['ScanCount']==-1)\n",
    "        &(train['DepartmentDescription']=='PHARMACY RX')\n",
    "        &(train['TripType'] == train.loc[(train['Weekday']=='Wednesday')\n",
    "                                         &(train['ScanCount']==-1)\n",
    "                                         &(train['DepartmentDescription']=='PHARMACY RX'),\n",
    "                                         'TripType'].value_counts().index[0])\n",
    "            ,'FinelineNumber'].value_counts().index[0]\n",
    "print(test['FinelineNumber'].isna().sum())"
   ]
  },
  {
   "cell_type": "code",
   "execution_count": 934,
   "metadata": {},
   "outputs": [
    {
     "name": "stdout",
     "output_type": "stream",
     "text": [
      "1\n",
      "637\n"
     ]
    }
   ],
   "source": [
    "#21 : Wednesday, 2, FINANCIAL SERVICES\n",
    "print(len(test.loc[(test['FinelineNumber'].isna())&(test['Weekday']=='Wednesday')&(test['ScanCount']==2)\n",
    "                   &(test['DepartmentDescription']=='FINANCIAL SERVICES'),'FinelineNumber']))\n",
    "test.loc[(test['FinelineNumber'].isna())\n",
    "     &(test['Weekday']=='Wednesday')\n",
    "     &(test['ScanCount']==2)\n",
    "     &(test['DepartmentDescription']=='FINANCIAL SERVICES'),'FinelineNumber']\\\n",
    "= train.loc[(train['Weekday']=='Wednesday')\n",
    "        &(train['ScanCount']==2)\n",
    "        &(train['DepartmentDescription']=='FINANCIAL SERVICES')\n",
    "        &(train['TripType'] == train.loc[(train['Weekday']=='Wednesday')\n",
    "                                         &(train['ScanCount']==2)\n",
    "                                         &(train['DepartmentDescription']=='FINANCIAL SERVICES'),\n",
    "                                         'TripType'].value_counts().index[0])\n",
    "            ,'FinelineNumber'].value_counts().index[0]\n",
    "print(test['FinelineNumber'].isna().sum())"
   ]
  },
  {
   "cell_type": "code",
   "execution_count": 935,
   "metadata": {},
   "outputs": [
    {
     "name": "stdout",
     "output_type": "stream",
     "text": [
      "297\n",
      "340\n"
     ]
    }
   ],
   "source": [
    "#22 : Tuesday, 1, PHARMACY RX\n",
    "print(len(test.loc[(test['FinelineNumber'].isna())&(test['Weekday']=='Tuesday')&(test['ScanCount']==1)\n",
    "                   &(test['DepartmentDescription']=='PHARMACY RX'),'FinelineNumber']))\n",
    "test.loc[(test['FinelineNumber'].isna())\n",
    "     &(test['Weekday']=='Tuesday')\n",
    "     &(test['ScanCount']==1)\n",
    "     &(test['DepartmentDescription']=='PHARMACY RX'),'FinelineNumber']\\\n",
    "= train.loc[(train['Weekday']=='Tuesday')\n",
    "        &(train['ScanCount']==1)\n",
    "        &(train['DepartmentDescription']=='PHARMACY RX')\n",
    "        &(train['TripType'] == train.loc[(train['Weekday']=='Tuesday')\n",
    "                                         &(train['ScanCount']==1)\n",
    "                                         &(train['DepartmentDescription']=='PHARMACY RX'),\n",
    "                                         'TripType'].value_counts().index[0])\n",
    "            ,'FinelineNumber'].value_counts().index[0]\n",
    "print(test['FinelineNumber'].isna().sum())"
   ]
  },
  {
   "cell_type": "code",
   "execution_count": 936,
   "metadata": {},
   "outputs": [
    {
     "name": "stdout",
     "output_type": "stream",
     "text": [
      "13\n",
      "327\n"
     ]
    }
   ],
   "source": [
    "#23 : Tuesday, 1, FINANCIAL SERVICES\n",
    "print(len(test.loc[(test['FinelineNumber'].isna())&(test['Weekday']=='Tuesday')&(test['ScanCount']==1)\n",
    "                   &(test['DepartmentDescription']=='FINANCIAL SERVICES'),'FinelineNumber']))\n",
    "test.loc[(test['FinelineNumber'].isna())\n",
    "     &(test['Weekday']=='Tuesday')\n",
    "     &(test['ScanCount']==1)\n",
    "     &(test['DepartmentDescription']=='FINANCIAL SERVICES'),'FinelineNumber']\\\n",
    "= train.loc[(train['Weekday']=='Tuesday')\n",
    "        &(train['ScanCount']==1)\n",
    "        &(train['DepartmentDescription']=='FINANCIAL SERVICES')\n",
    "        &(train['TripType'] == train.loc[(train['Weekday']=='Tuesday')\n",
    "                                         &(train['ScanCount']==1)\n",
    "                                         &(train['DepartmentDescription']=='FINANCIAL SERVICES'),\n",
    "                                         'TripType'].value_counts().index[0])\n",
    "            ,'FinelineNumber'].value_counts().index[0]\n",
    "print(test['FinelineNumber'].isna().sum())"
   ]
  },
  {
   "cell_type": "code",
   "execution_count": 937,
   "metadata": {},
   "outputs": [
    {
     "name": "stdout",
     "output_type": "stream",
     "text": [
      "19\n",
      "308\n"
     ]
    }
   ],
   "source": [
    "#24 : Monday, -1, FINANCIAL SERVICES\n",
    "print(len(test.loc[(test['FinelineNumber'].isna())&(test['Weekday']=='Monday')&(test['ScanCount']==-1)\n",
    "                   &(test['DepartmentDescription']=='FINANCIAL SERVICES'),'FinelineNumber']))\n",
    "test.loc[(test['FinelineNumber'].isna())\n",
    "     &(test['Weekday']=='Monday')\n",
    "     &(test['ScanCount']==-1)\n",
    "     &(test['DepartmentDescription']=='FINANCIAL SERVICES'),'FinelineNumber']\\\n",
    "= train.loc[(train['Weekday']=='Monday')\n",
    "        &(train['ScanCount']==-1)\n",
    "        &(train['DepartmentDescription']=='FINANCIAL SERVICES')\n",
    "        &(train['TripType'] == train.loc[(train['Weekday']=='Monday')\n",
    "                                         &(train['ScanCount']==-1)\n",
    "                                         &(train['DepartmentDescription']=='FINANCIAL SERVICES'),\n",
    "                                         'TripType'].value_counts().index[0])\n",
    "            ,'FinelineNumber'].value_counts().index[0]\n",
    "print(test['FinelineNumber'].isna().sum())"
   ]
  },
  {
   "cell_type": "code",
   "execution_count": 938,
   "metadata": {},
   "outputs": [
    {
     "name": "stdout",
     "output_type": "stream",
     "text": [
      "244\n",
      "64\n"
     ]
    }
   ],
   "source": [
    "#25 : Monday, 1, PHARMACY RX\n",
    "print(len(test.loc[(test['FinelineNumber'].isna())&(test['Weekday']=='Monday')&(test['ScanCount']==1)\n",
    "                   &(test['DepartmentDescription']=='PHARMACY RX'),'FinelineNumber']))\n",
    "test.loc[(test['FinelineNumber'].isna())\n",
    "     &(test['Weekday']=='Monday')\n",
    "     &(test['ScanCount']==1)\n",
    "     &(test['DepartmentDescription']=='PHARMACY RX'),'FinelineNumber']\\\n",
    "= train.loc[(train['Weekday']=='Monday')\n",
    "        &(train['ScanCount']==1)\n",
    "        &(train['DepartmentDescription']=='PHARMACY RX')\n",
    "        &(train['TripType'] == train.loc[(train['Weekday']=='Monday')\n",
    "                                         &(train['ScanCount']==1)\n",
    "                                         &(train['DepartmentDescription']=='PHARMACY RX'),\n",
    "                                         'TripType'].value_counts().index[0])\n",
    "            ,'FinelineNumber'].value_counts().index[0]\n",
    "print(test['FinelineNumber'].isna().sum())"
   ]
  },
  {
   "cell_type": "code",
   "execution_count": 939,
   "metadata": {},
   "outputs": [
    {
     "name": "stdout",
     "output_type": "stream",
     "text": [
      "11\n",
      "53\n"
     ]
    }
   ],
   "source": [
    "#26 : Monday, 1, FINANCIAL SERVICES\n",
    "print(len(test.loc[(test['FinelineNumber'].isna())&(test['Weekday']=='Monday')&(test['ScanCount']==1)\n",
    "                   &(test['DepartmentDescription']=='FINANCIAL SERVICES'),'FinelineNumber']))\n",
    "test.loc[(test['FinelineNumber'].isna())\n",
    "     &(test['Weekday']=='Monday')\n",
    "     &(test['ScanCount']==1)\n",
    "     &(test['DepartmentDescription']=='FINANCIAL SERVICES'),'FinelineNumber']\\\n",
    "= train.loc[(train['Weekday']=='Monday')\n",
    "        &(train['ScanCount']==1)\n",
    "        &(train['DepartmentDescription']=='FINANCIAL SERVICES')\n",
    "        &(train['TripType'] == train.loc[(train['Weekday']=='Monday')\n",
    "                                         &(train['ScanCount']==1)\n",
    "                                         &(train['DepartmentDescription']=='FINANCIAL SERVICES'),\n",
    "                                         'TripType'].value_counts().index[0])\n",
    "            ,'FinelineNumber'].value_counts().index[0]\n",
    "print(test['FinelineNumber'].isna().sum())"
   ]
  },
  {
   "cell_type": "code",
   "execution_count": 940,
   "metadata": {},
   "outputs": [
    {
     "name": "stdout",
     "output_type": "stream",
     "text": [
      "3\n",
      "50\n"
     ]
    }
   ],
   "source": [
    "#27 : Saturday, -2, FINANCIAL SERVICES\n",
    "print(len(test.loc[(test['FinelineNumber'].isna())&(test['Weekday']=='Saturday')&(test['ScanCount']==-2)\n",
    "                   &(test['DepartmentDescription']=='FINANCIAL SERVICES'),'FinelineNumber']))\n",
    "test.loc[(test['FinelineNumber'].isna())\n",
    "     &(test['Weekday']=='Saturday')\n",
    "     &(test['ScanCount']==-2)\n",
    "     &(test['DepartmentDescription']=='FINANCIAL SERVICES'),'FinelineNumber']\\\n",
    "= train.loc[(train['Weekday']=='Saturday')\n",
    "        &(train['ScanCount']==-2)\n",
    "        &(train['DepartmentDescription']=='FINANCIAL SERVICES')\n",
    "        &(train['TripType'] == train.loc[(train['Weekday']=='Saturday')\n",
    "                                         &(train['ScanCount']==-2)\n",
    "                                         &(train['DepartmentDescription']=='FINANCIAL SERVICES'),\n",
    "                                         'TripType'].value_counts().index[0])\n",
    "            ,'FinelineNumber'].value_counts().index[0]\n",
    "print(test['FinelineNumber'].isna().sum())"
   ]
  },
  {
   "cell_type": "code",
   "execution_count": 941,
   "metadata": {},
   "outputs": [
    {
     "name": "stdout",
     "output_type": "stream",
     "text": [
      "2\n",
      "48\n"
     ]
    }
   ],
   "source": [
    "#28 : Saturday, 2, FINANCIAL SERVICES\n",
    "print(len(test.loc[(test['FinelineNumber'].isna())&(test['Weekday']=='Saturday')&(test['ScanCount']==2)\n",
    "                   &(test['DepartmentDescription']=='FINANCIAL SERVICES'),'FinelineNumber']))\n",
    "test.loc[(test['FinelineNumber'].isna())\n",
    "     &(test['Weekday']=='Saturday')\n",
    "     &(test['ScanCount']==2)\n",
    "     &(test['DepartmentDescription']=='FINANCIAL SERVICES'),'FinelineNumber']\\\n",
    "= train.loc[(train['Weekday']=='Saturday')\n",
    "        &(train['ScanCount']==2)\n",
    "        &(train['DepartmentDescription']=='FINANCIAL SERVICES')\n",
    "        &(train['TripType'] == train.loc[(train['Weekday']=='Saturday')\n",
    "                                         &(train['ScanCount']==2)\n",
    "                                         &(train['DepartmentDescription']=='FINANCIAL SERVICES'),\n",
    "                                         'TripType'].value_counts().index[0])\n",
    "            ,'FinelineNumber'].value_counts().index[0]\n",
    "print(test['FinelineNumber'].isna().sum())"
   ]
  },
  {
   "cell_type": "code",
   "execution_count": 942,
   "metadata": {},
   "outputs": [
    {
     "name": "stdout",
     "output_type": "stream",
     "text": [
      "1\n",
      "47\n"
     ]
    }
   ],
   "source": [
    "#29 : Thursday, 2, FINANCIAL SERVICES\n",
    "print(len(test.loc[(test['FinelineNumber'].isna())&(test['Weekday']=='Thursday')&(test['ScanCount']==2)\n",
    "                   &(test['DepartmentDescription']=='FINANCIAL SERVICES'),'FinelineNumber']))\n",
    "test.loc[(test['FinelineNumber'].isna())\n",
    "     &(test['Weekday']=='Thursday')\n",
    "     &(test['ScanCount']==2)\n",
    "     &(test['DepartmentDescription']=='FINANCIAL SERVICES'),'FinelineNumber']\\\n",
    "= train.loc[(train['Weekday']=='Thursday')\n",
    "        &(train['ScanCount']==2)\n",
    "        &(train['DepartmentDescription']=='FINANCIAL SERVICES')\n",
    "        &(train['TripType'] == train.loc[(train['Weekday']=='Thursday')\n",
    "                                         &(train['ScanCount']==2)\n",
    "                                         &(train['DepartmentDescription']=='FINANCIAL SERVICES'),\n",
    "                                         'TripType'].value_counts().index[0])\n",
    "            ,'FinelineNumber'].value_counts().index[0]\n",
    "print(test['FinelineNumber'].isna().sum())"
   ]
  },
  {
   "cell_type": "code",
   "execution_count": 943,
   "metadata": {},
   "outputs": [
    {
     "name": "stdout",
     "output_type": "stream",
     "text": [
      "8\n",
      "39\n"
     ]
    }
   ],
   "source": [
    "#30 : Thursday, -1, FINANCIAL SERVICES\n",
    "print(len(test.loc[(test['FinelineNumber'].isna())&(test['Weekday']=='Thursday')&(test['ScanCount']==-1)\n",
    "                   &(test['DepartmentDescription']=='FINANCIAL SERVICES'),'FinelineNumber']))\n",
    "test.loc[(test['FinelineNumber'].isna())\n",
    "     &(test['Weekday']=='Thursday')\n",
    "     &(test['ScanCount']==-1)\n",
    "     &(test['DepartmentDescription']=='FINANCIAL SERVICES'),'FinelineNumber']\\\n",
    "= train.loc[(train['Weekday']=='Thursday')\n",
    "        &(train['ScanCount']==-1)\n",
    "        &(train['DepartmentDescription']=='FINANCIAL SERVICES')\n",
    "        &(train['TripType'] == train.loc[(train['Weekday']=='Thursday')\n",
    "                                         &(train['ScanCount']==-1)\n",
    "                                         &(train['DepartmentDescription']=='FINANCIAL SERVICES'),\n",
    "                                         'TripType'].value_counts().index[0])\n",
    "            ,'FinelineNumber'].value_counts().index[0]\n",
    "print(test['FinelineNumber'].isna().sum())"
   ]
  },
  {
   "cell_type": "code",
   "execution_count": 944,
   "metadata": {},
   "outputs": [
    {
     "name": "stdout",
     "output_type": "stream",
     "text": [
      "4\n",
      "35\n"
     ]
    }
   ],
   "source": [
    "#31 : Wednesday, -2, FINANCIAL SERVICES\n",
    "print(len(test.loc[(test['FinelineNumber'].isna())&(test['Weekday']=='Wednesday')&(test['ScanCount']==-2)\n",
    "                   &(test['DepartmentDescription']=='FINANCIAL SERVICES'),'FinelineNumber']))\n",
    "test.loc[(test['FinelineNumber'].isna())\n",
    "     &(test['Weekday']=='Wednesday')\n",
    "     &(test['ScanCount']==-2)\n",
    "     &(test['DepartmentDescription']=='FINANCIAL SERVICES'),'FinelineNumber']\\\n",
    "= train.loc[(train['Weekday']=='Wednesday')\n",
    "        &(train['ScanCount']==-2)\n",
    "        &(train['DepartmentDescription']=='FINANCIAL SERVICES')\n",
    "        &(train['TripType'] == train.loc[(train['Weekday']=='Wednesday')\n",
    "                                         &(train['ScanCount']==-2)\n",
    "                                         &(train['DepartmentDescription']=='FINANCIAL SERVICES'),\n",
    "                                         'TripType'].value_counts().index[0])\n",
    "            ,'FinelineNumber'].value_counts().index[0]\n",
    "print(test['FinelineNumber'].isna().sum())"
   ]
  },
  {
   "cell_type": "code",
   "execution_count": 945,
   "metadata": {},
   "outputs": [
    {
     "name": "stdout",
     "output_type": "stream",
     "text": [
      "12\n",
      "23\n"
     ]
    }
   ],
   "source": [
    "#33 : Tuesday, -1, FINANCIAL SERVICES\n",
    "print(len(test.loc[(test['FinelineNumber'].isna())&(test['Weekday']=='Tuesday')&(test['ScanCount']==-1)\n",
    "                   &(test['DepartmentDescription']=='FINANCIAL SERVICES'),'FinelineNumber']))\n",
    "test.loc[(test['FinelineNumber'].isna())\n",
    "     &(test['Weekday']=='Tuesday')\n",
    "     &(test['ScanCount']==-1)\n",
    "     &(test['DepartmentDescription']=='FINANCIAL SERVICES'),'FinelineNumber']\\\n",
    "= train.loc[(train['Weekday']=='Tuesday')\n",
    "        &(train['ScanCount']==-1)\n",
    "        &(train['DepartmentDescription']=='FINANCIAL SERVICES')\n",
    "        &(train['TripType'] == train.loc[(train['Weekday']=='Tuesday')\n",
    "                                         &(train['ScanCount']==-1)\n",
    "                                         &(train['DepartmentDescription']=='FINANCIAL SERVICES'),\n",
    "                                         'TripType'].value_counts().index[0])\n",
    "            ,'FinelineNumber'].value_counts().index[0]\n",
    "print(test['FinelineNumber'].isna().sum())"
   ]
  },
  {
   "cell_type": "code",
   "execution_count": 946,
   "metadata": {},
   "outputs": [
    {
     "name": "stdout",
     "output_type": "stream",
     "text": [
      "4\n",
      "19\n"
     ]
    }
   ],
   "source": [
    "#34 : Tuesday, -1, PHARMACY RX\n",
    "print(len(test.loc[(test['FinelineNumber'].isna())&(test['Weekday']=='Tuesday')&(test['ScanCount']==-1)\n",
    "                   &(test['DepartmentDescription']=='PHARMACY RX'),'FinelineNumber']))\n",
    "test.loc[(test['FinelineNumber'].isna())\n",
    "     &(test['Weekday']=='Tuesday')\n",
    "     &(test['ScanCount']==-1)\n",
    "     &(test['DepartmentDescription']=='PHARMACY RX'),'FinelineNumber']\\\n",
    "= train.loc[(train['Weekday']=='Tuesday')\n",
    "        &(train['ScanCount']==-1)\n",
    "        &(train['DepartmentDescription']=='PHARMACY RX')\n",
    "        &(train['TripType'] == train.loc[(train['Weekday']=='Tuesday')\n",
    "                                         &(train['ScanCount']==-1)\n",
    "                                         &(train['DepartmentDescription']=='PHARMACY RX'),\n",
    "                                         'TripType'].value_counts().index[0])\n",
    "            ,'FinelineNumber'].value_counts().index[0]\n",
    "print(test['FinelineNumber'].isna().sum())"
   ]
  },
  {
   "cell_type": "code",
   "execution_count": 947,
   "metadata": {},
   "outputs": [
    {
     "name": "stdout",
     "output_type": "stream",
     "text": [
      "2\n",
      "17\n"
     ]
    }
   ],
   "source": [
    "#35 : Tuesday, 2, PHARMACY RX\n",
    "print(len(test.loc[(test['FinelineNumber'].isna())&(test['Weekday']=='Tuesday')&(test['ScanCount']==2)\n",
    "                   &(test['DepartmentDescription']=='PHARMACY RX'),'FinelineNumber']))\n",
    "test.loc[(test['FinelineNumber'].isna())\n",
    "     &(test['Weekday']=='Tuesday')\n",
    "     &(test['ScanCount']==2)\n",
    "     &(test['DepartmentDescription']=='PHARMACY RX'),'FinelineNumber']\\\n",
    "= train.loc[(train['Weekday']=='Tuesday')\n",
    "        &(train['ScanCount']==2)\n",
    "        &(train['DepartmentDescription']=='PHARMACY RX')\n",
    "        &(train['TripType'] == train.loc[(train['Weekday']=='Tuesday')\n",
    "                                         &(train['ScanCount']==2)\n",
    "                                         &(train['DepartmentDescription']=='PHARMACY RX'),\n",
    "                                         'TripType'].value_counts().index[0])\n",
    "            ,'FinelineNumber'].value_counts().index[0]\n",
    "print(test['FinelineNumber'].isna().sum())"
   ]
  },
  {
   "cell_type": "code",
   "execution_count": 948,
   "metadata": {},
   "outputs": [
    {
     "name": "stdout",
     "output_type": "stream",
     "text": [
      "2\n",
      "15\n"
     ]
    }
   ],
   "source": [
    "#37 : Monday, -1, PHARMACY RX\n",
    "print(len(test.loc[(test['FinelineNumber'].isna())&(test['Weekday']=='Monday')&(test['ScanCount']==-1)\n",
    "                   &(test['DepartmentDescription']=='PHARMACY RX'),'FinelineNumber']))\n",
    "test.loc[(test['FinelineNumber'].isna())\n",
    "     &(test['Weekday']=='Monday')\n",
    "     &(test['ScanCount']==-1)\n",
    "     &(test['DepartmentDescription']=='PHARMACY RX'),'FinelineNumber']\\\n",
    "= train.loc[(train['Weekday']=='Monday')\n",
    "#         &(train['ScanCount']==-1)\n",
    "        &(train['DepartmentDescription']=='PHARMACY RX')\n",
    "        &(train['TripType'] == train.loc[(train['Weekday']=='Monday')\n",
    "#                                          &(train['ScanCount']==-1)\n",
    "                                         &(train['DepartmentDescription']=='PHARMACY RX'),\n",
    "                                         'TripType'].value_counts().index[0])\n",
    "            ,'FinelineNumber'].value_counts().index[0]\n",
    "print(test['FinelineNumber'].isna().sum())"
   ]
  },
  {
   "cell_type": "code",
   "execution_count": 949,
   "metadata": {},
   "outputs": [
    {
     "name": "stdout",
     "output_type": "stream",
     "text": [
      "2\n",
      "13\n"
     ]
    }
   ],
   "source": [
    "#38 : Saturday, -1, PHARMACY RX\n",
    "print(len(test.loc[(test['FinelineNumber'].isna())&(test['Weekday']=='Saturday')&(test['ScanCount']==-1)\n",
    "                   &(test['DepartmentDescription']=='PHARMACY RX'),'FinelineNumber']))\n",
    "test.loc[(test['FinelineNumber'].isna())\n",
    "     &(test['Weekday']=='Saturday')\n",
    "     &(test['ScanCount']==-1)\n",
    "     &(test['DepartmentDescription']=='PHARMACY RX'),'FinelineNumber']\\\n",
    "= train.loc[(train['Weekday']=='Saturday')\n",
    "#         &(train['ScanCount']==-1)\n",
    "        &(train['DepartmentDescription']=='PHARMACY RX')\n",
    "        &(train['TripType'] == train.loc[(train['Weekday']=='Saturday')\n",
    "#                                          &(train['ScanCount']==-1)\n",
    "                                         &(train['DepartmentDescription']=='PHARMACY RX'),\n",
    "                                         'TripType'].value_counts().index[0])\n",
    "            ,'FinelineNumber'].value_counts().index[0]\n",
    "print(test['FinelineNumber'].isna().sum())"
   ]
  },
  {
   "cell_type": "code",
   "execution_count": 950,
   "metadata": {},
   "outputs": [
    {
     "name": "stdout",
     "output_type": "stream",
     "text": [
      "1\n",
      "12\n"
     ]
    }
   ],
   "source": [
    "#39 : Saturday, -5, FINANCIAL SERVICES\n",
    "print(len(test.loc[(test['FinelineNumber'].isna())&(test['Weekday']=='Saturday')&(test['ScanCount']==-5)\n",
    "                   &(test['DepartmentDescription']=='FINANCIAL SERVICES'),'FinelineNumber']))\n",
    "test.loc[(test['FinelineNumber'].isna())\n",
    "     &(test['Weekday']=='Saturday')\n",
    "     &(test['ScanCount']==-5)\n",
    "     &(test['DepartmentDescription']=='FINANCIAL SERVICES'),'FinelineNumber']\\\n",
    "= train.loc[(train['Weekday']=='Saturday')\n",
    "#         &(train['ScanCount']==-5)\n",
    "        &(train['DepartmentDescription']=='FINANCIAL SERVICES')\n",
    "        &(train['TripType'] == train.loc[(train['Weekday']=='Saturday')\n",
    "#                                          &(train['ScanCount']==-5)\n",
    "                                         &(train['DepartmentDescription']=='FINANCIAL SERVICES'),\n",
    "                                         'TripType'].value_counts().index[0])\n",
    "            ,'FinelineNumber'].value_counts().index[0]\n",
    "print(test['FinelineNumber'].isna().sum())"
   ]
  },
  {
   "cell_type": "code",
   "execution_count": 951,
   "metadata": {},
   "outputs": [
    {
     "name": "stdout",
     "output_type": "stream",
     "text": [
      "2\n",
      "10\n"
     ]
    }
   ],
   "source": [
    "#40 : Monday, -2, FINANCIAL SERVICES\n",
    "print(len(test.loc[(test['FinelineNumber'].isna())&(test['Weekday']=='Monday')&(test['ScanCount']==-2)\n",
    "                   &(test['DepartmentDescription']=='FINANCIAL SERVICES'),'FinelineNumber']))\n",
    "test.loc[(test['FinelineNumber'].isna())\n",
    "     &(test['Weekday']=='Monday')\n",
    "     &(test['ScanCount']==-2)\n",
    "     &(test['DepartmentDescription']=='FINANCIAL SERVICES'),'FinelineNumber']\\\n",
    "= train.loc[(train['Weekday']=='Monday')\n",
    "#         &(train['ScanCount']==-2)\n",
    "        &(train['DepartmentDescription']=='FINANCIAL SERVICES')\n",
    "        &(train['TripType'] == train.loc[(train['Weekday']=='Monday')\n",
    "#                                          &(train['ScanCount']==-2)\n",
    "                                         &(train['DepartmentDescription']=='FINANCIAL SERVICES'),\n",
    "                                         'TripType'].value_counts().index[0])\n",
    "            ,'FinelineNumber'].value_counts().index[0]\n",
    "print(test['FinelineNumber'].isna().sum())"
   ]
  },
  {
   "cell_type": "code",
   "execution_count": 952,
   "metadata": {},
   "outputs": [
    {
     "name": "stdout",
     "output_type": "stream",
     "text": [
      "1\n",
      "9\n"
     ]
    }
   ],
   "source": [
    "#41 : Friday, -2, FINANCIAL SERVICES\n",
    "print(len(test.loc[(test['FinelineNumber'].isna())&(test['Weekday']=='Friday')&(test['ScanCount']==-2)\n",
    "                   &(test['DepartmentDescription']=='FINANCIAL SERVICES'),'FinelineNumber']))\n",
    "test.loc[(test['FinelineNumber'].isna())\n",
    "     &(test['Weekday']=='Friday')\n",
    "     &(test['ScanCount']==-2)\n",
    "     &(test['DepartmentDescription']=='FINANCIAL SERVICES'),'FinelineNumber']\\\n",
    "= train.loc[(train['Weekday']=='Friday')\n",
    "#         &(train['ScanCount']==-2)\n",
    "        &(train['DepartmentDescription']=='FINANCIAL SERVICES')\n",
    "        &(train['TripType'] == train.loc[(train['Weekday']=='Friday')\n",
    "#                                          &(train['ScanCount']==-2)\n",
    "                                         &(train['DepartmentDescription']=='FINANCIAL SERVICES'),\n",
    "                                         'TripType'].value_counts().index[0])\n",
    "            ,'FinelineNumber'].value_counts().index[0]\n",
    "print(test['FinelineNumber'].isna().sum())"
   ]
  },
  {
   "cell_type": "code",
   "execution_count": 953,
   "metadata": {},
   "outputs": [
    {
     "name": "stdout",
     "output_type": "stream",
     "text": [
      "1\n",
      "8\n"
     ]
    }
   ],
   "source": [
    "#42 : Tuesday, -2, FINANCIAL SERVICES\n",
    "print(len(test.loc[(test['FinelineNumber'].isna())&(test['Weekday']=='Tuesday')&(test['ScanCount']==-2)\n",
    "                   &(test['DepartmentDescription']=='FINANCIAL SERVICES'),'FinelineNumber']))\n",
    "test.loc[(test['FinelineNumber'].isna())\n",
    "     &(test['Weekday']=='Tuesday')\n",
    "     &(test['ScanCount']==-2)\n",
    "     &(test['DepartmentDescription']=='FINANCIAL SERVICES'),'FinelineNumber']\\\n",
    "= train.loc[(train['Weekday']=='Tuesday')\n",
    "#         &(train['ScanCount']==-2)\n",
    "        &(train['DepartmentDescription']=='FINANCIAL SERVICES')\n",
    "        &(train['TripType'] == train.loc[(train['Weekday']=='Tuesday')\n",
    "#                                          &(train['ScanCount']==-2)\n",
    "                                         &(train['DepartmentDescription']=='FINANCIAL SERVICES'),\n",
    "                                         'TripType'].value_counts().index[0])\n",
    "            ,'FinelineNumber'].value_counts().index[0]\n",
    "print(test['FinelineNumber'].isna().sum())"
   ]
  },
  {
   "cell_type": "code",
   "execution_count": 954,
   "metadata": {},
   "outputs": [
    {
     "name": "stdout",
     "output_type": "stream",
     "text": [
      "1\n",
      "7\n"
     ]
    }
   ],
   "source": [
    "#43 : Sunday, -4, FINANCIAL SERVICES\n",
    "print(len(test.loc[(test['FinelineNumber'].isna())&(test['Weekday']=='Sunday')&(test['ScanCount']==-4)\n",
    "                   &(test['DepartmentDescription']=='FINANCIAL SERVICES'),'FinelineNumber']))\n",
    "test.loc[(test['FinelineNumber'].isna())\n",
    "     &(test['Weekday']=='Sunday')\n",
    "     &(test['ScanCount']==-4)\n",
    "     &(test['DepartmentDescription']=='FINANCIAL SERVICES'),'FinelineNumber']\\\n",
    "= train.loc[(train['Weekday']=='Sunday')\n",
    "#         &(train['ScanCount']==-4)\n",
    "        &(train['DepartmentDescription']=='FINANCIAL SERVICES')\n",
    "        &(train['TripType'] == train.loc[(train['Weekday']=='Sunday')\n",
    "#                                          &(train['ScanCount']==-4)\n",
    "                                         &(train['DepartmentDescription']=='FINANCIAL SERVICES'),\n",
    "                                         'TripType'].value_counts().index[0])\n",
    "            ,'FinelineNumber'].value_counts().index[0]\n",
    "print(test['FinelineNumber'].isna().sum())"
   ]
  },
  {
   "cell_type": "code",
   "execution_count": 955,
   "metadata": {},
   "outputs": [
    {
     "data": {
      "text/html": [
       "<div>\n",
       "<style scoped>\n",
       "    .dataframe tbody tr th:only-of-type {\n",
       "        vertical-align: middle;\n",
       "    }\n",
       "\n",
       "    .dataframe tbody tr th {\n",
       "        vertical-align: top;\n",
       "    }\n",
       "\n",
       "    .dataframe thead th {\n",
       "        text-align: right;\n",
       "    }\n",
       "</style>\n",
       "<table border=\"1\" class=\"dataframe\">\n",
       "  <thead>\n",
       "    <tr style=\"text-align: right;\">\n",
       "      <th></th>\n",
       "      <th>TripType</th>\n",
       "      <th>VisitNumber</th>\n",
       "      <th>Weekday</th>\n",
       "      <th>Upc</th>\n",
       "      <th>ScanCount</th>\n",
       "      <th>DepartmentDescription</th>\n",
       "      <th>FinelineNumber</th>\n",
       "    </tr>\n",
       "  </thead>\n",
       "  <tbody>\n",
       "  </tbody>\n",
       "</table>\n",
       "</div>"
      ],
      "text/plain": [
       "Empty DataFrame\n",
       "Columns: [TripType, VisitNumber, Weekday, Upc, ScanCount, DepartmentDescription, FinelineNumber]\n",
       "Index: []"
      ]
     },
     "execution_count": 955,
     "metadata": {},
     "output_type": "execute_result"
    }
   ],
   "source": [
    "train.loc[(train['Weekday']=='Monday')\n",
    "        &(train['ScanCount']==-3)\n",
    "        &(train['DepartmentDescription']=='FINANCIAL SERVICES')]"
   ]
  },
  {
   "cell_type": "code",
   "execution_count": 956,
   "metadata": {},
   "outputs": [
    {
     "name": "stdout",
     "output_type": "stream",
     "text": [
      "3\n",
      "4\n"
     ]
    }
   ],
   "source": [
    "#44 : Monday, -3, FINANCIAL SERVICES\n",
    "print(len(test.loc[(test['FinelineNumber'].isna())&(test['Weekday']=='Monday')&(test['ScanCount']==-3)\n",
    "                   &(test['DepartmentDescription']=='FINANCIAL SERVICES'),'FinelineNumber']))\n",
    "test.loc[(test['FinelineNumber'].isna())\n",
    "     &(test['Weekday']=='Monday')\n",
    "     &(test['ScanCount']==-3)\n",
    "     &(test['DepartmentDescription']=='FINANCIAL SERVICES'),'FinelineNumber']\\\n",
    "= train.loc[(train['Weekday']=='Monday')\n",
    "#         &(train['ScanCount']==-3)\n",
    "        &(train['DepartmentDescription']=='FINANCIAL SERVICES')\n",
    "        &(train['TripType'] == train.loc[(train['Weekday']=='Monday')\n",
    "#                                          &(train['ScanCount']==-3)\n",
    "                                         &(train['DepartmentDescription']=='FINANCIAL SERVICES'),\n",
    "                                         'TripType'].value_counts().index[0])\n",
    "            ,'FinelineNumber'].value_counts().index[0]\n",
    "print(test['FinelineNumber'].isna().sum())"
   ]
  },
  {
   "cell_type": "code",
   "execution_count": 957,
   "metadata": {},
   "outputs": [
    {
     "data": {
      "text/html": [
       "<div>\n",
       "<style scoped>\n",
       "    .dataframe tbody tr th:only-of-type {\n",
       "        vertical-align: middle;\n",
       "    }\n",
       "\n",
       "    .dataframe tbody tr th {\n",
       "        vertical-align: top;\n",
       "    }\n",
       "\n",
       "    .dataframe thead th {\n",
       "        text-align: right;\n",
       "    }\n",
       "</style>\n",
       "<table border=\"1\" class=\"dataframe\">\n",
       "  <thead>\n",
       "    <tr style=\"text-align: right;\">\n",
       "      <th></th>\n",
       "      <th>TripType</th>\n",
       "      <th>VisitNumber</th>\n",
       "      <th>Weekday</th>\n",
       "      <th>Upc</th>\n",
       "      <th>ScanCount</th>\n",
       "      <th>DepartmentDescription</th>\n",
       "      <th>FinelineNumber</th>\n",
       "    </tr>\n",
       "  </thead>\n",
       "  <tbody>\n",
       "  </tbody>\n",
       "</table>\n",
       "</div>"
      ],
      "text/plain": [
       "Empty DataFrame\n",
       "Columns: [TripType, VisitNumber, Weekday, Upc, ScanCount, DepartmentDescription, FinelineNumber]\n",
       "Index: []"
      ]
     },
     "execution_count": 957,
     "metadata": {},
     "output_type": "execute_result"
    }
   ],
   "source": [
    "train.loc[(train['Weekday']=='Wednesday')\n",
    "        &(train['ScanCount']==-5)\n",
    "        &(train['DepartmentDescription']=='FINANCIAL SERVICES')]"
   ]
  },
  {
   "cell_type": "code",
   "execution_count": 958,
   "metadata": {},
   "outputs": [
    {
     "name": "stdout",
     "output_type": "stream",
     "text": [
      "1\n",
      "3\n"
     ]
    }
   ],
   "source": [
    "#45 : Wednesday, -5, FINANCIAL SERVICES\n",
    "print(len(test.loc[(test['FinelineNumber'].isna())&(test['Weekday']=='Wednesday')&(test['ScanCount']==-5)\n",
    "                   &(test['DepartmentDescription']=='FINANCIAL SERVICES'),'FinelineNumber']))\n",
    "test.loc[(test['FinelineNumber'].isna())\n",
    "     &(test['Weekday']=='Wednesday')\n",
    "     &(test['ScanCount']==-5)\n",
    "     &(test['DepartmentDescription']=='FINANCIAL SERVICES'),'FinelineNumber']\\\n",
    "= train.loc[(train['Weekday']=='Wednesday')\n",
    "#         &(train['ScanCount']==-5)\n",
    "        &(train['DepartmentDescription']=='FINANCIAL SERVICES')\n",
    "        &(train['TripType'] == train.loc[(train['Weekday']=='Wednesday')\n",
    "#                                          &(train['ScanCount']==-5)\n",
    "                                         &(train['DepartmentDescription']=='FINANCIAL SERVICES'),\n",
    "                                         'TripType'].value_counts().index[0])\n",
    "            ,'FinelineNumber'].value_counts().index[0]\n",
    "print(test['FinelineNumber'].isna().sum())"
   ]
  },
  {
   "cell_type": "code",
   "execution_count": 959,
   "metadata": {},
   "outputs": [
    {
     "data": {
      "text/html": [
       "<div>\n",
       "<style scoped>\n",
       "    .dataframe tbody tr th:only-of-type {\n",
       "        vertical-align: middle;\n",
       "    }\n",
       "\n",
       "    .dataframe tbody tr th {\n",
       "        vertical-align: top;\n",
       "    }\n",
       "\n",
       "    .dataframe thead th {\n",
       "        text-align: right;\n",
       "    }\n",
       "</style>\n",
       "<table border=\"1\" class=\"dataframe\">\n",
       "  <thead>\n",
       "    <tr style=\"text-align: right;\">\n",
       "      <th></th>\n",
       "      <th>TripType</th>\n",
       "      <th>VisitNumber</th>\n",
       "      <th>Weekday</th>\n",
       "      <th>Upc</th>\n",
       "      <th>ScanCount</th>\n",
       "      <th>DepartmentDescription</th>\n",
       "      <th>FinelineNumber</th>\n",
       "    </tr>\n",
       "  </thead>\n",
       "  <tbody>\n",
       "  </tbody>\n",
       "</table>\n",
       "</div>"
      ],
      "text/plain": [
       "Empty DataFrame\n",
       "Columns: [TripType, VisitNumber, Weekday, Upc, ScanCount, DepartmentDescription, FinelineNumber]\n",
       "Index: []"
      ]
     },
     "execution_count": 959,
     "metadata": {},
     "output_type": "execute_result"
    }
   ],
   "source": [
    "train.loc[(train['Weekday']=='Tuesday')\n",
    "        &(train['ScanCount']==-2)\n",
    "        &(train['DepartmentDescription']=='PHARMACY RX')]"
   ]
  },
  {
   "cell_type": "code",
   "execution_count": 960,
   "metadata": {},
   "outputs": [
    {
     "name": "stdout",
     "output_type": "stream",
     "text": [
      "2\n",
      "1\n"
     ]
    }
   ],
   "source": [
    "#46 : Tuesday, -2, PHARMACY RX\n",
    "print(len(test.loc[(test['FinelineNumber'].isna())&(test['Weekday']=='Tuesday')&(test['ScanCount']==-2)\n",
    "                   &(test['DepartmentDescription']=='PHARMACY RX'),'FinelineNumber']))\n",
    "test.loc[(test['FinelineNumber'].isna())\n",
    "     &(test['Weekday']=='Tuesday')\n",
    "     &(test['ScanCount']==-2)\n",
    "     &(test['DepartmentDescription']=='PHARMACY RX'),'FinelineNumber']\\\n",
    "= train.loc[(train['Weekday']=='Tuesday')\n",
    "#         &(train['ScanCount']==-2)\n",
    "        &(train['DepartmentDescription']=='PHARMACY RX')\n",
    "        &(train['TripType'] == train.loc[(train['Weekday']=='Tuesday')\n",
    "#                                          &(train['ScanCount']==-2)\n",
    "                                         &(train['DepartmentDescription']=='PHARMACY RX'),\n",
    "                                         'TripType'].value_counts().index[0])\n",
    "            ,'FinelineNumber'].value_counts().index[0]\n",
    "print(test['FinelineNumber'].isna().sum())"
   ]
  },
  {
   "cell_type": "code",
   "execution_count": 961,
   "metadata": {},
   "outputs": [
    {
     "name": "stdout",
     "output_type": "stream",
     "text": [
      "1\n",
      "0\n"
     ]
    }
   ],
   "source": [
    "#47 : Thursday, -3, FINANCIAL SERVICES\n",
    "print(len(test.loc[(test['FinelineNumber'].isna())&(test['Weekday']=='Thursday')&(test['ScanCount']==-3)\n",
    "                   &(test['DepartmentDescription']=='FINANCIAL SERVICES'),'FinelineNumber']))\n",
    "test.loc[(test['FinelineNumber'].isna())\n",
    "     &(test['Weekday']=='Thursday')\n",
    "     &(test['ScanCount']==-3)\n",
    "     &(test['DepartmentDescription']=='FINANCIAL SERVICES'),'FinelineNumber']\\\n",
    "= train.loc[(train['Weekday']=='Thursday')\n",
    "#         &(train['ScanCount']==-3)\n",
    "        &(train['DepartmentDescription']=='FINANCIAL SERVICES')\n",
    "        &(train['TripType'] == train.loc[(train['Weekday']=='Thursday')\n",
    "#                                          &(train['ScanCount']==-3)\n",
    "                                         &(train['DepartmentDescription']=='FINANCIAL SERVICES'),\n",
    "                                         'TripType'].value_counts().index[0])\n",
    "            ,'FinelineNumber'].value_counts().index[0]\n",
    "print(test['FinelineNumber'].isna().sum())"
   ]
  },
  {
   "cell_type": "code",
   "execution_count": 962,
   "metadata": {
    "scrolled": true
   },
   "outputs": [
    {
     "data": {
      "text/html": [
       "<div>\n",
       "<style scoped>\n",
       "    .dataframe tbody tr th:only-of-type {\n",
       "        vertical-align: middle;\n",
       "    }\n",
       "\n",
       "    .dataframe tbody tr th {\n",
       "        vertical-align: top;\n",
       "    }\n",
       "\n",
       "    .dataframe thead th {\n",
       "        text-align: right;\n",
       "    }\n",
       "</style>\n",
       "<table border=\"1\" class=\"dataframe\">\n",
       "  <thead>\n",
       "    <tr style=\"text-align: right;\">\n",
       "      <th></th>\n",
       "      <th>VisitNumber</th>\n",
       "      <th>Weekday</th>\n",
       "      <th>Upc</th>\n",
       "      <th>ScanCount</th>\n",
       "      <th>DepartmentDescription</th>\n",
       "      <th>FinelineNumber</th>\n",
       "    </tr>\n",
       "  </thead>\n",
       "  <tbody>\n",
       "  </tbody>\n",
       "</table>\n",
       "</div>"
      ],
      "text/plain": [
       "Empty DataFrame\n",
       "Columns: [VisitNumber, Weekday, Upc, ScanCount, DepartmentDescription, FinelineNumber]\n",
       "Index: []"
      ]
     },
     "execution_count": 962,
     "metadata": {},
     "output_type": "execute_result"
    }
   ],
   "source": [
    "test[test['FinelineNumber'].isna()]"
   ]
  },
  {
   "cell_type": "code",
   "execution_count": 963,
   "metadata": {},
   "outputs": [
    {
     "data": {
      "text/plain": [
       "0"
      ]
     },
     "execution_count": 963,
     "metadata": {},
     "output_type": "execute_result"
    }
   ],
   "source": [
    "# after imputation step2\n",
    "test['FinelineNumber'].isna().sum()"
   ]
  },
  {
   "cell_type": "markdown",
   "metadata": {},
   "source": [
    "### 3-1. Train - Upc"
   ]
  },
  {
   "cell_type": "markdown",
   "metadata": {},
   "source": [
    "- VisitNumber에 따른 Upc의 최빈값으로 Upc의 NaN 값을 채움"
   ]
  },
  {
   "cell_type": "code",
   "execution_count": 971,
   "metadata": {},
   "outputs": [
    {
     "data": {
      "text/plain": [
       "4129"
      ]
     },
     "execution_count": 971,
     "metadata": {},
     "output_type": "execute_result"
    }
   ],
   "source": [
    "# before imputation\n",
    "train['Upc'].isna().sum()"
   ]
  },
  {
   "cell_type": "code",
   "execution_count": 972,
   "metadata": {},
   "outputs": [
    {
     "name": "stderr",
     "output_type": "stream",
     "text": [
      "100%|██████████| 2754/2754 [00:17<00:00, 161.69it/s]\n"
     ]
    }
   ],
   "source": [
    "# Upc이 NaN 값인 데이터의 VisitNumber 리스트\n",
    "Upc_null_VM = train[train['Upc'].isna()]['VisitNumber'].unique()\n",
    "# VisitNumber에 따른 Upc의 최빈값으로 Upc의 NaN 값을 채움\n",
    "for idx in tqdm(Upc_null_VM):\n",
    "    if len(train[train[\"VisitNumber\"] == idx][\"Upc\"].value_counts().index) != 0:\n",
    "        train.loc[(train[\"VisitNumber\"] == idx)&(train[\"Upc\"].isna()), \"Upc\"] \\\n",
    "        = train[train[\"VisitNumber\"] == idx][\"Upc\"].value_counts().index[0]"
   ]
  },
  {
   "cell_type": "code",
   "execution_count": 973,
   "metadata": {},
   "outputs": [
    {
     "data": {
      "text/plain": [
       "2369"
      ]
     },
     "execution_count": 973,
     "metadata": {},
     "output_type": "execute_result"
    }
   ],
   "source": [
    "# after imputation step1\n",
    "train['Upc'].isna().sum()"
   ]
  },
  {
   "cell_type": "code",
   "execution_count": 974,
   "metadata": {},
   "outputs": [
    {
     "data": {
      "text/plain": [
       "5      2089\n",
       "999     280\n",
       "Name: TripType, dtype: int64"
      ]
     },
     "execution_count": 974,
     "metadata": {},
     "output_type": "execute_result"
    }
   ],
   "source": [
    "# 아직 처리하지 못한 총 2369개 데이터는 TripType으로 구분해보면 5와 999 두 개로 나뉜다.\n",
    "train[train['Upc'].isna()]['TripType'].value_counts()"
   ]
  },
  {
   "cell_type": "code",
   "execution_count": 975,
   "metadata": {},
   "outputs": [
    {
     "data": {
      "text/plain": [
       "Int64Index([ 74003,  52567, 111813, 114942, 156445,  83995,  41497,  79927,\n",
       "              1860,  69775,\n",
       "            ...\n",
       "            168331,  78201, 127351,  78197, 168307,  16747,  14684, 102743,\n",
       "              2390,  16384],\n",
       "           dtype='int64', length=1427)"
      ]
     },
     "execution_count": 975,
     "metadata": {},
     "output_type": "execute_result"
    }
   ],
   "source": [
    "train_after_step1_Upc_null_VM_list = train[train['Upc'].isna()]['VisitNumber'].value_counts().index\n",
    "train_after_step1_Upc_null_VM_list"
   ]
  },
  {
   "cell_type": "code",
   "execution_count": 992,
   "metadata": {},
   "outputs": [
    {
     "data": {
      "text/html": [
       "<div>\n",
       "<style scoped>\n",
       "    .dataframe tbody tr th:only-of-type {\n",
       "        vertical-align: middle;\n",
       "    }\n",
       "\n",
       "    .dataframe tbody tr th {\n",
       "        vertical-align: top;\n",
       "    }\n",
       "\n",
       "    .dataframe thead th {\n",
       "        text-align: right;\n",
       "    }\n",
       "</style>\n",
       "<table border=\"1\" class=\"dataframe\">\n",
       "  <thead>\n",
       "    <tr style=\"text-align: right;\">\n",
       "      <th></th>\n",
       "      <th>TripType</th>\n",
       "      <th>VisitNumber</th>\n",
       "      <th>Weekday</th>\n",
       "      <th>Upc</th>\n",
       "      <th>ScanCount</th>\n",
       "      <th>DepartmentDescription</th>\n",
       "      <th>FinelineNumber</th>\n",
       "    </tr>\n",
       "  </thead>\n",
       "  <tbody>\n",
       "    <tr>\n",
       "      <th>509</th>\n",
       "      <td>999</td>\n",
       "      <td>253</td>\n",
       "      <td>Friday</td>\n",
       "      <td>6.811318e+10</td>\n",
       "      <td>-1</td>\n",
       "      <td>FINANCIAL SERVICES</td>\n",
       "      <td>279.0</td>\n",
       "    </tr>\n",
       "    <tr>\n",
       "      <th>590</th>\n",
       "      <td>999</td>\n",
       "      <td>281</td>\n",
       "      <td>Friday</td>\n",
       "      <td>6.811318e+10</td>\n",
       "      <td>-1</td>\n",
       "      <td>FINANCIAL SERVICES</td>\n",
       "      <td>279.0</td>\n",
       "    </tr>\n",
       "    <tr>\n",
       "      <th>709</th>\n",
       "      <td>999</td>\n",
       "      <td>317</td>\n",
       "      <td>Friday</td>\n",
       "      <td>6.053881e+10</td>\n",
       "      <td>-1</td>\n",
       "      <td>FINANCIAL SERVICES</td>\n",
       "      <td>279.0</td>\n",
       "    </tr>\n",
       "    <tr>\n",
       "      <th>949</th>\n",
       "      <td>999</td>\n",
       "      <td>403</td>\n",
       "      <td>Friday</td>\n",
       "      <td>6.053881e+10</td>\n",
       "      <td>-1</td>\n",
       "      <td>FINANCIAL SERVICES</td>\n",
       "      <td>279.0</td>\n",
       "    </tr>\n",
       "    <tr>\n",
       "      <th>950</th>\n",
       "      <td>999</td>\n",
       "      <td>407</td>\n",
       "      <td>Friday</td>\n",
       "      <td>6.811318e+10</td>\n",
       "      <td>-1</td>\n",
       "      <td>FINANCIAL SERVICES</td>\n",
       "      <td>279.0</td>\n",
       "    </tr>\n",
       "    <tr>\n",
       "      <th>959</th>\n",
       "      <td>999</td>\n",
       "      <td>409</td>\n",
       "      <td>Friday</td>\n",
       "      <td>NaN</td>\n",
       "      <td>-1</td>\n",
       "      <td>FINANCIAL SERVICES</td>\n",
       "      <td>279.0</td>\n",
       "    </tr>\n",
       "    <tr>\n",
       "      <th>1134</th>\n",
       "      <td>999</td>\n",
       "      <td>484</td>\n",
       "      <td>Friday</td>\n",
       "      <td>NaN</td>\n",
       "      <td>-2</td>\n",
       "      <td>FINANCIAL SERVICES</td>\n",
       "      <td>279.0</td>\n",
       "    </tr>\n",
       "    <tr>\n",
       "      <th>1135</th>\n",
       "      <td>999</td>\n",
       "      <td>484</td>\n",
       "      <td>Friday</td>\n",
       "      <td>NaN</td>\n",
       "      <td>-2</td>\n",
       "      <td>FINANCIAL SERVICES</td>\n",
       "      <td>279.0</td>\n",
       "    </tr>\n",
       "    <tr>\n",
       "      <th>1357</th>\n",
       "      <td>999</td>\n",
       "      <td>583</td>\n",
       "      <td>Friday</td>\n",
       "      <td>6.053881e+10</td>\n",
       "      <td>-1</td>\n",
       "      <td>FINANCIAL SERVICES</td>\n",
       "      <td>279.0</td>\n",
       "    </tr>\n",
       "    <tr>\n",
       "      <th>2041</th>\n",
       "      <td>999</td>\n",
       "      <td>904</td>\n",
       "      <td>Friday</td>\n",
       "      <td>6.053881e+10</td>\n",
       "      <td>-1</td>\n",
       "      <td>FINANCIAL SERVICES</td>\n",
       "      <td>279.0</td>\n",
       "    </tr>\n",
       "    <tr>\n",
       "      <th>2322</th>\n",
       "      <td>999</td>\n",
       "      <td>1013</td>\n",
       "      <td>Friday</td>\n",
       "      <td>6.053881e+10</td>\n",
       "      <td>-1</td>\n",
       "      <td>FINANCIAL SERVICES</td>\n",
       "      <td>279.0</td>\n",
       "    </tr>\n",
       "    <tr>\n",
       "      <th>3092</th>\n",
       "      <td>999</td>\n",
       "      <td>1235</td>\n",
       "      <td>Friday</td>\n",
       "      <td>6.053881e+10</td>\n",
       "      <td>-1</td>\n",
       "      <td>FINANCIAL SERVICES</td>\n",
       "      <td>279.0</td>\n",
       "    </tr>\n",
       "    <tr>\n",
       "      <th>3173</th>\n",
       "      <td>999</td>\n",
       "      <td>1274</td>\n",
       "      <td>Friday</td>\n",
       "      <td>6.053881e+10</td>\n",
       "      <td>-1</td>\n",
       "      <td>FINANCIAL SERVICES</td>\n",
       "      <td>279.0</td>\n",
       "    </tr>\n",
       "    <tr>\n",
       "      <th>3661</th>\n",
       "      <td>999</td>\n",
       "      <td>1438</td>\n",
       "      <td>Friday</td>\n",
       "      <td>6.053881e+10</td>\n",
       "      <td>-1</td>\n",
       "      <td>FINANCIAL SERVICES</td>\n",
       "      <td>279.0</td>\n",
       "    </tr>\n",
       "    <tr>\n",
       "      <th>3778</th>\n",
       "      <td>999</td>\n",
       "      <td>1518</td>\n",
       "      <td>Friday</td>\n",
       "      <td>6.053881e+10</td>\n",
       "      <td>-1</td>\n",
       "      <td>FINANCIAL SERVICES</td>\n",
       "      <td>279.0</td>\n",
       "    </tr>\n",
       "    <tr>\n",
       "      <th>5334</th>\n",
       "      <td>999</td>\n",
       "      <td>1996</td>\n",
       "      <td>Friday</td>\n",
       "      <td>6.053881e+10</td>\n",
       "      <td>-1</td>\n",
       "      <td>FINANCIAL SERVICES</td>\n",
       "      <td>279.0</td>\n",
       "    </tr>\n",
       "    <tr>\n",
       "      <th>5619</th>\n",
       "      <td>999</td>\n",
       "      <td>2075</td>\n",
       "      <td>Friday</td>\n",
       "      <td>6.053881e+10</td>\n",
       "      <td>-1</td>\n",
       "      <td>FINANCIAL SERVICES</td>\n",
       "      <td>279.0</td>\n",
       "    </tr>\n",
       "    <tr>\n",
       "      <th>6285</th>\n",
       "      <td>999</td>\n",
       "      <td>2245</td>\n",
       "      <td>Friday</td>\n",
       "      <td>NaN</td>\n",
       "      <td>-1</td>\n",
       "      <td>FINANCIAL SERVICES</td>\n",
       "      <td>279.0</td>\n",
       "    </tr>\n",
       "    <tr>\n",
       "      <th>6439</th>\n",
       "      <td>999</td>\n",
       "      <td>2292</td>\n",
       "      <td>Friday</td>\n",
       "      <td>6.811318e+10</td>\n",
       "      <td>-1</td>\n",
       "      <td>FINANCIAL SERVICES</td>\n",
       "      <td>279.0</td>\n",
       "    </tr>\n",
       "    <tr>\n",
       "      <th>6687</th>\n",
       "      <td>999</td>\n",
       "      <td>2395</td>\n",
       "      <td>Friday</td>\n",
       "      <td>6.811318e+10</td>\n",
       "      <td>-1</td>\n",
       "      <td>FINANCIAL SERVICES</td>\n",
       "      <td>279.0</td>\n",
       "    </tr>\n",
       "    <tr>\n",
       "      <th>6901</th>\n",
       "      <td>999</td>\n",
       "      <td>2467</td>\n",
       "      <td>Friday</td>\n",
       "      <td>6.053881e+10</td>\n",
       "      <td>-1</td>\n",
       "      <td>FINANCIAL SERVICES</td>\n",
       "      <td>279.0</td>\n",
       "    </tr>\n",
       "    <tr>\n",
       "      <th>7455</th>\n",
       "      <td>999</td>\n",
       "      <td>2675</td>\n",
       "      <td>Friday</td>\n",
       "      <td>6.053881e+10</td>\n",
       "      <td>-1</td>\n",
       "      <td>FINANCIAL SERVICES</td>\n",
       "      <td>279.0</td>\n",
       "    </tr>\n",
       "    <tr>\n",
       "      <th>8387</th>\n",
       "      <td>999</td>\n",
       "      <td>2954</td>\n",
       "      <td>Friday</td>\n",
       "      <td>6.811318e+10</td>\n",
       "      <td>-1</td>\n",
       "      <td>FINANCIAL SERVICES</td>\n",
       "      <td>279.0</td>\n",
       "    </tr>\n",
       "    <tr>\n",
       "      <th>8524</th>\n",
       "      <td>999</td>\n",
       "      <td>3004</td>\n",
       "      <td>Friday</td>\n",
       "      <td>NaN</td>\n",
       "      <td>1</td>\n",
       "      <td>FINANCIAL SERVICES</td>\n",
       "      <td>279.0</td>\n",
       "    </tr>\n",
       "    <tr>\n",
       "      <th>8836</th>\n",
       "      <td>999</td>\n",
       "      <td>3058</td>\n",
       "      <td>Friday</td>\n",
       "      <td>6.811318e+10</td>\n",
       "      <td>-1</td>\n",
       "      <td>FINANCIAL SERVICES</td>\n",
       "      <td>279.0</td>\n",
       "    </tr>\n",
       "    <tr>\n",
       "      <th>8865</th>\n",
       "      <td>999</td>\n",
       "      <td>3078</td>\n",
       "      <td>Friday</td>\n",
       "      <td>6.053881e+10</td>\n",
       "      <td>-1</td>\n",
       "      <td>FINANCIAL SERVICES</td>\n",
       "      <td>279.0</td>\n",
       "    </tr>\n",
       "    <tr>\n",
       "      <th>9094</th>\n",
       "      <td>999</td>\n",
       "      <td>3149</td>\n",
       "      <td>Friday</td>\n",
       "      <td>NaN</td>\n",
       "      <td>1</td>\n",
       "      <td>FINANCIAL SERVICES</td>\n",
       "      <td>279.0</td>\n",
       "    </tr>\n",
       "    <tr>\n",
       "      <th>10682</th>\n",
       "      <td>999</td>\n",
       "      <td>3584</td>\n",
       "      <td>Friday</td>\n",
       "      <td>6.053881e+10</td>\n",
       "      <td>-1</td>\n",
       "      <td>FINANCIAL SERVICES</td>\n",
       "      <td>279.0</td>\n",
       "    </tr>\n",
       "    <tr>\n",
       "      <th>10888</th>\n",
       "      <td>999</td>\n",
       "      <td>3648</td>\n",
       "      <td>Friday</td>\n",
       "      <td>6.053881e+10</td>\n",
       "      <td>-1</td>\n",
       "      <td>FINANCIAL SERVICES</td>\n",
       "      <td>279.0</td>\n",
       "    </tr>\n",
       "    <tr>\n",
       "      <th>11608</th>\n",
       "      <td>999</td>\n",
       "      <td>3943</td>\n",
       "      <td>Friday</td>\n",
       "      <td>6.053881e+10</td>\n",
       "      <td>-1</td>\n",
       "      <td>FINANCIAL SERVICES</td>\n",
       "      <td>279.0</td>\n",
       "    </tr>\n",
       "    <tr>\n",
       "      <th>...</th>\n",
       "      <td>...</td>\n",
       "      <td>...</td>\n",
       "      <td>...</td>\n",
       "      <td>...</td>\n",
       "      <td>...</td>\n",
       "      <td>...</td>\n",
       "      <td>...</td>\n",
       "    </tr>\n",
       "    <tr>\n",
       "      <th>616383</th>\n",
       "      <td>999</td>\n",
       "      <td>183615</td>\n",
       "      <td>Saturday</td>\n",
       "      <td>6.053881e+10</td>\n",
       "      <td>-1</td>\n",
       "      <td>FINANCIAL SERVICES</td>\n",
       "      <td>279.0</td>\n",
       "    </tr>\n",
       "    <tr>\n",
       "      <th>616417</th>\n",
       "      <td>999</td>\n",
       "      <td>183629</td>\n",
       "      <td>Saturday</td>\n",
       "      <td>6.053881e+10</td>\n",
       "      <td>-1</td>\n",
       "      <td>FINANCIAL SERVICES</td>\n",
       "      <td>279.0</td>\n",
       "    </tr>\n",
       "    <tr>\n",
       "      <th>619734</th>\n",
       "      <td>999</td>\n",
       "      <td>184578</td>\n",
       "      <td>Sunday</td>\n",
       "      <td>NaN</td>\n",
       "      <td>1</td>\n",
       "      <td>FINANCIAL SERVICES</td>\n",
       "      <td>279.0</td>\n",
       "    </tr>\n",
       "    <tr>\n",
       "      <th>619753</th>\n",
       "      <td>999</td>\n",
       "      <td>184591</td>\n",
       "      <td>Sunday</td>\n",
       "      <td>6.053881e+10</td>\n",
       "      <td>-1</td>\n",
       "      <td>FINANCIAL SERVICES</td>\n",
       "      <td>279.0</td>\n",
       "    </tr>\n",
       "    <tr>\n",
       "      <th>623029</th>\n",
       "      <td>999</td>\n",
       "      <td>185455</td>\n",
       "      <td>Sunday</td>\n",
       "      <td>6.053881e+10</td>\n",
       "      <td>-1</td>\n",
       "      <td>FINANCIAL SERVICES</td>\n",
       "      <td>279.0</td>\n",
       "    </tr>\n",
       "    <tr>\n",
       "      <th>623440</th>\n",
       "      <td>999</td>\n",
       "      <td>185588</td>\n",
       "      <td>Sunday</td>\n",
       "      <td>NaN</td>\n",
       "      <td>-1</td>\n",
       "      <td>FINANCIAL SERVICES</td>\n",
       "      <td>279.0</td>\n",
       "    </tr>\n",
       "    <tr>\n",
       "      <th>623988</th>\n",
       "      <td>999</td>\n",
       "      <td>185707</td>\n",
       "      <td>Sunday</td>\n",
       "      <td>6.811318e+10</td>\n",
       "      <td>-1</td>\n",
       "      <td>FINANCIAL SERVICES</td>\n",
       "      <td>279.0</td>\n",
       "    </tr>\n",
       "    <tr>\n",
       "      <th>625021</th>\n",
       "      <td>999</td>\n",
       "      <td>186003</td>\n",
       "      <td>Sunday</td>\n",
       "      <td>6.053881e+10</td>\n",
       "      <td>-1</td>\n",
       "      <td>FINANCIAL SERVICES</td>\n",
       "      <td>279.0</td>\n",
       "    </tr>\n",
       "    <tr>\n",
       "      <th>625854</th>\n",
       "      <td>999</td>\n",
       "      <td>186258</td>\n",
       "      <td>Sunday</td>\n",
       "      <td>6.053881e+10</td>\n",
       "      <td>-1</td>\n",
       "      <td>FINANCIAL SERVICES</td>\n",
       "      <td>279.0</td>\n",
       "    </tr>\n",
       "    <tr>\n",
       "      <th>627299</th>\n",
       "      <td>999</td>\n",
       "      <td>186578</td>\n",
       "      <td>Sunday</td>\n",
       "      <td>6.053881e+10</td>\n",
       "      <td>-1</td>\n",
       "      <td>FINANCIAL SERVICES</td>\n",
       "      <td>279.0</td>\n",
       "    </tr>\n",
       "    <tr>\n",
       "      <th>627484</th>\n",
       "      <td>999</td>\n",
       "      <td>186629</td>\n",
       "      <td>Sunday</td>\n",
       "      <td>6.811318e+10</td>\n",
       "      <td>-1</td>\n",
       "      <td>FINANCIAL SERVICES</td>\n",
       "      <td>279.0</td>\n",
       "    </tr>\n",
       "    <tr>\n",
       "      <th>627629</th>\n",
       "      <td>999</td>\n",
       "      <td>186659</td>\n",
       "      <td>Sunday</td>\n",
       "      <td>NaN</td>\n",
       "      <td>-1</td>\n",
       "      <td>FINANCIAL SERVICES</td>\n",
       "      <td>279.0</td>\n",
       "    </tr>\n",
       "    <tr>\n",
       "      <th>627630</th>\n",
       "      <td>999</td>\n",
       "      <td>186659</td>\n",
       "      <td>Sunday</td>\n",
       "      <td>NaN</td>\n",
       "      <td>-1</td>\n",
       "      <td>FINANCIAL SERVICES</td>\n",
       "      <td>279.0</td>\n",
       "    </tr>\n",
       "    <tr>\n",
       "      <th>629567</th>\n",
       "      <td>999</td>\n",
       "      <td>187070</td>\n",
       "      <td>Sunday</td>\n",
       "      <td>6.053881e+10</td>\n",
       "      <td>-1</td>\n",
       "      <td>FINANCIAL SERVICES</td>\n",
       "      <td>279.0</td>\n",
       "    </tr>\n",
       "    <tr>\n",
       "      <th>630039</th>\n",
       "      <td>999</td>\n",
       "      <td>187221</td>\n",
       "      <td>Sunday</td>\n",
       "      <td>6.053881e+10</td>\n",
       "      <td>-1</td>\n",
       "      <td>FINANCIAL SERVICES</td>\n",
       "      <td>279.0</td>\n",
       "    </tr>\n",
       "    <tr>\n",
       "      <th>630408</th>\n",
       "      <td>999</td>\n",
       "      <td>187314</td>\n",
       "      <td>Sunday</td>\n",
       "      <td>6.053881e+10</td>\n",
       "      <td>-1</td>\n",
       "      <td>FINANCIAL SERVICES</td>\n",
       "      <td>279.0</td>\n",
       "    </tr>\n",
       "    <tr>\n",
       "      <th>630519</th>\n",
       "      <td>999</td>\n",
       "      <td>187352</td>\n",
       "      <td>Sunday</td>\n",
       "      <td>6.053881e+10</td>\n",
       "      <td>-1</td>\n",
       "      <td>FINANCIAL SERVICES</td>\n",
       "      <td>279.0</td>\n",
       "    </tr>\n",
       "    <tr>\n",
       "      <th>631875</th>\n",
       "      <td>999</td>\n",
       "      <td>187677</td>\n",
       "      <td>Sunday</td>\n",
       "      <td>NaN</td>\n",
       "      <td>-1</td>\n",
       "      <td>FINANCIAL SERVICES</td>\n",
       "      <td>279.0</td>\n",
       "    </tr>\n",
       "    <tr>\n",
       "      <th>634700</th>\n",
       "      <td>999</td>\n",
       "      <td>188355</td>\n",
       "      <td>Sunday</td>\n",
       "      <td>NaN</td>\n",
       "      <td>-1</td>\n",
       "      <td>FINANCIAL SERVICES</td>\n",
       "      <td>279.0</td>\n",
       "    </tr>\n",
       "    <tr>\n",
       "      <th>636353</th>\n",
       "      <td>999</td>\n",
       "      <td>188734</td>\n",
       "      <td>Sunday</td>\n",
       "      <td>6.811318e+10</td>\n",
       "      <td>-1</td>\n",
       "      <td>FINANCIAL SERVICES</td>\n",
       "      <td>279.0</td>\n",
       "    </tr>\n",
       "    <tr>\n",
       "      <th>636444</th>\n",
       "      <td>999</td>\n",
       "      <td>188760</td>\n",
       "      <td>Sunday</td>\n",
       "      <td>NaN</td>\n",
       "      <td>-1</td>\n",
       "      <td>FINANCIAL SERVICES</td>\n",
       "      <td>279.0</td>\n",
       "    </tr>\n",
       "    <tr>\n",
       "      <th>637142</th>\n",
       "      <td>999</td>\n",
       "      <td>188925</td>\n",
       "      <td>Sunday</td>\n",
       "      <td>6.811318e+10</td>\n",
       "      <td>-1</td>\n",
       "      <td>FINANCIAL SERVICES</td>\n",
       "      <td>279.0</td>\n",
       "    </tr>\n",
       "    <tr>\n",
       "      <th>637224</th>\n",
       "      <td>999</td>\n",
       "      <td>188954</td>\n",
       "      <td>Sunday</td>\n",
       "      <td>6.053881e+10</td>\n",
       "      <td>-1</td>\n",
       "      <td>FINANCIAL SERVICES</td>\n",
       "      <td>279.0</td>\n",
       "    </tr>\n",
       "    <tr>\n",
       "      <th>637812</th>\n",
       "      <td>999</td>\n",
       "      <td>189115</td>\n",
       "      <td>Sunday</td>\n",
       "      <td>6.053881e+10</td>\n",
       "      <td>-1</td>\n",
       "      <td>FINANCIAL SERVICES</td>\n",
       "      <td>279.0</td>\n",
       "    </tr>\n",
       "    <tr>\n",
       "      <th>637854</th>\n",
       "      <td>999</td>\n",
       "      <td>189134</td>\n",
       "      <td>Sunday</td>\n",
       "      <td>6.811318e+10</td>\n",
       "      <td>-1</td>\n",
       "      <td>FINANCIAL SERVICES</td>\n",
       "      <td>279.0</td>\n",
       "    </tr>\n",
       "    <tr>\n",
       "      <th>638224</th>\n",
       "      <td>999</td>\n",
       "      <td>189248</td>\n",
       "      <td>Sunday</td>\n",
       "      <td>6.811318e+10</td>\n",
       "      <td>-1</td>\n",
       "      <td>FINANCIAL SERVICES</td>\n",
       "      <td>279.0</td>\n",
       "    </tr>\n",
       "    <tr>\n",
       "      <th>638368</th>\n",
       "      <td>999</td>\n",
       "      <td>189296</td>\n",
       "      <td>Sunday</td>\n",
       "      <td>6.053881e+10</td>\n",
       "      <td>-1</td>\n",
       "      <td>FINANCIAL SERVICES</td>\n",
       "      <td>279.0</td>\n",
       "    </tr>\n",
       "    <tr>\n",
       "      <th>639698</th>\n",
       "      <td>999</td>\n",
       "      <td>189644</td>\n",
       "      <td>Sunday</td>\n",
       "      <td>6.053881e+10</td>\n",
       "      <td>-1</td>\n",
       "      <td>FINANCIAL SERVICES</td>\n",
       "      <td>279.0</td>\n",
       "    </tr>\n",
       "    <tr>\n",
       "      <th>640069</th>\n",
       "      <td>999</td>\n",
       "      <td>189704</td>\n",
       "      <td>Sunday</td>\n",
       "      <td>6.053881e+10</td>\n",
       "      <td>-1</td>\n",
       "      <td>FINANCIAL SERVICES</td>\n",
       "      <td>279.0</td>\n",
       "    </tr>\n",
       "    <tr>\n",
       "      <th>643976</th>\n",
       "      <td>999</td>\n",
       "      <td>190643</td>\n",
       "      <td>Sunday</td>\n",
       "      <td>6.053881e+10</td>\n",
       "      <td>-1</td>\n",
       "      <td>FINANCIAL SERVICES</td>\n",
       "      <td>279.0</td>\n",
       "    </tr>\n",
       "  </tbody>\n",
       "</table>\n",
       "<p>1046 rows × 7 columns</p>\n",
       "</div>"
      ],
      "text/plain": [
       "        TripType  VisitNumber   Weekday           Upc  ScanCount  \\\n",
       "509          999          253    Friday  6.811318e+10         -1   \n",
       "590          999          281    Friday  6.811318e+10         -1   \n",
       "709          999          317    Friday  6.053881e+10         -1   \n",
       "949          999          403    Friday  6.053881e+10         -1   \n",
       "950          999          407    Friday  6.811318e+10         -1   \n",
       "959          999          409    Friday           NaN         -1   \n",
       "1134         999          484    Friday           NaN         -2   \n",
       "1135         999          484    Friday           NaN         -2   \n",
       "1357         999          583    Friday  6.053881e+10         -1   \n",
       "2041         999          904    Friday  6.053881e+10         -1   \n",
       "2322         999         1013    Friday  6.053881e+10         -1   \n",
       "3092         999         1235    Friday  6.053881e+10         -1   \n",
       "3173         999         1274    Friday  6.053881e+10         -1   \n",
       "3661         999         1438    Friday  6.053881e+10         -1   \n",
       "3778         999         1518    Friday  6.053881e+10         -1   \n",
       "5334         999         1996    Friday  6.053881e+10         -1   \n",
       "5619         999         2075    Friday  6.053881e+10         -1   \n",
       "6285         999         2245    Friday           NaN         -1   \n",
       "6439         999         2292    Friday  6.811318e+10         -1   \n",
       "6687         999         2395    Friday  6.811318e+10         -1   \n",
       "6901         999         2467    Friday  6.053881e+10         -1   \n",
       "7455         999         2675    Friday  6.053881e+10         -1   \n",
       "8387         999         2954    Friday  6.811318e+10         -1   \n",
       "8524         999         3004    Friday           NaN          1   \n",
       "8836         999         3058    Friday  6.811318e+10         -1   \n",
       "8865         999         3078    Friday  6.053881e+10         -1   \n",
       "9094         999         3149    Friday           NaN          1   \n",
       "10682        999         3584    Friday  6.053881e+10         -1   \n",
       "10888        999         3648    Friday  6.053881e+10         -1   \n",
       "11608        999         3943    Friday  6.053881e+10         -1   \n",
       "...          ...          ...       ...           ...        ...   \n",
       "616383       999       183615  Saturday  6.053881e+10         -1   \n",
       "616417       999       183629  Saturday  6.053881e+10         -1   \n",
       "619734       999       184578    Sunday           NaN          1   \n",
       "619753       999       184591    Sunday  6.053881e+10         -1   \n",
       "623029       999       185455    Sunday  6.053881e+10         -1   \n",
       "623440       999       185588    Sunday           NaN         -1   \n",
       "623988       999       185707    Sunday  6.811318e+10         -1   \n",
       "625021       999       186003    Sunday  6.053881e+10         -1   \n",
       "625854       999       186258    Sunday  6.053881e+10         -1   \n",
       "627299       999       186578    Sunday  6.053881e+10         -1   \n",
       "627484       999       186629    Sunday  6.811318e+10         -1   \n",
       "627629       999       186659    Sunday           NaN         -1   \n",
       "627630       999       186659    Sunday           NaN         -1   \n",
       "629567       999       187070    Sunday  6.053881e+10         -1   \n",
       "630039       999       187221    Sunday  6.053881e+10         -1   \n",
       "630408       999       187314    Sunday  6.053881e+10         -1   \n",
       "630519       999       187352    Sunday  6.053881e+10         -1   \n",
       "631875       999       187677    Sunday           NaN         -1   \n",
       "634700       999       188355    Sunday           NaN         -1   \n",
       "636353       999       188734    Sunday  6.811318e+10         -1   \n",
       "636444       999       188760    Sunday           NaN         -1   \n",
       "637142       999       188925    Sunday  6.811318e+10         -1   \n",
       "637224       999       188954    Sunday  6.053881e+10         -1   \n",
       "637812       999       189115    Sunday  6.053881e+10         -1   \n",
       "637854       999       189134    Sunday  6.811318e+10         -1   \n",
       "638224       999       189248    Sunday  6.811318e+10         -1   \n",
       "638368       999       189296    Sunday  6.053881e+10         -1   \n",
       "639698       999       189644    Sunday  6.053881e+10         -1   \n",
       "640069       999       189704    Sunday  6.053881e+10         -1   \n",
       "643976       999       190643    Sunday  6.053881e+10         -1   \n",
       "\n",
       "       DepartmentDescription  FinelineNumber  \n",
       "509       FINANCIAL SERVICES           279.0  \n",
       "590       FINANCIAL SERVICES           279.0  \n",
       "709       FINANCIAL SERVICES           279.0  \n",
       "949       FINANCIAL SERVICES           279.0  \n",
       "950       FINANCIAL SERVICES           279.0  \n",
       "959       FINANCIAL SERVICES           279.0  \n",
       "1134      FINANCIAL SERVICES           279.0  \n",
       "1135      FINANCIAL SERVICES           279.0  \n",
       "1357      FINANCIAL SERVICES           279.0  \n",
       "2041      FINANCIAL SERVICES           279.0  \n",
       "2322      FINANCIAL SERVICES           279.0  \n",
       "3092      FINANCIAL SERVICES           279.0  \n",
       "3173      FINANCIAL SERVICES           279.0  \n",
       "3661      FINANCIAL SERVICES           279.0  \n",
       "3778      FINANCIAL SERVICES           279.0  \n",
       "5334      FINANCIAL SERVICES           279.0  \n",
       "5619      FINANCIAL SERVICES           279.0  \n",
       "6285      FINANCIAL SERVICES           279.0  \n",
       "6439      FINANCIAL SERVICES           279.0  \n",
       "6687      FINANCIAL SERVICES           279.0  \n",
       "6901      FINANCIAL SERVICES           279.0  \n",
       "7455      FINANCIAL SERVICES           279.0  \n",
       "8387      FINANCIAL SERVICES           279.0  \n",
       "8524      FINANCIAL SERVICES           279.0  \n",
       "8836      FINANCIAL SERVICES           279.0  \n",
       "8865      FINANCIAL SERVICES           279.0  \n",
       "9094      FINANCIAL SERVICES           279.0  \n",
       "10682     FINANCIAL SERVICES           279.0  \n",
       "10888     FINANCIAL SERVICES           279.0  \n",
       "11608     FINANCIAL SERVICES           279.0  \n",
       "...                      ...             ...  \n",
       "616383    FINANCIAL SERVICES           279.0  \n",
       "616417    FINANCIAL SERVICES           279.0  \n",
       "619734    FINANCIAL SERVICES           279.0  \n",
       "619753    FINANCIAL SERVICES           279.0  \n",
       "623029    FINANCIAL SERVICES           279.0  \n",
       "623440    FINANCIAL SERVICES           279.0  \n",
       "623988    FINANCIAL SERVICES           279.0  \n",
       "625021    FINANCIAL SERVICES           279.0  \n",
       "625854    FINANCIAL SERVICES           279.0  \n",
       "627299    FINANCIAL SERVICES           279.0  \n",
       "627484    FINANCIAL SERVICES           279.0  \n",
       "627629    FINANCIAL SERVICES           279.0  \n",
       "627630    FINANCIAL SERVICES           279.0  \n",
       "629567    FINANCIAL SERVICES           279.0  \n",
       "630039    FINANCIAL SERVICES           279.0  \n",
       "630408    FINANCIAL SERVICES           279.0  \n",
       "630519    FINANCIAL SERVICES           279.0  \n",
       "631875    FINANCIAL SERVICES           279.0  \n",
       "634700    FINANCIAL SERVICES           279.0  \n",
       "636353    FINANCIAL SERVICES           279.0  \n",
       "636444    FINANCIAL SERVICES           279.0  \n",
       "637142    FINANCIAL SERVICES           279.0  \n",
       "637224    FINANCIAL SERVICES           279.0  \n",
       "637812    FINANCIAL SERVICES           279.0  \n",
       "637854    FINANCIAL SERVICES           279.0  \n",
       "638224    FINANCIAL SERVICES           279.0  \n",
       "638368    FINANCIAL SERVICES           279.0  \n",
       "639698    FINANCIAL SERVICES           279.0  \n",
       "640069    FINANCIAL SERVICES           279.0  \n",
       "643976    FINANCIAL SERVICES           279.0  \n",
       "\n",
       "[1046 rows x 7 columns]"
      ]
     },
     "execution_count": 992,
     "metadata": {},
     "output_type": "execute_result"
    }
   ],
   "source": [
    "train.loc[(train['DepartmentDescription']=='FINANCIAL SERVICES')\n",
    "         &(train['FinelineNumber']==279.0)]"
   ]
  },
  {
   "cell_type": "code",
   "execution_count": 991,
   "metadata": {},
   "outputs": [
    {
     "data": {
      "text/plain": [
       "6.053881e+10    510\n",
       "6.811318e+10    323\n",
       "6.053881e+10     22\n",
       "Name: Upc, dtype: int64"
      ]
     },
     "execution_count": 991,
     "metadata": {},
     "output_type": "execute_result"
    }
   ],
   "source": [
    "train.loc[(train['DepartmentDescription']=='FINANCIAL SERVICES')\n",
    "         &(train['FinelineNumber']==279.0)\n",
    "        ,'Upc'].value_counts()"
   ]
  },
  {
   "cell_type": "code",
   "execution_count": 987,
   "metadata": {},
   "outputs": [
    {
     "data": {
      "text/html": [
       "<div>\n",
       "<style scoped>\n",
       "    .dataframe tbody tr th:only-of-type {\n",
       "        vertical-align: middle;\n",
       "    }\n",
       "\n",
       "    .dataframe tbody tr th {\n",
       "        vertical-align: top;\n",
       "    }\n",
       "\n",
       "    .dataframe thead th {\n",
       "        text-align: right;\n",
       "    }\n",
       "</style>\n",
       "<table border=\"1\" class=\"dataframe\">\n",
       "  <thead>\n",
       "    <tr style=\"text-align: right;\">\n",
       "      <th></th>\n",
       "      <th>TripType</th>\n",
       "      <th>VisitNumber</th>\n",
       "      <th>Weekday</th>\n",
       "      <th>Upc</th>\n",
       "      <th>ScanCount</th>\n",
       "      <th>DepartmentDescription</th>\n",
       "      <th>FinelineNumber</th>\n",
       "    </tr>\n",
       "  </thead>\n",
       "  <tbody>\n",
       "    <tr>\n",
       "      <th>959</th>\n",
       "      <td>999</td>\n",
       "      <td>409</td>\n",
       "      <td>Friday</td>\n",
       "      <td>NaN</td>\n",
       "      <td>-1</td>\n",
       "      <td>FINANCIAL SERVICES</td>\n",
       "      <td>279.0</td>\n",
       "    </tr>\n",
       "    <tr>\n",
       "      <th>1134</th>\n",
       "      <td>999</td>\n",
       "      <td>484</td>\n",
       "      <td>Friday</td>\n",
       "      <td>NaN</td>\n",
       "      <td>-2</td>\n",
       "      <td>FINANCIAL SERVICES</td>\n",
       "      <td>279.0</td>\n",
       "    </tr>\n",
       "    <tr>\n",
       "      <th>1135</th>\n",
       "      <td>999</td>\n",
       "      <td>484</td>\n",
       "      <td>Friday</td>\n",
       "      <td>NaN</td>\n",
       "      <td>-2</td>\n",
       "      <td>FINANCIAL SERVICES</td>\n",
       "      <td>279.0</td>\n",
       "    </tr>\n",
       "    <tr>\n",
       "      <th>6285</th>\n",
       "      <td>999</td>\n",
       "      <td>2245</td>\n",
       "      <td>Friday</td>\n",
       "      <td>NaN</td>\n",
       "      <td>-1</td>\n",
       "      <td>FINANCIAL SERVICES</td>\n",
       "      <td>279.0</td>\n",
       "    </tr>\n",
       "    <tr>\n",
       "      <th>8524</th>\n",
       "      <td>999</td>\n",
       "      <td>3004</td>\n",
       "      <td>Friday</td>\n",
       "      <td>NaN</td>\n",
       "      <td>1</td>\n",
       "      <td>FINANCIAL SERVICES</td>\n",
       "      <td>279.0</td>\n",
       "    </tr>\n",
       "    <tr>\n",
       "      <th>9094</th>\n",
       "      <td>999</td>\n",
       "      <td>3149</td>\n",
       "      <td>Friday</td>\n",
       "      <td>NaN</td>\n",
       "      <td>1</td>\n",
       "      <td>FINANCIAL SERVICES</td>\n",
       "      <td>279.0</td>\n",
       "    </tr>\n",
       "    <tr>\n",
       "      <th>14917</th>\n",
       "      <td>999</td>\n",
       "      <td>4884</td>\n",
       "      <td>Friday</td>\n",
       "      <td>NaN</td>\n",
       "      <td>1</td>\n",
       "      <td>FINANCIAL SERVICES</td>\n",
       "      <td>279.0</td>\n",
       "    </tr>\n",
       "    <tr>\n",
       "      <th>21546</th>\n",
       "      <td>999</td>\n",
       "      <td>6836</td>\n",
       "      <td>Saturday</td>\n",
       "      <td>NaN</td>\n",
       "      <td>-1</td>\n",
       "      <td>FINANCIAL SERVICES</td>\n",
       "      <td>279.0</td>\n",
       "    </tr>\n",
       "    <tr>\n",
       "      <th>21693</th>\n",
       "      <td>999</td>\n",
       "      <td>6885</td>\n",
       "      <td>Saturday</td>\n",
       "      <td>NaN</td>\n",
       "      <td>-1</td>\n",
       "      <td>FINANCIAL SERVICES</td>\n",
       "      <td>279.0</td>\n",
       "    </tr>\n",
       "    <tr>\n",
       "      <th>28029</th>\n",
       "      <td>999</td>\n",
       "      <td>8681</td>\n",
       "      <td>Saturday</td>\n",
       "      <td>NaN</td>\n",
       "      <td>-1</td>\n",
       "      <td>FINANCIAL SERVICES</td>\n",
       "      <td>279.0</td>\n",
       "    </tr>\n",
       "    <tr>\n",
       "      <th>29485</th>\n",
       "      <td>999</td>\n",
       "      <td>9081</td>\n",
       "      <td>Saturday</td>\n",
       "      <td>NaN</td>\n",
       "      <td>-6</td>\n",
       "      <td>FINANCIAL SERVICES</td>\n",
       "      <td>279.0</td>\n",
       "    </tr>\n",
       "    <tr>\n",
       "      <th>30685</th>\n",
       "      <td>999</td>\n",
       "      <td>9378</td>\n",
       "      <td>Saturday</td>\n",
       "      <td>NaN</td>\n",
       "      <td>-1</td>\n",
       "      <td>FINANCIAL SERVICES</td>\n",
       "      <td>279.0</td>\n",
       "    </tr>\n",
       "    <tr>\n",
       "      <th>30686</th>\n",
       "      <td>999</td>\n",
       "      <td>9378</td>\n",
       "      <td>Saturday</td>\n",
       "      <td>NaN</td>\n",
       "      <td>1</td>\n",
       "      <td>FINANCIAL SERVICES</td>\n",
       "      <td>279.0</td>\n",
       "    </tr>\n",
       "    <tr>\n",
       "      <th>32085</th>\n",
       "      <td>999</td>\n",
       "      <td>9758</td>\n",
       "      <td>Saturday</td>\n",
       "      <td>NaN</td>\n",
       "      <td>-1</td>\n",
       "      <td>FINANCIAL SERVICES</td>\n",
       "      <td>279.0</td>\n",
       "    </tr>\n",
       "    <tr>\n",
       "      <th>38076</th>\n",
       "      <td>999</td>\n",
       "      <td>11325</td>\n",
       "      <td>Saturday</td>\n",
       "      <td>NaN</td>\n",
       "      <td>1</td>\n",
       "      <td>FINANCIAL SERVICES</td>\n",
       "      <td>279.0</td>\n",
       "    </tr>\n",
       "    <tr>\n",
       "      <th>44211</th>\n",
       "      <td>999</td>\n",
       "      <td>13094</td>\n",
       "      <td>Sunday</td>\n",
       "      <td>NaN</td>\n",
       "      <td>1</td>\n",
       "      <td>FINANCIAL SERVICES</td>\n",
       "      <td>279.0</td>\n",
       "    </tr>\n",
       "    <tr>\n",
       "      <th>48213</th>\n",
       "      <td>999</td>\n",
       "      <td>14110</td>\n",
       "      <td>Sunday</td>\n",
       "      <td>NaN</td>\n",
       "      <td>-1</td>\n",
       "      <td>FINANCIAL SERVICES</td>\n",
       "      <td>279.0</td>\n",
       "    </tr>\n",
       "    <tr>\n",
       "      <th>50350</th>\n",
       "      <td>999</td>\n",
       "      <td>14675</td>\n",
       "      <td>Sunday</td>\n",
       "      <td>NaN</td>\n",
       "      <td>1</td>\n",
       "      <td>FINANCIAL SERVICES</td>\n",
       "      <td>279.0</td>\n",
       "    </tr>\n",
       "    <tr>\n",
       "      <th>50351</th>\n",
       "      <td>999</td>\n",
       "      <td>14675</td>\n",
       "      <td>Sunday</td>\n",
       "      <td>NaN</td>\n",
       "      <td>-1</td>\n",
       "      <td>FINANCIAL SERVICES</td>\n",
       "      <td>279.0</td>\n",
       "    </tr>\n",
       "    <tr>\n",
       "      <th>50392</th>\n",
       "      <td>999</td>\n",
       "      <td>14678</td>\n",
       "      <td>Sunday</td>\n",
       "      <td>NaN</td>\n",
       "      <td>1</td>\n",
       "      <td>FINANCIAL SERVICES</td>\n",
       "      <td>279.0</td>\n",
       "    </tr>\n",
       "    <tr>\n",
       "      <th>50393</th>\n",
       "      <td>999</td>\n",
       "      <td>14678</td>\n",
       "      <td>Sunday</td>\n",
       "      <td>NaN</td>\n",
       "      <td>-1</td>\n",
       "      <td>FINANCIAL SERVICES</td>\n",
       "      <td>279.0</td>\n",
       "    </tr>\n",
       "    <tr>\n",
       "      <th>50413</th>\n",
       "      <td>999</td>\n",
       "      <td>14684</td>\n",
       "      <td>Sunday</td>\n",
       "      <td>NaN</td>\n",
       "      <td>1</td>\n",
       "      <td>FINANCIAL SERVICES</td>\n",
       "      <td>279.0</td>\n",
       "    </tr>\n",
       "    <tr>\n",
       "      <th>54370</th>\n",
       "      <td>999</td>\n",
       "      <td>15664</td>\n",
       "      <td>Sunday</td>\n",
       "      <td>NaN</td>\n",
       "      <td>-1</td>\n",
       "      <td>FINANCIAL SERVICES</td>\n",
       "      <td>279.0</td>\n",
       "    </tr>\n",
       "    <tr>\n",
       "      <th>57060</th>\n",
       "      <td>999</td>\n",
       "      <td>16384</td>\n",
       "      <td>Sunday</td>\n",
       "      <td>NaN</td>\n",
       "      <td>-1</td>\n",
       "      <td>FINANCIAL SERVICES</td>\n",
       "      <td>279.0</td>\n",
       "    </tr>\n",
       "    <tr>\n",
       "      <th>58696</th>\n",
       "      <td>999</td>\n",
       "      <td>16747</td>\n",
       "      <td>Sunday</td>\n",
       "      <td>NaN</td>\n",
       "      <td>1</td>\n",
       "      <td>FINANCIAL SERVICES</td>\n",
       "      <td>279.0</td>\n",
       "    </tr>\n",
       "    <tr>\n",
       "      <th>64604</th>\n",
       "      <td>999</td>\n",
       "      <td>18103</td>\n",
       "      <td>Sunday</td>\n",
       "      <td>NaN</td>\n",
       "      <td>1</td>\n",
       "      <td>FINANCIAL SERVICES</td>\n",
       "      <td>279.0</td>\n",
       "    </tr>\n",
       "    <tr>\n",
       "      <th>68877</th>\n",
       "      <td>999</td>\n",
       "      <td>19296</td>\n",
       "      <td>Sunday</td>\n",
       "      <td>NaN</td>\n",
       "      <td>-1</td>\n",
       "      <td>FINANCIAL SERVICES</td>\n",
       "      <td>279.0</td>\n",
       "    </tr>\n",
       "    <tr>\n",
       "      <th>68878</th>\n",
       "      <td>999</td>\n",
       "      <td>19296</td>\n",
       "      <td>Sunday</td>\n",
       "      <td>NaN</td>\n",
       "      <td>-1</td>\n",
       "      <td>FINANCIAL SERVICES</td>\n",
       "      <td>279.0</td>\n",
       "    </tr>\n",
       "    <tr>\n",
       "      <th>69154</th>\n",
       "      <td>999</td>\n",
       "      <td>19362</td>\n",
       "      <td>Sunday</td>\n",
       "      <td>NaN</td>\n",
       "      <td>1</td>\n",
       "      <td>FINANCIAL SERVICES</td>\n",
       "      <td>279.0</td>\n",
       "    </tr>\n",
       "    <tr>\n",
       "      <th>71482</th>\n",
       "      <td>999</td>\n",
       "      <td>20131</td>\n",
       "      <td>Monday</td>\n",
       "      <td>NaN</td>\n",
       "      <td>1</td>\n",
       "      <td>FINANCIAL SERVICES</td>\n",
       "      <td>279.0</td>\n",
       "    </tr>\n",
       "    <tr>\n",
       "      <th>...</th>\n",
       "      <td>...</td>\n",
       "      <td>...</td>\n",
       "      <td>...</td>\n",
       "      <td>...</td>\n",
       "      <td>...</td>\n",
       "      <td>...</td>\n",
       "      <td>...</td>\n",
       "    </tr>\n",
       "    <tr>\n",
       "      <th>575910</th>\n",
       "      <td>999</td>\n",
       "      <td>171625</td>\n",
       "      <td>Thursday</td>\n",
       "      <td>NaN</td>\n",
       "      <td>1</td>\n",
       "      <td>FINANCIAL SERVICES</td>\n",
       "      <td>279.0</td>\n",
       "    </tr>\n",
       "    <tr>\n",
       "      <th>575911</th>\n",
       "      <td>999</td>\n",
       "      <td>171625</td>\n",
       "      <td>Thursday</td>\n",
       "      <td>NaN</td>\n",
       "      <td>1</td>\n",
       "      <td>FINANCIAL SERVICES</td>\n",
       "      <td>279.0</td>\n",
       "    </tr>\n",
       "    <tr>\n",
       "      <th>578909</th>\n",
       "      <td>999</td>\n",
       "      <td>172662</td>\n",
       "      <td>Friday</td>\n",
       "      <td>NaN</td>\n",
       "      <td>1</td>\n",
       "      <td>FINANCIAL SERVICES</td>\n",
       "      <td>279.0</td>\n",
       "    </tr>\n",
       "    <tr>\n",
       "      <th>578910</th>\n",
       "      <td>999</td>\n",
       "      <td>172662</td>\n",
       "      <td>Friday</td>\n",
       "      <td>NaN</td>\n",
       "      <td>-1</td>\n",
       "      <td>FINANCIAL SERVICES</td>\n",
       "      <td>279.0</td>\n",
       "    </tr>\n",
       "    <tr>\n",
       "      <th>580797</th>\n",
       "      <td>999</td>\n",
       "      <td>173321</td>\n",
       "      <td>Friday</td>\n",
       "      <td>NaN</td>\n",
       "      <td>-1</td>\n",
       "      <td>FINANCIAL SERVICES</td>\n",
       "      <td>279.0</td>\n",
       "    </tr>\n",
       "    <tr>\n",
       "      <th>583947</th>\n",
       "      <td>999</td>\n",
       "      <td>174330</td>\n",
       "      <td>Friday</td>\n",
       "      <td>NaN</td>\n",
       "      <td>-1</td>\n",
       "      <td>FINANCIAL SERVICES</td>\n",
       "      <td>279.0</td>\n",
       "    </tr>\n",
       "    <tr>\n",
       "      <th>584747</th>\n",
       "      <td>999</td>\n",
       "      <td>174626</td>\n",
       "      <td>Friday</td>\n",
       "      <td>NaN</td>\n",
       "      <td>-1</td>\n",
       "      <td>FINANCIAL SERVICES</td>\n",
       "      <td>279.0</td>\n",
       "    </tr>\n",
       "    <tr>\n",
       "      <th>584748</th>\n",
       "      <td>999</td>\n",
       "      <td>174626</td>\n",
       "      <td>Friday</td>\n",
       "      <td>NaN</td>\n",
       "      <td>-1</td>\n",
       "      <td>FINANCIAL SERVICES</td>\n",
       "      <td>279.0</td>\n",
       "    </tr>\n",
       "    <tr>\n",
       "      <th>587394</th>\n",
       "      <td>999</td>\n",
       "      <td>175463</td>\n",
       "      <td>Friday</td>\n",
       "      <td>NaN</td>\n",
       "      <td>1</td>\n",
       "      <td>PHARMACY RX</td>\n",
       "      <td>279.0</td>\n",
       "    </tr>\n",
       "    <tr>\n",
       "      <th>587395</th>\n",
       "      <td>999</td>\n",
       "      <td>175463</td>\n",
       "      <td>Friday</td>\n",
       "      <td>NaN</td>\n",
       "      <td>-1</td>\n",
       "      <td>PHARMACY RX</td>\n",
       "      <td>279.0</td>\n",
       "    </tr>\n",
       "    <tr>\n",
       "      <th>599195</th>\n",
       "      <td>999</td>\n",
       "      <td>178825</td>\n",
       "      <td>Saturday</td>\n",
       "      <td>NaN</td>\n",
       "      <td>-2</td>\n",
       "      <td>FINANCIAL SERVICES</td>\n",
       "      <td>279.0</td>\n",
       "    </tr>\n",
       "    <tr>\n",
       "      <th>600332</th>\n",
       "      <td>999</td>\n",
       "      <td>179175</td>\n",
       "      <td>Saturday</td>\n",
       "      <td>NaN</td>\n",
       "      <td>1</td>\n",
       "      <td>FINANCIAL SERVICES</td>\n",
       "      <td>279.0</td>\n",
       "    </tr>\n",
       "    <tr>\n",
       "      <th>601551</th>\n",
       "      <td>999</td>\n",
       "      <td>179541</td>\n",
       "      <td>Saturday</td>\n",
       "      <td>NaN</td>\n",
       "      <td>1</td>\n",
       "      <td>PHARMACY RX</td>\n",
       "      <td>279.0</td>\n",
       "    </tr>\n",
       "    <tr>\n",
       "      <th>601552</th>\n",
       "      <td>999</td>\n",
       "      <td>179541</td>\n",
       "      <td>Saturday</td>\n",
       "      <td>NaN</td>\n",
       "      <td>1</td>\n",
       "      <td>PHARMACY RX</td>\n",
       "      <td>279.0</td>\n",
       "    </tr>\n",
       "    <tr>\n",
       "      <th>601553</th>\n",
       "      <td>999</td>\n",
       "      <td>179541</td>\n",
       "      <td>Saturday</td>\n",
       "      <td>NaN</td>\n",
       "      <td>-1</td>\n",
       "      <td>PHARMACY RX</td>\n",
       "      <td>279.0</td>\n",
       "    </tr>\n",
       "    <tr>\n",
       "      <th>601554</th>\n",
       "      <td>999</td>\n",
       "      <td>179541</td>\n",
       "      <td>Saturday</td>\n",
       "      <td>NaN</td>\n",
       "      <td>-1</td>\n",
       "      <td>PHARMACY RX</td>\n",
       "      <td>279.0</td>\n",
       "    </tr>\n",
       "    <tr>\n",
       "      <th>607065</th>\n",
       "      <td>999</td>\n",
       "      <td>181024</td>\n",
       "      <td>Saturday</td>\n",
       "      <td>NaN</td>\n",
       "      <td>1</td>\n",
       "      <td>PHARMACY RX</td>\n",
       "      <td>279.0</td>\n",
       "    </tr>\n",
       "    <tr>\n",
       "      <th>607304</th>\n",
       "      <td>999</td>\n",
       "      <td>181062</td>\n",
       "      <td>Saturday</td>\n",
       "      <td>NaN</td>\n",
       "      <td>-1</td>\n",
       "      <td>FINANCIAL SERVICES</td>\n",
       "      <td>279.0</td>\n",
       "    </tr>\n",
       "    <tr>\n",
       "      <th>608156</th>\n",
       "      <td>999</td>\n",
       "      <td>181334</td>\n",
       "      <td>Saturday</td>\n",
       "      <td>NaN</td>\n",
       "      <td>1</td>\n",
       "      <td>FINANCIAL SERVICES</td>\n",
       "      <td>279.0</td>\n",
       "    </tr>\n",
       "    <tr>\n",
       "      <th>613606</th>\n",
       "      <td>999</td>\n",
       "      <td>182836</td>\n",
       "      <td>Saturday</td>\n",
       "      <td>NaN</td>\n",
       "      <td>-1</td>\n",
       "      <td>FINANCIAL SERVICES</td>\n",
       "      <td>279.0</td>\n",
       "    </tr>\n",
       "    <tr>\n",
       "      <th>615656</th>\n",
       "      <td>999</td>\n",
       "      <td>183367</td>\n",
       "      <td>Saturday</td>\n",
       "      <td>NaN</td>\n",
       "      <td>-1</td>\n",
       "      <td>FINANCIAL SERVICES</td>\n",
       "      <td>279.0</td>\n",
       "    </tr>\n",
       "    <tr>\n",
       "      <th>619734</th>\n",
       "      <td>999</td>\n",
       "      <td>184578</td>\n",
       "      <td>Sunday</td>\n",
       "      <td>NaN</td>\n",
       "      <td>1</td>\n",
       "      <td>FINANCIAL SERVICES</td>\n",
       "      <td>279.0</td>\n",
       "    </tr>\n",
       "    <tr>\n",
       "      <th>622669</th>\n",
       "      <td>999</td>\n",
       "      <td>185336</td>\n",
       "      <td>Sunday</td>\n",
       "      <td>NaN</td>\n",
       "      <td>-1</td>\n",
       "      <td>PHARMACY RX</td>\n",
       "      <td>279.0</td>\n",
       "    </tr>\n",
       "    <tr>\n",
       "      <th>623440</th>\n",
       "      <td>999</td>\n",
       "      <td>185588</td>\n",
       "      <td>Sunday</td>\n",
       "      <td>NaN</td>\n",
       "      <td>-1</td>\n",
       "      <td>FINANCIAL SERVICES</td>\n",
       "      <td>279.0</td>\n",
       "    </tr>\n",
       "    <tr>\n",
       "      <th>625787</th>\n",
       "      <td>999</td>\n",
       "      <td>186219</td>\n",
       "      <td>Sunday</td>\n",
       "      <td>NaN</td>\n",
       "      <td>-1</td>\n",
       "      <td>PHARMACY RX</td>\n",
       "      <td>279.0</td>\n",
       "    </tr>\n",
       "    <tr>\n",
       "      <th>627629</th>\n",
       "      <td>999</td>\n",
       "      <td>186659</td>\n",
       "      <td>Sunday</td>\n",
       "      <td>NaN</td>\n",
       "      <td>-1</td>\n",
       "      <td>FINANCIAL SERVICES</td>\n",
       "      <td>279.0</td>\n",
       "    </tr>\n",
       "    <tr>\n",
       "      <th>627630</th>\n",
       "      <td>999</td>\n",
       "      <td>186659</td>\n",
       "      <td>Sunday</td>\n",
       "      <td>NaN</td>\n",
       "      <td>-1</td>\n",
       "      <td>FINANCIAL SERVICES</td>\n",
       "      <td>279.0</td>\n",
       "    </tr>\n",
       "    <tr>\n",
       "      <th>631875</th>\n",
       "      <td>999</td>\n",
       "      <td>187677</td>\n",
       "      <td>Sunday</td>\n",
       "      <td>NaN</td>\n",
       "      <td>-1</td>\n",
       "      <td>FINANCIAL SERVICES</td>\n",
       "      <td>279.0</td>\n",
       "    </tr>\n",
       "    <tr>\n",
       "      <th>634700</th>\n",
       "      <td>999</td>\n",
       "      <td>188355</td>\n",
       "      <td>Sunday</td>\n",
       "      <td>NaN</td>\n",
       "      <td>-1</td>\n",
       "      <td>FINANCIAL SERVICES</td>\n",
       "      <td>279.0</td>\n",
       "    </tr>\n",
       "    <tr>\n",
       "      <th>636444</th>\n",
       "      <td>999</td>\n",
       "      <td>188760</td>\n",
       "      <td>Sunday</td>\n",
       "      <td>NaN</td>\n",
       "      <td>-1</td>\n",
       "      <td>FINANCIAL SERVICES</td>\n",
       "      <td>279.0</td>\n",
       "    </tr>\n",
       "  </tbody>\n",
       "</table>\n",
       "<p>280 rows × 7 columns</p>\n",
       "</div>"
      ],
      "text/plain": [
       "        TripType  VisitNumber   Weekday  Upc  ScanCount DepartmentDescription  \\\n",
       "959          999          409    Friday  NaN         -1    FINANCIAL SERVICES   \n",
       "1134         999          484    Friday  NaN         -2    FINANCIAL SERVICES   \n",
       "1135         999          484    Friday  NaN         -2    FINANCIAL SERVICES   \n",
       "6285         999         2245    Friday  NaN         -1    FINANCIAL SERVICES   \n",
       "8524         999         3004    Friday  NaN          1    FINANCIAL SERVICES   \n",
       "9094         999         3149    Friday  NaN          1    FINANCIAL SERVICES   \n",
       "14917        999         4884    Friday  NaN          1    FINANCIAL SERVICES   \n",
       "21546        999         6836  Saturday  NaN         -1    FINANCIAL SERVICES   \n",
       "21693        999         6885  Saturday  NaN         -1    FINANCIAL SERVICES   \n",
       "28029        999         8681  Saturday  NaN         -1    FINANCIAL SERVICES   \n",
       "29485        999         9081  Saturday  NaN         -6    FINANCIAL SERVICES   \n",
       "30685        999         9378  Saturday  NaN         -1    FINANCIAL SERVICES   \n",
       "30686        999         9378  Saturday  NaN          1    FINANCIAL SERVICES   \n",
       "32085        999         9758  Saturday  NaN         -1    FINANCIAL SERVICES   \n",
       "38076        999        11325  Saturday  NaN          1    FINANCIAL SERVICES   \n",
       "44211        999        13094    Sunday  NaN          1    FINANCIAL SERVICES   \n",
       "48213        999        14110    Sunday  NaN         -1    FINANCIAL SERVICES   \n",
       "50350        999        14675    Sunday  NaN          1    FINANCIAL SERVICES   \n",
       "50351        999        14675    Sunday  NaN         -1    FINANCIAL SERVICES   \n",
       "50392        999        14678    Sunday  NaN          1    FINANCIAL SERVICES   \n",
       "50393        999        14678    Sunday  NaN         -1    FINANCIAL SERVICES   \n",
       "50413        999        14684    Sunday  NaN          1    FINANCIAL SERVICES   \n",
       "54370        999        15664    Sunday  NaN         -1    FINANCIAL SERVICES   \n",
       "57060        999        16384    Sunday  NaN         -1    FINANCIAL SERVICES   \n",
       "58696        999        16747    Sunday  NaN          1    FINANCIAL SERVICES   \n",
       "64604        999        18103    Sunday  NaN          1    FINANCIAL SERVICES   \n",
       "68877        999        19296    Sunday  NaN         -1    FINANCIAL SERVICES   \n",
       "68878        999        19296    Sunday  NaN         -1    FINANCIAL SERVICES   \n",
       "69154        999        19362    Sunday  NaN          1    FINANCIAL SERVICES   \n",
       "71482        999        20131    Monday  NaN          1    FINANCIAL SERVICES   \n",
       "...          ...          ...       ...  ...        ...                   ...   \n",
       "575910       999       171625  Thursday  NaN          1    FINANCIAL SERVICES   \n",
       "575911       999       171625  Thursday  NaN          1    FINANCIAL SERVICES   \n",
       "578909       999       172662    Friday  NaN          1    FINANCIAL SERVICES   \n",
       "578910       999       172662    Friday  NaN         -1    FINANCIAL SERVICES   \n",
       "580797       999       173321    Friday  NaN         -1    FINANCIAL SERVICES   \n",
       "583947       999       174330    Friday  NaN         -1    FINANCIAL SERVICES   \n",
       "584747       999       174626    Friday  NaN         -1    FINANCIAL SERVICES   \n",
       "584748       999       174626    Friday  NaN         -1    FINANCIAL SERVICES   \n",
       "587394       999       175463    Friday  NaN          1           PHARMACY RX   \n",
       "587395       999       175463    Friday  NaN         -1           PHARMACY RX   \n",
       "599195       999       178825  Saturday  NaN         -2    FINANCIAL SERVICES   \n",
       "600332       999       179175  Saturday  NaN          1    FINANCIAL SERVICES   \n",
       "601551       999       179541  Saturday  NaN          1           PHARMACY RX   \n",
       "601552       999       179541  Saturday  NaN          1           PHARMACY RX   \n",
       "601553       999       179541  Saturday  NaN         -1           PHARMACY RX   \n",
       "601554       999       179541  Saturday  NaN         -1           PHARMACY RX   \n",
       "607065       999       181024  Saturday  NaN          1           PHARMACY RX   \n",
       "607304       999       181062  Saturday  NaN         -1    FINANCIAL SERVICES   \n",
       "608156       999       181334  Saturday  NaN          1    FINANCIAL SERVICES   \n",
       "613606       999       182836  Saturday  NaN         -1    FINANCIAL SERVICES   \n",
       "615656       999       183367  Saturday  NaN         -1    FINANCIAL SERVICES   \n",
       "619734       999       184578    Sunday  NaN          1    FINANCIAL SERVICES   \n",
       "622669       999       185336    Sunday  NaN         -1           PHARMACY RX   \n",
       "623440       999       185588    Sunday  NaN         -1    FINANCIAL SERVICES   \n",
       "625787       999       186219    Sunday  NaN         -1           PHARMACY RX   \n",
       "627629       999       186659    Sunday  NaN         -1    FINANCIAL SERVICES   \n",
       "627630       999       186659    Sunday  NaN         -1    FINANCIAL SERVICES   \n",
       "631875       999       187677    Sunday  NaN         -1    FINANCIAL SERVICES   \n",
       "634700       999       188355    Sunday  NaN         -1    FINANCIAL SERVICES   \n",
       "636444       999       188760    Sunday  NaN         -1    FINANCIAL SERVICES   \n",
       "\n",
       "        FinelineNumber  \n",
       "959              279.0  \n",
       "1134             279.0  \n",
       "1135             279.0  \n",
       "6285             279.0  \n",
       "8524             279.0  \n",
       "9094             279.0  \n",
       "14917            279.0  \n",
       "21546            279.0  \n",
       "21693            279.0  \n",
       "28029            279.0  \n",
       "29485            279.0  \n",
       "30685            279.0  \n",
       "30686            279.0  \n",
       "32085            279.0  \n",
       "38076            279.0  \n",
       "44211            279.0  \n",
       "48213            279.0  \n",
       "50350            279.0  \n",
       "50351            279.0  \n",
       "50392            279.0  \n",
       "50393            279.0  \n",
       "50413            279.0  \n",
       "54370            279.0  \n",
       "57060            279.0  \n",
       "58696            279.0  \n",
       "64604            279.0  \n",
       "68877            279.0  \n",
       "68878            279.0  \n",
       "69154            279.0  \n",
       "71482            279.0  \n",
       "...                ...  \n",
       "575910           279.0  \n",
       "575911           279.0  \n",
       "578909           279.0  \n",
       "578910           279.0  \n",
       "580797           279.0  \n",
       "583947           279.0  \n",
       "584747           279.0  \n",
       "584748           279.0  \n",
       "587394           279.0  \n",
       "587395           279.0  \n",
       "599195           279.0  \n",
       "600332           279.0  \n",
       "601551           279.0  \n",
       "601552           279.0  \n",
       "601553           279.0  \n",
       "601554           279.0  \n",
       "607065           279.0  \n",
       "607304           279.0  \n",
       "608156           279.0  \n",
       "613606           279.0  \n",
       "615656           279.0  \n",
       "619734           279.0  \n",
       "622669           279.0  \n",
       "623440           279.0  \n",
       "625787           279.0  \n",
       "627629           279.0  \n",
       "627630           279.0  \n",
       "631875           279.0  \n",
       "634700           279.0  \n",
       "636444           279.0  \n",
       "\n",
       "[280 rows x 7 columns]"
      ]
     },
     "execution_count": 987,
     "metadata": {},
     "output_type": "execute_result"
    }
   ],
   "source": [
    "train[(train['Upc'].isna())\n",
    "     &(train['TripType']==999)]"
   ]
  },
  {
   "cell_type": "code",
   "execution_count": null,
   "metadata": {},
   "outputs": [],
   "source": []
  },
  {
   "cell_type": "code",
   "execution_count": null,
   "metadata": {},
   "outputs": [],
   "source": []
  },
  {
   "cell_type": "code",
   "execution_count": null,
   "metadata": {},
   "outputs": [],
   "source": []
  },
  {
   "cell_type": "code",
   "execution_count": 981,
   "metadata": {},
   "outputs": [
    {
     "data": {
      "text/plain": [
       "4011.0"
      ]
     },
     "execution_count": 981,
     "metadata": {},
     "output_type": "execute_result"
    }
   ],
   "source": [
    "train[train[\"TripType\"] == 5][\"Upc\"].value_counts().index[0]"
   ]
  },
  {
   "cell_type": "code",
   "execution_count": 541,
   "metadata": {},
   "outputs": [],
   "source": [
    "# 따라서 각 TripType의 최빈 Upc 값으로 imputation 함.\n",
    "train.loc[(train[\"TripType\"] == 5)&(train[\"Upc\"].isna()), \"Upc\"] \\\n",
    "= train[train[\"TripType\"] == 5][\"Upc\"].value_counts().index[0]\n",
    "train.loc[(train[\"TripType\"] == 999)&(train[\"Upc\"].isna()), \"Upc\"] \\\n",
    "= train[train[\"TripType\"] == 999][\"Upc\"].value_counts().index[0]"
   ]
  },
  {
   "cell_type": "code",
   "execution_count": 542,
   "metadata": {},
   "outputs": [
    {
     "data": {
      "text/plain": [
       "4011.0"
      ]
     },
     "execution_count": 542,
     "metadata": {},
     "output_type": "execute_result"
    }
   ],
   "source": [
    "train[train[\"TripType\"] == 5][\"Upc\"].value_counts().index[0]"
   ]
  },
  {
   "cell_type": "code",
   "execution_count": 543,
   "metadata": {},
   "outputs": [
    {
     "data": {
      "text/plain": [
       "60538812238.0"
      ]
     },
     "execution_count": 543,
     "metadata": {},
     "output_type": "execute_result"
    }
   ],
   "source": [
    "train[train[\"TripType\"] == 999][\"Upc\"].value_counts().index[0]"
   ]
  },
  {
   "cell_type": "code",
   "execution_count": 544,
   "metadata": {},
   "outputs": [
    {
     "data": {
      "text/plain": [
       "0"
      ]
     },
     "execution_count": 544,
     "metadata": {},
     "output_type": "execute_result"
    }
   ],
   "source": [
    "# after imputation step2\n",
    "train['Upc'].isna().sum()"
   ]
  },
  {
   "cell_type": "markdown",
   "metadata": {},
   "source": [
    "### 3-2. Test - Upc"
   ]
  },
  {
   "cell_type": "markdown",
   "metadata": {},
   "source": [
    "- VisitNumber에 따른 Upc의 최빈값으로 Upc의 NaN 값을 채움"
   ]
  },
  {
   "cell_type": "code",
   "execution_count": 964,
   "metadata": {},
   "outputs": [
    {
     "data": {
      "text/plain": [
       "3986"
      ]
     },
     "execution_count": 964,
     "metadata": {},
     "output_type": "execute_result"
    }
   ],
   "source": [
    "# before imputation\n",
    "test['Upc'].isna().sum()"
   ]
  },
  {
   "cell_type": "code",
   "execution_count": 965,
   "metadata": {},
   "outputs": [
    {
     "name": "stderr",
     "output_type": "stream",
     "text": [
      "100%|██████████| 2706/2706 [00:17<00:00, 154.66it/s]\n"
     ]
    }
   ],
   "source": [
    "# Upc이 NaN 값인 데이터의 VisitNumber 리스트\n",
    "Upc_null_VM = test[test['Upc'].isna()]['VisitNumber'].unique()\n",
    "# VisitNumber에 따른 Upc의 최빈값으로 Upc의 NaN 값을 채움\n",
    "for idx in tqdm(Upc_null_VM):\n",
    "    if len(test[test[\"VisitNumber\"] == idx][\"Upc\"].value_counts().index) != 0:\n",
    "        test.loc[(test[\"VisitNumber\"] == idx)&(test[\"Upc\"].isna()), \"Upc\"] \\\n",
    "        = test[test[\"VisitNumber\"] == idx][\"Upc\"].value_counts().index[0]"
   ]
  },
  {
   "cell_type": "code",
   "execution_count": 966,
   "metadata": {},
   "outputs": [
    {
     "data": {
      "text/plain": [
       "2257"
      ]
     },
     "execution_count": 966,
     "metadata": {},
     "output_type": "execute_result"
    }
   ],
   "source": [
    "# after imputation step1\n",
    "test['Upc'].isna().sum()"
   ]
  },
  {
   "cell_type": "code",
   "execution_count": 967,
   "metadata": {},
   "outputs": [],
   "source": [
    "# 아직 처리하지 못한 총 2257개 데이터는 VisitNumber 따른 Upc 값이 모두 비어있는 경우인데\n",
    "# 이 경우 Train데이터에서 TripType이 5 혹은 999이어서 그에 맞춰 Upc 최빈값을 imputation할 수 있었지만\n",
    "# Test데이터는 TripType을 기준으로 imputation 할 수 없고 train데이터와 VisitNumber와 도 겹치지 않기 때문에\n",
    "# Train데이터와 Test데이터의 Weekday, ScanCount, DepartmentDescription을 기준으로 Upc를 imputation 함."
   ]
  },
  {
   "cell_type": "code",
   "execution_count": 968,
   "metadata": {},
   "outputs": [
    {
     "data": {
      "text/plain": [
       "[]"
      ]
     },
     "execution_count": 968,
     "metadata": {},
     "output_type": "execute_result"
    }
   ],
   "source": [
    "# train데이터와 test데이터의 imputation step1 이후의 VisitNumber가 겹치지 않음\n",
    "test_after_step1_Upc_null_VM_list = test[test['Upc'].isna()]['VisitNumber'].value_counts().index\n",
    "[i for i in test_after_step1_Upc_null_VM_list if i in train_after_step1_Upc_null_VM_list]"
   ]
  },
  {
   "cell_type": "code",
   "execution_count": null,
   "metadata": {},
   "outputs": [],
   "source": []
  },
  {
   "cell_type": "code",
   "execution_count": null,
   "metadata": {},
   "outputs": [],
   "source": []
  },
  {
   "cell_type": "code",
   "execution_count": null,
   "metadata": {},
   "outputs": [],
   "source": []
  },
  {
   "cell_type": "code",
   "execution_count": null,
   "metadata": {},
   "outputs": [],
   "source": []
  },
  {
   "cell_type": "code",
   "execution_count": null,
   "metadata": {},
   "outputs": [],
   "source": []
  },
  {
   "cell_type": "code",
   "execution_count": null,
   "metadata": {},
   "outputs": [],
   "source": []
  },
  {
   "cell_type": "code",
   "execution_count": null,
   "metadata": {},
   "outputs": [],
   "source": []
  },
  {
   "cell_type": "code",
   "execution_count": 969,
   "metadata": {},
   "outputs": [
    {
     "data": {
      "text/plain": [
       "2257"
      ]
     },
     "execution_count": 969,
     "metadata": {},
     "output_type": "execute_result"
    }
   ],
   "source": [
    "# after imputation step2\n",
    "test['Upc'].isna().sum()"
   ]
  },
  {
   "cell_type": "markdown",
   "metadata": {},
   "source": [
    "## Check Train 'NaN' data after Imputation"
   ]
  },
  {
   "cell_type": "code",
   "execution_count": 970,
   "metadata": {},
   "outputs": [
    {
     "data": {
      "text/html": [
       "<div>\n",
       "<style scoped>\n",
       "    .dataframe tbody tr th:only-of-type {\n",
       "        vertical-align: middle;\n",
       "    }\n",
       "\n",
       "    .dataframe tbody tr th {\n",
       "        vertical-align: top;\n",
       "    }\n",
       "\n",
       "    .dataframe thead th {\n",
       "        text-align: right;\n",
       "    }\n",
       "</style>\n",
       "<table border=\"1\" class=\"dataframe\">\n",
       "  <thead>\n",
       "    <tr style=\"text-align: right;\">\n",
       "      <th></th>\n",
       "      <th>count</th>\n",
       "      <th>unique</th>\n",
       "      <th>top</th>\n",
       "      <th>freq</th>\n",
       "      <th>mean</th>\n",
       "      <th>std</th>\n",
       "      <th>min</th>\n",
       "      <th>25%</th>\n",
       "      <th>50%</th>\n",
       "      <th>75%</th>\n",
       "      <th>max</th>\n",
       "      <th>MV_count</th>\n",
       "      <th>MV_ratio</th>\n",
       "    </tr>\n",
       "  </thead>\n",
       "  <tbody>\n",
       "    <tr>\n",
       "      <th>TripType</th>\n",
       "      <td>647054</td>\n",
       "      <td>NaN</td>\n",
       "      <td>NaN</td>\n",
       "      <td>NaN</td>\n",
       "      <td>58.5845</td>\n",
       "      <td>157.636</td>\n",
       "      <td>3</td>\n",
       "      <td>27</td>\n",
       "      <td>39</td>\n",
       "      <td>40</td>\n",
       "      <td>999</td>\n",
       "      <td>0</td>\n",
       "      <td>0.000000</td>\n",
       "    </tr>\n",
       "    <tr>\n",
       "      <th>VisitNumber</th>\n",
       "      <td>647054</td>\n",
       "      <td>NaN</td>\n",
       "      <td>NaN</td>\n",
       "      <td>NaN</td>\n",
       "      <td>96167.6</td>\n",
       "      <td>55545.5</td>\n",
       "      <td>5</td>\n",
       "      <td>49268</td>\n",
       "      <td>97074</td>\n",
       "      <td>144316</td>\n",
       "      <td>191347</td>\n",
       "      <td>0</td>\n",
       "      <td>0.000000</td>\n",
       "    </tr>\n",
       "    <tr>\n",
       "      <th>Weekday</th>\n",
       "      <td>647054</td>\n",
       "      <td>7</td>\n",
       "      <td>Sunday</td>\n",
       "      <td>133975</td>\n",
       "      <td>NaN</td>\n",
       "      <td>NaN</td>\n",
       "      <td>NaN</td>\n",
       "      <td>NaN</td>\n",
       "      <td>NaN</td>\n",
       "      <td>NaN</td>\n",
       "      <td>NaN</td>\n",
       "      <td>0</td>\n",
       "      <td>0.000000</td>\n",
       "    </tr>\n",
       "    <tr>\n",
       "      <th>Upc</th>\n",
       "      <td>642925</td>\n",
       "      <td>NaN</td>\n",
       "      <td>NaN</td>\n",
       "      <td>NaN</td>\n",
       "      <td>3.0607e+10</td>\n",
       "      <td>9.12013e+10</td>\n",
       "      <td>834</td>\n",
       "      <td>3.4e+09</td>\n",
       "      <td>7.0501e+09</td>\n",
       "      <td>3.00653e+10</td>\n",
       "      <td>9.78971e+11</td>\n",
       "      <td>4129</td>\n",
       "      <td>0.006381</td>\n",
       "    </tr>\n",
       "    <tr>\n",
       "      <th>ScanCount</th>\n",
       "      <td>647054</td>\n",
       "      <td>NaN</td>\n",
       "      <td>NaN</td>\n",
       "      <td>NaN</td>\n",
       "      <td>1.10888</td>\n",
       "      <td>0.700776</td>\n",
       "      <td>-12</td>\n",
       "      <td>1</td>\n",
       "      <td>1</td>\n",
       "      <td>1</td>\n",
       "      <td>71</td>\n",
       "      <td>0</td>\n",
       "      <td>0.000000</td>\n",
       "    </tr>\n",
       "    <tr>\n",
       "      <th>DepartmentDescription</th>\n",
       "      <td>647054</td>\n",
       "      <td>67</td>\n",
       "      <td>GROCERY DRY GOODS</td>\n",
       "      <td>70530</td>\n",
       "      <td>NaN</td>\n",
       "      <td>NaN</td>\n",
       "      <td>NaN</td>\n",
       "      <td>NaN</td>\n",
       "      <td>NaN</td>\n",
       "      <td>NaN</td>\n",
       "      <td>NaN</td>\n",
       "      <td>0</td>\n",
       "      <td>0.000000</td>\n",
       "    </tr>\n",
       "    <tr>\n",
       "      <th>FinelineNumber</th>\n",
       "      <td>647054</td>\n",
       "      <td>NaN</td>\n",
       "      <td>NaN</td>\n",
       "      <td>NaN</td>\n",
       "      <td>3731</td>\n",
       "      <td>2778.86</td>\n",
       "      <td>0</td>\n",
       "      <td>1404</td>\n",
       "      <td>3353</td>\n",
       "      <td>5501</td>\n",
       "      <td>9998</td>\n",
       "      <td>0</td>\n",
       "      <td>0.000000</td>\n",
       "    </tr>\n",
       "  </tbody>\n",
       "</table>\n",
       "</div>"
      ],
      "text/plain": [
       "                        count unique                top    freq        mean  \\\n",
       "TripType               647054    NaN                NaN     NaN     58.5845   \n",
       "VisitNumber            647054    NaN                NaN     NaN     96167.6   \n",
       "Weekday                647054      7             Sunday  133975         NaN   \n",
       "Upc                    642925    NaN                NaN     NaN  3.0607e+10   \n",
       "ScanCount              647054    NaN                NaN     NaN     1.10888   \n",
       "DepartmentDescription  647054     67  GROCERY DRY GOODS   70530         NaN   \n",
       "FinelineNumber         647054    NaN                NaN     NaN        3731   \n",
       "\n",
       "                               std  min      25%         50%          75%  \\\n",
       "TripType                   157.636    3       27          39           40   \n",
       "VisitNumber                55545.5    5    49268       97074       144316   \n",
       "Weekday                        NaN  NaN      NaN         NaN          NaN   \n",
       "Upc                    9.12013e+10  834  3.4e+09  7.0501e+09  3.00653e+10   \n",
       "ScanCount                 0.700776  -12        1           1            1   \n",
       "DepartmentDescription          NaN  NaN      NaN         NaN          NaN   \n",
       "FinelineNumber             2778.86    0     1404        3353         5501   \n",
       "\n",
       "                               max  MV_count  MV_ratio  \n",
       "TripType                       999         0  0.000000  \n",
       "VisitNumber                 191347         0  0.000000  \n",
       "Weekday                        NaN         0  0.000000  \n",
       "Upc                    9.78971e+11      4129  0.006381  \n",
       "ScanCount                       71         0  0.000000  \n",
       "DepartmentDescription          NaN         0  0.000000  \n",
       "FinelineNumber                9998         0  0.000000  "
      ]
     },
     "execution_count": 970,
     "metadata": {},
     "output_type": "execute_result"
    }
   ],
   "source": [
    "desc = train.describe(include='all').transpose()\n",
    "desc['MV_count'] = train.isnull().sum()\n",
    "desc['MV_ratio'] = desc['MV_count']/train.shape[0]\n",
    "desc"
   ]
  },
  {
   "cell_type": "markdown",
   "metadata": {},
   "source": [
    "## Check Test 'NaN' data after Imputation"
   ]
  },
  {
   "cell_type": "code",
   "execution_count": 268,
   "metadata": {},
   "outputs": [
    {
     "data": {
      "text/html": [
       "<div>\n",
       "<style scoped>\n",
       "    .dataframe tbody tr th:only-of-type {\n",
       "        vertical-align: middle;\n",
       "    }\n",
       "\n",
       "    .dataframe tbody tr th {\n",
       "        vertical-align: top;\n",
       "    }\n",
       "\n",
       "    .dataframe thead th {\n",
       "        text-align: right;\n",
       "    }\n",
       "</style>\n",
       "<table border=\"1\" class=\"dataframe\">\n",
       "  <thead>\n",
       "    <tr style=\"text-align: right;\">\n",
       "      <th></th>\n",
       "      <th>count</th>\n",
       "      <th>unique</th>\n",
       "      <th>top</th>\n",
       "      <th>freq</th>\n",
       "      <th>mean</th>\n",
       "      <th>std</th>\n",
       "      <th>min</th>\n",
       "      <th>25%</th>\n",
       "      <th>50%</th>\n",
       "      <th>75%</th>\n",
       "      <th>max</th>\n",
       "      <th>MV_count</th>\n",
       "      <th>MV_ratio</th>\n",
       "    </tr>\n",
       "  </thead>\n",
       "  <tbody>\n",
       "    <tr>\n",
       "      <th>TripType</th>\n",
       "      <td>647054</td>\n",
       "      <td>NaN</td>\n",
       "      <td>NaN</td>\n",
       "      <td>NaN</td>\n",
       "      <td>58.5845</td>\n",
       "      <td>157.636</td>\n",
       "      <td>3</td>\n",
       "      <td>27</td>\n",
       "      <td>39</td>\n",
       "      <td>40</td>\n",
       "      <td>999</td>\n",
       "      <td>0</td>\n",
       "      <td>0.0</td>\n",
       "    </tr>\n",
       "    <tr>\n",
       "      <th>VisitNumber</th>\n",
       "      <td>647054</td>\n",
       "      <td>NaN</td>\n",
       "      <td>NaN</td>\n",
       "      <td>NaN</td>\n",
       "      <td>96167.6</td>\n",
       "      <td>55545.5</td>\n",
       "      <td>5</td>\n",
       "      <td>49268</td>\n",
       "      <td>97074</td>\n",
       "      <td>144316</td>\n",
       "      <td>191347</td>\n",
       "      <td>0</td>\n",
       "      <td>0.0</td>\n",
       "    </tr>\n",
       "    <tr>\n",
       "      <th>Weekday</th>\n",
       "      <td>647054</td>\n",
       "      <td>7</td>\n",
       "      <td>Sunday</td>\n",
       "      <td>133975</td>\n",
       "      <td>NaN</td>\n",
       "      <td>NaN</td>\n",
       "      <td>NaN</td>\n",
       "      <td>NaN</td>\n",
       "      <td>NaN</td>\n",
       "      <td>NaN</td>\n",
       "      <td>NaN</td>\n",
       "      <td>0</td>\n",
       "      <td>0.0</td>\n",
       "    </tr>\n",
       "    <tr>\n",
       "      <th>Upc</th>\n",
       "      <td>647054</td>\n",
       "      <td>NaN</td>\n",
       "      <td>NaN</td>\n",
       "      <td>NaN</td>\n",
       "      <td>3.05455e+10</td>\n",
       "      <td>9.10702e+10</td>\n",
       "      <td>834</td>\n",
       "      <td>3.4e+09</td>\n",
       "      <td>7.04705e+09</td>\n",
       "      <td>3.0065e+10</td>\n",
       "      <td>9.78971e+11</td>\n",
       "      <td>0</td>\n",
       "      <td>0.0</td>\n",
       "    </tr>\n",
       "    <tr>\n",
       "      <th>ScanCount</th>\n",
       "      <td>647054</td>\n",
       "      <td>NaN</td>\n",
       "      <td>NaN</td>\n",
       "      <td>NaN</td>\n",
       "      <td>1.10888</td>\n",
       "      <td>0.700776</td>\n",
       "      <td>-12</td>\n",
       "      <td>1</td>\n",
       "      <td>1</td>\n",
       "      <td>1</td>\n",
       "      <td>71</td>\n",
       "      <td>0</td>\n",
       "      <td>0.0</td>\n",
       "    </tr>\n",
       "    <tr>\n",
       "      <th>DepartmentDescription</th>\n",
       "      <td>647054</td>\n",
       "      <td>67</td>\n",
       "      <td>GROCERY DRY GOODS</td>\n",
       "      <td>70530</td>\n",
       "      <td>NaN</td>\n",
       "      <td>NaN</td>\n",
       "      <td>NaN</td>\n",
       "      <td>NaN</td>\n",
       "      <td>NaN</td>\n",
       "      <td>NaN</td>\n",
       "      <td>NaN</td>\n",
       "      <td>0</td>\n",
       "      <td>0.0</td>\n",
       "    </tr>\n",
       "    <tr>\n",
       "      <th>FinelineNumber</th>\n",
       "      <td>647054</td>\n",
       "      <td>NaN</td>\n",
       "      <td>NaN</td>\n",
       "      <td>NaN</td>\n",
       "      <td>3731</td>\n",
       "      <td>2778.86</td>\n",
       "      <td>0</td>\n",
       "      <td>1404</td>\n",
       "      <td>3353</td>\n",
       "      <td>5501</td>\n",
       "      <td>9998</td>\n",
       "      <td>0</td>\n",
       "      <td>0.0</td>\n",
       "    </tr>\n",
       "  </tbody>\n",
       "</table>\n",
       "</div>"
      ],
      "text/plain": [
       "                        count unique                top    freq         mean  \\\n",
       "TripType               647054    NaN                NaN     NaN      58.5845   \n",
       "VisitNumber            647054    NaN                NaN     NaN      96167.6   \n",
       "Weekday                647054      7             Sunday  133975          NaN   \n",
       "Upc                    647054    NaN                NaN     NaN  3.05455e+10   \n",
       "ScanCount              647054    NaN                NaN     NaN      1.10888   \n",
       "DepartmentDescription  647054     67  GROCERY DRY GOODS   70530          NaN   \n",
       "FinelineNumber         647054    NaN                NaN     NaN         3731   \n",
       "\n",
       "                               std  min      25%          50%         75%  \\\n",
       "TripType                   157.636    3       27           39          40   \n",
       "VisitNumber                55545.5    5    49268        97074      144316   \n",
       "Weekday                        NaN  NaN      NaN          NaN         NaN   \n",
       "Upc                    9.10702e+10  834  3.4e+09  7.04705e+09  3.0065e+10   \n",
       "ScanCount                 0.700776  -12        1            1           1   \n",
       "DepartmentDescription          NaN  NaN      NaN          NaN         NaN   \n",
       "FinelineNumber             2778.86    0     1404         3353        5501   \n",
       "\n",
       "                               max  MV_count  MV_ratio  \n",
       "TripType                       999         0       0.0  \n",
       "VisitNumber                 191347         0       0.0  \n",
       "Weekday                        NaN         0       0.0  \n",
       "Upc                    9.78971e+11         0       0.0  \n",
       "ScanCount                       71         0       0.0  \n",
       "DepartmentDescription          NaN         0       0.0  \n",
       "FinelineNumber                9998         0       0.0  "
      ]
     },
     "execution_count": 268,
     "metadata": {},
     "output_type": "execute_result"
    }
   ],
   "source": [
    "desc = train.describe(include='all').transpose()\n",
    "desc['MV_count'] = train.isnull().sum()\n",
    "desc['MV_ratio'] = desc['MV_count']/train.shape[0]\n",
    "desc"
   ]
  },
  {
   "cell_type": "code",
   "execution_count": null,
   "metadata": {},
   "outputs": [],
   "source": []
  },
  {
   "cell_type": "markdown",
   "metadata": {},
   "source": [
    "## Preprocessing Step2 -  Encoding"
   ]
  },
  {
   "cell_type": "markdown",
   "metadata": {},
   "source": [
    "### Weekday"
   ]
  },
  {
   "cell_type": "code",
   "execution_count": 12,
   "metadata": {
    "scrolled": true
   },
   "outputs": [
    {
     "data": {
      "text/plain": [
       "Sunday       133975\n",
       "Saturday     122096\n",
       "Friday        96247\n",
       "Monday        83130\n",
       "Tuesday       72529\n",
       "Wednesday     71115\n",
       "Thursday      67962\n",
       "Name: Weekday, dtype: int64"
      ]
     },
     "execution_count": 12,
     "metadata": {},
     "output_type": "execute_result"
    }
   ],
   "source": [
    "# before\n",
    "train['Weekday'].value_counts()"
   ]
  },
  {
   "cell_type": "code",
   "execution_count": 16,
   "metadata": {},
   "outputs": [
    {
     "data": {
      "text/plain": [
       "1    133975\n",
       "2    122096\n",
       "3     96247\n",
       "4     83130\n",
       "5     72529\n",
       "6     71115\n",
       "7     67962\n",
       "Name: Weekday, dtype: int64"
      ]
     },
     "execution_count": 16,
     "metadata": {},
     "output_type": "execute_result"
    }
   ],
   "source": [
    "# after\n",
    "def weekday_preprocessing(dataframe):\n",
    "    weekday_dict={\n",
    "        'Sunday':1,\n",
    "        'Saturday':2,\n",
    "        'Friday':3,\n",
    "        'Monday':4,\n",
    "        'Tuesday':5,\n",
    "        'Wednesday':6,\n",
    "        'Thursday':7,\n",
    "    }\n",
    "    return dataframe['Weekday'].map(weekday_dict)\n",
    "\n",
    "train['Weekday'] = weekday_preprocessing(train)\n",
    "train['Weekday'].value_counts()"
   ]
  },
  {
   "cell_type": "code",
   "execution_count": 20,
   "metadata": {},
   "outputs": [
    {
     "data": {
      "text/html": [
       "<div>\n",
       "<style scoped>\n",
       "    .dataframe tbody tr th:only-of-type {\n",
       "        vertical-align: middle;\n",
       "    }\n",
       "\n",
       "    .dataframe tbody tr th {\n",
       "        vertical-align: top;\n",
       "    }\n",
       "\n",
       "    .dataframe thead th {\n",
       "        text-align: right;\n",
       "    }\n",
       "</style>\n",
       "<table border=\"1\" class=\"dataframe\">\n",
       "  <thead>\n",
       "    <tr style=\"text-align: right;\">\n",
       "      <th></th>\n",
       "      <th>TripType</th>\n",
       "      <th>VisitNumber</th>\n",
       "      <th>Weekday</th>\n",
       "      <th>Upc</th>\n",
       "      <th>ScanCount</th>\n",
       "      <th>DepartmentDescription</th>\n",
       "      <th>FinelineNumber</th>\n",
       "    </tr>\n",
       "  </thead>\n",
       "  <tbody>\n",
       "    <tr>\n",
       "      <th>647049</th>\n",
       "      <td>39</td>\n",
       "      <td>191346</td>\n",
       "      <td>1</td>\n",
       "      <td>3.239000e+10</td>\n",
       "      <td>1</td>\n",
       "      <td>PHARMACY OTC</td>\n",
       "      <td>1118.0</td>\n",
       "    </tr>\n",
       "    <tr>\n",
       "      <th>647050</th>\n",
       "      <td>39</td>\n",
       "      <td>191346</td>\n",
       "      <td>1</td>\n",
       "      <td>7.874205e+09</td>\n",
       "      <td>1</td>\n",
       "      <td>FROZEN FOODS</td>\n",
       "      <td>1752.0</td>\n",
       "    </tr>\n",
       "    <tr>\n",
       "      <th>647051</th>\n",
       "      <td>39</td>\n",
       "      <td>191346</td>\n",
       "      <td>1</td>\n",
       "      <td>4.072000e+03</td>\n",
       "      <td>1</td>\n",
       "      <td>PRODUCE</td>\n",
       "      <td>4170.0</td>\n",
       "    </tr>\n",
       "    <tr>\n",
       "      <th>647052</th>\n",
       "      <td>8</td>\n",
       "      <td>191347</td>\n",
       "      <td>1</td>\n",
       "      <td>4.190008e+09</td>\n",
       "      <td>1</td>\n",
       "      <td>DAIRY</td>\n",
       "      <td>1512.0</td>\n",
       "    </tr>\n",
       "    <tr>\n",
       "      <th>647053</th>\n",
       "      <td>8</td>\n",
       "      <td>191347</td>\n",
       "      <td>1</td>\n",
       "      <td>3.800060e+09</td>\n",
       "      <td>1</td>\n",
       "      <td>GROCERY DRY GOODS</td>\n",
       "      <td>3600.0</td>\n",
       "    </tr>\n",
       "  </tbody>\n",
       "</table>\n",
       "</div>"
      ],
      "text/plain": [
       "        TripType  VisitNumber  Weekday           Upc  ScanCount  \\\n",
       "647049        39       191346        1  3.239000e+10          1   \n",
       "647050        39       191346        1  7.874205e+09          1   \n",
       "647051        39       191346        1  4.072000e+03          1   \n",
       "647052         8       191347        1  4.190008e+09          1   \n",
       "647053         8       191347        1  3.800060e+09          1   \n",
       "\n",
       "       DepartmentDescription  FinelineNumber  \n",
       "647049          PHARMACY OTC          1118.0  \n",
       "647050          FROZEN FOODS          1752.0  \n",
       "647051               PRODUCE          4170.0  \n",
       "647052                 DAIRY          1512.0  \n",
       "647053     GROCERY DRY GOODS          3600.0  "
      ]
     },
     "execution_count": 20,
     "metadata": {},
     "output_type": "execute_result"
    }
   ],
   "source": [
    "train.tail()"
   ]
  },
  {
   "cell_type": "markdown",
   "metadata": {},
   "source": [
    "### ScanCount"
   ]
  },
  {
   "cell_type": "markdown",
   "metadata": {},
   "source": [
    "- VisitNumber로 groupby 할때 sum으로 대체"
   ]
  },
  {
   "cell_type": "code",
   "execution_count": null,
   "metadata": {},
   "outputs": [],
   "source": []
  },
  {
   "cell_type": "code",
   "execution_count": null,
   "metadata": {},
   "outputs": [],
   "source": []
  },
  {
   "cell_type": "code",
   "execution_count": null,
   "metadata": {},
   "outputs": [],
   "source": []
  },
  {
   "cell_type": "code",
   "execution_count": null,
   "metadata": {},
   "outputs": [],
   "source": []
  },
  {
   "cell_type": "code",
   "execution_count": null,
   "metadata": {},
   "outputs": [],
   "source": []
  },
  {
   "cell_type": "code",
   "execution_count": null,
   "metadata": {},
   "outputs": [],
   "source": []
  },
  {
   "cell_type": "code",
   "execution_count": null,
   "metadata": {},
   "outputs": [],
   "source": []
  },
  {
   "cell_type": "code",
   "execution_count": null,
   "metadata": {},
   "outputs": [],
   "source": []
  },
  {
   "cell_type": "code",
   "execution_count": null,
   "metadata": {},
   "outputs": [],
   "source": []
  },
  {
   "cell_type": "code",
   "execution_count": null,
   "metadata": {},
   "outputs": [],
   "source": []
  },
  {
   "cell_type": "code",
   "execution_count": 19,
   "metadata": {
    "scrolled": true
   },
   "outputs": [
    {
     "data": {
      "text/html": [
       "<div>\n",
       "<style scoped>\n",
       "    .dataframe tbody tr th:only-of-type {\n",
       "        vertical-align: middle;\n",
       "    }\n",
       "\n",
       "    .dataframe tbody tr th {\n",
       "        vertical-align: top;\n",
       "    }\n",
       "\n",
       "    .dataframe thead th {\n",
       "        text-align: right;\n",
       "    }\n",
       "</style>\n",
       "<table border=\"1\" class=\"dataframe\">\n",
       "  <thead>\n",
       "    <tr style=\"text-align: right;\">\n",
       "      <th></th>\n",
       "      <th>count</th>\n",
       "      <th>unique</th>\n",
       "      <th>top</th>\n",
       "      <th>freq</th>\n",
       "      <th>mean</th>\n",
       "      <th>std</th>\n",
       "      <th>min</th>\n",
       "      <th>25%</th>\n",
       "      <th>50%</th>\n",
       "      <th>75%</th>\n",
       "      <th>max</th>\n",
       "      <th>MV_count</th>\n",
       "      <th>MV_ratio</th>\n",
       "    </tr>\n",
       "  </thead>\n",
       "  <tbody>\n",
       "    <tr>\n",
       "      <th>TripType</th>\n",
       "      <td>647054</td>\n",
       "      <td>NaN</td>\n",
       "      <td>NaN</td>\n",
       "      <td>NaN</td>\n",
       "      <td>58.5845</td>\n",
       "      <td>157.636</td>\n",
       "      <td>3</td>\n",
       "      <td>27</td>\n",
       "      <td>39</td>\n",
       "      <td>40</td>\n",
       "      <td>999</td>\n",
       "      <td>0</td>\n",
       "      <td>0.000000</td>\n",
       "    </tr>\n",
       "    <tr>\n",
       "      <th>VisitNumber</th>\n",
       "      <td>647054</td>\n",
       "      <td>NaN</td>\n",
       "      <td>NaN</td>\n",
       "      <td>NaN</td>\n",
       "      <td>96167.6</td>\n",
       "      <td>55545.5</td>\n",
       "      <td>5</td>\n",
       "      <td>49268</td>\n",
       "      <td>97074</td>\n",
       "      <td>144316</td>\n",
       "      <td>191347</td>\n",
       "      <td>0</td>\n",
       "      <td>0.000000</td>\n",
       "    </tr>\n",
       "    <tr>\n",
       "      <th>Weekday</th>\n",
       "      <td>647054</td>\n",
       "      <td>NaN</td>\n",
       "      <td>NaN</td>\n",
       "      <td>NaN</td>\n",
       "      <td>3.4997</td>\n",
       "      <td>2.00343</td>\n",
       "      <td>1</td>\n",
       "      <td>2</td>\n",
       "      <td>3</td>\n",
       "      <td>5</td>\n",
       "      <td>7</td>\n",
       "      <td>0</td>\n",
       "      <td>0.000000</td>\n",
       "    </tr>\n",
       "    <tr>\n",
       "      <th>Upc</th>\n",
       "      <td>642925</td>\n",
       "      <td>NaN</td>\n",
       "      <td>NaN</td>\n",
       "      <td>NaN</td>\n",
       "      <td>3.0607e+10</td>\n",
       "      <td>9.12013e+10</td>\n",
       "      <td>834</td>\n",
       "      <td>3.4e+09</td>\n",
       "      <td>7.0501e+09</td>\n",
       "      <td>3.00653e+10</td>\n",
       "      <td>9.78971e+11</td>\n",
       "      <td>4129</td>\n",
       "      <td>0.006381</td>\n",
       "    </tr>\n",
       "    <tr>\n",
       "      <th>ScanCount</th>\n",
       "      <td>647054</td>\n",
       "      <td>NaN</td>\n",
       "      <td>NaN</td>\n",
       "      <td>NaN</td>\n",
       "      <td>1.10888</td>\n",
       "      <td>0.700776</td>\n",
       "      <td>-12</td>\n",
       "      <td>1</td>\n",
       "      <td>1</td>\n",
       "      <td>1</td>\n",
       "      <td>71</td>\n",
       "      <td>0</td>\n",
       "      <td>0.000000</td>\n",
       "    </tr>\n",
       "    <tr>\n",
       "      <th>DepartmentDescription</th>\n",
       "      <td>645693</td>\n",
       "      <td>68</td>\n",
       "      <td>GROCERY DRY GOODS</td>\n",
       "      <td>70402</td>\n",
       "      <td>NaN</td>\n",
       "      <td>NaN</td>\n",
       "      <td>NaN</td>\n",
       "      <td>NaN</td>\n",
       "      <td>NaN</td>\n",
       "      <td>NaN</td>\n",
       "      <td>NaN</td>\n",
       "      <td>1361</td>\n",
       "      <td>0.002103</td>\n",
       "    </tr>\n",
       "    <tr>\n",
       "      <th>FinelineNumber</th>\n",
       "      <td>642925</td>\n",
       "      <td>NaN</td>\n",
       "      <td>NaN</td>\n",
       "      <td>NaN</td>\n",
       "      <td>3726.88</td>\n",
       "      <td>2780.97</td>\n",
       "      <td>0</td>\n",
       "      <td>1404</td>\n",
       "      <td>3352</td>\n",
       "      <td>5501</td>\n",
       "      <td>9998</td>\n",
       "      <td>4129</td>\n",
       "      <td>0.006381</td>\n",
       "    </tr>\n",
       "  </tbody>\n",
       "</table>\n",
       "</div>"
      ],
      "text/plain": [
       "                        count unique                top   freq        mean  \\\n",
       "TripType               647054    NaN                NaN    NaN     58.5845   \n",
       "VisitNumber            647054    NaN                NaN    NaN     96167.6   \n",
       "Weekday                647054    NaN                NaN    NaN      3.4997   \n",
       "Upc                    642925    NaN                NaN    NaN  3.0607e+10   \n",
       "ScanCount              647054    NaN                NaN    NaN     1.10888   \n",
       "DepartmentDescription  645693     68  GROCERY DRY GOODS  70402         NaN   \n",
       "FinelineNumber         642925    NaN                NaN    NaN     3726.88   \n",
       "\n",
       "                               std  min      25%         50%          75%  \\\n",
       "TripType                   157.636    3       27          39           40   \n",
       "VisitNumber                55545.5    5    49268       97074       144316   \n",
       "Weekday                    2.00343    1        2           3            5   \n",
       "Upc                    9.12013e+10  834  3.4e+09  7.0501e+09  3.00653e+10   \n",
       "ScanCount                 0.700776  -12        1           1            1   \n",
       "DepartmentDescription          NaN  NaN      NaN         NaN          NaN   \n",
       "FinelineNumber             2780.97    0     1404        3352         5501   \n",
       "\n",
       "                               max  MV_count  MV_ratio  \n",
       "TripType                       999         0  0.000000  \n",
       "VisitNumber                 191347         0  0.000000  \n",
       "Weekday                          7         0  0.000000  \n",
       "Upc                    9.78971e+11      4129  0.006381  \n",
       "ScanCount                       71         0  0.000000  \n",
       "DepartmentDescription          NaN      1361  0.002103  \n",
       "FinelineNumber                9998      4129  0.006381  "
      ]
     },
     "execution_count": 19,
     "metadata": {},
     "output_type": "execute_result"
    }
   ],
   "source": [
    "# after preprocessing\n",
    "desc['MV_count'] = train.isnull().sum()\n",
    "desc['MV_ratio'] = desc['MV_count']/train.shape[0]\n",
    "desc"
   ]
  },
  {
   "cell_type": "code",
   "execution_count": null,
   "metadata": {},
   "outputs": [],
   "source": []
  },
  {
   "cell_type": "markdown",
   "metadata": {},
   "source": [
    "##  Feature importance via Gradient Boosting model"
   ]
  },
  {
   "cell_type": "code",
   "execution_count": 52,
   "metadata": {},
   "outputs": [],
   "source": [
    "X = train.drop(columns='TripType')\n",
    "y = train['TripType']"
   ]
  },
  {
   "cell_type": "code",
   "execution_count": 54,
   "metadata": {},
   "outputs": [
    {
     "ename": "ValueError",
     "evalue": "could not convert string to float: 'GROCERY DRY GOODS'",
     "output_type": "error",
     "traceback": [
      "\u001b[0;31m---------------------------------------------------------------------------\u001b[0m",
      "\u001b[0;31mValueError\u001b[0m                                Traceback (most recent call last)",
      "\u001b[0;32m<ipython-input-54-ada2654657c2>\u001b[0m in \u001b[0;36m<module>\u001b[0;34m()\u001b[0m\n\u001b[1;32m      2\u001b[0m \u001b[0;34m\u001b[0m\u001b[0m\n\u001b[1;32m      3\u001b[0m \u001b[0mgb\u001b[0m \u001b[0;34m=\u001b[0m \u001b[0mGradientBoostingRegressor\u001b[0m\u001b[0;34m(\u001b[0m\u001b[0;34m)\u001b[0m\u001b[0;34m\u001b[0m\u001b[0m\n\u001b[0;32m----> 4\u001b[0;31m \u001b[0mgb\u001b[0m\u001b[0;34m.\u001b[0m\u001b[0mfit\u001b[0m\u001b[0;34m(\u001b[0m\u001b[0mX\u001b[0m\u001b[0;34m,\u001b[0m \u001b[0my\u001b[0m\u001b[0;34m)\u001b[0m\u001b[0;34m\u001b[0m\u001b[0m\n\u001b[0m\u001b[1;32m      5\u001b[0m \u001b[0mfeatures\u001b[0m \u001b[0;34m=\u001b[0m \u001b[0mX\u001b[0m\u001b[0;34m.\u001b[0m\u001b[0mcolumns\u001b[0m\u001b[0;34m.\u001b[0m\u001b[0mvalues\u001b[0m\u001b[0;34m\u001b[0m\u001b[0m\n\u001b[1;32m      6\u001b[0m \u001b[0;34m\u001b[0m\u001b[0m\n",
      "\u001b[0;32m/Library/Frameworks/Python.framework/Versions/3.6/lib/python3.6/site-packages/sklearn/ensemble/gradient_boosting.py\u001b[0m in \u001b[0;36mfit\u001b[0;34m(self, X, y, sample_weight, monitor)\u001b[0m\n\u001b[1;32m    977\u001b[0m \u001b[0;34m\u001b[0m\u001b[0m\n\u001b[1;32m    978\u001b[0m         \u001b[0;31m# Check input\u001b[0m\u001b[0;34m\u001b[0m\u001b[0;34m\u001b[0m\u001b[0m\n\u001b[0;32m--> 979\u001b[0;31m         \u001b[0mX\u001b[0m\u001b[0;34m,\u001b[0m \u001b[0my\u001b[0m \u001b[0;34m=\u001b[0m \u001b[0mcheck_X_y\u001b[0m\u001b[0;34m(\u001b[0m\u001b[0mX\u001b[0m\u001b[0;34m,\u001b[0m \u001b[0my\u001b[0m\u001b[0;34m,\u001b[0m \u001b[0maccept_sparse\u001b[0m\u001b[0;34m=\u001b[0m\u001b[0;34m[\u001b[0m\u001b[0;34m'csr'\u001b[0m\u001b[0;34m,\u001b[0m \u001b[0;34m'csc'\u001b[0m\u001b[0;34m,\u001b[0m \u001b[0;34m'coo'\u001b[0m\u001b[0;34m]\u001b[0m\u001b[0;34m,\u001b[0m \u001b[0mdtype\u001b[0m\u001b[0;34m=\u001b[0m\u001b[0mDTYPE\u001b[0m\u001b[0;34m)\u001b[0m\u001b[0;34m\u001b[0m\u001b[0m\n\u001b[0m\u001b[1;32m    980\u001b[0m         \u001b[0mn_samples\u001b[0m\u001b[0;34m,\u001b[0m \u001b[0mself\u001b[0m\u001b[0;34m.\u001b[0m\u001b[0mn_features_\u001b[0m \u001b[0;34m=\u001b[0m \u001b[0mX\u001b[0m\u001b[0;34m.\u001b[0m\u001b[0mshape\u001b[0m\u001b[0;34m\u001b[0m\u001b[0m\n\u001b[1;32m    981\u001b[0m         \u001b[0;32mif\u001b[0m \u001b[0msample_weight\u001b[0m \u001b[0;32mis\u001b[0m \u001b[0;32mNone\u001b[0m\u001b[0;34m:\u001b[0m\u001b[0;34m\u001b[0m\u001b[0m\n",
      "\u001b[0;32m/Library/Frameworks/Python.framework/Versions/3.6/lib/python3.6/site-packages/sklearn/utils/validation.py\u001b[0m in \u001b[0;36mcheck_X_y\u001b[0;34m(X, y, accept_sparse, dtype, order, copy, force_all_finite, ensure_2d, allow_nd, multi_output, ensure_min_samples, ensure_min_features, y_numeric, warn_on_dtype, estimator)\u001b[0m\n\u001b[1;32m    571\u001b[0m     X = check_array(X, accept_sparse, dtype, order, copy, force_all_finite,\n\u001b[1;32m    572\u001b[0m                     \u001b[0mensure_2d\u001b[0m\u001b[0;34m,\u001b[0m \u001b[0mallow_nd\u001b[0m\u001b[0;34m,\u001b[0m \u001b[0mensure_min_samples\u001b[0m\u001b[0;34m,\u001b[0m\u001b[0;34m\u001b[0m\u001b[0m\n\u001b[0;32m--> 573\u001b[0;31m                     ensure_min_features, warn_on_dtype, estimator)\n\u001b[0m\u001b[1;32m    574\u001b[0m     \u001b[0;32mif\u001b[0m \u001b[0mmulti_output\u001b[0m\u001b[0;34m:\u001b[0m\u001b[0;34m\u001b[0m\u001b[0m\n\u001b[1;32m    575\u001b[0m         y = check_array(y, 'csr', force_all_finite=True, ensure_2d=False,\n",
      "\u001b[0;32m/Library/Frameworks/Python.framework/Versions/3.6/lib/python3.6/site-packages/sklearn/utils/validation.py\u001b[0m in \u001b[0;36mcheck_array\u001b[0;34m(array, accept_sparse, dtype, order, copy, force_all_finite, ensure_2d, allow_nd, ensure_min_samples, ensure_min_features, warn_on_dtype, estimator)\u001b[0m\n\u001b[1;32m    431\u001b[0m                                       force_all_finite)\n\u001b[1;32m    432\u001b[0m     \u001b[0;32melse\u001b[0m\u001b[0;34m:\u001b[0m\u001b[0;34m\u001b[0m\u001b[0m\n\u001b[0;32m--> 433\u001b[0;31m         \u001b[0marray\u001b[0m \u001b[0;34m=\u001b[0m \u001b[0mnp\u001b[0m\u001b[0;34m.\u001b[0m\u001b[0marray\u001b[0m\u001b[0;34m(\u001b[0m\u001b[0marray\u001b[0m\u001b[0;34m,\u001b[0m \u001b[0mdtype\u001b[0m\u001b[0;34m=\u001b[0m\u001b[0mdtype\u001b[0m\u001b[0;34m,\u001b[0m \u001b[0morder\u001b[0m\u001b[0;34m=\u001b[0m\u001b[0morder\u001b[0m\u001b[0;34m,\u001b[0m \u001b[0mcopy\u001b[0m\u001b[0;34m=\u001b[0m\u001b[0mcopy\u001b[0m\u001b[0;34m)\u001b[0m\u001b[0;34m\u001b[0m\u001b[0m\n\u001b[0m\u001b[1;32m    434\u001b[0m \u001b[0;34m\u001b[0m\u001b[0m\n\u001b[1;32m    435\u001b[0m         \u001b[0;32mif\u001b[0m \u001b[0mensure_2d\u001b[0m\u001b[0;34m:\u001b[0m\u001b[0;34m\u001b[0m\u001b[0m\n",
      "\u001b[0;31mValueError\u001b[0m: could not convert string to float: 'GROCERY DRY GOODS'"
     ]
    }
   ],
   "source": [
    "start_time=time.time()\n",
    "\n",
    "gb = GradientBoostingRegressor()\n",
    "gb.fit(X, y)\n",
    "features = X.columns.values\n",
    "\n",
    "end_time=time.time()\n",
    "print(\"total time in the current cell \",end_time-start_time,\"s\")"
   ]
  },
  {
   "cell_type": "code",
   "execution_count": 46,
   "metadata": {},
   "outputs": [
    {
     "data": {
      "application/vnd.plotly.v1+json": {
       "data": [
        {
         "marker": {
          "color": [
           0.07563775956576074,
           0.006820549079465375,
           0.18466926681960516,
           0.30402486121218003,
           0.13621030328193034,
           0.29263726004105833
          ],
          "colorscale": "Portland",
          "showscale": true,
          "size": 13,
          "sizemode": "diameter",
          "sizeref": 1
         },
         "mode": "markers",
         "text": [
          "TripType",
          "VisitNumber",
          "Weekday",
          "Upc",
          "ScanCount",
          "DepartmentDescription",
          "FinelineNumber"
         ],
         "type": "scatter",
         "uid": "381b4474-92e2-11e8-b34a-8c8590746e45",
         "x": [
          "TripType",
          "VisitNumber",
          "Weekday",
          "Upc",
          "ScanCount",
          "DepartmentDescription",
          "FinelineNumber"
         ],
         "y": [
          0.07563775956576074,
          0.006820549079465375,
          0.18466926681960516,
          0.30402486121218003,
          0.13621030328193034,
          0.29263726004105833
         ]
        }
       ],
       "layout": {
        "autosize": true,
        "hovermode": "closest",
        "showlegend": false,
        "title": "Gradient Boosting Machine Feature Importance",
        "xaxis": {
         "showgrid": false,
         "showline": false,
         "ticklen": 5,
         "zeroline": false
        },
        "yaxis": {
         "gridwidth": 2,
         "showgrid": false,
         "ticklen": 5,
         "title": "Feature Importance",
         "zeroline": false
        }
       }
      },
      "text/html": [
       "<div id=\"1f7caded-776a-4148-8e77-b770cc956464\" style=\"height: 525px; width: 100%;\" class=\"plotly-graph-div\"></div><script type=\"text/javascript\">require([\"plotly\"], function(Plotly) { window.PLOTLYENV=window.PLOTLYENV || {};window.PLOTLYENV.BASE_URL=\"https://plot.ly\";\n",
       "        Plotly.plot(\n",
       "            '1f7caded-776a-4148-8e77-b770cc956464',\n",
       "            [{\"marker\": {\"color\": [0.07563775956576074, 0.006820549079465375, 0.18466926681960516, 0.30402486121218003, 0.13621030328193034, 0.29263726004105833], \"colorscale\": \"Portland\", \"showscale\": true, \"size\": 13, \"sizemode\": \"diameter\", \"sizeref\": 1}, \"mode\": \"markers\", \"text\": [\"TripType\", \"VisitNumber\", \"Weekday\", \"Upc\", \"ScanCount\", \"DepartmentDescription\", \"FinelineNumber\"], \"x\": [\"TripType\", \"VisitNumber\", \"Weekday\", \"Upc\", \"ScanCount\", \"DepartmentDescription\", \"FinelineNumber\"], \"y\": [0.07563775956576074, 0.006820549079465375, 0.18466926681960516, 0.30402486121218003, 0.13621030328193034, 0.29263726004105833], \"type\": \"scatter\", \"uid\": \"381b4474-92e2-11e8-b34a-8c8590746e45\"}],\n",
       "            {\"autosize\": true, \"hovermode\": \"closest\", \"showlegend\": false, \"title\": \"Gradient Boosting Machine Feature Importance\", \"xaxis\": {\"showgrid\": false, \"showline\": false, \"ticklen\": 5, \"zeroline\": false}, \"yaxis\": {\"gridwidth\": 2, \"showgrid\": false, \"ticklen\": 5, \"title\": \"Feature Importance\", \"zeroline\": false}},\n",
       "            {\"showLink\": true, \"linkText\": \"Export to plot.ly\"}\n",
       "        ).then(function () {return Plotly.addFrames('1f7caded-776a-4148-8e77-b770cc956464',{});}).then(function(){Plotly.animate('1f7caded-776a-4148-8e77-b770cc956464');})\n",
       "        });</script>"
      ],
      "text/vnd.plotly.v1+html": [
       "<div id=\"1f7caded-776a-4148-8e77-b770cc956464\" style=\"height: 525px; width: 100%;\" class=\"plotly-graph-div\"></div><script type=\"text/javascript\">require([\"plotly\"], function(Plotly) { window.PLOTLYENV=window.PLOTLYENV || {};window.PLOTLYENV.BASE_URL=\"https://plot.ly\";\n",
       "        Plotly.plot(\n",
       "            '1f7caded-776a-4148-8e77-b770cc956464',\n",
       "            [{\"marker\": {\"color\": [0.07563775956576074, 0.006820549079465375, 0.18466926681960516, 0.30402486121218003, 0.13621030328193034, 0.29263726004105833], \"colorscale\": \"Portland\", \"showscale\": true, \"size\": 13, \"sizemode\": \"diameter\", \"sizeref\": 1}, \"mode\": \"markers\", \"text\": [\"TripType\", \"VisitNumber\", \"Weekday\", \"Upc\", \"ScanCount\", \"DepartmentDescription\", \"FinelineNumber\"], \"x\": [\"TripType\", \"VisitNumber\", \"Weekday\", \"Upc\", \"ScanCount\", \"DepartmentDescription\", \"FinelineNumber\"], \"y\": [0.07563775956576074, 0.006820549079465375, 0.18466926681960516, 0.30402486121218003, 0.13621030328193034, 0.29263726004105833], \"type\": \"scatter\", \"uid\": \"381b4474-92e2-11e8-b34a-8c8590746e45\"}],\n",
       "            {\"autosize\": true, \"hovermode\": \"closest\", \"showlegend\": false, \"title\": \"Gradient Boosting Machine Feature Importance\", \"xaxis\": {\"showgrid\": false, \"showline\": false, \"ticklen\": 5, \"zeroline\": false}, \"yaxis\": {\"gridwidth\": 2, \"showgrid\": false, \"ticklen\": 5, \"title\": \"Feature Importance\", \"zeroline\": false}},\n",
       "            {\"showLink\": true, \"linkText\": \"Export to plot.ly\"}\n",
       "        ).then(function () {return Plotly.addFrames('1f7caded-776a-4148-8e77-b770cc956464',{});}).then(function(){Plotly.animate('1f7caded-776a-4148-8e77-b770cc956464');})\n",
       "        });</script>"
      ]
     },
     "metadata": {},
     "output_type": "display_data"
    }
   ],
   "source": [
    "# Scatter plot \n",
    "trace = go.Scatter(\n",
    "    y = gb.feature_importances_,\n",
    "    x = features,\n",
    "    mode='markers',\n",
    "    marker=dict(\n",
    "        sizemode = 'diameter',\n",
    "        sizeref = 1,\n",
    "        size = 13,\n",
    "        color = gb.feature_importances_,\n",
    "        colorscale='Portland',\n",
    "        showscale=True\n",
    "    ),\n",
    "    text = features\n",
    ")\n",
    "\n",
    "layout= go.Layout(\n",
    "    autosize= True,\n",
    "    title= 'Gradient Boosting Machine Feature Importance',\n",
    "    hovermode= 'closest',\n",
    "     xaxis= dict(\n",
    "         ticklen= 5,\n",
    "         showgrid=False,\n",
    "        zeroline=False,\n",
    "        showline=False\n",
    "     ),\n",
    "    yaxis=dict(\n",
    "        title= 'Feature Importance',\n",
    "        showgrid=False,\n",
    "        zeroline=False,\n",
    "        ticklen= 5,\n",
    "        gridwidth= 2\n",
    "    ),\n",
    "    showlegend= False\n",
    ")\n",
    "fig = go.Figure(data=[trace], layout=layout)\n",
    "py.iplot(fig)"
   ]
  },
  {
   "cell_type": "code",
   "execution_count": null,
   "metadata": {},
   "outputs": [],
   "source": []
  },
  {
   "cell_type": "code",
   "execution_count": null,
   "metadata": {},
   "outputs": [],
   "source": []
  }
 ],
 "metadata": {
  "kernelspec": {
   "display_name": "Python 3",
   "language": "python",
   "name": "python3"
  },
  "language_info": {
   "codemirror_mode": {
    "name": "ipython",
    "version": 3
   },
   "file_extension": ".py",
   "mimetype": "text/x-python",
   "name": "python",
   "nbconvert_exporter": "python",
   "pygments_lexer": "ipython3",
   "version": "3.6.4"
  }
 },
 "nbformat": 4,
 "nbformat_minor": 2
}
