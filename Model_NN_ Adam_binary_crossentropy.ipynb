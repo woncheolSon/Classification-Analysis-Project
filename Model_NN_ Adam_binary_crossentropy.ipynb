{
 "cells": [
  {
   "cell_type": "code",
   "execution_count": 23,
   "metadata": {
    "scrolled": true
   },
   "outputs": [],
   "source": [
    "import numpy as np\n",
    "import pandas as pd\n",
    "pd.set_option('max_rows',38)\n",
    "pd.set_option('max_columns',25)\n",
    "import time\n",
    "import pickle\n",
    "from tqdm import tqdm\n",
    "import myslack_incomming\n",
    "\n",
    "# model\n",
    "from keras.models import Sequential\n",
    "from keras.layers.core import Dense, Dropout\n",
    "from keras.optimizers import SGD, RMSprop, Adadelta, Adam\n",
    "from keras.utils import np_utils\n",
    "from keras.layers import Activation, BatchNormalization\n",
    "import xgboost\n",
    "from scipy.sparse import csr_matrix\n",
    "from sklearn.tree import DecisionTreeClassifier\n",
    "from sklearn.linear_model import LogisticRegression\n",
    "from sklearn.naive_bayes import MultinomialNB\n",
    "from sklearn.metrics import confusion_matrix\n",
    "from sklearn.ensemble import BaggingClassifier\n",
    "from sklearn.ensemble import GradientBoostingClassifier\n",
    "from sklearn.ensemble import GradientBoostingRegressor\n",
    "from sklearn.ensemble import RandomForestClassifier\n",
    "from sklearn.ensemble import ExtraTreesClassifier\n",
    "from sklearn.pipeline import Pipeline\n",
    "from sklearn.svm import SVC\n",
    "from sklearn.model_selection import GridSearchCV\n",
    "from sklearn.model_selection import train_test_split\n",
    "from sklearn.model_selection import validation_curve\n",
    "from sklearn.model_selection import KFold, cross_val_score\n",
    "from sklearn.metrics import classification_report\n",
    "from sklearn import preprocessing\n",
    "from keras.models import load_model"
   ]
  },
  {
   "cell_type": "markdown",
   "metadata": {},
   "source": [
    "# Ver 1"
   ]
  },
  {
   "cell_type": "markdown",
   "metadata": {},
   "source": [
    "# Data Check"
   ]
  },
  {
   "cell_type": "markdown",
   "metadata": {},
   "source": [
    "#### - train.csv"
   ]
  },
  {
   "cell_type": "code",
   "execution_count": 2,
   "metadata": {
    "scrolled": true
   },
   "outputs": [
    {
     "name": "stdout",
     "output_type": "stream",
     "text": [
      "test data shape: (95674, 5482)\n"
     ]
    }
   ],
   "source": [
    "train = pickle.load(open(\"./data/final_train_Ver1.pkl\", \"rb\"))\n",
    "print(\"test data shape: \"+str(train.shape))"
   ]
  },
  {
   "cell_type": "markdown",
   "metadata": {},
   "source": [
    "#### - test.csv"
   ]
  },
  {
   "cell_type": "code",
   "execution_count": 3,
   "metadata": {
    "scrolled": true
   },
   "outputs": [
    {
     "name": "stdout",
     "output_type": "stream",
     "text": [
      "test data shape: (95674, 5481)\n"
     ]
    }
   ],
   "source": [
    "test = pickle.load(open(\"./data/final_test_Ver1.pkl\", \"rb\"))\n",
    "print(\"test data shape: \"+str(test.shape))"
   ]
  },
  {
   "cell_type": "markdown",
   "metadata": {},
   "source": [
    "#### - sample_submission.csv"
   ]
  },
  {
   "cell_type": "code",
   "execution_count": 4,
   "metadata": {
    "scrolled": false
   },
   "outputs": [
    {
     "name": "stdout",
     "output_type": "stream",
     "text": [
      "sample_submission data shape: (95674, 39)\n"
     ]
    }
   ],
   "source": [
    "samplesub = pd.read_csv(\"./data/sample_submission.csv\")\n",
    "print(\"sample_submission data shape: \"+str(samplesub.shape))"
   ]
  },
  {
   "cell_type": "markdown",
   "metadata": {},
   "source": [
    "---"
   ]
  },
  {
   "cell_type": "markdown",
   "metadata": {},
   "source": [
    "# Modeling 8 - Neural Network"
   ]
  },
  {
   "cell_type": "markdown",
   "metadata": {},
   "source": [
    "### Train_X, Train_y"
   ]
  },
  {
   "cell_type": "code",
   "execution_count": 5,
   "metadata": {},
   "outputs": [],
   "source": [
    "X = train.drop(columns='TripType')\n",
    "y = train['TripType']"
   ]
  },
  {
   "cell_type": "code",
   "execution_count": 6,
   "metadata": {},
   "outputs": [
    {
     "data": {
      "text/plain": [
       "(38, array([999,  30,  26,   8,  35,  41,  21,   6,  42,   7,   9,  39,  25,\n",
       "         38,  15,  36,  20,  37,  32,  40,   5,   3,   4,  24,  33,  43,\n",
       "         31,  27,  34,  18,  29,  44,  19,  23,  22,  28,  14,  12]))"
      ]
     },
     "execution_count": 6,
     "metadata": {},
     "output_type": "execute_result"
    }
   ],
   "source": [
    "len(y.unique()), y.unique()"
   ]
  },
  {
   "cell_type": "code",
   "execution_count": 7,
   "metadata": {},
   "outputs": [
    {
     "data": {
      "text/plain": [
       "array([999,  30,  26,   8,  35,  41,  21,   6,  42,   7,   9,  39,  25,\n",
       "        38,  15,  36,  20,  37,  32,  40,   5,   3,   4,  24,  33,  43,\n",
       "        31,  27,  34,  18,  29,  44,  19,  23,  22,  28,  14,  12])"
      ]
     },
     "execution_count": 7,
     "metadata": {},
     "output_type": "execute_result"
    }
   ],
   "source": [
    "y.unique()"
   ]
  },
  {
   "cell_type": "code",
   "execution_count": 8,
   "metadata": {},
   "outputs": [
    {
     "data": {
      "text/plain": [
       "array([37, 22, 18,  5, 27, 33, 13,  3, 34,  4,  6, 31, 17, 30,  9, 28, 12,\n",
       "       29, 24, 32,  2,  0,  1, 16, 25, 35, 23, 19, 26, 10, 21, 36, 11, 15,\n",
       "       14, 20,  8,  7])"
      ]
     },
     "execution_count": 8,
     "metadata": {},
     "output_type": "execute_result"
    }
   ],
   "source": [
    "preprocessing.LabelEncoder().fit_transform(y.unique())"
   ]
  },
  {
   "cell_type": "code",
   "execution_count": 9,
   "metadata": {},
   "outputs": [],
   "source": [
    "train['TripType'].replace(y.unique(),preprocessing.LabelEncoder().fit_transform(y.unique()),inplace=True)"
   ]
  },
  {
   "cell_type": "code",
   "execution_count": 10,
   "metadata": {},
   "outputs": [
    {
     "data": {
      "text/plain": [
       "(38, array([37, 22, 18,  5, 27, 33, 13,  3, 34,  4,  6, 31, 17, 30,  9, 28, 12,\n",
       "        29, 24, 32,  2,  0,  1, 16, 25, 35, 23, 19, 26, 10, 21, 36, 11, 15,\n",
       "        14, 20,  8,  7]))"
      ]
     },
     "execution_count": 10,
     "metadata": {},
     "output_type": "execute_result"
    }
   ],
   "source": [
    "len(y.unique()), y.unique()"
   ]
  },
  {
   "cell_type": "code",
   "execution_count": 11,
   "metadata": {},
   "outputs": [
    {
     "data": {
      "text/plain": [
       "<95674x5481 sparse matrix of type '<class 'numpy.int64'>'\n",
       "\twith 1124112 stored elements in Compressed Sparse Row format>"
      ]
     },
     "execution_count": 11,
     "metadata": {},
     "output_type": "execute_result"
    }
   ],
   "source": [
    "X = csr_matrix(X); X"
   ]
  },
  {
   "cell_type": "code",
   "execution_count": 12,
   "metadata": {},
   "outputs": [
    {
     "data": {
      "text/plain": [
       "<95674x5481 sparse matrix of type '<class 'numpy.int64'>'\n",
       "\twith 1130483 stored elements in Compressed Sparse Row format>"
      ]
     },
     "execution_count": 12,
     "metadata": {},
     "output_type": "execute_result"
    }
   ],
   "source": [
    "csr_test = csr_matrix(test); csr_test"
   ]
  },
  {
   "cell_type": "markdown",
   "metadata": {},
   "source": [
    "## Keras"
   ]
  },
  {
   "cell_type": "markdown",
   "metadata": {},
   "source": [
    "### Train Test Split"
   ]
  },
  {
   "cell_type": "code",
   "execution_count": 24,
   "metadata": {},
   "outputs": [
    {
     "data": {
      "text/plain": [
       "(76539, 19135, 76539, 19135)"
      ]
     },
     "execution_count": 24,
     "metadata": {},
     "output_type": "execute_result"
    }
   ],
   "source": [
    "X_train, X_test, y_train0, y_test0 = train_test_split(X, y, test_size=0.2)\n",
    "\n",
    "X_train.shape[0], X_test.shape[0], len(y_train0), len(y_test0)"
   ]
  },
  {
   "cell_type": "code",
   "execution_count": 52,
   "metadata": {},
   "outputs": [],
   "source": [
    "Y_train = np_utils.to_categorical(y_train0, 38)\n",
    "Y_test = np_utils.to_categorical(y_test0, 38)"
   ]
  },
  {
   "cell_type": "code",
   "execution_count": 53,
   "metadata": {},
   "outputs": [],
   "source": [
    "dense = 100\n",
    "lr = 0.001"
   ]
  },
  {
   "cell_type": "code",
   "execution_count": 54,
   "metadata": {
    "scrolled": true
   },
   "outputs": [],
   "source": [
    "NN_model_Adam = Sequential()\n",
    "NN_model_Adam.add(Dense(dense, input_dim=5481, kernel_initializer=\"glorot_uniform\"))\n",
    "NN_model_Adam.add(BatchNormalization())\n",
    "NN_model_Adam.add(Activation('relu'))\n",
    "NN_model_Adam.add(Dense(38, activation=\"softmax\", kernel_initializer=\"glorot_uniform\"))\n",
    "NN_model_Adam.compile(optimizer=Adam(lr=lr), loss='binary_crossentropy', metrics=[\"accuracy\"])"
   ]
  },
  {
   "cell_type": "code",
   "execution_count": 55,
   "metadata": {},
   "outputs": [
    {
     "name": "stdout",
     "output_type": "stream",
     "text": [
      "_________________________________________________________________\n",
      "Layer (type)                 Output Shape              Param #   \n",
      "=================================================================\n",
      "dense_9 (Dense)              (None, 100)               548200    \n",
      "_________________________________________________________________\n",
      "batch_normalization_5 (Batch (None, 100)               400       \n",
      "_________________________________________________________________\n",
      "activation_5 (Activation)    (None, 100)               0         \n",
      "_________________________________________________________________\n",
      "dense_10 (Dense)             (None, 38)                3838      \n",
      "=================================================================\n",
      "Total params: 552,438\n",
      "Trainable params: 552,238\n",
      "Non-trainable params: 200\n",
      "_________________________________________________________________\n"
     ]
    }
   ],
   "source": [
    "NN_model_Adam.summary()"
   ]
  },
  {
   "cell_type": "code",
   "execution_count": 56,
   "metadata": {},
   "outputs": [],
   "source": [
    "epochs = 20\n",
    "batch_size = 5000"
   ]
  },
  {
   "cell_type": "code",
   "execution_count": 57,
   "metadata": {
    "scrolled": true
   },
   "outputs": [
    {
     "name": "stdout",
     "output_type": "stream",
     "text": [
      "Train on 76539 samples, validate on 19135 samples\n",
      "Epoch 1/20\n",
      "76539/76539 [==============================] - 5s 70us/step - loss: 0.1087 - acc: 0.9742 - val_loss: 0.0961 - val_acc: 0.9747\n",
      "Epoch 2/20\n",
      "76539/76539 [==============================] - 5s 62us/step - loss: 0.0825 - acc: 0.9753 - val_loss: 0.0790 - val_acc: 0.9759\n",
      "Epoch 3/20\n",
      "76539/76539 [==============================] - 5s 64us/step - loss: 0.0643 - acc: 0.9780 - val_loss: 0.0682 - val_acc: 0.9773\n",
      "Epoch 4/20\n",
      "76539/76539 [==============================] - 5s 62us/step - loss: 0.0525 - acc: 0.9815 - val_loss: 0.0607 - val_acc: 0.9794\n",
      "Epoch 5/20\n",
      "76539/76539 [==============================] - 5s 64us/step - loss: 0.0448 - acc: 0.9843 - val_loss: 0.0556 - val_acc: 0.9809\n",
      "Epoch 6/20\n",
      "76539/76539 [==============================] - 5s 64us/step - loss: 0.0394 - acc: 0.9863 - val_loss: 0.0520 - val_acc: 0.9820\n",
      "Epoch 7/20\n",
      "76539/76539 [==============================] - 6s 72us/step - loss: 0.0352 - acc: 0.9879 - val_loss: 0.0495 - val_acc: 0.9828\n",
      "Epoch 8/20\n",
      "76539/76539 [==============================] - 5s 68us/step - loss: 0.0317 - acc: 0.9892 - val_loss: 0.0479 - val_acc: 0.9830\n",
      "Epoch 9/20\n",
      "76539/76539 [==============================] - 5s 64us/step - loss: 0.0288 - acc: 0.9903 - val_loss: 0.0467 - val_acc: 0.9833\n",
      "Epoch 10/20\n",
      "76539/76539 [==============================] - 5s 67us/step - loss: 0.0264 - acc: 0.9913 - val_loss: 0.0460 - val_acc: 0.9835\n",
      "Epoch 11/20\n",
      "76539/76539 [==============================] - 5s 65us/step - loss: 0.0242 - acc: 0.9921 - val_loss: 0.0457 - val_acc: 0.9835\n",
      "Epoch 12/20\n",
      "76539/76539 [==============================] - 5s 66us/step - loss: 0.0224 - acc: 0.9929 - val_loss: 0.0446 - val_acc: 0.9839\n",
      "Epoch 13/20\n",
      "76539/76539 [==============================] - 5s 67us/step - loss: 0.0208 - acc: 0.9935 - val_loss: 0.0446 - val_acc: 0.9839\n",
      "Epoch 14/20\n",
      "76539/76539 [==============================] - 5s 68us/step - loss: 0.0193 - acc: 0.9940 - val_loss: 0.0444 - val_acc: 0.9841\n",
      "Epoch 15/20\n",
      "76539/76539 [==============================] - 5s 65us/step - loss: 0.0180 - acc: 0.9945 - val_loss: 0.0439 - val_acc: 0.9843\n",
      "Epoch 16/20\n",
      "76539/76539 [==============================] - 5s 67us/step - loss: 0.0169 - acc: 0.9949 - val_loss: 0.0444 - val_acc: 0.9842\n",
      "Epoch 17/20\n",
      "76539/76539 [==============================] - 5s 65us/step - loss: 0.0158 - acc: 0.9954 - val_loss: 0.0446 - val_acc: 0.9842\n",
      "Epoch 18/20\n",
      "76539/76539 [==============================] - 5s 64us/step - loss: 0.0149 - acc: 0.9957 - val_loss: 0.0442 - val_acc: 0.9845\n",
      "Epoch 19/20\n",
      "76539/76539 [==============================] - 5s 65us/step - loss: 0.0141 - acc: 0.9960 - val_loss: 0.0445 - val_acc: 0.9845\n",
      "Epoch 20/20\n",
      "76539/76539 [==============================] - 5s 66us/step - loss: 0.0133 - acc: 0.9962 - val_loss: 0.0450 - val_acc: 0.9845\n",
      "<Response [200]>\n",
      "CPU times: user 3min 58s, sys: 52.3 s, total: 4min 50s\n",
      "Wall time: 1min 41s\n"
     ]
    }
   ],
   "source": [
    "%%time\n",
    "hist = NN_model_Adam.fit(X_train, Y_train, \n",
    "                              epochs=epochs, batch_size=batch_size, \n",
    "                              validation_data=(X_test, Y_test), \n",
    "                              verbose=1)\n",
    "\n",
    "myslack_incomming.send_slack('Adam finish! dense: {}, lr: {},  val_acc: {} '\n",
    "                             .format(dense,lr,hist.history['val_acc'][-1]))"
   ]
  },
  {
   "cell_type": "markdown",
   "metadata": {},
   "source": [
    "### Confusion Matrix"
   ]
  },
  {
   "cell_type": "code",
   "execution_count": 58,
   "metadata": {},
   "outputs": [
    {
     "data": {
      "text/plain": [
       "array([ 5, 32, 32, ..., 30, 29, 22])"
      ]
     },
     "execution_count": 58,
     "metadata": {},
     "output_type": "execute_result"
    }
   ],
   "source": [
    "Y_test.argmax(axis=1)"
   ]
  },
  {
   "cell_type": "code",
   "execution_count": 59,
   "metadata": {},
   "outputs": [
    {
     "data": {
      "text/plain": [
       "array([5, 5, 5, ..., 5, 5, 5])"
      ]
     },
     "execution_count": 59,
     "metadata": {},
     "output_type": "execute_result"
    }
   ],
   "source": [
    "y_pred"
   ]
  },
  {
   "cell_type": "code",
   "execution_count": 60,
   "metadata": {},
   "outputs": [
    {
     "data": {
      "text/plain": [
       "array([[ 707,    0,    3, ...,    0,    0,   12],\n",
       "       [   1,   49,    5, ...,    0,    0,    0],\n",
       "       [   0,    1,  799, ...,    0,    1,    7],\n",
       "       ...,\n",
       "       [   4,    1,    2, ...,   11,    4,    4],\n",
       "       [   0,    0,    1, ...,    8,   50,    3],\n",
       "       [  65,    4,   12, ...,    1,    0, 1390]])"
      ]
     },
     "execution_count": 60,
     "metadata": {},
     "output_type": "execute_result"
    }
   ],
   "source": [
    "y_pred = NN_model_Adam.predict_classes(X_test)\n",
    "confusion_matrix(Y_test.argmax(axis=1), y_pred)"
   ]
  },
  {
   "cell_type": "code",
   "execution_count": null,
   "metadata": {},
   "outputs": [],
   "source": []
  },
  {
   "cell_type": "code",
   "execution_count": 61,
   "metadata": {},
   "outputs": [
    {
     "data": {
      "image/png": "[encoded data removed]",
      "text/plain": [
       "<matplotlib.figure.Figure at 0x12714efd0>"
      ]
     },
     "metadata": {},
     "output_type": "display_data"
    }
   ],
   "source": [
    "plt.plot(hist.history['loss'], 'b-', label=\"training\")\n",
    "plt.plot(hist.history['val_loss'], 'r:', label=\"test\")\n",
    "plt.legend()\n",
    "plt.show()"
   ]
  },
  {
   "cell_type": "code",
   "execution_count": 67,
   "metadata": {},
   "outputs": [
    {
     "data": {
      "text/plain": [
       "'val_loss: 0.044994258006675954'"
      ]
     },
     "execution_count": 67,
     "metadata": {},
     "output_type": "execute_result"
    }
   ],
   "source": [
    "'val_loss: '+str(hist.history['val_loss'][-1])"
   ]
  },
  {
   "cell_type": "code",
   "execution_count": 63,
   "metadata": {},
   "outputs": [
    {
     "data": {
      "image/png": "[encoded data removed]",
      "text/plain": [
       "<matplotlib.figure.Figure at 0x127786f28>"
      ]
     },
     "metadata": {},
     "output_type": "display_data"
    }
   ],
   "source": [
    "plt.plot(hist.history['acc'], 'b-', label=\"training\")\n",
    "plt.plot(hist.history['val_acc'], 'r:', label=\"test\")\n",
    "plt.legend()\n",
    "plt.show()"
   ]
  },
  {
   "cell_type": "code",
   "execution_count": 62,
   "metadata": {},
   "outputs": [
    {
     "data": {
      "text/plain": [
       "'val_acc: 0.9844983059524525'"
      ]
     },
     "execution_count": 62,
     "metadata": {},
     "output_type": "execute_result"
    }
   ],
   "source": [
    "'val_acc: '+str(hist.history['val_acc'][-1])"
   ]
  },
  {
   "cell_type": "markdown",
   "metadata": {},
   "source": [
    "### prediction"
   ]
  },
  {
   "cell_type": "code",
   "execution_count": 64,
   "metadata": {},
   "outputs": [
    {
     "data": {
      "text/plain": [
       "array([[2.4456100e-03, 4.1931446e-05, 1.3068995e-03, ..., 6.5463231e-05,\n",
       "        2.7578573e-05, 3.2642376e-01],\n",
       "       [2.5831402e-04, 2.3646130e-06, 1.0158200e-04, ..., 3.6625192e-04,\n",
       "        2.9472489e-04, 3.1441925e-04],\n",
       "       [2.6412145e-03, 2.7463942e-05, 1.4796653e-03, ..., 9.8326556e-05,\n",
       "        1.3813853e-06, 3.4479070e-02],\n",
       "       ...,\n",
       "       [9.0727089e-03, 3.2023236e-03, 2.0950815e-02, ..., 4.7005923e-03,\n",
       "        6.3425931e-04, 1.9807983e-02],\n",
       "       [2.0616004e-07, 7.6319631e-11, 1.1169581e-08, ..., 2.2507166e-08,\n",
       "        2.9034601e-07, 3.2372711e-07],\n",
       "       [3.9983838e-06, 1.7507395e-07, 2.2474035e-06, ..., 1.4449458e-04,\n",
       "        4.7702819e-02, 8.2890605e-05]], dtype=float32)"
      ]
     },
     "execution_count": 64,
     "metadata": {},
     "output_type": "execute_result"
    }
   ],
   "source": [
    "result = NN_model_Adam.predict_proba(csr_test)\n",
    "result"
   ]
  },
  {
   "cell_type": "markdown",
   "metadata": {},
   "source": [
    "### Make Submission CSV file"
   ]
  },
  {
   "cell_type": "code",
   "execution_count": 65,
   "metadata": {},
   "outputs": [
    {
     "data": {
      "text/html": [
       "<div>\n",
       "<style scoped>\n",
       "    .dataframe tbody tr th:only-of-type {\n",
       "        vertical-align: middle;\n",
       "    }\n",
       "\n",
       "    .dataframe tbody tr th {\n",
       "        vertical-align: top;\n",
       "    }\n",
       "\n",
       "    .dataframe thead th {\n",
       "        text-align: right;\n",
       "    }\n",
       "</style>\n",
       "<table border=\"1\" class=\"dataframe\">\n",
       "  <thead>\n",
       "    <tr style=\"text-align: right;\">\n",
       "      <th></th>\n",
       "      <th>TripType_3</th>\n",
       "      <th>TripType_4</th>\n",
       "      <th>TripType_5</th>\n",
       "      <th>TripType_6</th>\n",
       "      <th>TripType_7</th>\n",
       "      <th>TripType_8</th>\n",
       "      <th>TripType_9</th>\n",
       "      <th>TripType_12</th>\n",
       "      <th>TripType_14</th>\n",
       "      <th>TripType_15</th>\n",
       "      <th>TripType_18</th>\n",
       "      <th>TripType_19</th>\n",
       "      <th>...</th>\n",
       "      <th>TripType_34</th>\n",
       "      <th>TripType_35</th>\n",
       "      <th>TripType_36</th>\n",
       "      <th>TripType_37</th>\n",
       "      <th>TripType_38</th>\n",
       "      <th>TripType_39</th>\n",
       "      <th>TripType_40</th>\n",
       "      <th>TripType_41</th>\n",
       "      <th>TripType_42</th>\n",
       "      <th>TripType_43</th>\n",
       "      <th>TripType_44</th>\n",
       "      <th>TripType_999</th>\n",
       "    </tr>\n",
       "    <tr>\n",
       "      <th>VisitNumber</th>\n",
       "      <th></th>\n",
       "      <th></th>\n",
       "      <th></th>\n",
       "      <th></th>\n",
       "      <th></th>\n",
       "      <th></th>\n",
       "      <th></th>\n",
       "      <th></th>\n",
       "      <th></th>\n",
       "      <th></th>\n",
       "      <th></th>\n",
       "      <th></th>\n",
       "      <th></th>\n",
       "      <th></th>\n",
       "      <th></th>\n",
       "      <th></th>\n",
       "      <th></th>\n",
       "      <th></th>\n",
       "      <th></th>\n",
       "      <th></th>\n",
       "      <th></th>\n",
       "      <th></th>\n",
       "      <th></th>\n",
       "      <th></th>\n",
       "      <th></th>\n",
       "    </tr>\n",
       "  </thead>\n",
       "  <tbody>\n",
       "    <tr>\n",
       "      <th>191338</th>\n",
       "      <td>2.127095e-05</td>\n",
       "      <td>2.965193e-06</td>\n",
       "      <td>7.244923e-05</td>\n",
       "      <td>6.731551e-06</td>\n",
       "      <td>3.768291e-06</td>\n",
       "      <td>1.442478e-07</td>\n",
       "      <td>7.603465e-10</td>\n",
       "      <td>0.000076</td>\n",
       "      <td>1.411356e-06</td>\n",
       "      <td>3.651266e-06</td>\n",
       "      <td>2.202940e-05</td>\n",
       "      <td>1.078761e-06</td>\n",
       "      <td>...</td>\n",
       "      <td>4.453924e-06</td>\n",
       "      <td>0.126630</td>\n",
       "      <td>0.001142</td>\n",
       "      <td>5.647560e-04</td>\n",
       "      <td>4.331612e-03</td>\n",
       "      <td>0.014616</td>\n",
       "      <td>0.801643</td>\n",
       "      <td>0.000171</td>\n",
       "      <td>0.000011</td>\n",
       "      <td>1.419530e-04</td>\n",
       "      <td>1.799479e-03</td>\n",
       "      <td>9.849417e-06</td>\n",
       "    </tr>\n",
       "    <tr>\n",
       "      <th>191339</th>\n",
       "      <td>2.726385e-04</td>\n",
       "      <td>1.697028e-04</td>\n",
       "      <td>1.561677e-03</td>\n",
       "      <td>2.740557e-05</td>\n",
       "      <td>1.662639e-04</td>\n",
       "      <td>4.592289e-07</td>\n",
       "      <td>5.267921e-06</td>\n",
       "      <td>0.001406</td>\n",
       "      <td>3.433036e-05</td>\n",
       "      <td>4.477656e-03</td>\n",
       "      <td>1.662904e-03</td>\n",
       "      <td>4.594278e-05</td>\n",
       "      <td>...</td>\n",
       "      <td>3.634837e-04</td>\n",
       "      <td>0.069645</td>\n",
       "      <td>0.001504</td>\n",
       "      <td>1.726203e-02</td>\n",
       "      <td>2.078102e-02</td>\n",
       "      <td>0.018596</td>\n",
       "      <td>0.076789</td>\n",
       "      <td>0.009061</td>\n",
       "      <td>0.032076</td>\n",
       "      <td>1.100875e-02</td>\n",
       "      <td>1.882523e-03</td>\n",
       "      <td>1.757547e-03</td>\n",
       "    </tr>\n",
       "    <tr>\n",
       "      <th>191340</th>\n",
       "      <td>9.072709e-03</td>\n",
       "      <td>3.202324e-03</td>\n",
       "      <td>2.095081e-02</td>\n",
       "      <td>8.936829e-03</td>\n",
       "      <td>7.218909e-02</td>\n",
       "      <td>3.578591e-01</td>\n",
       "      <td>2.313164e-02</td>\n",
       "      <td>0.003893</td>\n",
       "      <td>7.414076e-04</td>\n",
       "      <td>5.734082e-03</td>\n",
       "      <td>3.587287e-03</td>\n",
       "      <td>7.727718e-04</td>\n",
       "      <td>...</td>\n",
       "      <td>5.889620e-03</td>\n",
       "      <td>0.211808</td>\n",
       "      <td>0.033039</td>\n",
       "      <td>7.118239e-03</td>\n",
       "      <td>2.946171e-02</td>\n",
       "      <td>0.075290</td>\n",
       "      <td>0.002118</td>\n",
       "      <td>0.002519</td>\n",
       "      <td>0.001605</td>\n",
       "      <td>4.700592e-03</td>\n",
       "      <td>6.342593e-04</td>\n",
       "      <td>1.980798e-02</td>\n",
       "    </tr>\n",
       "    <tr>\n",
       "      <th>191341</th>\n",
       "      <td>2.061600e-07</td>\n",
       "      <td>7.631963e-11</td>\n",
       "      <td>1.116958e-08</td>\n",
       "      <td>6.414685e-10</td>\n",
       "      <td>1.614864e-06</td>\n",
       "      <td>1.315548e-13</td>\n",
       "      <td>1.530989e-13</td>\n",
       "      <td>0.000005</td>\n",
       "      <td>3.557051e-09</td>\n",
       "      <td>6.216031e-07</td>\n",
       "      <td>3.006253e-08</td>\n",
       "      <td>9.524695e-10</td>\n",
       "      <td>...</td>\n",
       "      <td>3.824706e-09</td>\n",
       "      <td>0.001119</td>\n",
       "      <td>0.000002</td>\n",
       "      <td>4.998543e-07</td>\n",
       "      <td>6.783101e-08</td>\n",
       "      <td>0.000045</td>\n",
       "      <td>0.000227</td>\n",
       "      <td>0.000002</td>\n",
       "      <td>0.000005</td>\n",
       "      <td>2.250717e-08</td>\n",
       "      <td>2.903460e-07</td>\n",
       "      <td>3.237271e-07</td>\n",
       "    </tr>\n",
       "    <tr>\n",
       "      <th>191348</th>\n",
       "      <td>3.998384e-06</td>\n",
       "      <td>1.750740e-07</td>\n",
       "      <td>2.247403e-06</td>\n",
       "      <td>6.770277e-09</td>\n",
       "      <td>3.768252e-07</td>\n",
       "      <td>5.595597e-14</td>\n",
       "      <td>5.879467e-07</td>\n",
       "      <td>0.000218</td>\n",
       "      <td>1.222782e-06</td>\n",
       "      <td>7.339444e-05</td>\n",
       "      <td>1.970912e-06</td>\n",
       "      <td>3.894378e-05</td>\n",
       "      <td>...</td>\n",
       "      <td>3.607584e-06</td>\n",
       "      <td>0.000043</td>\n",
       "      <td>0.000002</td>\n",
       "      <td>4.477689e-05</td>\n",
       "      <td>1.070319e-05</td>\n",
       "      <td>0.000185</td>\n",
       "      <td>0.006743</td>\n",
       "      <td>0.050137</td>\n",
       "      <td>0.115169</td>\n",
       "      <td>1.444946e-04</td>\n",
       "      <td>4.770282e-02</td>\n",
       "      <td>8.289060e-05</td>\n",
       "    </tr>\n",
       "  </tbody>\n",
       "</table>\n",
       "<p>5 rows × 38 columns</p>\n",
       "</div>"
      ],
      "text/plain": [
       "               TripType_3    TripType_4    TripType_5    TripType_6  \\\n",
       "VisitNumber                                                           \n",
       "191338       2.127095e-05  2.965193e-06  7.244923e-05  6.731551e-06   \n",
       "191339       2.726385e-04  1.697028e-04  1.561677e-03  2.740557e-05   \n",
       "191340       9.072709e-03  3.202324e-03  2.095081e-02  8.936829e-03   \n",
       "191341       2.061600e-07  7.631963e-11  1.116958e-08  6.414685e-10   \n",
       "191348       3.998384e-06  1.750740e-07  2.247403e-06  6.770277e-09   \n",
       "\n",
       "               TripType_7    TripType_8    TripType_9  TripType_12  \\\n",
       "VisitNumber                                                          \n",
       "191338       3.768291e-06  1.442478e-07  7.603465e-10     0.000076   \n",
       "191339       1.662639e-04  4.592289e-07  5.267921e-06     0.001406   \n",
       "191340       7.218909e-02  3.578591e-01  2.313164e-02     0.003893   \n",
       "191341       1.614864e-06  1.315548e-13  1.530989e-13     0.000005   \n",
       "191348       3.768252e-07  5.595597e-14  5.879467e-07     0.000218   \n",
       "\n",
       "              TripType_14   TripType_15   TripType_18   TripType_19  \\\n",
       "VisitNumber                                                           \n",
       "191338       1.411356e-06  3.651266e-06  2.202940e-05  1.078761e-06   \n",
       "191339       3.433036e-05  4.477656e-03  1.662904e-03  4.594278e-05   \n",
       "191340       7.414076e-04  5.734082e-03  3.587287e-03  7.727718e-04   \n",
       "191341       3.557051e-09  6.216031e-07  3.006253e-08  9.524695e-10   \n",
       "191348       1.222782e-06  7.339444e-05  1.970912e-06  3.894378e-05   \n",
       "\n",
       "                 ...        TripType_34  TripType_35  TripType_36  \\\n",
       "VisitNumber      ...                                                \n",
       "191338           ...       4.453924e-06     0.126630     0.001142   \n",
       "191339           ...       3.634837e-04     0.069645     0.001504   \n",
       "191340           ...       5.889620e-03     0.211808     0.033039   \n",
       "191341           ...       3.824706e-09     0.001119     0.000002   \n",
       "191348           ...       3.607584e-06     0.000043     0.000002   \n",
       "\n",
       "              TripType_37   TripType_38  TripType_39  TripType_40  \\\n",
       "VisitNumber                                                         \n",
       "191338       5.647560e-04  4.331612e-03     0.014616     0.801643   \n",
       "191339       1.726203e-02  2.078102e-02     0.018596     0.076789   \n",
       "191340       7.118239e-03  2.946171e-02     0.075290     0.002118   \n",
       "191341       4.998543e-07  6.783101e-08     0.000045     0.000227   \n",
       "191348       4.477689e-05  1.070319e-05     0.000185     0.006743   \n",
       "\n",
       "             TripType_41  TripType_42   TripType_43   TripType_44  \\\n",
       "VisitNumber                                                         \n",
       "191338          0.000171     0.000011  1.419530e-04  1.799479e-03   \n",
       "191339          0.009061     0.032076  1.100875e-02  1.882523e-03   \n",
       "191340          0.002519     0.001605  4.700592e-03  6.342593e-04   \n",
       "191341          0.000002     0.000005  2.250717e-08  2.903460e-07   \n",
       "191348          0.050137     0.115169  1.444946e-04  4.770282e-02   \n",
       "\n",
       "             TripType_999  \n",
       "VisitNumber                \n",
       "191338       9.849417e-06  \n",
       "191339       1.757547e-03  \n",
       "191340       1.980798e-02  \n",
       "191341       3.237271e-07  \n",
       "191348       8.289060e-05  \n",
       "\n",
       "[5 rows x 38 columns]"
      ]
     },
     "execution_count": 65,
     "metadata": {},
     "output_type": "execute_result"
    }
   ],
   "source": [
    "subform_df_columns = samplesub.columns[1:]\n",
    "result_df = pd.DataFrame(result)\n",
    "result_df.columns = subform_df_columns\n",
    "subform_df = pd.concat([test.reset_index()['VisitNumber'],result_df],axis=1)\n",
    "subform_df.set_index('VisitNumber',inplace=True)\n",
    "subform_df.tail()"
   ]
  },
  {
   "cell_type": "code",
   "execution_count": 66,
   "metadata": {},
   "outputs": [],
   "source": [
    "subform_df.to_csv('./NN/Adam_bi_cro_den{}_lr{}_epo{}_batch_size{}.csv'\n",
    "                  .format(dense,lr,epochs,batch_size))"
   ]
  },
  {
   "cell_type": "markdown",
   "metadata": {},
   "source": [
    "## 모델저장"
   ]
  },
  {
   "cell_type": "code",
   "execution_count": 177,
   "metadata": {},
   "outputs": [],
   "source": [
    "NN_model_Adadelta.save('./NN/Adam_bi_cro_den{}_lr{}_epo{}_basi{}.hdf5'.format(dense,lr,epochs,batch_size))"
   ]
  },
  {
   "cell_type": "code",
   "execution_count": 178,
   "metadata": {},
   "outputs": [],
   "source": [
    "model = load_model('./NN/Adam_bi_cro_den{}_lr{}_epo{}_basi{}.hdf5'.format(dense,lr,epochs,batch_size))"
   ]
  },
  {
   "cell_type": "code",
   "execution_count": 179,
   "metadata": {
    "scrolled": true
   },
   "outputs": [
    {
     "data": {
      "text/plain": [
       "array([24, 32,  5, ..., 31,  0, 37])"
      ]
     },
     "execution_count": 179,
     "metadata": {},
     "output_type": "execute_result"
    }
   ],
   "source": [
    "model.predict_classes(X_test)"
   ]
  },
  {
   "cell_type": "code",
   "execution_count": null,
   "metadata": {},
   "outputs": [],
   "source": []
  }
 ],
 "metadata": {
  "kernelspec": {
   "display_name": "Python 3",
   "language": "python",
   "name": "python3"
  },
  "language_info": {
   "codemirror_mode": {
    "name": "ipython",
    "version": 3
   },
   "file_extension": ".py",
   "mimetype": "text/x-python",
   "name": "python",
   "nbconvert_exporter": "python",
   "pygments_lexer": "ipython3",
   "version": "3.6.4"
  }
 },
 "nbformat": 4,
 "nbformat_minor": 2
}
