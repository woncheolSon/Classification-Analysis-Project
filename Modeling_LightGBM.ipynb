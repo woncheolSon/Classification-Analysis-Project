{
 "cells": [
  {
   "cell_type": "code",
   "execution_count": 79,
   "metadata": {
    "scrolled": false
   },
   "outputs": [],
   "source": [
    "import numpy as np\n",
    "import pandas as pd\n",
    "pd.set_option('max_rows',38)\n",
    "pd.set_option('max_columns',25)\n",
    "import time\n",
    "import pickle\n",
    "import myslack\n",
    "\n",
    "# model\n",
    "from sklearn.externals import joblib\n",
    "from scipy.sparse import csr_matrix\n",
    "from sklearn.tree import DecisionTreeClassifier\n",
    "from sklearn.linear_model import LogisticRegression\n",
    "from sklearn.naive_bayes import MultinomialNB\n",
    "from sklearn.metrics import confusion_matrix\n",
    "from sklearn.ensemble import BaggingClassifier\n",
    "from sklearn.ensemble import GradientBoostingClassifier\n",
    "from sklearn.ensemble import GradientBoostingRegressor\n",
    "from sklearn.ensemble import RandomForestClassifier\n",
    "from sklearn.ensemble import ExtraTreesClassifier\n",
    "import xgboost\n",
    "import lightgbm\n",
    "from sklearn.model_selection import GridSearchCV\n",
    "from sklearn.pipeline import Pipeline\n",
    "from sklearn.svm import SVC\n",
    "from sklearn.model_selection import train_test_split\n",
    "from sklearn.model_selection import validation_curve\n",
    "from sklearn.model_selection import KFold, cross_val_score\n",
    "from sklearn.metrics import classification_report"
   ]
  },
  {
   "cell_type": "markdown",
   "metadata": {},
   "source": [
    "# Data Check"
   ]
  },
  {
   "cell_type": "markdown",
   "metadata": {},
   "source": [
    "#### - train.csv"
   ]
  },
  {
   "cell_type": "code",
   "execution_count": 3,
   "metadata": {
    "scrolled": true
   },
   "outputs": [
    {
     "name": "stdout",
     "output_type": "stream",
     "text": [
      "test data shape: (95674, 5494)\n",
      "CPU times: user 200 ms, sys: 626 ms, total: 825 ms\n",
      "Wall time: 839 ms\n"
     ]
    }
   ],
   "source": [
    "%%time\n",
    "train = pickle.load(open(\"./data/final_train_Ver3.pkl\", \"rb\"))\n",
    "print(\"test data shape: \"+str(train.shape))"
   ]
  },
  {
   "cell_type": "markdown",
   "metadata": {},
   "source": [
    "#### - test.csv"
   ]
  },
  {
   "cell_type": "code",
   "execution_count": 4,
   "metadata": {},
   "outputs": [
    {
     "name": "stdout",
     "output_type": "stream",
     "text": [
      "test data shape: (95674, 5493)\n"
     ]
    }
   ],
   "source": [
    "# %%time\n",
    "test = pickle.load(open(\"./data/final_test_Ver3.pkl\", \"rb\"))\n",
    "print(\"test data shape: \"+str(test.shape))"
   ]
  },
  {
   "cell_type": "markdown",
   "metadata": {},
   "source": [
    "---"
   ]
  },
  {
   "cell_type": "markdown",
   "metadata": {},
   "source": [
    "# Ver3 : use Dmatrix"
   ]
  },
  {
   "cell_type": "markdown",
   "metadata": {},
   "source": [
    "# Modeling 6 - LightGBM"
   ]
  },
  {
   "cell_type": "code",
   "execution_count": 5,
   "metadata": {},
   "outputs": [],
   "source": [
    "# in test, not in train\n",
    "not_in_train = [i for i in test.columns if i not in train.columns[1:]]"
   ]
  },
  {
   "cell_type": "code",
   "execution_count": 6,
   "metadata": {},
   "outputs": [],
   "source": [
    "# in train, not in test\n",
    "not_in_test = [i for i in train.columns[1:] if i not in test.columns]"
   ]
  },
  {
   "cell_type": "code",
   "execution_count": 7,
   "metadata": {},
   "outputs": [
    {
     "data": {
      "text/plain": [
       "328"
      ]
     },
     "execution_count": 7,
     "metadata": {},
     "output_type": "execute_result"
    }
   ],
   "source": [
    "len(not_in_train)"
   ]
  },
  {
   "cell_type": "code",
   "execution_count": 8,
   "metadata": {},
   "outputs": [
    {
     "data": {
      "text/plain": [
       "328"
      ]
     },
     "execution_count": 8,
     "metadata": {},
     "output_type": "execute_result"
    }
   ],
   "source": [
    "len(not_in_test)"
   ]
  },
  {
   "cell_type": "code",
   "execution_count": 9,
   "metadata": {},
   "outputs": [],
   "source": [
    "train.drop(columns=not_in_test,inplace=True)"
   ]
  },
  {
   "cell_type": "code",
   "execution_count": 10,
   "metadata": {},
   "outputs": [
    {
     "data": {
      "text/plain": [
       "(95674, 5166)"
      ]
     },
     "execution_count": 10,
     "metadata": {},
     "output_type": "execute_result"
    }
   ],
   "source": [
    "train.shape"
   ]
  },
  {
   "cell_type": "code",
   "execution_count": 11,
   "metadata": {},
   "outputs": [],
   "source": [
    "test.drop(columns=not_in_train,inplace=True)"
   ]
  },
  {
   "cell_type": "code",
   "execution_count": 12,
   "metadata": {},
   "outputs": [
    {
     "data": {
      "text/plain": [
       "(95674, 5165)"
      ]
     },
     "execution_count": 12,
     "metadata": {},
     "output_type": "execute_result"
    }
   ],
   "source": [
    "test.shape"
   ]
  },
  {
   "cell_type": "markdown",
   "metadata": {},
   "source": [
    "### Train_X, Train_y"
   ]
  },
  {
   "cell_type": "code",
   "execution_count": 13,
   "metadata": {},
   "outputs": [],
   "source": [
    "X = train.drop(columns='TripType')"
   ]
  },
  {
   "cell_type": "code",
   "execution_count": 14,
   "metadata": {},
   "outputs": [],
   "source": [
    "y = train['TripType']"
   ]
  },
  {
   "cell_type": "code",
   "execution_count": 15,
   "metadata": {},
   "outputs": [],
   "source": [
    "from sklearn.preprocessing import LabelEncoder\n",
    "label_enc = LabelEncoder().fit(y)\n",
    "y_labeled = label_enc.transform(y)"
   ]
  },
  {
   "cell_type": "code",
   "execution_count": 16,
   "metadata": {},
   "outputs": [
    {
     "data": {
      "text/plain": [
       "38"
      ]
     },
     "execution_count": 16,
     "metadata": {},
     "output_type": "execute_result"
    }
   ],
   "source": [
    "len(pd.Series(y_labeled).unique())"
   ]
  },
  {
   "cell_type": "code",
   "execution_count": 108,
   "metadata": {},
   "outputs": [],
   "source": [
    "X_train, X_test, y_train, y_test = train_test_split(X, y_labeled, test_size=0.1, random_state=0)"
   ]
  },
  {
   "cell_type": "code",
   "execution_count": 109,
   "metadata": {},
   "outputs": [],
   "source": [
    "X_train = csr_matrix(X_train.values)\n",
    "X_test = csr_matrix(X_test.values)"
   ]
  },
  {
   "cell_type": "code",
   "execution_count": 152,
   "metadata": {
    "scrolled": true
   },
   "outputs": [
    {
     "name": "stdout",
     "output_type": "stream",
     "text": [
      "[1]\tvalid_0's multi_logloss: 3.4387\n",
      "Training until validation scores don't improve for 20 rounds.\n",
      "[2]\tvalid_0's multi_logloss: 3.28717\n",
      "[3]\tvalid_0's multi_logloss: 3.16212\n",
      "[4]\tvalid_0's multi_logloss: 3.05413\n",
      "[5]\tvalid_0's multi_logloss: 2.96012\n",
      "[6]\tvalid_0's multi_logloss: 2.87578\n",
      "[7]\tvalid_0's multi_logloss: 2.7996\n",
      "[8]\tvalid_0's multi_logloss: 2.72978\n",
      "[9]\tvalid_0's multi_logloss: 2.66621\n",
      "[10]\tvalid_0's multi_logloss: 2.60696\n",
      "[11]\tvalid_0's multi_logloss: 2.55164\n",
      "[12]\tvalid_0's multi_logloss: 2.50001\n",
      "[13]\tvalid_0's multi_logloss: 2.45157\n",
      "[14]\tvalid_0's multi_logloss: 2.40608\n",
      "[15]\tvalid_0's multi_logloss: 2.36247\n",
      "[16]\tvalid_0's multi_logloss: 2.32138\n",
      "[17]\tvalid_0's multi_logloss: 2.28246\n",
      "[18]\tvalid_0's multi_logloss: 2.2451\n",
      "[19]\tvalid_0's multi_logloss: 2.20932\n",
      "[20]\tvalid_0's multi_logloss: 2.17505\n",
      "[21]\tvalid_0's multi_logloss: 2.14234\n",
      "[22]\tvalid_0's multi_logloss: 2.11079\n",
      "[23]\tvalid_0's multi_logloss: 2.08069\n",
      "[24]\tvalid_0's multi_logloss: 2.05167\n",
      "[25]\tvalid_0's multi_logloss: 2.02365\n",
      "[26]\tvalid_0's multi_logloss: 1.9967\n",
      "[27]\tvalid_0's multi_logloss: 1.97084\n",
      "[28]\tvalid_0's multi_logloss: 1.94578\n",
      "[29]\tvalid_0's multi_logloss: 1.92156\n",
      "[30]\tvalid_0's multi_logloss: 1.89813\n",
      "[31]\tvalid_0's multi_logloss: 1.87544\n",
      "[32]\tvalid_0's multi_logloss: 1.85345\n",
      "[33]\tvalid_0's multi_logloss: 1.83216\n",
      "[34]\tvalid_0's multi_logloss: 1.81143\n",
      "[35]\tvalid_0's multi_logloss: 1.79132\n",
      "[36]\tvalid_0's multi_logloss: 1.7718\n",
      "[37]\tvalid_0's multi_logloss: 1.75292\n",
      "[38]\tvalid_0's multi_logloss: 1.73449\n",
      "[39]\tvalid_0's multi_logloss: 1.71645\n",
      "[40]\tvalid_0's multi_logloss: 1.69887\n",
      "[41]\tvalid_0's multi_logloss: 1.68191\n",
      "[42]\tvalid_0's multi_logloss: 1.66521\n",
      "[43]\tvalid_0's multi_logloss: 1.64916\n",
      "[44]\tvalid_0's multi_logloss: 1.6333\n",
      "[45]\tvalid_0's multi_logloss: 1.61791\n",
      "[46]\tvalid_0's multi_logloss: 1.60286\n",
      "[47]\tvalid_0's multi_logloss: 1.58836\n",
      "[48]\tvalid_0's multi_logloss: 1.57411\n",
      "[49]\tvalid_0's multi_logloss: 1.56014\n",
      "[50]\tvalid_0's multi_logloss: 1.54647\n",
      "[51]\tvalid_0's multi_logloss: 1.53316\n",
      "[52]\tvalid_0's multi_logloss: 1.52019\n",
      "[53]\tvalid_0's multi_logloss: 1.50744\n",
      "[54]\tvalid_0's multi_logloss: 1.495\n",
      "[55]\tvalid_0's multi_logloss: 1.48295\n",
      "[56]\tvalid_0's multi_logloss: 1.47119\n",
      "[57]\tvalid_0's multi_logloss: 1.45966\n",
      "[58]\tvalid_0's multi_logloss: 1.44832\n",
      "[59]\tvalid_0's multi_logloss: 1.43719\n",
      "[60]\tvalid_0's multi_logloss: 1.42638\n",
      "[61]\tvalid_0's multi_logloss: 1.41577\n",
      "[62]\tvalid_0's multi_logloss: 1.40554\n",
      "[63]\tvalid_0's multi_logloss: 1.39536\n",
      "[64]\tvalid_0's multi_logloss: 1.38535\n",
      "[65]\tvalid_0's multi_logloss: 1.37563\n",
      "[66]\tvalid_0's multi_logloss: 1.36598\n",
      "[67]\tvalid_0's multi_logloss: 1.35655\n",
      "[68]\tvalid_0's multi_logloss: 1.3473\n",
      "[69]\tvalid_0's multi_logloss: 1.33831\n",
      "[70]\tvalid_0's multi_logloss: 1.32938\n",
      "[71]\tvalid_0's multi_logloss: 1.32063\n",
      "[72]\tvalid_0's multi_logloss: 1.31207\n",
      "[73]\tvalid_0's multi_logloss: 1.3037\n",
      "[74]\tvalid_0's multi_logloss: 1.29543\n",
      "[75]\tvalid_0's multi_logloss: 1.28736\n",
      "[76]\tvalid_0's multi_logloss: 1.27943\n",
      "[77]\tvalid_0's multi_logloss: 1.2717\n",
      "[78]\tvalid_0's multi_logloss: 1.264\n",
      "[79]\tvalid_0's multi_logloss: 1.25654\n",
      "[80]\tvalid_0's multi_logloss: 1.24909\n",
      "[81]\tvalid_0's multi_logloss: 1.24185\n",
      "[82]\tvalid_0's multi_logloss: 1.23474\n",
      "[83]\tvalid_0's multi_logloss: 1.2278\n",
      "[84]\tvalid_0's multi_logloss: 1.22097\n",
      "[85]\tvalid_0's multi_logloss: 1.21423\n",
      "[86]\tvalid_0's multi_logloss: 1.20751\n",
      "[87]\tvalid_0's multi_logloss: 1.20099\n",
      "[88]\tvalid_0's multi_logloss: 1.19453\n",
      "[89]\tvalid_0's multi_logloss: 1.18819\n",
      "[90]\tvalid_0's multi_logloss: 1.18202\n",
      "[91]\tvalid_0's multi_logloss: 1.17591\n",
      "[92]\tvalid_0's multi_logloss: 1.16987\n",
      "[93]\tvalid_0's multi_logloss: 1.16395\n",
      "[94]\tvalid_0's multi_logloss: 1.1581\n",
      "[95]\tvalid_0's multi_logloss: 1.15238\n",
      "[96]\tvalid_0's multi_logloss: 1.14672\n",
      "[97]\tvalid_0's multi_logloss: 1.14127\n",
      "[98]\tvalid_0's multi_logloss: 1.13589\n",
      "[99]\tvalid_0's multi_logloss: 1.13055\n",
      "[100]\tvalid_0's multi_logloss: 1.12531\n",
      "[101]\tvalid_0's multi_logloss: 1.1202\n",
      "[102]\tvalid_0's multi_logloss: 1.1152\n",
      "[103]\tvalid_0's multi_logloss: 1.11019\n",
      "[104]\tvalid_0's multi_logloss: 1.10527\n",
      "[105]\tvalid_0's multi_logloss: 1.10038\n",
      "[106]\tvalid_0's multi_logloss: 1.09552\n",
      "[107]\tvalid_0's multi_logloss: 1.09081\n",
      "[108]\tvalid_0's multi_logloss: 1.08609\n",
      "[109]\tvalid_0's multi_logloss: 1.08152\n",
      "[110]\tvalid_0's multi_logloss: 1.07697\n",
      "[111]\tvalid_0's multi_logloss: 1.07243\n",
      "[112]\tvalid_0's multi_logloss: 1.06806\n",
      "[113]\tvalid_0's multi_logloss: 1.06376\n",
      "[114]\tvalid_0's multi_logloss: 1.05946\n",
      "[115]\tvalid_0's multi_logloss: 1.05533\n",
      "[116]\tvalid_0's multi_logloss: 1.05117\n",
      "[117]\tvalid_0's multi_logloss: 1.04703\n",
      "[118]\tvalid_0's multi_logloss: 1.04306\n",
      "[119]\tvalid_0's multi_logloss: 1.03919\n",
      "[120]\tvalid_0's multi_logloss: 1.03531\n",
      "[121]\tvalid_0's multi_logloss: 1.03147\n",
      "[122]\tvalid_0's multi_logloss: 1.02774\n",
      "[123]\tvalid_0's multi_logloss: 1.02405\n",
      "[124]\tvalid_0's multi_logloss: 1.02041\n",
      "[125]\tvalid_0's multi_logloss: 1.01681\n",
      "[126]\tvalid_0's multi_logloss: 1.01332\n",
      "[127]\tvalid_0's multi_logloss: 1.00971\n",
      "[128]\tvalid_0's multi_logloss: 1.00626\n",
      "[129]\tvalid_0's multi_logloss: 1.00285\n",
      "[130]\tvalid_0's multi_logloss: 0.999433\n",
      "[131]\tvalid_0's multi_logloss: 0.996114\n",
      "[132]\tvalid_0's multi_logloss: 0.99285\n",
      "[133]\tvalid_0's multi_logloss: 0.989569\n",
      "[134]\tvalid_0's multi_logloss: 0.986425\n",
      "[135]\tvalid_0's multi_logloss: 0.983304\n",
      "[136]\tvalid_0's multi_logloss: 0.980165\n",
      "[137]\tvalid_0's multi_logloss: 0.977181\n",
      "[138]\tvalid_0's multi_logloss: 0.974188\n",
      "[139]\tvalid_0's multi_logloss: 0.971224\n",
      "[140]\tvalid_0's multi_logloss: 0.968358\n",
      "[141]\tvalid_0's multi_logloss: 0.965521\n",
      "[142]\tvalid_0's multi_logloss: 0.962636\n",
      "[143]\tvalid_0's multi_logloss: 0.959811\n",
      "[144]\tvalid_0's multi_logloss: 0.957003\n",
      "[145]\tvalid_0's multi_logloss: 0.954159\n",
      "[146]\tvalid_0's multi_logloss: 0.951401\n",
      "[147]\tvalid_0's multi_logloss: 0.948661\n",
      "[148]\tvalid_0's multi_logloss: 0.945936\n",
      "[149]\tvalid_0's multi_logloss: 0.94335\n",
      "[150]\tvalid_0's multi_logloss: 0.940661\n",
      "[151]\tvalid_0's multi_logloss: 0.938165\n",
      "[152]\tvalid_0's multi_logloss: 0.935634\n",
      "[153]\tvalid_0's multi_logloss: 0.933148\n",
      "[154]\tvalid_0's multi_logloss: 0.930685\n",
      "[155]\tvalid_0's multi_logloss: 0.92828\n",
      "[156]\tvalid_0's multi_logloss: 0.925843\n",
      "[157]\tvalid_0's multi_logloss: 0.923448\n",
      "[158]\tvalid_0's multi_logloss: 0.921068\n",
      "[159]\tvalid_0's multi_logloss: 0.918723\n",
      "[160]\tvalid_0's multi_logloss: 0.916467\n",
      "[161]\tvalid_0's multi_logloss: 0.914196\n",
      "[162]\tvalid_0's multi_logloss: 0.911983\n",
      "[163]\tvalid_0's multi_logloss: 0.90988\n",
      "[164]\tvalid_0's multi_logloss: 0.907756\n",
      "[165]\tvalid_0's multi_logloss: 0.905615\n",
      "[166]\tvalid_0's multi_logloss: 0.903484\n",
      "[167]\tvalid_0's multi_logloss: 0.901351\n",
      "[168]\tvalid_0's multi_logloss: 0.899308\n",
      "[169]\tvalid_0's multi_logloss: 0.897358\n",
      "[170]\tvalid_0's multi_logloss: 0.895275\n",
      "[171]\tvalid_0's multi_logloss: 0.89327\n",
      "[172]\tvalid_0's multi_logloss: 0.891311\n",
      "[173]\tvalid_0's multi_logloss: 0.889313\n",
      "[174]\tvalid_0's multi_logloss: 0.887403\n",
      "[175]\tvalid_0's multi_logloss: 0.885459\n",
      "[176]\tvalid_0's multi_logloss: 0.883583\n",
      "[177]\tvalid_0's multi_logloss: 0.881787\n",
      "[178]\tvalid_0's multi_logloss: 0.879852\n",
      "[179]\tvalid_0's multi_logloss: 0.878003\n",
      "[180]\tvalid_0's multi_logloss: 0.876221\n",
      "[181]\tvalid_0's multi_logloss: 0.874471\n",
      "[182]\tvalid_0's multi_logloss: 0.872714\n",
      "[183]\tvalid_0's multi_logloss: 0.870998\n",
      "[184]\tvalid_0's multi_logloss: 0.86926\n",
      "[185]\tvalid_0's multi_logloss: 0.867581\n",
      "[186]\tvalid_0's multi_logloss: 0.865873\n",
      "[187]\tvalid_0's multi_logloss: 0.864243\n",
      "[188]\tvalid_0's multi_logloss: 0.862592\n",
      "[189]\tvalid_0's multi_logloss: 0.860987\n",
      "[190]\tvalid_0's multi_logloss: 0.859449\n",
      "[191]\tvalid_0's multi_logloss: 0.857847\n",
      "[192]\tvalid_0's multi_logloss: 0.856334\n",
      "[193]\tvalid_0's multi_logloss: 0.854773\n",
      "[194]\tvalid_0's multi_logloss: 0.853246\n",
      "[195]\tvalid_0's multi_logloss: 0.851705\n",
      "[196]\tvalid_0's multi_logloss: 0.850255\n",
      "[197]\tvalid_0's multi_logloss: 0.848768\n",
      "[198]\tvalid_0's multi_logloss: 0.847358\n",
      "[199]\tvalid_0's multi_logloss: 0.845912\n",
      "[200]\tvalid_0's multi_logloss: 0.844482\n",
      "[201]\tvalid_0's multi_logloss: 0.843063\n",
      "[202]\tvalid_0's multi_logloss: 0.841735\n",
      "[203]\tvalid_0's multi_logloss: 0.840391\n",
      "[204]\tvalid_0's multi_logloss: 0.839062\n",
      "[205]\tvalid_0's multi_logloss: 0.837769\n",
      "[206]\tvalid_0's multi_logloss: 0.836475\n",
      "[207]\tvalid_0's multi_logloss: 0.835184\n",
      "[208]\tvalid_0's multi_logloss: 0.833924\n",
      "[209]\tvalid_0's multi_logloss: 0.832643\n",
      "[210]\tvalid_0's multi_logloss: 0.831343\n"
     ]
    },
    {
     "name": "stdout",
     "output_type": "stream",
     "text": [
      "[211]\tvalid_0's multi_logloss: 0.830115\n",
      "[212]\tvalid_0's multi_logloss: 0.828909\n",
      "[213]\tvalid_0's multi_logloss: 0.827706\n",
      "[214]\tvalid_0's multi_logloss: 0.826465\n",
      "[215]\tvalid_0's multi_logloss: 0.825256\n",
      "[216]\tvalid_0's multi_logloss: 0.824066\n",
      "[217]\tvalid_0's multi_logloss: 0.8229\n",
      "[218]\tvalid_0's multi_logloss: 0.821723\n",
      "[219]\tvalid_0's multi_logloss: 0.820623\n",
      "[220]\tvalid_0's multi_logloss: 0.819467\n",
      "[221]\tvalid_0's multi_logloss: 0.818277\n",
      "[222]\tvalid_0's multi_logloss: 0.817161\n",
      "[223]\tvalid_0's multi_logloss: 0.816087\n",
      "[224]\tvalid_0's multi_logloss: 0.814979\n",
      "[225]\tvalid_0's multi_logloss: 0.813941\n",
      "[226]\tvalid_0's multi_logloss: 0.812888\n",
      "[227]\tvalid_0's multi_logloss: 0.811834\n",
      "[228]\tvalid_0's multi_logloss: 0.810763\n",
      "[229]\tvalid_0's multi_logloss: 0.809757\n",
      "[230]\tvalid_0's multi_logloss: 0.808716\n",
      "[231]\tvalid_0's multi_logloss: 0.807679\n",
      "[232]\tvalid_0's multi_logloss: 0.806672\n",
      "[233]\tvalid_0's multi_logloss: 0.805604\n",
      "[234]\tvalid_0's multi_logloss: 0.804617\n",
      "[235]\tvalid_0's multi_logloss: 0.803588\n",
      "[236]\tvalid_0's multi_logloss: 0.802578\n",
      "[237]\tvalid_0's multi_logloss: 0.801645\n",
      "[238]\tvalid_0's multi_logloss: 0.800661\n",
      "[239]\tvalid_0's multi_logloss: 0.799681\n",
      "[240]\tvalid_0's multi_logloss: 0.798701\n",
      "[241]\tvalid_0's multi_logloss: 0.79783\n",
      "[242]\tvalid_0's multi_logloss: 0.796911\n",
      "[243]\tvalid_0's multi_logloss: 0.795992\n",
      "[244]\tvalid_0's multi_logloss: 0.795091\n",
      "[245]\tvalid_0's multi_logloss: 0.794148\n",
      "[246]\tvalid_0's multi_logloss: 0.793251\n",
      "[247]\tvalid_0's multi_logloss: 0.7924\n",
      "[248]\tvalid_0's multi_logloss: 0.791527\n",
      "[249]\tvalid_0's multi_logloss: 0.790615\n",
      "[250]\tvalid_0's multi_logloss: 0.789734\n",
      "[251]\tvalid_0's multi_logloss: 0.788845\n",
      "[252]\tvalid_0's multi_logloss: 0.78801\n",
      "[253]\tvalid_0's multi_logloss: 0.787144\n",
      "[254]\tvalid_0's multi_logloss: 0.786329\n",
      "[255]\tvalid_0's multi_logloss: 0.785495\n",
      "[256]\tvalid_0's multi_logloss: 0.784686\n",
      "[257]\tvalid_0's multi_logloss: 0.783862\n",
      "[258]\tvalid_0's multi_logloss: 0.783089\n",
      "[259]\tvalid_0's multi_logloss: 0.782249\n",
      "[260]\tvalid_0's multi_logloss: 0.78147\n",
      "[261]\tvalid_0's multi_logloss: 0.780701\n",
      "[262]\tvalid_0's multi_logloss: 0.779876\n",
      "[263]\tvalid_0's multi_logloss: 0.779122\n",
      "[264]\tvalid_0's multi_logloss: 0.778416\n",
      "[265]\tvalid_0's multi_logloss: 0.777637\n",
      "[266]\tvalid_0's multi_logloss: 0.776897\n",
      "[267]\tvalid_0's multi_logloss: 0.776176\n",
      "[268]\tvalid_0's multi_logloss: 0.775467\n",
      "[269]\tvalid_0's multi_logloss: 0.774746\n",
      "[270]\tvalid_0's multi_logloss: 0.773993\n",
      "[271]\tvalid_0's multi_logloss: 0.773328\n",
      "[272]\tvalid_0's multi_logloss: 0.772603\n",
      "[273]\tvalid_0's multi_logloss: 0.771863\n",
      "[274]\tvalid_0's multi_logloss: 0.771113\n",
      "[275]\tvalid_0's multi_logloss: 0.770426\n",
      "[276]\tvalid_0's multi_logloss: 0.769721\n",
      "[277]\tvalid_0's multi_logloss: 0.769027\n",
      "[278]\tvalid_0's multi_logloss: 0.768403\n",
      "[279]\tvalid_0's multi_logloss: 0.767693\n",
      "[280]\tvalid_0's multi_logloss: 0.767017\n",
      "[281]\tvalid_0's multi_logloss: 0.76635\n",
      "[282]\tvalid_0's multi_logloss: 0.76569\n",
      "[283]\tvalid_0's multi_logloss: 0.765027\n",
      "[284]\tvalid_0's multi_logloss: 0.764377\n",
      "[285]\tvalid_0's multi_logloss: 0.763729\n",
      "[286]\tvalid_0's multi_logloss: 0.763103\n",
      "[287]\tvalid_0's multi_logloss: 0.762501\n",
      "[288]\tvalid_0's multi_logloss: 0.761943\n",
      "[289]\tvalid_0's multi_logloss: 0.761294\n",
      "[290]\tvalid_0's multi_logloss: 0.760687\n",
      "[291]\tvalid_0's multi_logloss: 0.760092\n",
      "[292]\tvalid_0's multi_logloss: 0.759456\n",
      "[293]\tvalid_0's multi_logloss: 0.758877\n",
      "[294]\tvalid_0's multi_logloss: 0.758225\n",
      "[295]\tvalid_0's multi_logloss: 0.757652\n",
      "[296]\tvalid_0's multi_logloss: 0.757092\n",
      "[297]\tvalid_0's multi_logloss: 0.756536\n",
      "[298]\tvalid_0's multi_logloss: 0.755935\n",
      "[299]\tvalid_0's multi_logloss: 0.755399\n",
      "[300]\tvalid_0's multi_logloss: 0.754861\n",
      "[301]\tvalid_0's multi_logloss: 0.754309\n",
      "[302]\tvalid_0's multi_logloss: 0.753731\n",
      "[303]\tvalid_0's multi_logloss: 0.753154\n",
      "[304]\tvalid_0's multi_logloss: 0.752591\n",
      "[305]\tvalid_0's multi_logloss: 0.75204\n",
      "[306]\tvalid_0's multi_logloss: 0.75148\n",
      "[307]\tvalid_0's multi_logloss: 0.750926\n",
      "[308]\tvalid_0's multi_logloss: 0.75038\n",
      "[309]\tvalid_0's multi_logloss: 0.7498\n",
      "[310]\tvalid_0's multi_logloss: 0.749246\n",
      "[311]\tvalid_0's multi_logloss: 0.748696\n",
      "[312]\tvalid_0's multi_logloss: 0.748209\n",
      "[313]\tvalid_0's multi_logloss: 0.747692\n",
      "[314]\tvalid_0's multi_logloss: 0.74715\n",
      "[315]\tvalid_0's multi_logloss: 0.746625\n",
      "[316]\tvalid_0's multi_logloss: 0.74616\n",
      "[317]\tvalid_0's multi_logloss: 0.745674\n",
      "[318]\tvalid_0's multi_logloss: 0.745148\n",
      "[319]\tvalid_0's multi_logloss: 0.744629\n",
      "[320]\tvalid_0's multi_logloss: 0.744162\n",
      "[321]\tvalid_0's multi_logloss: 0.743656\n",
      "[322]\tvalid_0's multi_logloss: 0.743224\n",
      "[323]\tvalid_0's multi_logloss: 0.742697\n",
      "[324]\tvalid_0's multi_logloss: 0.742199\n",
      "[325]\tvalid_0's multi_logloss: 0.741736\n",
      "[326]\tvalid_0's multi_logloss: 0.741286\n",
      "[327]\tvalid_0's multi_logloss: 0.740807\n",
      "[328]\tvalid_0's multi_logloss: 0.740345\n",
      "[329]\tvalid_0's multi_logloss: 0.739854\n",
      "[330]\tvalid_0's multi_logloss: 0.739469\n",
      "[331]\tvalid_0's multi_logloss: 0.739001\n",
      "[332]\tvalid_0's multi_logloss: 0.738538\n",
      "[333]\tvalid_0's multi_logloss: 0.738056\n",
      "[334]\tvalid_0's multi_logloss: 0.73764\n",
      "[335]\tvalid_0's multi_logloss: 0.737196\n",
      "[336]\tvalid_0's multi_logloss: 0.736804\n",
      "[337]\tvalid_0's multi_logloss: 0.736352\n",
      "[338]\tvalid_0's multi_logloss: 0.735907\n",
      "[339]\tvalid_0's multi_logloss: 0.735503\n",
      "[340]\tvalid_0's multi_logloss: 0.735051\n",
      "[341]\tvalid_0's multi_logloss: 0.734609\n",
      "[342]\tvalid_0's multi_logloss: 0.734192\n",
      "[343]\tvalid_0's multi_logloss: 0.733747\n",
      "[344]\tvalid_0's multi_logloss: 0.733352\n",
      "[345]\tvalid_0's multi_logloss: 0.73298\n",
      "[346]\tvalid_0's multi_logloss: 0.732572\n",
      "[347]\tvalid_0's multi_logloss: 0.732138\n",
      "[348]\tvalid_0's multi_logloss: 0.731727\n",
      "[349]\tvalid_0's multi_logloss: 0.731392\n",
      "[350]\tvalid_0's multi_logloss: 0.73098\n",
      "[351]\tvalid_0's multi_logloss: 0.730621\n",
      "[352]\tvalid_0's multi_logloss: 0.730208\n",
      "[353]\tvalid_0's multi_logloss: 0.729818\n",
      "[354]\tvalid_0's multi_logloss: 0.729461\n",
      "[355]\tvalid_0's multi_logloss: 0.729079\n",
      "[356]\tvalid_0's multi_logloss: 0.728688\n",
      "[357]\tvalid_0's multi_logloss: 0.728355\n",
      "[358]\tvalid_0's multi_logloss: 0.727975\n",
      "[359]\tvalid_0's multi_logloss: 0.727558\n",
      "[360]\tvalid_0's multi_logloss: 0.727162\n",
      "[361]\tvalid_0's multi_logloss: 0.726746\n",
      "[362]\tvalid_0's multi_logloss: 0.726357\n",
      "[363]\tvalid_0's multi_logloss: 0.725989\n",
      "[364]\tvalid_0's multi_logloss: 0.72564\n",
      "[365]\tvalid_0's multi_logloss: 0.72531\n",
      "[366]\tvalid_0's multi_logloss: 0.724939\n",
      "[367]\tvalid_0's multi_logloss: 0.724549\n",
      "[368]\tvalid_0's multi_logloss: 0.724186\n",
      "[369]\tvalid_0's multi_logloss: 0.72381\n",
      "[370]\tvalid_0's multi_logloss: 0.723461\n",
      "[371]\tvalid_0's multi_logloss: 0.723111\n",
      "[372]\tvalid_0's multi_logloss: 0.72278\n",
      "[373]\tvalid_0's multi_logloss: 0.72242\n",
      "[374]\tvalid_0's multi_logloss: 0.722062\n",
      "[375]\tvalid_0's multi_logloss: 0.721661\n",
      "[376]\tvalid_0's multi_logloss: 0.721289\n",
      "[377]\tvalid_0's multi_logloss: 0.720971\n",
      "[378]\tvalid_0's multi_logloss: 0.720669\n",
      "[379]\tvalid_0's multi_logloss: 0.720312\n",
      "[380]\tvalid_0's multi_logloss: 0.719984\n",
      "[381]\tvalid_0's multi_logloss: 0.71964\n",
      "[382]\tvalid_0's multi_logloss: 0.719327\n",
      "[383]\tvalid_0's multi_logloss: 0.718985\n",
      "[384]\tvalid_0's multi_logloss: 0.718666\n",
      "[385]\tvalid_0's multi_logloss: 0.718361\n",
      "[386]\tvalid_0's multi_logloss: 0.718004\n",
      "[387]\tvalid_0's multi_logloss: 0.717704\n",
      "[388]\tvalid_0's multi_logloss: 0.717402\n",
      "[389]\tvalid_0's multi_logloss: 0.717088\n",
      "[390]\tvalid_0's multi_logloss: 0.716766\n",
      "[391]\tvalid_0's multi_logloss: 0.716436\n",
      "[392]\tvalid_0's multi_logloss: 0.716103\n",
      "[393]\tvalid_0's multi_logloss: 0.715791\n",
      "[394]\tvalid_0's multi_logloss: 0.715506\n",
      "[395]\tvalid_0's multi_logloss: 0.715173\n",
      "[396]\tvalid_0's multi_logloss: 0.714849\n",
      "[397]\tvalid_0's multi_logloss: 0.714596\n",
      "[398]\tvalid_0's multi_logloss: 0.714281\n",
      "[399]\tvalid_0's multi_logloss: 0.713973\n",
      "[400]\tvalid_0's multi_logloss: 0.713668\n",
      "[401]\tvalid_0's multi_logloss: 0.713371\n",
      "[402]\tvalid_0's multi_logloss: 0.713097\n",
      "[403]\tvalid_0's multi_logloss: 0.712799\n",
      "[404]\tvalid_0's multi_logloss: 0.712553\n",
      "[405]\tvalid_0's multi_logloss: 0.712261\n",
      "[406]\tvalid_0's multi_logloss: 0.71197\n",
      "[407]\tvalid_0's multi_logloss: 0.71169\n",
      "[408]\tvalid_0's multi_logloss: 0.711415\n",
      "[409]\tvalid_0's multi_logloss: 0.711122\n",
      "[410]\tvalid_0's multi_logloss: 0.710853\n",
      "[411]\tvalid_0's multi_logloss: 0.710626\n",
      "[412]\tvalid_0's multi_logloss: 0.710329\n",
      "[413]\tvalid_0's multi_logloss: 0.710073\n",
      "[414]\tvalid_0's multi_logloss: 0.709846\n",
      "[415]\tvalid_0's multi_logloss: 0.709591\n",
      "[416]\tvalid_0's multi_logloss: 0.709328\n"
     ]
    },
    {
     "name": "stdout",
     "output_type": "stream",
     "text": [
      "[417]\tvalid_0's multi_logloss: 0.70906\n",
      "[418]\tvalid_0's multi_logloss: 0.708777\n",
      "[419]\tvalid_0's multi_logloss: 0.708527\n",
      "[420]\tvalid_0's multi_logloss: 0.708264\n",
      "[421]\tvalid_0's multi_logloss: 0.70803\n",
      "[422]\tvalid_0's multi_logloss: 0.707796\n",
      "[423]\tvalid_0's multi_logloss: 0.707548\n",
      "[424]\tvalid_0's multi_logloss: 0.707289\n",
      "[425]\tvalid_0's multi_logloss: 0.707062\n",
      "[426]\tvalid_0's multi_logloss: 0.706772\n",
      "[427]\tvalid_0's multi_logloss: 0.7065\n",
      "[428]\tvalid_0's multi_logloss: 0.706256\n",
      "[429]\tvalid_0's multi_logloss: 0.706017\n",
      "[430]\tvalid_0's multi_logloss: 0.705745\n",
      "[431]\tvalid_0's multi_logloss: 0.705526\n",
      "[432]\tvalid_0's multi_logloss: 0.705241\n",
      "[433]\tvalid_0's multi_logloss: 0.704982\n",
      "[434]\tvalid_0's multi_logloss: 0.704745\n",
      "[435]\tvalid_0's multi_logloss: 0.704511\n",
      "[436]\tvalid_0's multi_logloss: 0.704269\n",
      "[437]\tvalid_0's multi_logloss: 0.704023\n",
      "[438]\tvalid_0's multi_logloss: 0.703784\n",
      "[439]\tvalid_0's multi_logloss: 0.703541\n",
      "[440]\tvalid_0's multi_logloss: 0.70332\n",
      "[441]\tvalid_0's multi_logloss: 0.703055\n",
      "[442]\tvalid_0's multi_logloss: 0.702812\n",
      "[443]\tvalid_0's multi_logloss: 0.702622\n",
      "[444]\tvalid_0's multi_logloss: 0.702347\n",
      "[445]\tvalid_0's multi_logloss: 0.702137\n",
      "[446]\tvalid_0's multi_logloss: 0.701842\n",
      "[447]\tvalid_0's multi_logloss: 0.701596\n",
      "[448]\tvalid_0's multi_logloss: 0.701379\n",
      "[449]\tvalid_0's multi_logloss: 0.70116\n",
      "[450]\tvalid_0's multi_logloss: 0.700926\n",
      "[451]\tvalid_0's multi_logloss: 0.700695\n",
      "[452]\tvalid_0's multi_logloss: 0.700475\n",
      "[453]\tvalid_0's multi_logloss: 0.700215\n",
      "[454]\tvalid_0's multi_logloss: 0.700004\n",
      "[455]\tvalid_0's multi_logloss: 0.69975\n",
      "[456]\tvalid_0's multi_logloss: 0.699562\n",
      "[457]\tvalid_0's multi_logloss: 0.699315\n",
      "[458]\tvalid_0's multi_logloss: 0.699073\n",
      "[459]\tvalid_0's multi_logloss: 0.698864\n",
      "[460]\tvalid_0's multi_logloss: 0.698645\n",
      "[461]\tvalid_0's multi_logloss: 0.698446\n",
      "[462]\tvalid_0's multi_logloss: 0.698247\n",
      "[463]\tvalid_0's multi_logloss: 0.698004\n",
      "[464]\tvalid_0's multi_logloss: 0.697817\n",
      "[465]\tvalid_0's multi_logloss: 0.697639\n",
      "[466]\tvalid_0's multi_logloss: 0.697453\n",
      "[467]\tvalid_0's multi_logloss: 0.697241\n",
      "[468]\tvalid_0's multi_logloss: 0.697\n",
      "[469]\tvalid_0's multi_logloss: 0.696781\n",
      "[470]\tvalid_0's multi_logloss: 0.696557\n",
      "[471]\tvalid_0's multi_logloss: 0.696376\n",
      "[472]\tvalid_0's multi_logloss: 0.69615\n",
      "[473]\tvalid_0's multi_logloss: 0.695956\n",
      "[474]\tvalid_0's multi_logloss: 0.69573\n",
      "[475]\tvalid_0's multi_logloss: 0.695515\n",
      "[476]\tvalid_0's multi_logloss: 0.695336\n",
      "[477]\tvalid_0's multi_logloss: 0.695097\n",
      "[478]\tvalid_0's multi_logloss: 0.694906\n",
      "[479]\tvalid_0's multi_logloss: 0.694708\n",
      "[480]\tvalid_0's multi_logloss: 0.694483\n",
      "[481]\tvalid_0's multi_logloss: 0.694323\n",
      "[482]\tvalid_0's multi_logloss: 0.694135\n",
      "[483]\tvalid_0's multi_logloss: 0.693954\n",
      "[484]\tvalid_0's multi_logloss: 0.693792\n",
      "[485]\tvalid_0's multi_logloss: 0.693571\n",
      "[486]\tvalid_0's multi_logloss: 0.693382\n",
      "[487]\tvalid_0's multi_logloss: 0.693228\n",
      "[488]\tvalid_0's multi_logloss: 0.69305\n",
      "[489]\tvalid_0's multi_logloss: 0.692859\n",
      "[490]\tvalid_0's multi_logloss: 0.692633\n",
      "[491]\tvalid_0's multi_logloss: 0.692437\n",
      "[492]\tvalid_0's multi_logloss: 0.692288\n",
      "[493]\tvalid_0's multi_logloss: 0.692107\n",
      "[494]\tvalid_0's multi_logloss: 0.691927\n",
      "[495]\tvalid_0's multi_logloss: 0.691736\n",
      "[496]\tvalid_0's multi_logloss: 0.691522\n",
      "[497]\tvalid_0's multi_logloss: 0.691326\n",
      "[498]\tvalid_0's multi_logloss: 0.691144\n",
      "[499]\tvalid_0's multi_logloss: 0.690968\n",
      "[500]\tvalid_0's multi_logloss: 0.690824\n",
      "[501]\tvalid_0's multi_logloss: 0.690643\n",
      "[502]\tvalid_0's multi_logloss: 0.690453\n",
      "[503]\tvalid_0's multi_logloss: 0.690337\n",
      "[504]\tvalid_0's multi_logloss: 0.690167\n",
      "[505]\tvalid_0's multi_logloss: 0.690018\n",
      "[506]\tvalid_0's multi_logloss: 0.689838\n",
      "[507]\tvalid_0's multi_logloss: 0.689653\n",
      "[508]\tvalid_0's multi_logloss: 0.689493\n",
      "[509]\tvalid_0's multi_logloss: 0.68933\n",
      "[510]\tvalid_0's multi_logloss: 0.689178\n",
      "[511]\tvalid_0's multi_logloss: 0.689016\n",
      "[512]\tvalid_0's multi_logloss: 0.688869\n",
      "[513]\tvalid_0's multi_logloss: 0.688688\n",
      "[514]\tvalid_0's multi_logloss: 0.688538\n",
      "[515]\tvalid_0's multi_logloss: 0.688363\n",
      "[516]\tvalid_0's multi_logloss: 0.688194\n",
      "[517]\tvalid_0's multi_logloss: 0.688024\n",
      "[518]\tvalid_0's multi_logloss: 0.687861\n",
      "[519]\tvalid_0's multi_logloss: 0.687696\n",
      "[520]\tvalid_0's multi_logloss: 0.687534\n",
      "[521]\tvalid_0's multi_logloss: 0.687361\n",
      "[522]\tvalid_0's multi_logloss: 0.687214\n",
      "[523]\tvalid_0's multi_logloss: 0.687081\n",
      "[524]\tvalid_0's multi_logloss: 0.686952\n",
      "[525]\tvalid_0's multi_logloss: 0.686775\n",
      "[526]\tvalid_0's multi_logloss: 0.686613\n",
      "[527]\tvalid_0's multi_logloss: 0.686449\n",
      "[528]\tvalid_0's multi_logloss: 0.686298\n",
      "[529]\tvalid_0's multi_logloss: 0.686105\n",
      "[530]\tvalid_0's multi_logloss: 0.685965\n",
      "[531]\tvalid_0's multi_logloss: 0.685799\n",
      "[532]\tvalid_0's multi_logloss: 0.685655\n",
      "[533]\tvalid_0's multi_logloss: 0.685505\n",
      "[534]\tvalid_0's multi_logloss: 0.685357\n",
      "[535]\tvalid_0's multi_logloss: 0.685181\n",
      "[536]\tvalid_0's multi_logloss: 0.685036\n",
      "[537]\tvalid_0's multi_logloss: 0.684877\n",
      "[538]\tvalid_0's multi_logloss: 0.684736\n",
      "[539]\tvalid_0's multi_logloss: 0.684596\n",
      "[540]\tvalid_0's multi_logloss: 0.684447\n",
      "[541]\tvalid_0's multi_logloss: 0.684325\n",
      "[542]\tvalid_0's multi_logloss: 0.6842\n",
      "[543]\tvalid_0's multi_logloss: 0.684068\n",
      "[544]\tvalid_0's multi_logloss: 0.683905\n",
      "[545]\tvalid_0's multi_logloss: 0.683755\n",
      "[546]\tvalid_0's multi_logloss: 0.683611\n",
      "[547]\tvalid_0's multi_logloss: 0.68347\n",
      "[548]\tvalid_0's multi_logloss: 0.683335\n",
      "[549]\tvalid_0's multi_logloss: 0.683194\n",
      "[550]\tvalid_0's multi_logloss: 0.683029\n",
      "[551]\tvalid_0's multi_logloss: 0.682902\n",
      "[552]\tvalid_0's multi_logloss: 0.682769\n",
      "[553]\tvalid_0's multi_logloss: 0.682631\n",
      "[554]\tvalid_0's multi_logloss: 0.682506\n",
      "[555]\tvalid_0's multi_logloss: 0.682366\n",
      "[556]\tvalid_0's multi_logloss: 0.682253\n",
      "[557]\tvalid_0's multi_logloss: 0.682103\n",
      "[558]\tvalid_0's multi_logloss: 0.682013\n",
      "[559]\tvalid_0's multi_logloss: 0.681847\n",
      "[560]\tvalid_0's multi_logloss: 0.681714\n",
      "[561]\tvalid_0's multi_logloss: 0.681612\n",
      "[562]\tvalid_0's multi_logloss: 0.681476\n",
      "[563]\tvalid_0's multi_logloss: 0.681355\n",
      "[564]\tvalid_0's multi_logloss: 0.681228\n",
      "[565]\tvalid_0's multi_logloss: 0.68113\n",
      "[566]\tvalid_0's multi_logloss: 0.68099\n",
      "[567]\tvalid_0's multi_logloss: 0.680842\n",
      "[568]\tvalid_0's multi_logloss: 0.680703\n",
      "[569]\tvalid_0's multi_logloss: 0.680579\n",
      "[570]\tvalid_0's multi_logloss: 0.680462\n",
      "[571]\tvalid_0's multi_logloss: 0.680322\n",
      "[572]\tvalid_0's multi_logloss: 0.68018\n",
      "[573]\tvalid_0's multi_logloss: 0.680032\n",
      "[574]\tvalid_0's multi_logloss: 0.679916\n",
      "[575]\tvalid_0's multi_logloss: 0.679825\n",
      "[576]\tvalid_0's multi_logloss: 0.679697\n",
      "[577]\tvalid_0's multi_logloss: 0.679574\n",
      "[578]\tvalid_0's multi_logloss: 0.679454\n",
      "[579]\tvalid_0's multi_logloss: 0.679343\n",
      "[580]\tvalid_0's multi_logloss: 0.679214\n",
      "[581]\tvalid_0's multi_logloss: 0.679104\n",
      "[582]\tvalid_0's multi_logloss: 0.678929\n",
      "[583]\tvalid_0's multi_logloss: 0.678824\n",
      "[584]\tvalid_0's multi_logloss: 0.67871\n",
      "[585]\tvalid_0's multi_logloss: 0.678596\n",
      "[586]\tvalid_0's multi_logloss: 0.678483\n",
      "[587]\tvalid_0's multi_logloss: 0.678375\n",
      "[588]\tvalid_0's multi_logloss: 0.678243\n",
      "[589]\tvalid_0's multi_logloss: 0.678155\n",
      "[590]\tvalid_0's multi_logloss: 0.678044\n",
      "[591]\tvalid_0's multi_logloss: 0.677928\n",
      "[592]\tvalid_0's multi_logloss: 0.677798\n",
      "[593]\tvalid_0's multi_logloss: 0.677644\n",
      "[594]\tvalid_0's multi_logloss: 0.67754\n",
      "[595]\tvalid_0's multi_logloss: 0.677404\n",
      "[596]\tvalid_0's multi_logloss: 0.677261\n",
      "[597]\tvalid_0's multi_logloss: 0.677134\n",
      "[598]\tvalid_0's multi_logloss: 0.677073\n",
      "[599]\tvalid_0's multi_logloss: 0.676951\n",
      "[600]\tvalid_0's multi_logloss: 0.676841\n",
      "[601]\tvalid_0's multi_logloss: 0.676721\n",
      "[602]\tvalid_0's multi_logloss: 0.676607\n",
      "[603]\tvalid_0's multi_logloss: 0.676486\n",
      "[604]\tvalid_0's multi_logloss: 0.67641\n",
      "[605]\tvalid_0's multi_logloss: 0.676286\n",
      "[606]\tvalid_0's multi_logloss: 0.676133\n",
      "[607]\tvalid_0's multi_logloss: 0.675995\n",
      "[608]\tvalid_0's multi_logloss: 0.675874\n",
      "[609]\tvalid_0's multi_logloss: 0.675756\n",
      "[610]\tvalid_0's multi_logloss: 0.675668\n",
      "[611]\tvalid_0's multi_logloss: 0.675544\n",
      "[612]\tvalid_0's multi_logloss: 0.675433\n",
      "[613]\tvalid_0's multi_logloss: 0.675344\n",
      "[614]\tvalid_0's multi_logloss: 0.675249\n",
      "[615]\tvalid_0's multi_logloss: 0.675177\n",
      "[616]\tvalid_0's multi_logloss: 0.675042\n",
      "[617]\tvalid_0's multi_logloss: 0.674926\n",
      "[618]\tvalid_0's multi_logloss: 0.674829\n",
      "[619]\tvalid_0's multi_logloss: 0.674746\n",
      "[620]\tvalid_0's multi_logloss: 0.674609\n",
      "[621]\tvalid_0's multi_logloss: 0.674541\n",
      "[622]\tvalid_0's multi_logloss: 0.674458\n"
     ]
    },
    {
     "name": "stdout",
     "output_type": "stream",
     "text": [
      "[623]\tvalid_0's multi_logloss: 0.67434\n",
      "[624]\tvalid_0's multi_logloss: 0.674218\n",
      "[625]\tvalid_0's multi_logloss: 0.674088\n",
      "[626]\tvalid_0's multi_logloss: 0.673969\n",
      "[627]\tvalid_0's multi_logloss: 0.673845\n",
      "[628]\tvalid_0's multi_logloss: 0.673717\n",
      "[629]\tvalid_0's multi_logloss: 0.673597\n",
      "[630]\tvalid_0's multi_logloss: 0.673462\n",
      "[631]\tvalid_0's multi_logloss: 0.67336\n",
      "[632]\tvalid_0's multi_logloss: 0.67325\n",
      "[633]\tvalid_0's multi_logloss: 0.673148\n",
      "[634]\tvalid_0's multi_logloss: 0.673067\n",
      "[635]\tvalid_0's multi_logloss: 0.672952\n",
      "[636]\tvalid_0's multi_logloss: 0.672876\n",
      "[637]\tvalid_0's multi_logloss: 0.67277\n",
      "[638]\tvalid_0's multi_logloss: 0.672674\n",
      "[639]\tvalid_0's multi_logloss: 0.672567\n",
      "[640]\tvalid_0's multi_logloss: 0.672453\n",
      "[641]\tvalid_0's multi_logloss: 0.672368\n",
      "[642]\tvalid_0's multi_logloss: 0.672276\n",
      "[643]\tvalid_0's multi_logloss: 0.672153\n",
      "[644]\tvalid_0's multi_logloss: 0.672034\n",
      "[645]\tvalid_0's multi_logloss: 0.671912\n",
      "[646]\tvalid_0's multi_logloss: 0.671824\n",
      "[647]\tvalid_0's multi_logloss: 0.671738\n",
      "[648]\tvalid_0's multi_logloss: 0.671648\n",
      "[649]\tvalid_0's multi_logloss: 0.671551\n",
      "[650]\tvalid_0's multi_logloss: 0.671433\n",
      "[651]\tvalid_0's multi_logloss: 0.671329\n",
      "[652]\tvalid_0's multi_logloss: 0.671245\n",
      "[653]\tvalid_0's multi_logloss: 0.671121\n",
      "[654]\tvalid_0's multi_logloss: 0.671003\n",
      "[655]\tvalid_0's multi_logloss: 0.670917\n",
      "[656]\tvalid_0's multi_logloss: 0.670811\n",
      "[657]\tvalid_0's multi_logloss: 0.670714\n",
      "[658]\tvalid_0's multi_logloss: 0.670607\n",
      "[659]\tvalid_0's multi_logloss: 0.670502\n",
      "[660]\tvalid_0's multi_logloss: 0.670383\n",
      "[661]\tvalid_0's multi_logloss: 0.670267\n",
      "[662]\tvalid_0's multi_logloss: 0.670172\n",
      "[663]\tvalid_0's multi_logloss: 0.670073\n",
      "[664]\tvalid_0's multi_logloss: 0.67\n",
      "[665]\tvalid_0's multi_logloss: 0.669927\n",
      "[666]\tvalid_0's multi_logloss: 0.669807\n",
      "[667]\tvalid_0's multi_logloss: 0.66971\n",
      "[668]\tvalid_0's multi_logloss: 0.669618\n",
      "[669]\tvalid_0's multi_logloss: 0.669533\n",
      "[670]\tvalid_0's multi_logloss: 0.669472\n",
      "[671]\tvalid_0's multi_logloss: 0.669413\n",
      "[672]\tvalid_0's multi_logloss: 0.669293\n",
      "[673]\tvalid_0's multi_logloss: 0.669174\n",
      "[674]\tvalid_0's multi_logloss: 0.669083\n",
      "[675]\tvalid_0's multi_logloss: 0.669005\n",
      "[676]\tvalid_0's multi_logloss: 0.668926\n",
      "[677]\tvalid_0's multi_logloss: 0.668849\n",
      "[678]\tvalid_0's multi_logloss: 0.668776\n",
      "[679]\tvalid_0's multi_logloss: 0.668688\n",
      "[680]\tvalid_0's multi_logloss: 0.668605\n",
      "[681]\tvalid_0's multi_logloss: 0.668519\n",
      "[682]\tvalid_0's multi_logloss: 0.668455\n",
      "[683]\tvalid_0's multi_logloss: 0.668389\n",
      "[684]\tvalid_0's multi_logloss: 0.668316\n",
      "[685]\tvalid_0's multi_logloss: 0.668191\n",
      "[686]\tvalid_0's multi_logloss: 0.668098\n",
      "[687]\tvalid_0's multi_logloss: 0.668036\n",
      "[688]\tvalid_0's multi_logloss: 0.667958\n",
      "[689]\tvalid_0's multi_logloss: 0.667883\n",
      "[690]\tvalid_0's multi_logloss: 0.667772\n",
      "[691]\tvalid_0's multi_logloss: 0.667693\n",
      "[692]\tvalid_0's multi_logloss: 0.6676\n",
      "[693]\tvalid_0's multi_logloss: 0.667508\n",
      "[694]\tvalid_0's multi_logloss: 0.667447\n",
      "[695]\tvalid_0's multi_logloss: 0.667381\n",
      "[696]\tvalid_0's multi_logloss: 0.667298\n",
      "[697]\tvalid_0's multi_logloss: 0.667238\n",
      "[698]\tvalid_0's multi_logloss: 0.667147\n",
      "[699]\tvalid_0's multi_logloss: 0.667096\n",
      "[700]\tvalid_0's multi_logloss: 0.667005\n",
      "[701]\tvalid_0's multi_logloss: 0.666937\n",
      "[702]\tvalid_0's multi_logloss: 0.6669\n",
      "[703]\tvalid_0's multi_logloss: 0.666869\n",
      "[704]\tvalid_0's multi_logloss: 0.666803\n",
      "[705]\tvalid_0's multi_logloss: 0.666723\n",
      "[706]\tvalid_0's multi_logloss: 0.666618\n",
      "[707]\tvalid_0's multi_logloss: 0.666557\n",
      "[708]\tvalid_0's multi_logloss: 0.666467\n",
      "[709]\tvalid_0's multi_logloss: 0.666398\n",
      "[710]\tvalid_0's multi_logloss: 0.666338\n",
      "[711]\tvalid_0's multi_logloss: 0.666241\n",
      "[712]\tvalid_0's multi_logloss: 0.666161\n",
      "[713]\tvalid_0's multi_logloss: 0.666071\n",
      "[714]\tvalid_0's multi_logloss: 0.666021\n",
      "[715]\tvalid_0's multi_logloss: 0.665948\n",
      "[716]\tvalid_0's multi_logloss: 0.665888\n",
      "[717]\tvalid_0's multi_logloss: 0.665842\n",
      "[718]\tvalid_0's multi_logloss: 0.665769\n",
      "[719]\tvalid_0's multi_logloss: 0.665719\n",
      "[720]\tvalid_0's multi_logloss: 0.665633\n",
      "[721]\tvalid_0's multi_logloss: 0.665576\n",
      "[722]\tvalid_0's multi_logloss: 0.665493\n",
      "[723]\tvalid_0's multi_logloss: 0.665435\n",
      "[724]\tvalid_0's multi_logloss: 0.665346\n",
      "[725]\tvalid_0's multi_logloss: 0.665268\n",
      "[726]\tvalid_0's multi_logloss: 0.665208\n",
      "[727]\tvalid_0's multi_logloss: 0.665122\n",
      "[728]\tvalid_0's multi_logloss: 0.665036\n",
      "[729]\tvalid_0's multi_logloss: 0.664968\n",
      "[730]\tvalid_0's multi_logloss: 0.664899\n",
      "[731]\tvalid_0's multi_logloss: 0.664855\n",
      "[732]\tvalid_0's multi_logloss: 0.664785\n",
      "[733]\tvalid_0's multi_logloss: 0.664724\n",
      "[734]\tvalid_0's multi_logloss: 0.664638\n",
      "[735]\tvalid_0's multi_logloss: 0.664575\n",
      "[736]\tvalid_0's multi_logloss: 0.664506\n",
      "[737]\tvalid_0's multi_logloss: 0.664409\n",
      "[738]\tvalid_0's multi_logloss: 0.664343\n",
      "[739]\tvalid_0's multi_logloss: 0.664249\n",
      "[740]\tvalid_0's multi_logloss: 0.664195\n",
      "[741]\tvalid_0's multi_logloss: 0.664112\n",
      "[742]\tvalid_0's multi_logloss: 0.664026\n",
      "[743]\tvalid_0's multi_logloss: 0.663976\n",
      "[744]\tvalid_0's multi_logloss: 0.663921\n",
      "[745]\tvalid_0's multi_logloss: 0.663888\n",
      "[746]\tvalid_0's multi_logloss: 0.663799\n",
      "[747]\tvalid_0's multi_logloss: 0.663717\n",
      "[748]\tvalid_0's multi_logloss: 0.66364\n",
      "[749]\tvalid_0's multi_logloss: 0.663597\n",
      "[750]\tvalid_0's multi_logloss: 0.663543\n",
      "[751]\tvalid_0's multi_logloss: 0.66346\n",
      "[752]\tvalid_0's multi_logloss: 0.663404\n",
      "[753]\tvalid_0's multi_logloss: 0.663324\n",
      "[754]\tvalid_0's multi_logloss: 0.663232\n",
      "[755]\tvalid_0's multi_logloss: 0.66314\n",
      "[756]\tvalid_0's multi_logloss: 0.663086\n",
      "[757]\tvalid_0's multi_logloss: 0.663009\n",
      "[758]\tvalid_0's multi_logloss: 0.66296\n",
      "[759]\tvalid_0's multi_logloss: 0.662882\n",
      "[760]\tvalid_0's multi_logloss: 0.662804\n",
      "[761]\tvalid_0's multi_logloss: 0.662744\n",
      "[762]\tvalid_0's multi_logloss: 0.662698\n",
      "[763]\tvalid_0's multi_logloss: 0.66263\n",
      "[764]\tvalid_0's multi_logloss: 0.662555\n",
      "[765]\tvalid_0's multi_logloss: 0.662499\n",
      "[766]\tvalid_0's multi_logloss: 0.662415\n",
      "[767]\tvalid_0's multi_logloss: 0.66234\n",
      "[768]\tvalid_0's multi_logloss: 0.662287\n",
      "[769]\tvalid_0's multi_logloss: 0.662211\n",
      "[770]\tvalid_0's multi_logloss: 0.662154\n",
      "[771]\tvalid_0's multi_logloss: 0.662106\n",
      "[772]\tvalid_0's multi_logloss: 0.662027\n",
      "[773]\tvalid_0's multi_logloss: 0.661956\n",
      "[774]\tvalid_0's multi_logloss: 0.661893\n",
      "[775]\tvalid_0's multi_logloss: 0.661856\n",
      "[776]\tvalid_0's multi_logloss: 0.661794\n",
      "[777]\tvalid_0's multi_logloss: 0.661729\n",
      "[778]\tvalid_0's multi_logloss: 0.661679\n",
      "[779]\tvalid_0's multi_logloss: 0.661667\n",
      "[780]\tvalid_0's multi_logloss: 0.661581\n",
      "[781]\tvalid_0's multi_logloss: 0.661545\n",
      "[782]\tvalid_0's multi_logloss: 0.661506\n",
      "[783]\tvalid_0's multi_logloss: 0.661449\n",
      "[784]\tvalid_0's multi_logloss: 0.661396\n",
      "[785]\tvalid_0's multi_logloss: 0.661353\n",
      "[786]\tvalid_0's multi_logloss: 0.661283\n",
      "[787]\tvalid_0's multi_logloss: 0.661199\n",
      "[788]\tvalid_0's multi_logloss: 0.661171\n",
      "[789]\tvalid_0's multi_logloss: 0.661112\n",
      "[790]\tvalid_0's multi_logloss: 0.661038\n",
      "[791]\tvalid_0's multi_logloss: 0.660985\n",
      "[792]\tvalid_0's multi_logloss: 0.660936\n",
      "[793]\tvalid_0's multi_logloss: 0.660883\n",
      "[794]\tvalid_0's multi_logloss: 0.660822\n",
      "[795]\tvalid_0's multi_logloss: 0.660787\n",
      "[796]\tvalid_0's multi_logloss: 0.660678\n",
      "[797]\tvalid_0's multi_logloss: 0.660613\n",
      "[798]\tvalid_0's multi_logloss: 0.660551\n",
      "[799]\tvalid_0's multi_logloss: 0.66053\n",
      "[800]\tvalid_0's multi_logloss: 0.660459\n",
      "[801]\tvalid_0's multi_logloss: 0.660408\n",
      "[802]\tvalid_0's multi_logloss: 0.660351\n",
      "[803]\tvalid_0's multi_logloss: 0.660311\n",
      "[804]\tvalid_0's multi_logloss: 0.660264\n",
      "[805]\tvalid_0's multi_logloss: 0.660179\n",
      "[806]\tvalid_0's multi_logloss: 0.660123\n",
      "[807]\tvalid_0's multi_logloss: 0.660062\n",
      "[808]\tvalid_0's multi_logloss: 0.660017\n",
      "[809]\tvalid_0's multi_logloss: 0.659933\n",
      "[810]\tvalid_0's multi_logloss: 0.659889\n",
      "[811]\tvalid_0's multi_logloss: 0.659834\n",
      "[812]\tvalid_0's multi_logloss: 0.659756\n",
      "[813]\tvalid_0's multi_logloss: 0.659749\n",
      "[814]\tvalid_0's multi_logloss: 0.659696\n",
      "[815]\tvalid_0's multi_logloss: 0.659586\n",
      "[816]\tvalid_0's multi_logloss: 0.659548\n",
      "[817]\tvalid_0's multi_logloss: 0.659523\n",
      "[818]\tvalid_0's multi_logloss: 0.659476\n",
      "[819]\tvalid_0's multi_logloss: 0.659408\n",
      "[820]\tvalid_0's multi_logloss: 0.659346\n",
      "[821]\tvalid_0's multi_logloss: 0.659307\n",
      "[822]\tvalid_0's multi_logloss: 0.659251\n",
      "[823]\tvalid_0's multi_logloss: 0.65923\n",
      "[824]\tvalid_0's multi_logloss: 0.659189\n",
      "[825]\tvalid_0's multi_logloss: 0.659138\n",
      "[826]\tvalid_0's multi_logloss: 0.659086\n",
      "[827]\tvalid_0's multi_logloss: 0.659054\n",
      "[828]\tvalid_0's multi_logloss: 0.658985\n"
     ]
    },
    {
     "name": "stdout",
     "output_type": "stream",
     "text": [
      "[829]\tvalid_0's multi_logloss: 0.658902\n",
      "[830]\tvalid_0's multi_logloss: 0.658866\n",
      "[831]\tvalid_0's multi_logloss: 0.658806\n",
      "[832]\tvalid_0's multi_logloss: 0.658758\n",
      "[833]\tvalid_0's multi_logloss: 0.658679\n",
      "[834]\tvalid_0's multi_logloss: 0.658626\n",
      "[835]\tvalid_0's multi_logloss: 0.658559\n",
      "[836]\tvalid_0's multi_logloss: 0.658552\n",
      "[837]\tvalid_0's multi_logloss: 0.658484\n",
      "[838]\tvalid_0's multi_logloss: 0.658418\n",
      "[839]\tvalid_0's multi_logloss: 0.658352\n",
      "[840]\tvalid_0's multi_logloss: 0.658317\n",
      "[841]\tvalid_0's multi_logloss: 0.658284\n",
      "[842]\tvalid_0's multi_logloss: 0.658226\n",
      "[843]\tvalid_0's multi_logloss: 0.658161\n",
      "[844]\tvalid_0's multi_logloss: 0.658134\n",
      "[845]\tvalid_0's multi_logloss: 0.658043\n",
      "[846]\tvalid_0's multi_logloss: 0.657989\n",
      "[847]\tvalid_0's multi_logloss: 0.657948\n",
      "[848]\tvalid_0's multi_logloss: 0.657878\n",
      "[849]\tvalid_0's multi_logloss: 0.657675\n",
      "[850]\tvalid_0's multi_logloss: 0.657602\n",
      "[851]\tvalid_0's multi_logloss: 0.657526\n",
      "[852]\tvalid_0's multi_logloss: 0.657442\n",
      "[853]\tvalid_0's multi_logloss: 0.657395\n",
      "[854]\tvalid_0's multi_logloss: 0.657336\n",
      "[855]\tvalid_0's multi_logloss: 0.657297\n",
      "[856]\tvalid_0's multi_logloss: 0.657249\n",
      "[857]\tvalid_0's multi_logloss: 0.65721\n",
      "[858]\tvalid_0's multi_logloss: 0.657185\n",
      "[859]\tvalid_0's multi_logloss: 0.657133\n",
      "[860]\tvalid_0's multi_logloss: 0.657067\n",
      "[861]\tvalid_0's multi_logloss: 0.657047\n",
      "[862]\tvalid_0's multi_logloss: 0.656967\n",
      "[863]\tvalid_0's multi_logloss: 0.656904\n",
      "[864]\tvalid_0's multi_logloss: 0.656859\n",
      "[865]\tvalid_0's multi_logloss: 0.656816\n",
      "[866]\tvalid_0's multi_logloss: 0.656749\n",
      "[867]\tvalid_0's multi_logloss: 0.656709\n",
      "[868]\tvalid_0's multi_logloss: 0.656679\n",
      "[869]\tvalid_0's multi_logloss: 0.656651\n",
      "[870]\tvalid_0's multi_logloss: 0.656618\n",
      "[871]\tvalid_0's multi_logloss: 0.656577\n",
      "[872]\tvalid_0's multi_logloss: 0.656533\n",
      "[873]\tvalid_0's multi_logloss: 0.656515\n",
      "[874]\tvalid_0's multi_logloss: 0.65646\n",
      "[875]\tvalid_0's multi_logloss: 0.656414\n",
      "[876]\tvalid_0's multi_logloss: 0.656362\n",
      "[877]\tvalid_0's multi_logloss: 0.656308\n",
      "[878]\tvalid_0's multi_logloss: 0.656257\n",
      "[879]\tvalid_0's multi_logloss: 0.656213\n",
      "[880]\tvalid_0's multi_logloss: 0.656206\n",
      "[881]\tvalid_0's multi_logloss: 0.656231\n",
      "[882]\tvalid_0's multi_logloss: 0.656169\n",
      "[883]\tvalid_0's multi_logloss: 0.656137\n",
      "[884]\tvalid_0's multi_logloss: 0.656101\n",
      "[885]\tvalid_0's multi_logloss: 0.656048\n",
      "[886]\tvalid_0's multi_logloss: 0.655998\n",
      "[887]\tvalid_0's multi_logloss: 0.655983\n",
      "[888]\tvalid_0's multi_logloss: 0.655939\n",
      "[889]\tvalid_0's multi_logloss: 0.6559\n",
      "[890]\tvalid_0's multi_logloss: 0.655864\n",
      "[891]\tvalid_0's multi_logloss: 0.655799\n",
      "[892]\tvalid_0's multi_logloss: 0.655733\n",
      "[893]\tvalid_0's multi_logloss: 0.655707\n",
      "[894]\tvalid_0's multi_logloss: 0.655685\n",
      "[895]\tvalid_0's multi_logloss: 0.655651\n",
      "[896]\tvalid_0's multi_logloss: 0.655624\n",
      "[897]\tvalid_0's multi_logloss: 0.655579\n",
      "[898]\tvalid_0's multi_logloss: 0.655568\n",
      "[899]\tvalid_0's multi_logloss: 0.655525\n",
      "[900]\tvalid_0's multi_logloss: 0.655493\n",
      "[901]\tvalid_0's multi_logloss: 0.655478\n",
      "[902]\tvalid_0's multi_logloss: 0.65546\n",
      "[903]\tvalid_0's multi_logloss: 0.65541\n",
      "[904]\tvalid_0's multi_logloss: 0.655359\n",
      "[905]\tvalid_0's multi_logloss: 0.655327\n",
      "[906]\tvalid_0's multi_logloss: 0.655299\n",
      "[907]\tvalid_0's multi_logloss: 0.655232\n",
      "[908]\tvalid_0's multi_logloss: 0.655212\n",
      "[909]\tvalid_0's multi_logloss: 0.655186\n",
      "[910]\tvalid_0's multi_logloss: 0.65515\n",
      "[911]\tvalid_0's multi_logloss: 0.655103\n",
      "[912]\tvalid_0's multi_logloss: 0.65508\n",
      "[913]\tvalid_0's multi_logloss: 0.655043\n",
      "[914]\tvalid_0's multi_logloss: 0.65498\n",
      "[915]\tvalid_0's multi_logloss: 0.654919\n",
      "[916]\tvalid_0's multi_logloss: 0.654883\n",
      "[917]\tvalid_0's multi_logloss: 0.654834\n",
      "[918]\tvalid_0's multi_logloss: 0.654792\n",
      "[919]\tvalid_0's multi_logloss: 0.65475\n",
      "[920]\tvalid_0's multi_logloss: 0.654699\n",
      "[921]\tvalid_0's multi_logloss: 0.654656\n",
      "[922]\tvalid_0's multi_logloss: 0.65463\n",
      "[923]\tvalid_0's multi_logloss: 0.654573\n",
      "[924]\tvalid_0's multi_logloss: 0.654554\n",
      "[925]\tvalid_0's multi_logloss: 0.654514\n",
      "[926]\tvalid_0's multi_logloss: 0.654485\n",
      "[927]\tvalid_0's multi_logloss: 0.654434\n",
      "[928]\tvalid_0's multi_logloss: 0.654377\n",
      "[929]\tvalid_0's multi_logloss: 0.654357\n",
      "[930]\tvalid_0's multi_logloss: 0.6543\n",
      "[931]\tvalid_0's multi_logloss: 0.654235\n",
      "[932]\tvalid_0's multi_logloss: 0.654211\n",
      "[933]\tvalid_0's multi_logloss: 0.65417\n",
      "[934]\tvalid_0's multi_logloss: 0.654142\n",
      "[935]\tvalid_0's multi_logloss: 0.65413\n",
      "[936]\tvalid_0's multi_logloss: 0.654096\n",
      "[937]\tvalid_0's multi_logloss: 0.654052\n",
      "[938]\tvalid_0's multi_logloss: 0.654019\n",
      "[939]\tvalid_0's multi_logloss: 0.653974\n",
      "[940]\tvalid_0's multi_logloss: 0.653917\n",
      "[941]\tvalid_0's multi_logloss: 0.653889\n",
      "[942]\tvalid_0's multi_logloss: 0.653853\n",
      "[943]\tvalid_0's multi_logloss: 0.653811\n",
      "[944]\tvalid_0's multi_logloss: 0.653812\n",
      "[945]\tvalid_0's multi_logloss: 0.653787\n",
      "[946]\tvalid_0's multi_logloss: 0.653752\n",
      "[947]\tvalid_0's multi_logloss: 0.653737\n",
      "[948]\tvalid_0's multi_logloss: 0.653712\n",
      "[949]\tvalid_0's multi_logloss: 0.65368\n",
      "[950]\tvalid_0's multi_logloss: 0.653641\n",
      "[951]\tvalid_0's multi_logloss: 0.653594\n",
      "[952]\tvalid_0's multi_logloss: 0.653562\n",
      "[953]\tvalid_0's multi_logloss: 0.653541\n",
      "[954]\tvalid_0's multi_logloss: 0.653516\n",
      "[955]\tvalid_0's multi_logloss: 0.653505\n",
      "[956]\tvalid_0's multi_logloss: 0.653444\n",
      "[957]\tvalid_0's multi_logloss: 0.653432\n",
      "[958]\tvalid_0's multi_logloss: 0.653386\n",
      "[959]\tvalid_0's multi_logloss: 0.653366\n",
      "[960]\tvalid_0's multi_logloss: 0.653357\n",
      "[961]\tvalid_0's multi_logloss: 0.6533\n",
      "[962]\tvalid_0's multi_logloss: 0.653264\n",
      "[963]\tvalid_0's multi_logloss: 0.653228\n",
      "[964]\tvalid_0's multi_logloss: 0.653195\n",
      "[965]\tvalid_0's multi_logloss: 0.65315\n",
      "[966]\tvalid_0's multi_logloss: 0.653119\n",
      "[967]\tvalid_0's multi_logloss: 0.653099\n",
      "[968]\tvalid_0's multi_logloss: 0.653059\n",
      "[969]\tvalid_0's multi_logloss: 0.653025\n",
      "[970]\tvalid_0's multi_logloss: 0.652988\n",
      "[971]\tvalid_0's multi_logloss: 0.652991\n",
      "[972]\tvalid_0's multi_logloss: 0.652957\n",
      "[973]\tvalid_0's multi_logloss: 0.652912\n",
      "[974]\tvalid_0's multi_logloss: 0.652865\n",
      "[975]\tvalid_0's multi_logloss: 0.652839\n",
      "[976]\tvalid_0's multi_logloss: 0.652794\n",
      "[977]\tvalid_0's multi_logloss: 0.652775\n",
      "[978]\tvalid_0's multi_logloss: 0.652766\n",
      "[979]\tvalid_0's multi_logloss: 0.652744\n",
      "[980]\tvalid_0's multi_logloss: 0.652698\n",
      "[981]\tvalid_0's multi_logloss: 0.652685\n",
      "[982]\tvalid_0's multi_logloss: 0.652687\n",
      "[983]\tvalid_0's multi_logloss: 0.652677\n",
      "[984]\tvalid_0's multi_logloss: 0.652674\n",
      "[985]\tvalid_0's multi_logloss: 0.652641\n",
      "[986]\tvalid_0's multi_logloss: 0.652613\n",
      "[987]\tvalid_0's multi_logloss: 0.652569\n",
      "[988]\tvalid_0's multi_logloss: 0.652557\n",
      "[989]\tvalid_0's multi_logloss: 0.652511\n",
      "[990]\tvalid_0's multi_logloss: 0.652482\n",
      "[991]\tvalid_0's multi_logloss: 0.652453\n",
      "[992]\tvalid_0's multi_logloss: 0.652403\n",
      "[993]\tvalid_0's multi_logloss: 0.652371\n",
      "[994]\tvalid_0's multi_logloss: 0.652336\n",
      "[995]\tvalid_0's multi_logloss: 0.652304\n",
      "[996]\tvalid_0's multi_logloss: 0.652283\n",
      "[997]\tvalid_0's multi_logloss: 0.652262\n",
      "[998]\tvalid_0's multi_logloss: 0.652218\n",
      "[999]\tvalid_0's multi_logloss: 0.652206\n",
      "[1000]\tvalid_0's multi_logloss: 0.652166\n",
      "[1001]\tvalid_0's multi_logloss: 0.652136\n",
      "[1002]\tvalid_0's multi_logloss: 0.652087\n",
      "[1003]\tvalid_0's multi_logloss: 0.652065\n",
      "[1004]\tvalid_0's multi_logloss: 0.652051\n",
      "[1005]\tvalid_0's multi_logloss: 0.652016\n",
      "[1006]\tvalid_0's multi_logloss: 0.651989\n",
      "[1007]\tvalid_0's multi_logloss: 0.651943\n",
      "[1008]\tvalid_0's multi_logloss: 0.651913\n",
      "[1009]\tvalid_0's multi_logloss: 0.651854\n",
      "[1010]\tvalid_0's multi_logloss: 0.651837\n",
      "[1011]\tvalid_0's multi_logloss: 0.651812\n",
      "[1012]\tvalid_0's multi_logloss: 0.651789\n",
      "[1013]\tvalid_0's multi_logloss: 0.651756\n",
      "[1014]\tvalid_0's multi_logloss: 0.651739\n",
      "[1015]\tvalid_0's multi_logloss: 0.651687\n",
      "[1016]\tvalid_0's multi_logloss: 0.651661\n",
      "[1017]\tvalid_0's multi_logloss: 0.651633\n",
      "[1018]\tvalid_0's multi_logloss: 0.651596\n",
      "[1019]\tvalid_0's multi_logloss: 0.651564\n",
      "[1020]\tvalid_0's multi_logloss: 0.651557\n",
      "[1021]\tvalid_0's multi_logloss: 0.651525\n",
      "[1022]\tvalid_0's multi_logloss: 0.65149\n",
      "[1023]\tvalid_0's multi_logloss: 0.651481\n",
      "[1024]\tvalid_0's multi_logloss: 0.651444\n",
      "[1025]\tvalid_0's multi_logloss: 0.651416\n",
      "[1026]\tvalid_0's multi_logloss: 0.651392\n",
      "[1027]\tvalid_0's multi_logloss: 0.651381\n",
      "[1028]\tvalid_0's multi_logloss: 0.65137\n",
      "[1029]\tvalid_0's multi_logloss: 0.651335\n",
      "[1030]\tvalid_0's multi_logloss: 0.651319\n",
      "[1031]\tvalid_0's multi_logloss: 0.651285\n",
      "[1032]\tvalid_0's multi_logloss: 0.651269\n",
      "[1033]\tvalid_0's multi_logloss: 0.65123\n"
     ]
    },
    {
     "name": "stdout",
     "output_type": "stream",
     "text": [
      "[1034]\tvalid_0's multi_logloss: 0.651187\n",
      "[1035]\tvalid_0's multi_logloss: 0.651155\n",
      "[1036]\tvalid_0's multi_logloss: 0.651141\n",
      "[1037]\tvalid_0's multi_logloss: 0.651107\n",
      "[1038]\tvalid_0's multi_logloss: 0.651091\n",
      "[1039]\tvalid_0's multi_logloss: 0.651063\n",
      "[1040]\tvalid_0's multi_logloss: 0.651049\n",
      "[1041]\tvalid_0's multi_logloss: 0.651028\n",
      "[1042]\tvalid_0's multi_logloss: 0.651\n",
      "[1043]\tvalid_0's multi_logloss: 0.651012\n",
      "[1044]\tvalid_0's multi_logloss: 0.650978\n",
      "[1045]\tvalid_0's multi_logloss: 0.650959\n",
      "[1046]\tvalid_0's multi_logloss: 0.650937\n",
      "[1047]\tvalid_0's multi_logloss: 0.65089\n",
      "[1048]\tvalid_0's multi_logloss: 0.650859\n",
      "[1049]\tvalid_0's multi_logloss: 0.65082\n",
      "[1050]\tvalid_0's multi_logloss: 0.650816\n",
      "[1051]\tvalid_0's multi_logloss: 0.65075\n",
      "[1052]\tvalid_0's multi_logloss: 0.650739\n",
      "[1053]\tvalid_0's multi_logloss: 0.650746\n",
      "[1054]\tvalid_0's multi_logloss: 0.650755\n",
      "[1055]\tvalid_0's multi_logloss: 0.650735\n",
      "[1056]\tvalid_0's multi_logloss: 0.650739\n",
      "[1057]\tvalid_0's multi_logloss: 0.650734\n",
      "[1058]\tvalid_0's multi_logloss: 0.650748\n",
      "[1059]\tvalid_0's multi_logloss: 0.650734\n",
      "[1060]\tvalid_0's multi_logloss: 0.650704\n",
      "[1061]\tvalid_0's multi_logloss: 0.650672\n",
      "[1062]\tvalid_0's multi_logloss: 0.650659\n",
      "[1063]\tvalid_0's multi_logloss: 0.650628\n",
      "[1064]\tvalid_0's multi_logloss: 0.650636\n",
      "[1065]\tvalid_0's multi_logloss: 0.650626\n",
      "[1066]\tvalid_0's multi_logloss: 0.650596\n",
      "[1067]\tvalid_0's multi_logloss: 0.650583\n",
      "[1068]\tvalid_0's multi_logloss: 0.650574\n",
      "[1069]\tvalid_0's multi_logloss: 0.65053\n",
      "[1070]\tvalid_0's multi_logloss: 0.650536\n",
      "[1071]\tvalid_0's multi_logloss: 0.650516\n",
      "[1072]\tvalid_0's multi_logloss: 0.650524\n",
      "[1073]\tvalid_0's multi_logloss: 0.650498\n",
      "[1074]\tvalid_0's multi_logloss: 0.650501\n",
      "[1075]\tvalid_0's multi_logloss: 0.650516\n",
      "[1076]\tvalid_0's multi_logloss: 0.650483\n",
      "[1077]\tvalid_0's multi_logloss: 0.650458\n",
      "[1078]\tvalid_0's multi_logloss: 0.650395\n",
      "[1079]\tvalid_0's multi_logloss: 0.650377\n",
      "[1080]\tvalid_0's multi_logloss: 0.650336\n",
      "[1081]\tvalid_0's multi_logloss: 0.650307\n",
      "[1082]\tvalid_0's multi_logloss: 0.650307\n",
      "[1083]\tvalid_0's multi_logloss: 0.65029\n",
      "[1084]\tvalid_0's multi_logloss: 0.650287\n",
      "[1085]\tvalid_0's multi_logloss: 0.650259\n",
      "[1086]\tvalid_0's multi_logloss: 0.650236\n",
      "[1087]\tvalid_0's multi_logloss: 0.65022\n",
      "[1088]\tvalid_0's multi_logloss: 0.650199\n",
      "[1089]\tvalid_0's multi_logloss: 0.650195\n",
      "[1090]\tvalid_0's multi_logloss: 0.650208\n",
      "[1091]\tvalid_0's multi_logloss: 0.650211\n",
      "[1092]\tvalid_0's multi_logloss: 0.65018\n",
      "[1093]\tvalid_0's multi_logloss: 0.650181\n",
      "[1094]\tvalid_0's multi_logloss: 0.650185\n",
      "[1095]\tvalid_0's multi_logloss: 0.650162\n",
      "[1096]\tvalid_0's multi_logloss: 0.650118\n",
      "[1097]\tvalid_0's multi_logloss: 0.650087\n",
      "[1098]\tvalid_0's multi_logloss: 0.650047\n",
      "[1099]\tvalid_0's multi_logloss: 0.650036\n",
      "[1100]\tvalid_0's multi_logloss: 0.650021\n",
      "[1101]\tvalid_0's multi_logloss: 0.649981\n",
      "[1102]\tvalid_0's multi_logloss: 0.649955\n",
      "[1103]\tvalid_0's multi_logloss: 0.649935\n",
      "[1104]\tvalid_0's multi_logloss: 0.649936\n",
      "[1105]\tvalid_0's multi_logloss: 0.649905\n",
      "[1106]\tvalid_0's multi_logloss: 0.649921\n",
      "[1107]\tvalid_0's multi_logloss: 0.649913\n",
      "[1108]\tvalid_0's multi_logloss: 0.649891\n",
      "[1109]\tvalid_0's multi_logloss: 0.649853\n",
      "[1110]\tvalid_0's multi_logloss: 0.649817\n",
      "[1111]\tvalid_0's multi_logloss: 0.649789\n",
      "[1112]\tvalid_0's multi_logloss: 0.649765\n",
      "[1113]\tvalid_0's multi_logloss: 0.649753\n",
      "[1114]\tvalid_0's multi_logloss: 0.649722\n",
      "[1115]\tvalid_0's multi_logloss: 0.64971\n",
      "[1116]\tvalid_0's multi_logloss: 0.64969\n",
      "[1117]\tvalid_0's multi_logloss: 0.649676\n",
      "[1118]\tvalid_0's multi_logloss: 0.649679\n",
      "[1119]\tvalid_0's multi_logloss: 0.649653\n",
      "[1120]\tvalid_0's multi_logloss: 0.64965\n",
      "[1121]\tvalid_0's multi_logloss: 0.64962\n",
      "[1122]\tvalid_0's multi_logloss: 0.649612\n",
      "[1123]\tvalid_0's multi_logloss: 0.649601\n",
      "[1124]\tvalid_0's multi_logloss: 0.649575\n",
      "[1125]\tvalid_0's multi_logloss: 0.649568\n",
      "[1126]\tvalid_0's multi_logloss: 0.649534\n",
      "[1127]\tvalid_0's multi_logloss: 0.649507\n",
      "[1128]\tvalid_0's multi_logloss: 0.649492\n",
      "[1129]\tvalid_0's multi_logloss: 0.649476\n",
      "[1130]\tvalid_0's multi_logloss: 0.649496\n",
      "[1131]\tvalid_0's multi_logloss: 0.649479\n",
      "[1132]\tvalid_0's multi_logloss: 0.649454\n",
      "[1133]\tvalid_0's multi_logloss: 0.649413\n",
      "[1134]\tvalid_0's multi_logloss: 0.649417\n",
      "[1135]\tvalid_0's multi_logloss: 0.649405\n",
      "[1136]\tvalid_0's multi_logloss: 0.649369\n",
      "[1137]\tvalid_0's multi_logloss: 0.649328\n",
      "[1138]\tvalid_0's multi_logloss: 0.649295\n",
      "[1139]\tvalid_0's multi_logloss: 0.649264\n",
      "[1140]\tvalid_0's multi_logloss: 0.649245\n",
      "[1141]\tvalid_0's multi_logloss: 0.649267\n",
      "[1142]\tvalid_0's multi_logloss: 0.649263\n",
      "[1143]\tvalid_0's multi_logloss: 0.649255\n",
      "[1144]\tvalid_0's multi_logloss: 0.649255\n",
      "[1145]\tvalid_0's multi_logloss: 0.649264\n",
      "[1146]\tvalid_0's multi_logloss: 0.649254\n",
      "[1147]\tvalid_0's multi_logloss: 0.649246\n",
      "[1148]\tvalid_0's multi_logloss: 0.649237\n",
      "[1149]\tvalid_0's multi_logloss: 0.649234\n",
      "[1150]\tvalid_0's multi_logloss: 0.649223\n",
      "[1151]\tvalid_0's multi_logloss: 0.649221\n",
      "[1152]\tvalid_0's multi_logloss: 0.649226\n",
      "[1153]\tvalid_0's multi_logloss: 0.649218\n",
      "[1154]\tvalid_0's multi_logloss: 0.649246\n",
      "[1155]\tvalid_0's multi_logloss: 0.649206\n",
      "[1156]\tvalid_0's multi_logloss: 0.649162\n",
      "[1157]\tvalid_0's multi_logloss: 0.649173\n",
      "[1158]\tvalid_0's multi_logloss: 0.649176\n",
      "[1159]\tvalid_0's multi_logloss: 0.649164\n",
      "[1160]\tvalid_0's multi_logloss: 0.649156\n",
      "[1161]\tvalid_0's multi_logloss: 0.649137\n",
      "[1162]\tvalid_0's multi_logloss: 0.649106\n",
      "[1163]\tvalid_0's multi_logloss: 0.649091\n",
      "[1164]\tvalid_0's multi_logloss: 0.649097\n",
      "[1165]\tvalid_0's multi_logloss: 0.649087\n",
      "[1166]\tvalid_0's multi_logloss: 0.649071\n",
      "[1167]\tvalid_0's multi_logloss: 0.649074\n",
      "[1168]\tvalid_0's multi_logloss: 0.649069\n",
      "[1169]\tvalid_0's multi_logloss: 0.649059\n",
      "[1170]\tvalid_0's multi_logloss: 0.649033\n",
      "[1171]\tvalid_0's multi_logloss: 0.649049\n",
      "[1172]\tvalid_0's multi_logloss: 0.649061\n",
      "[1173]\tvalid_0's multi_logloss: 0.649035\n",
      "[1174]\tvalid_0's multi_logloss: 0.649038\n",
      "[1175]\tvalid_0's multi_logloss: 0.649034\n",
      "[1176]\tvalid_0's multi_logloss: 0.648995\n",
      "[1177]\tvalid_0's multi_logloss: 0.649021\n",
      "[1178]\tvalid_0's multi_logloss: 0.649009\n",
      "[1179]\tvalid_0's multi_logloss: 0.648984\n",
      "[1180]\tvalid_0's multi_logloss: 0.64897\n",
      "[1181]\tvalid_0's multi_logloss: 0.648977\n",
      "[1182]\tvalid_0's multi_logloss: 0.648998\n",
      "[1183]\tvalid_0's multi_logloss: 0.64898\n",
      "[1184]\tvalid_0's multi_logloss: 0.648978\n",
      "[1185]\tvalid_0's multi_logloss: 0.648964\n",
      "[1186]\tvalid_0's multi_logloss: 0.648945\n",
      "[1187]\tvalid_0's multi_logloss: 0.648929\n",
      "[1188]\tvalid_0's multi_logloss: 0.648915\n",
      "[1189]\tvalid_0's multi_logloss: 0.648919\n",
      "[1190]\tvalid_0's multi_logloss: 0.648902\n",
      "[1191]\tvalid_0's multi_logloss: 0.648868\n",
      "[1192]\tvalid_0's multi_logloss: 0.648888\n",
      "[1193]\tvalid_0's multi_logloss: 0.648861\n",
      "[1194]\tvalid_0's multi_logloss: 0.648862\n",
      "[1195]\tvalid_0's multi_logloss: 0.648846\n",
      "[1196]\tvalid_0's multi_logloss: 0.64882\n",
      "[1197]\tvalid_0's multi_logloss: 0.648802\n",
      "[1198]\tvalid_0's multi_logloss: 0.648787\n",
      "[1199]\tvalid_0's multi_logloss: 0.648768\n",
      "[1200]\tvalid_0's multi_logloss: 0.648738\n",
      "[1201]\tvalid_0's multi_logloss: 0.64874\n",
      "[1202]\tvalid_0's multi_logloss: 0.648734\n",
      "[1203]\tvalid_0's multi_logloss: 0.648737\n",
      "[1204]\tvalid_0's multi_logloss: 0.648703\n",
      "[1205]\tvalid_0's multi_logloss: 0.648688\n",
      "[1206]\tvalid_0's multi_logloss: 0.648666\n",
      "[1207]\tvalid_0's multi_logloss: 0.648661\n",
      "[1208]\tvalid_0's multi_logloss: 0.648672\n",
      "[1209]\tvalid_0's multi_logloss: 0.648664\n",
      "[1210]\tvalid_0's multi_logloss: 0.648664\n",
      "[1211]\tvalid_0's multi_logloss: 0.648654\n",
      "[1212]\tvalid_0's multi_logloss: 0.648627\n",
      "[1213]\tvalid_0's multi_logloss: 0.648597\n",
      "[1214]\tvalid_0's multi_logloss: 0.6486\n",
      "[1215]\tvalid_0's multi_logloss: 0.648611\n",
      "[1216]\tvalid_0's multi_logloss: 0.648611\n",
      "[1217]\tvalid_0's multi_logloss: 0.648611\n",
      "[1218]\tvalid_0's multi_logloss: 0.648616\n",
      "[1219]\tvalid_0's multi_logloss: 0.648621\n",
      "[1220]\tvalid_0's multi_logloss: 0.648633\n",
      "[1221]\tvalid_0's multi_logloss: 0.648639\n",
      "[1222]\tvalid_0's multi_logloss: 0.64862\n",
      "[1223]\tvalid_0's multi_logloss: 0.648633\n",
      "[1224]\tvalid_0's multi_logloss: 0.648607\n",
      "[1225]\tvalid_0's multi_logloss: 0.648599\n",
      "[1226]\tvalid_0's multi_logloss: 0.648601\n",
      "[1227]\tvalid_0's multi_logloss: 0.648574\n",
      "[1228]\tvalid_0's multi_logloss: 0.648582\n",
      "[1229]\tvalid_0's multi_logloss: 0.648586\n",
      "[1230]\tvalid_0's multi_logloss: 0.648605\n",
      "[1231]\tvalid_0's multi_logloss: 0.648597\n",
      "[1232]\tvalid_0's multi_logloss: 0.648603\n",
      "[1233]\tvalid_0's multi_logloss: 0.648637\n",
      "[1234]\tvalid_0's multi_logloss: 0.648608\n"
     ]
    },
    {
     "name": "stdout",
     "output_type": "stream",
     "text": [
      "[1235]\tvalid_0's multi_logloss: 0.648603\n",
      "[1236]\tvalid_0's multi_logloss: 0.648598\n",
      "[1237]\tvalid_0's multi_logloss: 0.648597\n",
      "[1238]\tvalid_0's multi_logloss: 0.648583\n",
      "[1239]\tvalid_0's multi_logloss: 0.648562\n",
      "[1240]\tvalid_0's multi_logloss: 0.648555\n",
      "[1241]\tvalid_0's multi_logloss: 0.648565\n",
      "[1242]\tvalid_0's multi_logloss: 0.648573\n",
      "[1243]\tvalid_0's multi_logloss: 0.648563\n",
      "[1244]\tvalid_0's multi_logloss: 0.648567\n",
      "[1245]\tvalid_0's multi_logloss: 0.648569\n",
      "[1246]\tvalid_0's multi_logloss: 0.648548\n",
      "[1247]\tvalid_0's multi_logloss: 0.648535\n",
      "[1248]\tvalid_0's multi_logloss: 0.648541\n",
      "[1249]\tvalid_0's multi_logloss: 0.648532\n",
      "[1250]\tvalid_0's multi_logloss: 0.64854\n",
      "[1251]\tvalid_0's multi_logloss: 0.648516\n",
      "[1252]\tvalid_0's multi_logloss: 0.648523\n",
      "[1253]\tvalid_0's multi_logloss: 0.648512\n",
      "[1254]\tvalid_0's multi_logloss: 0.64849\n",
      "[1255]\tvalid_0's multi_logloss: 0.648458\n",
      "[1256]\tvalid_0's multi_logloss: 0.648469\n",
      "[1257]\tvalid_0's multi_logloss: 0.648461\n",
      "[1258]\tvalid_0's multi_logloss: 0.648471\n",
      "[1259]\tvalid_0's multi_logloss: 0.64846\n",
      "[1260]\tvalid_0's multi_logloss: 0.64841\n",
      "[1261]\tvalid_0's multi_logloss: 0.648424\n",
      "[1262]\tvalid_0's multi_logloss: 0.648403\n",
      "[1263]\tvalid_0's multi_logloss: 0.648386\n",
      "[1264]\tvalid_0's multi_logloss: 0.648371\n",
      "[1265]\tvalid_0's multi_logloss: 0.648333\n",
      "[1266]\tvalid_0's multi_logloss: 0.648305\n",
      "[1267]\tvalid_0's multi_logloss: 0.648318\n",
      "[1268]\tvalid_0's multi_logloss: 0.648354\n",
      "[1269]\tvalid_0's multi_logloss: 0.648363\n",
      "[1270]\tvalid_0's multi_logloss: 0.648375\n",
      "[1271]\tvalid_0's multi_logloss: 0.648369\n",
      "[1272]\tvalid_0's multi_logloss: 0.648366\n",
      "[1273]\tvalid_0's multi_logloss: 0.648367\n",
      "[1274]\tvalid_0's multi_logloss: 0.64839\n",
      "[1275]\tvalid_0's multi_logloss: 0.648362\n",
      "[1276]\tvalid_0's multi_logloss: 0.648355\n",
      "[1277]\tvalid_0's multi_logloss: 0.648367\n",
      "[1278]\tvalid_0's multi_logloss: 0.648374\n",
      "[1279]\tvalid_0's multi_logloss: 0.648368\n",
      "[1280]\tvalid_0's multi_logloss: 0.648363\n",
      "[1281]\tvalid_0's multi_logloss: 0.648347\n",
      "[1282]\tvalid_0's multi_logloss: 0.648335\n",
      "[1283]\tvalid_0's multi_logloss: 0.648339\n",
      "[1284]\tvalid_0's multi_logloss: 0.648343\n",
      "[1285]\tvalid_0's multi_logloss: 0.648344\n",
      "[1286]\tvalid_0's multi_logloss: 0.648372\n",
      "Early stopping, best iteration is:\n",
      "[1266]\tvalid_0's multi_logloss: 0.648305\n",
      "CPU times: user 1h 6min 39s, sys: 9min 40s, total: 1h 16min 20s\n",
      "Wall time: 20min 34s\n"
     ]
    }
   ],
   "source": [
    "# 1500, 0.02\n",
    "%%time\n",
    "\n",
    "lightgbm_model = lightgbm.train(params = params,\n",
    "                                train_set = dtrain, \n",
    "                                num_boost_round = num_boost_round,\n",
    "                                valid_sets = dtest,\n",
    "                                early_stopping_rounds=20,\n",
    "                                )"
   ]
  },
  {
   "cell_type": "code",
   "execution_count": 194,
   "metadata": {},
   "outputs": [
    {
     "name": "stdout",
     "output_type": "stream",
     "text": [
      "<Response [200]>\n"
     ]
    }
   ],
   "source": [
    "myslack.send_slack('Lightgbm model training finish!, best_score : {}'.format(lightgbm_model.best_score))"
   ]
  },
  {
   "cell_type": "code",
   "execution_count": 200,
   "metadata": {
    "scrolled": false
   },
   "outputs": [],
   "source": [
    "lightgbm_model.best_iteration = 3487"
   ]
  },
  {
   "cell_type": "code",
   "execution_count": 201,
   "metadata": {},
   "outputs": [
    {
     "data": {
      "text/plain": [
       "defaultdict(dict, {'valid_0': {'multi_logloss': 0.6500478227461085}})"
      ]
     },
     "execution_count": 201,
     "metadata": {},
     "output_type": "execute_result"
    }
   ],
   "source": [
    "lightgbm_model.best_score"
   ]
  },
  {
   "cell_type": "code",
   "execution_count": 197,
   "metadata": {},
   "outputs": [],
   "source": [
    "lightgbm_model."
   ]
  },
  {
   "cell_type": "code",
   "execution_count": 179,
   "metadata": {},
   "outputs": [
    {
     "data": {
      "text/plain": [
       "array([52475, 49984, 67309, ...,     0,   368,  2979])"
      ]
     },
     "execution_count": 179,
     "metadata": {},
     "output_type": "execute_result"
    }
   ],
   "source": [
    "lightgbm_model.feature_importance()"
   ]
  },
  {
   "cell_type": "code",
   "execution_count": 180,
   "metadata": {},
   "outputs": [
    {
     "name": "stdout",
     "output_type": "stream",
     "text": [
      "['Column_0', 'Column_1', 'Column_2', 'Column_3', 'Column_4', 'Column_5', 'Column_6', 'Column_7', 'Column_8', 'Column_9', 'Column_10', 'Column_11', 'Column_12', 'Column_13', 'Column_14', 'Column_15', 'Column_16', 'Column_17', 'Column_18', 'Column_19', 'Column_20', 'Column_21', 'Column_22', 'Column_23', 'Column_24', 'Column_25', 'Column_26', 'Column_27', 'Column_28', 'Column_29', 'Column_30', 'Column_31', 'Column_32', 'Column_33', 'Column_34', 'Column_35', 'Column_36', 'Column_37', 'Column_38', 'Column_39', 'Column_40', 'Column_41', 'Column_42', 'Column_43', 'Column_44', 'Column_45', 'Column_46', 'Column_47', 'Column_48', 'Column_49', 'Column_50', 'Column_51', 'Column_52', 'Column_53', 'Column_54', 'Column_55', 'Column_56', 'Column_57', 'Column_58', 'Column_59', 'Column_60', 'Column_61', 'Column_62', 'Column_63', 'Column_64', 'Column_65', 'Column_66', 'Column_67', 'Column_68', 'Column_69', 'Column_70', 'Column_71', 'Column_72', 'Column_73', 'Column_74', 'Column_75', 'Column_76', 'Column_77', 'Column_78', 'Column_79', 'Column_80', 'Column_81', 'Column_82', 'Column_83', 'Column_84', 'Column_85', 'Column_86', 'Column_87', 'Column_88', 'Column_89', 'Column_90', 'Column_91', 'Column_92', 'Column_93', 'Column_94', 'Column_95', 'Column_96', 'Column_97', 'Column_98', 'Column_99', 'Column_100', 'Column_101', 'Column_102', 'Column_103', 'Column_104', 'Column_105', 'Column_106', 'Column_107', 'Column_108', 'Column_109', 'Column_110', 'Column_111', 'Column_112', 'Column_113', 'Column_114', 'Column_115', 'Column_116', 'Column_117', 'Column_118', 'Column_119', 'Column_120', 'Column_121', 'Column_122', 'Column_123', 'Column_124', 'Column_125', 'Column_126', 'Column_127', 'Column_128', 'Column_129', 'Column_130', 'Column_131', 'Column_132', 'Column_133', 'Column_134', 'Column_135', 'Column_136', 'Column_137', 'Column_138', 'Column_139', 'Column_140', 'Column_141', 'Column_142', 'Column_143', 'Column_144', 'Column_145', 'Column_146', 'Column_147', 'Column_148', 'Column_149', 'Column_150', 'Column_151', 'Column_152', 'Column_153', 'Column_154', 'Column_155', 'Column_156', 'Column_157', 'Column_158', 'Column_159', 'Column_160', 'Column_161', 'Column_162', 'Column_163', 'Column_164', 'Column_165', 'Column_166', 'Column_167', 'Column_168', 'Column_169', 'Column_170', 'Column_171', 'Column_172', 'Column_173', 'Column_174', 'Column_175', 'Column_176', 'Column_177', 'Column_178', 'Column_179', 'Column_180', 'Column_181', 'Column_182', 'Column_183', 'Column_184', 'Column_185', 'Column_186', 'Column_187', 'Column_188', 'Column_189', 'Column_190', 'Column_191', 'Column_192', 'Column_193', 'Column_194', 'Column_195', 'Column_196', 'Column_197', 'Column_198', 'Column_199', 'Column_200', 'Column_201', 'Column_202', 'Column_203', 'Column_204', 'Column_205', 'Column_206', 'Column_207', 'Column_208', 'Column_209', 'Column_210', 'Column_211', 'Column_212', 'Column_213', 'Column_214', 'Column_215', 'Column_216', 'Column_217', 'Column_218', 'Column_219', 'Column_220', 'Column_221', 'Column_222', 'Column_223', 'Column_224', 'Column_225', 'Column_226', 'Column_227', 'Column_228', 'Column_229', 'Column_230', 'Column_231', 'Column_232', 'Column_233', 'Column_234', 'Column_235', 'Column_236', 'Column_237', 'Column_238', 'Column_239', 'Column_240', 'Column_241', 'Column_242', 'Column_243', 'Column_244', 'Column_245', 'Column_246', 'Column_247', 'Column_248', 'Column_249', 'Column_250', 'Column_251', 'Column_252', 'Column_253', 'Column_254', 'Column_255', 'Column_256', 'Column_257', 'Column_258', 'Column_259', 'Column_260', 'Column_261', 'Column_262', 'Column_263', 'Column_264', 'Column_265', 'Column_266', 'Column_267', 'Column_268', 'Column_269', 'Column_270', 'Column_271', 'Column_272', 'Column_273', 'Column_274', 'Column_275', 'Column_276', 'Column_277', 'Column_278', 'Column_279', 'Column_280', 'Column_281', 'Column_282', 'Column_283', 'Column_284', 'Column_285', 'Column_286', 'Column_287', 'Column_288', 'Column_289', 'Column_290', 'Column_291', 'Column_292', 'Column_293', 'Column_294', 'Column_295', 'Column_296', 'Column_297', 'Column_298', 'Column_299', 'Column_300', 'Column_301', 'Column_302', 'Column_303', 'Column_304', 'Column_305', 'Column_306', 'Column_307', 'Column_308', 'Column_309', 'Column_310', 'Column_311', 'Column_312', 'Column_313', 'Column_314', 'Column_315', 'Column_316', 'Column_317', 'Column_318', 'Column_319', 'Column_320', 'Column_321', 'Column_322', 'Column_323', 'Column_324', 'Column_325', 'Column_326', 'Column_327', 'Column_328', 'Column_329', 'Column_330', 'Column_331', 'Column_332', 'Column_333', 'Column_334', 'Column_335', 'Column_336', 'Column_337', 'Column_338', 'Column_339', 'Column_340', 'Column_341', 'Column_342', 'Column_343', 'Column_344', 'Column_345', 'Column_346', 'Column_347', 'Column_348', 'Column_349', 'Column_350', 'Column_351', 'Column_352', 'Column_353', 'Column_354', 'Column_355', 'Column_356', 'Column_357', 'Column_358', 'Column_359', 'Column_360', 'Column_361', 'Column_362', 'Column_363', 'Column_364', 'Column_365', 'Column_366', 'Column_367', 'Column_368', 'Column_369', 'Column_370', 'Column_371', 'Column_372', 'Column_373', 'Column_374', 'Column_375', 'Column_376', 'Column_377', 'Column_378', 'Column_379', 'Column_380', 'Column_381', 'Column_382', 'Column_383', 'Column_384', 'Column_385', 'Column_386', 'Column_387', 'Column_388', 'Column_389', 'Column_390', 'Column_391', 'Column_392', 'Column_393', 'Column_394', 'Column_395', 'Column_396', 'Column_397', 'Column_398', 'Column_399', 'Column_400', 'Column_401', 'Column_402', 'Column_403', 'Column_404', 'Column_405', 'Column_406', 'Column_407', 'Column_408', 'Column_409', 'Column_410', 'Column_411', 'Column_412', 'Column_413', 'Column_414', 'Column_415', 'Column_416', 'Column_417', 'Column_418', 'Column_419', 'Column_420', 'Column_421', 'Column_422', 'Column_423', 'Column_424', 'Column_425', 'Column_426', 'Column_427', 'Column_428', 'Column_429', 'Column_430', 'Column_431', 'Column_432', 'Column_433', 'Column_434', 'Column_435', 'Column_436', 'Column_437', 'Column_438', 'Column_439', 'Column_440', 'Column_441', 'Column_442', 'Column_443', 'Column_444', 'Column_445', 'Column_446', 'Column_447', 'Column_448', 'Column_449', 'Column_450', 'Column_451', 'Column_452', 'Column_453', 'Column_454', 'Column_455', 'Column_456', 'Column_457', 'Column_458', 'Column_459', 'Column_460', 'Column_461', 'Column_462', 'Column_463', 'Column_464', 'Column_465', 'Column_466', 'Column_467', 'Column_468', 'Column_469', 'Column_470', 'Column_471', 'Column_472', 'Column_473', 'Column_474', 'Column_475', 'Column_476', 'Column_477', 'Column_478', 'Column_479', 'Column_480', 'Column_481', 'Column_482', 'Column_483', 'Column_484', 'Column_485', 'Column_486', 'Column_487', 'Column_488', 'Column_489', 'Column_490', 'Column_491', 'Column_492', 'Column_493', 'Column_494', 'Column_495', 'Column_496', 'Column_497', 'Column_498', 'Column_499', 'Column_500', 'Column_501', 'Column_502', 'Column_503', 'Column_504', 'Column_505', 'Column_506', 'Column_507', 'Column_508', 'Column_509', 'Column_510', 'Column_511', 'Column_512', 'Column_513', 'Column_514', 'Column_515', 'Column_516', 'Column_517', 'Column_518', 'Column_519', 'Column_520', 'Column_521', 'Column_522', 'Column_523', 'Column_524', 'Column_525', 'Column_526', 'Column_527', 'Column_528', 'Column_529', 'Column_530', 'Column_531', 'Column_532', 'Column_533', 'Column_534', 'Column_535', 'Column_536', 'Column_537', 'Column_538', 'Column_539', 'Column_540', 'Column_541', 'Column_542', 'Column_543', 'Column_544', 'Column_545', 'Column_546', 'Column_547', 'Column_548', 'Column_549', 'Column_550', 'Column_551', 'Column_552', 'Column_553', 'Column_554', 'Column_555', 'Column_556', 'Column_557', 'Column_558', 'Column_559', 'Column_560', 'Column_561', 'Column_562', 'Column_563', 'Column_564', 'Column_565', 'Column_566', 'Column_567', 'Column_568', 'Column_569', 'Column_570', 'Column_571', 'Column_572', 'Column_573', 'Column_574', 'Column_575', 'Column_576', 'Column_577', 'Column_578', 'Column_579', 'Column_580', 'Column_581', 'Column_582', 'Column_583', 'Column_584', 'Column_585', 'Column_586', 'Column_587', 'Column_588', 'Column_589', 'Column_590', 'Column_591', 'Column_592', 'Column_593', 'Column_594', 'Column_595', 'Column_596', 'Column_597', 'Column_598', 'Column_599', 'Column_600', 'Column_601', 'Column_602', 'Column_603', 'Column_604', 'Column_605', 'Column_606', 'Column_607', 'Column_608', 'Column_609', 'Column_610', 'Column_611', 'Column_612', 'Column_613', 'Column_614', 'Column_615', 'Column_616', 'Column_617', 'Column_618', 'Column_619', 'Column_620', 'Column_621', 'Column_622', 'Column_623', 'Column_624', 'Column_625', 'Column_626', 'Column_627', 'Column_628', 'Column_629', 'Column_630', 'Column_631', 'Column_632', 'Column_633', 'Column_634', 'Column_635', 'Column_636', 'Column_637', 'Column_638', 'Column_639', 'Column_640', 'Column_641', 'Column_642', 'Column_643', 'Column_644', 'Column_645', 'Column_646', 'Column_647', 'Column_648', 'Column_649', 'Column_650', 'Column_651', 'Column_652', 'Column_653', 'Column_654', 'Column_655', 'Column_656', 'Column_657', 'Column_658', 'Column_659', 'Column_660', 'Column_661', 'Column_662', 'Column_663', 'Column_664', 'Column_665', 'Column_666', 'Column_667', 'Column_668', 'Column_669', 'Column_670', 'Column_671', 'Column_672', 'Column_673', 'Column_674', 'Column_675', 'Column_676', 'Column_677', 'Column_678', 'Column_679', 'Column_680', 'Column_681', 'Column_682', 'Column_683', 'Column_684', 'Column_685', 'Column_686', 'Column_687', 'Column_688', 'Column_689', 'Column_690', 'Column_691', 'Column_692', 'Column_693', 'Column_694', 'Column_695', 'Column_696', 'Column_697', 'Column_698', 'Column_699', 'Column_700', 'Column_701', 'Column_702', 'Column_703', 'Column_704', 'Column_705', 'Column_706', 'Column_707', 'Column_708', 'Column_709', 'Column_710', 'Column_711', 'Column_712', 'Column_713', 'Column_714', 'Column_715', 'Column_716', 'Column_717', 'Column_718', 'Column_719', 'Column_720', 'Column_721', 'Column_722', 'Column_723', 'Column_724', 'Column_725', 'Column_726', 'Column_727', 'Column_728', 'Column_729', 'Column_730', 'Column_731', 'Column_732', 'Column_733', 'Column_734', 'Column_735', 'Column_736', 'Column_737', 'Column_738', 'Column_739', 'Column_740', 'Column_741', 'Column_742', 'Column_743', 'Column_744', 'Column_745', 'Column_746', 'Column_747', 'Column_748', 'Column_749', 'Column_750', 'Column_751', 'Column_752', 'Column_753', 'Column_754', 'Column_755', 'Column_756', 'Column_757', 'Column_758', 'Column_759', 'Column_760', 'Column_761', 'Column_762', 'Column_763', 'Column_764', 'Column_765', 'Column_766', 'Column_767', 'Column_768', 'Column_769', 'Column_770', 'Column_771', 'Column_772', 'Column_773', 'Column_774', 'Column_775', 'Column_776', 'Column_777', 'Column_778', 'Column_779', 'Column_780', 'Column_781', 'Column_782', 'Column_783', 'Column_784', 'Column_785', 'Column_786', 'Column_787', 'Column_788', 'Column_789', 'Column_790', 'Column_791', 'Column_792', 'Column_793', 'Column_794', 'Column_795', 'Column_796', 'Column_797', 'Column_798', 'Column_799', 'Column_800', 'Column_801', 'Column_802', 'Column_803', 'Column_804', 'Column_805', 'Column_806', 'Column_807', 'Column_808', 'Column_809', 'Column_810', 'Column_811', 'Column_812', 'Column_813', 'Column_814', 'Column_815', 'Column_816', 'Column_817', 'Column_818', 'Column_819', 'Column_820', 'Column_821', 'Column_822', 'Column_823', 'Column_824', 'Column_825', 'Column_826', 'Column_827', 'Column_828', 'Column_829', 'Column_830', 'Column_831', 'Column_832', 'Column_833', 'Column_834', 'Column_835', 'Column_836', 'Column_837', 'Column_838', 'Column_839', 'Column_840', 'Column_841', 'Column_842', 'Column_843', 'Column_844', 'Column_845', 'Column_846', 'Column_847', 'Column_848', 'Column_849', 'Column_850', 'Column_851', 'Column_852', 'Column_853', 'Column_854', 'Column_855', 'Column_856', 'Column_857', 'Column_858', 'Column_859', 'Column_860', 'Column_861', 'Column_862', 'Column_863', 'Column_864', 'Column_865', 'Column_866', 'Column_867', 'Column_868', 'Column_869', 'Column_870', 'Column_871', 'Column_872', 'Column_873', 'Column_874', 'Column_875', 'Column_876', 'Column_877', 'Column_878', 'Column_879', 'Column_880', 'Column_881', 'Column_882', 'Column_883', 'Column_884', 'Column_885', 'Column_886', 'Column_887', 'Column_888', 'Column_889', 'Column_890', 'Column_891', 'Column_892', 'Column_893', 'Column_894', 'Column_895', 'Column_896', 'Column_897', 'Column_898', 'Column_899', 'Column_900', 'Column_901', 'Column_902', 'Column_903', 'Column_904', 'Column_905', 'Column_906', 'Column_907', 'Column_908', 'Column_909', 'Column_910', 'Column_911', 'Column_912', 'Column_913', 'Column_914', 'Column_915', 'Column_916', 'Column_917', 'Column_918', 'Column_919', 'Column_920', 'Column_921', 'Column_922', 'Column_923', 'Column_924', 'Column_925', 'Column_926', 'Column_927', 'Column_928', 'Column_929', 'Column_930', 'Column_931', 'Column_932', 'Column_933', 'Column_934', 'Column_935', 'Column_936', 'Column_937', 'Column_938', 'Column_939', 'Column_940', 'Column_941', 'Column_942', 'Column_943', 'Column_944', 'Column_945', 'Column_946', 'Column_947', 'Column_948', 'Column_949', 'Column_950', 'Column_951', 'Column_952', 'Column_953', 'Column_954', 'Column_955', 'Column_956', 'Column_957', 'Column_958', 'Column_959', 'Column_960', 'Column_961', 'Column_962', 'Column_963', 'Column_964', 'Column_965', 'Column_966', 'Column_967', 'Column_968', 'Column_969', 'Column_970', 'Column_971', 'Column_972', 'Column_973', 'Column_974', 'Column_975', 'Column_976', 'Column_977', 'Column_978', 'Column_979', 'Column_980', 'Column_981', 'Column_982', 'Column_983', 'Column_984', 'Column_985', 'Column_986', 'Column_987', 'Column_988', 'Column_989', 'Column_990', 'Column_991', 'Column_992', 'Column_993', 'Column_994', 'Column_995', 'Column_996', 'Column_997', 'Column_998', 'Column_999', 'Column_1000', 'Column_1001', 'Column_1002', 'Column_1003', 'Column_1004', 'Column_1005', 'Column_1006', 'Column_1007', 'Column_1008', 'Column_1009', 'Column_1010', 'Column_1011', 'Column_1012', 'Column_1013', 'Column_1014', 'Column_1015', 'Column_1016', 'Column_1017', 'Column_1018', 'Column_1019', 'Column_1020', 'Column_1021', 'Column_1022', 'Column_1023', 'Column_1024', 'Column_1025', 'Column_1026', 'Column_1027', 'Column_1028', 'Column_1029', 'Column_1030', 'Column_1031', 'Column_1032', 'Column_1033', 'Column_1034', 'Column_1035', 'Column_1036', 'Column_1037', 'Column_1038', 'Column_1039', 'Column_1040', 'Column_1041', 'Column_1042', 'Column_1043', 'Column_1044', 'Column_1045', 'Column_1046', 'Column_1047', 'Column_1048', 'Column_1049', 'Column_1050', 'Column_1051', 'Column_1052', 'Column_1053', 'Column_1054', 'Column_1055', 'Column_1056', 'Column_1057', 'Column_1058', 'Column_1059', 'Column_1060', 'Column_1061', 'Column_1062', 'Column_1063', 'Column_1064', 'Column_1065', 'Column_1066', 'Column_1067', 'Column_1068', 'Column_1069', 'Column_1070', 'Column_1071', 'Column_1072', 'Column_1073', 'Column_1074', 'Column_1075', 'Column_1076', 'Column_1077', 'Column_1078', 'Column_1079', 'Column_1080', 'Column_1081', 'Column_1082', 'Column_1083', 'Column_1084', 'Column_1085', 'Column_1086', 'Column_1087', 'Column_1088', 'Column_1089', 'Column_1090', 'Column_1091', 'Column_1092', 'Column_1093', 'Column_1094', 'Column_1095', 'Column_1096', 'Column_1097', 'Column_1098', 'Column_1099', 'Column_1100', 'Column_1101', 'Column_1102', 'Column_1103', 'Column_1104', 'Column_1105', 'Column_1106', 'Column_1107', 'Column_1108', 'Column_1109', 'Column_1110', 'Column_1111', 'Column_1112', 'Column_1113', 'Column_1114', 'Column_1115', 'Column_1116', 'Column_1117', 'Column_1118', 'Column_1119', 'Column_1120', 'Column_1121', 'Column_1122', 'Column_1123', 'Column_1124', 'Column_1125', 'Column_1126', 'Column_1127', 'Column_1128', 'Column_1129', 'Column_1130', 'Column_1131', 'Column_1132', 'Column_1133', 'Column_1134', 'Column_1135', 'Column_1136', 'Column_1137', 'Column_1138', 'Column_1139', 'Column_1140', 'Column_1141', 'Column_1142', 'Column_1143', 'Column_1144', 'Column_1145', 'Column_1146', 'Column_1147', 'Column_1148', 'Column_1149', 'Column_1150', 'Column_1151', 'Column_1152', 'Column_1153', 'Column_1154', 'Column_1155', 'Column_1156', 'Column_1157', 'Column_1158', 'Column_1159', 'Column_1160', 'Column_1161', 'Column_1162', 'Column_1163', 'Column_1164', 'Column_1165', 'Column_1166', 'Column_1167', 'Column_1168', 'Column_1169', 'Column_1170', 'Column_1171', 'Column_1172', 'Column_1173', 'Column_1174', 'Column_1175', 'Column_1176', 'Column_1177', 'Column_1178', 'Column_1179', 'Column_1180', 'Column_1181', 'Column_1182', 'Column_1183', 'Column_1184', 'Column_1185', 'Column_1186', 'Column_1187', 'Column_1188', 'Column_1189', 'Column_1190', 'Column_1191', 'Column_1192', 'Column_1193', 'Column_1194', 'Column_1195', 'Column_1196', 'Column_1197', 'Column_1198', 'Column_1199', 'Column_1200', 'Column_1201', 'Column_1202', 'Column_1203', 'Column_1204', 'Column_1205', 'Column_1206', 'Column_1207', 'Column_1208', 'Column_1209', 'Column_1210', 'Column_1211', 'Column_1212', 'Column_1213', 'Column_1214', 'Column_1215', 'Column_1216', 'Column_1217', 'Column_1218', 'Column_1219', 'Column_1220', 'Column_1221', 'Column_1222', 'Column_1223', 'Column_1224', 'Column_1225', 'Column_1226', 'Column_1227', 'Column_1228', 'Column_1229', 'Column_1230', 'Column_1231', 'Column_1232', 'Column_1233', 'Column_1234', 'Column_1235', 'Column_1236', 'Column_1237', 'Column_1238', 'Column_1239', 'Column_1240', 'Column_1241', 'Column_1242', 'Column_1243', 'Column_1244', 'Column_1245', 'Column_1246', 'Column_1247', 'Column_1248', 'Column_1249', 'Column_1250', 'Column_1251', 'Column_1252', 'Column_1253', 'Column_1254', 'Column_1255', 'Column_1256', 'Column_1257', 'Column_1258', 'Column_1259', 'Column_1260', 'Column_1261', 'Column_1262', 'Column_1263', 'Column_1264', 'Column_1265', 'Column_1266', 'Column_1267', 'Column_1268', 'Column_1269', 'Column_1270', 'Column_1271', 'Column_1272', 'Column_1273', 'Column_1274', 'Column_1275', 'Column_1276', 'Column_1277', 'Column_1278', 'Column_1279', 'Column_1280', 'Column_1281', 'Column_1282', 'Column_1283', 'Column_1284', 'Column_1285', 'Column_1286', 'Column_1287', 'Column_1288', 'Column_1289', 'Column_1290', 'Column_1291', 'Column_1292', 'Column_1293', 'Column_1294', 'Column_1295', 'Column_1296', 'Column_1297', 'Column_1298', 'Column_1299', 'Column_1300', 'Column_1301', 'Column_1302', 'Column_1303', 'Column_1304', 'Column_1305', 'Column_1306', 'Column_1307', 'Column_1308', 'Column_1309', 'Column_1310', 'Column_1311', 'Column_1312', 'Column_1313', 'Column_1314', 'Column_1315', 'Column_1316', 'Column_1317', 'Column_1318', 'Column_1319', 'Column_1320', 'Column_1321', 'Column_1322', 'Column_1323', 'Column_1324', 'Column_1325', 'Column_1326', 'Column_1327', 'Column_1328', 'Column_1329', 'Column_1330', 'Column_1331', 'Column_1332', 'Column_1333', 'Column_1334', 'Column_1335', 'Column_1336', 'Column_1337', 'Column_1338', 'Column_1339', 'Column_1340', 'Column_1341', 'Column_1342', 'Column_1343', 'Column_1344', 'Column_1345', 'Column_1346', 'Column_1347', 'Column_1348', 'Column_1349', 'Column_1350', 'Column_1351', 'Column_1352', 'Column_1353', 'Column_1354', 'Column_1355', 'Column_1356', 'Column_1357', 'Column_1358', 'Column_1359', 'Column_1360', 'Column_1361', 'Column_1362', 'Column_1363', 'Column_1364', 'Column_1365', 'Column_1366', 'Column_1367', 'Column_1368', 'Column_1369', 'Column_1370', 'Column_1371', 'Column_1372', 'Column_1373', 'Column_1374', 'Column_1375', 'Column_1376', 'Column_1377', 'Column_1378', 'Column_1379', 'Column_1380', 'Column_1381', 'Column_1382', 'Column_1383', 'Column_1384', 'Column_1385', 'Column_1386', 'Column_1387', 'Column_1388', 'Column_1389', 'Column_1390', 'Column_1391', 'Column_1392', 'Column_1393', 'Column_1394', 'Column_1395', 'Column_1396', 'Column_1397', 'Column_1398', 'Column_1399', 'Column_1400', 'Column_1401', 'Column_1402', 'Column_1403', 'Column_1404', 'Column_1405', 'Column_1406', 'Column_1407', 'Column_1408', 'Column_1409', 'Column_1410', 'Column_1411', 'Column_1412', 'Column_1413', 'Column_1414', 'Column_1415', 'Column_1416', 'Column_1417', 'Column_1418', 'Column_1419', 'Column_1420', 'Column_1421', 'Column_1422', 'Column_1423', 'Column_1424', 'Column_1425', 'Column_1426', 'Column_1427', 'Column_1428', 'Column_1429', 'Column_1430', 'Column_1431', 'Column_1432', 'Column_1433', 'Column_1434', 'Column_1435', 'Column_1436', 'Column_1437', 'Column_1438', 'Column_1439', 'Column_1440', 'Column_1441', 'Column_1442', 'Column_1443', 'Column_1444', 'Column_1445', 'Column_1446', 'Column_1447', 'Column_1448', 'Column_1449', 'Column_1450', 'Column_1451', 'Column_1452', 'Column_1453', 'Column_1454', 'Column_1455', 'Column_1456', 'Column_1457', 'Column_1458', 'Column_1459', 'Column_1460', 'Column_1461', 'Column_1462', 'Column_1463', 'Column_1464', 'Column_1465', 'Column_1466', 'Column_1467', 'Column_1468', 'Column_1469', 'Column_1470', 'Column_1471', 'Column_1472', 'Column_1473', 'Column_1474', 'Column_1475', 'Column_1476', 'Column_1477', 'Column_1478', 'Column_1479', 'Column_1480', 'Column_1481', 'Column_1482', 'Column_1483', 'Column_1484', 'Column_1485', 'Column_1486', 'Column_1487', 'Column_1488', 'Column_1489', 'Column_1490', 'Column_1491', 'Column_1492', 'Column_1493', 'Column_1494', 'Column_1495', 'Column_1496', 'Column_1497', 'Column_1498', 'Column_1499', 'Column_1500', 'Column_1501', 'Column_1502', 'Column_1503', 'Column_1504', 'Column_1505', 'Column_1506', 'Column_1507', 'Column_1508', 'Column_1509', 'Column_1510', 'Column_1511', 'Column_1512', 'Column_1513', 'Column_1514', 'Column_1515', 'Column_1516', 'Column_1517', 'Column_1518', 'Column_1519', 'Column_1520', 'Column_1521', 'Column_1522', 'Column_1523', 'Column_1524', 'Column_1525', 'Column_1526', 'Column_1527', 'Column_1528', 'Column_1529', 'Column_1530', 'Column_1531', 'Column_1532', 'Column_1533', 'Column_1534', 'Column_1535', 'Column_1536', 'Column_1537', 'Column_1538', 'Column_1539', 'Column_1540', 'Column_1541', 'Column_1542', 'Column_1543', 'Column_1544', 'Column_1545', 'Column_1546', 'Column_1547', 'Column_1548', 'Column_1549', 'Column_1550', 'Column_1551', 'Column_1552', 'Column_1553', 'Column_1554', 'Column_1555', 'Column_1556', 'Column_1557', 'Column_1558', 'Column_1559', 'Column_1560', 'Column_1561', 'Column_1562', 'Column_1563', 'Column_1564', 'Column_1565', 'Column_1566', 'Column_1567', 'Column_1568', 'Column_1569', 'Column_1570', 'Column_1571', 'Column_1572', 'Column_1573', 'Column_1574', 'Column_1575', 'Column_1576', 'Column_1577', 'Column_1578', 'Column_1579', 'Column_1580', 'Column_1581', 'Column_1582', 'Column_1583', 'Column_1584', 'Column_1585', 'Column_1586', 'Column_1587', 'Column_1588', 'Column_1589', 'Column_1590', 'Column_1591', 'Column_1592', 'Column_1593', 'Column_1594', 'Column_1595', 'Column_1596', 'Column_1597', 'Column_1598', 'Column_1599', 'Column_1600', 'Column_1601', 'Column_1602', 'Column_1603', 'Column_1604', 'Column_1605', 'Column_1606', 'Column_1607', 'Column_1608', 'Column_1609', 'Column_1610', 'Column_1611', 'Column_1612', 'Column_1613', 'Column_1614', 'Column_1615', 'Column_1616', 'Column_1617', 'Column_1618', 'Column_1619', 'Column_1620', 'Column_1621', 'Column_1622', 'Column_1623', 'Column_1624', 'Column_1625', 'Column_1626', 'Column_1627', 'Column_1628', 'Column_1629', 'Column_1630', 'Column_1631', 'Column_1632', 'Column_1633', 'Column_1634', 'Column_1635', 'Column_1636', 'Column_1637', 'Column_1638', 'Column_1639', 'Column_1640', 'Column_1641', 'Column_1642', 'Column_1643', 'Column_1644', 'Column_1645', 'Column_1646', 'Column_1647', 'Column_1648', 'Column_1649', 'Column_1650', 'Column_1651', 'Column_1652', 'Column_1653', 'Column_1654', 'Column_1655', 'Column_1656', 'Column_1657', 'Column_1658', 'Column_1659', 'Column_1660', 'Column_1661', 'Column_1662', 'Column_1663', 'Column_1664', 'Column_1665', 'Column_1666', 'Column_1667', 'Column_1668', 'Column_1669', 'Column_1670', 'Column_1671', 'Column_1672', 'Column_1673', 'Column_1674', 'Column_1675', 'Column_1676', 'Column_1677', 'Column_1678', 'Column_1679', 'Column_1680', 'Column_1681', 'Column_1682', 'Column_1683', 'Column_1684', 'Column_1685', 'Column_1686', 'Column_1687', 'Column_1688', 'Column_1689', 'Column_1690', 'Column_1691', 'Column_1692', 'Column_1693', 'Column_1694', 'Column_1695', 'Column_1696', 'Column_1697', 'Column_1698', 'Column_1699', 'Column_1700', 'Column_1701', 'Column_1702', 'Column_1703', 'Column_1704', 'Column_1705', 'Column_1706', 'Column_1707', 'Column_1708', 'Column_1709', 'Column_1710', 'Column_1711', 'Column_1712', 'Column_1713', 'Column_1714', 'Column_1715', 'Column_1716', 'Column_1717', 'Column_1718', 'Column_1719', 'Column_1720', 'Column_1721', 'Column_1722', 'Column_1723', 'Column_1724', 'Column_1725', 'Column_1726', 'Column_1727', 'Column_1728', 'Column_1729', 'Column_1730', 'Column_1731', 'Column_1732', 'Column_1733', 'Column_1734', 'Column_1735', 'Column_1736', 'Column_1737', 'Column_1738', 'Column_1739', 'Column_1740', 'Column_1741', 'Column_1742', 'Column_1743', 'Column_1744', 'Column_1745', 'Column_1746', 'Column_1747', 'Column_1748', 'Column_1749', 'Column_1750', 'Column_1751', 'Column_1752', 'Column_1753', 'Column_1754', 'Column_1755', 'Column_1756', 'Column_1757', 'Column_1758', 'Column_1759', 'Column_1760', 'Column_1761', 'Column_1762', 'Column_1763', 'Column_1764', 'Column_1765', 'Column_1766', 'Column_1767', 'Column_1768', 'Column_1769', 'Column_1770', 'Column_1771', 'Column_1772', 'Column_1773', 'Column_1774', 'Column_1775', 'Column_1776', 'Column_1777', 'Column_1778', 'Column_1779', 'Column_1780', 'Column_1781', 'Column_1782', 'Column_1783', 'Column_1784', 'Column_1785', 'Column_1786', 'Column_1787', 'Column_1788', 'Column_1789', 'Column_1790', 'Column_1791', 'Column_1792', 'Column_1793', 'Column_1794', 'Column_1795', 'Column_1796', 'Column_1797', 'Column_1798', 'Column_1799', 'Column_1800', 'Column_1801', 'Column_1802', 'Column_1803', 'Column_1804', 'Column_1805', 'Column_1806', 'Column_1807', 'Column_1808', 'Column_1809', 'Column_1810', 'Column_1811', 'Column_1812', 'Column_1813', 'Column_1814', 'Column_1815', 'Column_1816', 'Column_1817', 'Column_1818', 'Column_1819', 'Column_1820', 'Column_1821', 'Column_1822', 'Column_1823', 'Column_1824', 'Column_1825', 'Column_1826', 'Column_1827', 'Column_1828', 'Column_1829', 'Column_1830', 'Column_1831', 'Column_1832', 'Column_1833', 'Column_1834', 'Column_1835', 'Column_1836', 'Column_1837', 'Column_1838', 'Column_1839', 'Column_1840', 'Column_1841', 'Column_1842', 'Column_1843', 'Column_1844', 'Column_1845', 'Column_1846', 'Column_1847', 'Column_1848', 'Column_1849', 'Column_1850', 'Column_1851', 'Column_1852', 'Column_1853', 'Column_1854', 'Column_1855', 'Column_1856', 'Column_1857', 'Column_1858', 'Column_1859', 'Column_1860', 'Column_1861', 'Column_1862', 'Column_1863', 'Column_1864', 'Column_1865', 'Column_1866', 'Column_1867', 'Column_1868', 'Column_1869', 'Column_1870', 'Column_1871', 'Column_1872', 'Column_1873', 'Column_1874', 'Column_1875', 'Column_1876', 'Column_1877', 'Column_1878', 'Column_1879', 'Column_1880', 'Column_1881', 'Column_1882', 'Column_1883', 'Column_1884', 'Column_1885', 'Column_1886', 'Column_1887', 'Column_1888', 'Column_1889', 'Column_1890', 'Column_1891', 'Column_1892', 'Column_1893', 'Column_1894', 'Column_1895', 'Column_1896', 'Column_1897', 'Column_1898', 'Column_1899', 'Column_1900', 'Column_1901', 'Column_1902', 'Column_1903', 'Column_1904', 'Column_1905', 'Column_1906', 'Column_1907', 'Column_1908', 'Column_1909', 'Column_1910', 'Column_1911', 'Column_1912', 'Column_1913', 'Column_1914', 'Column_1915', 'Column_1916', 'Column_1917', 'Column_1918', 'Column_1919', 'Column_1920', 'Column_1921', 'Column_1922', 'Column_1923', 'Column_1924', 'Column_1925', 'Column_1926', 'Column_1927', 'Column_1928', 'Column_1929', 'Column_1930', 'Column_1931', 'Column_1932', 'Column_1933', 'Column_1934', 'Column_1935', 'Column_1936', 'Column_1937', 'Column_1938', 'Column_1939', 'Column_1940', 'Column_1941', 'Column_1942', 'Column_1943', 'Column_1944', 'Column_1945', 'Column_1946', 'Column_1947', 'Column_1948', 'Column_1949', 'Column_1950', 'Column_1951', 'Column_1952', 'Column_1953', 'Column_1954', 'Column_1955', 'Column_1956', 'Column_1957', 'Column_1958', 'Column_1959', 'Column_1960', 'Column_1961', 'Column_1962', 'Column_1963', 'Column_1964', 'Column_1965', 'Column_1966', 'Column_1967', 'Column_1968', 'Column_1969', 'Column_1970', 'Column_1971', 'Column_1972', 'Column_1973', 'Column_1974', 'Column_1975', 'Column_1976', 'Column_1977', 'Column_1978', 'Column_1979', 'Column_1980', 'Column_1981', 'Column_1982', 'Column_1983', 'Column_1984', 'Column_1985', 'Column_1986', 'Column_1987', 'Column_1988', 'Column_1989', 'Column_1990', 'Column_1991', 'Column_1992', 'Column_1993', 'Column_1994', 'Column_1995', 'Column_1996', 'Column_1997', 'Column_1998', 'Column_1999', 'Column_2000', 'Column_2001', 'Column_2002', 'Column_2003', 'Column_2004', 'Column_2005', 'Column_2006', 'Column_2007', 'Column_2008', 'Column_2009', 'Column_2010', 'Column_2011', 'Column_2012', 'Column_2013', 'Column_2014', 'Column_2015', 'Column_2016', 'Column_2017', 'Column_2018', 'Column_2019', 'Column_2020', 'Column_2021', 'Column_2022', 'Column_2023', 'Column_2024', 'Column_2025', 'Column_2026', 'Column_2027', 'Column_2028', 'Column_2029', 'Column_2030', 'Column_2031', 'Column_2032', 'Column_2033', 'Column_2034', 'Column_2035', 'Column_2036', 'Column_2037', 'Column_2038', 'Column_2039', 'Column_2040', 'Column_2041', 'Column_2042', 'Column_2043', 'Column_2044', 'Column_2045', 'Column_2046', 'Column_2047', 'Column_2048', 'Column_2049', 'Column_2050', 'Column_2051', 'Column_2052', 'Column_2053', 'Column_2054', 'Column_2055', 'Column_2056', 'Column_2057', 'Column_2058', 'Column_2059', 'Column_2060', 'Column_2061', 'Column_2062', 'Column_2063', 'Column_2064', 'Column_2065', 'Column_2066', 'Column_2067', 'Column_2068', 'Column_2069', 'Column_2070', 'Column_2071', 'Column_2072', 'Column_2073', 'Column_2074', 'Column_2075', 'Column_2076', 'Column_2077', 'Column_2078', 'Column_2079', 'Column_2080', 'Column_2081', 'Column_2082', 'Column_2083', 'Column_2084', 'Column_2085', 'Column_2086', 'Column_2087', 'Column_2088', 'Column_2089', 'Column_2090', 'Column_2091', 'Column_2092', 'Column_2093', 'Column_2094', 'Column_2095', 'Column_2096', 'Column_2097', 'Column_2098', 'Column_2099', 'Column_2100', 'Column_2101', 'Column_2102', 'Column_2103', 'Column_2104', 'Column_2105', 'Column_2106', 'Column_2107', 'Column_2108', 'Column_2109', 'Column_2110', 'Column_2111', 'Column_2112', 'Column_2113', 'Column_2114', 'Column_2115', 'Column_2116', 'Column_2117', 'Column_2118', 'Column_2119', 'Column_2120', 'Column_2121', 'Column_2122', 'Column_2123', 'Column_2124', 'Column_2125', 'Column_2126', 'Column_2127', 'Column_2128', 'Column_2129', 'Column_2130', 'Column_2131', 'Column_2132', 'Column_2133', 'Column_2134', 'Column_2135', 'Column_2136', 'Column_2137', 'Column_2138', 'Column_2139', 'Column_2140', 'Column_2141', 'Column_2142', 'Column_2143', 'Column_2144', 'Column_2145', 'Column_2146', 'Column_2147', 'Column_2148', 'Column_2149', 'Column_2150', 'Column_2151', 'Column_2152', 'Column_2153', 'Column_2154', 'Column_2155', 'Column_2156', 'Column_2157', 'Column_2158', 'Column_2159', 'Column_2160', 'Column_2161', 'Column_2162', 'Column_2163', 'Column_2164', 'Column_2165', 'Column_2166', 'Column_2167', 'Column_2168', 'Column_2169', 'Column_2170', 'Column_2171', 'Column_2172', 'Column_2173', 'Column_2174', 'Column_2175', 'Column_2176', 'Column_2177', 'Column_2178', 'Column_2179', 'Column_2180', 'Column_2181', 'Column_2182', 'Column_2183', 'Column_2184', 'Column_2185', 'Column_2186', 'Column_2187', 'Column_2188', 'Column_2189', 'Column_2190', 'Column_2191', 'Column_2192', 'Column_2193', 'Column_2194', 'Column_2195', 'Column_2196', 'Column_2197', 'Column_2198', 'Column_2199', 'Column_2200', 'Column_2201', 'Column_2202', 'Column_2203', 'Column_2204', 'Column_2205', 'Column_2206', 'Column_2207', 'Column_2208', 'Column_2209', 'Column_2210', 'Column_2211', 'Column_2212', 'Column_2213', 'Column_2214', 'Column_2215', 'Column_2216', 'Column_2217', 'Column_2218', 'Column_2219', 'Column_2220', 'Column_2221', 'Column_2222', 'Column_2223', 'Column_2224', 'Column_2225', 'Column_2226', 'Column_2227', 'Column_2228', 'Column_2229', 'Column_2230', 'Column_2231', 'Column_2232', 'Column_2233', 'Column_2234', 'Column_2235', 'Column_2236', 'Column_2237', 'Column_2238', 'Column_2239', 'Column_2240', 'Column_2241', 'Column_2242', 'Column_2243', 'Column_2244', 'Column_2245', 'Column_2246', 'Column_2247', 'Column_2248', 'Column_2249', 'Column_2250', 'Column_2251', 'Column_2252', 'Column_2253', 'Column_2254', 'Column_2255', 'Column_2256', 'Column_2257', 'Column_2258', 'Column_2259', 'Column_2260', 'Column_2261', 'Column_2262', 'Column_2263', 'Column_2264', 'Column_2265', 'Column_2266', 'Column_2267', 'Column_2268', 'Column_2269', 'Column_2270', 'Column_2271', 'Column_2272', 'Column_2273', 'Column_2274', 'Column_2275', 'Column_2276', 'Column_2277', 'Column_2278', 'Column_2279', 'Column_2280', 'Column_2281', 'Column_2282', 'Column_2283', 'Column_2284', 'Column_2285', 'Column_2286', 'Column_2287', 'Column_2288', 'Column_2289', 'Column_2290', 'Column_2291', 'Column_2292', 'Column_2293', 'Column_2294', 'Column_2295', 'Column_2296', 'Column_2297', 'Column_2298', 'Column_2299', 'Column_2300', 'Column_2301', 'Column_2302', 'Column_2303', 'Column_2304', 'Column_2305', 'Column_2306', 'Column_2307', 'Column_2308', 'Column_2309', 'Column_2310', 'Column_2311', 'Column_2312', 'Column_2313', 'Column_2314', 'Column_2315', 'Column_2316', 'Column_2317', 'Column_2318', 'Column_2319', 'Column_2320', 'Column_2321', 'Column_2322', 'Column_2323', 'Column_2324', 'Column_2325', 'Column_2326', 'Column_2327', 'Column_2328', 'Column_2329', 'Column_2330', 'Column_2331', 'Column_2332', 'Column_2333', 'Column_2334', 'Column_2335', 'Column_2336', 'Column_2337', 'Column_2338', 'Column_2339', 'Column_2340', 'Column_2341', 'Column_2342', 'Column_2343', 'Column_2344', 'Column_2345', 'Column_2346', 'Column_2347', 'Column_2348', 'Column_2349', 'Column_2350', 'Column_2351', 'Column_2352', 'Column_2353', 'Column_2354', 'Column_2355', 'Column_2356', 'Column_2357', 'Column_2358', 'Column_2359', 'Column_2360', 'Column_2361', 'Column_2362', 'Column_2363', 'Column_2364', 'Column_2365', 'Column_2366', 'Column_2367', 'Column_2368', 'Column_2369', 'Column_2370', 'Column_2371', 'Column_2372', 'Column_2373', 'Column_2374', 'Column_2375', 'Column_2376', 'Column_2377', 'Column_2378', 'Column_2379', 'Column_2380', 'Column_2381', 'Column_2382', 'Column_2383', 'Column_2384', 'Column_2385', 'Column_2386', 'Column_2387', 'Column_2388', 'Column_2389', 'Column_2390', 'Column_2391', 'Column_2392', 'Column_2393', 'Column_2394', 'Column_2395', 'Column_2396', 'Column_2397', 'Column_2398', 'Column_2399', 'Column_2400', 'Column_2401', 'Column_2402', 'Column_2403', 'Column_2404', 'Column_2405', 'Column_2406', 'Column_2407', 'Column_2408', 'Column_2409', 'Column_2410', 'Column_2411', 'Column_2412', 'Column_2413', 'Column_2414', 'Column_2415', 'Column_2416', 'Column_2417', 'Column_2418', 'Column_2419', 'Column_2420', 'Column_2421', 'Column_2422', 'Column_2423', 'Column_2424', 'Column_2425', 'Column_2426', 'Column_2427', 'Column_2428', 'Column_2429', 'Column_2430', 'Column_2431', 'Column_2432', 'Column_2433', 'Column_2434', 'Column_2435', 'Column_2436', 'Column_2437', 'Column_2438', 'Column_2439', 'Column_2440', 'Column_2441', 'Column_2442', 'Column_2443', 'Column_2444', 'Column_2445', 'Column_2446', 'Column_2447', 'Column_2448', 'Column_2449', 'Column_2450', 'Column_2451', 'Column_2452', 'Column_2453', 'Column_2454', 'Column_2455', 'Column_2456', 'Column_2457', 'Column_2458', 'Column_2459', 'Column_2460', 'Column_2461', 'Column_2462', 'Column_2463', 'Column_2464', 'Column_2465', 'Column_2466', 'Column_2467', 'Column_2468', 'Column_2469', 'Column_2470', 'Column_2471', 'Column_2472', 'Column_2473', 'Column_2474', 'Column_2475', 'Column_2476', 'Column_2477', 'Column_2478', 'Column_2479', 'Column_2480', 'Column_2481', 'Column_2482', 'Column_2483', 'Column_2484', 'Column_2485', 'Column_2486', 'Column_2487', 'Column_2488', 'Column_2489', 'Column_2490', 'Column_2491', 'Column_2492', 'Column_2493', 'Column_2494', 'Column_2495', 'Column_2496', 'Column_2497', 'Column_2498', 'Column_2499', 'Column_2500', 'Column_2501', 'Column_2502', 'Column_2503', 'Column_2504', 'Column_2505', 'Column_2506', 'Column_2507', 'Column_2508', 'Column_2509', 'Column_2510', 'Column_2511', 'Column_2512', 'Column_2513', 'Column_2514', 'Column_2515', 'Column_2516', 'Column_2517', 'Column_2518', 'Column_2519', 'Column_2520', 'Column_2521', 'Column_2522', 'Column_2523', 'Column_2524', 'Column_2525', 'Column_2526', 'Column_2527', 'Column_2528', 'Column_2529', 'Column_2530', 'Column_2531', 'Column_2532', 'Column_2533', 'Column_2534', 'Column_2535', 'Column_2536', 'Column_2537', 'Column_2538', 'Column_2539', 'Column_2540', 'Column_2541', 'Column_2542', 'Column_2543', 'Column_2544', 'Column_2545', 'Column_2546', 'Column_2547', 'Column_2548', 'Column_2549', 'Column_2550', 'Column_2551', 'Column_2552', 'Column_2553', 'Column_2554', 'Column_2555', 'Column_2556', 'Column_2557', 'Column_2558', 'Column_2559', 'Column_2560', 'Column_2561', 'Column_2562', 'Column_2563', 'Column_2564', 'Column_2565', 'Column_2566', 'Column_2567', 'Column_2568', 'Column_2569', 'Column_2570', 'Column_2571', 'Column_2572', 'Column_2573', 'Column_2574', 'Column_2575', 'Column_2576', 'Column_2577', 'Column_2578', 'Column_2579', 'Column_2580', 'Column_2581', 'Column_2582', 'Column_2583', 'Column_2584', 'Column_2585', 'Column_2586', 'Column_2587', 'Column_2588', 'Column_2589', 'Column_2590', 'Column_2591', 'Column_2592', 'Column_2593', 'Column_2594', 'Column_2595', 'Column_2596', 'Column_2597', 'Column_2598', 'Column_2599', 'Column_2600', 'Column_2601', 'Column_2602', 'Column_2603', 'Column_2604', 'Column_2605', 'Column_2606', 'Column_2607', 'Column_2608', 'Column_2609', 'Column_2610', 'Column_2611', 'Column_2612', 'Column_2613', 'Column_2614', 'Column_2615', 'Column_2616', 'Column_2617', 'Column_2618', 'Column_2619', 'Column_2620', 'Column_2621', 'Column_2622', 'Column_2623', 'Column_2624', 'Column_2625', 'Column_2626', 'Column_2627', 'Column_2628', 'Column_2629', 'Column_2630', 'Column_2631', 'Column_2632', 'Column_2633', 'Column_2634', 'Column_2635', 'Column_2636', 'Column_2637', 'Column_2638', 'Column_2639', 'Column_2640', 'Column_2641', 'Column_2642', 'Column_2643', 'Column_2644', 'Column_2645', 'Column_2646', 'Column_2647', 'Column_2648', 'Column_2649', 'Column_2650', 'Column_2651', 'Column_2652', 'Column_2653', 'Column_2654', 'Column_2655', 'Column_2656', 'Column_2657', 'Column_2658', 'Column_2659', 'Column_2660', 'Column_2661', 'Column_2662', 'Column_2663', 'Column_2664', 'Column_2665', 'Column_2666', 'Column_2667', 'Column_2668', 'Column_2669', 'Column_2670', 'Column_2671', 'Column_2672', 'Column_2673', 'Column_2674', 'Column_2675', 'Column_2676', 'Column_2677', 'Column_2678', 'Column_2679', 'Column_2680', 'Column_2681', 'Column_2682', 'Column_2683', 'Column_2684', 'Column_2685', 'Column_2686', 'Column_2687', 'Column_2688', 'Column_2689', 'Column_2690', 'Column_2691', 'Column_2692', 'Column_2693', 'Column_2694', 'Column_2695', 'Column_2696', 'Column_2697', 'Column_2698', 'Column_2699', 'Column_2700', 'Column_2701', 'Column_2702', 'Column_2703', 'Column_2704', 'Column_2705', 'Column_2706', 'Column_2707', 'Column_2708', 'Column_2709', 'Column_2710', 'Column_2711', 'Column_2712', 'Column_2713', 'Column_2714', 'Column_2715', 'Column_2716', 'Column_2717', 'Column_2718', 'Column_2719', 'Column_2720', 'Column_2721', 'Column_2722', 'Column_2723', 'Column_2724', 'Column_2725', 'Column_2726', 'Column_2727', 'Column_2728', 'Column_2729', 'Column_2730', 'Column_2731', 'Column_2732', 'Column_2733', 'Column_2734', 'Column_2735', 'Column_2736', 'Column_2737', 'Column_2738', 'Column_2739', 'Column_2740', 'Column_2741', 'Column_2742', 'Column_2743', 'Column_2744', 'Column_2745', 'Column_2746', 'Column_2747', 'Column_2748', 'Column_2749', 'Column_2750', 'Column_2751', 'Column_2752', 'Column_2753', 'Column_2754', 'Column_2755', 'Column_2756', 'Column_2757', 'Column_2758', 'Column_2759', 'Column_2760', 'Column_2761', 'Column_2762', 'Column_2763', 'Column_2764', 'Column_2765', 'Column_2766', 'Column_2767', 'Column_2768', 'Column_2769', 'Column_2770', 'Column_2771', 'Column_2772', 'Column_2773', 'Column_2774', 'Column_2775', 'Column_2776', 'Column_2777', 'Column_2778', 'Column_2779', 'Column_2780', 'Column_2781', 'Column_2782', 'Column_2783', 'Column_2784', 'Column_2785', 'Column_2786', 'Column_2787', 'Column_2788', 'Column_2789', 'Column_2790', 'Column_2791', 'Column_2792', 'Column_2793', 'Column_2794', 'Column_2795', 'Column_2796', 'Column_2797', 'Column_2798', 'Column_2799', 'Column_2800', 'Column_2801', 'Column_2802', 'Column_2803', 'Column_2804', 'Column_2805', 'Column_2806', 'Column_2807', 'Column_2808', 'Column_2809', 'Column_2810', 'Column_2811', 'Column_2812', 'Column_2813', 'Column_2814', 'Column_2815', 'Column_2816', 'Column_2817', 'Column_2818', 'Column_2819', 'Column_2820', 'Column_2821', 'Column_2822', 'Column_2823', 'Column_2824', 'Column_2825', 'Column_2826', 'Column_2827', 'Column_2828', 'Column_2829', 'Column_2830', 'Column_2831', 'Column_2832', 'Column_2833', 'Column_2834', 'Column_2835', 'Column_2836', 'Column_2837', 'Column_2838', 'Column_2839', 'Column_2840', 'Column_2841', 'Column_2842', 'Column_2843', 'Column_2844', 'Column_2845', 'Column_2846', 'Column_2847', 'Column_2848', 'Column_2849', 'Column_2850', 'Column_2851', 'Column_2852', 'Column_2853', 'Column_2854', 'Column_2855', 'Column_2856', 'Column_2857', 'Column_2858', 'Column_2859', 'Column_2860', 'Column_2861', 'Column_2862', 'Column_2863', 'Column_2864', 'Column_2865', 'Column_2866', 'Column_2867', 'Column_2868', 'Column_2869', 'Column_2870', 'Column_2871', 'Column_2872', 'Column_2873', 'Column_2874', 'Column_2875', 'Column_2876', 'Column_2877', 'Column_2878', 'Column_2879', 'Column_2880', 'Column_2881', 'Column_2882', 'Column_2883', 'Column_2884', 'Column_2885', 'Column_2886', 'Column_2887', 'Column_2888', 'Column_2889', 'Column_2890', 'Column_2891', 'Column_2892', 'Column_2893', 'Column_2894', 'Column_2895', 'Column_2896', 'Column_2897', 'Column_2898', 'Column_2899', 'Column_2900', 'Column_2901', 'Column_2902', 'Column_2903', 'Column_2904', 'Column_2905', 'Column_2906', 'Column_2907', 'Column_2908', 'Column_2909', 'Column_2910', 'Column_2911', 'Column_2912', 'Column_2913', 'Column_2914', 'Column_2915', 'Column_2916', 'Column_2917', 'Column_2918', 'Column_2919', 'Column_2920', 'Column_2921', 'Column_2922', 'Column_2923', 'Column_2924', 'Column_2925', 'Column_2926', 'Column_2927', 'Column_2928', 'Column_2929', 'Column_2930', 'Column_2931', 'Column_2932', 'Column_2933', 'Column_2934', 'Column_2935', 'Column_2936', 'Column_2937', 'Column_2938', 'Column_2939', 'Column_2940', 'Column_2941', 'Column_2942', 'Column_2943', 'Column_2944', 'Column_2945', 'Column_2946', 'Column_2947', 'Column_2948', 'Column_2949', 'Column_2950', 'Column_2951', 'Column_2952', 'Column_2953', 'Column_2954', 'Column_2955', 'Column_2956', 'Column_2957', 'Column_2958', 'Column_2959', 'Column_2960', 'Column_2961', 'Column_2962', 'Column_2963', 'Column_2964', 'Column_2965', 'Column_2966', 'Column_2967', 'Column_2968', 'Column_2969', 'Column_2970', 'Column_2971', 'Column_2972', 'Column_2973', 'Column_2974', 'Column_2975', 'Column_2976', 'Column_2977', 'Column_2978', 'Column_2979', 'Column_2980', 'Column_2981', 'Column_2982', 'Column_2983', 'Column_2984', 'Column_2985', 'Column_2986', 'Column_2987', 'Column_2988', 'Column_2989', 'Column_2990', 'Column_2991', 'Column_2992', 'Column_2993', 'Column_2994', 'Column_2995', 'Column_2996', 'Column_2997', 'Column_2998', 'Column_2999', 'Column_3000', 'Column_3001', 'Column_3002', 'Column_3003', 'Column_3004', 'Column_3005', 'Column_3006', 'Column_3007', 'Column_3008', 'Column_3009', 'Column_3010', 'Column_3011', 'Column_3012', 'Column_3013', 'Column_3014', 'Column_3015', 'Column_3016', 'Column_3017', 'Column_3018', 'Column_3019', 'Column_3020', 'Column_3021', 'Column_3022', 'Column_3023', 'Column_3024', 'Column_3025', 'Column_3026', 'Column_3027', 'Column_3028', 'Column_3029', 'Column_3030', 'Column_3031', 'Column_3032', 'Column_3033', 'Column_3034', 'Column_3035', 'Column_3036', 'Column_3037', 'Column_3038', 'Column_3039', 'Column_3040', 'Column_3041', 'Column_3042', 'Column_3043', 'Column_3044', 'Column_3045', 'Column_3046', 'Column_3047', 'Column_3048', 'Column_3049', 'Column_3050', 'Column_3051', 'Column_3052', 'Column_3053', 'Column_3054', 'Column_3055', 'Column_3056', 'Column_3057', 'Column_3058', 'Column_3059', 'Column_3060', 'Column_3061', 'Column_3062', 'Column_3063', 'Column_3064', 'Column_3065', 'Column_3066', 'Column_3067', 'Column_3068', 'Column_3069', 'Column_3070', 'Column_3071', 'Column_3072', 'Column_3073', 'Column_3074', 'Column_3075', 'Column_3076', 'Column_3077', 'Column_3078', 'Column_3079', 'Column_3080', 'Column_3081', 'Column_3082', 'Column_3083', 'Column_3084', 'Column_3085', 'Column_3086', 'Column_3087', 'Column_3088', 'Column_3089', 'Column_3090', 'Column_3091', 'Column_3092', 'Column_3093', 'Column_3094', 'Column_3095', 'Column_3096', 'Column_3097', 'Column_3098', 'Column_3099', 'Column_3100', 'Column_3101', 'Column_3102', 'Column_3103', 'Column_3104', 'Column_3105', 'Column_3106', 'Column_3107', 'Column_3108', 'Column_3109', 'Column_3110', 'Column_3111', 'Column_3112', 'Column_3113', 'Column_3114', 'Column_3115', 'Column_3116', 'Column_3117', 'Column_3118', 'Column_3119', 'Column_3120', 'Column_3121', 'Column_3122', 'Column_3123', 'Column_3124', 'Column_3125', 'Column_3126', 'Column_3127', 'Column_3128', 'Column_3129', 'Column_3130', 'Column_3131', 'Column_3132', 'Column_3133', 'Column_3134', 'Column_3135', 'Column_3136', 'Column_3137', 'Column_3138', 'Column_3139', 'Column_3140', 'Column_3141', 'Column_3142', 'Column_3143', 'Column_3144', 'Column_3145', 'Column_3146', 'Column_3147', 'Column_3148', 'Column_3149', 'Column_3150', 'Column_3151', 'Column_3152', 'Column_3153', 'Column_3154', 'Column_3155', 'Column_3156', 'Column_3157', 'Column_3158', 'Column_3159', 'Column_3160', 'Column_3161', 'Column_3162', 'Column_3163', 'Column_3164', 'Column_3165', 'Column_3166', 'Column_3167', 'Column_3168', 'Column_3169', 'Column_3170', 'Column_3171', 'Column_3172', 'Column_3173', 'Column_3174', 'Column_3175', 'Column_3176', 'Column_3177', 'Column_3178', 'Column_3179', 'Column_3180', 'Column_3181', 'Column_3182', 'Column_3183', 'Column_3184', 'Column_3185', 'Column_3186', 'Column_3187', 'Column_3188', 'Column_3189', 'Column_3190', 'Column_3191', 'Column_3192', 'Column_3193', 'Column_3194', 'Column_3195', 'Column_3196', 'Column_3197', 'Column_3198', 'Column_3199', 'Column_3200', 'Column_3201', 'Column_3202', 'Column_3203', 'Column_3204', 'Column_3205', 'Column_3206', 'Column_3207', 'Column_3208', 'Column_3209', 'Column_3210', 'Column_3211', 'Column_3212', 'Column_3213', 'Column_3214', 'Column_3215', 'Column_3216', 'Column_3217', 'Column_3218', 'Column_3219', 'Column_3220', 'Column_3221', 'Column_3222', 'Column_3223', 'Column_3224', 'Column_3225', 'Column_3226', 'Column_3227', 'Column_3228', 'Column_3229', 'Column_3230', 'Column_3231', 'Column_3232', 'Column_3233', 'Column_3234', 'Column_3235', 'Column_3236', 'Column_3237', 'Column_3238', 'Column_3239', 'Column_3240', 'Column_3241', 'Column_3242', 'Column_3243', 'Column_3244', 'Column_3245', 'Column_3246', 'Column_3247', 'Column_3248', 'Column_3249', 'Column_3250', 'Column_3251', 'Column_3252', 'Column_3253', 'Column_3254', 'Column_3255', 'Column_3256', 'Column_3257', 'Column_3258', 'Column_3259', 'Column_3260', 'Column_3261', 'Column_3262', 'Column_3263', 'Column_3264', 'Column_3265', 'Column_3266', 'Column_3267', 'Column_3268', 'Column_3269', 'Column_3270', 'Column_3271', 'Column_3272', 'Column_3273', 'Column_3274', 'Column_3275', 'Column_3276', 'Column_3277', 'Column_3278', 'Column_3279', 'Column_3280', 'Column_3281', 'Column_3282', 'Column_3283', 'Column_3284', 'Column_3285', 'Column_3286', 'Column_3287', 'Column_3288', 'Column_3289', 'Column_3290', 'Column_3291', 'Column_3292', 'Column_3293', 'Column_3294', 'Column_3295', 'Column_3296', 'Column_3297', 'Column_3298', 'Column_3299', 'Column_3300', 'Column_3301', 'Column_3302', 'Column_3303', 'Column_3304', 'Column_3305', 'Column_3306', 'Column_3307', 'Column_3308', 'Column_3309', 'Column_3310', 'Column_3311', 'Column_3312', 'Column_3313', 'Column_3314', 'Column_3315', 'Column_3316', 'Column_3317', 'Column_3318', 'Column_3319', 'Column_3320', 'Column_3321', 'Column_3322', 'Column_3323', 'Column_3324', 'Column_3325', 'Column_3326', 'Column_3327', 'Column_3328', 'Column_3329', 'Column_3330', 'Column_3331', 'Column_3332', 'Column_3333', 'Column_3334', 'Column_3335', 'Column_3336', 'Column_3337', 'Column_3338', 'Column_3339', 'Column_3340', 'Column_3341', 'Column_3342', 'Column_3343', 'Column_3344', 'Column_3345', 'Column_3346', 'Column_3347', 'Column_3348', 'Column_3349', 'Column_3350', 'Column_3351', 'Column_3352', 'Column_3353', 'Column_3354', 'Column_3355', 'Column_3356', 'Column_3357', 'Column_3358', 'Column_3359', 'Column_3360', 'Column_3361', 'Column_3362', 'Column_3363', 'Column_3364', 'Column_3365', 'Column_3366', 'Column_3367', 'Column_3368', 'Column_3369', 'Column_3370', 'Column_3371', 'Column_3372', 'Column_3373', 'Column_3374', 'Column_3375', 'Column_3376', 'Column_3377', 'Column_3378', 'Column_3379', 'Column_3380', 'Column_3381', 'Column_3382', 'Column_3383', 'Column_3384', 'Column_3385', 'Column_3386', 'Column_3387', 'Column_3388', 'Column_3389', 'Column_3390', 'Column_3391', 'Column_3392', 'Column_3393', 'Column_3394', 'Column_3395', 'Column_3396', 'Column_3397', 'Column_3398', 'Column_3399', 'Column_3400', 'Column_3401', 'Column_3402', 'Column_3403', 'Column_3404', 'Column_3405', 'Column_3406', 'Column_3407', 'Column_3408', 'Column_3409', 'Column_3410', 'Column_3411', 'Column_3412', 'Column_3413', 'Column_3414', 'Column_3415', 'Column_3416', 'Column_3417', 'Column_3418', 'Column_3419', 'Column_3420', 'Column_3421', 'Column_3422', 'Column_3423', 'Column_3424', 'Column_3425', 'Column_3426', 'Column_3427', 'Column_3428', 'Column_3429', 'Column_3430', 'Column_3431', 'Column_3432', 'Column_3433', 'Column_3434', 'Column_3435', 'Column_3436', 'Column_3437', 'Column_3438', 'Column_3439', 'Column_3440', 'Column_3441', 'Column_3442', 'Column_3443', 'Column_3444', 'Column_3445', 'Column_3446', 'Column_3447', 'Column_3448', 'Column_3449', 'Column_3450', 'Column_3451', 'Column_3452', 'Column_3453', 'Column_3454', 'Column_3455', 'Column_3456', 'Column_3457', 'Column_3458', 'Column_3459', 'Column_3460', 'Column_3461', 'Column_3462', 'Column_3463', 'Column_3464', 'Column_3465', 'Column_3466', 'Column_3467', 'Column_3468', 'Column_3469', 'Column_3470', 'Column_3471', 'Column_3472', 'Column_3473', 'Column_3474', 'Column_3475', 'Column_3476', 'Column_3477', 'Column_3478', 'Column_3479', 'Column_3480', 'Column_3481', 'Column_3482', 'Column_3483', 'Column_3484', 'Column_3485', 'Column_3486', 'Column_3487', 'Column_3488', 'Column_3489', 'Column_3490', 'Column_3491', 'Column_3492', 'Column_3493', 'Column_3494', 'Column_3495', 'Column_3496', 'Column_3497', 'Column_3498', 'Column_3499', 'Column_3500', 'Column_3501', 'Column_3502', 'Column_3503', 'Column_3504', 'Column_3505', 'Column_3506', 'Column_3507', 'Column_3508', 'Column_3509', 'Column_3510', 'Column_3511', 'Column_3512', 'Column_3513', 'Column_3514', 'Column_3515', 'Column_3516', 'Column_3517', 'Column_3518', 'Column_3519', 'Column_3520', 'Column_3521', 'Column_3522', 'Column_3523', 'Column_3524', 'Column_3525', 'Column_3526', 'Column_3527', 'Column_3528', 'Column_3529', 'Column_3530', 'Column_3531', 'Column_3532', 'Column_3533', 'Column_3534', 'Column_3535', 'Column_3536', 'Column_3537', 'Column_3538', 'Column_3539', 'Column_3540', 'Column_3541', 'Column_3542', 'Column_3543', 'Column_3544', 'Column_3545', 'Column_3546', 'Column_3547', 'Column_3548', 'Column_3549', 'Column_3550', 'Column_3551', 'Column_3552', 'Column_3553', 'Column_3554', 'Column_3555', 'Column_3556', 'Column_3557', 'Column_3558', 'Column_3559', 'Column_3560', 'Column_3561', 'Column_3562', 'Column_3563', 'Column_3564', 'Column_3565', 'Column_3566', 'Column_3567', 'Column_3568', 'Column_3569', 'Column_3570', 'Column_3571', 'Column_3572', 'Column_3573', 'Column_3574', 'Column_3575', 'Column_3576', 'Column_3577', 'Column_3578', 'Column_3579', 'Column_3580', 'Column_3581', 'Column_3582', 'Column_3583', 'Column_3584', 'Column_3585', 'Column_3586', 'Column_3587', 'Column_3588', 'Column_3589', 'Column_3590', 'Column_3591', 'Column_3592', 'Column_3593', 'Column_3594', 'Column_3595', 'Column_3596', 'Column_3597', 'Column_3598', 'Column_3599', 'Column_3600', 'Column_3601', 'Column_3602', 'Column_3603', 'Column_3604', 'Column_3605', 'Column_3606', 'Column_3607', 'Column_3608', 'Column_3609', 'Column_3610', 'Column_3611', 'Column_3612', 'Column_3613', 'Column_3614', 'Column_3615', 'Column_3616', 'Column_3617', 'Column_3618', 'Column_3619', 'Column_3620', 'Column_3621', 'Column_3622', 'Column_3623', 'Column_3624', 'Column_3625', 'Column_3626', 'Column_3627', 'Column_3628', 'Column_3629', 'Column_3630', 'Column_3631', 'Column_3632', 'Column_3633', 'Column_3634', 'Column_3635', 'Column_3636', 'Column_3637', 'Column_3638', 'Column_3639', 'Column_3640', 'Column_3641', 'Column_3642', 'Column_3643', 'Column_3644', 'Column_3645', 'Column_3646', 'Column_3647', 'Column_3648', 'Column_3649', 'Column_3650', 'Column_3651', 'Column_3652', 'Column_3653', 'Column_3654', 'Column_3655', 'Column_3656', 'Column_3657', 'Column_3658', 'Column_3659', 'Column_3660', 'Column_3661', 'Column_3662', 'Column_3663', 'Column_3664', 'Column_3665', 'Column_3666', 'Column_3667', 'Column_3668', 'Column_3669', 'Column_3670', 'Column_3671', 'Column_3672', 'Column_3673', 'Column_3674', 'Column_3675', 'Column_3676', 'Column_3677', 'Column_3678', 'Column_3679', 'Column_3680', 'Column_3681', 'Column_3682', 'Column_3683', 'Column_3684', 'Column_3685', 'Column_3686', 'Column_3687', 'Column_3688', 'Column_3689', 'Column_3690', 'Column_3691', 'Column_3692', 'Column_3693', 'Column_3694', 'Column_3695', 'Column_3696', 'Column_3697', 'Column_3698', 'Column_3699', 'Column_3700', 'Column_3701', 'Column_3702', 'Column_3703', 'Column_3704', 'Column_3705', 'Column_3706', 'Column_3707', 'Column_3708', 'Column_3709', 'Column_3710', 'Column_3711', 'Column_3712', 'Column_3713', 'Column_3714', 'Column_3715', 'Column_3716', 'Column_3717', 'Column_3718', 'Column_3719', 'Column_3720', 'Column_3721', 'Column_3722', 'Column_3723', 'Column_3724', 'Column_3725', 'Column_3726', 'Column_3727', 'Column_3728', 'Column_3729', 'Column_3730', 'Column_3731', 'Column_3732', 'Column_3733', 'Column_3734', 'Column_3735', 'Column_3736', 'Column_3737', 'Column_3738', 'Column_3739', 'Column_3740', 'Column_3741', 'Column_3742', 'Column_3743', 'Column_3744', 'Column_3745', 'Column_3746', 'Column_3747', 'Column_3748', 'Column_3749', 'Column_3750', 'Column_3751', 'Column_3752', 'Column_3753', 'Column_3754', 'Column_3755', 'Column_3756', 'Column_3757', 'Column_3758', 'Column_3759', 'Column_3760', 'Column_3761', 'Column_3762', 'Column_3763', 'Column_3764', 'Column_3765', 'Column_3766', 'Column_3767', 'Column_3768', 'Column_3769', 'Column_3770', 'Column_3771', 'Column_3772', 'Column_3773', 'Column_3774', 'Column_3775', 'Column_3776', 'Column_3777', 'Column_3778', 'Column_3779', 'Column_3780', 'Column_3781', 'Column_3782', 'Column_3783', 'Column_3784', 'Column_3785', 'Column_3786', 'Column_3787', 'Column_3788', 'Column_3789', 'Column_3790', 'Column_3791', 'Column_3792', 'Column_3793', 'Column_3794', 'Column_3795', 'Column_3796', 'Column_3797', 'Column_3798', 'Column_3799', 'Column_3800', 'Column_3801', 'Column_3802', 'Column_3803', 'Column_3804', 'Column_3805', 'Column_3806', 'Column_3807', 'Column_3808', 'Column_3809', 'Column_3810', 'Column_3811', 'Column_3812', 'Column_3813', 'Column_3814', 'Column_3815', 'Column_3816', 'Column_3817', 'Column_3818', 'Column_3819', 'Column_3820', 'Column_3821', 'Column_3822', 'Column_3823', 'Column_3824', 'Column_3825', 'Column_3826', 'Column_3827', 'Column_3828', 'Column_3829', 'Column_3830', 'Column_3831', 'Column_3832', 'Column_3833', 'Column_3834', 'Column_3835', 'Column_3836', 'Column_3837', 'Column_3838', 'Column_3839', 'Column_3840', 'Column_3841', 'Column_3842', 'Column_3843', 'Column_3844', 'Column_3845', 'Column_3846', 'Column_3847', 'Column_3848', 'Column_3849', 'Column_3850', 'Column_3851', 'Column_3852', 'Column_3853', 'Column_3854', 'Column_3855', 'Column_3856', 'Column_3857', 'Column_3858', 'Column_3859', 'Column_3860', 'Column_3861', 'Column_3862', 'Column_3863', 'Column_3864', 'Column_3865', 'Column_3866', 'Column_3867', 'Column_3868', 'Column_3869', 'Column_3870', 'Column_3871', 'Column_3872', 'Column_3873', 'Column_3874', 'Column_3875', 'Column_3876', 'Column_3877', 'Column_3878', 'Column_3879', 'Column_3880', 'Column_3881', 'Column_3882', 'Column_3883', 'Column_3884', 'Column_3885', 'Column_3886', 'Column_3887', 'Column_3888', 'Column_3889', 'Column_3890', 'Column_3891', 'Column_3892', 'Column_3893', 'Column_3894', 'Column_3895', 'Column_3896', 'Column_3897', 'Column_3898', 'Column_3899', 'Column_3900', 'Column_3901', 'Column_3902', 'Column_3903', 'Column_3904', 'Column_3905', 'Column_3906', 'Column_3907', 'Column_3908', 'Column_3909', 'Column_3910', 'Column_3911', 'Column_3912', 'Column_3913', 'Column_3914', 'Column_3915', 'Column_3916', 'Column_3917', 'Column_3918', 'Column_3919', 'Column_3920', 'Column_3921', 'Column_3922', 'Column_3923', 'Column_3924', 'Column_3925', 'Column_3926', 'Column_3927', 'Column_3928', 'Column_3929', 'Column_3930', 'Column_3931', 'Column_3932', 'Column_3933', 'Column_3934', 'Column_3935', 'Column_3936', 'Column_3937', 'Column_3938', 'Column_3939', 'Column_3940', 'Column_3941', 'Column_3942', 'Column_3943', 'Column_3944', 'Column_3945', 'Column_3946', 'Column_3947', 'Column_3948', 'Column_3949', 'Column_3950', 'Column_3951', 'Column_3952', 'Column_3953', 'Column_3954', 'Column_3955', 'Column_3956', 'Column_3957', 'Column_3958', 'Column_3959', 'Column_3960', 'Column_3961', 'Column_3962', 'Column_3963', 'Column_3964', 'Column_3965', 'Column_3966', 'Column_3967', 'Column_3968', 'Column_3969', 'Column_3970', 'Column_3971', 'Column_3972', 'Column_3973', 'Column_3974', 'Column_3975', 'Column_3976', 'Column_3977', 'Column_3978', 'Column_3979', 'Column_3980', 'Column_3981', 'Column_3982', 'Column_3983', 'Column_3984', 'Column_3985', 'Column_3986', 'Column_3987', 'Column_3988', 'Column_3989', 'Column_3990', 'Column_3991', 'Column_3992', 'Column_3993', 'Column_3994', 'Column_3995', 'Column_3996', 'Column_3997', 'Column_3998', 'Column_3999', 'Column_4000', 'Column_4001', 'Column_4002', 'Column_4003', 'Column_4004', 'Column_4005', 'Column_4006', 'Column_4007', 'Column_4008', 'Column_4009', 'Column_4010', 'Column_4011', 'Column_4012', 'Column_4013', 'Column_4014', 'Column_4015', 'Column_4016', 'Column_4017', 'Column_4018', 'Column_4019', 'Column_4020', 'Column_4021', 'Column_4022', 'Column_4023', 'Column_4024', 'Column_4025', 'Column_4026', 'Column_4027', 'Column_4028', 'Column_4029', 'Column_4030', 'Column_4031', 'Column_4032', 'Column_4033', 'Column_4034', 'Column_4035', 'Column_4036', 'Column_4037', 'Column_4038', 'Column_4039', 'Column_4040', 'Column_4041', 'Column_4042', 'Column_4043', 'Column_4044', 'Column_4045', 'Column_4046', 'Column_4047', 'Column_4048', 'Column_4049', 'Column_4050', 'Column_4051', 'Column_4052', 'Column_4053', 'Column_4054', 'Column_4055', 'Column_4056', 'Column_4057', 'Column_4058', 'Column_4059', 'Column_4060', 'Column_4061', 'Column_4062', 'Column_4063', 'Column_4064', 'Column_4065', 'Column_4066', 'Column_4067', 'Column_4068', 'Column_4069', 'Column_4070', 'Column_4071', 'Column_4072', 'Column_4073', 'Column_4074', 'Column_4075', 'Column_4076', 'Column_4077', 'Column_4078', 'Column_4079', 'Column_4080', 'Column_4081', 'Column_4082', 'Column_4083', 'Column_4084', 'Column_4085', 'Column_4086', 'Column_4087', 'Column_4088', 'Column_4089', 'Column_4090', 'Column_4091', 'Column_4092', 'Column_4093', 'Column_4094', 'Column_4095', 'Column_4096', 'Column_4097', 'Column_4098', 'Column_4099', 'Column_4100', 'Column_4101', 'Column_4102', 'Column_4103', 'Column_4104', 'Column_4105', 'Column_4106', 'Column_4107', 'Column_4108', 'Column_4109', 'Column_4110', 'Column_4111', 'Column_4112', 'Column_4113', 'Column_4114', 'Column_4115', 'Column_4116', 'Column_4117', 'Column_4118', 'Column_4119', 'Column_4120', 'Column_4121', 'Column_4122', 'Column_4123', 'Column_4124', 'Column_4125', 'Column_4126', 'Column_4127', 'Column_4128', 'Column_4129', 'Column_4130', 'Column_4131', 'Column_4132', 'Column_4133', 'Column_4134', 'Column_4135', 'Column_4136', 'Column_4137', 'Column_4138', 'Column_4139', 'Column_4140', 'Column_4141', 'Column_4142', 'Column_4143', 'Column_4144', 'Column_4145', 'Column_4146', 'Column_4147', 'Column_4148', 'Column_4149', 'Column_4150', 'Column_4151', 'Column_4152', 'Column_4153', 'Column_4154', 'Column_4155', 'Column_4156', 'Column_4157', 'Column_4158', 'Column_4159', 'Column_4160', 'Column_4161', 'Column_4162', 'Column_4163', 'Column_4164', 'Column_4165', 'Column_4166', 'Column_4167', 'Column_4168', 'Column_4169', 'Column_4170', 'Column_4171', 'Column_4172', 'Column_4173', 'Column_4174', 'Column_4175', 'Column_4176', 'Column_4177', 'Column_4178', 'Column_4179', 'Column_4180', 'Column_4181', 'Column_4182', 'Column_4183', 'Column_4184', 'Column_4185', 'Column_4186', 'Column_4187', 'Column_4188', 'Column_4189', 'Column_4190', 'Column_4191', 'Column_4192', 'Column_4193', 'Column_4194', 'Column_4195', 'Column_4196', 'Column_4197', 'Column_4198', 'Column_4199', 'Column_4200', 'Column_4201', 'Column_4202', 'Column_4203', 'Column_4204', 'Column_4205', 'Column_4206', 'Column_4207', 'Column_4208', 'Column_4209', 'Column_4210', 'Column_4211', 'Column_4212', 'Column_4213', 'Column_4214', 'Column_4215', 'Column_4216', 'Column_4217', 'Column_4218', 'Column_4219', 'Column_4220', 'Column_4221', 'Column_4222', 'Column_4223', 'Column_4224', 'Column_4225', 'Column_4226', 'Column_4227', 'Column_4228', 'Column_4229', 'Column_4230', 'Column_4231', 'Column_4232', 'Column_4233', 'Column_4234', 'Column_4235', 'Column_4236', 'Column_4237', 'Column_4238', 'Column_4239', 'Column_4240', 'Column_4241', 'Column_4242', 'Column_4243', 'Column_4244', 'Column_4245', 'Column_4246', 'Column_4247', 'Column_4248', 'Column_4249', 'Column_4250', 'Column_4251', 'Column_4252', 'Column_4253', 'Column_4254', 'Column_4255', 'Column_4256', 'Column_4257', 'Column_4258', 'Column_4259', 'Column_4260', 'Column_4261', 'Column_4262', 'Column_4263', 'Column_4264', 'Column_4265', 'Column_4266', 'Column_4267', 'Column_4268', 'Column_4269', 'Column_4270', 'Column_4271', 'Column_4272', 'Column_4273', 'Column_4274', 'Column_4275', 'Column_4276', 'Column_4277', 'Column_4278', 'Column_4279', 'Column_4280', 'Column_4281', 'Column_4282', 'Column_4283', 'Column_4284', 'Column_4285', 'Column_4286', 'Column_4287', 'Column_4288', 'Column_4289', 'Column_4290', 'Column_4291', 'Column_4292', 'Column_4293', 'Column_4294', 'Column_4295', 'Column_4296', 'Column_4297', 'Column_4298', 'Column_4299', 'Column_4300', 'Column_4301', 'Column_4302', 'Column_4303', 'Column_4304', 'Column_4305', 'Column_4306', 'Column_4307', 'Column_4308', 'Column_4309', 'Column_4310', 'Column_4311', 'Column_4312', 'Column_4313', 'Column_4314', 'Column_4315', 'Column_4316', 'Column_4317', 'Column_4318', 'Column_4319', 'Column_4320', 'Column_4321', 'Column_4322', 'Column_4323', 'Column_4324', 'Column_4325', 'Column_4326', 'Column_4327', 'Column_4328', 'Column_4329', 'Column_4330', 'Column_4331', 'Column_4332', 'Column_4333', 'Column_4334', 'Column_4335', 'Column_4336', 'Column_4337', 'Column_4338', 'Column_4339', 'Column_4340', 'Column_4341', 'Column_4342', 'Column_4343', 'Column_4344', 'Column_4345', 'Column_4346', 'Column_4347', 'Column_4348', 'Column_4349', 'Column_4350', 'Column_4351', 'Column_4352', 'Column_4353', 'Column_4354', 'Column_4355', 'Column_4356', 'Column_4357', 'Column_4358', 'Column_4359', 'Column_4360', 'Column_4361', 'Column_4362', 'Column_4363', 'Column_4364', 'Column_4365', 'Column_4366', 'Column_4367', 'Column_4368', 'Column_4369', 'Column_4370', 'Column_4371', 'Column_4372', 'Column_4373', 'Column_4374', 'Column_4375', 'Column_4376', 'Column_4377', 'Column_4378', 'Column_4379', 'Column_4380', 'Column_4381', 'Column_4382', 'Column_4383', 'Column_4384', 'Column_4385', 'Column_4386', 'Column_4387', 'Column_4388', 'Column_4389', 'Column_4390', 'Column_4391', 'Column_4392', 'Column_4393', 'Column_4394', 'Column_4395', 'Column_4396', 'Column_4397', 'Column_4398', 'Column_4399', 'Column_4400', 'Column_4401', 'Column_4402', 'Column_4403', 'Column_4404', 'Column_4405', 'Column_4406', 'Column_4407', 'Column_4408', 'Column_4409', 'Column_4410', 'Column_4411', 'Column_4412', 'Column_4413', 'Column_4414', 'Column_4415', 'Column_4416', 'Column_4417', 'Column_4418', 'Column_4419', 'Column_4420', 'Column_4421', 'Column_4422', 'Column_4423', 'Column_4424', 'Column_4425', 'Column_4426', 'Column_4427', 'Column_4428', 'Column_4429', 'Column_4430', 'Column_4431', 'Column_4432', 'Column_4433', 'Column_4434', 'Column_4435', 'Column_4436', 'Column_4437', 'Column_4438', 'Column_4439', 'Column_4440', 'Column_4441', 'Column_4442', 'Column_4443', 'Column_4444', 'Column_4445', 'Column_4446', 'Column_4447', 'Column_4448', 'Column_4449', 'Column_4450', 'Column_4451', 'Column_4452', 'Column_4453', 'Column_4454', 'Column_4455', 'Column_4456', 'Column_4457', 'Column_4458', 'Column_4459', 'Column_4460', 'Column_4461', 'Column_4462', 'Column_4463', 'Column_4464', 'Column_4465', 'Column_4466', 'Column_4467', 'Column_4468', 'Column_4469', 'Column_4470', 'Column_4471', 'Column_4472', 'Column_4473', 'Column_4474', 'Column_4475', 'Column_4476', 'Column_4477', 'Column_4478', 'Column_4479', 'Column_4480', 'Column_4481', 'Column_4482', 'Column_4483', 'Column_4484', 'Column_4485', 'Column_4486', 'Column_4487', 'Column_4488', 'Column_4489', 'Column_4490', 'Column_4491', 'Column_4492', 'Column_4493', 'Column_4494', 'Column_4495', 'Column_4496', 'Column_4497', 'Column_4498', 'Column_4499', 'Column_4500', 'Column_4501', 'Column_4502', 'Column_4503', 'Column_4504', 'Column_4505', 'Column_4506', 'Column_4507', 'Column_4508', 'Column_4509', 'Column_4510', 'Column_4511', 'Column_4512', 'Column_4513', 'Column_4514', 'Column_4515', 'Column_4516', 'Column_4517', 'Column_4518', 'Column_4519', 'Column_4520', 'Column_4521', 'Column_4522', 'Column_4523', 'Column_4524', 'Column_4525', 'Column_4526', 'Column_4527', 'Column_4528', 'Column_4529', 'Column_4530', 'Column_4531', 'Column_4532', 'Column_4533', 'Column_4534', 'Column_4535', 'Column_4536', 'Column_4537', 'Column_4538', 'Column_4539', 'Column_4540', 'Column_4541', 'Column_4542', 'Column_4543', 'Column_4544', 'Column_4545', 'Column_4546', 'Column_4547', 'Column_4548', 'Column_4549', 'Column_4550', 'Column_4551', 'Column_4552', 'Column_4553', 'Column_4554', 'Column_4555', 'Column_4556', 'Column_4557', 'Column_4558', 'Column_4559', 'Column_4560', 'Column_4561', 'Column_4562', 'Column_4563', 'Column_4564', 'Column_4565', 'Column_4566', 'Column_4567', 'Column_4568', 'Column_4569', 'Column_4570', 'Column_4571', 'Column_4572', 'Column_4573', 'Column_4574', 'Column_4575', 'Column_4576', 'Column_4577', 'Column_4578', 'Column_4579', 'Column_4580', 'Column_4581', 'Column_4582', 'Column_4583', 'Column_4584', 'Column_4585', 'Column_4586', 'Column_4587', 'Column_4588', 'Column_4589', 'Column_4590', 'Column_4591', 'Column_4592', 'Column_4593', 'Column_4594', 'Column_4595', 'Column_4596', 'Column_4597', 'Column_4598', 'Column_4599', 'Column_4600', 'Column_4601', 'Column_4602', 'Column_4603', 'Column_4604', 'Column_4605', 'Column_4606', 'Column_4607', 'Column_4608', 'Column_4609', 'Column_4610', 'Column_4611', 'Column_4612', 'Column_4613', 'Column_4614', 'Column_4615', 'Column_4616', 'Column_4617', 'Column_4618', 'Column_4619', 'Column_4620', 'Column_4621', 'Column_4622', 'Column_4623', 'Column_4624', 'Column_4625', 'Column_4626', 'Column_4627', 'Column_4628', 'Column_4629', 'Column_4630', 'Column_4631', 'Column_4632', 'Column_4633', 'Column_4634', 'Column_4635', 'Column_4636', 'Column_4637', 'Column_4638', 'Column_4639', 'Column_4640', 'Column_4641', 'Column_4642', 'Column_4643', 'Column_4644', 'Column_4645', 'Column_4646', 'Column_4647', 'Column_4648', 'Column_4649', 'Column_4650', 'Column_4651', 'Column_4652', 'Column_4653', 'Column_4654', 'Column_4655', 'Column_4656', 'Column_4657', 'Column_4658', 'Column_4659', 'Column_4660', 'Column_4661', 'Column_4662', 'Column_4663', 'Column_4664', 'Column_4665', 'Column_4666', 'Column_4667', 'Column_4668', 'Column_4669', 'Column_4670', 'Column_4671', 'Column_4672', 'Column_4673', 'Column_4674', 'Column_4675', 'Column_4676', 'Column_4677', 'Column_4678', 'Column_4679', 'Column_4680', 'Column_4681', 'Column_4682', 'Column_4683', 'Column_4684', 'Column_4685', 'Column_4686', 'Column_4687', 'Column_4688', 'Column_4689', 'Column_4690', 'Column_4691', 'Column_4692', 'Column_4693', 'Column_4694', 'Column_4695', 'Column_4696', 'Column_4697', 'Column_4698', 'Column_4699', 'Column_4700', 'Column_4701', 'Column_4702', 'Column_4703', 'Column_4704', 'Column_4705', 'Column_4706', 'Column_4707', 'Column_4708', 'Column_4709', 'Column_4710', 'Column_4711', 'Column_4712', 'Column_4713', 'Column_4714', 'Column_4715', 'Column_4716', 'Column_4717', 'Column_4718', 'Column_4719', 'Column_4720', 'Column_4721', 'Column_4722', 'Column_4723', 'Column_4724', 'Column_4725', 'Column_4726', 'Column_4727', 'Column_4728', 'Column_4729', 'Column_4730', 'Column_4731', 'Column_4732', 'Column_4733', 'Column_4734', 'Column_4735', 'Column_4736', 'Column_4737', 'Column_4738', 'Column_4739', 'Column_4740', 'Column_4741', 'Column_4742', 'Column_4743', 'Column_4744', 'Column_4745', 'Column_4746', 'Column_4747', 'Column_4748', 'Column_4749', 'Column_4750', 'Column_4751', 'Column_4752', 'Column_4753', 'Column_4754', 'Column_4755', 'Column_4756', 'Column_4757', 'Column_4758', 'Column_4759', 'Column_4760', 'Column_4761', 'Column_4762', 'Column_4763', 'Column_4764', 'Column_4765', 'Column_4766', 'Column_4767', 'Column_4768', 'Column_4769', 'Column_4770', 'Column_4771', 'Column_4772', 'Column_4773', 'Column_4774', 'Column_4775', 'Column_4776', 'Column_4777', 'Column_4778', 'Column_4779', 'Column_4780', 'Column_4781', 'Column_4782', 'Column_4783', 'Column_4784', 'Column_4785', 'Column_4786', 'Column_4787', 'Column_4788', 'Column_4789', 'Column_4790', 'Column_4791', 'Column_4792', 'Column_4793', 'Column_4794', 'Column_4795', 'Column_4796', 'Column_4797', 'Column_4798', 'Column_4799', 'Column_4800', 'Column_4801', 'Column_4802', 'Column_4803', 'Column_4804', 'Column_4805', 'Column_4806', 'Column_4807', 'Column_4808', 'Column_4809', 'Column_4810', 'Column_4811', 'Column_4812', 'Column_4813', 'Column_4814', 'Column_4815', 'Column_4816', 'Column_4817', 'Column_4818', 'Column_4819', 'Column_4820', 'Column_4821', 'Column_4822', 'Column_4823', 'Column_4824', 'Column_4825', 'Column_4826', 'Column_4827', 'Column_4828', 'Column_4829', 'Column_4830', 'Column_4831', 'Column_4832', 'Column_4833', 'Column_4834', 'Column_4835', 'Column_4836', 'Column_4837', 'Column_4838', 'Column_4839', 'Column_4840', 'Column_4841', 'Column_4842', 'Column_4843', 'Column_4844', 'Column_4845', 'Column_4846', 'Column_4847', 'Column_4848', 'Column_4849', 'Column_4850', 'Column_4851', 'Column_4852', 'Column_4853', 'Column_4854', 'Column_4855', 'Column_4856', 'Column_4857', 'Column_4858', 'Column_4859', 'Column_4860', 'Column_4861', 'Column_4862', 'Column_4863', 'Column_4864', 'Column_4865', 'Column_4866', 'Column_4867', 'Column_4868', 'Column_4869', 'Column_4870', 'Column_4871', 'Column_4872', 'Column_4873', 'Column_4874', 'Column_4875', 'Column_4876', 'Column_4877', 'Column_4878', 'Column_4879', 'Column_4880', 'Column_4881', 'Column_4882', 'Column_4883', 'Column_4884', 'Column_4885', 'Column_4886', 'Column_4887', 'Column_4888', 'Column_4889', 'Column_4890', 'Column_4891', 'Column_4892', 'Column_4893', 'Column_4894', 'Column_4895', 'Column_4896', 'Column_4897', 'Column_4898', 'Column_4899', 'Column_4900', 'Column_4901', 'Column_4902', 'Column_4903', 'Column_4904', 'Column_4905', 'Column_4906', 'Column_4907', 'Column_4908', 'Column_4909', 'Column_4910', 'Column_4911', 'Column_4912', 'Column_4913', 'Column_4914', 'Column_4915', 'Column_4916', 'Column_4917', 'Column_4918', 'Column_4919', 'Column_4920', 'Column_4921', 'Column_4922', 'Column_4923', 'Column_4924', 'Column_4925', 'Column_4926', 'Column_4927', 'Column_4928', 'Column_4929', 'Column_4930', 'Column_4931', 'Column_4932', 'Column_4933', 'Column_4934', 'Column_4935', 'Column_4936', 'Column_4937', 'Column_4938', 'Column_4939', 'Column_4940', 'Column_4941', 'Column_4942', 'Column_4943', 'Column_4944', 'Column_4945', 'Column_4946', 'Column_4947', 'Column_4948', 'Column_4949', 'Column_4950', 'Column_4951', 'Column_4952', 'Column_4953', 'Column_4954', 'Column_4955', 'Column_4956', 'Column_4957', 'Column_4958', 'Column_4959', 'Column_4960', 'Column_4961', 'Column_4962', 'Column_4963', 'Column_4964', 'Column_4965', 'Column_4966', 'Column_4967', 'Column_4968', 'Column_4969', 'Column_4970', 'Column_4971', 'Column_4972', 'Column_4973', 'Column_4974', 'Column_4975', 'Column_4976', 'Column_4977', 'Column_4978', 'Column_4979', 'Column_4980', 'Column_4981', 'Column_4982', 'Column_4983', 'Column_4984', 'Column_4985', 'Column_4986', 'Column_4987', 'Column_4988', 'Column_4989', 'Column_4990', 'Column_4991', 'Column_4992', 'Column_4993', 'Column_4994', 'Column_4995', 'Column_4996', 'Column_4997', 'Column_4998', 'Column_4999', 'Column_5000', 'Column_5001', 'Column_5002', 'Column_5003', 'Column_5004', 'Column_5005', 'Column_5006', 'Column_5007', 'Column_5008', 'Column_5009', 'Column_5010', 'Column_5011', 'Column_5012', 'Column_5013', 'Column_5014', 'Column_5015', 'Column_5016', 'Column_5017', 'Column_5018', 'Column_5019', 'Column_5020', 'Column_5021', 'Column_5022', 'Column_5023', 'Column_5024', 'Column_5025', 'Column_5026', 'Column_5027', 'Column_5028', 'Column_5029', 'Column_5030', 'Column_5031', 'Column_5032', 'Column_5033', 'Column_5034', 'Column_5035', 'Column_5036', 'Column_5037', 'Column_5038', 'Column_5039', 'Column_5040', 'Column_5041', 'Column_5042', 'Column_5043', 'Column_5044', 'Column_5045', 'Column_5046', 'Column_5047', 'Column_5048', 'Column_5049', 'Column_5050', 'Column_5051', 'Column_5052', 'Column_5053', 'Column_5054', 'Column_5055', 'Column_5056', 'Column_5057', 'Column_5058', 'Column_5059', 'Column_5060', 'Column_5061', 'Column_5062', 'Column_5063', 'Column_5064', 'Column_5065', 'Column_5066', 'Column_5067', 'Column_5068', 'Column_5069', 'Column_5070', 'Column_5071', 'Column_5072', 'Column_5073', 'Column_5074', 'Column_5075', 'Column_5076', 'Column_5077', 'Column_5078', 'Column_5079', 'Column_5080', 'Column_5081', 'Column_5082', 'Column_5083', 'Column_5084', 'Column_5085', 'Column_5086', 'Column_5087', 'Column_5088', 'Column_5089', 'Column_5090', 'Column_5091', 'Column_5092', 'Column_5093', 'Column_5094', 'Column_5095', 'Column_5096', 'Column_5097', 'Column_5098', 'Column_5099', 'Column_5100', 'Column_5101', 'Column_5102', 'Column_5103', 'Column_5104', 'Column_5105', 'Column_5106', 'Column_5107', 'Column_5108', 'Column_5109', 'Column_5110', 'Column_5111', 'Column_5112', 'Column_5113', 'Column_5114', 'Column_5115', 'Column_5116', 'Column_5117', 'Column_5118', 'Column_5119', 'Column_5120', 'Column_5121', 'Column_5122', 'Column_5123', 'Column_5124', 'Column_5125', 'Column_5126', 'Column_5127', 'Column_5128', 'Column_5129', 'Column_5130', 'Column_5131', 'Column_5132', 'Column_5133', 'Column_5134', 'Column_5135', 'Column_5136', 'Column_5137', 'Column_5138', 'Column_5139', 'Column_5140', 'Column_5141', 'Column_5142', 'Column_5143', 'Column_5144', 'Column_5145', 'Column_5146', 'Column_5147', 'Column_5148', 'Column_5149', 'Column_5150', 'Column_5151', 'Column_5152', 'Column_5153', 'Column_5154', 'Column_5155', 'Column_5156', 'Column_5157', 'Column_5158', 'Column_5159', 'Column_5160', 'Column_5161', 'Column_5162', 'Column_5163', 'Column_5164']\n"
     ]
    }
   ],
   "source": [
    "print(lightgbm_model.feature_name())"
   ]
  },
  {
   "cell_type": "code",
   "execution_count": 181,
   "metadata": {},
   "outputs": [],
   "source": [
    "lightgbm_model.feature_name = X.columns"
   ]
  },
  {
   "cell_type": "code",
   "execution_count": 182,
   "metadata": {},
   "outputs": [
    {
     "data": {
      "text/plain": [
       "Index(['Min', 'Max', 'Mean', 'Max - Min', 'FLN_count', 'Upc_count', 'DD_count',\n",
       "       'Sum', 'FLN_DD_Ratio', 'UPc_DD_Ratio',\n",
       "       ...\n",
       "       'FLN__9961.0', 'FLN__9966.0', 'FLN__9967.0', 'FLN__9970.0',\n",
       "       'FLN__9971.0', 'FLN__9974.0', 'FLN__9975.0', 'FLN__9991.0',\n",
       "       'FLN__9997.0', 'FLN__9998.0'],\n",
       "      dtype='object', length=5165)"
      ]
     },
     "execution_count": 182,
     "metadata": {},
     "output_type": "execute_result"
    }
   ],
   "source": [
    "lightgbm_model.feature_name"
   ]
  },
  {
   "cell_type": "markdown",
   "metadata": {},
   "source": [
    "## 모델 저장"
   ]
  },
  {
   "cell_type": "code",
   "execution_count": 183,
   "metadata": {},
   "outputs": [
    {
     "data": {
      "text/plain": [
       "['./LightGBM/LGB_train_round4000_lr0.008.pkl']"
      ]
     },
     "execution_count": 183,
     "metadata": {},
     "output_type": "execute_result"
    }
   ],
   "source": [
    "joblib.dump(lightgbm_model, './LightGBM/LGB_train_round{}_lr{}.pkl'.format(num_boost_round, learning_rate))"
   ]
  },
  {
   "cell_type": "code",
   "execution_count": 184,
   "metadata": {},
   "outputs": [],
   "source": [
    "lightgbm_model = joblib.load('./LightGBM/LGB_train_round{}_lr{}.pkl'.format(num_boost_round, learning_rate))"
   ]
  },
  {
   "cell_type": "code",
   "execution_count": 185,
   "metadata": {
    "scrolled": true
   },
   "outputs": [
    {
     "data": {
      "text/plain": [
       "0"
      ]
     },
     "execution_count": 185,
     "metadata": {},
     "output_type": "execute_result"
    }
   ],
   "source": [
    "lightgbm_model.best_iteration"
   ]
  },
  {
   "cell_type": "code",
   "execution_count": 186,
   "metadata": {},
   "outputs": [],
   "source": [
    "lightgbm_model.save_model('./LightGBM/LGB_train_round{}_lr{}.model'.format(num_boost_round, learning_rate))"
   ]
  },
  {
   "cell_type": "markdown",
   "metadata": {},
   "source": [
    "### prediction"
   ]
  },
  {
   "cell_type": "code",
   "execution_count": 187,
   "metadata": {
    "scrolled": true
   },
   "outputs": [
    {
     "name": "stdout",
     "output_type": "stream",
     "text": [
      "CPU times: user 1h 19min 15s, sys: 40.4 s, total: 1h 19min 56s\n",
      "Wall time: 14min 34s\n"
     ]
    }
   ],
   "source": [
    "%time result = lightgbm_model.predict(test)"
   ]
  },
  {
   "cell_type": "code",
   "execution_count": 188,
   "metadata": {},
   "outputs": [
    {
     "name": "stdout",
     "output_type": "stream",
     "text": [
      "<Response [200]>\n"
     ]
    }
   ],
   "source": [
    "myslack.send_slack('LightGBM prediction finish!')"
   ]
  },
  {
   "cell_type": "code",
   "execution_count": 189,
   "metadata": {},
   "outputs": [
    {
     "data": {
      "text/plain": [
       "array([[1.80736464e-08, 3.59038107e-07, 1.40440506e-05, ...,\n",
       "        2.65835624e-04, 4.64835506e-05, 1.02367126e-03],\n",
       "       [3.04990527e-06, 2.31792286e-05, 3.67664032e-04, ...,\n",
       "        1.77583786e-02, 5.98915099e-04, 8.81473884e-03],\n",
       "       [3.37168084e-08, 8.94251916e-10, 2.58991160e-07, ...,\n",
       "        6.19389381e-08, 3.50007359e-08, 9.99931203e-01],\n",
       "       ...,\n",
       "       [8.66531498e-06, 1.33576773e-06, 1.63198697e-04, ...,\n",
       "        1.48127120e-05, 1.97850380e-05, 3.63627198e-03],\n",
       "       [4.77135945e-09, 4.15136738e-09, 7.52780573e-07, ...,\n",
       "        5.14139452e-04, 3.27650367e-03, 1.67633006e-05],\n",
       "       [5.36301611e-08, 4.75592975e-08, 8.83106506e-07, ...,\n",
       "        1.44357289e-03, 3.50297788e-04, 2.32392725e-05]])"
      ]
     },
     "execution_count": 189,
     "metadata": {},
     "output_type": "execute_result"
    }
   ],
   "source": [
    "result"
   ]
  },
  {
   "cell_type": "markdown",
   "metadata": {},
   "source": [
    "### Make Submission CSV file"
   ]
  },
  {
   "cell_type": "code",
   "execution_count": 190,
   "metadata": {},
   "outputs": [],
   "source": [
    "samplesub = pd.read_csv('./data/sample_submission.csv')"
   ]
  },
  {
   "cell_type": "code",
   "execution_count": 191,
   "metadata": {},
   "outputs": [
    {
     "data": {
      "text/html": [
       "<div>\n",
       "<style scoped>\n",
       "    .dataframe tbody tr th:only-of-type {\n",
       "        vertical-align: middle;\n",
       "    }\n",
       "\n",
       "    .dataframe tbody tr th {\n",
       "        vertical-align: top;\n",
       "    }\n",
       "\n",
       "    .dataframe thead th {\n",
       "        text-align: right;\n",
       "    }\n",
       "</style>\n",
       "<table border=\"1\" class=\"dataframe\">\n",
       "  <thead>\n",
       "    <tr style=\"text-align: right;\">\n",
       "      <th></th>\n",
       "      <th>TripType_3</th>\n",
       "      <th>TripType_4</th>\n",
       "      <th>TripType_5</th>\n",
       "      <th>TripType_6</th>\n",
       "      <th>TripType_7</th>\n",
       "      <th>TripType_8</th>\n",
       "      <th>TripType_9</th>\n",
       "      <th>TripType_12</th>\n",
       "      <th>TripType_14</th>\n",
       "      <th>TripType_15</th>\n",
       "      <th>TripType_18</th>\n",
       "      <th>TripType_19</th>\n",
       "      <th>...</th>\n",
       "      <th>TripType_34</th>\n",
       "      <th>TripType_35</th>\n",
       "      <th>TripType_36</th>\n",
       "      <th>TripType_37</th>\n",
       "      <th>TripType_38</th>\n",
       "      <th>TripType_39</th>\n",
       "      <th>TripType_40</th>\n",
       "      <th>TripType_41</th>\n",
       "      <th>TripType_42</th>\n",
       "      <th>TripType_43</th>\n",
       "      <th>TripType_44</th>\n",
       "      <th>TripType_999</th>\n",
       "    </tr>\n",
       "    <tr>\n",
       "      <th>VisitNumber</th>\n",
       "      <th></th>\n",
       "      <th></th>\n",
       "      <th></th>\n",
       "      <th></th>\n",
       "      <th></th>\n",
       "      <th></th>\n",
       "      <th></th>\n",
       "      <th></th>\n",
       "      <th></th>\n",
       "      <th></th>\n",
       "      <th></th>\n",
       "      <th></th>\n",
       "      <th></th>\n",
       "      <th></th>\n",
       "      <th></th>\n",
       "      <th></th>\n",
       "      <th></th>\n",
       "      <th></th>\n",
       "      <th></th>\n",
       "      <th></th>\n",
       "      <th></th>\n",
       "      <th></th>\n",
       "      <th></th>\n",
       "      <th></th>\n",
       "      <th></th>\n",
       "    </tr>\n",
       "  </thead>\n",
       "  <tbody>\n",
       "    <tr>\n",
       "      <th>191338</th>\n",
       "      <td>1.987282e-07</td>\n",
       "      <td>4.198027e-07</td>\n",
       "      <td>5.694994e-05</td>\n",
       "      <td>1.573755e-05</td>\n",
       "      <td>4.318863e-04</td>\n",
       "      <td>0.000115</td>\n",
       "      <td>0.000064</td>\n",
       "      <td>0.000018</td>\n",
       "      <td>1.593477e-08</td>\n",
       "      <td>0.000262</td>\n",
       "      <td>9.651993e-06</td>\n",
       "      <td>1.899166e-06</td>\n",
       "      <td>...</td>\n",
       "      <td>6.476241e-06</td>\n",
       "      <td>0.017298</td>\n",
       "      <td>0.000088</td>\n",
       "      <td>0.000294</td>\n",
       "      <td>0.001768</td>\n",
       "      <td>0.260256</td>\n",
       "      <td>0.003863</td>\n",
       "      <td>0.000054</td>\n",
       "      <td>0.000292</td>\n",
       "      <td>0.003737</td>\n",
       "      <td>0.002081</td>\n",
       "      <td>0.000630</td>\n",
       "    </tr>\n",
       "    <tr>\n",
       "      <th>191339</th>\n",
       "      <td>3.484471e-07</td>\n",
       "      <td>3.397986e-07</td>\n",
       "      <td>4.717448e-05</td>\n",
       "      <td>1.721401e-05</td>\n",
       "      <td>2.363250e-04</td>\n",
       "      <td>0.000133</td>\n",
       "      <td>0.000406</td>\n",
       "      <td>0.000006</td>\n",
       "      <td>2.376029e-09</td>\n",
       "      <td>0.000176</td>\n",
       "      <td>2.274112e-04</td>\n",
       "      <td>1.286245e-06</td>\n",
       "      <td>...</td>\n",
       "      <td>1.435334e-05</td>\n",
       "      <td>0.002186</td>\n",
       "      <td>0.000052</td>\n",
       "      <td>0.000071</td>\n",
       "      <td>0.000429</td>\n",
       "      <td>0.005685</td>\n",
       "      <td>0.000027</td>\n",
       "      <td>0.000691</td>\n",
       "      <td>0.073210</td>\n",
       "      <td>0.010466</td>\n",
       "      <td>0.001729</td>\n",
       "      <td>0.000234</td>\n",
       "    </tr>\n",
       "    <tr>\n",
       "      <th>191340</th>\n",
       "      <td>8.665315e-06</td>\n",
       "      <td>1.335768e-06</td>\n",
       "      <td>1.631987e-04</td>\n",
       "      <td>4.671471e-05</td>\n",
       "      <td>3.273531e-03</td>\n",
       "      <td>0.937880</td>\n",
       "      <td>0.047466</td>\n",
       "      <td>0.000026</td>\n",
       "      <td>3.564912e-09</td>\n",
       "      <td>0.000591</td>\n",
       "      <td>7.928273e-04</td>\n",
       "      <td>8.777285e-07</td>\n",
       "      <td>...</td>\n",
       "      <td>6.724287e-06</td>\n",
       "      <td>0.003616</td>\n",
       "      <td>0.000190</td>\n",
       "      <td>0.000069</td>\n",
       "      <td>0.000258</td>\n",
       "      <td>0.000303</td>\n",
       "      <td>0.000028</td>\n",
       "      <td>0.000009</td>\n",
       "      <td>0.000571</td>\n",
       "      <td>0.000015</td>\n",
       "      <td>0.000020</td>\n",
       "      <td>0.003636</td>\n",
       "    </tr>\n",
       "    <tr>\n",
       "      <th>191341</th>\n",
       "      <td>4.771359e-09</td>\n",
       "      <td>4.151367e-09</td>\n",
       "      <td>7.527806e-07</td>\n",
       "      <td>8.803936e-08</td>\n",
       "      <td>6.532289e-07</td>\n",
       "      <td>0.000004</td>\n",
       "      <td>0.000008</td>\n",
       "      <td>0.000002</td>\n",
       "      <td>5.048110e-10</td>\n",
       "      <td>0.000019</td>\n",
       "      <td>1.554709e-07</td>\n",
       "      <td>4.717153e-08</td>\n",
       "      <td>...</td>\n",
       "      <td>1.543882e-07</td>\n",
       "      <td>0.000002</td>\n",
       "      <td>0.000015</td>\n",
       "      <td>0.000003</td>\n",
       "      <td>0.000005</td>\n",
       "      <td>0.011712</td>\n",
       "      <td>0.000083</td>\n",
       "      <td>0.000275</td>\n",
       "      <td>0.000829</td>\n",
       "      <td>0.000514</td>\n",
       "      <td>0.003277</td>\n",
       "      <td>0.000017</td>\n",
       "    </tr>\n",
       "    <tr>\n",
       "      <th>191348</th>\n",
       "      <td>5.363016e-08</td>\n",
       "      <td>4.755930e-08</td>\n",
       "      <td>8.831065e-07</td>\n",
       "      <td>1.586243e-07</td>\n",
       "      <td>6.756456e-06</td>\n",
       "      <td>0.000090</td>\n",
       "      <td>0.000040</td>\n",
       "      <td>0.000002</td>\n",
       "      <td>2.955739e-10</td>\n",
       "      <td>0.000006</td>\n",
       "      <td>7.867019e-07</td>\n",
       "      <td>5.631004e-08</td>\n",
       "      <td>...</td>\n",
       "      <td>1.236883e-07</td>\n",
       "      <td>0.000002</td>\n",
       "      <td>0.000002</td>\n",
       "      <td>0.000010</td>\n",
       "      <td>0.000005</td>\n",
       "      <td>0.000114</td>\n",
       "      <td>0.000028</td>\n",
       "      <td>0.006577</td>\n",
       "      <td>0.005780</td>\n",
       "      <td>0.001444</td>\n",
       "      <td>0.000350</td>\n",
       "      <td>0.000023</td>\n",
       "    </tr>\n",
       "  </tbody>\n",
       "</table>\n",
       "<p>5 rows × 38 columns</p>\n",
       "</div>"
      ],
      "text/plain": [
       "               TripType_3    TripType_4    TripType_5    TripType_6  \\\n",
       "VisitNumber                                                           \n",
       "191338       1.987282e-07  4.198027e-07  5.694994e-05  1.573755e-05   \n",
       "191339       3.484471e-07  3.397986e-07  4.717448e-05  1.721401e-05   \n",
       "191340       8.665315e-06  1.335768e-06  1.631987e-04  4.671471e-05   \n",
       "191341       4.771359e-09  4.151367e-09  7.527806e-07  8.803936e-08   \n",
       "191348       5.363016e-08  4.755930e-08  8.831065e-07  1.586243e-07   \n",
       "\n",
       "               TripType_7  TripType_8  TripType_9  TripType_12   TripType_14  \\\n",
       "VisitNumber                                                                    \n",
       "191338       4.318863e-04    0.000115    0.000064     0.000018  1.593477e-08   \n",
       "191339       2.363250e-04    0.000133    0.000406     0.000006  2.376029e-09   \n",
       "191340       3.273531e-03    0.937880    0.047466     0.000026  3.564912e-09   \n",
       "191341       6.532289e-07    0.000004    0.000008     0.000002  5.048110e-10   \n",
       "191348       6.756456e-06    0.000090    0.000040     0.000002  2.955739e-10   \n",
       "\n",
       "             TripType_15   TripType_18   TripType_19      ...       \\\n",
       "VisitNumber                                               ...        \n",
       "191338          0.000262  9.651993e-06  1.899166e-06      ...        \n",
       "191339          0.000176  2.274112e-04  1.286245e-06      ...        \n",
       "191340          0.000591  7.928273e-04  8.777285e-07      ...        \n",
       "191341          0.000019  1.554709e-07  4.717153e-08      ...        \n",
       "191348          0.000006  7.867019e-07  5.631004e-08      ...        \n",
       "\n",
       "              TripType_34  TripType_35  TripType_36  TripType_37  TripType_38  \\\n",
       "VisitNumber                                                                     \n",
       "191338       6.476241e-06     0.017298     0.000088     0.000294     0.001768   \n",
       "191339       1.435334e-05     0.002186     0.000052     0.000071     0.000429   \n",
       "191340       6.724287e-06     0.003616     0.000190     0.000069     0.000258   \n",
       "191341       1.543882e-07     0.000002     0.000015     0.000003     0.000005   \n",
       "191348       1.236883e-07     0.000002     0.000002     0.000010     0.000005   \n",
       "\n",
       "             TripType_39  TripType_40  TripType_41  TripType_42  TripType_43  \\\n",
       "VisitNumber                                                                    \n",
       "191338          0.260256     0.003863     0.000054     0.000292     0.003737   \n",
       "191339          0.005685     0.000027     0.000691     0.073210     0.010466   \n",
       "191340          0.000303     0.000028     0.000009     0.000571     0.000015   \n",
       "191341          0.011712     0.000083     0.000275     0.000829     0.000514   \n",
       "191348          0.000114     0.000028     0.006577     0.005780     0.001444   \n",
       "\n",
       "             TripType_44  TripType_999  \n",
       "VisitNumber                             \n",
       "191338          0.002081      0.000630  \n",
       "191339          0.001729      0.000234  \n",
       "191340          0.000020      0.003636  \n",
       "191341          0.003277      0.000017  \n",
       "191348          0.000350      0.000023  \n",
       "\n",
       "[5 rows x 38 columns]"
      ]
     },
     "execution_count": 191,
     "metadata": {},
     "output_type": "execute_result"
    }
   ],
   "source": [
    "subform_df_columns = samplesub.columns[1:]\n",
    "result_df = pd.DataFrame(result)\n",
    "result_df.columns = subform_df_columns\n",
    "subform_df = pd.concat([test.reset_index()['VisitNumber'],result_df],axis=1)\n",
    "subform_df.set_index('VisitNumber',inplace=True)\n",
    "subform_df.tail()"
   ]
  },
  {
   "cell_type": "code",
   "execution_count": 192,
   "metadata": {},
   "outputs": [
    {
     "name": "stdout",
     "output_type": "stream",
     "text": [
      "CPU times: user 5.75 s, sys: 102 ms, total: 5.85 s\n",
      "Wall time: 5.89 s\n"
     ]
    }
   ],
   "source": [
    "%time subform_df.to_csv('./LightGBM/LGB_train_round{}_lr{}.csv'.format(num_boost_round, learning_rate))"
   ]
  },
  {
   "cell_type": "code",
   "execution_count": 193,
   "metadata": {},
   "outputs": [
    {
     "name": "stdout",
     "output_type": "stream",
     "text": [
      "<Response [200]>\n"
     ]
    }
   ],
   "source": [
    "myslack.send_slack('Making LightGBM CSV finish!!')"
   ]
  },
  {
   "cell_type": "code",
   "execution_count": null,
   "metadata": {},
   "outputs": [],
   "source": []
  },
  {
   "cell_type": "markdown",
   "metadata": {},
   "source": [
    "---"
   ]
  },
  {
   "cell_type": "markdown",
   "metadata": {},
   "source": [
    "---"
   ]
  },
  {
   "cell_type": "markdown",
   "metadata": {},
   "source": [
    "### Ver3"
   ]
  },
  {
   "cell_type": "markdown",
   "metadata": {},
   "source": [
    "# Modeling 6 - LightGBM"
   ]
  },
  {
   "cell_type": "code",
   "execution_count": 13,
   "metadata": {},
   "outputs": [],
   "source": [
    "# in test, not in train\n",
    "not_in_train = [i for i in test.columns if i not in train.columns[1:]]"
   ]
  },
  {
   "cell_type": "code",
   "execution_count": 14,
   "metadata": {},
   "outputs": [],
   "source": [
    "# in train, not in test\n",
    "not_in_test = [i for i in train.columns[1:] if i not in test.columns]"
   ]
  },
  {
   "cell_type": "code",
   "execution_count": 15,
   "metadata": {},
   "outputs": [
    {
     "data": {
      "text/plain": [
       "328"
      ]
     },
     "execution_count": 15,
     "metadata": {},
     "output_type": "execute_result"
    }
   ],
   "source": [
    "len(not_in_train)"
   ]
  },
  {
   "cell_type": "code",
   "execution_count": 16,
   "metadata": {},
   "outputs": [
    {
     "data": {
      "text/plain": [
       "328"
      ]
     },
     "execution_count": 16,
     "metadata": {},
     "output_type": "execute_result"
    }
   ],
   "source": [
    "len(not_in_test)"
   ]
  },
  {
   "cell_type": "code",
   "execution_count": 17,
   "metadata": {},
   "outputs": [],
   "source": [
    "train.drop(columns=not_in_test,inplace=True)"
   ]
  },
  {
   "cell_type": "code",
   "execution_count": 21,
   "metadata": {},
   "outputs": [
    {
     "data": {
      "text/plain": [
       "(95674, 5166)"
      ]
     },
     "execution_count": 21,
     "metadata": {},
     "output_type": "execute_result"
    }
   ],
   "source": [
    "train.shape"
   ]
  },
  {
   "cell_type": "code",
   "execution_count": 18,
   "metadata": {},
   "outputs": [],
   "source": [
    "test.drop(columns=not_in_train,inplace=True)"
   ]
  },
  {
   "cell_type": "code",
   "execution_count": 22,
   "metadata": {},
   "outputs": [
    {
     "data": {
      "text/plain": [
       "(95674, 5165)"
      ]
     },
     "execution_count": 22,
     "metadata": {},
     "output_type": "execute_result"
    }
   ],
   "source": [
    "test.shape"
   ]
  },
  {
   "cell_type": "markdown",
   "metadata": {},
   "source": [
    "### Train_X, Train_y"
   ]
  },
  {
   "cell_type": "code",
   "execution_count": 72,
   "metadata": {},
   "outputs": [],
   "source": [
    "X = train.drop(columns='TripType')\n",
    "y = train['TripType']"
   ]
  },
  {
   "cell_type": "code",
   "execution_count": 73,
   "metadata": {},
   "outputs": [
    {
     "data": {
      "text/plain": [
       "<95674x5165 sparse matrix of type '<class 'numpy.float64'>'\n",
       "\twith 2214766 stored elements in Compressed Sparse Row format>"
      ]
     },
     "execution_count": 73,
     "metadata": {},
     "output_type": "execute_result"
    }
   ],
   "source": [
    "X = csr_matrix(X); X"
   ]
  },
  {
   "cell_type": "code",
   "execution_count": 74,
   "metadata": {},
   "outputs": [
    {
     "data": {
      "text/plain": [
       "<95674x5165 sparse matrix of type '<class 'numpy.float64'>'\n",
       "\twith 2221183 stored elements in Compressed Sparse Row format>"
      ]
     },
     "execution_count": 74,
     "metadata": {},
     "output_type": "execute_result"
    }
   ],
   "source": [
    "csr_test = csr_matrix(test); csr_test"
   ]
  },
  {
   "cell_type": "markdown",
   "metadata": {},
   "source": [
    "### LightGBM"
   ]
  },
  {
   "cell_type": "code",
   "execution_count": 85,
   "metadata": {},
   "outputs": [
    {
     "name": "stdout",
     "output_type": "stream",
     "text": [
      "<Response [200]>\n",
      "CPU times: user 14min 16s, sys: 2min 1s, total: 16min 17s\n",
      "Wall time: 20min 7s\n"
     ]
    }
   ],
   "source": [
    "%%time\n",
    "\n",
    "estimator=250\n",
    "depth=20\n",
    "\n",
    "lightgbm_model = lightgbm.LGBMClassifier(n_estimators=estimator, max_depth=depth, n_jobs=6).fit(X,y)\n",
    "\n",
    "myslack_incomming.send_slack('Ver3_lightgbm {},{} modeling finish!'.format(estimator,depth))"
   ]
  },
  {
   "cell_type": "markdown",
   "metadata": {},
   "source": [
    "### Confusion Matrix"
   ]
  },
  {
   "cell_type": "code",
   "execution_count": 86,
   "metadata": {
    "scrolled": false
   },
   "outputs": [
    {
     "name": "stdout",
     "output_type": "stream",
     "text": [
      "CPU times: user 2min 43s, sys: 235 ms, total: 2min 44s\n",
      "Wall time: 27.8 s\n"
     ]
    },
    {
     "name": "stderr",
     "output_type": "stream",
     "text": [
      "/Library/Frameworks/Python.framework/Versions/3.6/lib/python3.6/site-packages/sklearn/preprocessing/label.py:151: DeprecationWarning: The truth value of an empty array is ambiguous. Returning False, but in future this will result in an error. Use `array.size > 0` to check that an array is not empty.\n",
      "  if diff:\n"
     ]
    },
    {
     "data": {
      "text/plain": [
       "array([[3643,    0,    0, ...,    0,    0,    0],\n",
       "       [   0,  333,   13, ...,    0,    0,    0],\n",
       "       [   0,    0, 4456, ...,    1,    0,    1],\n",
       "       ...,\n",
       "       [   0,    0,    3, ...,  739,    0,    1],\n",
       "       [   0,    0,    0, ...,    0, 1130,    0],\n",
       "       [ 300,    2,   17, ...,    0,    0, 7705]])"
      ]
     },
     "execution_count": 86,
     "metadata": {},
     "output_type": "execute_result"
    }
   ],
   "source": [
    "%time confusion_matrix(y, lightgbm_model.predict(X))"
   ]
  },
  {
   "cell_type": "markdown",
   "metadata": {},
   "source": [
    "### Train Test Split"
   ]
  },
  {
   "cell_type": "code",
   "execution_count": 87,
   "metadata": {
    "scrolled": true
   },
   "outputs": [
    {
     "data": {
      "text/plain": [
       "(76539, 19135, 76539, 19135)"
      ]
     },
     "execution_count": 87,
     "metadata": {},
     "output_type": "execute_result"
    }
   ],
   "source": [
    "X_train, X_test, y_train, y_test \\\n",
    "= train_test_split(X, y, test_size=0.2)\n",
    "\n",
    "X_train.shape[0], X_test.shape[0], len(y_train), len(y_test)"
   ]
  },
  {
   "cell_type": "code",
   "execution_count": 88,
   "metadata": {},
   "outputs": [
    {
     "name": "stdout",
     "output_type": "stream",
     "text": [
      "CPU times: user 32.1 s, sys: 40.9 ms, total: 32.1 s\n",
      "Wall time: 5.44 s\n"
     ]
    },
    {
     "name": "stderr",
     "output_type": "stream",
     "text": [
      "/Library/Frameworks/Python.framework/Versions/3.6/lib/python3.6/site-packages/sklearn/preprocessing/label.py:151: DeprecationWarning: The truth value of an empty array is ambiguous. Returning False, but in future this will result in an error. Use `array.size > 0` to check that an array is not empty.\n",
      "  if diff:\n"
     ]
    }
   ],
   "source": [
    "%%time\n",
    "y_pred = lightgbm_model.predict(X_test)"
   ]
  },
  {
   "cell_type": "code",
   "execution_count": 89,
   "metadata": {
    "scrolled": false
   },
   "outputs": [
    {
     "name": "stdout",
     "output_type": "stream",
     "text": [
      "             precision    recall  f1-score   support\n",
      "\n",
      "          3       0.92      1.00      0.96       724\n",
      "          4       1.00      0.98      0.99        62\n",
      "          5       0.93      0.97      0.95       950\n",
      "          6       0.99      1.00      0.99       266\n",
      "          7       0.90      0.92      0.91      1132\n",
      "          8       0.93      0.94      0.94      2438\n",
      "          9       0.87      0.93      0.90      1876\n",
      "         12       1.00      1.00      1.00        45\n",
      "         14       1.00      1.00      1.00         1\n",
      "         15       0.93      0.93      0.93       172\n",
      "         18       0.97      0.89      0.93       103\n",
      "         19       0.97      0.94      0.96        83\n",
      "         20       1.00      0.96      0.98       135\n",
      "         21       0.99      0.98      0.99       143\n",
      "         22       0.90      0.90      0.90       176\n",
      "         23       0.96      0.96      0.96        25\n",
      "         24       0.93      0.91      0.92       509\n",
      "         25       0.92      0.95      0.93       696\n",
      "         26       0.98      0.93      0.95        87\n",
      "         27       0.99      0.94      0.96       158\n",
      "         28       0.99      0.92      0.95       108\n",
      "         29       1.00      0.96      0.98        81\n",
      "         30       0.94      0.88      0.91       214\n",
      "         31       0.97      0.98      0.97       124\n",
      "         32       0.95      0.98      0.96       394\n",
      "         33       0.97      0.96      0.97       263\n",
      "         34       0.97      0.97      0.97       136\n",
      "         35       0.92      0.92      0.92       404\n",
      "         36       0.89      0.90      0.89       578\n",
      "         37       0.93      0.89      0.91       576\n",
      "         38       0.92      0.88      0.90       571\n",
      "         39       0.91      0.91      0.91      2019\n",
      "         40       0.99      0.99      0.99      1303\n",
      "         41       1.00      1.00      1.00       101\n",
      "         42       0.99      0.88      0.93       373\n",
      "         43       1.00      0.82      0.90       181\n",
      "         44       1.00      0.94      0.97       235\n",
      "        999       1.00      0.92      0.96      1693\n",
      "\n",
      "avg / total       0.94      0.94      0.94     19135\n",
      "\n"
     ]
    }
   ],
   "source": [
    "print(classification_report(y_test, y_pred))"
   ]
  },
  {
   "cell_type": "markdown",
   "metadata": {},
   "source": [
    "### prediction"
   ]
  },
  {
   "cell_type": "code",
   "execution_count": 90,
   "metadata": {
    "scrolled": false
   },
   "outputs": [
    {
     "name": "stdout",
     "output_type": "stream",
     "text": [
      "CPU times: user 2min 38s, sys: 158 ms, total: 2min 38s\n",
      "Wall time: 26.5 s\n"
     ]
    }
   ],
   "source": [
    "%%time\n",
    "result = lightgbm_model.predict_proba(csr_test)"
   ]
  },
  {
   "cell_type": "markdown",
   "metadata": {},
   "source": [
    "### Make Submission CSV file"
   ]
  },
  {
   "cell_type": "code",
   "execution_count": 91,
   "metadata": {},
   "outputs": [
    {
     "data": {
      "text/html": [
       "<div>\n",
       "<style scoped>\n",
       "    .dataframe tbody tr th:only-of-type {\n",
       "        vertical-align: middle;\n",
       "    }\n",
       "\n",
       "    .dataframe tbody tr th {\n",
       "        vertical-align: top;\n",
       "    }\n",
       "\n",
       "    .dataframe thead th {\n",
       "        text-align: right;\n",
       "    }\n",
       "</style>\n",
       "<table border=\"1\" class=\"dataframe\">\n",
       "  <thead>\n",
       "    <tr style=\"text-align: right;\">\n",
       "      <th></th>\n",
       "      <th>TripType_3</th>\n",
       "      <th>TripType_4</th>\n",
       "      <th>TripType_5</th>\n",
       "      <th>TripType_6</th>\n",
       "      <th>TripType_7</th>\n",
       "      <th>TripType_8</th>\n",
       "      <th>TripType_9</th>\n",
       "      <th>TripType_12</th>\n",
       "      <th>TripType_14</th>\n",
       "      <th>TripType_15</th>\n",
       "      <th>TripType_18</th>\n",
       "      <th>TripType_19</th>\n",
       "      <th>...</th>\n",
       "      <th>TripType_34</th>\n",
       "      <th>TripType_35</th>\n",
       "      <th>TripType_36</th>\n",
       "      <th>TripType_37</th>\n",
       "      <th>TripType_38</th>\n",
       "      <th>TripType_39</th>\n",
       "      <th>TripType_40</th>\n",
       "      <th>TripType_41</th>\n",
       "      <th>TripType_42</th>\n",
       "      <th>TripType_43</th>\n",
       "      <th>TripType_44</th>\n",
       "      <th>TripType_999</th>\n",
       "    </tr>\n",
       "    <tr>\n",
       "      <th>VisitNumber</th>\n",
       "      <th></th>\n",
       "      <th></th>\n",
       "      <th></th>\n",
       "      <th></th>\n",
       "      <th></th>\n",
       "      <th></th>\n",
       "      <th></th>\n",
       "      <th></th>\n",
       "      <th></th>\n",
       "      <th></th>\n",
       "      <th></th>\n",
       "      <th></th>\n",
       "      <th></th>\n",
       "      <th></th>\n",
       "      <th></th>\n",
       "      <th></th>\n",
       "      <th></th>\n",
       "      <th></th>\n",
       "      <th></th>\n",
       "      <th></th>\n",
       "      <th></th>\n",
       "      <th></th>\n",
       "      <th></th>\n",
       "      <th></th>\n",
       "      <th></th>\n",
       "    </tr>\n",
       "  </thead>\n",
       "  <tbody>\n",
       "    <tr>\n",
       "      <th>191338</th>\n",
       "      <td>1.653469e-06</td>\n",
       "      <td>1.708501e-06</td>\n",
       "      <td>0.000095</td>\n",
       "      <td>6.576896e-05</td>\n",
       "      <td>0.000420</td>\n",
       "      <td>0.000082</td>\n",
       "      <td>0.000105</td>\n",
       "      <td>0.000032</td>\n",
       "      <td>7.153566e-08</td>\n",
       "      <td>0.000212</td>\n",
       "      <td>1.555688e-05</td>\n",
       "      <td>3.733026e-06</td>\n",
       "      <td>...</td>\n",
       "      <td>3.804306e-06</td>\n",
       "      <td>0.028980</td>\n",
       "      <td>0.000074</td>\n",
       "      <td>0.000188</td>\n",
       "      <td>0.002576</td>\n",
       "      <td>0.174151</td>\n",
       "      <td>0.003168</td>\n",
       "      <td>0.000104</td>\n",
       "      <td>0.000413</td>\n",
       "      <td>0.002624</td>\n",
       "      <td>0.001734</td>\n",
       "      <td>0.000390</td>\n",
       "    </tr>\n",
       "    <tr>\n",
       "      <th>191339</th>\n",
       "      <td>3.016177e-06</td>\n",
       "      <td>2.037850e-06</td>\n",
       "      <td>0.000147</td>\n",
       "      <td>3.706446e-05</td>\n",
       "      <td>0.000541</td>\n",
       "      <td>0.000344</td>\n",
       "      <td>0.001003</td>\n",
       "      <td>0.000031</td>\n",
       "      <td>6.757531e-08</td>\n",
       "      <td>0.000379</td>\n",
       "      <td>7.368699e-04</td>\n",
       "      <td>6.861530e-06</td>\n",
       "      <td>...</td>\n",
       "      <td>2.131447e-05</td>\n",
       "      <td>0.004767</td>\n",
       "      <td>0.000123</td>\n",
       "      <td>0.000288</td>\n",
       "      <td>0.000965</td>\n",
       "      <td>0.011179</td>\n",
       "      <td>0.000135</td>\n",
       "      <td>0.001577</td>\n",
       "      <td>0.150306</td>\n",
       "      <td>0.023044</td>\n",
       "      <td>0.003968</td>\n",
       "      <td>0.000647</td>\n",
       "    </tr>\n",
       "    <tr>\n",
       "      <th>191340</th>\n",
       "      <td>2.779387e-05</td>\n",
       "      <td>3.239346e-06</td>\n",
       "      <td>0.000224</td>\n",
       "      <td>1.055917e-04</td>\n",
       "      <td>0.004107</td>\n",
       "      <td>0.923192</td>\n",
       "      <td>0.055008</td>\n",
       "      <td>0.000101</td>\n",
       "      <td>7.873830e-08</td>\n",
       "      <td>0.001107</td>\n",
       "      <td>9.211155e-04</td>\n",
       "      <td>7.017644e-06</td>\n",
       "      <td>...</td>\n",
       "      <td>1.258328e-05</td>\n",
       "      <td>0.004283</td>\n",
       "      <td>0.000240</td>\n",
       "      <td>0.000122</td>\n",
       "      <td>0.000415</td>\n",
       "      <td>0.000410</td>\n",
       "      <td>0.000055</td>\n",
       "      <td>0.000027</td>\n",
       "      <td>0.000694</td>\n",
       "      <td>0.000034</td>\n",
       "      <td>0.000038</td>\n",
       "      <td>0.007299</td>\n",
       "    </tr>\n",
       "    <tr>\n",
       "      <th>191341</th>\n",
       "      <td>4.918564e-08</td>\n",
       "      <td>3.459018e-08</td>\n",
       "      <td>0.000004</td>\n",
       "      <td>1.994391e-07</td>\n",
       "      <td>0.000004</td>\n",
       "      <td>0.000017</td>\n",
       "      <td>0.000008</td>\n",
       "      <td>0.000006</td>\n",
       "      <td>5.188286e-09</td>\n",
       "      <td>0.000022</td>\n",
       "      <td>9.587239e-07</td>\n",
       "      <td>2.126053e-07</td>\n",
       "      <td>...</td>\n",
       "      <td>2.430074e-07</td>\n",
       "      <td>0.000006</td>\n",
       "      <td>0.000012</td>\n",
       "      <td>0.000007</td>\n",
       "      <td>0.000010</td>\n",
       "      <td>0.021022</td>\n",
       "      <td>0.000203</td>\n",
       "      <td>0.000345</td>\n",
       "      <td>0.002326</td>\n",
       "      <td>0.000816</td>\n",
       "      <td>0.005027</td>\n",
       "      <td>0.000030</td>\n",
       "    </tr>\n",
       "    <tr>\n",
       "      <th>191348</th>\n",
       "      <td>9.904227e-08</td>\n",
       "      <td>4.797844e-08</td>\n",
       "      <td>0.000002</td>\n",
       "      <td>4.521200e-07</td>\n",
       "      <td>0.000008</td>\n",
       "      <td>0.000881</td>\n",
       "      <td>0.000040</td>\n",
       "      <td>0.000004</td>\n",
       "      <td>3.440554e-09</td>\n",
       "      <td>0.000006</td>\n",
       "      <td>1.095652e-06</td>\n",
       "      <td>1.753617e-07</td>\n",
       "      <td>...</td>\n",
       "      <td>2.243617e-07</td>\n",
       "      <td>0.000004</td>\n",
       "      <td>0.000005</td>\n",
       "      <td>0.000006</td>\n",
       "      <td>0.000005</td>\n",
       "      <td>0.000168</td>\n",
       "      <td>0.000026</td>\n",
       "      <td>0.002551</td>\n",
       "      <td>0.005463</td>\n",
       "      <td>0.001173</td>\n",
       "      <td>0.000387</td>\n",
       "      <td>0.000022</td>\n",
       "    </tr>\n",
       "  </tbody>\n",
       "</table>\n",
       "<p>5 rows × 38 columns</p>\n",
       "</div>"
      ],
      "text/plain": [
       "               TripType_3    TripType_4  TripType_5    TripType_6  TripType_7  \\\n",
       "VisitNumber                                                                     \n",
       "191338       1.653469e-06  1.708501e-06    0.000095  6.576896e-05    0.000420   \n",
       "191339       3.016177e-06  2.037850e-06    0.000147  3.706446e-05    0.000541   \n",
       "191340       2.779387e-05  3.239346e-06    0.000224  1.055917e-04    0.004107   \n",
       "191341       4.918564e-08  3.459018e-08    0.000004  1.994391e-07    0.000004   \n",
       "191348       9.904227e-08  4.797844e-08    0.000002  4.521200e-07    0.000008   \n",
       "\n",
       "             TripType_8  TripType_9  TripType_12   TripType_14  TripType_15  \\\n",
       "VisitNumber                                                                   \n",
       "191338         0.000082    0.000105     0.000032  7.153566e-08     0.000212   \n",
       "191339         0.000344    0.001003     0.000031  6.757531e-08     0.000379   \n",
       "191340         0.923192    0.055008     0.000101  7.873830e-08     0.001107   \n",
       "191341         0.000017    0.000008     0.000006  5.188286e-09     0.000022   \n",
       "191348         0.000881    0.000040     0.000004  3.440554e-09     0.000006   \n",
       "\n",
       "              TripType_18   TripType_19      ...        TripType_34  \\\n",
       "VisitNumber                                  ...                      \n",
       "191338       1.555688e-05  3.733026e-06      ...       3.804306e-06   \n",
       "191339       7.368699e-04  6.861530e-06      ...       2.131447e-05   \n",
       "191340       9.211155e-04  7.017644e-06      ...       1.258328e-05   \n",
       "191341       9.587239e-07  2.126053e-07      ...       2.430074e-07   \n",
       "191348       1.095652e-06  1.753617e-07      ...       2.243617e-07   \n",
       "\n",
       "             TripType_35  TripType_36  TripType_37  TripType_38  TripType_39  \\\n",
       "VisitNumber                                                                    \n",
       "191338          0.028980     0.000074     0.000188     0.002576     0.174151   \n",
       "191339          0.004767     0.000123     0.000288     0.000965     0.011179   \n",
       "191340          0.004283     0.000240     0.000122     0.000415     0.000410   \n",
       "191341          0.000006     0.000012     0.000007     0.000010     0.021022   \n",
       "191348          0.000004     0.000005     0.000006     0.000005     0.000168   \n",
       "\n",
       "             TripType_40  TripType_41  TripType_42  TripType_43  TripType_44  \\\n",
       "VisitNumber                                                                    \n",
       "191338          0.003168     0.000104     0.000413     0.002624     0.001734   \n",
       "191339          0.000135     0.001577     0.150306     0.023044     0.003968   \n",
       "191340          0.000055     0.000027     0.000694     0.000034     0.000038   \n",
       "191341          0.000203     0.000345     0.002326     0.000816     0.005027   \n",
       "191348          0.000026     0.002551     0.005463     0.001173     0.000387   \n",
       "\n",
       "             TripType_999  \n",
       "VisitNumber                \n",
       "191338           0.000390  \n",
       "191339           0.000647  \n",
       "191340           0.007299  \n",
       "191341           0.000030  \n",
       "191348           0.000022  \n",
       "\n",
       "[5 rows x 38 columns]"
      ]
     },
     "execution_count": 91,
     "metadata": {},
     "output_type": "execute_result"
    }
   ],
   "source": [
    "samsub = pd.read_csv('./data/sample_submission.csv')\n",
    "subform_df_columns = samsub.columns[1:]\n",
    "result_df = pd.DataFrame(result)\n",
    "result_df.columns = subform_df_columns\n",
    "subform_df = pd.concat([test.reset_index()['VisitNumber'],result_df],axis=1)\n",
    "subform_df.set_index('VisitNumber',inplace=True)\n",
    "subform_df.tail()"
   ]
  },
  {
   "cell_type": "code",
   "execution_count": 92,
   "metadata": {},
   "outputs": [],
   "source": [
    "subform_df.to_csv('./LightGBM/Ver3_lgbm_est{}_dep{}.csv'.format(estimator,depth))"
   ]
  },
  {
   "cell_type": "code",
   "execution_count": 93,
   "metadata": {},
   "outputs": [
    {
     "name": "stdout",
     "output_type": "stream",
     "text": [
      "<Response [200]>\n"
     ]
    }
   ],
   "source": [
    "myslack_incomming.send_slack('Making Ver3_lightgbm_est{},dep{} to CSV finish!!'.format(estimator,depth))"
   ]
  },
  {
   "cell_type": "markdown",
   "metadata": {},
   "source": [
    "---"
   ]
  },
  {
   "cell_type": "markdown",
   "metadata": {},
   "source": [
    "## 모델 저장"
   ]
  },
  {
   "cell_type": "code",
   "execution_count": 24,
   "metadata": {},
   "outputs": [],
   "source": [
    "from sklearn.externals import joblib\n",
    "\n",
    "joblib.dump(lightgbm_model, 'Ver3_lightgbm_est{},dep{}.pkl'.format(estimator,depth)) \n",
    "my_lightgbm = joblib.load('Ver3_lightgbm_est{},dep{}.pkl'.format(estimator,depth)) "
   ]
  },
  {
   "cell_type": "code",
   "execution_count": null,
   "metadata": {},
   "outputs": [],
   "source": []
  },
  {
   "cell_type": "code",
   "execution_count": null,
   "metadata": {},
   "outputs": [],
   "source": []
  }
 ],
 "metadata": {
  "kernelspec": {
   "display_name": "Python 3",
   "language": "python",
   "name": "python3"
  },
  "language_info": {
   "codemirror_mode": {
    "name": "ipython",
    "version": 3
   },
   "file_extension": ".py",
   "mimetype": "text/x-python",
   "name": "python",
   "nbconvert_exporter": "python",
   "pygments_lexer": "ipython3",
   "version": "3.6.4"
  }
 },
 "nbformat": 4,
 "nbformat_minor": 2
}
