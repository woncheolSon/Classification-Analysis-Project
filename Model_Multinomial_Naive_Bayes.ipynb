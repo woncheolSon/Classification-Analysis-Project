{
 "cells": [
  {
   "cell_type": "code",
   "execution_count": 3,
   "metadata": {},
   "outputs": [],
   "source": [
    "import numpy as np\n",
    "import pandas as pd\n",
    "pd.set_option('max_rows',38)\n",
    "pd.set_option('max_columns',25)\n",
    "import myslack\n",
    "import pickle\n",
    "# Plotting Decision tree\n",
    "from sklearn import tree\n",
    "from IPython.display import Image as PImage\n",
    "from subprocess import check_call\n",
    "from PIL import Image, ImageDraw, ImageFont\n",
    "\n",
    "# model\n",
    "from scipy.sparse import csr_matrix\n",
    "from sklearn import preprocessing\n",
    "from sklearn.tree import DecisionTreeClassifier\n",
    "from sklearn.linear_model import LogisticRegression\n",
    "from sklearn.naive_bayes import MultinomialNB\n",
    "from sklearn.metrics import confusion_matrix\n",
    "from sklearn.ensemble import BaggingClassifier\n",
    "from sklearn.ensemble import GradientBoostingClassifier\n",
    "from sklearn.ensemble import GradientBoostingRegressor\n",
    "from sklearn.ensemble import RandomForestClassifier\n",
    "from sklearn.ensemble import ExtraTreesClassifier\n",
    "import xgboost\n",
    "from sklearn.model_selection import GridSearchCV\n",
    "from sklearn.pipeline import Pipeline\n",
    "from sklearn.svm import SVC\n",
    "from sklearn.model_selection import train_test_split\n",
    "from sklearn.model_selection import validation_curve\n",
    "from sklearn.model_selection import KFold, cross_val_score\n",
    "from sklearn.metrics import classification_report"
   ]
  },
  {
   "cell_type": "markdown",
   "metadata": {},
   "source": [
    "# Data Check"
   ]
  },
  {
   "cell_type": "markdown",
   "metadata": {},
   "source": [
    "#### - train.csv"
   ]
  },
  {
   "cell_type": "code",
   "execution_count": 4,
   "metadata": {
    "scrolled": true
   },
   "outputs": [
    {
     "name": "stdout",
     "output_type": "stream",
     "text": [
      "test data shape: (95674, 5494)\n",
      "CPU times: user 337 ms, sys: 940 ms, total: 1.28 s\n",
      "Wall time: 1.32 s\n"
     ]
    }
   ],
   "source": [
    "%%time\n",
    "train = pickle.load(open(\"./data/final_train_Ver3.pkl\", \"rb\"))\n",
    "print(\"test data shape: \"+str(train.shape))"
   ]
  },
  {
   "cell_type": "markdown",
   "metadata": {},
   "source": [
    "#### - test.csv"
   ]
  },
  {
   "cell_type": "code",
   "execution_count": 5,
   "metadata": {
    "scrolled": true
   },
   "outputs": [
    {
     "name": "stdout",
     "output_type": "stream",
     "text": [
      "test data shape: (95674, 5493)\n",
      "CPU times: user 263 ms, sys: 806 ms, total: 1.07 s\n",
      "Wall time: 1.26 s\n"
     ]
    }
   ],
   "source": [
    "%%time\n",
    "test = pickle.load(open(\"./data/final_test_Ver3.pkl\", \"rb\"))\n",
    "print(\"test data shape: \"+str(test.shape))"
   ]
  },
  {
   "cell_type": "markdown",
   "metadata": {},
   "source": [
    "#### - sample_submission.csv"
   ]
  },
  {
   "cell_type": "code",
   "execution_count": 6,
   "metadata": {
    "scrolled": false
   },
   "outputs": [
    {
     "name": "stdout",
     "output_type": "stream",
     "text": [
      "sample_submission data shape: (95674, 39)\n"
     ]
    }
   ],
   "source": [
    "samplesub = pd.read_csv(\"./data/sample_submission.csv\")\n",
    "print(\"sample_submission data shape: \"+str(samplesub.shape))"
   ]
  },
  {
   "cell_type": "markdown",
   "metadata": {},
   "source": [
    "---"
   ]
  },
  {
   "cell_type": "markdown",
   "metadata": {},
   "source": [
    "# Modeling 1 - Multinomial Naive Bayes"
   ]
  },
  {
   "cell_type": "code",
   "execution_count": 9,
   "metadata": {},
   "outputs": [],
   "source": [
    "# in test, not in train\n",
    "not_in_train = [i for i in test.columns if i not in train.columns[1:]]"
   ]
  },
  {
   "cell_type": "code",
   "execution_count": 10,
   "metadata": {},
   "outputs": [],
   "source": [
    "# in train, not in test\n",
    "not_in_test = [i for i in train.columns[1:] if i not in test.columns]"
   ]
  },
  {
   "cell_type": "code",
   "execution_count": 11,
   "metadata": {},
   "outputs": [
    {
     "data": {
      "text/plain": [
       "328"
      ]
     },
     "execution_count": 11,
     "metadata": {},
     "output_type": "execute_result"
    }
   ],
   "source": [
    "len(not_in_train)"
   ]
  },
  {
   "cell_type": "code",
   "execution_count": 12,
   "metadata": {},
   "outputs": [
    {
     "data": {
      "text/plain": [
       "328"
      ]
     },
     "execution_count": 12,
     "metadata": {},
     "output_type": "execute_result"
    }
   ],
   "source": [
    "len(not_in_test)"
   ]
  },
  {
   "cell_type": "code",
   "execution_count": 13,
   "metadata": {},
   "outputs": [],
   "source": [
    "train.drop(columns=not_in_test,inplace=True)"
   ]
  },
  {
   "cell_type": "code",
   "execution_count": 14,
   "metadata": {},
   "outputs": [
    {
     "data": {
      "text/plain": [
       "(95674, 5166)"
      ]
     },
     "execution_count": 14,
     "metadata": {},
     "output_type": "execute_result"
    }
   ],
   "source": [
    "train.shape"
   ]
  },
  {
   "cell_type": "code",
   "execution_count": 15,
   "metadata": {},
   "outputs": [],
   "source": [
    "test.drop(columns=not_in_train,inplace=True)"
   ]
  },
  {
   "cell_type": "code",
   "execution_count": 16,
   "metadata": {},
   "outputs": [
    {
     "data": {
      "text/plain": [
       "(95674, 5165)"
      ]
     },
     "execution_count": 16,
     "metadata": {},
     "output_type": "execute_result"
    }
   ],
   "source": [
    "test.shape"
   ]
  },
  {
   "cell_type": "markdown",
   "metadata": {},
   "source": [
    "### Train_X, Train_y"
   ]
  },
  {
   "cell_type": "code",
   "execution_count": 22,
   "metadata": {},
   "outputs": [],
   "source": [
    "X = train.drop(columns='TripType')\n",
    "y = train['TripType']"
   ]
  },
  {
   "cell_type": "code",
   "execution_count": 18,
   "metadata": {},
   "outputs": [
    {
     "data": {
      "text/plain": [
       "<95674x5165 sparse matrix of type '<class 'numpy.float64'>'\n",
       "\twith 2214766 stored elements in Compressed Sparse Row format>"
      ]
     },
     "execution_count": 18,
     "metadata": {},
     "output_type": "execute_result"
    }
   ],
   "source": [
    "X = csr_matrix(X); X"
   ]
  },
  {
   "cell_type": "code",
   "execution_count": 19,
   "metadata": {},
   "outputs": [
    {
     "data": {
      "text/plain": [
       "<95674x5165 sparse matrix of type '<class 'numpy.float64'>'\n",
       "\twith 2221183 stored elements in Compressed Sparse Row format>"
      ]
     },
     "execution_count": 19,
     "metadata": {},
     "output_type": "execute_result"
    }
   ],
   "source": [
    "csr_test = csr_matrix(test); csr_test"
   ]
  },
  {
   "cell_type": "markdown",
   "metadata": {},
   "source": [
    "### Multinomial Naive Bayes"
   ]
  },
  {
   "cell_type": "code",
   "execution_count": 23,
   "metadata": {},
   "outputs": [
    {
     "ename": "ValueError",
     "evalue": "Input X must be non-negative",
     "output_type": "error",
     "traceback": [
      "\u001b[0;31m---------------------------------------------------------------------------\u001b[0m",
      "\u001b[0;31mValueError\u001b[0m                                Traceback (most recent call last)",
      "\u001b[0;32m<timed exec>\u001b[0m in \u001b[0;36m<module>\u001b[0;34m()\u001b[0m\n",
      "\u001b[0;32m/Library/Frameworks/Python.framework/Versions/3.6/lib/python3.6/site-packages/sklearn/naive_bayes.py\u001b[0m in \u001b[0;36mfit\u001b[0;34m(self, X, y, sample_weight)\u001b[0m\n\u001b[1;32m    602\u001b[0m         self.feature_count_ = np.zeros((n_effective_classes, n_features),\n\u001b[1;32m    603\u001b[0m                                        dtype=np.float64)\n\u001b[0;32m--> 604\u001b[0;31m         \u001b[0mself\u001b[0m\u001b[0;34m.\u001b[0m\u001b[0m_count\u001b[0m\u001b[0;34m(\u001b[0m\u001b[0mX\u001b[0m\u001b[0;34m,\u001b[0m \u001b[0mY\u001b[0m\u001b[0;34m)\u001b[0m\u001b[0;34m\u001b[0m\u001b[0m\n\u001b[0m\u001b[1;32m    605\u001b[0m         \u001b[0malpha\u001b[0m \u001b[0;34m=\u001b[0m \u001b[0mself\u001b[0m\u001b[0;34m.\u001b[0m\u001b[0m_check_alpha\u001b[0m\u001b[0;34m(\u001b[0m\u001b[0;34m)\u001b[0m\u001b[0;34m\u001b[0m\u001b[0m\n\u001b[1;32m    606\u001b[0m         \u001b[0mself\u001b[0m\u001b[0;34m.\u001b[0m\u001b[0m_update_feature_log_prob\u001b[0m\u001b[0;34m(\u001b[0m\u001b[0malpha\u001b[0m\u001b[0;34m)\u001b[0m\u001b[0;34m\u001b[0m\u001b[0m\n",
      "\u001b[0;32m/Library/Frameworks/Python.framework/Versions/3.6/lib/python3.6/site-packages/sklearn/naive_bayes.py\u001b[0m in \u001b[0;36m_count\u001b[0;34m(self, X, Y)\u001b[0m\n\u001b[1;32m    706\u001b[0m         \u001b[0;34m\"\"\"Count and smooth feature occurrences.\"\"\"\u001b[0m\u001b[0;34m\u001b[0m\u001b[0m\n\u001b[1;32m    707\u001b[0m         \u001b[0;32mif\u001b[0m \u001b[0mnp\u001b[0m\u001b[0;34m.\u001b[0m\u001b[0many\u001b[0m\u001b[0;34m(\u001b[0m\u001b[0;34m(\u001b[0m\u001b[0mX\u001b[0m\u001b[0;34m.\u001b[0m\u001b[0mdata\u001b[0m \u001b[0;32mif\u001b[0m \u001b[0missparse\u001b[0m\u001b[0;34m(\u001b[0m\u001b[0mX\u001b[0m\u001b[0;34m)\u001b[0m \u001b[0;32melse\u001b[0m \u001b[0mX\u001b[0m\u001b[0;34m)\u001b[0m \u001b[0;34m<\u001b[0m \u001b[0;36m0\u001b[0m\u001b[0;34m)\u001b[0m\u001b[0;34m:\u001b[0m\u001b[0;34m\u001b[0m\u001b[0m\n\u001b[0;32m--> 708\u001b[0;31m             \u001b[0;32mraise\u001b[0m \u001b[0mValueError\u001b[0m\u001b[0;34m(\u001b[0m\u001b[0;34m\"Input X must be non-negative\"\u001b[0m\u001b[0;34m)\u001b[0m\u001b[0;34m\u001b[0m\u001b[0m\n\u001b[0m\u001b[1;32m    709\u001b[0m         \u001b[0mself\u001b[0m\u001b[0;34m.\u001b[0m\u001b[0mfeature_count_\u001b[0m \u001b[0;34m+=\u001b[0m \u001b[0msafe_sparse_dot\u001b[0m\u001b[0;34m(\u001b[0m\u001b[0mY\u001b[0m\u001b[0;34m.\u001b[0m\u001b[0mT\u001b[0m\u001b[0;34m,\u001b[0m \u001b[0mX\u001b[0m\u001b[0;34m)\u001b[0m\u001b[0;34m\u001b[0m\u001b[0m\n\u001b[1;32m    710\u001b[0m         \u001b[0mself\u001b[0m\u001b[0;34m.\u001b[0m\u001b[0mclass_count_\u001b[0m \u001b[0;34m+=\u001b[0m \u001b[0mY\u001b[0m\u001b[0;34m.\u001b[0m\u001b[0msum\u001b[0m\u001b[0;34m(\u001b[0m\u001b[0maxis\u001b[0m\u001b[0;34m=\u001b[0m\u001b[0;36m0\u001b[0m\u001b[0;34m)\u001b[0m\u001b[0;34m\u001b[0m\u001b[0m\n",
      "\u001b[0;31mValueError\u001b[0m: Input X must be non-negative"
     ]
    }
   ],
   "source": [
    "%%time\n",
    "MultinomialNB_model = MultinomialNB().fit(X, y)"
   ]
  },
  {
   "cell_type": "markdown",
   "metadata": {},
   "source": [
    "### Cross Vaildation - Kfold"
   ]
  },
  {
   "cell_type": "code",
   "execution_count": 53,
   "metadata": {},
   "outputs": [],
   "source": [
    "# def score():\n",
    "#     MultinomialNB_model = MultinomialNB().fit(X, y)\n",
    "#     cv = KFold(n_splits=5, shuffle=True, random_state=0)\n",
    "#     return cross_val_score(decision_tree_model, X, y, cv=cv)\n",
    "\n",
    "# score()"
   ]
  },
  {
   "cell_type": "code",
   "execution_count": 62,
   "metadata": {},
   "outputs": [
    {
     "name": "stderr",
     "output_type": "stream",
     "text": [
      "100%|██████████| 24/24 [04:13<00:00, 10.56s/it]"
     ]
    },
    {
     "name": "stdout",
     "output_type": "stream",
     "text": [
      "CPU times: user 4min 7s, sys: 5.98 s, total: 4min 13s\n",
      "Wall time: 4min 13s\n"
     ]
    },
    {
     "name": "stderr",
     "output_type": "stream",
     "text": [
      "\n"
     ]
    }
   ],
   "source": [
    "# %%time\n",
    "\n",
    "# score_list=[]\n",
    "# for i in tqdm(range(1,25)):\n",
    "#     score_list.append(score(i).mean())"
   ]
  },
  {
   "cell_type": "code",
   "execution_count": 63,
   "metadata": {},
   "outputs": [
    {
     "data": {
      "image/png": "[encoded data removed]",
      "text/plain": [
       "<matplotlib.figure.Figure at 0x1199a65f8>"
      ]
     },
     "metadata": {},
     "output_type": "display_data"
    }
   ],
   "source": [
    "# plt.plot(score_list)\n",
    "# plt.show()"
   ]
  },
  {
   "cell_type": "markdown",
   "metadata": {},
   "source": [
    "### Confusion Matrix"
   ]
  },
  {
   "cell_type": "code",
   "execution_count": 136,
   "metadata": {},
   "outputs": [
    {
     "data": {
      "text/plain": [
       "array([[3496,    0,    9, ...,    0,    0,   12],\n",
       "       [   0,    8,  270, ...,    0,    0,    0],\n",
       "       [   1,    0, 3883, ...,    1,    4,    3],\n",
       "       ...,\n",
       "       [   0,    0,   29, ...,  108,   57,    2],\n",
       "       [   1,    0,   11, ...,   10,  482,    1],\n",
       "       [ 547,    2,  108, ...,    0,    3, 5514]])"
      ]
     },
     "execution_count": 136,
     "metadata": {},
     "output_type": "execute_result"
    }
   ],
   "source": [
    "confusion_matrix(y, MultinomialNB_model.predict(X))"
   ]
  },
  {
   "cell_type": "markdown",
   "metadata": {},
   "source": [
    "### Train Test Split"
   ]
  },
  {
   "cell_type": "code",
   "execution_count": 121,
   "metadata": {},
   "outputs": [
    {
     "data": {
      "text/plain": [
       "(86106, 9568, 86106, 9568)"
      ]
     },
     "execution_count": 121,
     "metadata": {},
     "output_type": "execute_result"
    }
   ],
   "source": [
    "X_train, X_test, y_train, y_test \\\n",
    "= train_test_split(X, y, test_size=0.1, random_state=1)\n",
    "\n",
    "len(X_train), len(X_test), len(y_train), len(y_test)"
   ]
  },
  {
   "cell_type": "code",
   "execution_count": 126,
   "metadata": {},
   "outputs": [],
   "source": [
    "y_pred = MultinomialNB_model.predict(X_test)"
   ]
  },
  {
   "cell_type": "code",
   "execution_count": 128,
   "metadata": {},
   "outputs": [
    {
     "name": "stdout",
     "output_type": "stream",
     "text": [
      "             precision    recall  f1-score   support\n",
      "\n",
      "          3       0.82      0.96      0.88       357\n",
      "          4       1.00      0.04      0.07        28\n",
      "          5       0.81      0.82      0.82       472\n",
      "          6       0.80      0.68      0.74       139\n",
      "          7       0.71      0.72      0.71       544\n",
      "          8       0.62      0.41      0.49      1186\n",
      "          9       0.61      0.38      0.47       911\n",
      "         12       0.33      0.14      0.20        21\n",
      "         15       0.38      0.63      0.47        91\n",
      "         18       0.56      0.59      0.57        63\n",
      "         19       1.00      0.29      0.45        41\n",
      "         20       0.38      0.65      0.48        51\n",
      "         21       0.51      0.86      0.64        84\n",
      "         22       0.58      0.64      0.61       106\n",
      "         23       0.75      0.19      0.30        16\n",
      "         24       0.51      0.72      0.59       235\n",
      "         25       0.55      0.79      0.65       371\n",
      "         26       0.41      0.44      0.43        45\n",
      "         27       0.55      0.77      0.65        92\n",
      "         28       0.59      0.67      0.63        49\n",
      "         29       0.62      0.46      0.53        39\n",
      "         30       0.55      0.54      0.55       128\n",
      "         31       0.73      0.80      0.76        54\n",
      "         32       0.61      0.81      0.70       198\n",
      "         33       0.39      0.71      0.51       139\n",
      "         34       0.48      0.77      0.59        86\n",
      "         35       0.38      0.62      0.47       185\n",
      "         36       0.39      0.75      0.51       311\n",
      "         37       0.39      0.76      0.52       264\n",
      "         38       0.42      0.75      0.54       303\n",
      "         39       0.50      0.35      0.41      1056\n",
      "         40       0.44      0.48      0.46       596\n",
      "         41       0.82      0.22      0.35        64\n",
      "         42       0.61      0.26      0.36       180\n",
      "         43       0.77      0.13      0.22        78\n",
      "         44       0.51      0.43      0.47       114\n",
      "        999       0.96      0.63      0.76       871\n",
      "\n",
      "avg / total       0.61      0.57      0.56      9568\n",
      "\n"
     ]
    }
   ],
   "source": [
    "print(classification_report(y_test, y_pred))"
   ]
  },
  {
   "cell_type": "markdown",
   "metadata": {},
   "source": [
    "### Prediction"
   ]
  },
  {
   "cell_type": "code",
   "execution_count": 120,
   "metadata": {},
   "outputs": [
    {
     "name": "stdout",
     "output_type": "stream",
     "text": [
      "CPU times: user 9.49 s, sys: 3.93 s, total: 13.4 s\n",
      "Wall time: 7.12 s\n"
     ]
    }
   ],
   "source": [
    "%%time\n",
    "result = MultinomialNB_model.predict_proba(test)"
   ]
  },
  {
   "cell_type": "code",
   "execution_count": 115,
   "metadata": {},
   "outputs": [
    {
     "data": {
      "text/plain": [
       "(95674, 38)"
      ]
     },
     "execution_count": 115,
     "metadata": {},
     "output_type": "execute_result"
    }
   ],
   "source": [
    "result.shape"
   ]
  },
  {
   "cell_type": "code",
   "execution_count": 116,
   "metadata": {},
   "outputs": [
    {
     "data": {
      "text/plain": [
       "array([[7.93135986e-09, 6.07770997e-09, 2.48693058e-04, ...,\n",
       "        6.94907509e-04, 5.86397599e-03, 3.07477597e-02],\n",
       "       [7.35991613e-08, 5.42565832e-11, 3.17108659e-08, ...,\n",
       "        4.44888894e-07, 1.21199051e-06, 1.12673709e-06],\n",
       "       [1.65085065e-05, 9.58416595e-06, 1.10326467e-02, ...,\n",
       "        1.24354779e-03, 1.28595949e-02, 1.14078452e-02],\n",
       "       ...,\n",
       "       [2.67990314e-03, 2.32468771e-04, 2.29197532e-02, ...,\n",
       "        6.38100305e-03, 1.07293748e-02, 1.94170327e-02],\n",
       "       [1.52084077e-30, 1.21131335e-30, 2.36921624e-22, ...,\n",
       "        5.95372518e-14, 5.63464752e-10, 1.05804889e-16],\n",
       "       [3.93465003e-15, 2.97463703e-18, 1.79001438e-14, ...,\n",
       "        5.56982964e-07, 4.05626761e-04, 1.16488902e-04]])"
      ]
     },
     "execution_count": 116,
     "metadata": {},
     "output_type": "execute_result"
    }
   ],
   "source": [
    "result"
   ]
  },
  {
   "cell_type": "markdown",
   "metadata": {},
   "source": [
    "### Make Submission CSV file"
   ]
  },
  {
   "cell_type": "code",
   "execution_count": 117,
   "metadata": {},
   "outputs": [
    {
     "data": {
      "text/html": [
       "<div>\n",
       "<style scoped>\n",
       "    .dataframe tbody tr th:only-of-type {\n",
       "        vertical-align: middle;\n",
       "    }\n",
       "\n",
       "    .dataframe tbody tr th {\n",
       "        vertical-align: top;\n",
       "    }\n",
       "\n",
       "    .dataframe thead th {\n",
       "        text-align: right;\n",
       "    }\n",
       "</style>\n",
       "<table border=\"1\" class=\"dataframe\">\n",
       "  <thead>\n",
       "    <tr style=\"text-align: right;\">\n",
       "      <th></th>\n",
       "      <th>TripType_3</th>\n",
       "      <th>TripType_4</th>\n",
       "      <th>TripType_5</th>\n",
       "      <th>TripType_6</th>\n",
       "      <th>TripType_7</th>\n",
       "      <th>TripType_8</th>\n",
       "      <th>TripType_9</th>\n",
       "      <th>TripType_12</th>\n",
       "      <th>TripType_14</th>\n",
       "      <th>TripType_15</th>\n",
       "      <th>TripType_18</th>\n",
       "      <th>TripType_19</th>\n",
       "      <th>...</th>\n",
       "      <th>TripType_34</th>\n",
       "      <th>TripType_35</th>\n",
       "      <th>TripType_36</th>\n",
       "      <th>TripType_37</th>\n",
       "      <th>TripType_38</th>\n",
       "      <th>TripType_39</th>\n",
       "      <th>TripType_40</th>\n",
       "      <th>TripType_41</th>\n",
       "      <th>TripType_42</th>\n",
       "      <th>TripType_43</th>\n",
       "      <th>TripType_44</th>\n",
       "      <th>TripType_999</th>\n",
       "    </tr>\n",
       "    <tr>\n",
       "      <th>VisitNumber</th>\n",
       "      <th></th>\n",
       "      <th></th>\n",
       "      <th></th>\n",
       "      <th></th>\n",
       "      <th></th>\n",
       "      <th></th>\n",
       "      <th></th>\n",
       "      <th></th>\n",
       "      <th></th>\n",
       "      <th></th>\n",
       "      <th></th>\n",
       "      <th></th>\n",
       "      <th></th>\n",
       "      <th></th>\n",
       "      <th></th>\n",
       "      <th></th>\n",
       "      <th></th>\n",
       "      <th></th>\n",
       "      <th></th>\n",
       "      <th></th>\n",
       "      <th></th>\n",
       "      <th></th>\n",
       "      <th></th>\n",
       "      <th></th>\n",
       "      <th></th>\n",
       "    </tr>\n",
       "  </thead>\n",
       "  <tbody>\n",
       "    <tr>\n",
       "      <th>191338</th>\n",
       "      <td>9.142019e-21</td>\n",
       "      <td>2.063337e-18</td>\n",
       "      <td>2.867169e-11</td>\n",
       "      <td>1.054744e-08</td>\n",
       "      <td>2.118473e-09</td>\n",
       "      <td>1.092410e-14</td>\n",
       "      <td>2.961343e-19</td>\n",
       "      <td>5.280703e-08</td>\n",
       "      <td>6.178288e-38</td>\n",
       "      <td>6.157751e-07</td>\n",
       "      <td>4.513866e-10</td>\n",
       "      <td>7.872877e-14</td>\n",
       "      <td>...</td>\n",
       "      <td>5.794856e-07</td>\n",
       "      <td>4.013893e-02</td>\n",
       "      <td>2.376623e-09</td>\n",
       "      <td>4.800862e-11</td>\n",
       "      <td>5.701254e-07</td>\n",
       "      <td>1.607884e-06</td>\n",
       "      <td>1.664788e-06</td>\n",
       "      <td>4.830728e-09</td>\n",
       "      <td>1.226674e-08</td>\n",
       "      <td>1.147341e-07</td>\n",
       "      <td>3.046652e-06</td>\n",
       "      <td>2.796587e-12</td>\n",
       "    </tr>\n",
       "    <tr>\n",
       "      <th>191339</th>\n",
       "      <td>2.826656e-10</td>\n",
       "      <td>3.722499e-12</td>\n",
       "      <td>9.763241e-08</td>\n",
       "      <td>8.581142e-09</td>\n",
       "      <td>7.141616e-07</td>\n",
       "      <td>2.548743e-12</td>\n",
       "      <td>7.405929e-09</td>\n",
       "      <td>8.455268e-07</td>\n",
       "      <td>8.694404e-25</td>\n",
       "      <td>3.489807e-05</td>\n",
       "      <td>8.333411e-05</td>\n",
       "      <td>4.759525e-09</td>\n",
       "      <td>...</td>\n",
       "      <td>2.941543e-05</td>\n",
       "      <td>3.573288e-04</td>\n",
       "      <td>1.462949e-07</td>\n",
       "      <td>2.586968e-08</td>\n",
       "      <td>1.292770e-05</td>\n",
       "      <td>5.771854e-05</td>\n",
       "      <td>1.333720e-05</td>\n",
       "      <td>1.059452e-04</td>\n",
       "      <td>6.580898e-03</td>\n",
       "      <td>3.300672e-04</td>\n",
       "      <td>2.432062e-04</td>\n",
       "      <td>2.701112e-06</td>\n",
       "    </tr>\n",
       "    <tr>\n",
       "      <th>191340</th>\n",
       "      <td>2.679903e-03</td>\n",
       "      <td>2.324688e-04</td>\n",
       "      <td>2.291975e-02</td>\n",
       "      <td>2.593565e-02</td>\n",
       "      <td>2.440484e-02</td>\n",
       "      <td>3.051212e-02</td>\n",
       "      <td>7.502693e-03</td>\n",
       "      <td>1.173680e-03</td>\n",
       "      <td>1.173048e-09</td>\n",
       "      <td>1.749940e-02</td>\n",
       "      <td>7.656956e-03</td>\n",
       "      <td>1.230357e-04</td>\n",
       "      <td>...</td>\n",
       "      <td>7.630872e-03</td>\n",
       "      <td>4.206655e-01</td>\n",
       "      <td>3.630908e-02</td>\n",
       "      <td>6.072914e-03</td>\n",
       "      <td>2.533362e-02</td>\n",
       "      <td>1.063102e-01</td>\n",
       "      <td>3.045030e-02</td>\n",
       "      <td>4.554978e-03</td>\n",
       "      <td>2.833176e-02</td>\n",
       "      <td>6.381003e-03</td>\n",
       "      <td>1.072937e-02</td>\n",
       "      <td>1.941703e-02</td>\n",
       "    </tr>\n",
       "    <tr>\n",
       "      <th>191341</th>\n",
       "      <td>1.520841e-30</td>\n",
       "      <td>1.211313e-30</td>\n",
       "      <td>2.369216e-22</td>\n",
       "      <td>4.262501e-22</td>\n",
       "      <td>4.136732e-21</td>\n",
       "      <td>5.891036e-32</td>\n",
       "      <td>1.731415e-26</td>\n",
       "      <td>1.027276e-15</td>\n",
       "      <td>1.027035e-49</td>\n",
       "      <td>1.332375e-11</td>\n",
       "      <td>7.487770e-15</td>\n",
       "      <td>1.655537e-21</td>\n",
       "      <td>...</td>\n",
       "      <td>6.618188e-17</td>\n",
       "      <td>6.487856e-16</td>\n",
       "      <td>4.751099e-17</td>\n",
       "      <td>4.022958e-21</td>\n",
       "      <td>2.504823e-18</td>\n",
       "      <td>1.430179e-16</td>\n",
       "      <td>5.459430e-17</td>\n",
       "      <td>1.434226e-10</td>\n",
       "      <td>1.165125e-10</td>\n",
       "      <td>5.953725e-14</td>\n",
       "      <td>5.634648e-10</td>\n",
       "      <td>1.058049e-16</td>\n",
       "    </tr>\n",
       "    <tr>\n",
       "      <th>191348</th>\n",
       "      <td>3.934650e-15</td>\n",
       "      <td>2.974637e-18</td>\n",
       "      <td>1.790014e-14</td>\n",
       "      <td>6.470745e-12</td>\n",
       "      <td>4.175753e-16</td>\n",
       "      <td>3.128293e-25</td>\n",
       "      <td>6.309986e-11</td>\n",
       "      <td>3.691209e-10</td>\n",
       "      <td>2.469224e-32</td>\n",
       "      <td>3.131686e-10</td>\n",
       "      <td>2.372555e-09</td>\n",
       "      <td>3.388030e-11</td>\n",
       "      <td>...</td>\n",
       "      <td>2.111206e-10</td>\n",
       "      <td>1.130940e-11</td>\n",
       "      <td>1.480156e-11</td>\n",
       "      <td>8.837041e-17</td>\n",
       "      <td>1.592513e-16</td>\n",
       "      <td>9.653352e-11</td>\n",
       "      <td>2.034549e-11</td>\n",
       "      <td>4.429320e-01</td>\n",
       "      <td>1.428023e-04</td>\n",
       "      <td>5.569830e-07</td>\n",
       "      <td>4.056268e-04</td>\n",
       "      <td>1.164889e-04</td>\n",
       "    </tr>\n",
       "  </tbody>\n",
       "</table>\n",
       "<p>5 rows × 38 columns</p>\n",
       "</div>"
      ],
      "text/plain": [
       "               TripType_3    TripType_4    TripType_5    TripType_6  \\\n",
       "VisitNumber                                                           \n",
       "191338       9.142019e-21  2.063337e-18  2.867169e-11  1.054744e-08   \n",
       "191339       2.826656e-10  3.722499e-12  9.763241e-08  8.581142e-09   \n",
       "191340       2.679903e-03  2.324688e-04  2.291975e-02  2.593565e-02   \n",
       "191341       1.520841e-30  1.211313e-30  2.369216e-22  4.262501e-22   \n",
       "191348       3.934650e-15  2.974637e-18  1.790014e-14  6.470745e-12   \n",
       "\n",
       "               TripType_7    TripType_8    TripType_9   TripType_12  \\\n",
       "VisitNumber                                                           \n",
       "191338       2.118473e-09  1.092410e-14  2.961343e-19  5.280703e-08   \n",
       "191339       7.141616e-07  2.548743e-12  7.405929e-09  8.455268e-07   \n",
       "191340       2.440484e-02  3.051212e-02  7.502693e-03  1.173680e-03   \n",
       "191341       4.136732e-21  5.891036e-32  1.731415e-26  1.027276e-15   \n",
       "191348       4.175753e-16  3.128293e-25  6.309986e-11  3.691209e-10   \n",
       "\n",
       "              TripType_14   TripType_15   TripType_18   TripType_19  \\\n",
       "VisitNumber                                                           \n",
       "191338       6.178288e-38  6.157751e-07  4.513866e-10  7.872877e-14   \n",
       "191339       8.694404e-25  3.489807e-05  8.333411e-05  4.759525e-09   \n",
       "191340       1.173048e-09  1.749940e-02  7.656956e-03  1.230357e-04   \n",
       "191341       1.027035e-49  1.332375e-11  7.487770e-15  1.655537e-21   \n",
       "191348       2.469224e-32  3.131686e-10  2.372555e-09  3.388030e-11   \n",
       "\n",
       "                 ...        TripType_34   TripType_35   TripType_36  \\\n",
       "VisitNumber      ...                                                  \n",
       "191338           ...       5.794856e-07  4.013893e-02  2.376623e-09   \n",
       "191339           ...       2.941543e-05  3.573288e-04  1.462949e-07   \n",
       "191340           ...       7.630872e-03  4.206655e-01  3.630908e-02   \n",
       "191341           ...       6.618188e-17  6.487856e-16  4.751099e-17   \n",
       "191348           ...       2.111206e-10  1.130940e-11  1.480156e-11   \n",
       "\n",
       "              TripType_37   TripType_38   TripType_39   TripType_40  \\\n",
       "VisitNumber                                                           \n",
       "191338       4.800862e-11  5.701254e-07  1.607884e-06  1.664788e-06   \n",
       "191339       2.586968e-08  1.292770e-05  5.771854e-05  1.333720e-05   \n",
       "191340       6.072914e-03  2.533362e-02  1.063102e-01  3.045030e-02   \n",
       "191341       4.022958e-21  2.504823e-18  1.430179e-16  5.459430e-17   \n",
       "191348       8.837041e-17  1.592513e-16  9.653352e-11  2.034549e-11   \n",
       "\n",
       "              TripType_41   TripType_42   TripType_43   TripType_44  \\\n",
       "VisitNumber                                                           \n",
       "191338       4.830728e-09  1.226674e-08  1.147341e-07  3.046652e-06   \n",
       "191339       1.059452e-04  6.580898e-03  3.300672e-04  2.432062e-04   \n",
       "191340       4.554978e-03  2.833176e-02  6.381003e-03  1.072937e-02   \n",
       "191341       1.434226e-10  1.165125e-10  5.953725e-14  5.634648e-10   \n",
       "191348       4.429320e-01  1.428023e-04  5.569830e-07  4.056268e-04   \n",
       "\n",
       "             TripType_999  \n",
       "VisitNumber                \n",
       "191338       2.796587e-12  \n",
       "191339       2.701112e-06  \n",
       "191340       1.941703e-02  \n",
       "191341       1.058049e-16  \n",
       "191348       1.164889e-04  \n",
       "\n",
       "[5 rows x 38 columns]"
      ]
     },
     "execution_count": 117,
     "metadata": {},
     "output_type": "execute_result"
    }
   ],
   "source": [
    "samsub = pd.read_csv('./data/sample_submission.csv')\n",
    "subform_df_columns = samsub.columns[1:]\n",
    "result_df = pd.DataFrame(result)\n",
    "result_df.columns = subform_df_columns\n",
    "subform_df = pd.concat([test.reset_index()['VisitNumber'],result_df],axis=1)\n",
    "subform_df.set_index('VisitNumber',inplace=True)\n",
    "subform_df.tail()"
   ]
  },
  {
   "cell_type": "code",
   "execution_count": null,
   "metadata": {},
   "outputs": [],
   "source": [
    "subform_df.to_csv('./NaiveBayes/MNB_ver_1.csv')"
   ]
  },
  {
   "cell_type": "markdown",
   "metadata": {},
   "source": [
    "---"
   ]
  }
 ],
 "metadata": {
  "kernelspec": {
   "display_name": "Python 3",
   "language": "python",
   "name": "python3"
  },
  "language_info": {
   "codemirror_mode": {
    "name": "ipython",
    "version": 3
   },
   "file_extension": ".py",
   "mimetype": "text/x-python",
   "name": "python",
   "nbconvert_exporter": "python",
   "pygments_lexer": "ipython3",
   "version": "3.6.4"
  }
 },
 "nbformat": 4,
 "nbformat_minor": 2
}
