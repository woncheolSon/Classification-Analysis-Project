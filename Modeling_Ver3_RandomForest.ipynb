{
 "cells": [
  {
   "cell_type": "code",
   "execution_count": 50,
   "metadata": {
    "scrolled": true
   },
   "outputs": [],
   "source": [
    "import numpy as np\n",
    "import pandas as pd\n",
    "pd.set_option('max_rows',38)\n",
    "pd.set_option('max_columns',25)\n",
    "import myslack\n",
    "\n",
    "# Plotting Decision tree\n",
    "from sklearn import tree\n",
    "from IPython.display import Image as PImage\n",
    "from subprocess import check_call\n",
    "from PIL import Image, ImageDraw, ImageFont\n",
    "\n",
    "# model\n",
    "from scipy.sparse import csr_matrix\n",
    "from sklearn import preprocessing\n",
    "from sklearn.tree import DecisionTreeClassifier\n",
    "from sklearn.linear_model import LogisticRegression\n",
    "from sklearn.naive_bayes import MultinomialNB\n",
    "from sklearn.metrics import confusion_matrix\n",
    "from sklearn.ensemble import BaggingClassifier\n",
    "from sklearn.ensemble import GradientBoostingClassifier\n",
    "from sklearn.ensemble import GradientBoostingRegressor\n",
    "from sklearn.ensemble import RandomForestClassifier\n",
    "from sklearn.ensemble import ExtraTreesClassifier\n",
    "import xgboost\n",
    "from sklearn.model_selection import GridSearchCV\n",
    "from sklearn.pipeline import Pipeline\n",
    "from sklearn.svm import SVC\n",
    "from sklearn.model_selection import train_test_split\n",
    "from sklearn.model_selection import validation_curve\n",
    "from sklearn.model_selection import KFold, cross_val_score\n",
    "from sklearn.metrics import classification_report"
   ]
  },
  {
   "cell_type": "markdown",
   "metadata": {},
   "source": [
    "# Data Check"
   ]
  },
  {
   "cell_type": "markdown",
   "metadata": {},
   "source": [
    "#### - train.csv"
   ]
  },
  {
   "cell_type": "code",
   "execution_count": 2,
   "metadata": {
    "scrolled": true
   },
   "outputs": [
    {
     "name": "stdout",
     "output_type": "stream",
     "text": [
      "test data shape: (95674, 5494)\n",
      "CPU times: user 203 ms, sys: 641 ms, total: 844 ms\n",
      "Wall time: 865 ms\n"
     ]
    }
   ],
   "source": [
    "%%time\n",
    "train = pickle.load(open(\"./data/final_train_Ver3.pkl\", \"rb\"))\n",
    "print(\"test data shape: \"+str(train.shape))"
   ]
  },
  {
   "cell_type": "markdown",
   "metadata": {},
   "source": [
    "#### - test.csv"
   ]
  },
  {
   "cell_type": "code",
   "execution_count": 3,
   "metadata": {
    "scrolled": true
   },
   "outputs": [
    {
     "name": "stdout",
     "output_type": "stream",
     "text": [
      "test data shape: (95674, 5493)\n",
      "CPU times: user 219 ms, sys: 672 ms, total: 890 ms\n",
      "Wall time: 1.78 s\n"
     ]
    }
   ],
   "source": [
    "%%time\n",
    "test = pickle.load(open(\"./data/final_test_Ver3.pkl\", \"rb\"))\n",
    "print(\"test data shape: \"+str(test.shape))"
   ]
  },
  {
   "cell_type": "markdown",
   "metadata": {},
   "source": [
    "#### - sample_submission.csv"
   ]
  },
  {
   "cell_type": "code",
   "execution_count": 5,
   "metadata": {
    "scrolled": false
   },
   "outputs": [
    {
     "name": "stdout",
     "output_type": "stream",
     "text": [
      "sample_submission data shape: (95674, 39)\n"
     ]
    }
   ],
   "source": [
    "samplesub = pd.read_csv(\"./data/sample_submission.csv\")\n",
    "print(\"sample_submission data shape: \"+str(samplesub.shape))"
   ]
  },
  {
   "cell_type": "markdown",
   "metadata": {},
   "source": [
    "---"
   ]
  },
  {
   "cell_type": "markdown",
   "metadata": {},
   "source": [
    "# Modeling 4 - Random Forest"
   ]
  },
  {
   "cell_type": "code",
   "execution_count": 6,
   "metadata": {},
   "outputs": [],
   "source": [
    "# in test, not in train\n",
    "not_in_train = [i for i in test.columns if i not in train.columns[1:]]"
   ]
  },
  {
   "cell_type": "code",
   "execution_count": 7,
   "metadata": {},
   "outputs": [],
   "source": [
    "# in train, not in test\n",
    "not_in_test = [i for i in train.columns[1:] if i not in test.columns]"
   ]
  },
  {
   "cell_type": "code",
   "execution_count": 8,
   "metadata": {},
   "outputs": [
    {
     "data": {
      "text/plain": [
       "328"
      ]
     },
     "execution_count": 8,
     "metadata": {},
     "output_type": "execute_result"
    }
   ],
   "source": [
    "len(not_in_train)"
   ]
  },
  {
   "cell_type": "code",
   "execution_count": 9,
   "metadata": {},
   "outputs": [
    {
     "data": {
      "text/plain": [
       "328"
      ]
     },
     "execution_count": 9,
     "metadata": {},
     "output_type": "execute_result"
    }
   ],
   "source": [
    "len(not_in_test)"
   ]
  },
  {
   "cell_type": "code",
   "execution_count": 10,
   "metadata": {},
   "outputs": [],
   "source": [
    "train.drop(columns=not_in_test,inplace=True)"
   ]
  },
  {
   "cell_type": "code",
   "execution_count": 11,
   "metadata": {},
   "outputs": [
    {
     "data": {
      "text/plain": [
       "(95674, 5166)"
      ]
     },
     "execution_count": 11,
     "metadata": {},
     "output_type": "execute_result"
    }
   ],
   "source": [
    "train.shape"
   ]
  },
  {
   "cell_type": "code",
   "execution_count": 12,
   "metadata": {},
   "outputs": [],
   "source": [
    "test.drop(columns=not_in_train,inplace=True)"
   ]
  },
  {
   "cell_type": "code",
   "execution_count": 13,
   "metadata": {},
   "outputs": [
    {
     "data": {
      "text/plain": [
       "(95674, 5165)"
      ]
     },
     "execution_count": 13,
     "metadata": {},
     "output_type": "execute_result"
    }
   ],
   "source": [
    "test.shape"
   ]
  },
  {
   "cell_type": "markdown",
   "metadata": {},
   "source": [
    "---"
   ]
  },
  {
   "cell_type": "markdown",
   "metadata": {},
   "source": [
    "### Train_X, Train_y"
   ]
  },
  {
   "cell_type": "code",
   "execution_count": 14,
   "metadata": {},
   "outputs": [],
   "source": [
    "X = train.drop(columns='TripType')\n",
    "y = train['TripType']"
   ]
  },
  {
   "cell_type": "code",
   "execution_count": 28,
   "metadata": {},
   "outputs": [
    {
     "data": {
      "text/plain": [
       "<95674x5165 sparse matrix of type '<class 'numpy.float64'>'\n",
       "\twith 2214766 stored elements in Compressed Sparse Row format>"
      ]
     },
     "execution_count": 28,
     "metadata": {},
     "output_type": "execute_result"
    }
   ],
   "source": [
    "X = csr_matrix(X); X"
   ]
  },
  {
   "cell_type": "code",
   "execution_count": 29,
   "metadata": {},
   "outputs": [
    {
     "data": {
      "text/plain": [
       "<95674x5165 sparse matrix of type '<class 'numpy.float64'>'\n",
       "\twith 2221183 stored elements in Compressed Sparse Row format>"
      ]
     },
     "execution_count": 29,
     "metadata": {},
     "output_type": "execute_result"
    }
   ],
   "source": [
    "csr_test = csr_matrix(test); csr_test"
   ]
  },
  {
   "cell_type": "markdown",
   "metadata": {},
   "source": [
    "### Random Forest"
   ]
  },
  {
   "cell_type": "code",
   "execution_count": 40,
   "metadata": {},
   "outputs": [
    {
     "name": "stdout",
     "output_type": "stream",
     "text": [
      "CPU times: user 41min 4s, sys: 23.6 s, total: 41min 28s\n",
      "Wall time: 7min 11s\n"
     ]
    }
   ],
   "source": [
    "%%time\n",
    "estimator=500\n",
    "depth=100\n",
    "RandomForest_model = RandomForestClassifier(n_estimators=estimator, max_depth=depth, n_jobs=6).fit(X,y)"
   ]
  },
  {
   "cell_type": "markdown",
   "metadata": {},
   "source": [
    "### Confusion Matrix"
   ]
  },
  {
   "cell_type": "code",
   "execution_count": 41,
   "metadata": {
    "scrolled": false
   },
   "outputs": [
    {
     "data": {
      "text/plain": [
       "array([[3598,    0,    0, ...,    0,    0,   45],\n",
       "       [   0,  334,   12, ...,    0,    0,    0],\n",
       "       [   0,    0, 4593, ...,    0,    0,    0],\n",
       "       ...,\n",
       "       [   0,    0,    0, ...,  872,    0,    0],\n",
       "       [   0,    0,    0, ...,    0, 1187,    0],\n",
       "       [ 251,    2,   14, ...,    0,    0, 8029]])"
      ]
     },
     "execution_count": 41,
     "metadata": {},
     "output_type": "execute_result"
    }
   ],
   "source": [
    "confusion_matrix(y, RandomForest_model.predict(X))"
   ]
  },
  {
   "cell_type": "markdown",
   "metadata": {},
   "source": [
    "### Train Test Split"
   ]
  },
  {
   "cell_type": "code",
   "execution_count": 42,
   "metadata": {},
   "outputs": [
    {
     "data": {
      "text/plain": [
       "(86106, 9568, 86106, 9568)"
      ]
     },
     "execution_count": 42,
     "metadata": {},
     "output_type": "execute_result"
    }
   ],
   "source": [
    "X_train, X_test, y_train, y_test = train_test_split(X, y, test_size=0.1, shuffle=True)\n",
    "\n",
    "X_train.shape[0], X_test.shape[0], len(y_train), len(y_test)"
   ]
  },
  {
   "cell_type": "code",
   "execution_count": 43,
   "metadata": {},
   "outputs": [
    {
     "name": "stdout",
     "output_type": "stream",
     "text": [
      "CPU times: user 8.95 s, sys: 12.1 s, total: 21 s\n",
      "Wall time: 6.79 s\n"
     ]
    }
   ],
   "source": [
    "%%time\n",
    "y_pred = RandomForest_model.predict(X_test)"
   ]
  },
  {
   "cell_type": "code",
   "execution_count": 44,
   "metadata": {
    "scrolled": false
   },
   "outputs": [
    {
     "name": "stdout",
     "output_type": "stream",
     "text": [
      "             precision    recall  f1-score   support\n",
      "\n",
      "          3       0.94      0.99      0.96       366\n",
      "          4       1.00      0.98      0.99        41\n",
      "          5       0.99      1.00      0.99       498\n",
      "          6       1.00      1.00      1.00       132\n",
      "          7       1.00      0.99      1.00       564\n",
      "          8       0.99      1.00      0.99      1152\n",
      "          9       0.95      0.99      0.97       925\n",
      "         12       1.00      1.00      1.00        30\n",
      "         15       0.99      0.97      0.98       102\n",
      "         18       1.00      0.93      0.96        56\n",
      "         19       1.00      0.93      0.97        30\n",
      "         20       1.00      1.00      1.00        54\n",
      "         21       1.00      0.97      0.99        70\n",
      "         22       0.99      0.95      0.97        87\n",
      "         23       0.91      1.00      0.95        10\n",
      "         24       1.00      0.97      0.98       283\n",
      "         25       1.00      1.00      1.00       377\n",
      "         26       1.00      0.95      0.98        42\n",
      "         27       1.00      0.96      0.98        69\n",
      "         28       1.00      0.94      0.97        52\n",
      "         29       1.00      1.00      1.00        46\n",
      "         30       1.00      0.94      0.97        96\n",
      "         31       0.97      1.00      0.98        58\n",
      "         32       1.00      1.00      1.00       225\n",
      "         33       1.00      1.00      1.00       115\n",
      "         34       1.00      1.00      1.00        66\n",
      "         35       1.00      0.99      0.99       183\n",
      "         36       1.00      0.98      0.99       322\n",
      "         37       1.00      1.00      1.00       248\n",
      "         38       1.00      1.00      1.00       268\n",
      "         39       1.00      1.00      1.00       992\n",
      "         40       1.00      1.00      1.00       648\n",
      "         41       1.00      1.00      1.00        60\n",
      "         42       1.00      1.00      1.00       182\n",
      "         43       1.00      1.00      1.00        93\n",
      "         44       1.00      1.00      1.00       142\n",
      "        999       1.00      0.97      0.98       884\n",
      "\n",
      "avg / total       0.99      0.99      0.99      9568\n",
      "\n"
     ]
    }
   ],
   "source": [
    "print(classification_report(y_test, y_pred))"
   ]
  },
  {
   "cell_type": "markdown",
   "metadata": {},
   "source": [
    "### prediction"
   ]
  },
  {
   "cell_type": "code",
   "execution_count": 45,
   "metadata": {},
   "outputs": [
    {
     "data": {
      "text/plain": [
       "array([[0.00000000e+00, 6.20346772e-03, 4.56512166e-03, ...,\n",
       "        7.33359909e-04, 1.05043367e-04, 6.79774161e-03],\n",
       "       [3.96904494e-04, 4.38287445e-03, 3.04839919e-02, ...,\n",
       "        1.38061449e-02, 2.47072080e-04, 6.17544335e-02],\n",
       "       [0.00000000e+00, 0.00000000e+00, 0.00000000e+00, ...,\n",
       "        0.00000000e+00, 0.00000000e+00, 9.97987013e-01],\n",
       "       ...,\n",
       "       [9.50232069e-04, 6.96379746e-04, 1.02033476e-02, ...,\n",
       "        2.49532127e-07, 6.86787474e-06, 1.96230506e-02],\n",
       "       [0.00000000e+00, 0.00000000e+00, 2.00000000e-03, ...,\n",
       "        6.08510638e-03, 4.00000000e-02, 2.00000000e-03],\n",
       "       [8.28250946e-05, 7.99300350e-05, 2.72573144e-03, ...,\n",
       "        1.66802665e-02, 8.13212127e-03, 2.27294007e-03]])"
      ]
     },
     "execution_count": 45,
     "metadata": {},
     "output_type": "execute_result"
    }
   ],
   "source": [
    "result = RandomForest_model.predict_proba(csr_test)\n",
    "result"
   ]
  },
  {
   "cell_type": "markdown",
   "metadata": {},
   "source": [
    "### Make Submission CSV file"
   ]
  },
  {
   "cell_type": "code",
   "execution_count": 46,
   "metadata": {},
   "outputs": [
    {
     "data": {
      "text/html": [
       "<div>\n",
       "<style scoped>\n",
       "    .dataframe tbody tr th:only-of-type {\n",
       "        vertical-align: middle;\n",
       "    }\n",
       "\n",
       "    .dataframe tbody tr th {\n",
       "        vertical-align: top;\n",
       "    }\n",
       "\n",
       "    .dataframe thead th {\n",
       "        text-align: right;\n",
       "    }\n",
       "</style>\n",
       "<table border=\"1\" class=\"dataframe\">\n",
       "  <thead>\n",
       "    <tr style=\"text-align: right;\">\n",
       "      <th></th>\n",
       "      <th>TripType_3</th>\n",
       "      <th>TripType_4</th>\n",
       "      <th>TripType_5</th>\n",
       "      <th>TripType_6</th>\n",
       "      <th>TripType_7</th>\n",
       "      <th>TripType_8</th>\n",
       "      <th>TripType_9</th>\n",
       "      <th>TripType_12</th>\n",
       "      <th>TripType_14</th>\n",
       "      <th>TripType_15</th>\n",
       "      <th>TripType_18</th>\n",
       "      <th>TripType_19</th>\n",
       "      <th>...</th>\n",
       "      <th>TripType_34</th>\n",
       "      <th>TripType_35</th>\n",
       "      <th>TripType_36</th>\n",
       "      <th>TripType_37</th>\n",
       "      <th>TripType_38</th>\n",
       "      <th>TripType_39</th>\n",
       "      <th>TripType_40</th>\n",
       "      <th>TripType_41</th>\n",
       "      <th>TripType_42</th>\n",
       "      <th>TripType_43</th>\n",
       "      <th>TripType_44</th>\n",
       "      <th>TripType_999</th>\n",
       "    </tr>\n",
       "    <tr>\n",
       "      <th>VisitNumber</th>\n",
       "      <th></th>\n",
       "      <th></th>\n",
       "      <th></th>\n",
       "      <th></th>\n",
       "      <th></th>\n",
       "      <th></th>\n",
       "      <th></th>\n",
       "      <th></th>\n",
       "      <th></th>\n",
       "      <th></th>\n",
       "      <th></th>\n",
       "      <th></th>\n",
       "      <th></th>\n",
       "      <th></th>\n",
       "      <th></th>\n",
       "      <th></th>\n",
       "      <th></th>\n",
       "      <th></th>\n",
       "      <th></th>\n",
       "      <th></th>\n",
       "      <th></th>\n",
       "      <th></th>\n",
       "      <th></th>\n",
       "      <th></th>\n",
       "      <th></th>\n",
       "    </tr>\n",
       "  </thead>\n",
       "  <tbody>\n",
       "    <tr>\n",
       "      <th>191338</th>\n",
       "      <td>0.000030</td>\n",
       "      <td>0.000011</td>\n",
       "      <td>0.014323</td>\n",
       "      <td>0.002570</td>\n",
       "      <td>0.023277</td>\n",
       "      <td>0.002126</td>\n",
       "      <td>0.000060</td>\n",
       "      <td>0.000064</td>\n",
       "      <td>0.000000</td>\n",
       "      <td>0.010435</td>\n",
       "      <td>0.000408</td>\n",
       "      <td>0.002063</td>\n",
       "      <td>...</td>\n",
       "      <td>0.008669</td>\n",
       "      <td>0.200972</td>\n",
       "      <td>0.014062</td>\n",
       "      <td>0.009101</td>\n",
       "      <td>0.028515</td>\n",
       "      <td>0.302008</td>\n",
       "      <td>0.004034</td>\n",
       "      <td>0.002069</td>\n",
       "      <td>0.004275</td>\n",
       "      <td>4.251309e-03</td>\n",
       "      <td>0.012113</td>\n",
       "      <td>0.000084</td>\n",
       "    </tr>\n",
       "    <tr>\n",
       "      <th>191339</th>\n",
       "      <td>0.000217</td>\n",
       "      <td>0.002275</td>\n",
       "      <td>0.040664</td>\n",
       "      <td>0.003609</td>\n",
       "      <td>0.030562</td>\n",
       "      <td>0.003238</td>\n",
       "      <td>0.003562</td>\n",
       "      <td>0.000562</td>\n",
       "      <td>0.000037</td>\n",
       "      <td>0.029843</td>\n",
       "      <td>0.019399</td>\n",
       "      <td>0.000701</td>\n",
       "      <td>...</td>\n",
       "      <td>0.008065</td>\n",
       "      <td>0.058293</td>\n",
       "      <td>0.047647</td>\n",
       "      <td>0.008773</td>\n",
       "      <td>0.020360</td>\n",
       "      <td>0.078244</td>\n",
       "      <td>0.000043</td>\n",
       "      <td>0.011322</td>\n",
       "      <td>0.070377</td>\n",
       "      <td>2.153074e-02</td>\n",
       "      <td>0.000193</td>\n",
       "      <td>0.001455</td>\n",
       "    </tr>\n",
       "    <tr>\n",
       "      <th>191340</th>\n",
       "      <td>0.000950</td>\n",
       "      <td>0.000696</td>\n",
       "      <td>0.010203</td>\n",
       "      <td>0.005977</td>\n",
       "      <td>0.015479</td>\n",
       "      <td>0.812830</td>\n",
       "      <td>0.107135</td>\n",
       "      <td>0.000360</td>\n",
       "      <td>0.000000</td>\n",
       "      <td>0.002075</td>\n",
       "      <td>0.001602</td>\n",
       "      <td>0.000910</td>\n",
       "      <td>...</td>\n",
       "      <td>0.000736</td>\n",
       "      <td>0.000415</td>\n",
       "      <td>0.000439</td>\n",
       "      <td>0.000061</td>\n",
       "      <td>0.000047</td>\n",
       "      <td>0.000055</td>\n",
       "      <td>0.000003</td>\n",
       "      <td>0.000003</td>\n",
       "      <td>0.001038</td>\n",
       "      <td>2.495321e-07</td>\n",
       "      <td>0.000007</td>\n",
       "      <td>0.019623</td>\n",
       "    </tr>\n",
       "    <tr>\n",
       "      <th>191341</th>\n",
       "      <td>0.000000</td>\n",
       "      <td>0.000000</td>\n",
       "      <td>0.002000</td>\n",
       "      <td>0.002000</td>\n",
       "      <td>0.008149</td>\n",
       "      <td>0.000000</td>\n",
       "      <td>0.002000</td>\n",
       "      <td>0.000000</td>\n",
       "      <td>0.000000</td>\n",
       "      <td>0.004128</td>\n",
       "      <td>0.000021</td>\n",
       "      <td>0.000000</td>\n",
       "      <td>...</td>\n",
       "      <td>0.002000</td>\n",
       "      <td>0.006000</td>\n",
       "      <td>0.020000</td>\n",
       "      <td>0.016043</td>\n",
       "      <td>0.006064</td>\n",
       "      <td>0.216574</td>\n",
       "      <td>0.008000</td>\n",
       "      <td>0.008000</td>\n",
       "      <td>0.062043</td>\n",
       "      <td>6.085106e-03</td>\n",
       "      <td>0.040000</td>\n",
       "      <td>0.002000</td>\n",
       "    </tr>\n",
       "    <tr>\n",
       "      <th>191348</th>\n",
       "      <td>0.000083</td>\n",
       "      <td>0.000080</td>\n",
       "      <td>0.002726</td>\n",
       "      <td>0.002342</td>\n",
       "      <td>0.006791</td>\n",
       "      <td>0.000095</td>\n",
       "      <td>0.002429</td>\n",
       "      <td>0.002181</td>\n",
       "      <td>0.000027</td>\n",
       "      <td>0.007193</td>\n",
       "      <td>0.005571</td>\n",
       "      <td>0.000190</td>\n",
       "      <td>...</td>\n",
       "      <td>0.008493</td>\n",
       "      <td>0.013247</td>\n",
       "      <td>0.007212</td>\n",
       "      <td>0.003985</td>\n",
       "      <td>0.005187</td>\n",
       "      <td>0.031725</td>\n",
       "      <td>0.000004</td>\n",
       "      <td>0.046506</td>\n",
       "      <td>0.051061</td>\n",
       "      <td>1.668027e-02</td>\n",
       "      <td>0.008132</td>\n",
       "      <td>0.002273</td>\n",
       "    </tr>\n",
       "  </tbody>\n",
       "</table>\n",
       "<p>5 rows × 38 columns</p>\n",
       "</div>"
      ],
      "text/plain": [
       "             TripType_3  TripType_4  TripType_5  TripType_6  TripType_7  \\\n",
       "VisitNumber                                                               \n",
       "191338         0.000030    0.000011    0.014323    0.002570    0.023277   \n",
       "191339         0.000217    0.002275    0.040664    0.003609    0.030562   \n",
       "191340         0.000950    0.000696    0.010203    0.005977    0.015479   \n",
       "191341         0.000000    0.000000    0.002000    0.002000    0.008149   \n",
       "191348         0.000083    0.000080    0.002726    0.002342    0.006791   \n",
       "\n",
       "             TripType_8  TripType_9  TripType_12  TripType_14  TripType_15  \\\n",
       "VisitNumber                                                                  \n",
       "191338         0.002126    0.000060     0.000064     0.000000     0.010435   \n",
       "191339         0.003238    0.003562     0.000562     0.000037     0.029843   \n",
       "191340         0.812830    0.107135     0.000360     0.000000     0.002075   \n",
       "191341         0.000000    0.002000     0.000000     0.000000     0.004128   \n",
       "191348         0.000095    0.002429     0.002181     0.000027     0.007193   \n",
       "\n",
       "             TripType_18  TripType_19      ...       TripType_34  TripType_35  \\\n",
       "VisitNumber                                ...                                  \n",
       "191338          0.000408     0.002063      ...          0.008669     0.200972   \n",
       "191339          0.019399     0.000701      ...          0.008065     0.058293   \n",
       "191340          0.001602     0.000910      ...          0.000736     0.000415   \n",
       "191341          0.000021     0.000000      ...          0.002000     0.006000   \n",
       "191348          0.005571     0.000190      ...          0.008493     0.013247   \n",
       "\n",
       "             TripType_36  TripType_37  TripType_38  TripType_39  TripType_40  \\\n",
       "VisitNumber                                                                    \n",
       "191338          0.014062     0.009101     0.028515     0.302008     0.004034   \n",
       "191339          0.047647     0.008773     0.020360     0.078244     0.000043   \n",
       "191340          0.000439     0.000061     0.000047     0.000055     0.000003   \n",
       "191341          0.020000     0.016043     0.006064     0.216574     0.008000   \n",
       "191348          0.007212     0.003985     0.005187     0.031725     0.000004   \n",
       "\n",
       "             TripType_41  TripType_42   TripType_43  TripType_44  TripType_999  \n",
       "VisitNumber                                                                     \n",
       "191338          0.002069     0.004275  4.251309e-03     0.012113      0.000084  \n",
       "191339          0.011322     0.070377  2.153074e-02     0.000193      0.001455  \n",
       "191340          0.000003     0.001038  2.495321e-07     0.000007      0.019623  \n",
       "191341          0.008000     0.062043  6.085106e-03     0.040000      0.002000  \n",
       "191348          0.046506     0.051061  1.668027e-02     0.008132      0.002273  \n",
       "\n",
       "[5 rows x 38 columns]"
      ]
     },
     "execution_count": 46,
     "metadata": {},
     "output_type": "execute_result"
    }
   ],
   "source": [
    "subform_df_columns = samplesub.columns[1:]\n",
    "result_df = pd.DataFrame(result)\n",
    "result_df.columns = subform_df_columns\n",
    "subform_df = pd.concat([test.reset_index()['VisitNumber'],result_df],axis=1)\n",
    "subform_df.set_index('VisitNumber',inplace=True)\n",
    "subform_df.tail()"
   ]
  },
  {
   "cell_type": "code",
   "execution_count": 47,
   "metadata": {},
   "outputs": [],
   "source": [
    "subform_df.to_csv('./RandomForest/RFT_est{}_dep{}.csv'.format(estimator,depth))"
   ]
  },
  {
   "cell_type": "code",
   "execution_count": 51,
   "metadata": {},
   "outputs": [
    {
     "name": "stdout",
     "output_type": "stream",
     "text": [
      "<Response [200]>\n"
     ]
    }
   ],
   "source": [
    "myslack.send_slack('Making RFT_est{}_dep{} CSV finish!.format(estimator,depth)')"
   ]
  },
  {
   "cell_type": "markdown",
   "metadata": {},
   "source": [
    "---"
   ]
  },
  {
   "cell_type": "code",
   "execution_count": null,
   "metadata": {},
   "outputs": [],
   "source": []
  }
 ],
 "metadata": {
  "kernelspec": {
   "display_name": "Python 3",
   "language": "python",
   "name": "python3"
  },
  "language_info": {
   "codemirror_mode": {
    "name": "ipython",
    "version": 3
   },
   "file_extension": ".py",
   "mimetype": "text/x-python",
   "name": "python",
   "nbconvert_exporter": "python",
   "pygments_lexer": "ipython3",
   "version": "3.6.4"
  }
 },
 "nbformat": 4,
 "nbformat_minor": 2
}
