{
 "cells": [
  {
   "cell_type": "code",
   "execution_count": 61,
   "metadata": {
    "scrolled": true
   },
   "outputs": [],
   "source": [
    "import numpy as np\n",
    "import pandas as pd\n",
    "pd.set_option('max_rows',38)\n",
    "pd.set_option('max_columns',25)\n",
    "import time\n",
    "import pickle\n",
    "from tqdm import tqdm\n",
    "import myslack_incomming\n",
    "\n",
    "# model\n",
    "from keras.models import Sequential\n",
    "from keras.layers.core import Dense, Dropout\n",
    "from keras.optimizers import SGD, RMSprop, Adadelta\n",
    "from keras.utils import np_utils\n",
    "from keras.layers import Activation, BatchNormalization\n",
    "import xgboost\n",
    "from scipy.sparse import csr_matrix\n",
    "from sklearn.tree import DecisionTreeClassifier\n",
    "from sklearn.linear_model import LogisticRegression\n",
    "from sklearn.naive_bayes import MultinomialNB\n",
    "from sklearn.metrics import confusion_matrix\n",
    "from sklearn.ensemble import BaggingClassifier\n",
    "from sklearn.ensemble import GradientBoostingClassifier\n",
    "from sklearn.ensemble import GradientBoostingRegressor\n",
    "from sklearn.ensemble import RandomForestClassifier\n",
    "from sklearn.ensemble import ExtraTreesClassifier\n",
    "from sklearn.pipeline import Pipeline\n",
    "from sklearn.svm import SVC\n",
    "from sklearn.model_selection import GridSearchCV\n",
    "from sklearn.model_selection import train_test_split\n",
    "from sklearn.model_selection import validation_curve\n",
    "from sklearn.model_selection import KFold, cross_val_score\n",
    "from sklearn.metrics import classification_report\n",
    "from sklearn import preprocessing\n"
   ]
  },
  {
   "cell_type": "markdown",
   "metadata": {},
   "source": [
    "# Ver 1"
   ]
  },
  {
   "cell_type": "markdown",
   "metadata": {},
   "source": [
    "# Data Check"
   ]
  },
  {
   "cell_type": "markdown",
   "metadata": {},
   "source": [
    "#### - train.csv"
   ]
  },
  {
   "cell_type": "code",
   "execution_count": 52,
   "metadata": {
    "scrolled": true
   },
   "outputs": [
    {
     "name": "stdout",
     "output_type": "stream",
     "text": [
      "test data shape: (95674, 5482)\n"
     ]
    }
   ],
   "source": [
    "train = pickle.load(open(\"./data/final_train_Ver1.pkl\", \"rb\"))\n",
    "print(\"test data shape: \"+str(train.shape))"
   ]
  },
  {
   "cell_type": "markdown",
   "metadata": {},
   "source": [
    "#### - test.csv"
   ]
  },
  {
   "cell_type": "code",
   "execution_count": 112,
   "metadata": {
    "scrolled": true
   },
   "outputs": [
    {
     "name": "stdout",
     "output_type": "stream",
     "text": [
      "test data shape: (95674, 5481)\n"
     ]
    }
   ],
   "source": [
    "test = pickle.load(open(\"./data/final_test_Ver1.pkl\", \"rb\"))\n",
    "print(\"test data shape: \"+str(test.shape))"
   ]
  },
  {
   "cell_type": "markdown",
   "metadata": {},
   "source": [
    "#### - sample_submission.csv"
   ]
  },
  {
   "cell_type": "code",
   "execution_count": 54,
   "metadata": {
    "scrolled": false
   },
   "outputs": [
    {
     "name": "stdout",
     "output_type": "stream",
     "text": [
      "sample_submission data shape: (95674, 39)\n"
     ]
    }
   ],
   "source": [
    "samplesub = pd.read_csv(\"./data/sample_submission.csv\")\n",
    "print(\"sample_submission data shape: \"+str(samplesub.shape))"
   ]
  },
  {
   "cell_type": "markdown",
   "metadata": {},
   "source": [
    "---"
   ]
  },
  {
   "cell_type": "markdown",
   "metadata": {},
   "source": [
    "# Modeling 8 - Neural Network"
   ]
  },
  {
   "cell_type": "markdown",
   "metadata": {},
   "source": [
    "### Train_X, Train_y"
   ]
  },
  {
   "cell_type": "code",
   "execution_count": 86,
   "metadata": {},
   "outputs": [],
   "source": [
    "X = train.drop(columns='TripType')\n",
    "y = train['TripType']"
   ]
  },
  {
   "cell_type": "code",
   "execution_count": 87,
   "metadata": {},
   "outputs": [
    {
     "data": {
      "text/plain": [
       "(38, array([37, 22, 18,  5, 27, 33, 13,  3, 34,  4,  6, 31, 17, 30,  9, 28, 12,\n",
       "        29, 24, 32,  2,  0,  1, 16, 25, 35, 23, 19, 26, 10, 21, 36, 11, 15,\n",
       "        14, 20,  8,  7]))"
      ]
     },
     "execution_count": 87,
     "metadata": {},
     "output_type": "execute_result"
    }
   ],
   "source": [
    "len(y.unique()), y.unique()"
   ]
  },
  {
   "cell_type": "code",
   "execution_count": 88,
   "metadata": {},
   "outputs": [
    {
     "data": {
      "text/plain": [
       "array([37, 22, 18,  5, 27, 33, 13,  3, 34,  4,  6, 31, 17, 30,  9, 28, 12,\n",
       "       29, 24, 32,  2,  0,  1, 16, 25, 35, 23, 19, 26, 10, 21, 36, 11, 15,\n",
       "       14, 20,  8,  7])"
      ]
     },
     "execution_count": 88,
     "metadata": {},
     "output_type": "execute_result"
    }
   ],
   "source": [
    "y.unique()"
   ]
  },
  {
   "cell_type": "code",
   "execution_count": 89,
   "metadata": {},
   "outputs": [
    {
     "data": {
      "text/plain": [
       "array([37, 22, 18,  5, 27, 33, 13,  3, 34,  4,  6, 31, 17, 30,  9, 28, 12,\n",
       "       29, 24, 32,  2,  0,  1, 16, 25, 35, 23, 19, 26, 10, 21, 36, 11, 15,\n",
       "       14, 20,  8,  7])"
      ]
     },
     "execution_count": 89,
     "metadata": {},
     "output_type": "execute_result"
    }
   ],
   "source": [
    "preprocessing.LabelEncoder().fit_transform(y.unique())"
   ]
  },
  {
   "cell_type": "code",
   "execution_count": 90,
   "metadata": {},
   "outputs": [],
   "source": [
    "train['TripType'].replace(y.unique(),preprocessing.LabelEncoder().fit_transform(y.unique()),inplace=True)"
   ]
  },
  {
   "cell_type": "code",
   "execution_count": 91,
   "metadata": {},
   "outputs": [
    {
     "data": {
      "text/plain": [
       "(38, array([37, 22, 18,  5, 27, 33, 13,  3, 34,  4,  6, 31, 17, 30,  9, 28, 12,\n",
       "        29, 24, 32,  2,  0,  1, 16, 25, 35, 23, 19, 26, 10, 21, 36, 11, 15,\n",
       "        14, 20,  8,  7]))"
      ]
     },
     "execution_count": 91,
     "metadata": {},
     "output_type": "execute_result"
    }
   ],
   "source": [
    "len(y.unique()), y.unique()"
   ]
  },
  {
   "cell_type": "code",
   "execution_count": 92,
   "metadata": {},
   "outputs": [],
   "source": [
    "X = csr_matrix(X); X"
   ]
  },
  {
   "cell_type": "code",
   "execution_count": 130,
   "metadata": {},
   "outputs": [
    {
     "data": {
      "text/plain": [
       "<95674x5481 sparse matrix of type '<class 'numpy.int64'>'\n",
       "\twith 1130483 stored elements in Compressed Sparse Row format>"
      ]
     },
     "execution_count": 130,
     "metadata": {},
     "output_type": "execute_result"
    }
   ],
   "source": [
    "csr_test = csr_matrix(test); csr_test"
   ]
  },
  {
   "cell_type": "markdown",
   "metadata": {},
   "source": [
    "## Keras"
   ]
  },
  {
   "cell_type": "markdown",
   "metadata": {},
   "source": [
    "### Train Test Split"
   ]
  },
  {
   "cell_type": "code",
   "execution_count": 218,
   "metadata": {},
   "outputs": [
    {
     "data": {
      "text/plain": [
       "(66971, 28703, 66971, 28703)"
      ]
     },
     "execution_count": 218,
     "metadata": {},
     "output_type": "execute_result"
    }
   ],
   "source": [
    "X_train, X_test, y_train0, y_test0 = train_test_split(X, y, test_size=0.3)\n",
    "\n",
    "X_train.shape[0], X_test.shape[0], len(y_train0), len(y_test0)"
   ]
  },
  {
   "cell_type": "code",
   "execution_count": 219,
   "metadata": {},
   "outputs": [],
   "source": [
    "Y_train = np_utils.to_categorical(y_train0, 38)\n",
    "Y_test = np_utils.to_categorical(y_test0, 38)"
   ]
  },
  {
   "cell_type": "code",
   "execution_count": 220,
   "metadata": {},
   "outputs": [],
   "source": [
    "dense = 10\n",
    "lr = 1"
   ]
  },
  {
   "cell_type": "code",
   "execution_count": 221,
   "metadata": {
    "scrolled": true
   },
   "outputs": [],
   "source": [
    "NN_model_Adadelta = Sequential()\n",
    "NN_model_Adadelta.add(Dense(dense, input_dim=5481, kernel_initializer=\"glorot_uniform\"))\n",
    "NN_model_Adadelta.add(BatchNormalization())\n",
    "NN_model_Adadelta.add(Activation('relu'))\n",
    "NN_model_Adadelta.add(Dense(38, activation=\"softmax\", kernel_initializer=\"glorot_uniform\"))\n",
    "NN_model_Adadelta.compile(optimizer=Adadelta(lr=lr), loss='binary_crossentropy', metrics=[\"accuracy\"])"
   ]
  },
  {
   "cell_type": "code",
   "execution_count": 222,
   "metadata": {},
   "outputs": [
    {
     "name": "stdout",
     "output_type": "stream",
     "text": [
      "_________________________________________________________________\n",
      "Layer (type)                 Output Shape              Param #   \n",
      "=================================================================\n",
      "dense_38 (Dense)             (None, 10)                54820     \n",
      "_________________________________________________________________\n",
      "batch_normalization_20 (Batc (None, 10)                40        \n",
      "_________________________________________________________________\n",
      "activation_20 (Activation)   (None, 10)                0         \n",
      "_________________________________________________________________\n",
      "dense_39 (Dense)             (None, 38)                418       \n",
      "=================================================================\n",
      "Total params: 55,278\n",
      "Trainable params: 55,258\n",
      "Non-trainable params: 20\n",
      "_________________________________________________________________\n"
     ]
    }
   ],
   "source": [
    "NN_model_Adadelta.summary()"
   ]
  },
  {
   "cell_type": "code",
   "execution_count": 223,
   "metadata": {},
   "outputs": [],
   "source": [
    "epochs = 3\n",
    "batch_size = 5000"
   ]
  },
  {
   "cell_type": "code",
   "execution_count": 224,
   "metadata": {
    "scrolled": true
   },
   "outputs": [
    {
     "name": "stdout",
     "output_type": "stream",
     "text": [
      "Train on 66971 samples, validate on 28703 samples\n",
      "Epoch 1/3\n",
      "66971/66971 [==============================] - 29s 440us/step - loss: 0.1213 - acc: 0.9737 - val_loss: 0.1194 - val_acc: 0.9737\n",
      "Epoch 2/3\n",
      "66971/66971 [==============================] - 27s 410us/step - loss: 0.1180 - acc: 0.9737 - val_loss: 0.1171 - val_acc: 0.9737\n",
      "Epoch 3/3\n",
      "66971/66971 [==============================] - 28s 422us/step - loss: 0.1161 - acc: 0.9737 - val_loss: 0.1151 - val_acc: 0.9737\n",
      "<Response [200]>\n",
      "CPU times: user 1min 26s, sys: 14.3 s, total: 1min 41s\n",
      "Wall time: 1min 29s\n"
     ]
    }
   ],
   "source": [
    "%%time\n",
    "hist = NN_model_Adadelta.fit(X_train, Y_train, \n",
    "                              epochs=epochs, batch_size=batch_size, \n",
    "                              validation_data=(X_test, Y_test), \n",
    "                              verbose=1)\n",
    "\n",
    "myslack_incomming.send_slack('NN_model_Adadelta finish! dense: {}, lr: {},  val_acc: {} '\n",
    "                             .format(dense,lr,hist.history['val_acc'][-1]))"
   ]
  },
  {
   "cell_type": "markdown",
   "metadata": {},
   "source": [
    "### Confusion Matrix"
   ]
  },
  {
   "cell_type": "code",
   "execution_count": 225,
   "metadata": {},
   "outputs": [
    {
     "data": {
      "text/plain": [
       "array([ 0,  6,  0, ..., 23, 23, 34])"
      ]
     },
     "execution_count": 225,
     "metadata": {},
     "output_type": "execute_result"
    }
   ],
   "source": [
    "Y_test.argmax(axis=1)"
   ]
  },
  {
   "cell_type": "code",
   "execution_count": 226,
   "metadata": {},
   "outputs": [
    {
     "data": {
      "text/plain": [
       "array([[   1,    0,    0, ...,    0,    0,   45],\n",
       "       [   0,    0,    5, ...,    0,    1,    3],\n",
       "       [   1,    0,   51, ...,    0,    8,  107],\n",
       "       ...,\n",
       "       [   0,    0,   29, ...,    0,   15,   18],\n",
       "       [   0,    0,   33, ...,    0,   11,    8],\n",
       "       [   0,    0,    5, ...,    0,    5, 1942]])"
      ]
     },
     "execution_count": 226,
     "metadata": {},
     "output_type": "execute_result"
    }
   ],
   "source": [
    "y_pred = NN_model_Adadelta.predict_classes(X_test)\n",
    "confusion_matrix(Y_test.argmax(axis=1), y_pred)"
   ]
  },
  {
   "cell_type": "code",
   "execution_count": 227,
   "metadata": {},
   "outputs": [
    {
     "data": {
      "image/png": "[encoded data removed]",
      "text/plain": [
       "<matplotlib.figure.Figure at 0x199e69438>"
      ]
     },
     "metadata": {},
     "output_type": "display_data"
    }
   ],
   "source": [
    "plt.plot(hist.history['loss'], 'b-', label=\"training\")\n",
    "plt.plot(hist.history['val_loss'], 'r:', label=\"test\")\n",
    "plt.legend()\n",
    "plt.show()"
   ]
  },
  {
   "cell_type": "code",
   "execution_count": 228,
   "metadata": {},
   "outputs": [
    {
     "data": {
      "text/plain": [
       "'val_acc: 0.9736930337599444'"
      ]
     },
     "execution_count": 228,
     "metadata": {},
     "output_type": "execute_result"
    }
   ],
   "source": [
    "'val_acc: '+str(hist.history['val_acc'][-1])"
   ]
  },
  {
   "cell_type": "code",
   "execution_count": 232,
   "metadata": {},
   "outputs": [
    {
     "data": {
      "image/png": "[encoded data removed]",
      "text/plain": [
       "<matplotlib.figure.Figure at 0x14cdc2320>"
      ]
     },
     "metadata": {},
     "output_type": "display_data"
    }
   ],
   "source": [
    "plt.plot(hist.history['acc'], 'b-', label=\"training\")\n",
    "plt.plot(hist.history['val_acc'], 'r:', label=\"test\")\n",
    "plt.legend()\n",
    "plt.show()"
   ]
  },
  {
   "cell_type": "markdown",
   "metadata": {},
   "source": [
    "### prediction"
   ]
  },
  {
   "cell_type": "code",
   "execution_count": 233,
   "metadata": {},
   "outputs": [
    {
     "data": {
      "text/plain": [
       "array([[0.02385901, 0.01995604, 0.02762974, ..., 0.02162622, 0.02951301,\n",
       "        0.03829303],\n",
       "       [0.02281144, 0.01979733, 0.02619853, ..., 0.01960183, 0.0301157 ,\n",
       "        0.04335504],\n",
       "       [0.01835045, 0.01407099, 0.02948502, ..., 0.01629926, 0.02560336,\n",
       "        0.04665631],\n",
       "       ...,\n",
       "       [0.01782967, 0.01621671, 0.02506788, ..., 0.01664026, 0.03176044,\n",
       "        0.05135722],\n",
       "       [0.02356441, 0.02055264, 0.02102651, ..., 0.0201694 , 0.04079145,\n",
       "        0.04267124],\n",
       "       [0.02871441, 0.01535765, 0.0200161 , ..., 0.01344992, 0.04362255,\n",
       "        0.05095064]], dtype=float32)"
      ]
     },
     "execution_count": 233,
     "metadata": {},
     "output_type": "execute_result"
    }
   ],
   "source": [
    "result = NN_model_Adadelta.predict_proba(csr_test)\n",
    "result"
   ]
  },
  {
   "cell_type": "markdown",
   "metadata": {},
   "source": [
    "### Make Submission CSV file"
   ]
  },
  {
   "cell_type": "code",
   "execution_count": 234,
   "metadata": {},
   "outputs": [
    {
     "data": {
      "text/html": [
       "<div>\n",
       "<style scoped>\n",
       "    .dataframe tbody tr th:only-of-type {\n",
       "        vertical-align: middle;\n",
       "    }\n",
       "\n",
       "    .dataframe tbody tr th {\n",
       "        vertical-align: top;\n",
       "    }\n",
       "\n",
       "    .dataframe thead th {\n",
       "        text-align: right;\n",
       "    }\n",
       "</style>\n",
       "<table border=\"1\" class=\"dataframe\">\n",
       "  <thead>\n",
       "    <tr style=\"text-align: right;\">\n",
       "      <th></th>\n",
       "      <th>TripType_3</th>\n",
       "      <th>TripType_4</th>\n",
       "      <th>TripType_5</th>\n",
       "      <th>TripType_6</th>\n",
       "      <th>TripType_7</th>\n",
       "      <th>TripType_8</th>\n",
       "      <th>TripType_9</th>\n",
       "      <th>TripType_12</th>\n",
       "      <th>TripType_14</th>\n",
       "      <th>TripType_15</th>\n",
       "      <th>TripType_18</th>\n",
       "      <th>TripType_19</th>\n",
       "      <th>...</th>\n",
       "      <th>TripType_34</th>\n",
       "      <th>TripType_35</th>\n",
       "      <th>TripType_36</th>\n",
       "      <th>TripType_37</th>\n",
       "      <th>TripType_38</th>\n",
       "      <th>TripType_39</th>\n",
       "      <th>TripType_40</th>\n",
       "      <th>TripType_41</th>\n",
       "      <th>TripType_42</th>\n",
       "      <th>TripType_43</th>\n",
       "      <th>TripType_44</th>\n",
       "      <th>TripType_999</th>\n",
       "    </tr>\n",
       "    <tr>\n",
       "      <th>VisitNumber</th>\n",
       "      <th></th>\n",
       "      <th></th>\n",
       "      <th></th>\n",
       "      <th></th>\n",
       "      <th></th>\n",
       "      <th></th>\n",
       "      <th></th>\n",
       "      <th></th>\n",
       "      <th></th>\n",
       "      <th></th>\n",
       "      <th></th>\n",
       "      <th></th>\n",
       "      <th></th>\n",
       "      <th></th>\n",
       "      <th></th>\n",
       "      <th></th>\n",
       "      <th></th>\n",
       "      <th></th>\n",
       "      <th></th>\n",
       "      <th></th>\n",
       "      <th></th>\n",
       "      <th></th>\n",
       "      <th></th>\n",
       "      <th></th>\n",
       "      <th></th>\n",
       "    </tr>\n",
       "  </thead>\n",
       "  <tbody>\n",
       "    <tr>\n",
       "      <th>191338</th>\n",
       "      <td>0.024051</td>\n",
       "      <td>0.015761</td>\n",
       "      <td>0.025916</td>\n",
       "      <td>0.033041</td>\n",
       "      <td>0.013430</td>\n",
       "      <td>0.043308</td>\n",
       "      <td>0.044685</td>\n",
       "      <td>0.011683</td>\n",
       "      <td>0.017574</td>\n",
       "      <td>0.026388</td>\n",
       "      <td>0.027096</td>\n",
       "      <td>0.042023</td>\n",
       "      <td>...</td>\n",
       "      <td>0.034410</td>\n",
       "      <td>0.043411</td>\n",
       "      <td>0.017983</td>\n",
       "      <td>0.024351</td>\n",
       "      <td>0.029578</td>\n",
       "      <td>0.013288</td>\n",
       "      <td>0.014173</td>\n",
       "      <td>0.054790</td>\n",
       "      <td>0.033647</td>\n",
       "      <td>0.014118</td>\n",
       "      <td>0.036205</td>\n",
       "      <td>0.050518</td>\n",
       "    </tr>\n",
       "    <tr>\n",
       "      <th>191339</th>\n",
       "      <td>0.020113</td>\n",
       "      <td>0.016625</td>\n",
       "      <td>0.022988</td>\n",
       "      <td>0.026772</td>\n",
       "      <td>0.018871</td>\n",
       "      <td>0.041973</td>\n",
       "      <td>0.044533</td>\n",
       "      <td>0.014464</td>\n",
       "      <td>0.018181</td>\n",
       "      <td>0.026120</td>\n",
       "      <td>0.030928</td>\n",
       "      <td>0.037780</td>\n",
       "      <td>...</td>\n",
       "      <td>0.032798</td>\n",
       "      <td>0.035936</td>\n",
       "      <td>0.022964</td>\n",
       "      <td>0.023150</td>\n",
       "      <td>0.033612</td>\n",
       "      <td>0.015405</td>\n",
       "      <td>0.014813</td>\n",
       "      <td>0.049952</td>\n",
       "      <td>0.032276</td>\n",
       "      <td>0.015987</td>\n",
       "      <td>0.037370</td>\n",
       "      <td>0.053427</td>\n",
       "    </tr>\n",
       "    <tr>\n",
       "      <th>191340</th>\n",
       "      <td>0.017830</td>\n",
       "      <td>0.016217</td>\n",
       "      <td>0.025068</td>\n",
       "      <td>0.023101</td>\n",
       "      <td>0.020943</td>\n",
       "      <td>0.044278</td>\n",
       "      <td>0.042084</td>\n",
       "      <td>0.017685</td>\n",
       "      <td>0.017031</td>\n",
       "      <td>0.026441</td>\n",
       "      <td>0.033037</td>\n",
       "      <td>0.029850</td>\n",
       "      <td>...</td>\n",
       "      <td>0.033279</td>\n",
       "      <td>0.033574</td>\n",
       "      <td>0.028306</td>\n",
       "      <td>0.025166</td>\n",
       "      <td>0.034735</td>\n",
       "      <td>0.018370</td>\n",
       "      <td>0.014969</td>\n",
       "      <td>0.045003</td>\n",
       "      <td>0.028081</td>\n",
       "      <td>0.016640</td>\n",
       "      <td>0.031760</td>\n",
       "      <td>0.051357</td>\n",
       "    </tr>\n",
       "    <tr>\n",
       "      <th>191341</th>\n",
       "      <td>0.023564</td>\n",
       "      <td>0.020553</td>\n",
       "      <td>0.021027</td>\n",
       "      <td>0.028608</td>\n",
       "      <td>0.024035</td>\n",
       "      <td>0.031954</td>\n",
       "      <td>0.035023</td>\n",
       "      <td>0.016089</td>\n",
       "      <td>0.025114</td>\n",
       "      <td>0.023663</td>\n",
       "      <td>0.027448</td>\n",
       "      <td>0.039884</td>\n",
       "      <td>...</td>\n",
       "      <td>0.028028</td>\n",
       "      <td>0.030175</td>\n",
       "      <td>0.019105</td>\n",
       "      <td>0.021535</td>\n",
       "      <td>0.032013</td>\n",
       "      <td>0.018578</td>\n",
       "      <td>0.020709</td>\n",
       "      <td>0.044014</td>\n",
       "      <td>0.034498</td>\n",
       "      <td>0.020169</td>\n",
       "      <td>0.040791</td>\n",
       "      <td>0.042671</td>\n",
       "    </tr>\n",
       "    <tr>\n",
       "      <th>191348</th>\n",
       "      <td>0.028714</td>\n",
       "      <td>0.015358</td>\n",
       "      <td>0.020016</td>\n",
       "      <td>0.046546</td>\n",
       "      <td>0.012074</td>\n",
       "      <td>0.038042</td>\n",
       "      <td>0.047435</td>\n",
       "      <td>0.010720</td>\n",
       "      <td>0.017630</td>\n",
       "      <td>0.022328</td>\n",
       "      <td>0.020763</td>\n",
       "      <td>0.057430</td>\n",
       "      <td>...</td>\n",
       "      <td>0.033161</td>\n",
       "      <td>0.042593</td>\n",
       "      <td>0.014402</td>\n",
       "      <td>0.019884</td>\n",
       "      <td>0.023862</td>\n",
       "      <td>0.010258</td>\n",
       "      <td>0.016792</td>\n",
       "      <td>0.046496</td>\n",
       "      <td>0.042503</td>\n",
       "      <td>0.013450</td>\n",
       "      <td>0.043623</td>\n",
       "      <td>0.050951</td>\n",
       "    </tr>\n",
       "  </tbody>\n",
       "</table>\n",
       "<p>5 rows × 38 columns</p>\n",
       "</div>"
      ],
      "text/plain": [
       "             TripType_3  TripType_4  TripType_5  TripType_6  TripType_7  \\\n",
       "VisitNumber                                                               \n",
       "191338         0.024051    0.015761    0.025916    0.033041    0.013430   \n",
       "191339         0.020113    0.016625    0.022988    0.026772    0.018871   \n",
       "191340         0.017830    0.016217    0.025068    0.023101    0.020943   \n",
       "191341         0.023564    0.020553    0.021027    0.028608    0.024035   \n",
       "191348         0.028714    0.015358    0.020016    0.046546    0.012074   \n",
       "\n",
       "             TripType_8  TripType_9  TripType_12  TripType_14  TripType_15  \\\n",
       "VisitNumber                                                                  \n",
       "191338         0.043308    0.044685     0.011683     0.017574     0.026388   \n",
       "191339         0.041973    0.044533     0.014464     0.018181     0.026120   \n",
       "191340         0.044278    0.042084     0.017685     0.017031     0.026441   \n",
       "191341         0.031954    0.035023     0.016089     0.025114     0.023663   \n",
       "191348         0.038042    0.047435     0.010720     0.017630     0.022328   \n",
       "\n",
       "             TripType_18  TripType_19      ...       TripType_34  TripType_35  \\\n",
       "VisitNumber                                ...                                  \n",
       "191338          0.027096     0.042023      ...          0.034410     0.043411   \n",
       "191339          0.030928     0.037780      ...          0.032798     0.035936   \n",
       "191340          0.033037     0.029850      ...          0.033279     0.033574   \n",
       "191341          0.027448     0.039884      ...          0.028028     0.030175   \n",
       "191348          0.020763     0.057430      ...          0.033161     0.042593   \n",
       "\n",
       "             TripType_36  TripType_37  TripType_38  TripType_39  TripType_40  \\\n",
       "VisitNumber                                                                    \n",
       "191338          0.017983     0.024351     0.029578     0.013288     0.014173   \n",
       "191339          0.022964     0.023150     0.033612     0.015405     0.014813   \n",
       "191340          0.028306     0.025166     0.034735     0.018370     0.014969   \n",
       "191341          0.019105     0.021535     0.032013     0.018578     0.020709   \n",
       "191348          0.014402     0.019884     0.023862     0.010258     0.016792   \n",
       "\n",
       "             TripType_41  TripType_42  TripType_43  TripType_44  TripType_999  \n",
       "VisitNumber                                                                    \n",
       "191338          0.054790     0.033647     0.014118     0.036205      0.050518  \n",
       "191339          0.049952     0.032276     0.015987     0.037370      0.053427  \n",
       "191340          0.045003     0.028081     0.016640     0.031760      0.051357  \n",
       "191341          0.044014     0.034498     0.020169     0.040791      0.042671  \n",
       "191348          0.046496     0.042503     0.013450     0.043623      0.050951  \n",
       "\n",
       "[5 rows x 38 columns]"
      ]
     },
     "execution_count": 234,
     "metadata": {},
     "output_type": "execute_result"
    }
   ],
   "source": [
    "subform_df_columns = samplesub.columns[1:]\n",
    "result_df = pd.DataFrame(result)\n",
    "result_df.columns = subform_df_columns\n",
    "subform_df = pd.concat([test.reset_index()['VisitNumber'],result_df],axis=1)\n",
    "subform_df.set_index('VisitNumber',inplace=True)\n",
    "subform_df.tail()"
   ]
  },
  {
   "cell_type": "code",
   "execution_count": 235,
   "metadata": {},
   "outputs": [],
   "source": [
    "subform_df.to_csv('./NN/Adadelta_bi_cro_den{}_lr{}_epo{}_batch_size{}.csv'\n",
    "                  .format(dense,lr,epochs,batch_size))"
   ]
  },
  {
   "cell_type": "markdown",
   "metadata": {},
   "source": [
    "## 모델저장"
   ]
  },
  {
   "cell_type": "code",
   "execution_count": 177,
   "metadata": {},
   "outputs": [],
   "source": [
    "NN_model_Adadelta.save('./NN/Adadelta_bi_cro_den{}_lr{}_epo{}_basi{}.hdf5'.format(dense,lr,epochs,batch_size))"
   ]
  },
  {
   "cell_type": "code",
   "execution_count": 178,
   "metadata": {},
   "outputs": [],
   "source": [
    "from keras.models import load_model\n",
    "\n",
    "model = load_model('./NN/Adadelta_bi_cro_den{}_lr{}_epo{}_basi{}.hdf5'.format(dense,lr,epochs,batch_size))"
   ]
  },
  {
   "cell_type": "code",
   "execution_count": 179,
   "metadata": {
    "scrolled": true
   },
   "outputs": [
    {
     "data": {
      "text/plain": [
       "array([24, 32,  5, ..., 31,  0, 37])"
      ]
     },
     "execution_count": 179,
     "metadata": {},
     "output_type": "execute_result"
    }
   ],
   "source": [
    "model.predict_classes(X_test)"
   ]
  },
  {
   "cell_type": "code",
   "execution_count": null,
   "metadata": {},
   "outputs": [],
   "source": []
  }
 ],
 "metadata": {
  "kernelspec": {
   "display_name": "Python 3",
   "language": "python",
   "name": "python3"
  },
  "language_info": {
   "codemirror_mode": {
    "name": "ipython",
    "version": 3
   },
   "file_extension": ".py",
   "mimetype": "text/x-python",
   "name": "python",
   "nbconvert_exporter": "python",
   "pygments_lexer": "ipython3",
   "version": "3.6.4"
  }
 },
 "nbformat": 4,
 "nbformat_minor": 2
}
