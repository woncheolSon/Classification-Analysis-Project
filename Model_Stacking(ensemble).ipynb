{
 "cells": [
  {
   "cell_type": "code",
   "execution_count": 23,
   "metadata": {},
   "outputs": [],
   "source": [
    "import pickle\n",
    "import time\n",
    "import myslack\n",
    "\n",
    "import lightgbm\n",
    "from sklearn.svm import SVC\n",
    "from scipy.sparse import csr_matrix\n",
    "from sklearn.model_selection import train_test_split, cross_val_score\n",
    "from sklearn.metrics import classification_report, accuracy_score, confusion_matrix\n",
    "from sklearn.externals import joblib\n",
    "from mlxtend.classifier import StackingClassifier\n",
    "from mlxtend.feature_selection import ColumnSelector\n",
    "from vecstack import stacking\n",
    "from vecstack import StackingTransformer"
   ]
  },
  {
   "cell_type": "markdown",
   "metadata": {},
   "source": [
    "#### - train.csv"
   ]
  },
  {
   "cell_type": "code",
   "execution_count": 2,
   "metadata": {
    "scrolled": true
   },
   "outputs": [
    {
     "name": "stdout",
     "output_type": "stream",
     "text": [
      "test data shape: (95674, 5166)\n",
      "CPU times: user 168 ms, sys: 463 ms, total: 631 ms\n",
      "Wall time: 636 ms\n"
     ]
    }
   ],
   "source": [
    "%%time\n",
    "train = pickle.load(open(\"./data/my_train.pkl\", \"rb\"))\n",
    "print(\"test data shape: \"+str(train.shape))"
   ]
  },
  {
   "cell_type": "code",
   "execution_count": 3,
   "metadata": {},
   "outputs": [
    {
     "data": {
      "text/plain": [
       "(95674, 5166)"
      ]
     },
     "execution_count": 3,
     "metadata": {},
     "output_type": "execute_result"
    }
   ],
   "source": [
    "train.shape"
   ]
  },
  {
   "cell_type": "markdown",
   "metadata": {},
   "source": [
    "#### - test.csv"
   ]
  },
  {
   "cell_type": "code",
   "execution_count": 4,
   "metadata": {},
   "outputs": [
    {
     "name": "stdout",
     "output_type": "stream",
     "text": [
      "test data shape: (95674, 5165)\n",
      "CPU times: user 159 ms, sys: 450 ms, total: 608 ms\n",
      "Wall time: 607 ms\n"
     ]
    }
   ],
   "source": [
    "%%time\n",
    "test = pickle.load(open(\"./data/my_test.pkl\", \"rb\"))\n",
    "print(\"test data shape: \"+str(test.shape))"
   ]
  },
  {
   "cell_type": "code",
   "execution_count": 5,
   "metadata": {},
   "outputs": [
    {
     "data": {
      "text/plain": [
       "(95674, 5165)"
      ]
     },
     "execution_count": 5,
     "metadata": {},
     "output_type": "execute_result"
    }
   ],
   "source": [
    "test.shape"
   ]
  },
  {
   "cell_type": "markdown",
   "metadata": {},
   "source": [
    "---"
   ]
  },
  {
   "cell_type": "markdown",
   "metadata": {},
   "source": [
    "# Stacking(Ensemble)"
   ]
  },
  {
   "cell_type": "markdown",
   "metadata": {},
   "source": [
    "# mlxtend"
   ]
  },
  {
   "cell_type": "code",
   "execution_count": 6,
   "metadata": {},
   "outputs": [],
   "source": [
    "svc_model = joblib.load('./SVM/model_SVC_1e2.pkl')\n",
    "lgbm_model = joblib.load('./LightGBM/Best_lightgbm_est300_dep25.pkl')"
   ]
  },
  {
   "cell_type": "markdown",
   "metadata": {},
   "source": [
    "### Train_X, Train_y"
   ]
  },
  {
   "cell_type": "code",
   "execution_count": 7,
   "metadata": {},
   "outputs": [],
   "source": [
    "X = train.drop(columns='TripType')\n",
    "y = train['TripType']"
   ]
  },
  {
   "cell_type": "code",
   "execution_count": 8,
   "metadata": {},
   "outputs": [
    {
     "name": "stdout",
     "output_type": "stream",
     "text": [
      "CPU times: user 10.3 s, sys: 1.41 s, total: 11.7 s\n",
      "Wall time: 11.8 s\n"
     ]
    }
   ],
   "source": [
    "%time csr_X = csr_matrix(X); csr_X"
   ]
  },
  {
   "cell_type": "code",
   "execution_count": 9,
   "metadata": {
    "scrolled": true
   },
   "outputs": [
    {
     "name": "stdout",
     "output_type": "stream",
     "text": [
      "CPU times: user 10.1 s, sys: 1.37 s, total: 11.5 s\n",
      "Wall time: 11.5 s\n"
     ]
    }
   ],
   "source": [
    "%time csr_test = csr_matrix(test); csr_test"
   ]
  },
  {
   "cell_type": "code",
   "execution_count": 10,
   "metadata": {},
   "outputs": [],
   "source": [
    "sclf = StackingClassifier(classifiers=[svc_model], \n",
    "                          meta_classifier=lgbm_model,\n",
    "                          use_probas=True,\n",
    "                          verbose=2)"
   ]
  },
  {
   "cell_type": "code",
   "execution_count": 13,
   "metadata": {},
   "outputs": [
    {
     "name": "stdout",
     "output_type": "stream",
     "text": [
      "Fitting 1 classifiers...\n",
      "Fitting classifier1: svc (1/1)\n",
      "SVC(C=100.0, cache_size=200, class_weight=None, coef0=0.0,\n",
      "  decision_function_shape='ovr', degree=3, gamma='auto', kernel='rbf',\n",
      "  max_iter=-1, probability=True, random_state=None, shrinking=True,\n",
      "  tol=0.001, verbose=False)\n",
      "CPU times: user 1h 47min 21s, sys: 1min 55s, total: 1h 49min 17s\n",
      "Wall time: 1h 46min 51s\n"
     ]
    }
   ],
   "source": [
    "%time sclf_model = sclf.fit(csr_X, y)"
   ]
  },
  {
   "cell_type": "code",
   "execution_count": 14,
   "metadata": {},
   "outputs": [
    {
     "name": "stdout",
     "output_type": "stream",
     "text": [
      "<Response [200]>\n"
     ]
    }
   ],
   "source": [
    "myslack.send_slack('StackingClassifier modeling finish!!')"
   ]
  },
  {
   "cell_type": "markdown",
   "metadata": {},
   "source": [
    "## 모델 저장"
   ]
  },
  {
   "cell_type": "code",
   "execution_count": 17,
   "metadata": {},
   "outputs": [],
   "source": [
    "from sklearn.externals import joblib\n",
    "\n",
    "joblib.dump(sclf_model, './Stacking/svc_lgbm_sclf_model.pkl') \n",
    "my_sclf_model = joblib.load('./Stacking/svc_lgbm_sclf_model.pkl') "
   ]
  },
  {
   "cell_type": "markdown",
   "metadata": {},
   "source": [
    "### Confusion Matrix"
   ]
  },
  {
   "cell_type": "code",
   "execution_count": null,
   "metadata": {
    "scrolled": false
   },
   "outputs": [],
   "source": [
    "confusion_matrix(y, sclf_model.predict(csr_X))"
   ]
  },
  {
   "cell_type": "markdown",
   "metadata": {},
   "source": [
    "### Accuracy Score"
   ]
  },
  {
   "cell_type": "code",
   "execution_count": null,
   "metadata": {},
   "outputs": [],
   "source": [
    "accuracy_score(y, sclf_model.predict(csr_X))"
   ]
  },
  {
   "cell_type": "markdown",
   "metadata": {},
   "source": [
    "### Train Test Split"
   ]
  },
  {
   "cell_type": "code",
   "execution_count": null,
   "metadata": {},
   "outputs": [],
   "source": [
    "X_train, X_test, y_train, y_test = train_test_split(csr_X, y, test_size=0.1, random_state=0)\n",
    "\n",
    "X_train.shape[0], X_test.shape[0], len(y_train), len(y_test)"
   ]
  },
  {
   "cell_type": "code",
   "execution_count": null,
   "metadata": {},
   "outputs": [],
   "source": [
    "%%time\n",
    "y_pred = sclf_model.predict(X_test)"
   ]
  },
  {
   "cell_type": "code",
   "execution_count": null,
   "metadata": {
    "scrolled": false
   },
   "outputs": [],
   "source": [
    "print(classification_report(y_test, y_pred))"
   ]
  },
  {
   "cell_type": "code",
   "execution_count": null,
   "metadata": {},
   "outputs": [],
   "source": []
  },
  {
   "cell_type": "markdown",
   "metadata": {},
   "source": [
    "### prediction"
   ]
  },
  {
   "cell_type": "code",
   "execution_count": 18,
   "metadata": {
    "scrolled": false
   },
   "outputs": [
    {
     "name": "stdout",
     "output_type": "stream",
     "text": [
      "CPU times: user 18min 48s, sys: 5.28 s, total: 18min 54s\n",
      "Wall time: 16min 18s\n"
     ]
    }
   ],
   "source": [
    "%time result = sclf_model.predict_proba(csr_test)"
   ]
  },
  {
   "cell_type": "markdown",
   "metadata": {},
   "source": [
    "### Make Submission CSV file"
   ]
  },
  {
   "cell_type": "code",
   "execution_count": 19,
   "metadata": {},
   "outputs": [
    {
     "data": {
      "text/html": [
       "<div>\n",
       "<style scoped>\n",
       "    .dataframe tbody tr th:only-of-type {\n",
       "        vertical-align: middle;\n",
       "    }\n",
       "\n",
       "    .dataframe tbody tr th {\n",
       "        vertical-align: top;\n",
       "    }\n",
       "\n",
       "    .dataframe thead th {\n",
       "        text-align: right;\n",
       "    }\n",
       "</style>\n",
       "<table border=\"1\" class=\"dataframe\">\n",
       "  <thead>\n",
       "    <tr style=\"text-align: right;\">\n",
       "      <th></th>\n",
       "      <th>TripType_3</th>\n",
       "      <th>TripType_4</th>\n",
       "      <th>TripType_5</th>\n",
       "      <th>TripType_6</th>\n",
       "      <th>TripType_7</th>\n",
       "      <th>TripType_8</th>\n",
       "      <th>TripType_9</th>\n",
       "      <th>TripType_12</th>\n",
       "      <th>TripType_14</th>\n",
       "      <th>TripType_15</th>\n",
       "      <th>...</th>\n",
       "      <th>TripType_36</th>\n",
       "      <th>TripType_37</th>\n",
       "      <th>TripType_38</th>\n",
       "      <th>TripType_39</th>\n",
       "      <th>TripType_40</th>\n",
       "      <th>TripType_41</th>\n",
       "      <th>TripType_42</th>\n",
       "      <th>TripType_43</th>\n",
       "      <th>TripType_44</th>\n",
       "      <th>TripType_999</th>\n",
       "    </tr>\n",
       "    <tr>\n",
       "      <th>VisitNumber</th>\n",
       "      <th></th>\n",
       "      <th></th>\n",
       "      <th></th>\n",
       "      <th></th>\n",
       "      <th></th>\n",
       "      <th></th>\n",
       "      <th></th>\n",
       "      <th></th>\n",
       "      <th></th>\n",
       "      <th></th>\n",
       "      <th></th>\n",
       "      <th></th>\n",
       "      <th></th>\n",
       "      <th></th>\n",
       "      <th></th>\n",
       "      <th></th>\n",
       "      <th></th>\n",
       "      <th></th>\n",
       "      <th></th>\n",
       "      <th></th>\n",
       "      <th></th>\n",
       "    </tr>\n",
       "  </thead>\n",
       "  <tbody>\n",
       "    <tr>\n",
       "      <th>191338</th>\n",
       "      <td>2.912214e-07</td>\n",
       "      <td>5.054454e-08</td>\n",
       "      <td>0.000059</td>\n",
       "      <td>5.927065e-06</td>\n",
       "      <td>0.000365</td>\n",
       "      <td>0.000067</td>\n",
       "      <td>0.000171</td>\n",
       "      <td>2.808156e-06</td>\n",
       "      <td>2.316411e-07</td>\n",
       "      <td>0.000024</td>\n",
       "      <td>...</td>\n",
       "      <td>0.000592</td>\n",
       "      <td>0.000062</td>\n",
       "      <td>0.000205</td>\n",
       "      <td>0.152750</td>\n",
       "      <td>2.071621e-07</td>\n",
       "      <td>1.280613e-06</td>\n",
       "      <td>0.000030</td>\n",
       "      <td>0.000025</td>\n",
       "      <td>4.123472e-07</td>\n",
       "      <td>0.000051</td>\n",
       "    </tr>\n",
       "    <tr>\n",
       "      <th>191339</th>\n",
       "      <td>2.352744e-08</td>\n",
       "      <td>3.616680e-08</td>\n",
       "      <td>0.000010</td>\n",
       "      <td>4.428118e-07</td>\n",
       "      <td>0.000037</td>\n",
       "      <td>0.000021</td>\n",
       "      <td>0.000031</td>\n",
       "      <td>2.751383e-07</td>\n",
       "      <td>1.391439e-08</td>\n",
       "      <td>0.000011</td>\n",
       "      <td>...</td>\n",
       "      <td>0.000029</td>\n",
       "      <td>0.000022</td>\n",
       "      <td>0.000067</td>\n",
       "      <td>0.000340</td>\n",
       "      <td>9.110215e-09</td>\n",
       "      <td>7.197013e-05</td>\n",
       "      <td>0.846822</td>\n",
       "      <td>0.000385</td>\n",
       "      <td>9.514141e-08</td>\n",
       "      <td>0.000049</td>\n",
       "    </tr>\n",
       "    <tr>\n",
       "      <th>191340</th>\n",
       "      <td>3.915580e-08</td>\n",
       "      <td>4.450883e-08</td>\n",
       "      <td>0.000013</td>\n",
       "      <td>4.567384e-06</td>\n",
       "      <td>0.000200</td>\n",
       "      <td>0.996317</td>\n",
       "      <td>0.001441</td>\n",
       "      <td>1.252326e-07</td>\n",
       "      <td>3.875052e-09</td>\n",
       "      <td>0.000036</td>\n",
       "      <td>...</td>\n",
       "      <td>0.000038</td>\n",
       "      <td>0.000002</td>\n",
       "      <td>0.000029</td>\n",
       "      <td>0.000113</td>\n",
       "      <td>1.122064e-08</td>\n",
       "      <td>1.046503e-07</td>\n",
       "      <td>0.000114</td>\n",
       "      <td>0.000001</td>\n",
       "      <td>2.115078e-08</td>\n",
       "      <td>0.001223</td>\n",
       "    </tr>\n",
       "    <tr>\n",
       "      <th>191341</th>\n",
       "      <td>4.255341e-09</td>\n",
       "      <td>8.667127e-09</td>\n",
       "      <td>0.000014</td>\n",
       "      <td>2.058660e-07</td>\n",
       "      <td>0.000024</td>\n",
       "      <td>0.000044</td>\n",
       "      <td>0.000023</td>\n",
       "      <td>2.748950e-08</td>\n",
       "      <td>1.670041e-09</td>\n",
       "      <td>0.000001</td>\n",
       "      <td>...</td>\n",
       "      <td>0.000018</td>\n",
       "      <td>0.000002</td>\n",
       "      <td>0.000008</td>\n",
       "      <td>0.000334</td>\n",
       "      <td>4.481649e-09</td>\n",
       "      <td>5.089306e-05</td>\n",
       "      <td>0.000413</td>\n",
       "      <td>0.000004</td>\n",
       "      <td>8.595698e-07</td>\n",
       "      <td>0.000051</td>\n",
       "    </tr>\n",
       "    <tr>\n",
       "      <th>191348</th>\n",
       "      <td>9.560205e-09</td>\n",
       "      <td>1.891953e-08</td>\n",
       "      <td>0.000014</td>\n",
       "      <td>9.747886e-07</td>\n",
       "      <td>0.000100</td>\n",
       "      <td>0.000026</td>\n",
       "      <td>0.000039</td>\n",
       "      <td>2.544224e-07</td>\n",
       "      <td>2.372316e-09</td>\n",
       "      <td>0.000007</td>\n",
       "      <td>...</td>\n",
       "      <td>0.000011</td>\n",
       "      <td>0.000002</td>\n",
       "      <td>0.000006</td>\n",
       "      <td>0.000069</td>\n",
       "      <td>3.971395e-09</td>\n",
       "      <td>1.792640e-05</td>\n",
       "      <td>0.000324</td>\n",
       "      <td>0.000001</td>\n",
       "      <td>6.861288e-08</td>\n",
       "      <td>0.000351</td>\n",
       "    </tr>\n",
       "  </tbody>\n",
       "</table>\n",
       "<p>5 rows × 38 columns</p>\n",
       "</div>"
      ],
      "text/plain": [
       "               TripType_3    TripType_4  TripType_5    TripType_6  TripType_7  \\\n",
       "VisitNumber                                                                     \n",
       "191338       2.912214e-07  5.054454e-08    0.000059  5.927065e-06    0.000365   \n",
       "191339       2.352744e-08  3.616680e-08    0.000010  4.428118e-07    0.000037   \n",
       "191340       3.915580e-08  4.450883e-08    0.000013  4.567384e-06    0.000200   \n",
       "191341       4.255341e-09  8.667127e-09    0.000014  2.058660e-07    0.000024   \n",
       "191348       9.560205e-09  1.891953e-08    0.000014  9.747886e-07    0.000100   \n",
       "\n",
       "             TripType_8  TripType_9   TripType_12   TripType_14  TripType_15  \\\n",
       "VisitNumber                                                                    \n",
       "191338         0.000067    0.000171  2.808156e-06  2.316411e-07     0.000024   \n",
       "191339         0.000021    0.000031  2.751383e-07  1.391439e-08     0.000011   \n",
       "191340         0.996317    0.001441  1.252326e-07  3.875052e-09     0.000036   \n",
       "191341         0.000044    0.000023  2.748950e-08  1.670041e-09     0.000001   \n",
       "191348         0.000026    0.000039  2.544224e-07  2.372316e-09     0.000007   \n",
       "\n",
       "                 ...       TripType_36  TripType_37  TripType_38  TripType_39  \\\n",
       "VisitNumber      ...                                                            \n",
       "191338           ...          0.000592     0.000062     0.000205     0.152750   \n",
       "191339           ...          0.000029     0.000022     0.000067     0.000340   \n",
       "191340           ...          0.000038     0.000002     0.000029     0.000113   \n",
       "191341           ...          0.000018     0.000002     0.000008     0.000334   \n",
       "191348           ...          0.000011     0.000002     0.000006     0.000069   \n",
       "\n",
       "              TripType_40   TripType_41  TripType_42  TripType_43  \\\n",
       "VisitNumber                                                         \n",
       "191338       2.071621e-07  1.280613e-06     0.000030     0.000025   \n",
       "191339       9.110215e-09  7.197013e-05     0.846822     0.000385   \n",
       "191340       1.122064e-08  1.046503e-07     0.000114     0.000001   \n",
       "191341       4.481649e-09  5.089306e-05     0.000413     0.000004   \n",
       "191348       3.971395e-09  1.792640e-05     0.000324     0.000001   \n",
       "\n",
       "              TripType_44  TripType_999  \n",
       "VisitNumber                              \n",
       "191338       4.123472e-07      0.000051  \n",
       "191339       9.514141e-08      0.000049  \n",
       "191340       2.115078e-08      0.001223  \n",
       "191341       8.595698e-07      0.000051  \n",
       "191348       6.861288e-08      0.000351  \n",
       "\n",
       "[5 rows x 38 columns]"
      ]
     },
     "execution_count": 19,
     "metadata": {},
     "output_type": "execute_result"
    }
   ],
   "source": [
    "samsub = pd.read_csv('./data/sample_submission.csv')\n",
    "subform_df_columns = samsub.columns[1:]\n",
    "result_df = pd.DataFrame(result)\n",
    "result_df.columns = subform_df_columns\n",
    "subform_df = pd.concat([test.reset_index()['VisitNumber'],result_df],axis=1)\n",
    "subform_df.set_index('VisitNumber',inplace=True)\n",
    "subform_df.tail()"
   ]
  },
  {
   "cell_type": "code",
   "execution_count": 20,
   "metadata": {},
   "outputs": [],
   "source": [
    "subform_df.to_csv('./Stacking/svc_lgbm_sclf_model.csv')"
   ]
  },
  {
   "cell_type": "code",
   "execution_count": 21,
   "metadata": {},
   "outputs": [
    {
     "name": "stdout",
     "output_type": "stream",
     "text": [
      "<Response [200]>\n"
     ]
    }
   ],
   "source": [
    "myslack.send_slack('Making svc_lgbm_sclf_model CSV finish!!')"
   ]
  },
  {
   "cell_type": "markdown",
   "metadata": {},
   "source": [
    "---"
   ]
  },
  {
   "cell_type": "markdown",
   "metadata": {},
   "source": [
    "# vecstack"
   ]
  },
  {
   "cell_type": "code",
   "execution_count": 6,
   "metadata": {},
   "outputs": [],
   "source": [
    "svc_model = joblib.load('./SVM/model_SVC_1e2.pkl')\n",
    "lgbm_model = joblib.load('./LightGBM/Best_lightgbm_est300_dep25.pkl')"
   ]
  },
  {
   "cell_type": "markdown",
   "metadata": {},
   "source": [
    "### Train_X, Train_y"
   ]
  },
  {
   "cell_type": "code",
   "execution_count": 7,
   "metadata": {},
   "outputs": [],
   "source": [
    "X = train.drop(columns='TripType')\n",
    "y = train['TripType']"
   ]
  },
  {
   "cell_type": "code",
   "execution_count": 8,
   "metadata": {},
   "outputs": [
    {
     "name": "stdout",
     "output_type": "stream",
     "text": [
      "CPU times: user 10.3 s, sys: 1.47 s, total: 11.8 s\n",
      "Wall time: 12 s\n"
     ]
    }
   ],
   "source": [
    "%time csr_X = csr_matrix(X)"
   ]
  },
  {
   "cell_type": "code",
   "execution_count": 9,
   "metadata": {},
   "outputs": [
    {
     "name": "stdout",
     "output_type": "stream",
     "text": [
      "CPU times: user 10.1 s, sys: 1.33 s, total: 11.4 s\n",
      "Wall time: 11.4 s\n"
     ]
    }
   ],
   "source": [
    "%time csr_test = csr_matrix(test)"
   ]
  },
  {
   "cell_type": "code",
   "execution_count": 10,
   "metadata": {},
   "outputs": [],
   "source": [
    "X_train, X_test, y_train, y_test = train_test_split(csr_X, y, test_size=0.1)"
   ]
  },
  {
   "cell_type": "code",
   "execution_count": null,
   "metadata": {},
   "outputs": [],
   "source": [
    "%%time\n",
    "\n",
    "models = [svc_model, lgbm_model]\n",
    "\n",
    "# Get your stacked features in a single line\n",
    "S_train, S_test = \\\n",
    "stacking(models, X_train, y_train, X_test, n_folds=3, regression=False, metric=accuracy_score, verbose=2)"
   ]
  },
  {
   "cell_type": "code",
   "execution_count": null,
   "metadata": {},
   "outputs": [],
   "source": [
    "myslack.send_slack('StackingClassifier modeling finish!!')"
   ]
  },
  {
   "cell_type": "code",
   "execution_count": null,
   "metadata": {},
   "outputs": [],
   "source": []
  },
  {
   "cell_type": "code",
   "execution_count": null,
   "metadata": {},
   "outputs": [],
   "source": []
  },
  {
   "cell_type": "code",
   "execution_count": null,
   "metadata": {},
   "outputs": [],
   "source": []
  },
  {
   "cell_type": "code",
   "execution_count": null,
   "metadata": {},
   "outputs": [],
   "source": []
  },
  {
   "cell_type": "code",
   "execution_count": null,
   "metadata": {},
   "outputs": [],
   "source": []
  },
  {
   "cell_type": "code",
   "execution_count": null,
   "metadata": {},
   "outputs": [],
   "source": []
  },
  {
   "cell_type": "code",
   "execution_count": null,
   "metadata": {},
   "outputs": [],
   "source": []
  },
  {
   "cell_type": "code",
   "execution_count": null,
   "metadata": {},
   "outputs": [],
   "source": []
  },
  {
   "cell_type": "code",
   "execution_count": null,
   "metadata": {},
   "outputs": [],
   "source": []
  },
  {
   "cell_type": "code",
   "execution_count": null,
   "metadata": {},
   "outputs": [],
   "source": []
  },
  {
   "cell_type": "code",
   "execution_count": null,
   "metadata": {},
   "outputs": [],
   "source": []
  }
 ],
 "metadata": {
  "kernelspec": {
   "display_name": "Python 3",
   "language": "python",
   "name": "python3"
  },
  "language_info": {
   "codemirror_mode": {
    "name": "ipython",
    "version": 3
   },
   "file_extension": ".py",
   "mimetype": "text/x-python",
   "name": "python",
   "nbconvert_exporter": "python",
   "pygments_lexer": "ipython3",
   "version": "3.6.4"
  }
 },
 "nbformat": 4,
 "nbformat_minor": 2
}
