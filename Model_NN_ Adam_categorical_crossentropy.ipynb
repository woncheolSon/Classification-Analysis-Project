{
 "cells": [
  {
   "cell_type": "code",
   "execution_count": 1,
   "metadata": {
    "scrolled": true
   },
   "outputs": [
    {
     "name": "stderr",
     "output_type": "stream",
     "text": [
      "Using TensorFlow backend.\n"
     ]
    }
   ],
   "source": [
    "import numpy as np\n",
    "import pandas as pd\n",
    "pd.set_option('max_rows',38)\n",
    "pd.set_option('max_columns',25)\n",
    "import time\n",
    "import pickle\n",
    "from tqdm import tqdm\n",
    "import myslack_incomming\n",
    "\n",
    "# model\n",
    "from keras.models import Sequential\n",
    "from keras.layers.core import Dense, Dropout\n",
    "from keras.optimizers import SGD, RMSprop, Adadelta, Adam\n",
    "from keras.utils import np_utils\n",
    "from keras.layers import Activation, BatchNormalization\n",
    "import xgboost\n",
    "from scipy.sparse import csr_matrix\n",
    "from sklearn.tree import DecisionTreeClassifier\n",
    "from sklearn.linear_model import LogisticRegression\n",
    "from sklearn.naive_bayes import MultinomialNB\n",
    "from sklearn.metrics import confusion_matrix\n",
    "from sklearn.ensemble import BaggingClassifier\n",
    "from sklearn.ensemble import GradientBoostingClassifier\n",
    "from sklearn.ensemble import GradientBoostingRegressor\n",
    "from sklearn.ensemble import RandomForestClassifier\n",
    "from sklearn.ensemble import ExtraTreesClassifier\n",
    "from sklearn.pipeline import Pipeline\n",
    "from sklearn.svm import SVC\n",
    "from sklearn.model_selection import GridSearchCV\n",
    "from sklearn.model_selection import train_test_split\n",
    "from sklearn.model_selection import validation_curve\n",
    "from sklearn.model_selection import KFold, cross_val_score\n",
    "from sklearn.metrics import classification_report\n",
    "from sklearn import preprocessing\n",
    "from keras.models import load_model"
   ]
  },
  {
   "cell_type": "markdown",
   "metadata": {},
   "source": [
    "# Ver 1"
   ]
  },
  {
   "cell_type": "markdown",
   "metadata": {},
   "source": [
    "# Data Check"
   ]
  },
  {
   "cell_type": "markdown",
   "metadata": {},
   "source": [
    "#### - train.csv"
   ]
  },
  {
   "cell_type": "code",
   "execution_count": 2,
   "metadata": {
    "scrolled": true
   },
   "outputs": [
    {
     "name": "stdout",
     "output_type": "stream",
     "text": [
      "test data shape: (95674, 5482)\n"
     ]
    }
   ],
   "source": [
    "train = pickle.load(open(\"./data/final_train_Ver1.pkl\", \"rb\"))\n",
    "print(\"test data shape: \"+str(train.shape))"
   ]
  },
  {
   "cell_type": "markdown",
   "metadata": {},
   "source": [
    "#### - test.csv"
   ]
  },
  {
   "cell_type": "code",
   "execution_count": 3,
   "metadata": {
    "scrolled": true
   },
   "outputs": [
    {
     "name": "stdout",
     "output_type": "stream",
     "text": [
      "test data shape: (95674, 5481)\n"
     ]
    }
   ],
   "source": [
    "test = pickle.load(open(\"./data/final_test_Ver1.pkl\", \"rb\"))\n",
    "print(\"test data shape: \"+str(test.shape))"
   ]
  },
  {
   "cell_type": "markdown",
   "metadata": {},
   "source": [
    "#### - sample_submission.csv"
   ]
  },
  {
   "cell_type": "code",
   "execution_count": 4,
   "metadata": {
    "scrolled": false
   },
   "outputs": [
    {
     "name": "stdout",
     "output_type": "stream",
     "text": [
      "sample_submission data shape: (95674, 39)\n"
     ]
    }
   ],
   "source": [
    "samplesub = pd.read_csv(\"./data/sample_submission.csv\")\n",
    "print(\"sample_submission data shape: \"+str(samplesub.shape))"
   ]
  },
  {
   "cell_type": "markdown",
   "metadata": {},
   "source": [
    "---"
   ]
  },
  {
   "cell_type": "markdown",
   "metadata": {},
   "source": [
    "# Modeling 8 - Neural Network"
   ]
  },
  {
   "cell_type": "markdown",
   "metadata": {},
   "source": [
    "### Train_X, Train_y"
   ]
  },
  {
   "cell_type": "code",
   "execution_count": 5,
   "metadata": {},
   "outputs": [],
   "source": [
    "X = train.drop(columns='TripType')\n",
    "y = train['TripType']"
   ]
  },
  {
   "cell_type": "code",
   "execution_count": 6,
   "metadata": {},
   "outputs": [
    {
     "data": {
      "text/plain": [
       "(38, array([999,  30,  26,   8,  35,  41,  21,   6,  42,   7,   9,  39,  25,\n",
       "         38,  15,  36,  20,  37,  32,  40,   5,   3,   4,  24,  33,  43,\n",
       "         31,  27,  34,  18,  29,  44,  19,  23,  22,  28,  14,  12]))"
      ]
     },
     "execution_count": 6,
     "metadata": {},
     "output_type": "execute_result"
    }
   ],
   "source": [
    "len(y.unique()), y.unique()"
   ]
  },
  {
   "cell_type": "code",
   "execution_count": 7,
   "metadata": {},
   "outputs": [
    {
     "data": {
      "text/plain": [
       "array([999,  30,  26,   8,  35,  41,  21,   6,  42,   7,   9,  39,  25,\n",
       "        38,  15,  36,  20,  37,  32,  40,   5,   3,   4,  24,  33,  43,\n",
       "        31,  27,  34,  18,  29,  44,  19,  23,  22,  28,  14,  12])"
      ]
     },
     "execution_count": 7,
     "metadata": {},
     "output_type": "execute_result"
    }
   ],
   "source": [
    "y.unique()"
   ]
  },
  {
   "cell_type": "code",
   "execution_count": 8,
   "metadata": {},
   "outputs": [
    {
     "data": {
      "text/plain": [
       "array([37, 22, 18,  5, 27, 33, 13,  3, 34,  4,  6, 31, 17, 30,  9, 28, 12,\n",
       "       29, 24, 32,  2,  0,  1, 16, 25, 35, 23, 19, 26, 10, 21, 36, 11, 15,\n",
       "       14, 20,  8,  7])"
      ]
     },
     "execution_count": 8,
     "metadata": {},
     "output_type": "execute_result"
    }
   ],
   "source": [
    "preprocessing.LabelEncoder().fit_transform(y.unique())"
   ]
  },
  {
   "cell_type": "code",
   "execution_count": 9,
   "metadata": {},
   "outputs": [],
   "source": [
    "train['TripType'].replace(y.unique(),preprocessing.LabelEncoder().fit_transform(y.unique()),inplace=True)"
   ]
  },
  {
   "cell_type": "code",
   "execution_count": 10,
   "metadata": {},
   "outputs": [
    {
     "data": {
      "text/plain": [
       "(38, array([37, 22, 18,  5, 27, 33, 13,  3, 34,  4,  6, 31, 17, 30,  9, 28, 12,\n",
       "        29, 24, 32,  2,  0,  1, 16, 25, 35, 23, 19, 26, 10, 21, 36, 11, 15,\n",
       "        14, 20,  8,  7]))"
      ]
     },
     "execution_count": 10,
     "metadata": {},
     "output_type": "execute_result"
    }
   ],
   "source": [
    "len(y.unique()), y.unique()"
   ]
  },
  {
   "cell_type": "code",
   "execution_count": 11,
   "metadata": {},
   "outputs": [
    {
     "data": {
      "text/plain": [
       "<95674x5481 sparse matrix of type '<class 'numpy.int64'>'\n",
       "\twith 1124112 stored elements in Compressed Sparse Row format>"
      ]
     },
     "execution_count": 11,
     "metadata": {},
     "output_type": "execute_result"
    }
   ],
   "source": [
    "X = csr_matrix(X); X"
   ]
  },
  {
   "cell_type": "code",
   "execution_count": 12,
   "metadata": {},
   "outputs": [
    {
     "data": {
      "text/plain": [
       "<95674x5481 sparse matrix of type '<class 'numpy.int64'>'\n",
       "\twith 1130483 stored elements in Compressed Sparse Row format>"
      ]
     },
     "execution_count": 12,
     "metadata": {},
     "output_type": "execute_result"
    }
   ],
   "source": [
    "csr_test = csr_matrix(test); csr_test"
   ]
  },
  {
   "cell_type": "markdown",
   "metadata": {},
   "source": [
    "## Keras"
   ]
  },
  {
   "cell_type": "markdown",
   "metadata": {},
   "source": [
    "### Train Test Split"
   ]
  },
  {
   "cell_type": "code",
   "execution_count": 13,
   "metadata": {},
   "outputs": [
    {
     "data": {
      "text/plain": [
       "(76539, 19135, 76539, 19135)"
      ]
     },
     "execution_count": 13,
     "metadata": {},
     "output_type": "execute_result"
    }
   ],
   "source": [
    "X_train, X_test, y_train0, y_test0 = train_test_split(X, y, test_size=0.2)\n",
    "\n",
    "X_train.shape[0], X_test.shape[0], len(y_train0), len(y_test0)"
   ]
  },
  {
   "cell_type": "code",
   "execution_count": 14,
   "metadata": {},
   "outputs": [],
   "source": [
    "Y_train = np_utils.to_categorical(y_train0, 38)\n",
    "Y_test = np_utils.to_categorical(y_test0, 38)"
   ]
  },
  {
   "cell_type": "code",
   "execution_count": 30,
   "metadata": {},
   "outputs": [],
   "source": [
    "dense = 100\n",
    "lr = 0.001"
   ]
  },
  {
   "cell_type": "code",
   "execution_count": 31,
   "metadata": {
    "scrolled": true
   },
   "outputs": [],
   "source": [
    "NN_model_Adam = Sequential()\n",
    "NN_model_Adam.add(Dense(dense, input_dim=5481, kernel_initializer=\"glorot_uniform\"))\n",
    "NN_model_Adam.add(BatchNormalization())\n",
    "NN_model_Adam.add(Activation('relu'))\n",
    "NN_model_Adam.add(Dense(38, activation=\"softmax\", kernel_initializer=\"glorot_uniform\"))\n",
    "NN_model_Adam.compile(optimizer=Adam(lr=lr), loss='categorical_crossentropy', metrics=[\"accuracy\"])"
   ]
  },
  {
   "cell_type": "code",
   "execution_count": 32,
   "metadata": {},
   "outputs": [
    {
     "name": "stdout",
     "output_type": "stream",
     "text": [
      "_________________________________________________________________\n",
      "Layer (type)                 Output Shape              Param #   \n",
      "=================================================================\n",
      "dense_3 (Dense)              (None, 100)               548200    \n",
      "_________________________________________________________________\n",
      "batch_normalization_2 (Batch (None, 100)               400       \n",
      "_________________________________________________________________\n",
      "activation_2 (Activation)    (None, 100)               0         \n",
      "_________________________________________________________________\n",
      "dense_4 (Dense)              (None, 38)                3838      \n",
      "=================================================================\n",
      "Total params: 552,438\n",
      "Trainable params: 552,238\n",
      "Non-trainable params: 200\n",
      "_________________________________________________________________\n"
     ]
    }
   ],
   "source": [
    "NN_model_Adam.summary()"
   ]
  },
  {
   "cell_type": "code",
   "execution_count": 33,
   "metadata": {},
   "outputs": [],
   "source": [
    "epochs = 200\n",
    "batch_size = 5000"
   ]
  },
  {
   "cell_type": "code",
   "execution_count": 34,
   "metadata": {
    "scrolled": true
   },
   "outputs": [
    {
     "name": "stdout",
     "output_type": "stream",
     "text": [
      "Train on 76539 samples, validate on 19135 samples\n",
      "Epoch 1/200\n",
      "76539/76539 [==============================] - 5s 68us/step - loss: 3.1959 - acc: 0.1621 - val_loss: 2.6651 - val_acc: 0.2748\n",
      "Epoch 2/200\n",
      "76539/76539 [==============================] - 5s 63us/step - loss: 2.1826 - acc: 0.4718 - val_loss: 2.0388 - val_acc: 0.5213\n",
      "Epoch 3/200\n",
      "76539/76539 [==============================] - 5s 65us/step - loss: 1.6459 - acc: 0.6203 - val_loss: 1.6899 - val_acc: 0.5888\n",
      "Epoch 4/200\n",
      "76539/76539 [==============================] - 5s 67us/step - loss: 1.3269 - acc: 0.6705 - val_loss: 1.4945 - val_acc: 0.6187\n",
      "Epoch 5/200\n",
      "76539/76539 [==============================] - 5s 66us/step - loss: 1.1171 - acc: 0.7115 - val_loss: 1.3685 - val_acc: 0.6303\n",
      "Epoch 6/200\n",
      "76539/76539 [==============================] - 5s 64us/step - loss: 0.9667 - acc: 0.7449 - val_loss: 1.2764 - val_acc: 0.6445\n",
      "Epoch 7/200\n",
      "76539/76539 [==============================] - 5s 69us/step - loss: 0.8503 - acc: 0.7752 - val_loss: 1.2191 - val_acc: 0.6469\n",
      "Epoch 8/200\n",
      "76539/76539 [==============================] - 5s 63us/step - loss: 0.7585 - acc: 0.8006 - val_loss: 1.1753 - val_acc: 0.6504\n",
      "Epoch 9/200\n",
      "76539/76539 [==============================] - 5s 66us/step - loss: 0.6831 - acc: 0.8196 - val_loss: 1.1443 - val_acc: 0.6527\n",
      "Epoch 10/200\n",
      "76539/76539 [==============================] - 5s 65us/step - loss: 0.6209 - acc: 0.8389 - val_loss: 1.1277 - val_acc: 0.6539\n",
      "Epoch 11/200\n",
      "76539/76539 [==============================] - 5s 62us/step - loss: 0.5676 - acc: 0.8557 - val_loss: 1.0992 - val_acc: 0.6600\n",
      "Epoch 12/200\n",
      "76539/76539 [==============================] - 5s 65us/step - loss: 0.5215 - acc: 0.8704 - val_loss: 1.0864 - val_acc: 0.6624\n",
      "Epoch 13/200\n",
      "76539/76539 [==============================] - 5s 64us/step - loss: 0.4824 - acc: 0.8812 - val_loss: 1.0908 - val_acc: 0.6591\n",
      "Epoch 14/200\n",
      "76539/76539 [==============================] - 5s 68us/step - loss: 0.4485 - acc: 0.8917 - val_loss: 1.0612 - val_acc: 0.6681\n",
      "Epoch 15/200\n",
      "76539/76539 [==============================] - 5s 64us/step - loss: 0.4182 - acc: 0.9001 - val_loss: 1.0618 - val_acc: 0.6691\n",
      "Epoch 16/200\n",
      "76539/76539 [==============================] - 5s 64us/step - loss: 0.3910 - acc: 0.9085 - val_loss: 1.0780 - val_acc: 0.6662\n",
      "Epoch 17/200\n",
      "76539/76539 [==============================] - 5s 63us/step - loss: 0.3673 - acc: 0.9152 - val_loss: 1.0738 - val_acc: 0.6697\n",
      "Epoch 18/200\n",
      "76539/76539 [==============================] - 5s 67us/step - loss: 0.3451 - acc: 0.9220 - val_loss: 1.0596 - val_acc: 0.6744\n",
      "Epoch 19/200\n",
      "76539/76539 [==============================] - 5s 67us/step - loss: 0.3249 - acc: 0.9274 - val_loss: 1.0897 - val_acc: 0.6704\n",
      "Epoch 20/200\n",
      "76539/76539 [==============================] - 5s 65us/step - loss: 0.3079 - acc: 0.9320 - val_loss: 1.0703 - val_acc: 0.6754\n",
      "Epoch 21/200\n",
      "76539/76539 [==============================] - 5s 66us/step - loss: 0.2919 - acc: 0.9355 - val_loss: 1.0749 - val_acc: 0.6788\n",
      "Epoch 22/200\n",
      "76539/76539 [==============================] - 5s 68us/step - loss: 0.2779 - acc: 0.9407 - val_loss: 1.0821 - val_acc: 0.6810\n",
      "Epoch 23/200\n",
      "76539/76539 [==============================] - 5s 67us/step - loss: 0.2640 - acc: 0.9445 - val_loss: 1.0827 - val_acc: 0.6815\n",
      "Epoch 24/200\n",
      "76539/76539 [==============================] - 5s 65us/step - loss: 0.2515 - acc: 0.9469 - val_loss: 1.1042 - val_acc: 0.6794\n",
      "Epoch 25/200\n",
      "76539/76539 [==============================] - 5s 64us/step - loss: 0.2402 - acc: 0.9500 - val_loss: 1.1005 - val_acc: 0.6845\n",
      "Epoch 26/200\n",
      "76539/76539 [==============================] - 5s 63us/step - loss: 0.2296 - acc: 0.9525 - val_loss: 1.1124 - val_acc: 0.6829\n",
      "Epoch 27/200\n",
      "76539/76539 [==============================] - 5s 62us/step - loss: 0.2192 - acc: 0.9556 - val_loss: 1.1294 - val_acc: 0.6807\n",
      "Epoch 28/200\n",
      "76539/76539 [==============================] - 5s 64us/step - loss: 0.2104 - acc: 0.9581 - val_loss: 1.1373 - val_acc: 0.6829\n",
      "Epoch 29/200\n",
      "76539/76539 [==============================] - 5s 64us/step - loss: 0.2030 - acc: 0.9591 - val_loss: 1.1345 - val_acc: 0.6847\n",
      "Epoch 30/200\n",
      "76539/76539 [==============================] - 5s 64us/step - loss: 0.1943 - acc: 0.9615 - val_loss: 1.1630 - val_acc: 0.6809\n",
      "Epoch 31/200\n",
      "76539/76539 [==============================] - 5s 64us/step - loss: 0.1867 - acc: 0.9633 - val_loss: 1.1487 - val_acc: 0.6865\n",
      "Epoch 32/200\n",
      "76539/76539 [==============================] - 5s 62us/step - loss: 0.1809 - acc: 0.9643 - val_loss: 1.1570 - val_acc: 0.6862\n",
      "Epoch 33/200\n",
      "76539/76539 [==============================] - 5s 65us/step - loss: 0.1738 - acc: 0.9661 - val_loss: 1.1817 - val_acc: 0.6842\n",
      "Epoch 34/200\n",
      "76539/76539 [==============================] - 5s 63us/step - loss: 0.1666 - acc: 0.9678 - val_loss: 1.2020 - val_acc: 0.6814\n",
      "Epoch 35/200\n",
      "76539/76539 [==============================] - 5s 66us/step - loss: 0.1631 - acc: 0.9683 - val_loss: 1.1957 - val_acc: 0.6860\n",
      "Epoch 36/200\n",
      "76539/76539 [==============================] - 5s 62us/step - loss: 0.1565 - acc: 0.9694 - val_loss: 1.2050 - val_acc: 0.6854\n",
      "Epoch 37/200\n",
      "76539/76539 [==============================] - 5s 62us/step - loss: 0.1510 - acc: 0.9708 - val_loss: 1.2226 - val_acc: 0.6834\n",
      "Epoch 38/200\n",
      "76539/76539 [==============================] - 5s 65us/step - loss: 0.1463 - acc: 0.9715 - val_loss: 1.2405 - val_acc: 0.6820\n",
      "Epoch 39/200\n",
      "76539/76539 [==============================] - 5s 62us/step - loss: 0.1417 - acc: 0.9725 - val_loss: 1.2618 - val_acc: 0.6805\n",
      "Epoch 40/200\n",
      "76539/76539 [==============================] - 5s 62us/step - loss: 0.1381 - acc: 0.9734 - val_loss: 1.2493 - val_acc: 0.6845\n",
      "Epoch 41/200\n",
      "76539/76539 [==============================] - 5s 62us/step - loss: 0.1328 - acc: 0.9745 - val_loss: 1.2804 - val_acc: 0.6809\n",
      "Epoch 42/200\n",
      "76539/76539 [==============================] - 5s 62us/step - loss: 0.1291 - acc: 0.9757 - val_loss: 1.2807 - val_acc: 0.6814\n",
      "Epoch 43/200\n",
      "76539/76539 [==============================] - 5s 63us/step - loss: 0.1250 - acc: 0.9761 - val_loss: 1.3033 - val_acc: 0.6802\n",
      "Epoch 44/200\n",
      "76539/76539 [==============================] - 5s 64us/step - loss: 0.1219 - acc: 0.9764 - val_loss: 1.3044 - val_acc: 0.6819\n",
      "Epoch 45/200\n",
      "76539/76539 [==============================] - 5s 64us/step - loss: 0.1196 - acc: 0.9771 - val_loss: 1.3142 - val_acc: 0.6815\n",
      "Epoch 46/200\n",
      "76539/76539 [==============================] - 5s 65us/step - loss: 0.1169 - acc: 0.9776 - val_loss: 1.3171 - val_acc: 0.6813\n",
      "Epoch 47/200\n",
      "76539/76539 [==============================] - 5s 70us/step - loss: 0.1150 - acc: 0.9773 - val_loss: 1.3433 - val_acc: 0.6784\n",
      "Epoch 48/200\n",
      "76539/76539 [==============================] - 6s 74us/step - loss: 0.1112 - acc: 0.9784 - val_loss: 1.3372 - val_acc: 0.6830\n",
      "Epoch 49/200\n",
      "76539/76539 [==============================] - 5s 66us/step - loss: 0.1076 - acc: 0.9796 - val_loss: 1.3621 - val_acc: 0.6797\n",
      "Epoch 50/200\n",
      "76539/76539 [==============================] - 5s 64us/step - loss: 0.1042 - acc: 0.9797 - val_loss: 1.3657 - val_acc: 0.6822\n",
      "Epoch 51/200\n",
      "76539/76539 [==============================] - 5s 62us/step - loss: 0.1015 - acc: 0.9806 - val_loss: 1.3569 - val_acc: 0.6845\n",
      "Epoch 52/200\n",
      "76539/76539 [==============================] - 5s 63us/step - loss: 0.1000 - acc: 0.9810 - val_loss: 1.3699 - val_acc: 0.6829\n",
      "Epoch 53/200\n",
      "76539/76539 [==============================] - 5s 63us/step - loss: 0.0984 - acc: 0.9811 - val_loss: 1.3838 - val_acc: 0.6820\n",
      "Epoch 54/200\n",
      "76539/76539 [==============================] - 5s 62us/step - loss: 0.0953 - acc: 0.9813 - val_loss: 1.3891 - val_acc: 0.6816\n",
      "Epoch 55/200\n",
      "76539/76539 [==============================] - 5s 63us/step - loss: 0.0947 - acc: 0.9815 - val_loss: 1.3884 - val_acc: 0.6826\n",
      "Epoch 56/200\n",
      "76539/76539 [==============================] - 5s 62us/step - loss: 0.0916 - acc: 0.9822 - val_loss: 1.4159 - val_acc: 0.6784\n",
      "Epoch 57/200\n",
      "76539/76539 [==============================] - 5s 62us/step - loss: 0.0897 - acc: 0.9821 - val_loss: 1.4395 - val_acc: 0.6790\n",
      "Epoch 58/200\n",
      "76539/76539 [==============================] - 5s 66us/step - loss: 0.0880 - acc: 0.9824 - val_loss: 1.4712 - val_acc: 0.6745\n",
      "Epoch 59/200\n"
     ]
    },
    {
     "name": "stdout",
     "output_type": "stream",
     "text": [
      "76539/76539 [==============================] - 5s 69us/step - loss: 0.0877 - acc: 0.9818 - val_loss: 1.4758 - val_acc: 0.6767\n",
      "Epoch 60/200\n",
      "76539/76539 [==============================] - 5s 67us/step - loss: 0.0859 - acc: 0.9827 - val_loss: 1.4287 - val_acc: 0.6822\n",
      "Epoch 61/200\n",
      "76539/76539 [==============================] - 5s 68us/step - loss: 0.0824 - acc: 0.9836 - val_loss: 1.4521 - val_acc: 0.6804\n",
      "Epoch 62/200\n",
      "76539/76539 [==============================] - 6s 77us/step - loss: 0.0819 - acc: 0.9831 - val_loss: 1.4756 - val_acc: 0.6776\n",
      "Epoch 63/200\n",
      "76539/76539 [==============================] - 6s 75us/step - loss: 0.0822 - acc: 0.9824 - val_loss: 1.4652 - val_acc: 0.6812\n",
      "Epoch 64/200\n",
      "76539/76539 [==============================] - 5s 65us/step - loss: 0.0790 - acc: 0.9834 - val_loss: 1.5089 - val_acc: 0.6752\n",
      "Epoch 65/200\n",
      "76539/76539 [==============================] - 5s 62us/step - loss: 0.0767 - acc: 0.9844 - val_loss: 1.4676 - val_acc: 0.6829\n",
      "Epoch 66/200\n",
      "76539/76539 [==============================] - 5s 62us/step - loss: 0.0773 - acc: 0.9831 - val_loss: 1.5161 - val_acc: 0.6756\n",
      "Epoch 67/200\n",
      "76539/76539 [==============================] - 5s 62us/step - loss: 0.0745 - acc: 0.9850 - val_loss: 1.5399 - val_acc: 0.6738\n",
      "Epoch 68/200\n",
      "76539/76539 [==============================] - 5s 62us/step - loss: 0.0732 - acc: 0.9845 - val_loss: 1.5363 - val_acc: 0.6760\n",
      "Epoch 69/200\n",
      "76539/76539 [==============================] - 5s 71us/step - loss: 0.0728 - acc: 0.9846 - val_loss: 1.4987 - val_acc: 0.6817\n",
      "Epoch 70/200\n",
      "76539/76539 [==============================] - 5s 64us/step - loss: 0.0703 - acc: 0.9854 - val_loss: 1.5167 - val_acc: 0.6796\n",
      "Epoch 71/200\n",
      "76539/76539 [==============================] - 5s 64us/step - loss: 0.0686 - acc: 0.9855 - val_loss: 1.5306 - val_acc: 0.6776\n",
      "Epoch 72/200\n",
      "76539/76539 [==============================] - 5s 65us/step - loss: 0.0680 - acc: 0.9855 - val_loss: 1.5535 - val_acc: 0.6770\n",
      "Epoch 73/200\n",
      "76539/76539 [==============================] - 5s 65us/step - loss: 0.0666 - acc: 0.9859 - val_loss: 1.5668 - val_acc: 0.6766\n",
      "Epoch 74/200\n",
      "76539/76539 [==============================] - 6s 74us/step - loss: 0.0653 - acc: 0.9859 - val_loss: 1.5611 - val_acc: 0.6766\n",
      "Epoch 75/200\n",
      "76539/76539 [==============================] - 5s 71us/step - loss: 0.0641 - acc: 0.9857 - val_loss: 1.5800 - val_acc: 0.6754\n",
      "Epoch 76/200\n",
      "76539/76539 [==============================] - 5s 65us/step - loss: 0.0640 - acc: 0.9860 - val_loss: 1.5825 - val_acc: 0.6758\n",
      "Epoch 77/200\n",
      "76539/76539 [==============================] - 5s 67us/step - loss: 0.0631 - acc: 0.9860 - val_loss: 1.5748 - val_acc: 0.6771\n",
      "Epoch 78/200\n",
      "76539/76539 [==============================] - 6s 72us/step - loss: 0.0618 - acc: 0.9866 - val_loss: 1.5877 - val_acc: 0.6770\n",
      "Epoch 79/200\n",
      "76539/76539 [==============================] - 5s 68us/step - loss: 0.0608 - acc: 0.9865 - val_loss: 1.6049 - val_acc: 0.6742\n",
      "Epoch 80/200\n",
      "76539/76539 [==============================] - 6s 74us/step - loss: 0.0604 - acc: 0.9865 - val_loss: 1.6069 - val_acc: 0.6756\n",
      "Epoch 81/200\n",
      "76539/76539 [==============================] - 5s 68us/step - loss: 0.0599 - acc: 0.9869 - val_loss: 1.6093 - val_acc: 0.6762\n",
      "Epoch 82/200\n",
      "76539/76539 [==============================] - 5s 65us/step - loss: 0.0635 - acc: 0.9856 - val_loss: 1.6102 - val_acc: 0.6770\n",
      "Epoch 83/200\n",
      "76539/76539 [==============================] - 5s 63us/step - loss: 0.0626 - acc: 0.9854 - val_loss: 1.6508 - val_acc: 0.6704\n",
      "Epoch 84/200\n",
      "76539/76539 [==============================] - 5s 66us/step - loss: 0.0625 - acc: 0.9859 - val_loss: 1.6300 - val_acc: 0.6771\n",
      "Epoch 85/200\n",
      "76539/76539 [==============================] - 5s 69us/step - loss: 0.0609 - acc: 0.9862 - val_loss: 1.6192 - val_acc: 0.6771\n",
      "Epoch 86/200\n",
      "76539/76539 [==============================] - 5s 72us/step - loss: 0.0578 - acc: 0.9872 - val_loss: 1.6069 - val_acc: 0.6796\n",
      "Epoch 87/200\n",
      "76539/76539 [==============================] - 5s 66us/step - loss: 0.0568 - acc: 0.9869 - val_loss: 1.6348 - val_acc: 0.6765\n",
      "Epoch 88/200\n",
      "76539/76539 [==============================] - 5s 70us/step - loss: 0.0543 - acc: 0.9873 - val_loss: 1.6354 - val_acc: 0.6768\n",
      "Epoch 89/200\n",
      "76539/76539 [==============================] - 5s 69us/step - loss: 0.0535 - acc: 0.9876 - val_loss: 1.6520 - val_acc: 0.6753\n",
      "Epoch 90/200\n",
      "76539/76539 [==============================] - 5s 64us/step - loss: 0.0536 - acc: 0.9874 - val_loss: 1.6736 - val_acc: 0.6727\n",
      "Epoch 91/200\n",
      "76539/76539 [==============================] - 5s 64us/step - loss: 0.0529 - acc: 0.9872 - val_loss: 1.6487 - val_acc: 0.6766\n",
      "Epoch 92/200\n",
      "76539/76539 [==============================] - 5s 67us/step - loss: 0.0521 - acc: 0.9878 - val_loss: 1.6720 - val_acc: 0.6751\n",
      "Epoch 93/200\n",
      "76539/76539 [==============================] - 5s 65us/step - loss: 0.0518 - acc: 0.9872 - val_loss: 1.7081 - val_acc: 0.6712\n",
      "Epoch 94/200\n",
      "76539/76539 [==============================] - 5s 65us/step - loss: 0.0501 - acc: 0.9880 - val_loss: 1.6776 - val_acc: 0.6738\n",
      "Epoch 95/200\n",
      "76539/76539 [==============================] - 5s 64us/step - loss: 0.0499 - acc: 0.9874 - val_loss: 1.6986 - val_acc: 0.6732\n",
      "Epoch 96/200\n",
      "76539/76539 [==============================] - 5s 65us/step - loss: 0.0502 - acc: 0.9877 - val_loss: 1.7375 - val_acc: 0.6703\n",
      "Epoch 97/200\n",
      "76539/76539 [==============================] - 5s 65us/step - loss: 0.0504 - acc: 0.9876 - val_loss: 1.7031 - val_acc: 0.6750\n",
      "Epoch 98/200\n",
      "76539/76539 [==============================] - 5s 67us/step - loss: 0.0486 - acc: 0.9880 - val_loss: 1.7201 - val_acc: 0.6715\n",
      "Epoch 99/200\n",
      "76539/76539 [==============================] - 5s 68us/step - loss: 0.0477 - acc: 0.9881 - val_loss: 1.7127 - val_acc: 0.6758\n",
      "Epoch 100/200\n",
      "76539/76539 [==============================] - 5s 62us/step - loss: 0.0482 - acc: 0.9880 - val_loss: 1.7384 - val_acc: 0.6712\n",
      "Epoch 101/200\n",
      "76539/76539 [==============================] - 5s 65us/step - loss: 0.0477 - acc: 0.9880 - val_loss: 1.7486 - val_acc: 0.6714\n",
      "Epoch 102/200\n",
      "76539/76539 [==============================] - 5s 65us/step - loss: 0.0473 - acc: 0.9881 - val_loss: 1.7418 - val_acc: 0.6724\n",
      "Epoch 103/200\n",
      "76539/76539 [==============================] - 5s 65us/step - loss: 0.0466 - acc: 0.9883 - val_loss: 1.7626 - val_acc: 0.6712\n",
      "Epoch 104/200\n",
      "76539/76539 [==============================] - 5s 62us/step - loss: 0.0453 - acc: 0.9882 - val_loss: 1.7467 - val_acc: 0.6716\n",
      "Epoch 105/200\n",
      "76539/76539 [==============================] - 5s 62us/step - loss: 0.0443 - acc: 0.9886 - val_loss: 1.7776 - val_acc: 0.6707\n",
      "Epoch 106/200\n",
      "76539/76539 [==============================] - 5s 62us/step - loss: 0.0439 - acc: 0.9887 - val_loss: 1.7550 - val_acc: 0.6736\n",
      "Epoch 107/200\n",
      "76539/76539 [==============================] - 5s 67us/step - loss: 0.0439 - acc: 0.9887 - val_loss: 1.7808 - val_acc: 0.6697\n",
      "Epoch 108/200\n",
      "76539/76539 [==============================] - 5s 64us/step - loss: 0.0436 - acc: 0.9886 - val_loss: 1.7986 - val_acc: 0.6696\n",
      "Epoch 109/200\n",
      "76539/76539 [==============================] - 5s 63us/step - loss: 0.0436 - acc: 0.9887 - val_loss: 1.7558 - val_acc: 0.6743\n",
      "Epoch 110/200\n",
      "76539/76539 [==============================] - 5s 63us/step - loss: 0.0427 - acc: 0.9888 - val_loss: 1.7952 - val_acc: 0.6711\n",
      "Epoch 111/200\n",
      "76539/76539 [==============================] - 5s 62us/step - loss: 0.0424 - acc: 0.9889 - val_loss: 1.8047 - val_acc: 0.6702\n",
      "Epoch 112/200\n",
      "76539/76539 [==============================] - 5s 62us/step - loss: 0.0420 - acc: 0.9889 - val_loss: 1.7907 - val_acc: 0.6695\n",
      "Epoch 113/200\n",
      "76539/76539 [==============================] - 5s 62us/step - loss: 0.0428 - acc: 0.9885 - val_loss: 1.8057 - val_acc: 0.6696\n",
      "Epoch 114/200\n",
      "76539/76539 [==============================] - 5s 65us/step - loss: 0.0424 - acc: 0.9884 - val_loss: 1.7978 - val_acc: 0.6722\n",
      "Epoch 115/200\n",
      "76539/76539 [==============================] - 5s 63us/step - loss: 0.0420 - acc: 0.9885 - val_loss: 1.8093 - val_acc: 0.6721\n",
      "Epoch 116/200\n",
      "76539/76539 [==============================] - 5s 63us/step - loss: 0.0418 - acc: 0.9887 - val_loss: 1.8039 - val_acc: 0.6718\n",
      "Epoch 117/200\n",
      "76539/76539 [==============================] - 5s 67us/step - loss: 0.0416 - acc: 0.9882 - val_loss: 1.8309 - val_acc: 0.6701\n"
     ]
    },
    {
     "name": "stdout",
     "output_type": "stream",
     "text": [
      "Epoch 118/200\n",
      "76539/76539 [==============================] - 5s 62us/step - loss: 0.0409 - acc: 0.9884 - val_loss: 1.8465 - val_acc: 0.6679\n",
      "Epoch 119/200\n",
      "76539/76539 [==============================] - 5s 66us/step - loss: 0.0406 - acc: 0.9882 - val_loss: 1.8379 - val_acc: 0.6677\n",
      "Epoch 120/200\n",
      "76539/76539 [==============================] - 5s 65us/step - loss: 0.0399 - acc: 0.9889 - val_loss: 1.8466 - val_acc: 0.6687\n",
      "Epoch 121/200\n",
      "76539/76539 [==============================] - 5s 63us/step - loss: 0.0390 - acc: 0.9892 - val_loss: 1.8383 - val_acc: 0.6695\n",
      "Epoch 122/200\n",
      "76539/76539 [==============================] - 5s 62us/step - loss: 0.0391 - acc: 0.9888 - val_loss: 1.8143 - val_acc: 0.6724\n",
      "Epoch 123/200\n",
      "76539/76539 [==============================] - 5s 61us/step - loss: 0.0395 - acc: 0.9885 - val_loss: 1.8827 - val_acc: 0.6658\n",
      "Epoch 124/200\n",
      "76539/76539 [==============================] - 5s 62us/step - loss: 0.0387 - acc: 0.9892 - val_loss: 1.8396 - val_acc: 0.6702\n",
      "Epoch 125/200\n",
      "76539/76539 [==============================] - 5s 62us/step - loss: 0.0384 - acc: 0.9889 - val_loss: 1.8576 - val_acc: 0.6678\n",
      "Epoch 126/200\n",
      "76539/76539 [==============================] - 5s 63us/step - loss: 0.0389 - acc: 0.9892 - val_loss: 1.8636 - val_acc: 0.6693\n",
      "Epoch 127/200\n",
      "76539/76539 [==============================] - 5s 61us/step - loss: 0.0388 - acc: 0.9885 - val_loss: 1.8708 - val_acc: 0.6685\n",
      "Epoch 128/200\n",
      "76539/76539 [==============================] - 5s 66us/step - loss: 0.0379 - acc: 0.9886 - val_loss: 1.8739 - val_acc: 0.6665\n",
      "Epoch 129/200\n",
      "76539/76539 [==============================] - 5s 64us/step - loss: 0.0371 - acc: 0.9891 - val_loss: 1.8970 - val_acc: 0.6684\n",
      "Epoch 130/200\n",
      "76539/76539 [==============================] - 5s 62us/step - loss: 0.0370 - acc: 0.9891 - val_loss: 1.9136 - val_acc: 0.6655\n",
      "Epoch 131/200\n",
      "76539/76539 [==============================] - 5s 71us/step - loss: 0.0367 - acc: 0.9894 - val_loss: 1.9230 - val_acc: 0.6639\n",
      "Epoch 132/200\n",
      "76539/76539 [==============================] - 5s 64us/step - loss: 0.0366 - acc: 0.9893 - val_loss: 1.8738 - val_acc: 0.6701\n",
      "Epoch 133/200\n",
      "76539/76539 [==============================] - 5s 68us/step - loss: 0.0359 - acc: 0.9894 - val_loss: 1.9268 - val_acc: 0.6659\n",
      "Epoch 134/200\n",
      "76539/76539 [==============================] - 5s 68us/step - loss: 0.0356 - acc: 0.9895 - val_loss: 1.9074 - val_acc: 0.6673\n",
      "Epoch 135/200\n",
      "76539/76539 [==============================] - 5s 69us/step - loss: 0.0356 - acc: 0.9893 - val_loss: 1.8812 - val_acc: 0.6699\n",
      "Epoch 136/200\n",
      "76539/76539 [==============================] - 6s 73us/step - loss: 0.0356 - acc: 0.9893 - val_loss: 1.9131 - val_acc: 0.6667\n",
      "Epoch 137/200\n",
      "76539/76539 [==============================] - 5s 66us/step - loss: 0.0354 - acc: 0.9892 - val_loss: 1.9095 - val_acc: 0.6691\n",
      "Epoch 138/200\n",
      "76539/76539 [==============================] - 5s 64us/step - loss: 0.0351 - acc: 0.9896 - val_loss: 1.9239 - val_acc: 0.6683\n",
      "Epoch 139/200\n",
      "76539/76539 [==============================] - 5s 70us/step - loss: 0.0353 - acc: 0.9891 - val_loss: 1.9675 - val_acc: 0.6641\n",
      "Epoch 140/200\n",
      "76539/76539 [==============================] - 5s 67us/step - loss: 0.0354 - acc: 0.9893 - val_loss: 1.9148 - val_acc: 0.6695\n",
      "Epoch 141/200\n",
      "76539/76539 [==============================] - 5s 66us/step - loss: 0.0348 - acc: 0.9895 - val_loss: 1.9524 - val_acc: 0.6668\n",
      "Epoch 142/200\n",
      "76539/76539 [==============================] - 5s 65us/step - loss: 0.0348 - acc: 0.9890 - val_loss: 1.9528 - val_acc: 0.6670\n",
      "Epoch 143/200\n",
      "76539/76539 [==============================] - 5s 68us/step - loss: 0.0354 - acc: 0.9890 - val_loss: 1.9312 - val_acc: 0.6682\n",
      "Epoch 144/200\n",
      "76539/76539 [==============================] - 5s 64us/step - loss: 0.0345 - acc: 0.9894 - val_loss: 1.9392 - val_acc: 0.6678\n",
      "Epoch 145/200\n",
      "76539/76539 [==============================] - 5s 64us/step - loss: 0.0336 - acc: 0.9895 - val_loss: 1.9572 - val_acc: 0.6667\n",
      "Epoch 146/200\n",
      "76539/76539 [==============================] - 5s 66us/step - loss: 0.0336 - acc: 0.9894 - val_loss: 1.9664 - val_acc: 0.6663\n",
      "Epoch 147/200\n",
      "76539/76539 [==============================] - 5s 64us/step - loss: 0.0334 - acc: 0.9897 - val_loss: 1.9995 - val_acc: 0.6652\n",
      "Epoch 148/200\n",
      "76539/76539 [==============================] - 5s 64us/step - loss: 0.0337 - acc: 0.9893 - val_loss: 1.9771 - val_acc: 0.6637\n",
      "Epoch 149/200\n",
      "76539/76539 [==============================] - 5s 69us/step - loss: 0.0332 - acc: 0.9896 - val_loss: 1.9493 - val_acc: 0.6708\n",
      "Epoch 150/200\n",
      "76539/76539 [==============================] - 5s 63us/step - loss: 0.0349 - acc: 0.9886 - val_loss: 1.9776 - val_acc: 0.6673\n",
      "Epoch 151/200\n",
      "76539/76539 [==============================] - 5s 62us/step - loss: 0.0330 - acc: 0.9894 - val_loss: 1.9779 - val_acc: 0.6677\n",
      "Epoch 152/200\n",
      "76539/76539 [==============================] - 5s 65us/step - loss: 0.0348 - acc: 0.9890 - val_loss: 1.9564 - val_acc: 0.6700\n",
      "Epoch 153/200\n",
      "76539/76539 [==============================] - 5s 63us/step - loss: 0.0337 - acc: 0.9893 - val_loss: 1.9798 - val_acc: 0.6657\n",
      "Epoch 154/200\n",
      "76539/76539 [==============================] - 5s 70us/step - loss: 0.0331 - acc: 0.9891 - val_loss: 1.9913 - val_acc: 0.6649\n",
      "Epoch 155/200\n",
      "76539/76539 [==============================] - 5s 69us/step - loss: 0.0334 - acc: 0.9895 - val_loss: 1.9958 - val_acc: 0.6646\n",
      "Epoch 156/200\n",
      "76539/76539 [==============================] - 5s 66us/step - loss: 0.0322 - acc: 0.9896 - val_loss: 1.9866 - val_acc: 0.6667\n",
      "Epoch 157/200\n",
      "76539/76539 [==============================] - 5s 67us/step - loss: 0.0321 - acc: 0.9898 - val_loss: 1.9910 - val_acc: 0.6672\n",
      "Epoch 158/200\n",
      "76539/76539 [==============================] - 5s 62us/step - loss: 0.0327 - acc: 0.9894 - val_loss: 2.0021 - val_acc: 0.6662\n",
      "Epoch 159/200\n",
      "76539/76539 [==============================] - 5s 62us/step - loss: 0.0327 - acc: 0.9894 - val_loss: 2.0199 - val_acc: 0.6653\n",
      "Epoch 160/200\n",
      "76539/76539 [==============================] - 5s 64us/step - loss: 0.0323 - acc: 0.9895 - val_loss: 1.9821 - val_acc: 0.6700\n",
      "Epoch 161/200\n",
      "76539/76539 [==============================] - 5s 64us/step - loss: 0.0321 - acc: 0.9894 - val_loss: 1.9924 - val_acc: 0.6691\n",
      "Epoch 162/200\n",
      "76539/76539 [==============================] - 5s 64us/step - loss: 0.0315 - acc: 0.9894 - val_loss: 1.9984 - val_acc: 0.6665\n",
      "Epoch 163/200\n",
      "76539/76539 [==============================] - 5s 63us/step - loss: 0.0317 - acc: 0.9894 - val_loss: 2.0245 - val_acc: 0.6659\n",
      "Epoch 164/200\n",
      "76539/76539 [==============================] - 5s 70us/step - loss: 0.0315 - acc: 0.9897 - val_loss: 2.0258 - val_acc: 0.6652\n",
      "Epoch 165/200\n",
      "76539/76539 [==============================] - 5s 69us/step - loss: 0.0318 - acc: 0.9895 - val_loss: 2.0253 - val_acc: 0.6660\n",
      "Epoch 166/200\n",
      "76539/76539 [==============================] - 5s 65us/step - loss: 0.0320 - acc: 0.9895 - val_loss: 2.0547 - val_acc: 0.6630\n",
      "Epoch 167/200\n",
      "76539/76539 [==============================] - 5s 69us/step - loss: 0.0334 - acc: 0.9893 - val_loss: 2.0039 - val_acc: 0.6668\n",
      "Epoch 168/200\n",
      "76539/76539 [==============================] - 5s 62us/step - loss: 0.0340 - acc: 0.9890 - val_loss: 2.0221 - val_acc: 0.6667\n",
      "Epoch 169/200\n",
      "76539/76539 [==============================] - 5s 64us/step - loss: 0.0355 - acc: 0.9887 - val_loss: 1.9811 - val_acc: 0.6723\n",
      "Epoch 170/200\n",
      "76539/76539 [==============================] - 5s 64us/step - loss: 0.0438 - acc: 0.9865 - val_loss: 2.0084 - val_acc: 0.6707\n",
      "Epoch 171/200\n",
      "76539/76539 [==============================] - 5s 65us/step - loss: 0.0502 - acc: 0.9855 - val_loss: 2.0476 - val_acc: 0.6676\n",
      "Epoch 172/200\n",
      "76539/76539 [==============================] - 5s 64us/step - loss: 0.0532 - acc: 0.9845 - val_loss: 2.0229 - val_acc: 0.6679\n",
      "Epoch 173/200\n",
      "76539/76539 [==============================] - 5s 65us/step - loss: 0.0524 - acc: 0.9851 - val_loss: 2.0070 - val_acc: 0.6711\n",
      "Epoch 174/200\n",
      "76539/76539 [==============================] - 5s 63us/step - loss: 0.0455 - acc: 0.9876 - val_loss: 2.0161 - val_acc: 0.6738\n",
      "Epoch 175/200\n",
      "76539/76539 [==============================] - 5s 72us/step - loss: 0.0404 - acc: 0.9888 - val_loss: 2.0095 - val_acc: 0.6744\n",
      "Epoch 176/200\n"
     ]
    },
    {
     "name": "stdout",
     "output_type": "stream",
     "text": [
      "76539/76539 [==============================] - 5s 69us/step - loss: 0.0379 - acc: 0.9887 - val_loss: 1.9982 - val_acc: 0.6746\n",
      "Epoch 177/200\n",
      "76539/76539 [==============================] - 5s 67us/step - loss: 0.0356 - acc: 0.9893 - val_loss: 1.9769 - val_acc: 0.6750\n",
      "Epoch 178/200\n",
      "76539/76539 [==============================] - 5s 66us/step - loss: 0.0341 - acc: 0.9889 - val_loss: 2.0111 - val_acc: 0.6737\n",
      "Epoch 179/200\n",
      "76539/76539 [==============================] - 5s 63us/step - loss: 0.0324 - acc: 0.9898 - val_loss: 1.9960 - val_acc: 0.6737\n",
      "Epoch 180/200\n",
      "76539/76539 [==============================] - 5s 68us/step - loss: 0.0313 - acc: 0.9896 - val_loss: 2.0129 - val_acc: 0.6722\n",
      "Epoch 181/200\n",
      "76539/76539 [==============================] - 5s 71us/step - loss: 0.0329 - acc: 0.9891 - val_loss: 2.0162 - val_acc: 0.6717\n",
      "Epoch 182/200\n",
      "76539/76539 [==============================] - 5s 70us/step - loss: 0.0308 - acc: 0.9898 - val_loss: 2.0512 - val_acc: 0.6698\n",
      "Epoch 183/200\n",
      "76539/76539 [==============================] - 5s 70us/step - loss: 0.0301 - acc: 0.9897 - val_loss: 2.0516 - val_acc: 0.6698\n",
      "Epoch 184/200\n",
      "76539/76539 [==============================] - 5s 70us/step - loss: 0.0298 - acc: 0.9902 - val_loss: 2.0599 - val_acc: 0.6692\n",
      "Epoch 185/200\n",
      "76539/76539 [==============================] - 5s 64us/step - loss: 0.0304 - acc: 0.9897 - val_loss: 2.0326 - val_acc: 0.6701\n",
      "Epoch 186/200\n",
      "76539/76539 [==============================] - 5s 72us/step - loss: 0.0301 - acc: 0.9898 - val_loss: 2.0517 - val_acc: 0.6693\n",
      "Epoch 187/200\n",
      "76539/76539 [==============================] - 5s 64us/step - loss: 0.0292 - acc: 0.9903 - val_loss: 2.0635 - val_acc: 0.6681\n",
      "Epoch 188/200\n",
      "76539/76539 [==============================] - 5s 66us/step - loss: 0.0297 - acc: 0.9899 - val_loss: 2.0467 - val_acc: 0.6684\n",
      "Epoch 189/200\n",
      "76539/76539 [==============================] - 5s 65us/step - loss: 0.0297 - acc: 0.9898 - val_loss: 2.0691 - val_acc: 0.6671\n",
      "Epoch 190/200\n",
      "76539/76539 [==============================] - 5s 66us/step - loss: 0.0290 - acc: 0.9900 - val_loss: 2.0658 - val_acc: 0.6692\n",
      "Epoch 191/200\n",
      "76539/76539 [==============================] - 5s 63us/step - loss: 0.0296 - acc: 0.9898 - val_loss: 2.0611 - val_acc: 0.6692\n",
      "Epoch 192/200\n",
      "76539/76539 [==============================] - 5s 65us/step - loss: 0.0291 - acc: 0.9899 - val_loss: 2.0724 - val_acc: 0.6686\n",
      "Epoch 193/200\n",
      "76539/76539 [==============================] - 5s 65us/step - loss: 0.0283 - acc: 0.9902 - val_loss: 2.0893 - val_acc: 0.6666\n",
      "Epoch 194/200\n",
      "76539/76539 [==============================] - 5s 66us/step - loss: 0.0284 - acc: 0.9901 - val_loss: 2.0946 - val_acc: 0.6671\n",
      "Epoch 195/200\n",
      "76539/76539 [==============================] - 5s 62us/step - loss: 0.0288 - acc: 0.9900 - val_loss: 2.0796 - val_acc: 0.6681\n",
      "Epoch 196/200\n",
      "76539/76539 [==============================] - 5s 66us/step - loss: 0.0279 - acc: 0.9901 - val_loss: 2.1258 - val_acc: 0.6655\n",
      "Epoch 197/200\n",
      "76539/76539 [==============================] - 5s 66us/step - loss: 0.0282 - acc: 0.9903 - val_loss: 2.0865 - val_acc: 0.6689\n",
      "Epoch 198/200\n",
      "76539/76539 [==============================] - 5s 65us/step - loss: 0.0281 - acc: 0.9900 - val_loss: 2.1217 - val_acc: 0.6641\n",
      "Epoch 199/200\n",
      "76539/76539 [==============================] - 5s 66us/step - loss: 0.0285 - acc: 0.9896 - val_loss: 2.1071 - val_acc: 0.6677\n",
      "Epoch 200/200\n",
      "76539/76539 [==============================] - 5s 68us/step - loss: 0.0278 - acc: 0.9901 - val_loss: 2.1351 - val_acc: 0.6647\n",
      "<Response [200]>\n",
      "CPU times: user 40min 31s, sys: 7min 5s, total: 47min 36s\n",
      "Wall time: 16min 42s\n"
     ]
    }
   ],
   "source": [
    "%%time\n",
    "hist = NN_model_Adam.fit(X_train, Y_train, \n",
    "                              epochs=epochs, batch_size=batch_size, \n",
    "                              validation_data=(X_test, Y_test), \n",
    "                              verbose=1)\n",
    "\n",
    "myslack_incomming.send_slack('Adam finish! dense: {}, lr: {},  val_acc: {} '\n",
    "                             .format(dense,lr,hist.history['val_acc'][-1]))"
   ]
  },
  {
   "cell_type": "markdown",
   "metadata": {},
   "source": [
    "### Confusion Matrix"
   ]
  },
  {
   "cell_type": "code",
   "execution_count": 35,
   "metadata": {},
   "outputs": [
    {
     "data": {
      "text/plain": [
       "array([ 0,  6, 32, ...,  6,  6, 28])"
      ]
     },
     "execution_count": 35,
     "metadata": {},
     "output_type": "execute_result"
    }
   ],
   "source": [
    "Y_test.argmax(axis=1)"
   ]
  },
  {
   "cell_type": "code",
   "execution_count": 36,
   "metadata": {},
   "outputs": [
    {
     "data": {
      "text/plain": [
       "array([[ 642,    0,    1, ...,    1,    0,   29],\n",
       "       [   0,   50,    4, ...,    0,    0,    0],\n",
       "       [   1,    3,  770, ...,    0,    2,    9],\n",
       "       ...,\n",
       "       [   1,    1,   13, ...,   10,    6,    3],\n",
       "       [   0,    0,    3, ...,   11,   24,    1],\n",
       "       [  53,    1,   13, ...,    1,    0, 1500]])"
      ]
     },
     "execution_count": 36,
     "metadata": {},
     "output_type": "execute_result"
    }
   ],
   "source": [
    "y_pred = NN_model_Adam.predict_classes(X_test)\n",
    "confusion_matrix(Y_test.argmax(axis=1), y_pred)"
   ]
  },
  {
   "cell_type": "code",
   "execution_count": 37,
   "metadata": {},
   "outputs": [
    {
     "data": {
      "image/png": "[encoded data removed]",
      "text/plain": [
       "<matplotlib.figure.Figure at 0x12646dc88>"
      ]
     },
     "metadata": {},
     "output_type": "display_data"
    }
   ],
   "source": [
    "plt.plot(hist.history['loss'], 'b-', label=\"training\")\n",
    "plt.plot(hist.history['val_loss'], 'r:', label=\"test\")\n",
    "plt.legend()\n",
    "plt.show()"
   ]
  },
  {
   "cell_type": "code",
   "execution_count": 38,
   "metadata": {
    "scrolled": true
   },
   "outputs": [
    {
     "data": {
      "text/plain": [
       "'val_loss: 2.135098670959971'"
      ]
     },
     "execution_count": 38,
     "metadata": {},
     "output_type": "execute_result"
    }
   ],
   "source": [
    "'val_loss: '+str(hist.history['val_loss'][-1])"
   ]
  },
  {
   "cell_type": "code",
   "execution_count": 39,
   "metadata": {},
   "outputs": [
    {
     "data": {
      "image/png": "[encoded data removed]",
      "text/plain": [
       "<matplotlib.figure.Figure at 0x12622cdd8>"
      ]
     },
     "metadata": {},
     "output_type": "display_data"
    }
   ],
   "source": [
    "plt.plot(hist.history['acc'], 'b-', label=\"training\")\n",
    "plt.plot(hist.history['val_acc'], 'r:', label=\"test\")\n",
    "plt.legend()\n",
    "plt.show()"
   ]
  },
  {
   "cell_type": "code",
   "execution_count": 40,
   "metadata": {},
   "outputs": [
    {
     "data": {
      "text/plain": [
       "'val_acc: 0.6646982031140154'"
      ]
     },
     "execution_count": 40,
     "metadata": {},
     "output_type": "execute_result"
    }
   ],
   "source": [
    "'val_acc: '+str(hist.history['val_acc'][-1])"
   ]
  },
  {
   "cell_type": "markdown",
   "metadata": {},
   "source": [
    "### prediction"
   ]
  },
  {
   "cell_type": "code",
   "execution_count": 41,
   "metadata": {},
   "outputs": [
    {
     "data": {
      "text/plain": [
       "array([[1.2089197e-09, 2.0131631e-15, 1.6364732e-13, ..., 7.2006501e-14,\n",
       "        2.0836043e-10, 5.7538920e-05],\n",
       "       [3.0320177e-11, 1.8701259e-25, 2.0520984e-18, ..., 1.2581283e-16,\n",
       "        2.3690112e-11, 1.9440484e-14],\n",
       "       [6.4366561e-09, 5.2226441e-09, 8.1764142e-09, ..., 1.0025821e-13,\n",
       "        5.6351299e-11, 2.6507832e-06],\n",
       "       ...,\n",
       "       [9.3903309e-06, 3.6602496e-06, 4.6151545e-05, ..., 9.8783528e-07,\n",
       "        5.1633842e-06, 2.1330957e-04],\n",
       "       [8.9475227e-19, 9.7932412e-36, 1.0395678e-17, ..., 3.1487583e-26,\n",
       "        1.0456165e-18, 1.9727319e-23],\n",
       "       [7.7195085e-15, 3.9071495e-30, 3.3775608e-18, ..., 8.9605318e-14,\n",
       "        9.9120616e-06, 5.8330335e-17]], dtype=float32)"
      ]
     },
     "execution_count": 41,
     "metadata": {},
     "output_type": "execute_result"
    }
   ],
   "source": [
    "result = NN_model_Adam.predict_proba(csr_test)\n",
    "result"
   ]
  },
  {
   "cell_type": "markdown",
   "metadata": {},
   "source": [
    "### Make Submission CSV file"
   ]
  },
  {
   "cell_type": "code",
   "execution_count": 42,
   "metadata": {},
   "outputs": [
    {
     "data": {
      "text/html": [
       "<div>\n",
       "<style scoped>\n",
       "    .dataframe tbody tr th:only-of-type {\n",
       "        vertical-align: middle;\n",
       "    }\n",
       "\n",
       "    .dataframe tbody tr th {\n",
       "        vertical-align: top;\n",
       "    }\n",
       "\n",
       "    .dataframe thead th {\n",
       "        text-align: right;\n",
       "    }\n",
       "</style>\n",
       "<table border=\"1\" class=\"dataframe\">\n",
       "  <thead>\n",
       "    <tr style=\"text-align: right;\">\n",
       "      <th></th>\n",
       "      <th>TripType_3</th>\n",
       "      <th>TripType_4</th>\n",
       "      <th>TripType_5</th>\n",
       "      <th>TripType_6</th>\n",
       "      <th>TripType_7</th>\n",
       "      <th>TripType_8</th>\n",
       "      <th>TripType_9</th>\n",
       "      <th>TripType_12</th>\n",
       "      <th>TripType_14</th>\n",
       "      <th>TripType_15</th>\n",
       "      <th>TripType_18</th>\n",
       "      <th>TripType_19</th>\n",
       "      <th>...</th>\n",
       "      <th>TripType_34</th>\n",
       "      <th>TripType_35</th>\n",
       "      <th>TripType_36</th>\n",
       "      <th>TripType_37</th>\n",
       "      <th>TripType_38</th>\n",
       "      <th>TripType_39</th>\n",
       "      <th>TripType_40</th>\n",
       "      <th>TripType_41</th>\n",
       "      <th>TripType_42</th>\n",
       "      <th>TripType_43</th>\n",
       "      <th>TripType_44</th>\n",
       "      <th>TripType_999</th>\n",
       "    </tr>\n",
       "    <tr>\n",
       "      <th>VisitNumber</th>\n",
       "      <th></th>\n",
       "      <th></th>\n",
       "      <th></th>\n",
       "      <th></th>\n",
       "      <th></th>\n",
       "      <th></th>\n",
       "      <th></th>\n",
       "      <th></th>\n",
       "      <th></th>\n",
       "      <th></th>\n",
       "      <th></th>\n",
       "      <th></th>\n",
       "      <th></th>\n",
       "      <th></th>\n",
       "      <th></th>\n",
       "      <th></th>\n",
       "      <th></th>\n",
       "      <th></th>\n",
       "      <th></th>\n",
       "      <th></th>\n",
       "      <th></th>\n",
       "      <th></th>\n",
       "      <th></th>\n",
       "      <th></th>\n",
       "      <th></th>\n",
       "    </tr>\n",
       "  </thead>\n",
       "  <tbody>\n",
       "    <tr>\n",
       "      <th>191338</th>\n",
       "      <td>1.730229e-13</td>\n",
       "      <td>2.425841e-21</td>\n",
       "      <td>8.429140e-12</td>\n",
       "      <td>1.941777e-18</td>\n",
       "      <td>1.777411e-14</td>\n",
       "      <td>1.059953e-21</td>\n",
       "      <td>0.000000e+00</td>\n",
       "      <td>2.176596e-11</td>\n",
       "      <td>1.356109e-15</td>\n",
       "      <td>2.683029e-15</td>\n",
       "      <td>2.597601e-11</td>\n",
       "      <td>1.767230e-14</td>\n",
       "      <td>...</td>\n",
       "      <td>3.139897e-08</td>\n",
       "      <td>3.088410e-04</td>\n",
       "      <td>1.768995e-05</td>\n",
       "      <td>6.381227e-10</td>\n",
       "      <td>3.479142e-09</td>\n",
       "      <td>7.997314e-02</td>\n",
       "      <td>1.686088e-02</td>\n",
       "      <td>5.442490e-16</td>\n",
       "      <td>2.577574e-18</td>\n",
       "      <td>6.002039e-23</td>\n",
       "      <td>1.206902e-17</td>\n",
       "      <td>6.795739e-20</td>\n",
       "    </tr>\n",
       "    <tr>\n",
       "      <th>191339</th>\n",
       "      <td>1.388900e-04</td>\n",
       "      <td>3.338453e-16</td>\n",
       "      <td>1.455766e-09</td>\n",
       "      <td>2.772955e-11</td>\n",
       "      <td>6.293660e-12</td>\n",
       "      <td>5.525852e-22</td>\n",
       "      <td>2.371358e-16</td>\n",
       "      <td>5.152682e-08</td>\n",
       "      <td>1.835849e-10</td>\n",
       "      <td>1.314726e-06</td>\n",
       "      <td>2.229205e-06</td>\n",
       "      <td>5.159717e-07</td>\n",
       "      <td>...</td>\n",
       "      <td>2.941609e-09</td>\n",
       "      <td>5.837240e-04</td>\n",
       "      <td>1.229384e-04</td>\n",
       "      <td>6.335146e-06</td>\n",
       "      <td>7.247067e-01</td>\n",
       "      <td>1.625225e-05</td>\n",
       "      <td>1.568347e-02</td>\n",
       "      <td>1.201895e-05</td>\n",
       "      <td>9.987507e-06</td>\n",
       "      <td>2.281035e-03</td>\n",
       "      <td>1.444809e-04</td>\n",
       "      <td>6.028037e-12</td>\n",
       "    </tr>\n",
       "    <tr>\n",
       "      <th>191340</th>\n",
       "      <td>9.390331e-06</td>\n",
       "      <td>3.660250e-06</td>\n",
       "      <td>4.615154e-05</td>\n",
       "      <td>1.156958e-03</td>\n",
       "      <td>3.630771e-04</td>\n",
       "      <td>3.444595e-03</td>\n",
       "      <td>5.511248e-06</td>\n",
       "      <td>1.171573e-04</td>\n",
       "      <td>6.150435e-06</td>\n",
       "      <td>7.940399e-04</td>\n",
       "      <td>9.242965e-06</td>\n",
       "      <td>4.602914e-06</td>\n",
       "      <td>...</td>\n",
       "      <td>2.090776e-03</td>\n",
       "      <td>9.773116e-01</td>\n",
       "      <td>5.108481e-03</td>\n",
       "      <td>2.193251e-03</td>\n",
       "      <td>5.712534e-04</td>\n",
       "      <td>2.797878e-03</td>\n",
       "      <td>2.691462e-05</td>\n",
       "      <td>5.111526e-07</td>\n",
       "      <td>1.079574e-06</td>\n",
       "      <td>9.878353e-07</td>\n",
       "      <td>5.163384e-06</td>\n",
       "      <td>2.133096e-04</td>\n",
       "    </tr>\n",
       "    <tr>\n",
       "      <th>191341</th>\n",
       "      <td>8.947523e-19</td>\n",
       "      <td>9.793241e-36</td>\n",
       "      <td>1.039568e-17</td>\n",
       "      <td>1.069797e-17</td>\n",
       "      <td>3.261707e-14</td>\n",
       "      <td>0.000000e+00</td>\n",
       "      <td>0.000000e+00</td>\n",
       "      <td>3.246382e-11</td>\n",
       "      <td>5.188666e-21</td>\n",
       "      <td>1.683380e-06</td>\n",
       "      <td>1.167836e-11</td>\n",
       "      <td>5.103340e-19</td>\n",
       "      <td>...</td>\n",
       "      <td>3.370024e-14</td>\n",
       "      <td>1.843260e-03</td>\n",
       "      <td>1.201489e-13</td>\n",
       "      <td>3.917889e-06</td>\n",
       "      <td>8.603221e-08</td>\n",
       "      <td>3.466093e-11</td>\n",
       "      <td>7.090525e-02</td>\n",
       "      <td>1.617062e-19</td>\n",
       "      <td>5.944025e-29</td>\n",
       "      <td>3.148758e-26</td>\n",
       "      <td>1.045616e-18</td>\n",
       "      <td>1.972732e-23</td>\n",
       "    </tr>\n",
       "    <tr>\n",
       "      <th>191348</th>\n",
       "      <td>7.719508e-15</td>\n",
       "      <td>3.907150e-30</td>\n",
       "      <td>3.377561e-18</td>\n",
       "      <td>2.685287e-25</td>\n",
       "      <td>2.499538e-17</td>\n",
       "      <td>0.000000e+00</td>\n",
       "      <td>8.235152e-26</td>\n",
       "      <td>1.569394e-10</td>\n",
       "      <td>3.886438e-17</td>\n",
       "      <td>2.713177e-13</td>\n",
       "      <td>4.311670e-10</td>\n",
       "      <td>2.178945e-11</td>\n",
       "      <td>...</td>\n",
       "      <td>4.495937e-14</td>\n",
       "      <td>2.538578e-19</td>\n",
       "      <td>6.435293e-11</td>\n",
       "      <td>5.062590e-10</td>\n",
       "      <td>4.205940e-07</td>\n",
       "      <td>3.872478e-12</td>\n",
       "      <td>3.013779e-08</td>\n",
       "      <td>1.376041e-06</td>\n",
       "      <td>4.465802e-14</td>\n",
       "      <td>8.960532e-14</td>\n",
       "      <td>9.912062e-06</td>\n",
       "      <td>5.833033e-17</td>\n",
       "    </tr>\n",
       "  </tbody>\n",
       "</table>\n",
       "<p>5 rows × 38 columns</p>\n",
       "</div>"
      ],
      "text/plain": [
       "               TripType_3    TripType_4    TripType_5    TripType_6  \\\n",
       "VisitNumber                                                           \n",
       "191338       1.730229e-13  2.425841e-21  8.429140e-12  1.941777e-18   \n",
       "191339       1.388900e-04  3.338453e-16  1.455766e-09  2.772955e-11   \n",
       "191340       9.390331e-06  3.660250e-06  4.615154e-05  1.156958e-03   \n",
       "191341       8.947523e-19  9.793241e-36  1.039568e-17  1.069797e-17   \n",
       "191348       7.719508e-15  3.907150e-30  3.377561e-18  2.685287e-25   \n",
       "\n",
       "               TripType_7    TripType_8    TripType_9   TripType_12  \\\n",
       "VisitNumber                                                           \n",
       "191338       1.777411e-14  1.059953e-21  0.000000e+00  2.176596e-11   \n",
       "191339       6.293660e-12  5.525852e-22  2.371358e-16  5.152682e-08   \n",
       "191340       3.630771e-04  3.444595e-03  5.511248e-06  1.171573e-04   \n",
       "191341       3.261707e-14  0.000000e+00  0.000000e+00  3.246382e-11   \n",
       "191348       2.499538e-17  0.000000e+00  8.235152e-26  1.569394e-10   \n",
       "\n",
       "              TripType_14   TripType_15   TripType_18   TripType_19  \\\n",
       "VisitNumber                                                           \n",
       "191338       1.356109e-15  2.683029e-15  2.597601e-11  1.767230e-14   \n",
       "191339       1.835849e-10  1.314726e-06  2.229205e-06  5.159717e-07   \n",
       "191340       6.150435e-06  7.940399e-04  9.242965e-06  4.602914e-06   \n",
       "191341       5.188666e-21  1.683380e-06  1.167836e-11  5.103340e-19   \n",
       "191348       3.886438e-17  2.713177e-13  4.311670e-10  2.178945e-11   \n",
       "\n",
       "                 ...        TripType_34   TripType_35   TripType_36  \\\n",
       "VisitNumber      ...                                                  \n",
       "191338           ...       3.139897e-08  3.088410e-04  1.768995e-05   \n",
       "191339           ...       2.941609e-09  5.837240e-04  1.229384e-04   \n",
       "191340           ...       2.090776e-03  9.773116e-01  5.108481e-03   \n",
       "191341           ...       3.370024e-14  1.843260e-03  1.201489e-13   \n",
       "191348           ...       4.495937e-14  2.538578e-19  6.435293e-11   \n",
       "\n",
       "              TripType_37   TripType_38   TripType_39   TripType_40  \\\n",
       "VisitNumber                                                           \n",
       "191338       6.381227e-10  3.479142e-09  7.997314e-02  1.686088e-02   \n",
       "191339       6.335146e-06  7.247067e-01  1.625225e-05  1.568347e-02   \n",
       "191340       2.193251e-03  5.712534e-04  2.797878e-03  2.691462e-05   \n",
       "191341       3.917889e-06  8.603221e-08  3.466093e-11  7.090525e-02   \n",
       "191348       5.062590e-10  4.205940e-07  3.872478e-12  3.013779e-08   \n",
       "\n",
       "              TripType_41   TripType_42   TripType_43   TripType_44  \\\n",
       "VisitNumber                                                           \n",
       "191338       5.442490e-16  2.577574e-18  6.002039e-23  1.206902e-17   \n",
       "191339       1.201895e-05  9.987507e-06  2.281035e-03  1.444809e-04   \n",
       "191340       5.111526e-07  1.079574e-06  9.878353e-07  5.163384e-06   \n",
       "191341       1.617062e-19  5.944025e-29  3.148758e-26  1.045616e-18   \n",
       "191348       1.376041e-06  4.465802e-14  8.960532e-14  9.912062e-06   \n",
       "\n",
       "             TripType_999  \n",
       "VisitNumber                \n",
       "191338       6.795739e-20  \n",
       "191339       6.028037e-12  \n",
       "191340       2.133096e-04  \n",
       "191341       1.972732e-23  \n",
       "191348       5.833033e-17  \n",
       "\n",
       "[5 rows x 38 columns]"
      ]
     },
     "execution_count": 42,
     "metadata": {},
     "output_type": "execute_result"
    }
   ],
   "source": [
    "subform_df_columns = samplesub.columns[1:]\n",
    "result_df = pd.DataFrame(result)\n",
    "result_df.columns = subform_df_columns\n",
    "subform_df = pd.concat([test.reset_index()['VisitNumber'],result_df],axis=1)\n",
    "subform_df.set_index('VisitNumber',inplace=True)\n",
    "subform_df.tail()"
   ]
  },
  {
   "cell_type": "code",
   "execution_count": 43,
   "metadata": {},
   "outputs": [],
   "source": [
    "subform_df.to_csv('./NN/Adam_cat_cro_den{}_lr{}_epo{}_batch_size{}.csv'\n",
    "                  .format(dense,lr,epochs,batch_size))"
   ]
  },
  {
   "cell_type": "code",
   "execution_count": null,
   "metadata": {},
   "outputs": [],
   "source": []
  },
  {
   "cell_type": "markdown",
   "metadata": {},
   "source": [
    "## 모델저장"
   ]
  },
  {
   "cell_type": "code",
   "execution_count": 177,
   "metadata": {},
   "outputs": [],
   "source": [
    "NN_model_Adadelta.save('./NN/Adam_cat_cro_den{}_lr{}_epo{}_basi{}.hdf5'.format(dense,lr,epochs,batch_size))"
   ]
  },
  {
   "cell_type": "code",
   "execution_count": 178,
   "metadata": {},
   "outputs": [],
   "source": [
    "model = load_model('./NN/Adam_cat_cro_den{}_lr{}_epo{}_basi{}.hdf5'.format(dense,lr,epochs,batch_size))"
   ]
  },
  {
   "cell_type": "code",
   "execution_count": 179,
   "metadata": {
    "scrolled": true
   },
   "outputs": [
    {
     "data": {
      "text/plain": [
       "array([24, 32,  5, ..., 31,  0, 37])"
      ]
     },
     "execution_count": 179,
     "metadata": {},
     "output_type": "execute_result"
    }
   ],
   "source": [
    "model.predict_classes(X_test)"
   ]
  },
  {
   "cell_type": "code",
   "execution_count": null,
   "metadata": {},
   "outputs": [],
   "source": []
  }
 ],
 "metadata": {
  "kernelspec": {
   "display_name": "Python 3",
   "language": "python",
   "name": "python3"
  },
  "language_info": {
   "codemirror_mode": {
    "name": "ipython",
    "version": 3
   },
   "file_extension": ".py",
   "mimetype": "text/x-python",
   "name": "python",
   "nbconvert_exporter": "python",
   "pygments_lexer": "ipython3",
   "version": "3.6.4"
  }
 },
 "nbformat": 4,
 "nbformat_minor": 2
}
