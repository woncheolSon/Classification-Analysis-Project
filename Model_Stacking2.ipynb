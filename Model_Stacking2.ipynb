{
 "cells": [
  {
   "cell_type": "code",
   "execution_count": 27,
   "metadata": {},
   "outputs": [],
   "source": [
    "import pickle\n",
    "import time\n",
    "import myslack\n",
    "\n",
    "import lightgbm\n",
    "from sklearn.svm import SVC\n",
    "from scipy.sparse import csr_matrix\n",
    "from sklearn.model_selection import train_test_split, cross_val_score\n",
    "from sklearn.metrics import classification_report, accuracy_score, confusion_matrix\n",
    "from sklearn.externals import joblib\n",
    "from mlxtend.classifier import StackingClassifier\n",
    "from mlxtend.feature_selection import ColumnSelector\n",
    "from vecstack import stacking\n",
    "from vecstack import StackingTransformer"
   ]
  },
  {
   "cell_type": "markdown",
   "metadata": {},
   "source": [
    "#### - train.csv"
   ]
  },
  {
   "cell_type": "code",
   "execution_count": 2,
   "metadata": {
    "scrolled": true
   },
   "outputs": [
    {
     "name": "stdout",
     "output_type": "stream",
     "text": [
      "test data shape: (95674, 5166)\n",
      "CPU times: user 188 ms, sys: 483 ms, total: 671 ms\n",
      "Wall time: 716 ms\n"
     ]
    }
   ],
   "source": [
    "%%time\n",
    "train = pickle.load(open(\"./data/my_train.pkl\", \"rb\"))\n",
    "print(\"test data shape: \"+str(train.shape))"
   ]
  },
  {
   "cell_type": "code",
   "execution_count": 3,
   "metadata": {},
   "outputs": [
    {
     "data": {
      "text/plain": [
       "(95674, 5166)"
      ]
     },
     "execution_count": 3,
     "metadata": {},
     "output_type": "execute_result"
    }
   ],
   "source": [
    "train.shape"
   ]
  },
  {
   "cell_type": "markdown",
   "metadata": {},
   "source": [
    "#### - test.csv"
   ]
  },
  {
   "cell_type": "code",
   "execution_count": 4,
   "metadata": {},
   "outputs": [
    {
     "name": "stdout",
     "output_type": "stream",
     "text": [
      "test data shape: (95674, 5165)\n",
      "CPU times: user 204 ms, sys: 598 ms, total: 802 ms\n",
      "Wall time: 929 ms\n"
     ]
    }
   ],
   "source": [
    "%%time\n",
    "test = pickle.load(open(\"./data/my_test.pkl\", \"rb\"))\n",
    "print(\"test data shape: \"+str(test.shape))"
   ]
  },
  {
   "cell_type": "code",
   "execution_count": 5,
   "metadata": {},
   "outputs": [
    {
     "data": {
      "text/plain": [
       "(95674, 5165)"
      ]
     },
     "execution_count": 5,
     "metadata": {},
     "output_type": "execute_result"
    }
   ],
   "source": [
    "test.shape"
   ]
  },
  {
   "cell_type": "markdown",
   "metadata": {},
   "source": [
    "---"
   ]
  },
  {
   "cell_type": "markdown",
   "metadata": {},
   "source": [
    "# Stacking(Ensemble)"
   ]
  },
  {
   "cell_type": "markdown",
   "metadata": {},
   "source": [
    "# mlxtend"
   ]
  },
  {
   "cell_type": "code",
   "execution_count": 17,
   "metadata": {},
   "outputs": [],
   "source": [
    "best_RandomForest_model = joblib.load('./RandomForest/RandomForest_model.pkl') \n",
    "best_lgbm_model = joblib.load('./LightGBM/Best_lightgbm_est300_dep25.pkl')"
   ]
  },
  {
   "cell_type": "markdown",
   "metadata": {},
   "source": [
    "### Train_X, Train_y"
   ]
  },
  {
   "cell_type": "code",
   "execution_count": 7,
   "metadata": {},
   "outputs": [],
   "source": [
    "X = train.drop(columns='TripType')\n",
    "y = train['TripType']"
   ]
  },
  {
   "cell_type": "code",
   "execution_count": 8,
   "metadata": {},
   "outputs": [
    {
     "name": "stdout",
     "output_type": "stream",
     "text": [
      "CPU times: user 9.8 s, sys: 1.59 s, total: 11.4 s\n",
      "Wall time: 11.6 s\n"
     ]
    }
   ],
   "source": [
    "%time csr_X = csr_matrix(X); csr_X"
   ]
  },
  {
   "cell_type": "code",
   "execution_count": 9,
   "metadata": {},
   "outputs": [
    {
     "name": "stdout",
     "output_type": "stream",
     "text": [
      "CPU times: user 9.58 s, sys: 1.71 s, total: 11.3 s\n",
      "Wall time: 11.4 s\n"
     ]
    }
   ],
   "source": [
    "%time csr_test = csr_matrix(test); csr_test"
   ]
  },
  {
   "cell_type": "code",
   "execution_count": 34,
   "metadata": {},
   "outputs": [],
   "source": [
    "sclf = StackingClassifier(classifiers=[best_RandomForest_model], \n",
    "                          meta_classifier=best_lgbm_model,\n",
    "                          verbose=2)"
   ]
  },
  {
   "cell_type": "code",
   "execution_count": 35,
   "metadata": {},
   "outputs": [
    {
     "name": "stdout",
     "output_type": "stream",
     "text": [
      "Fitting 1 classifiers...\n",
      "Fitting classifier1: randomforestclassifier (1/1)\n",
      "RandomForestClassifier(bootstrap=True, class_weight=None, criterion='gini',\n",
      "            max_depth=80, max_features='auto', max_leaf_nodes=None,\n",
      "            min_impurity_decrease=0.0, min_impurity_split=None,\n",
      "            min_samples_leaf=1, min_samples_split=2,\n",
      "            min_weight_fraction_leaf=0.0, n_estimators=200, n_jobs=6,\n",
      "            oob_score=False, random_state=0, verbose=0, warm_start=False)\n",
      "CPU times: user 17min 34s, sys: 55.3 s, total: 18min 29s\n",
      "Wall time: 3min 52s\n"
     ]
    }
   ],
   "source": [
    "%time sclf_model = sclf.fit(csr_X, y)"
   ]
  },
  {
   "cell_type": "code",
   "execution_count": 36,
   "metadata": {},
   "outputs": [
    {
     "name": "stdout",
     "output_type": "stream",
     "text": [
      "<Response [200]>\n"
     ]
    }
   ],
   "source": [
    "myslack.send_slack('best_RandomForest_model Stacking finish!!')"
   ]
  },
  {
   "cell_type": "markdown",
   "metadata": {},
   "source": [
    "### Confusion Matrix"
   ]
  },
  {
   "cell_type": "code",
   "execution_count": 37,
   "metadata": {
    "scrolled": true
   },
   "outputs": [
    {
     "name": "stderr",
     "output_type": "stream",
     "text": [
      "/Library/Frameworks/Python.framework/Versions/3.6/lib/python3.6/site-packages/sklearn/preprocessing/label.py:151: DeprecationWarning: The truth value of an empty array is ambiguous. Returning False, but in future this will result in an error. Use `array.size > 0` to check that an array is not empty.\n",
      "  if diff:\n"
     ]
    },
    {
     "data": {
      "text/plain": [
       "array([[3596,    0,    0, ...,    0,    0,   46],\n",
       "       [   0,  318,   26, ...,    0,    0,    0],\n",
       "       [   0,    0, 4593, ...,    0,    0,    0],\n",
       "       ...,\n",
       "       [   0,    0,    0, ...,  872,    0,    0],\n",
       "       [   0,    0,    0, ...,    0, 1187,    0],\n",
       "       [ 250,    2,   24, ...,    0,    0, 7938]])"
      ]
     },
     "execution_count": 37,
     "metadata": {},
     "output_type": "execute_result"
    }
   ],
   "source": [
    "confusion_matrix(y, sclf_model.predict(csr_X))"
   ]
  },
  {
   "cell_type": "markdown",
   "metadata": {},
   "source": [
    "### Accuracy Score"
   ]
  },
  {
   "cell_type": "code",
   "execution_count": 38,
   "metadata": {},
   "outputs": [
    {
     "name": "stderr",
     "output_type": "stream",
     "text": [
      "/Library/Frameworks/Python.framework/Versions/3.6/lib/python3.6/site-packages/sklearn/preprocessing/label.py:151: DeprecationWarning: The truth value of an empty array is ambiguous. Returning False, but in future this will result in an error. Use `array.size > 0` to check that an array is not empty.\n",
      "  if diff:\n"
     ]
    },
    {
     "data": {
      "text/plain": [
       "0.9818236929573343"
      ]
     },
     "execution_count": 38,
     "metadata": {},
     "output_type": "execute_result"
    }
   ],
   "source": [
    "accuracy_score(y, sclf_model.predict(csr_X))"
   ]
  },
  {
   "cell_type": "markdown",
   "metadata": {},
   "source": [
    "### Train Test Split"
   ]
  },
  {
   "cell_type": "code",
   "execution_count": 30,
   "metadata": {},
   "outputs": [
    {
     "data": {
      "text/plain": [
       "(86106, 9568, 86106, 9568)"
      ]
     },
     "execution_count": 30,
     "metadata": {},
     "output_type": "execute_result"
    }
   ],
   "source": [
    "X_train, X_test, y_train, y_test = train_test_split(csr_X, y, test_size=0.1, random_state=0)\n",
    "\n",
    "X_train.shape[0], X_test.shape[0], len(y_train), len(y_test)"
   ]
  },
  {
   "cell_type": "code",
   "execution_count": 39,
   "metadata": {},
   "outputs": [
    {
     "name": "stdout",
     "output_type": "stream",
     "text": [
      "CPU times: user 14.8 s, sys: 215 ms, total: 15 s\n",
      "Wall time: 2.83 s\n"
     ]
    },
    {
     "name": "stderr",
     "output_type": "stream",
     "text": [
      "/Library/Frameworks/Python.framework/Versions/3.6/lib/python3.6/site-packages/sklearn/preprocessing/label.py:151: DeprecationWarning: The truth value of an empty array is ambiguous. Returning False, but in future this will result in an error. Use `array.size > 0` to check that an array is not empty.\n",
      "  if diff:\n"
     ]
    }
   ],
   "source": [
    "%%time\n",
    "y_pred = sclf_model.predict(X_test)"
   ]
  },
  {
   "cell_type": "code",
   "execution_count": 40,
   "metadata": {
    "scrolled": false
   },
   "outputs": [
    {
     "name": "stdout",
     "output_type": "stream",
     "text": [
      "             precision    recall  f1-score   support\n",
      "\n",
      "          3       0.92      0.99      0.95       405\n",
      "          4       1.00      0.94      0.97        35\n",
      "          5       0.98      1.00      0.99       455\n",
      "          6       1.00      1.00      1.00       143\n",
      "          7       1.00      0.98      0.99       631\n",
      "          8       0.97      1.00      0.98      1184\n",
      "          9       0.91      0.99      0.95       909\n",
      "         12       1.00      1.00      1.00        23\n",
      "         15       1.00      0.98      0.99        86\n",
      "         18       1.00      0.91      0.96        47\n",
      "         19       1.00      0.81      0.89        31\n",
      "         20       1.00      0.94      0.97        71\n",
      "         21       1.00      0.95      0.97        60\n",
      "         22       1.00      0.93      0.97        90\n",
      "         23       1.00      0.89      0.94        19\n",
      "         24       1.00      0.98      0.99       247\n",
      "         25       1.00      0.98      0.99       382\n",
      "         26       1.00      0.91      0.95        53\n",
      "         27       1.00      0.92      0.96        86\n",
      "         28       1.00      0.90      0.95        49\n",
      "         29       1.00      0.88      0.94        34\n",
      "         30       1.00      0.89      0.94       102\n",
      "         31       0.97      0.98      0.98        61\n",
      "         32       1.00      0.97      0.99       189\n",
      "         33       1.00      1.00      1.00       122\n",
      "         34       1.00      0.96      0.98        81\n",
      "         35       1.00      0.99      0.99       186\n",
      "         36       1.00      0.98      0.99       293\n",
      "         37       1.00      1.00      1.00       289\n",
      "         38       1.00      0.99      1.00       298\n",
      "         39       1.00      1.00      1.00      1015\n",
      "         40       1.00      1.00      1.00       623\n",
      "         41       1.00      1.00      1.00        64\n",
      "         42       1.00      0.99      1.00       172\n",
      "         43       1.00      1.00      1.00        75\n",
      "         44       1.00      1.00      1.00       117\n",
      "        999       0.99      0.92      0.96       841\n",
      "\n",
      "avg / total       0.98      0.98      0.98      9568\n",
      "\n"
     ]
    }
   ],
   "source": [
    "print(classification_report(y_test, y_pred))"
   ]
  },
  {
   "cell_type": "markdown",
   "metadata": {},
   "source": [
    "## 모델 저장"
   ]
  },
  {
   "cell_type": "code",
   "execution_count": 41,
   "metadata": {},
   "outputs": [],
   "source": [
    "from sklearn.externals import joblib\n",
    "\n",
    "joblib.dump(sclf_model, './Stacking/RF_lgbm_sclf_model_2.pkl') \n",
    "my_sclf_model = joblib.load('./Stacking/RF_lgbm_sclf_model_2.pkl') "
   ]
  },
  {
   "cell_type": "markdown",
   "metadata": {},
   "source": [
    "---"
   ]
  },
  {
   "cell_type": "markdown",
   "metadata": {},
   "source": [
    "# Predict"
   ]
  },
  {
   "cell_type": "code",
   "execution_count": 42,
   "metadata": {
    "scrolled": false
   },
   "outputs": [
    {
     "name": "stdout",
     "output_type": "stream",
     "text": [
      "CPU times: user 3min 26s, sys: 6.26 s, total: 3min 32s\n",
      "Wall time: 42.5 s\n"
     ]
    }
   ],
   "source": [
    "%time result = my_sclf_model.predict_proba(csr_test)"
   ]
  },
  {
   "cell_type": "markdown",
   "metadata": {},
   "source": [
    "### Make Submission CSV file"
   ]
  },
  {
   "cell_type": "code",
   "execution_count": 43,
   "metadata": {},
   "outputs": [
    {
     "data": {
      "text/html": [
       "<div>\n",
       "<style scoped>\n",
       "    .dataframe tbody tr th:only-of-type {\n",
       "        vertical-align: middle;\n",
       "    }\n",
       "\n",
       "    .dataframe tbody tr th {\n",
       "        vertical-align: top;\n",
       "    }\n",
       "\n",
       "    .dataframe thead th {\n",
       "        text-align: right;\n",
       "    }\n",
       "</style>\n",
       "<table border=\"1\" class=\"dataframe\">\n",
       "  <thead>\n",
       "    <tr style=\"text-align: right;\">\n",
       "      <th></th>\n",
       "      <th>TripType_3</th>\n",
       "      <th>TripType_4</th>\n",
       "      <th>TripType_5</th>\n",
       "      <th>TripType_6</th>\n",
       "      <th>TripType_7</th>\n",
       "      <th>TripType_8</th>\n",
       "      <th>TripType_9</th>\n",
       "      <th>TripType_12</th>\n",
       "      <th>TripType_14</th>\n",
       "      <th>TripType_15</th>\n",
       "      <th>...</th>\n",
       "      <th>TripType_36</th>\n",
       "      <th>TripType_37</th>\n",
       "      <th>TripType_38</th>\n",
       "      <th>TripType_39</th>\n",
       "      <th>TripType_40</th>\n",
       "      <th>TripType_41</th>\n",
       "      <th>TripType_42</th>\n",
       "      <th>TripType_43</th>\n",
       "      <th>TripType_44</th>\n",
       "      <th>TripType_999</th>\n",
       "    </tr>\n",
       "    <tr>\n",
       "      <th>VisitNumber</th>\n",
       "      <th></th>\n",
       "      <th></th>\n",
       "      <th></th>\n",
       "      <th></th>\n",
       "      <th></th>\n",
       "      <th></th>\n",
       "      <th></th>\n",
       "      <th></th>\n",
       "      <th></th>\n",
       "      <th></th>\n",
       "      <th></th>\n",
       "      <th></th>\n",
       "      <th></th>\n",
       "      <th></th>\n",
       "      <th></th>\n",
       "      <th></th>\n",
       "      <th></th>\n",
       "      <th></th>\n",
       "      <th></th>\n",
       "      <th></th>\n",
       "      <th></th>\n",
       "    </tr>\n",
       "  </thead>\n",
       "  <tbody>\n",
       "    <tr>\n",
       "      <th>191338</th>\n",
       "      <td>1.996101e-09</td>\n",
       "      <td>3.478235e-10</td>\n",
       "      <td>2.218397e-10</td>\n",
       "      <td>3.478789e-10</td>\n",
       "      <td>1.904548e-09</td>\n",
       "      <td>1.905029e-09</td>\n",
       "      <td>3.648428e-09</td>\n",
       "      <td>1.046096e-09</td>\n",
       "      <td>4.410683e-10</td>\n",
       "      <td>1.245966e-09</td>\n",
       "      <td>...</td>\n",
       "      <td>4.253862e-10</td>\n",
       "      <td>3.840913e-10</td>\n",
       "      <td>1.904090e-09</td>\n",
       "      <td>1.000000e+00</td>\n",
       "      <td>2.217195e-10</td>\n",
       "      <td>1.461902e-09</td>\n",
       "      <td>1.345084e-09</td>\n",
       "      <td>2.007288e-10</td>\n",
       "      <td>2.007288e-10</td>\n",
       "      <td>4.234061e-09</td>\n",
       "    </tr>\n",
       "    <tr>\n",
       "      <th>191339</th>\n",
       "      <td>1.410461e-08</td>\n",
       "      <td>2.457749e-09</td>\n",
       "      <td>1.567537e-09</td>\n",
       "      <td>2.458141e-09</td>\n",
       "      <td>2.109000e-08</td>\n",
       "      <td>2.103141e-08</td>\n",
       "      <td>7.372441e-08</td>\n",
       "      <td>7.391800e-09</td>\n",
       "      <td>3.116624e-09</td>\n",
       "      <td>8.804098e-09</td>\n",
       "      <td>...</td>\n",
       "      <td>4.549132e-09</td>\n",
       "      <td>1.323542e-09</td>\n",
       "      <td>3.155806e-09</td>\n",
       "      <td>1.560245e-09</td>\n",
       "      <td>1.566689e-09</td>\n",
       "      <td>3.440670e-09</td>\n",
       "      <td>3.590005e-09</td>\n",
       "      <td>1.418366e-09</td>\n",
       "      <td>1.418366e-09</td>\n",
       "      <td>1.658811e-07</td>\n",
       "    </tr>\n",
       "    <tr>\n",
       "      <th>191340</th>\n",
       "      <td>2.922299e-08</td>\n",
       "      <td>1.596738e-04</td>\n",
       "      <td>1.250330e-08</td>\n",
       "      <td>4.791635e-04</td>\n",
       "      <td>7.507430e-03</td>\n",
       "      <td>9.681338e-01</td>\n",
       "      <td>1.757021e-03</td>\n",
       "      <td>2.166631e-08</td>\n",
       "      <td>1.188427e-08</td>\n",
       "      <td>8.784932e-04</td>\n",
       "      <td>...</td>\n",
       "      <td>4.153027e-03</td>\n",
       "      <td>2.316086e-03</td>\n",
       "      <td>7.986257e-04</td>\n",
       "      <td>6.388900e-04</td>\n",
       "      <td>7.982629e-05</td>\n",
       "      <td>2.166403e-08</td>\n",
       "      <td>2.395633e-04</td>\n",
       "      <td>1.131346e-08</td>\n",
       "      <td>1.131346e-08</td>\n",
       "      <td>5.191280e-03</td>\n",
       "    </tr>\n",
       "    <tr>\n",
       "      <th>191341</th>\n",
       "      <td>1.411134e-08</td>\n",
       "      <td>2.458922e-09</td>\n",
       "      <td>1.568285e-09</td>\n",
       "      <td>2.459313e-09</td>\n",
       "      <td>2.110005e-08</td>\n",
       "      <td>2.104144e-08</td>\n",
       "      <td>2.579239e-08</td>\n",
       "      <td>7.395328e-09</td>\n",
       "      <td>3.118112e-09</td>\n",
       "      <td>8.808299e-09</td>\n",
       "      <td>...</td>\n",
       "      <td>1.554691e-08</td>\n",
       "      <td>1.324173e-09</td>\n",
       "      <td>3.157311e-09</td>\n",
       "      <td>1.560989e-09</td>\n",
       "      <td>1.567436e-09</td>\n",
       "      <td>3.442311e-09</td>\n",
       "      <td>3.591717e-09</td>\n",
       "      <td>1.419043e-09</td>\n",
       "      <td>1.419043e-09</td>\n",
       "      <td>5.078661e-04</td>\n",
       "    </tr>\n",
       "    <tr>\n",
       "      <th>191348</th>\n",
       "      <td>1.812389e-09</td>\n",
       "      <td>3.158113e-10</td>\n",
       "      <td>2.014225e-10</td>\n",
       "      <td>3.158616e-10</td>\n",
       "      <td>2.709983e-09</td>\n",
       "      <td>2.702455e-09</td>\n",
       "      <td>9.473303e-09</td>\n",
       "      <td>9.498178e-10</td>\n",
       "      <td>4.004742e-10</td>\n",
       "      <td>1.131293e-09</td>\n",
       "      <td>...</td>\n",
       "      <td>5.845459e-10</td>\n",
       "      <td>1.700701e-10</td>\n",
       "      <td>4.055089e-10</td>\n",
       "      <td>2.004854e-10</td>\n",
       "      <td>2.013134e-10</td>\n",
       "      <td>4.421129e-10</td>\n",
       "      <td>4.613017e-10</td>\n",
       "      <td>1.822546e-10</td>\n",
       "      <td>1.822546e-10</td>\n",
       "      <td>2.131508e-08</td>\n",
       "    </tr>\n",
       "  </tbody>\n",
       "</table>\n",
       "<p>5 rows × 38 columns</p>\n",
       "</div>"
      ],
      "text/plain": [
       "               TripType_3    TripType_4    TripType_5    TripType_6  \\\n",
       "VisitNumber                                                           \n",
       "191338       1.996101e-09  3.478235e-10  2.218397e-10  3.478789e-10   \n",
       "191339       1.410461e-08  2.457749e-09  1.567537e-09  2.458141e-09   \n",
       "191340       2.922299e-08  1.596738e-04  1.250330e-08  4.791635e-04   \n",
       "191341       1.411134e-08  2.458922e-09  1.568285e-09  2.459313e-09   \n",
       "191348       1.812389e-09  3.158113e-10  2.014225e-10  3.158616e-10   \n",
       "\n",
       "               TripType_7    TripType_8    TripType_9   TripType_12  \\\n",
       "VisitNumber                                                           \n",
       "191338       1.904548e-09  1.905029e-09  3.648428e-09  1.046096e-09   \n",
       "191339       2.109000e-08  2.103141e-08  7.372441e-08  7.391800e-09   \n",
       "191340       7.507430e-03  9.681338e-01  1.757021e-03  2.166631e-08   \n",
       "191341       2.110005e-08  2.104144e-08  2.579239e-08  7.395328e-09   \n",
       "191348       2.709983e-09  2.702455e-09  9.473303e-09  9.498178e-10   \n",
       "\n",
       "              TripType_14   TripType_15      ...        TripType_36  \\\n",
       "VisitNumber                                  ...                      \n",
       "191338       4.410683e-10  1.245966e-09      ...       4.253862e-10   \n",
       "191339       3.116624e-09  8.804098e-09      ...       4.549132e-09   \n",
       "191340       1.188427e-08  8.784932e-04      ...       4.153027e-03   \n",
       "191341       3.118112e-09  8.808299e-09      ...       1.554691e-08   \n",
       "191348       4.004742e-10  1.131293e-09      ...       5.845459e-10   \n",
       "\n",
       "              TripType_37   TripType_38   TripType_39   TripType_40  \\\n",
       "VisitNumber                                                           \n",
       "191338       3.840913e-10  1.904090e-09  1.000000e+00  2.217195e-10   \n",
       "191339       1.323542e-09  3.155806e-09  1.560245e-09  1.566689e-09   \n",
       "191340       2.316086e-03  7.986257e-04  6.388900e-04  7.982629e-05   \n",
       "191341       1.324173e-09  3.157311e-09  1.560989e-09  1.567436e-09   \n",
       "191348       1.700701e-10  4.055089e-10  2.004854e-10  2.013134e-10   \n",
       "\n",
       "              TripType_41   TripType_42   TripType_43   TripType_44  \\\n",
       "VisitNumber                                                           \n",
       "191338       1.461902e-09  1.345084e-09  2.007288e-10  2.007288e-10   \n",
       "191339       3.440670e-09  3.590005e-09  1.418366e-09  1.418366e-09   \n",
       "191340       2.166403e-08  2.395633e-04  1.131346e-08  1.131346e-08   \n",
       "191341       3.442311e-09  3.591717e-09  1.419043e-09  1.419043e-09   \n",
       "191348       4.421129e-10  4.613017e-10  1.822546e-10  1.822546e-10   \n",
       "\n",
       "             TripType_999  \n",
       "VisitNumber                \n",
       "191338       4.234061e-09  \n",
       "191339       1.658811e-07  \n",
       "191340       5.191280e-03  \n",
       "191341       5.078661e-04  \n",
       "191348       2.131508e-08  \n",
       "\n",
       "[5 rows x 38 columns]"
      ]
     },
     "execution_count": 43,
     "metadata": {},
     "output_type": "execute_result"
    }
   ],
   "source": [
    "samsub = pd.read_csv('./data/sample_submission.csv')\n",
    "subform_df_columns = samsub.columns[1:]\n",
    "result_df = pd.DataFrame(result)\n",
    "result_df.columns = subform_df_columns\n",
    "subform_df = pd.concat([test.reset_index()['VisitNumber'],result_df],axis=1)\n",
    "subform_df.set_index('VisitNumber',inplace=True)\n",
    "subform_df.tail()"
   ]
  },
  {
   "cell_type": "code",
   "execution_count": 44,
   "metadata": {},
   "outputs": [],
   "source": [
    "subform_df.to_csv('./Stacking/RF_lgbm_sclf_model_2.csv')"
   ]
  },
  {
   "cell_type": "code",
   "execution_count": 45,
   "metadata": {},
   "outputs": [
    {
     "name": "stdout",
     "output_type": "stream",
     "text": [
      "<Response [200]>\n"
     ]
    }
   ],
   "source": [
    "myslack.send_slack('Making RF_lgbm_sclf_model CSV finish!!')"
   ]
  },
  {
   "cell_type": "code",
   "execution_count": null,
   "metadata": {},
   "outputs": [],
   "source": []
  },
  {
   "cell_type": "code",
   "execution_count": null,
   "metadata": {},
   "outputs": [],
   "source": []
  },
  {
   "cell_type": "code",
   "execution_count": null,
   "metadata": {},
   "outputs": [],
   "source": []
  },
  {
   "cell_type": "code",
   "execution_count": null,
   "metadata": {},
   "outputs": [],
   "source": []
  },
  {
   "cell_type": "code",
   "execution_count": null,
   "metadata": {},
   "outputs": [],
   "source": []
  },
  {
   "cell_type": "code",
   "execution_count": null,
   "metadata": {},
   "outputs": [],
   "source": []
  },
  {
   "cell_type": "code",
   "execution_count": null,
   "metadata": {},
   "outputs": [],
   "source": []
  },
  {
   "cell_type": "code",
   "execution_count": null,
   "metadata": {},
   "outputs": [],
   "source": []
  },
  {
   "cell_type": "code",
   "execution_count": null,
   "metadata": {},
   "outputs": [],
   "source": []
  },
  {
   "cell_type": "code",
   "execution_count": null,
   "metadata": {},
   "outputs": [],
   "source": []
  },
  {
   "cell_type": "code",
   "execution_count": null,
   "metadata": {},
   "outputs": [],
   "source": []
  },
  {
   "cell_type": "code",
   "execution_count": null,
   "metadata": {},
   "outputs": [],
   "source": []
  },
  {
   "cell_type": "code",
   "execution_count": null,
   "metadata": {},
   "outputs": [],
   "source": []
  }
 ],
 "metadata": {
  "kernelspec": {
   "display_name": "Python 3",
   "language": "python",
   "name": "python3"
  },
  "language_info": {
   "codemirror_mode": {
    "name": "ipython",
    "version": 3
   },
   "file_extension": ".py",
   "mimetype": "text/x-python",
   "name": "python",
   "nbconvert_exporter": "python",
   "pygments_lexer": "ipython3",
   "version": "3.6.4"
  }
 },
 "nbformat": 4,
 "nbformat_minor": 2
}
