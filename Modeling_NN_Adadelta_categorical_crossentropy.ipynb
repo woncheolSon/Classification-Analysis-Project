{
 "cells": [
  {
   "cell_type": "code",
   "execution_count": 262,
   "metadata": {
    "scrolled": true
   },
   "outputs": [],
   "source": [
    "import numpy as np\n",
    "import pandas as pd\n",
    "pd.set_option('max_rows',38)\n",
    "pd.set_option('max_columns',25)\n",
    "import time\n",
    "import pickle\n",
    "from tqdm import tqdm\n",
    "import myslack_incomming\n",
    "\n",
    "# model\n",
    "from keras.models import Sequential\n",
    "from keras.layers.core import Dense, Dropout\n",
    "from keras.optimizers import SGD, RMSprop, Adadelta\n",
    "from keras.utils import np_utils\n",
    "from keras.layers import Activation, BatchNormalization\n",
    "import xgboost\n",
    "from scipy.sparse import csr_matrix\n",
    "from sklearn.tree import DecisionTreeClassifier\n",
    "from sklearn.linear_model import LogisticRegression\n",
    "from sklearn.naive_bayes import MultinomialNB\n",
    "from sklearn.metrics import confusion_matrix\n",
    "from sklearn.ensemble import BaggingClassifier\n",
    "from sklearn.ensemble import GradientBoostingClassifier\n",
    "from sklearn.ensemble import GradientBoostingRegressor\n",
    "from sklearn.ensemble import RandomForestClassifier\n",
    "from sklearn.ensemble import ExtraTreesClassifier\n",
    "from sklearn.pipeline import Pipeline\n",
    "from sklearn.svm import SVC\n",
    "from sklearn.model_selection import GridSearchCV\n",
    "from sklearn.model_selection import train_test_split\n",
    "from sklearn.model_selection import validation_curve\n",
    "from sklearn.model_selection import KFold, cross_val_score\n",
    "from sklearn.metrics import classification_report\n",
    "from sklearn import preprocessing\n"
   ]
  },
  {
   "cell_type": "markdown",
   "metadata": {},
   "source": [
    "# Ver 1"
   ]
  },
  {
   "cell_type": "markdown",
   "metadata": {},
   "source": [
    "# Data Check"
   ]
  },
  {
   "cell_type": "markdown",
   "metadata": {},
   "source": [
    "#### - train.csv"
   ]
  },
  {
   "cell_type": "code",
   "execution_count": 127,
   "metadata": {
    "scrolled": true
   },
   "outputs": [
    {
     "name": "stdout",
     "output_type": "stream",
     "text": [
      "test data shape: (95674, 5482)\n"
     ]
    }
   ],
   "source": [
    "train = pickle.load(open(\"./data/final_train_Ver1.pkl\", \"rb\"))\n",
    "print(\"test data shape: \"+str(train.shape))"
   ]
  },
  {
   "cell_type": "markdown",
   "metadata": {},
   "source": [
    "#### - test.csv"
   ]
  },
  {
   "cell_type": "code",
   "execution_count": 109,
   "metadata": {
    "scrolled": true
   },
   "outputs": [
    {
     "name": "stdout",
     "output_type": "stream",
     "text": [
      "test data shape: (95674, 5481)\n"
     ]
    }
   ],
   "source": [
    "test = pickle.load(open(\"./data/final_test_Ver1.pkl\", \"rb\"))\n",
    "print(\"test data shape: \"+str(test.shape))"
   ]
  },
  {
   "cell_type": "markdown",
   "metadata": {},
   "source": [
    "#### - sample_submission.csv"
   ]
  },
  {
   "cell_type": "code",
   "execution_count": 110,
   "metadata": {
    "scrolled": false
   },
   "outputs": [
    {
     "name": "stdout",
     "output_type": "stream",
     "text": [
      "sample_submission data shape: (95674, 39)\n"
     ]
    }
   ],
   "source": [
    "samplesub = pd.read_csv(\"./data/sample_submission.csv\")\n",
    "print(\"sample_submission data shape: \"+str(samplesub.shape))"
   ]
  },
  {
   "cell_type": "markdown",
   "metadata": {},
   "source": [
    "---"
   ]
  },
  {
   "cell_type": "markdown",
   "metadata": {},
   "source": [
    "# Modeling 8 - Neural Network"
   ]
  },
  {
   "cell_type": "markdown",
   "metadata": {},
   "source": [
    "### Train_X, Train_y"
   ]
  },
  {
   "cell_type": "code",
   "execution_count": 258,
   "metadata": {},
   "outputs": [],
   "source": [
    "X = train.drop(columns='TripType')\n",
    "y = train['TripType']"
   ]
  },
  {
   "cell_type": "code",
   "execution_count": 259,
   "metadata": {},
   "outputs": [
    {
     "data": {
      "text/plain": [
       "(38, array([50, 30, 26,  8, 35, 41, 21,  6, 42,  7,  9, 39, 25, 38, 15, 36, 20,\n",
       "        37, 32, 40,  5,  3,  4, 24, 33, 43, 31, 27, 34, 18, 29, 44, 19, 23,\n",
       "        22, 28, 14, 12]))"
      ]
     },
     "execution_count": 259,
     "metadata": {},
     "output_type": "execute_result"
    }
   ],
   "source": [
    "len(y.unique()), y.unique()"
   ]
  },
  {
   "cell_type": "code",
   "execution_count": 260,
   "metadata": {},
   "outputs": [
    {
     "data": {
      "text/plain": [
       "array([50, 30, 26,  8, 35, 41, 21,  6, 42,  7,  9, 39, 25, 38, 15, 36, 20,\n",
       "       37, 32, 40,  5,  3,  4, 24, 33, 43, 31, 27, 34, 18, 29, 44, 19, 23,\n",
       "       22, 28, 14, 12])"
      ]
     },
     "execution_count": 260,
     "metadata": {},
     "output_type": "execute_result"
    }
   ],
   "source": [
    "y.unique()"
   ]
  },
  {
   "cell_type": "code",
   "execution_count": 263,
   "metadata": {},
   "outputs": [
    {
     "data": {
      "text/plain": [
       "array([37, 22, 18,  5, 27, 33, 13,  3, 34,  4,  6, 31, 17, 30,  9, 28, 12,\n",
       "       29, 24, 32,  2,  0,  1, 16, 25, 35, 23, 19, 26, 10, 21, 36, 11, 15,\n",
       "       14, 20,  8,  7])"
      ]
     },
     "execution_count": 263,
     "metadata": {},
     "output_type": "execute_result"
    }
   ],
   "source": [
    "preprocessing.LabelEncoder().fit_transform(y.unique())"
   ]
  },
  {
   "cell_type": "code",
   "execution_count": 264,
   "metadata": {},
   "outputs": [],
   "source": [
    "train['TripType'].replace(y.unique(),preprocessing.LabelEncoder().fit_transform(y.unique()),inplace=True)"
   ]
  },
  {
   "cell_type": "code",
   "execution_count": 265,
   "metadata": {},
   "outputs": [
    {
     "data": {
      "text/plain": [
       "(38, array([37, 22, 18,  5, 27, 33, 13,  3, 34,  4,  6, 31, 17, 30,  9, 28, 12,\n",
       "        29, 24, 32,  2,  0,  1, 16, 25, 35, 23, 19, 26, 10, 21, 36, 11, 15,\n",
       "        14, 20,  8,  7]))"
      ]
     },
     "execution_count": 265,
     "metadata": {},
     "output_type": "execute_result"
    }
   ],
   "source": [
    "len(y.unique()), y.unique()"
   ]
  },
  {
   "cell_type": "code",
   "execution_count": 266,
   "metadata": {},
   "outputs": [
    {
     "data": {
      "text/plain": [
       "<95674x5481 sparse matrix of type '<class 'numpy.int64'>'\n",
       "\twith 1124112 stored elements in Compressed Sparse Row format>"
      ]
     },
     "execution_count": 266,
     "metadata": {},
     "output_type": "execute_result"
    }
   ],
   "source": [
    "X = csr_matrix(X); X"
   ]
  },
  {
   "cell_type": "code",
   "execution_count": 279,
   "metadata": {},
   "outputs": [
    {
     "data": {
      "text/plain": [
       "<95674x5481 sparse matrix of type '<class 'numpy.int64'>'\n",
       "\twith 1130483 stored elements in Compressed Sparse Row format>"
      ]
     },
     "execution_count": 279,
     "metadata": {},
     "output_type": "execute_result"
    }
   ],
   "source": [
    "csr_test = csr_matrix(test); test"
   ]
  },
  {
   "cell_type": "markdown",
   "metadata": {},
   "source": [
    "## Keras"
   ]
  },
  {
   "cell_type": "markdown",
   "metadata": {},
   "source": [
    "### Train Test Split"
   ]
  },
  {
   "cell_type": "code",
   "execution_count": 380,
   "metadata": {},
   "outputs": [
    {
     "data": {
      "text/plain": [
       "(81322, 14352, 81322, 14352)"
      ]
     },
     "execution_count": 380,
     "metadata": {},
     "output_type": "execute_result"
    }
   ],
   "source": [
    "X_train, X_test, y_train0, y_test0 = train_test_split(X, y, test_size=0.15)\n",
    "\n",
    "X_train.shape[0], X_test.shape[0], len(y_train0), len(y_test0)"
   ]
  },
  {
   "cell_type": "code",
   "execution_count": 381,
   "metadata": {},
   "outputs": [],
   "source": [
    "Y_train = np_utils.to_categorical(y_train0, 38)\n",
    "Y_test = np_utils.to_categorical(y_test0, 38)"
   ]
  },
  {
   "cell_type": "code",
   "execution_count": 382,
   "metadata": {},
   "outputs": [],
   "source": [
    "dense = 500\n",
    "lr = 0.05"
   ]
  },
  {
   "cell_type": "code",
   "execution_count": 383,
   "metadata": {
    "scrolled": true
   },
   "outputs": [],
   "source": [
    "NN_model_Adadelta = Sequential()\n",
    "NN_model_Adadelta.add(Dense(dense, input_dim=5481, kernel_initializer=\"glorot_uniform\"))\n",
    "NN_model_Adadelta.add(BatchNormalization())\n",
    "NN_model_Adadelta.add(Activation('relu'))\n",
    "NN_model_Adadelta.add(Dense(38, activation=\"softmax\", kernel_initializer=\"glorot_uniform\"))\n",
    "NN_model_Adadelta.compile(optimizer=Adadelta(lr=lr), loss='categorical_crossentropy', metrics=[\"accuracy\"])"
   ]
  },
  {
   "cell_type": "code",
   "execution_count": 384,
   "metadata": {},
   "outputs": [
    {
     "name": "stdout",
     "output_type": "stream",
     "text": [
      "_________________________________________________________________\n",
      "Layer (type)                 Output Shape              Param #   \n",
      "=================================================================\n",
      "dense_131 (Dense)            (None, 500)               2741000   \n",
      "_________________________________________________________________\n",
      "batch_normalization_17 (Batc (None, 500)               2000      \n",
      "_________________________________________________________________\n",
      "activation_17 (Activation)   (None, 500)               0         \n",
      "_________________________________________________________________\n",
      "dense_132 (Dense)            (None, 38)                19038     \n",
      "=================================================================\n",
      "Total params: 2,762,038\n",
      "Trainable params: 2,761,038\n",
      "Non-trainable params: 1,000\n",
      "_________________________________________________________________\n"
     ]
    }
   ],
   "source": [
    "NN_model_Adadelta.summary()"
   ]
  },
  {
   "cell_type": "code",
   "execution_count": 385,
   "metadata": {},
   "outputs": [],
   "source": [
    "epochs = 100\n",
    "batch_size = 3000"
   ]
  },
  {
   "cell_type": "code",
   "execution_count": 386,
   "metadata": {
    "scrolled": true
   },
   "outputs": [
    {
     "name": "stdout",
     "output_type": "stream",
     "text": [
      "Train on 81322 samples, validate on 14352 samples\n",
      "Epoch 1/100\n",
      "81322/81322 [==============================] - 12s 145us/step - loss: 3.6016 - acc: 0.0528 - val_loss: 3.2606 - val_acc: 0.1215\n",
      "Epoch 2/100\n",
      "81322/81322 [==============================] - 10s 127us/step - loss: 3.0002 - acc: 0.2417 - val_loss: 2.9189 - val_acc: 0.2938\n",
      "Epoch 3/100\n",
      "81322/81322 [==============================] - 11s 134us/step - loss: 2.6343 - acc: 0.3528 - val_loss: 2.6534 - val_acc: 0.3926\n",
      "Epoch 4/100\n",
      "81322/81322 [==============================] - 12s 153us/step - loss: 2.3684 - acc: 0.4270 - val_loss: 2.4272 - val_acc: 0.4516\n",
      "Epoch 5/100\n",
      "81322/81322 [==============================] - 12s 150us/step - loss: 2.1616 - acc: 0.4786 - val_loss: 2.2391 - val_acc: 0.4995\n",
      "Epoch 6/100\n",
      "81322/81322 [==============================] - 12s 144us/step - loss: 1.9922 - acc: 0.5262 - val_loss: 2.0805 - val_acc: 0.5344\n",
      "Epoch 7/100\n",
      "81322/81322 [==============================] - 12s 152us/step - loss: 1.8500 - acc: 0.5634 - val_loss: 1.9501 - val_acc: 0.5564\n",
      "Epoch 8/100\n",
      "81322/81322 [==============================] - 13s 165us/step - loss: 1.7294 - acc: 0.5811 - val_loss: 1.8360 - val_acc: 0.5700\n",
      "Epoch 9/100\n",
      "81322/81322 [==============================] - 13s 163us/step - loss: 1.6269 - acc: 0.6012 - val_loss: 1.7357 - val_acc: 0.5846\n",
      "Epoch 10/100\n",
      "81322/81322 [==============================] - 13s 161us/step - loss: 1.5391 - acc: 0.6130 - val_loss: 1.6490 - val_acc: 0.5920\n",
      "Epoch 11/100\n",
      "81322/81322 [==============================] - 13s 157us/step - loss: 1.4641 - acc: 0.6231 - val_loss: 1.5716 - val_acc: 0.6014\n",
      "Epoch 12/100\n",
      "81322/81322 [==============================] - 13s 165us/step - loss: 1.3995 - acc: 0.6348 - val_loss: 1.5042 - val_acc: 0.6123\n",
      "Epoch 13/100\n",
      "81322/81322 [==============================] - 13s 155us/step - loss: 1.3434 - acc: 0.6433 - val_loss: 1.4440 - val_acc: 0.6188\n",
      "Epoch 14/100\n",
      "81322/81322 [==============================] - 12s 152us/step - loss: 1.2956 - acc: 0.6490 - val_loss: 1.3913 - val_acc: 0.6248\n",
      "Epoch 15/100\n",
      "81322/81322 [==============================] - 13s 156us/step - loss: 1.2538 - acc: 0.6552 - val_loss: 1.3483 - val_acc: 0.6306\n",
      "Epoch 16/100\n",
      "81322/81322 [==============================] - 13s 154us/step - loss: 1.2172 - acc: 0.6624 - val_loss: 1.3060 - val_acc: 0.6355\n",
      "Epoch 17/100\n",
      "81322/81322 [==============================] - 13s 154us/step - loss: 1.1842 - acc: 0.6678 - val_loss: 1.2688 - val_acc: 0.6440\n",
      "Epoch 18/100\n",
      "81322/81322 [==============================] - 13s 158us/step - loss: 1.1550 - acc: 0.6740 - val_loss: 1.2399 - val_acc: 0.6483\n",
      "Epoch 19/100\n",
      "81322/81322 [==============================] - 13s 161us/step - loss: 1.1296 - acc: 0.6775 - val_loss: 1.2095 - val_acc: 0.6522\n",
      "Epoch 20/100\n",
      "81322/81322 [==============================] - 13s 160us/step - loss: 1.1058 - acc: 0.6822 - val_loss: 1.1846 - val_acc: 0.6564\n",
      "Epoch 21/100\n",
      "81322/81322 [==============================] - 12s 153us/step - loss: 1.0843 - acc: 0.6863 - val_loss: 1.1634 - val_acc: 0.6584\n",
      "Epoch 22/100\n",
      "81322/81322 [==============================] - 12s 146us/step - loss: 1.0646 - acc: 0.6885 - val_loss: 1.1444 - val_acc: 0.6616\n",
      "Epoch 23/100\n",
      "81322/81322 [==============================] - 13s 161us/step - loss: 1.0467 - acc: 0.6920 - val_loss: 1.1269 - val_acc: 0.6640\n",
      "Epoch 24/100\n",
      "81322/81322 [==============================] - 12s 153us/step - loss: 1.0299 - acc: 0.6944 - val_loss: 1.1102 - val_acc: 0.6695\n",
      "Epoch 25/100\n",
      "81322/81322 [==============================] - 12s 148us/step - loss: 1.0140 - acc: 0.6970 - val_loss: 1.0956 - val_acc: 0.6710\n",
      "Epoch 26/100\n",
      "81322/81322 [==============================] - 13s 156us/step - loss: 0.9992 - acc: 0.7007 - val_loss: 1.0821 - val_acc: 0.6731\n",
      "Epoch 27/100\n",
      "81322/81322 [==============================] - 13s 160us/step - loss: 0.9852 - acc: 0.7025 - val_loss: 1.0699 - val_acc: 0.6762\n",
      "Epoch 28/100\n",
      "81322/81322 [==============================] - 13s 159us/step - loss: 0.9721 - acc: 0.7059 - val_loss: 1.0590 - val_acc: 0.6777\n",
      "Epoch 29/100\n",
      "81322/81322 [==============================] - 12s 149us/step - loss: 0.9596 - acc: 0.7087 - val_loss: 1.0479 - val_acc: 0.6802\n",
      "Epoch 30/100\n",
      "81322/81322 [==============================] - 13s 159us/step - loss: 0.9478 - acc: 0.7108 - val_loss: 1.0389 - val_acc: 0.6816\n",
      "Epoch 31/100\n",
      "81322/81322 [==============================] - 13s 154us/step - loss: 0.9366 - acc: 0.7141 - val_loss: 1.0285 - val_acc: 0.6842\n",
      "Epoch 32/100\n",
      "81322/81322 [==============================] - 12s 149us/step - loss: 0.9254 - acc: 0.7172 - val_loss: 1.0207 - val_acc: 0.6854\n",
      "Epoch 33/100\n",
      "81322/81322 [==============================] - 12s 151us/step - loss: 0.9149 - acc: 0.7195 - val_loss: 1.0136 - val_acc: 0.6862\n",
      "Epoch 34/100\n",
      "81322/81322 [==============================] - 11s 137us/step - loss: 0.9050 - acc: 0.7217 - val_loss: 1.0047 - val_acc: 0.6883\n",
      "Epoch 35/100\n",
      "81322/81322 [==============================] - 10s 128us/step - loss: 0.8951 - acc: 0.7241 - val_loss: 0.9983 - val_acc: 0.6901\n",
      "Epoch 36/100\n",
      "81322/81322 [==============================] - 10s 125us/step - loss: 0.8858 - acc: 0.7269 - val_loss: 0.9915 - val_acc: 0.6921\n",
      "Epoch 37/100\n",
      "81322/81322 [==============================] - 12s 142us/step - loss: 0.8770 - acc: 0.7285 - val_loss: 0.9853 - val_acc: 0.6938\n",
      "Epoch 38/100\n",
      "81322/81322 [==============================] - 10s 119us/step - loss: 0.8681 - acc: 0.7316 - val_loss: 0.9788 - val_acc: 0.6945\n",
      "Epoch 39/100\n",
      "81322/81322 [==============================] - 10s 118us/step - loss: 0.8600 - acc: 0.7338 - val_loss: 0.9725 - val_acc: 0.6968\n",
      "Epoch 40/100\n",
      "81322/81322 [==============================] - 10s 121us/step - loss: 0.8514 - acc: 0.7358 - val_loss: 0.9679 - val_acc: 0.6963\n",
      "Epoch 41/100\n",
      "81322/81322 [==============================] - 11s 131us/step - loss: 0.8434 - acc: 0.7380 - val_loss: 0.9618 - val_acc: 0.6979\n",
      "Epoch 42/100\n",
      "81322/81322 [==============================] - 10s 128us/step - loss: 0.8355 - acc: 0.7404 - val_loss: 0.9571 - val_acc: 0.6986\n",
      "Epoch 43/100\n",
      "81322/81322 [==============================] - 9s 116us/step - loss: 0.8275 - acc: 0.7427 - val_loss: 0.9522 - val_acc: 0.7002\n",
      "Epoch 44/100\n",
      "81322/81322 [==============================] - 10s 118us/step - loss: 0.8202 - acc: 0.7451 - val_loss: 0.9491 - val_acc: 0.6981\n",
      "Epoch 45/100\n",
      "81322/81322 [==============================] - 9s 116us/step - loss: 0.8132 - acc: 0.7475 - val_loss: 0.9436 - val_acc: 0.7026\n",
      "Epoch 46/100\n",
      "81322/81322 [==============================] - 10s 123us/step - loss: 0.8054 - acc: 0.7499 - val_loss: 0.9378 - val_acc: 0.7043\n",
      "Epoch 47/100\n",
      "81322/81322 [==============================] - 10s 119us/step - loss: 0.7981 - acc: 0.7521 - val_loss: 0.9332 - val_acc: 0.7060\n",
      "Epoch 48/100\n",
      "81322/81322 [==============================] - 10s 122us/step - loss: 0.7913 - acc: 0.7536 - val_loss: 0.9299 - val_acc: 0.7065\n",
      "Epoch 49/100\n",
      "81322/81322 [==============================] - 10s 119us/step - loss: 0.7844 - acc: 0.7556 - val_loss: 0.9254 - val_acc: 0.7083\n",
      "Epoch 50/100\n",
      "81322/81322 [==============================] - 9s 113us/step - loss: 0.7780 - acc: 0.7587 - val_loss: 0.9218 - val_acc: 0.7100\n",
      "Epoch 51/100\n",
      "81322/81322 [==============================] - 10s 124us/step - loss: 0.7710 - acc: 0.7601 - val_loss: 0.9184 - val_acc: 0.7099\n",
      "Epoch 52/100\n",
      "81322/81322 [==============================] - 10s 120us/step - loss: 0.7647 - acc: 0.7624 - val_loss: 0.9150 - val_acc: 0.7120\n",
      "Epoch 53/100\n",
      "81322/81322 [==============================] - 10s 121us/step - loss: 0.7583 - acc: 0.7650 - val_loss: 0.9118 - val_acc: 0.7096\n",
      "Epoch 54/100\n",
      "81322/81322 [==============================] - 11s 133us/step - loss: 0.7521 - acc: 0.7658 - val_loss: 0.9074 - val_acc: 0.7134\n",
      "Epoch 55/100\n",
      "81322/81322 [==============================] - 12s 142us/step - loss: 0.7460 - acc: 0.7682 - val_loss: 0.9055 - val_acc: 0.7135\n",
      "Epoch 56/100\n",
      "81322/81322 [==============================] - 11s 140us/step - loss: 0.7400 - acc: 0.7697 - val_loss: 0.9015 - val_acc: 0.7145\n",
      "Epoch 57/100\n",
      "81322/81322 [==============================] - 11s 139us/step - loss: 0.7340 - acc: 0.7723 - val_loss: 0.8990 - val_acc: 0.7142\n",
      "Epoch 58/100\n",
      "81322/81322 [==============================] - 12s 153us/step - loss: 0.7277 - acc: 0.7741 - val_loss: 0.8953 - val_acc: 0.7166\n"
     ]
    },
    {
     "name": "stdout",
     "output_type": "stream",
     "text": [
      "Epoch 59/100\n",
      "81322/81322 [==============================] - 13s 158us/step - loss: 0.7219 - acc: 0.7760 - val_loss: 0.8917 - val_acc: 0.7177\n",
      "Epoch 60/100\n",
      "81322/81322 [==============================] - 13s 162us/step - loss: 0.7159 - acc: 0.7778 - val_loss: 0.8884 - val_acc: 0.7198\n",
      "Epoch 61/100\n",
      "81322/81322 [==============================] - 12s 150us/step - loss: 0.7107 - acc: 0.7794 - val_loss: 0.8861 - val_acc: 0.7206\n",
      "Epoch 62/100\n",
      "81322/81322 [==============================] - 13s 156us/step - loss: 0.7050 - acc: 0.7812 - val_loss: 0.8841 - val_acc: 0.7184\n",
      "Epoch 63/100\n",
      "81322/81322 [==============================] - 12s 146us/step - loss: 0.6994 - acc: 0.7832 - val_loss: 0.8812 - val_acc: 0.7200\n",
      "Epoch 64/100\n",
      "81322/81322 [==============================] - 12s 144us/step - loss: 0.6940 - acc: 0.7845 - val_loss: 0.8777 - val_acc: 0.7209\n",
      "Epoch 65/100\n",
      "81322/81322 [==============================] - 12s 146us/step - loss: 0.6888 - acc: 0.7862 - val_loss: 0.8748 - val_acc: 0.7230\n",
      "Epoch 66/100\n",
      "81322/81322 [==============================] - 12s 149us/step - loss: 0.6833 - acc: 0.7883 - val_loss: 0.8740 - val_acc: 0.7216\n",
      "Epoch 67/100\n",
      "81322/81322 [==============================] - 12s 146us/step - loss: 0.6775 - acc: 0.7897 - val_loss: 0.8705 - val_acc: 0.7237\n",
      "Epoch 68/100\n",
      "81322/81322 [==============================] - 11s 139us/step - loss: 0.6732 - acc: 0.7915 - val_loss: 0.8693 - val_acc: 0.7230\n",
      "Epoch 69/100\n",
      "81322/81322 [==============================] - 12s 143us/step - loss: 0.6673 - acc: 0.7932 - val_loss: 0.8684 - val_acc: 0.7221\n",
      "Epoch 70/100\n",
      "81322/81322 [==============================] - 12s 142us/step - loss: 0.6626 - acc: 0.7949 - val_loss: 0.8642 - val_acc: 0.7258\n",
      "Epoch 71/100\n",
      "81322/81322 [==============================] - 12s 142us/step - loss: 0.6571 - acc: 0.7967 - val_loss: 0.8635 - val_acc: 0.7235\n",
      "Epoch 72/100\n",
      "81322/81322 [==============================] - 13s 155us/step - loss: 0.6524 - acc: 0.7981 - val_loss: 0.8609 - val_acc: 0.7251\n",
      "Epoch 73/100\n",
      "81322/81322 [==============================] - 12s 153us/step - loss: 0.6477 - acc: 0.7994 - val_loss: 0.8588 - val_acc: 0.7264\n",
      "Epoch 74/100\n",
      "81322/81322 [==============================] - 12s 153us/step - loss: 0.6425 - acc: 0.8016 - val_loss: 0.8572 - val_acc: 0.7257\n",
      "Epoch 75/100\n",
      "81322/81322 [==============================] - 12s 153us/step - loss: 0.6373 - acc: 0.8027 - val_loss: 0.8546 - val_acc: 0.7270\n",
      "Epoch 76/100\n",
      "81322/81322 [==============================] - 12s 147us/step - loss: 0.6326 - acc: 0.8047 - val_loss: 0.8533 - val_acc: 0.7267\n",
      "Epoch 77/100\n",
      "81322/81322 [==============================] - 12s 153us/step - loss: 0.6280 - acc: 0.8068 - val_loss: 0.8506 - val_acc: 0.7280\n",
      "Epoch 78/100\n",
      "81322/81322 [==============================] - 12s 143us/step - loss: 0.6233 - acc: 0.8076 - val_loss: 0.8485 - val_acc: 0.7291\n",
      "Epoch 79/100\n",
      "81322/81322 [==============================] - 12s 143us/step - loss: 0.6188 - acc: 0.8092 - val_loss: 0.8479 - val_acc: 0.7274\n",
      "Epoch 80/100\n",
      "81322/81322 [==============================] - 12s 148us/step - loss: 0.6143 - acc: 0.8108 - val_loss: 0.8463 - val_acc: 0.7281\n",
      "Epoch 81/100\n",
      "81322/81322 [==============================] - 12s 146us/step - loss: 0.6090 - acc: 0.8131 - val_loss: 0.8442 - val_acc: 0.7290\n",
      "Epoch 82/100\n",
      "81322/81322 [==============================] - 12s 146us/step - loss: 0.6049 - acc: 0.8142 - val_loss: 0.8429 - val_acc: 0.7296\n",
      "Epoch 83/100\n",
      "81322/81322 [==============================] - 12s 143us/step - loss: 0.6005 - acc: 0.8161 - val_loss: 0.8412 - val_acc: 0.7294\n",
      "Epoch 84/100\n",
      "81322/81322 [==============================] - 9s 115us/step - loss: 0.5958 - acc: 0.8179 - val_loss: 0.8399 - val_acc: 0.7315\n",
      "Epoch 85/100\n",
      "81322/81322 [==============================] - 10s 124us/step - loss: 0.5912 - acc: 0.8186 - val_loss: 0.8382 - val_acc: 0.7307\n",
      "Epoch 86/100\n",
      "81322/81322 [==============================] - 9s 115us/step - loss: 0.5864 - acc: 0.8216 - val_loss: 0.8390 - val_acc: 0.7294\n",
      "Epoch 87/100\n",
      "81322/81322 [==============================] - 10s 122us/step - loss: 0.5820 - acc: 0.8225 - val_loss: 0.8346 - val_acc: 0.7327\n",
      "Epoch 88/100\n",
      "81322/81322 [==============================] - 10s 121us/step - loss: 0.5780 - acc: 0.8238 - val_loss: 0.8347 - val_acc: 0.7308\n",
      "Epoch 89/100\n",
      "81322/81322 [==============================] - 10s 122us/step - loss: 0.5734 - acc: 0.8253 - val_loss: 0.8330 - val_acc: 0.7321\n",
      "Epoch 90/100\n",
      "81322/81322 [==============================] - 10s 121us/step - loss: 0.5692 - acc: 0.8270 - val_loss: 0.8315 - val_acc: 0.7336\n",
      "Epoch 91/100\n",
      "81322/81322 [==============================] - 9s 115us/step - loss: 0.5653 - acc: 0.8284 - val_loss: 0.8307 - val_acc: 0.7327\n",
      "Epoch 92/100\n",
      "81322/81322 [==============================] - 10s 126us/step - loss: 0.5608 - acc: 0.8302 - val_loss: 0.8301 - val_acc: 0.7328\n",
      "Epoch 93/100\n",
      "81322/81322 [==============================] - 10s 120us/step - loss: 0.5566 - acc: 0.8315 - val_loss: 0.8278 - val_acc: 0.7349\n",
      "Epoch 94/100\n",
      "81322/81322 [==============================] - 10s 119us/step - loss: 0.5521 - acc: 0.8332 - val_loss: 0.8275 - val_acc: 0.7349\n",
      "Epoch 95/100\n",
      "81322/81322 [==============================] - 10s 119us/step - loss: 0.5481 - acc: 0.8348 - val_loss: 0.8271 - val_acc: 0.7359\n",
      "Epoch 96/100\n",
      "81322/81322 [==============================] - 10s 119us/step - loss: 0.5442 - acc: 0.8361 - val_loss: 0.8255 - val_acc: 0.7345\n",
      "Epoch 97/100\n",
      "81322/81322 [==============================] - 9s 115us/step - loss: 0.5399 - acc: 0.8380 - val_loss: 0.8242 - val_acc: 0.7361\n",
      "Epoch 98/100\n",
      "81322/81322 [==============================] - 10s 123us/step - loss: 0.5358 - acc: 0.8389 - val_loss: 0.8235 - val_acc: 0.7359\n",
      "Epoch 99/100\n",
      "81322/81322 [==============================] - 10s 117us/step - loss: 0.5319 - acc: 0.8402 - val_loss: 0.8227 - val_acc: 0.7381\n",
      "Epoch 100/100\n",
      "81322/81322 [==============================] - 10s 118us/step - loss: 0.5283 - acc: 0.8420 - val_loss: 0.8211 - val_acc: 0.7377\n",
      "<Response [200]>\n",
      "CPU times: user 1h 23min 52s, sys: 4min 34s, total: 1h 28min 27s\n",
      "Wall time: 18min 57s\n"
     ]
    }
   ],
   "source": [
    "%%time\n",
    "hist = NN_model_Adadelta.fit(X_train, Y_train, \n",
    "                              epochs=epochs, batch_size=batch_size, \n",
    "                              validation_data=(X_test, Y_test), \n",
    "                              verbose=1)\n",
    "\n",
    "myslack_incomming.send_slack('NN_model_Adadelta finish! den: {}, lr: {},  val_acc: {} '\n",
    "                             .format(dense,lr,hist.history['val_acc'][-1]))"
   ]
  },
  {
   "cell_type": "markdown",
   "metadata": {},
   "source": [
    "### Confusion Matrix"
   ]
  },
  {
   "cell_type": "code",
   "execution_count": 387,
   "metadata": {},
   "outputs": [
    {
     "data": {
      "text/plain": [
       "array([24,  0, 30, ..., 14, 29, 16])"
      ]
     },
     "execution_count": 387,
     "metadata": {},
     "output_type": "execute_result"
    }
   ],
   "source": [
    "Y_test.argmax(axis=1)"
   ]
  },
  {
   "cell_type": "code",
   "execution_count": 388,
   "metadata": {},
   "outputs": [
    {
     "data": {
      "text/plain": [
       "array([[ 556,    0,    3, ...,    0,    0,    7],\n",
       "       [   0,   41,    7, ...,    0,    0,    1],\n",
       "       [   1,    0,  567, ...,    0,    0,    3],\n",
       "       ...,\n",
       "       [   1,    0,    6, ...,    8,    2,    1],\n",
       "       [   0,    0,    0, ...,    6,   53,    0],\n",
       "       [  43,    1,    9, ...,    0,    0, 1066]])"
      ]
     },
     "execution_count": 388,
     "metadata": {},
     "output_type": "execute_result"
    }
   ],
   "source": [
    "y_pred = NN_model_Adadelta.predict_classes(X_test)\n",
    "confusion_matrix(Y_test.argmax(axis=1), y_pred)"
   ]
  },
  {
   "cell_type": "code",
   "execution_count": 392,
   "metadata": {},
   "outputs": [
    {
     "data": {
      "image/png": "[encoded data removed]",
      "text/plain": [
       "<matplotlib.figure.Figure at 0x1c349acf8>"
      ]
     },
     "metadata": {},
     "output_type": "display_data"
    }
   ],
   "source": [
    "plt.plot(hist.history['loss'], 'b-', label=\"training\")\n",
    "plt.plot(hist.history['val_loss'], 'r:', label=\"test\")\n",
    "plt.legend()\n",
    "plt.show()"
   ]
  },
  {
   "cell_type": "code",
   "execution_count": 393,
   "metadata": {},
   "outputs": [
    {
     "data": {
      "text/plain": [
       "'val_acc: 0.7377369043021696'"
      ]
     },
     "execution_count": 393,
     "metadata": {},
     "output_type": "execute_result"
    }
   ],
   "source": [
    "'val_acc: '+str(hist.history['val_acc'][-1])"
   ]
  },
  {
   "cell_type": "code",
   "execution_count": 394,
   "metadata": {},
   "outputs": [
    {
     "data": {
      "image/png": "[encoded data removed]",
      "text/plain": [
       "<matplotlib.figure.Figure at 0x1b7ca0898>"
      ]
     },
     "metadata": {},
     "output_type": "display_data"
    }
   ],
   "source": [
    "plt.plot(hist.history['acc'], 'b-', label=\"training\")\n",
    "plt.plot(hist.history['val_acc'], 'r:', label=\"test\")\n",
    "plt.legend()\n",
    "plt.show()"
   ]
  },
  {
   "cell_type": "markdown",
   "metadata": {},
   "source": [
    "### prediction"
   ]
  },
  {
   "cell_type": "code",
   "execution_count": 395,
   "metadata": {},
   "outputs": [
    {
     "data": {
      "text/plain": [
       "array([[1.5536369e-05, 4.3526976e-05, 1.6181567e-03, ..., 1.0509588e-03,\n",
       "        3.8428709e-03, 2.9214213e-04],\n",
       "       [7.3488351e-08, 3.7524137e-07, 6.8304803e-06, ..., 2.2696002e-04,\n",
       "        1.6893492e-04, 2.8734311e-07],\n",
       "       [2.3530467e-04, 3.8964188e-04, 1.5090121e-03, ..., 3.7056063e-03,\n",
       "        1.4520534e-03, 1.7130629e-03],\n",
       "       ...,\n",
       "       [1.7314820e-03, 5.1438888e-03, 2.0778393e-02, ..., 3.7511352e-03,\n",
       "        8.1621262e-04, 2.9003533e-02],\n",
       "       [1.3436707e-11, 3.8105845e-11, 2.5414562e-09, ..., 1.1921629e-06,\n",
       "        5.9103368e-05, 3.9776750e-12],\n",
       "       [6.7448632e-08, 1.4521852e-07, 7.8552584e-06, ..., 2.3152826e-03,\n",
       "        1.9405508e-02, 1.0880166e-08]], dtype=float32)"
      ]
     },
     "execution_count": 395,
     "metadata": {},
     "output_type": "execute_result"
    }
   ],
   "source": [
    "result = NN_model_Adadelta.predict_proba(csr_test)\n",
    "result"
   ]
  },
  {
   "cell_type": "markdown",
   "metadata": {},
   "source": [
    "### Make Submission CSV file"
   ]
  },
  {
   "cell_type": "code",
   "execution_count": 396,
   "metadata": {},
   "outputs": [
    {
     "data": {
      "text/html": [
       "<div>\n",
       "<style scoped>\n",
       "    .dataframe tbody tr th:only-of-type {\n",
       "        vertical-align: middle;\n",
       "    }\n",
       "\n",
       "    .dataframe tbody tr th {\n",
       "        vertical-align: top;\n",
       "    }\n",
       "\n",
       "    .dataframe thead th {\n",
       "        text-align: right;\n",
       "    }\n",
       "</style>\n",
       "<table border=\"1\" class=\"dataframe\">\n",
       "  <thead>\n",
       "    <tr style=\"text-align: right;\">\n",
       "      <th></th>\n",
       "      <th>TripType_3</th>\n",
       "      <th>TripType_4</th>\n",
       "      <th>TripType_5</th>\n",
       "      <th>TripType_6</th>\n",
       "      <th>TripType_7</th>\n",
       "      <th>TripType_8</th>\n",
       "      <th>TripType_9</th>\n",
       "      <th>TripType_12</th>\n",
       "      <th>TripType_14</th>\n",
       "      <th>TripType_15</th>\n",
       "      <th>TripType_18</th>\n",
       "      <th>TripType_19</th>\n",
       "      <th>...</th>\n",
       "      <th>TripType_34</th>\n",
       "      <th>TripType_35</th>\n",
       "      <th>TripType_36</th>\n",
       "      <th>TripType_37</th>\n",
       "      <th>TripType_38</th>\n",
       "      <th>TripType_39</th>\n",
       "      <th>TripType_40</th>\n",
       "      <th>TripType_41</th>\n",
       "      <th>TripType_42</th>\n",
       "      <th>TripType_43</th>\n",
       "      <th>TripType_44</th>\n",
       "      <th>TripType_999</th>\n",
       "    </tr>\n",
       "    <tr>\n",
       "      <th>VisitNumber</th>\n",
       "      <th></th>\n",
       "      <th></th>\n",
       "      <th></th>\n",
       "      <th></th>\n",
       "      <th></th>\n",
       "      <th></th>\n",
       "      <th></th>\n",
       "      <th></th>\n",
       "      <th></th>\n",
       "      <th></th>\n",
       "      <th></th>\n",
       "      <th></th>\n",
       "      <th></th>\n",
       "      <th></th>\n",
       "      <th></th>\n",
       "      <th></th>\n",
       "      <th></th>\n",
       "      <th></th>\n",
       "      <th></th>\n",
       "      <th></th>\n",
       "      <th></th>\n",
       "      <th></th>\n",
       "      <th></th>\n",
       "      <th></th>\n",
       "      <th></th>\n",
       "    </tr>\n",
       "  </thead>\n",
       "  <tbody>\n",
       "    <tr>\n",
       "      <th>191338</th>\n",
       "      <td>4.334320e-10</td>\n",
       "      <td>9.216717e-09</td>\n",
       "      <td>1.578179e-06</td>\n",
       "      <td>6.401921e-07</td>\n",
       "      <td>4.677436e-06</td>\n",
       "      <td>4.288371e-13</td>\n",
       "      <td>7.308071e-15</td>\n",
       "      <td>2.013786e-06</td>\n",
       "      <td>4.164234e-08</td>\n",
       "      <td>2.537585e-05</td>\n",
       "      <td>1.296265e-07</td>\n",
       "      <td>1.024818e-07</td>\n",
       "      <td>...</td>\n",
       "      <td>3.849048e-06</td>\n",
       "      <td>0.266060</td>\n",
       "      <td>2.528295e-04</td>\n",
       "      <td>5.745534e-05</td>\n",
       "      <td>0.001781</td>\n",
       "      <td>0.425455</td>\n",
       "      <td>0.027743</td>\n",
       "      <td>5.642170e-07</td>\n",
       "      <td>5.941239e-07</td>\n",
       "      <td>0.000031</td>\n",
       "      <td>0.000191</td>\n",
       "      <td>8.017709e-09</td>\n",
       "    </tr>\n",
       "    <tr>\n",
       "      <th>191339</th>\n",
       "      <td>2.406264e-06</td>\n",
       "      <td>9.081356e-06</td>\n",
       "      <td>3.021813e-04</td>\n",
       "      <td>6.868713e-05</td>\n",
       "      <td>2.690268e-04</td>\n",
       "      <td>1.506055e-11</td>\n",
       "      <td>8.285971e-08</td>\n",
       "      <td>2.042285e-04</td>\n",
       "      <td>5.702520e-05</td>\n",
       "      <td>4.694144e-03</td>\n",
       "      <td>8.349965e-04</td>\n",
       "      <td>2.122538e-04</td>\n",
       "      <td>...</td>\n",
       "      <td>1.372425e-03</td>\n",
       "      <td>0.187099</td>\n",
       "      <td>7.160552e-03</td>\n",
       "      <td>3.106973e-03</td>\n",
       "      <td>0.013387</td>\n",
       "      <td>0.030434</td>\n",
       "      <td>0.008191</td>\n",
       "      <td>1.157440e-03</td>\n",
       "      <td>3.195592e-02</td>\n",
       "      <td>0.060682</td>\n",
       "      <td>0.043722</td>\n",
       "      <td>5.568729e-06</td>\n",
       "    </tr>\n",
       "    <tr>\n",
       "      <th>191340</th>\n",
       "      <td>1.731482e-03</td>\n",
       "      <td>5.143889e-03</td>\n",
       "      <td>2.077839e-02</td>\n",
       "      <td>2.445784e-02</td>\n",
       "      <td>1.104288e-01</td>\n",
       "      <td>2.546279e-01</td>\n",
       "      <td>1.726267e-02</td>\n",
       "      <td>7.352978e-03</td>\n",
       "      <td>2.071824e-04</td>\n",
       "      <td>1.575883e-02</td>\n",
       "      <td>3.455105e-03</td>\n",
       "      <td>7.283463e-04</td>\n",
       "      <td>...</td>\n",
       "      <td>7.198363e-03</td>\n",
       "      <td>0.217348</td>\n",
       "      <td>3.563600e-02</td>\n",
       "      <td>1.834127e-02</td>\n",
       "      <td>0.034609</td>\n",
       "      <td>0.040639</td>\n",
       "      <td>0.001156</td>\n",
       "      <td>4.769665e-04</td>\n",
       "      <td>2.306865e-03</td>\n",
       "      <td>0.003751</td>\n",
       "      <td>0.000816</td>\n",
       "      <td>2.900353e-02</td>\n",
       "    </tr>\n",
       "    <tr>\n",
       "      <th>191341</th>\n",
       "      <td>1.343671e-11</td>\n",
       "      <td>3.810584e-11</td>\n",
       "      <td>2.541456e-09</td>\n",
       "      <td>4.680402e-10</td>\n",
       "      <td>4.379584e-08</td>\n",
       "      <td>1.986884e-19</td>\n",
       "      <td>2.331010e-17</td>\n",
       "      <td>1.277246e-07</td>\n",
       "      <td>1.000143e-09</td>\n",
       "      <td>8.297919e-07</td>\n",
       "      <td>1.856654e-09</td>\n",
       "      <td>1.547749e-09</td>\n",
       "      <td>...</td>\n",
       "      <td>7.839162e-08</td>\n",
       "      <td>0.000007</td>\n",
       "      <td>2.891965e-07</td>\n",
       "      <td>3.084047e-07</td>\n",
       "      <td>0.000003</td>\n",
       "      <td>0.000363</td>\n",
       "      <td>0.002923</td>\n",
       "      <td>3.825067e-08</td>\n",
       "      <td>1.043758e-06</td>\n",
       "      <td>0.000001</td>\n",
       "      <td>0.000059</td>\n",
       "      <td>3.977675e-12</td>\n",
       "    </tr>\n",
       "    <tr>\n",
       "      <th>191348</th>\n",
       "      <td>6.744863e-08</td>\n",
       "      <td>1.452185e-07</td>\n",
       "      <td>7.855258e-06</td>\n",
       "      <td>7.291141e-08</td>\n",
       "      <td>6.076662e-07</td>\n",
       "      <td>1.899133e-16</td>\n",
       "      <td>6.012883e-10</td>\n",
       "      <td>1.431751e-05</td>\n",
       "      <td>5.231590e-07</td>\n",
       "      <td>5.046592e-05</td>\n",
       "      <td>7.142322e-06</td>\n",
       "      <td>1.198111e-06</td>\n",
       "      <td>...</td>\n",
       "      <td>5.213990e-06</td>\n",
       "      <td>0.000124</td>\n",
       "      <td>3.730401e-05</td>\n",
       "      <td>8.021255e-05</td>\n",
       "      <td>0.000036</td>\n",
       "      <td>0.003226</td>\n",
       "      <td>0.001111</td>\n",
       "      <td>6.925710e-03</td>\n",
       "      <td>1.678368e-02</td>\n",
       "      <td>0.002315</td>\n",
       "      <td>0.019406</td>\n",
       "      <td>1.088017e-08</td>\n",
       "    </tr>\n",
       "  </tbody>\n",
       "</table>\n",
       "<p>5 rows × 38 columns</p>\n",
       "</div>"
      ],
      "text/plain": [
       "               TripType_3    TripType_4    TripType_5    TripType_6  \\\n",
       "VisitNumber                                                           \n",
       "191338       4.334320e-10  9.216717e-09  1.578179e-06  6.401921e-07   \n",
       "191339       2.406264e-06  9.081356e-06  3.021813e-04  6.868713e-05   \n",
       "191340       1.731482e-03  5.143889e-03  2.077839e-02  2.445784e-02   \n",
       "191341       1.343671e-11  3.810584e-11  2.541456e-09  4.680402e-10   \n",
       "191348       6.744863e-08  1.452185e-07  7.855258e-06  7.291141e-08   \n",
       "\n",
       "               TripType_7    TripType_8    TripType_9   TripType_12  \\\n",
       "VisitNumber                                                           \n",
       "191338       4.677436e-06  4.288371e-13  7.308071e-15  2.013786e-06   \n",
       "191339       2.690268e-04  1.506055e-11  8.285971e-08  2.042285e-04   \n",
       "191340       1.104288e-01  2.546279e-01  1.726267e-02  7.352978e-03   \n",
       "191341       4.379584e-08  1.986884e-19  2.331010e-17  1.277246e-07   \n",
       "191348       6.076662e-07  1.899133e-16  6.012883e-10  1.431751e-05   \n",
       "\n",
       "              TripType_14   TripType_15   TripType_18   TripType_19  \\\n",
       "VisitNumber                                                           \n",
       "191338       4.164234e-08  2.537585e-05  1.296265e-07  1.024818e-07   \n",
       "191339       5.702520e-05  4.694144e-03  8.349965e-04  2.122538e-04   \n",
       "191340       2.071824e-04  1.575883e-02  3.455105e-03  7.283463e-04   \n",
       "191341       1.000143e-09  8.297919e-07  1.856654e-09  1.547749e-09   \n",
       "191348       5.231590e-07  5.046592e-05  7.142322e-06  1.198111e-06   \n",
       "\n",
       "                 ...        TripType_34  TripType_35   TripType_36  \\\n",
       "VisitNumber      ...                                                 \n",
       "191338           ...       3.849048e-06     0.266060  2.528295e-04   \n",
       "191339           ...       1.372425e-03     0.187099  7.160552e-03   \n",
       "191340           ...       7.198363e-03     0.217348  3.563600e-02   \n",
       "191341           ...       7.839162e-08     0.000007  2.891965e-07   \n",
       "191348           ...       5.213990e-06     0.000124  3.730401e-05   \n",
       "\n",
       "              TripType_37  TripType_38  TripType_39  TripType_40  \\\n",
       "VisitNumber                                                        \n",
       "191338       5.745534e-05     0.001781     0.425455     0.027743   \n",
       "191339       3.106973e-03     0.013387     0.030434     0.008191   \n",
       "191340       1.834127e-02     0.034609     0.040639     0.001156   \n",
       "191341       3.084047e-07     0.000003     0.000363     0.002923   \n",
       "191348       8.021255e-05     0.000036     0.003226     0.001111   \n",
       "\n",
       "              TripType_41   TripType_42  TripType_43  TripType_44  \\\n",
       "VisitNumber                                                         \n",
       "191338       5.642170e-07  5.941239e-07     0.000031     0.000191   \n",
       "191339       1.157440e-03  3.195592e-02     0.060682     0.043722   \n",
       "191340       4.769665e-04  2.306865e-03     0.003751     0.000816   \n",
       "191341       3.825067e-08  1.043758e-06     0.000001     0.000059   \n",
       "191348       6.925710e-03  1.678368e-02     0.002315     0.019406   \n",
       "\n",
       "             TripType_999  \n",
       "VisitNumber                \n",
       "191338       8.017709e-09  \n",
       "191339       5.568729e-06  \n",
       "191340       2.900353e-02  \n",
       "191341       3.977675e-12  \n",
       "191348       1.088017e-08  \n",
       "\n",
       "[5 rows x 38 columns]"
      ]
     },
     "execution_count": 396,
     "metadata": {},
     "output_type": "execute_result"
    }
   ],
   "source": [
    "subform_df_columns = samplesub.columns[1:]\n",
    "result_df = pd.DataFrame(result)\n",
    "result_df.columns = subform_df_columns\n",
    "subform_df = pd.concat([test.reset_index()['VisitNumber'],result_df],axis=1)\n",
    "subform_df.set_index('VisitNumber',inplace=True)\n",
    "subform_df.tail()"
   ]
  },
  {
   "cell_type": "code",
   "execution_count": 397,
   "metadata": {},
   "outputs": [],
   "source": [
    "subform_df.to_csv('./NN/Adadelta_den{}_lr{}_epo{}_batch_size{}.csv'.format(dense,lr,epochs,batch_size))"
   ]
  },
  {
   "cell_type": "markdown",
   "metadata": {},
   "source": [
    "---"
   ]
  },
  {
   "cell_type": "markdown",
   "metadata": {},
   "source": [
    "## 모델저장"
   ]
  },
  {
   "cell_type": "code",
   "execution_count": 125,
   "metadata": {},
   "outputs": [],
   "source": [
    "NN_model_Adadelta.save('./NN/Adadelta_den{}_lr{}_epo{}_batch_size{}.hdf5'.format(dense,lr,epochs,batch_size))"
   ]
  },
  {
   "cell_type": "code",
   "execution_count": 128,
   "metadata": {},
   "outputs": [],
   "source": [
    "from keras.models import load_model\n",
    "\n",
    "model = load_model('./NN/Adadelta_den{}_lr{}_epo{}_batch_size{}.hdf5'.format(dense,lr,epochs,batch_size))"
   ]
  },
  {
   "cell_type": "code",
   "execution_count": 129,
   "metadata": {
    "scrolled": true
   },
   "outputs": [
    {
     "data": {
      "text/plain": [
       "array([31, 31,  6, ..., 31, 24, 37])"
      ]
     },
     "execution_count": 129,
     "metadata": {},
     "output_type": "execute_result"
    }
   ],
   "source": [
    "model.predict_classes(X_test)"
   ]
  },
  {
   "cell_type": "code",
   "execution_count": null,
   "metadata": {},
   "outputs": [],
   "source": []
  }
 ],
 "metadata": {
  "kernelspec": {
   "display_name": "Python 3",
   "language": "python",
   "name": "python3"
  },
  "language_info": {
   "codemirror_mode": {
    "name": "ipython",
    "version": 3
   },
   "file_extension": ".py",
   "mimetype": "text/x-python",
   "name": "python",
   "nbconvert_exporter": "python",
   "pygments_lexer": "ipython3",
   "version": "3.6.4"
  }
 },
 "nbformat": 4,
 "nbformat_minor": 2
}
