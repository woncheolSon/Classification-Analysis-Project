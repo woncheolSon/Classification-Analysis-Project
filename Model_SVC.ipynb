{
 "cells": [
  {
   "cell_type": "code",
   "execution_count": 1,
   "metadata": {
    "scrolled": true
   },
   "outputs": [],
   "source": [
    "import numpy as np\n",
    "import pandas as pd\n",
    "pd.set_option('max_rows',38)\n",
    "pd.set_option('max_columns',25)\n",
    "import time\n",
    "import pickle\n",
    "# from tqdm import tqdm\n",
    "import myslack_incomming\n",
    "# model\n",
    "from sklearn.tree import DecisionTreeClassifier\n",
    "from sklearn.linear_model import LogisticRegression\n",
    "from sklearn.naive_bayes import MultinomialNB\n",
    "from sklearn.metrics import confusion_matrix\n",
    "from sklearn.ensemble import BaggingClassifier\n",
    "from sklearn.ensemble import GradientBoostingClassifier\n",
    "from sklearn.ensemble import GradientBoostingRegressor\n",
    "from sklearn.ensemble import RandomForestClassifier\n",
    "from sklearn.ensemble import ExtraTreesClassifier\n",
    "# import xgboost\n",
    "from sklearn.model_selection import GridSearchCV\n",
    "from sklearn.pipeline import Pipeline\n",
    "from sklearn.svm import SVC\n",
    "from scipy.sparse import csr_matrix\n",
    "from sklearn.model_selection import train_test_split\n",
    "from sklearn.model_selection import validation_curve\n",
    "from sklearn.model_selection import KFold, cross_val_score\n",
    "from sklearn.metrics import classification_report"
   ]
  },
  {
   "cell_type": "markdown",
   "metadata": {},
   "source": [
    "# Data Check"
   ]
  },
  {
   "cell_type": "markdown",
   "metadata": {},
   "source": [
    "#### - train.csv"
   ]
  },
  {
   "cell_type": "code",
   "execution_count": 2,
   "metadata": {
    "scrolled": true
   },
   "outputs": [
    {
     "name": "stdout",
     "output_type": "stream",
     "text": [
      "test data shape: (95674, 5494)\n",
      "CPU times: user 210 ms, sys: 677 ms, total: 887 ms\n",
      "Wall time: 908 ms\n"
     ]
    }
   ],
   "source": [
    "%%time\n",
    "train = pickle.load(open(\"./data/final_train_Ver3.pkl\", \"rb\"))\n",
    "print(\"test data shape: \"+str(train.shape))"
   ]
  },
  {
   "cell_type": "markdown",
   "metadata": {},
   "source": [
    "#### - test.csv"
   ]
  },
  {
   "cell_type": "code",
   "execution_count": 3,
   "metadata": {
    "scrolled": true
   },
   "outputs": [
    {
     "name": "stdout",
     "output_type": "stream",
     "text": [
      "test data shape: (95674, 5493)\n",
      "CPU times: user 258 ms, sys: 805 ms, total: 1.06 s\n",
      "Wall time: 2.16 s\n"
     ]
    }
   ],
   "source": [
    "%%time\n",
    "test = pickle.load(open(\"./data/final_test_Ver3.pkl\", \"rb\"))\n",
    "print(\"test data shape: \"+str(test.shape))"
   ]
  },
  {
   "cell_type": "markdown",
   "metadata": {},
   "source": [
    "#### - sample_submission.csv"
   ]
  },
  {
   "cell_type": "code",
   "execution_count": 4,
   "metadata": {
    "scrolled": false
   },
   "outputs": [
    {
     "name": "stdout",
     "output_type": "stream",
     "text": [
      "sample_submission data shape: (95674, 39)\n"
     ]
    }
   ],
   "source": [
    "samplesub = pd.read_csv(\"./data/sample_submission.csv\")\n",
    "print(\"sample_submission data shape: \"+str(samplesub.shape))"
   ]
  },
  {
   "cell_type": "markdown",
   "metadata": {},
   "source": [
    "---"
   ]
  },
  {
   "cell_type": "markdown",
   "metadata": {},
   "source": [
    "# Modeling 7 - SVM"
   ]
  },
  {
   "cell_type": "code",
   "execution_count": 5,
   "metadata": {},
   "outputs": [],
   "source": [
    "# in test, not in train\n",
    "not_in_train = [i for i in test.columns if i not in train.columns[1:]]"
   ]
  },
  {
   "cell_type": "code",
   "execution_count": 6,
   "metadata": {},
   "outputs": [],
   "source": [
    "# in train, not in test\n",
    "not_in_test = [i for i in train.columns[1:] if i not in test.columns]"
   ]
  },
  {
   "cell_type": "code",
   "execution_count": 7,
   "metadata": {},
   "outputs": [
    {
     "data": {
      "text/plain": [
       "328"
      ]
     },
     "execution_count": 7,
     "metadata": {},
     "output_type": "execute_result"
    }
   ],
   "source": [
    "len(not_in_train)"
   ]
  },
  {
   "cell_type": "code",
   "execution_count": 8,
   "metadata": {},
   "outputs": [
    {
     "data": {
      "text/plain": [
       "328"
      ]
     },
     "execution_count": 8,
     "metadata": {},
     "output_type": "execute_result"
    }
   ],
   "source": [
    "len(not_in_test)"
   ]
  },
  {
   "cell_type": "code",
   "execution_count": 9,
   "metadata": {},
   "outputs": [],
   "source": [
    "train.drop(columns=not_in_test,inplace=True)"
   ]
  },
  {
   "cell_type": "code",
   "execution_count": 10,
   "metadata": {},
   "outputs": [
    {
     "data": {
      "text/plain": [
       "(95674, 5166)"
      ]
     },
     "execution_count": 10,
     "metadata": {},
     "output_type": "execute_result"
    }
   ],
   "source": [
    "train.shape"
   ]
  },
  {
   "cell_type": "code",
   "execution_count": 11,
   "metadata": {},
   "outputs": [],
   "source": [
    "test.drop(columns=not_in_train,inplace=True)"
   ]
  },
  {
   "cell_type": "code",
   "execution_count": 12,
   "metadata": {},
   "outputs": [
    {
     "data": {
      "text/plain": [
       "(95674, 5165)"
      ]
     },
     "execution_count": 12,
     "metadata": {},
     "output_type": "execute_result"
    }
   ],
   "source": [
    "test.shape"
   ]
  },
  {
   "cell_type": "markdown",
   "metadata": {},
   "source": [
    "### Train_X, Train_y"
   ]
  },
  {
   "cell_type": "code",
   "execution_count": 13,
   "metadata": {},
   "outputs": [],
   "source": [
    "X = train.drop(columns='TripType')\n",
    "y = train['TripType']"
   ]
  },
  {
   "cell_type": "code",
   "execution_count": 14,
   "metadata": {},
   "outputs": [
    {
     "data": {
      "text/plain": [
       "<95674x5165 sparse matrix of type '<class 'numpy.float64'>'\n",
       "\twith 2214766 stored elements in Compressed Sparse Row format>"
      ]
     },
     "execution_count": 14,
     "metadata": {},
     "output_type": "execute_result"
    }
   ],
   "source": [
    "X = csr_matrix(X); X"
   ]
  },
  {
   "cell_type": "code",
   "execution_count": 15,
   "metadata": {},
   "outputs": [
    {
     "data": {
      "text/plain": [
       "<95674x5165 sparse matrix of type '<class 'numpy.float64'>'\n",
       "\twith 2221183 stored elements in Compressed Sparse Row format>"
      ]
     },
     "execution_count": 15,
     "metadata": {},
     "output_type": "execute_result"
    }
   ],
   "source": [
    "csr_test = csr_matrix(test); csr_test"
   ]
  },
  {
   "cell_type": "markdown",
   "metadata": {},
   "source": [
    "### SVM"
   ]
  },
  {
   "cell_type": "code",
   "execution_count": 30,
   "metadata": {},
   "outputs": [
    {
     "name": "stdout",
     "output_type": "stream",
     "text": [
      "<Response [200]>\n",
      "CPU times: user 1h 21min 12s, sys: 21.8 s, total: 1h 21min 34s\n",
      "Wall time: 1h 22min 3s\n"
     ]
    }
   ],
   "source": [
    "%%time\n",
    "\n",
    "C = 1e2\n",
    "\n",
    "rbfsvc_model = SVC(kernel=\"rbf\", C=C, probability=True).fit(X, y)\n",
    "\n",
    "myslack_incomming.send_slack('SVC 1e2 modeling finish!')"
   ]
  },
  {
   "cell_type": "markdown",
   "metadata": {},
   "source": [
    "### Confusion Matrix"
   ]
  },
  {
   "cell_type": "code",
   "execution_count": 31,
   "metadata": {
    "scrolled": false
   },
   "outputs": [
    {
     "name": "stdout",
     "output_type": "stream",
     "text": [
      "CPU times: user 14min 1s, sys: 707 ms, total: 14min 2s\n",
      "Wall time: 14min 2s\n"
     ]
    },
    {
     "data": {
      "text/plain": [
       "array([[3581,    0,    0, ...,    1,    0,   26],\n",
       "       [   1,  176,  139, ...,    0,    0,    0],\n",
       "       [   4,    9, 4272, ...,    1,    0,    0],\n",
       "       ...,\n",
       "       [   0,    0,   29, ...,  426,    2,    0],\n",
       "       [   0,    0,    1, ...,   19, 1054,    0],\n",
       "       [ 317,    4,   73, ...,    0,    0, 7122]])"
      ]
     },
     "execution_count": 31,
     "metadata": {},
     "output_type": "execute_result"
    }
   ],
   "source": [
    "%time confusion_matrix(y, rbfsvc_model.predict(X))"
   ]
  },
  {
   "cell_type": "code",
   "execution_count": 32,
   "metadata": {
    "scrolled": true
   },
   "outputs": [
    {
     "name": "stdout",
     "output_type": "stream",
     "text": [
      "<Response [200]>\n"
     ]
    }
   ],
   "source": [
    "myslack_incomming.send_slack('SVC confusion_matrix finish!')"
   ]
  },
  {
   "cell_type": "markdown",
   "metadata": {},
   "source": [
    "### Train Test Split"
   ]
  },
  {
   "cell_type": "code",
   "execution_count": 33,
   "metadata": {},
   "outputs": [
    {
     "data": {
      "text/plain": [
       "(86106, 9568, 86106, 9568)"
      ]
     },
     "execution_count": 33,
     "metadata": {},
     "output_type": "execute_result"
    }
   ],
   "source": [
    "X_train, X_test, y_train, y_test = train_test_split(X, y, test_size=0.1)\n",
    "\n",
    "X_train.shape[0], X_test.shape[0], len(y_train), len(y_test)"
   ]
  },
  {
   "cell_type": "code",
   "execution_count": 34,
   "metadata": {},
   "outputs": [
    {
     "name": "stdout",
     "output_type": "stream",
     "text": [
      "CPU times: user 1min 25s, sys: 115 ms, total: 1min 25s\n",
      "Wall time: 1min 25s\n"
     ]
    }
   ],
   "source": [
    "%time y_pred = rbfsvc_model.predict(X_test)"
   ]
  },
  {
   "cell_type": "code",
   "execution_count": 35,
   "metadata": {},
   "outputs": [
    {
     "name": "stdout",
     "output_type": "stream",
     "text": [
      "<Response [200]>\n"
     ]
    }
   ],
   "source": [
    "myslack_incomming.send_slack('SVC 1e2 predict finish!')"
   ]
  },
  {
   "cell_type": "code",
   "execution_count": 36,
   "metadata": {
    "scrolled": false
   },
   "outputs": [
    {
     "name": "stdout",
     "output_type": "stream",
     "text": [
      "             precision    recall  f1-score   support\n",
      "\n",
      "          3       0.86      0.97      0.91       363\n",
      "          4       0.79      0.53      0.63        36\n",
      "          5       0.77      0.93      0.84       452\n",
      "          6       0.90      0.84      0.87       112\n",
      "          7       0.82      0.82      0.82       566\n",
      "          8       0.86      0.86      0.86      1255\n",
      "          9       0.70      0.90      0.79       955\n",
      "         12       0.94      0.62      0.74        26\n",
      "         15       0.85      0.67      0.75       106\n",
      "         18       0.71      0.61      0.66        64\n",
      "         19       0.83      0.45      0.58        42\n",
      "         20       0.79      0.81      0.80        70\n",
      "         21       0.79      0.80      0.80        71\n",
      "         22       0.75      0.49      0.59        88\n",
      "         23       0.67      0.20      0.31        10\n",
      "         24       0.87      0.74      0.80       280\n",
      "         25       0.86      0.84      0.85       360\n",
      "         26       0.64      0.62      0.63        52\n",
      "         27       0.84      0.84      0.84        79\n",
      "         28       0.54      0.60      0.57        42\n",
      "         29       0.80      0.43      0.56        37\n",
      "         30       0.66      0.49      0.56       105\n",
      "         31       0.94      0.85      0.89        71\n",
      "         32       0.80      0.88      0.84       180\n",
      "         33       0.84      0.81      0.83       127\n",
      "         34       0.81      0.75      0.78        85\n",
      "         35       0.80      0.78      0.79       192\n",
      "         36       0.81      0.80      0.80       299\n",
      "         37       0.89      0.85      0.87       271\n",
      "         38       0.90      0.80      0.85       300\n",
      "         39       0.83      0.90      0.87       984\n",
      "         40       1.00      0.99      1.00       586\n",
      "         41       1.00      0.54      0.70        56\n",
      "         42       0.89      0.68      0.77       182\n",
      "         43       0.85      0.57      0.68        88\n",
      "         44       1.00      0.88      0.94       117\n",
      "        999       0.99      0.85      0.92       859\n",
      "\n",
      "avg / total       0.85      0.84      0.84      9568\n",
      "\n"
     ]
    }
   ],
   "source": [
    "print(classification_report(y_test, y_pred))"
   ]
  },
  {
   "cell_type": "markdown",
   "metadata": {},
   "source": [
    "### prediction"
   ]
  },
  {
   "cell_type": "code",
   "execution_count": 37,
   "metadata": {},
   "outputs": [
    {
     "name": "stdout",
     "output_type": "stream",
     "text": [
      "CPU times: user 14min 28s, sys: 1.52 s, total: 14min 29s\n",
      "Wall time: 14min 30s\n"
     ]
    }
   ],
   "source": [
    "%%time\n",
    "result = rbfsvc_model.predict_proba(csr_test)\n",
    "result"
   ]
  },
  {
   "cell_type": "markdown",
   "metadata": {},
   "source": [
    "### Make Submission CSV file"
   ]
  },
  {
   "cell_type": "code",
   "execution_count": 38,
   "metadata": {},
   "outputs": [
    {
     "data": {
      "text/html": [
       "<div>\n",
       "<style scoped>\n",
       "    .dataframe tbody tr th:only-of-type {\n",
       "        vertical-align: middle;\n",
       "    }\n",
       "\n",
       "    .dataframe tbody tr th {\n",
       "        vertical-align: top;\n",
       "    }\n",
       "\n",
       "    .dataframe thead th {\n",
       "        text-align: right;\n",
       "    }\n",
       "</style>\n",
       "<table border=\"1\" class=\"dataframe\">\n",
       "  <thead>\n",
       "    <tr style=\"text-align: right;\">\n",
       "      <th></th>\n",
       "      <th>TripType_3</th>\n",
       "      <th>TripType_4</th>\n",
       "      <th>TripType_5</th>\n",
       "      <th>TripType_6</th>\n",
       "      <th>TripType_7</th>\n",
       "      <th>TripType_8</th>\n",
       "      <th>TripType_9</th>\n",
       "      <th>TripType_12</th>\n",
       "      <th>TripType_14</th>\n",
       "      <th>TripType_15</th>\n",
       "      <th>TripType_18</th>\n",
       "      <th>TripType_19</th>\n",
       "      <th>...</th>\n",
       "      <th>TripType_34</th>\n",
       "      <th>TripType_35</th>\n",
       "      <th>TripType_36</th>\n",
       "      <th>TripType_37</th>\n",
       "      <th>TripType_38</th>\n",
       "      <th>TripType_39</th>\n",
       "      <th>TripType_40</th>\n",
       "      <th>TripType_41</th>\n",
       "      <th>TripType_42</th>\n",
       "      <th>TripType_43</th>\n",
       "      <th>TripType_44</th>\n",
       "      <th>TripType_999</th>\n",
       "    </tr>\n",
       "    <tr>\n",
       "      <th>VisitNumber</th>\n",
       "      <th></th>\n",
       "      <th></th>\n",
       "      <th></th>\n",
       "      <th></th>\n",
       "      <th></th>\n",
       "      <th></th>\n",
       "      <th></th>\n",
       "      <th></th>\n",
       "      <th></th>\n",
       "      <th></th>\n",
       "      <th></th>\n",
       "      <th></th>\n",
       "      <th></th>\n",
       "      <th></th>\n",
       "      <th></th>\n",
       "      <th></th>\n",
       "      <th></th>\n",
       "      <th></th>\n",
       "      <th></th>\n",
       "      <th></th>\n",
       "      <th></th>\n",
       "      <th></th>\n",
       "      <th></th>\n",
       "      <th></th>\n",
       "      <th></th>\n",
       "    </tr>\n",
       "  </thead>\n",
       "  <tbody>\n",
       "    <tr>\n",
       "      <th>191338</th>\n",
       "      <td>0.000962</td>\n",
       "      <td>0.001394</td>\n",
       "      <td>0.008246</td>\n",
       "      <td>0.004807</td>\n",
       "      <td>0.023484</td>\n",
       "      <td>0.001085</td>\n",
       "      <td>0.001131</td>\n",
       "      <td>0.010528</td>\n",
       "      <td>0.001180</td>\n",
       "      <td>0.013596</td>\n",
       "      <td>0.003167</td>\n",
       "      <td>0.002032</td>\n",
       "      <td>...</td>\n",
       "      <td>0.003672</td>\n",
       "      <td>0.231646</td>\n",
       "      <td>0.010441</td>\n",
       "      <td>0.015506</td>\n",
       "      <td>0.033620</td>\n",
       "      <td>0.307638</td>\n",
       "      <td>0.005598</td>\n",
       "      <td>0.004377</td>\n",
       "      <td>0.008324</td>\n",
       "      <td>0.007503</td>\n",
       "      <td>0.006831</td>\n",
       "      <td>0.007505</td>\n",
       "    </tr>\n",
       "    <tr>\n",
       "      <th>191339</th>\n",
       "      <td>0.000493</td>\n",
       "      <td>0.000734</td>\n",
       "      <td>0.003210</td>\n",
       "      <td>0.002127</td>\n",
       "      <td>0.006500</td>\n",
       "      <td>0.000967</td>\n",
       "      <td>0.000870</td>\n",
       "      <td>0.006535</td>\n",
       "      <td>0.000564</td>\n",
       "      <td>0.009225</td>\n",
       "      <td>0.014376</td>\n",
       "      <td>0.002037</td>\n",
       "      <td>...</td>\n",
       "      <td>0.001663</td>\n",
       "      <td>0.013110</td>\n",
       "      <td>0.005920</td>\n",
       "      <td>0.004029</td>\n",
       "      <td>0.009256</td>\n",
       "      <td>0.018581</td>\n",
       "      <td>0.002515</td>\n",
       "      <td>0.034428</td>\n",
       "      <td>0.321135</td>\n",
       "      <td>0.041018</td>\n",
       "      <td>0.009937</td>\n",
       "      <td>0.006544</td>\n",
       "    </tr>\n",
       "    <tr>\n",
       "      <th>191340</th>\n",
       "      <td>0.001316</td>\n",
       "      <td>0.001636</td>\n",
       "      <td>0.003826</td>\n",
       "      <td>0.005650</td>\n",
       "      <td>0.017444</td>\n",
       "      <td>0.827590</td>\n",
       "      <td>0.036143</td>\n",
       "      <td>0.001398</td>\n",
       "      <td>0.000110</td>\n",
       "      <td>0.010322</td>\n",
       "      <td>0.001978</td>\n",
       "      <td>0.000545</td>\n",
       "      <td>...</td>\n",
       "      <td>0.001316</td>\n",
       "      <td>0.018483</td>\n",
       "      <td>0.005017</td>\n",
       "      <td>0.001870</td>\n",
       "      <td>0.002277</td>\n",
       "      <td>0.002710</td>\n",
       "      <td>0.000450</td>\n",
       "      <td>0.000444</td>\n",
       "      <td>0.003649</td>\n",
       "      <td>0.000148</td>\n",
       "      <td>0.000303</td>\n",
       "      <td>0.029907</td>\n",
       "    </tr>\n",
       "    <tr>\n",
       "      <th>191341</th>\n",
       "      <td>0.000007</td>\n",
       "      <td>0.000013</td>\n",
       "      <td>0.000216</td>\n",
       "      <td>0.000042</td>\n",
       "      <td>0.000137</td>\n",
       "      <td>0.000030</td>\n",
       "      <td>0.000013</td>\n",
       "      <td>0.001181</td>\n",
       "      <td>0.000026</td>\n",
       "      <td>0.001078</td>\n",
       "      <td>0.000067</td>\n",
       "      <td>0.000017</td>\n",
       "      <td>...</td>\n",
       "      <td>0.000101</td>\n",
       "      <td>0.000139</td>\n",
       "      <td>0.000211</td>\n",
       "      <td>0.000176</td>\n",
       "      <td>0.000245</td>\n",
       "      <td>0.003434</td>\n",
       "      <td>0.001124</td>\n",
       "      <td>0.003315</td>\n",
       "      <td>0.003796</td>\n",
       "      <td>0.001094</td>\n",
       "      <td>0.005899</td>\n",
       "      <td>0.000072</td>\n",
       "    </tr>\n",
       "    <tr>\n",
       "      <th>191348</th>\n",
       "      <td>0.000050</td>\n",
       "      <td>0.000047</td>\n",
       "      <td>0.000021</td>\n",
       "      <td>0.000034</td>\n",
       "      <td>0.000016</td>\n",
       "      <td>0.000002</td>\n",
       "      <td>0.000017</td>\n",
       "      <td>0.000072</td>\n",
       "      <td>0.000061</td>\n",
       "      <td>0.000033</td>\n",
       "      <td>0.000032</td>\n",
       "      <td>0.000020</td>\n",
       "      <td>...</td>\n",
       "      <td>0.000041</td>\n",
       "      <td>0.000010</td>\n",
       "      <td>0.000034</td>\n",
       "      <td>0.000027</td>\n",
       "      <td>0.000023</td>\n",
       "      <td>0.000096</td>\n",
       "      <td>0.000040</td>\n",
       "      <td>0.003987</td>\n",
       "      <td>0.008178</td>\n",
       "      <td>0.000587</td>\n",
       "      <td>0.003578</td>\n",
       "      <td>0.000224</td>\n",
       "    </tr>\n",
       "  </tbody>\n",
       "</table>\n",
       "<p>5 rows × 38 columns</p>\n",
       "</div>"
      ],
      "text/plain": [
       "             TripType_3  TripType_4  TripType_5  TripType_6  TripType_7  \\\n",
       "VisitNumber                                                               \n",
       "191338         0.000962    0.001394    0.008246    0.004807    0.023484   \n",
       "191339         0.000493    0.000734    0.003210    0.002127    0.006500   \n",
       "191340         0.001316    0.001636    0.003826    0.005650    0.017444   \n",
       "191341         0.000007    0.000013    0.000216    0.000042    0.000137   \n",
       "191348         0.000050    0.000047    0.000021    0.000034    0.000016   \n",
       "\n",
       "             TripType_8  TripType_9  TripType_12  TripType_14  TripType_15  \\\n",
       "VisitNumber                                                                  \n",
       "191338         0.001085    0.001131     0.010528     0.001180     0.013596   \n",
       "191339         0.000967    0.000870     0.006535     0.000564     0.009225   \n",
       "191340         0.827590    0.036143     0.001398     0.000110     0.010322   \n",
       "191341         0.000030    0.000013     0.001181     0.000026     0.001078   \n",
       "191348         0.000002    0.000017     0.000072     0.000061     0.000033   \n",
       "\n",
       "             TripType_18  TripType_19      ...       TripType_34  TripType_35  \\\n",
       "VisitNumber                                ...                                  \n",
       "191338          0.003167     0.002032      ...          0.003672     0.231646   \n",
       "191339          0.014376     0.002037      ...          0.001663     0.013110   \n",
       "191340          0.001978     0.000545      ...          0.001316     0.018483   \n",
       "191341          0.000067     0.000017      ...          0.000101     0.000139   \n",
       "191348          0.000032     0.000020      ...          0.000041     0.000010   \n",
       "\n",
       "             TripType_36  TripType_37  TripType_38  TripType_39  TripType_40  \\\n",
       "VisitNumber                                                                    \n",
       "191338          0.010441     0.015506     0.033620     0.307638     0.005598   \n",
       "191339          0.005920     0.004029     0.009256     0.018581     0.002515   \n",
       "191340          0.005017     0.001870     0.002277     0.002710     0.000450   \n",
       "191341          0.000211     0.000176     0.000245     0.003434     0.001124   \n",
       "191348          0.000034     0.000027     0.000023     0.000096     0.000040   \n",
       "\n",
       "             TripType_41  TripType_42  TripType_43  TripType_44  TripType_999  \n",
       "VisitNumber                                                                    \n",
       "191338          0.004377     0.008324     0.007503     0.006831      0.007505  \n",
       "191339          0.034428     0.321135     0.041018     0.009937      0.006544  \n",
       "191340          0.000444     0.003649     0.000148     0.000303      0.029907  \n",
       "191341          0.003315     0.003796     0.001094     0.005899      0.000072  \n",
       "191348          0.003987     0.008178     0.000587     0.003578      0.000224  \n",
       "\n",
       "[5 rows x 38 columns]"
      ]
     },
     "execution_count": 38,
     "metadata": {},
     "output_type": "execute_result"
    }
   ],
   "source": [
    "subform_df_columns = samplesub.columns[1:]\n",
    "result_df = pd.DataFrame(result)\n",
    "result_df.columns = subform_df_columns\n",
    "subform_df = pd.concat([test.reset_index()['VisitNumber'],result_df],axis=1)\n",
    "subform_df.set_index('VisitNumber',inplace=True)\n",
    "subform_df.tail()"
   ]
  },
  {
   "cell_type": "code",
   "execution_count": 39,
   "metadata": {},
   "outputs": [],
   "source": [
    "subform_df.to_csv('./SVM/result_SVC_1e2.csv')"
   ]
  },
  {
   "cell_type": "markdown",
   "metadata": {},
   "source": [
    "## 모델 저장"
   ]
  },
  {
   "cell_type": "code",
   "execution_count": 40,
   "metadata": {},
   "outputs": [],
   "source": [
    "from sklearn.externals import joblib\n",
    "\n",
    "joblib.dump(rbfsvc_model, './SVM/model_SVC_1e2.pkl' )\n",
    "svc = joblib.load('./SVM/model_SVC_1e2.pkl' )"
   ]
  },
  {
   "cell_type": "code",
   "execution_count": null,
   "metadata": {},
   "outputs": [],
   "source": []
  },
  {
   "cell_type": "code",
   "execution_count": null,
   "metadata": {},
   "outputs": [],
   "source": []
  },
  {
   "cell_type": "code",
   "execution_count": null,
   "metadata": {},
   "outputs": [],
   "source": []
  },
  {
   "cell_type": "code",
   "execution_count": null,
   "metadata": {},
   "outputs": [],
   "source": []
  },
  {
   "cell_type": "markdown",
   "metadata": {},
   "source": [
    "## le6"
   ]
  },
  {
   "cell_type": "markdown",
   "metadata": {},
   "source": [
    "### Confusion Matrix"
   ]
  },
  {
   "cell_type": "code",
   "execution_count": 17,
   "metadata": {
    "scrolled": false
   },
   "outputs": [
    {
     "name": "stdout",
     "output_type": "stream",
     "text": [
      "CPU times: user 14min 10s, sys: 2.05 s, total: 14min 12s\n",
      "Wall time: 1h 17min 21s\n"
     ]
    },
    {
     "data": {
      "text/plain": [
       "array([[3623,    0,    0, ...,    0,    0,   19],\n",
       "       [   0,  346,    0, ...,    0,    0,    0],\n",
       "       [   0,    0, 4593, ...,    0,    0,    0],\n",
       "       ...,\n",
       "       [   0,    0,    0, ...,  872,    0,    0],\n",
       "       [   0,    0,    0, ...,    0, 1187,    0],\n",
       "       [ 280,    2,    5, ...,    0,    0, 8089]])"
      ]
     },
     "execution_count": 17,
     "metadata": {},
     "output_type": "execute_result"
    }
   ],
   "source": [
    "%time confusion_matrix(y, rbfsvc_model.predict(X))"
   ]
  },
  {
   "cell_type": "code",
   "execution_count": 18,
   "metadata": {
    "scrolled": true
   },
   "outputs": [
    {
     "name": "stdout",
     "output_type": "stream",
     "text": [
      "<Response [200]>\n"
     ]
    }
   ],
   "source": [
    "myslack_incomming.send_slack('SVC confusion_matrix finish!')"
   ]
  },
  {
   "cell_type": "markdown",
   "metadata": {},
   "source": [
    "### Train Test Split"
   ]
  },
  {
   "cell_type": "code",
   "execution_count": 20,
   "metadata": {},
   "outputs": [
    {
     "data": {
      "text/plain": [
       "(86106, 9568, 86106, 9568)"
      ]
     },
     "execution_count": 20,
     "metadata": {},
     "output_type": "execute_result"
    }
   ],
   "source": [
    "X_train, X_test, y_train, y_test = train_test_split(X, y, test_size=0.1)\n",
    "\n",
    "X_train.shape[0], X_test.shape[0], len(y_train), len(y_test)"
   ]
  },
  {
   "cell_type": "code",
   "execution_count": 21,
   "metadata": {},
   "outputs": [
    {
     "name": "stdout",
     "output_type": "stream",
     "text": [
      "CPU times: user 1min 26s, sys: 391 ms, total: 1min 26s\n",
      "Wall time: 1min 27s\n"
     ]
    }
   ],
   "source": [
    "%time y_pred = rbfsvc_model.predict(X_test)"
   ]
  },
  {
   "cell_type": "code",
   "execution_count": 22,
   "metadata": {},
   "outputs": [
    {
     "name": "stdout",
     "output_type": "stream",
     "text": [
      "<Response [200]>\n"
     ]
    }
   ],
   "source": [
    "myslack_incomming.send_slack('SVC 1e2 predict finish!')"
   ]
  },
  {
   "cell_type": "code",
   "execution_count": 27,
   "metadata": {
    "scrolled": false
   },
   "outputs": [
    {
     "name": "stdout",
     "output_type": "stream",
     "text": [
      "             precision    recall  f1-score   support\n",
      "\n",
      "          3       0.90      0.99      0.95       347\n",
      "          4       1.00      1.00      1.00        25\n",
      "          5       1.00      1.00      1.00       458\n",
      "          6       1.00      1.00      1.00       132\n",
      "          7       1.00      1.00      1.00       617\n",
      "          8       0.99      1.00      0.99      1247\n",
      "          9       0.97      0.99      0.98       907\n",
      "         12       1.00      1.00      1.00        31\n",
      "         15       0.99      1.00      1.00       105\n",
      "         18       1.00      1.00      1.00        51\n",
      "         19       1.00      1.00      1.00        37\n",
      "         20       0.99      0.97      0.98        76\n",
      "         21       1.00      1.00      1.00        53\n",
      "         22       0.98      0.95      0.96        93\n",
      "         23       0.94      0.94      0.94        18\n",
      "         24       1.00      0.99      0.99       272\n",
      "         25       1.00      1.00      1.00       347\n",
      "         26       1.00      0.96      0.98        50\n",
      "         27       1.00      0.94      0.97        72\n",
      "         28       1.00      1.00      1.00        51\n",
      "         29       1.00      1.00      1.00        43\n",
      "         30       1.00      0.98      0.99       104\n",
      "         31       0.98      0.98      0.98        56\n",
      "         32       0.99      1.00      1.00       204\n",
      "         33       1.00      0.99      1.00       126\n",
      "         34       1.00      1.00      1.00        64\n",
      "         35       1.00      0.98      0.99       193\n",
      "         36       1.00      1.00      1.00       279\n",
      "         37       1.00      0.99      1.00       291\n",
      "         38       1.00      1.00      1.00       277\n",
      "         39       1.00      1.00      1.00       994\n",
      "         40       1.00      1.00      1.00       620\n",
      "         41       1.00      1.00      1.00        59\n",
      "         42       1.00      1.00      1.00       183\n",
      "         43       1.00      1.00      1.00        96\n",
      "         44       1.00      1.00      1.00       108\n",
      "        999       1.00      0.95      0.97       882\n",
      "\n",
      "avg / total       0.99      0.99      0.99      9568\n",
      "\n"
     ]
    }
   ],
   "source": [
    "print(classification_report(y_test, y_pred))"
   ]
  },
  {
   "cell_type": "markdown",
   "metadata": {},
   "source": [
    "### prediction"
   ]
  },
  {
   "cell_type": "code",
   "execution_count": 24,
   "metadata": {},
   "outputs": [
    {
     "name": "stdout",
     "output_type": "stream",
     "text": [
      "CPU times: user 16min 59s, sys: 3.59 s, total: 17min 3s\n",
      "Wall time: 17min 21s\n"
     ]
    }
   ],
   "source": [
    "%%time\n",
    "result = rbfsvc_model.predict_proba(csr_test)\n",
    "result"
   ]
  },
  {
   "cell_type": "markdown",
   "metadata": {},
   "source": [
    "### Make Submission CSV file"
   ]
  },
  {
   "cell_type": "code",
   "execution_count": 25,
   "metadata": {},
   "outputs": [
    {
     "data": {
      "text/html": [
       "<div>\n",
       "<style scoped>\n",
       "    .dataframe tbody tr th:only-of-type {\n",
       "        vertical-align: middle;\n",
       "    }\n",
       "\n",
       "    .dataframe tbody tr th {\n",
       "        vertical-align: top;\n",
       "    }\n",
       "\n",
       "    .dataframe thead th {\n",
       "        text-align: right;\n",
       "    }\n",
       "</style>\n",
       "<table border=\"1\" class=\"dataframe\">\n",
       "  <thead>\n",
       "    <tr style=\"text-align: right;\">\n",
       "      <th></th>\n",
       "      <th>TripType_3</th>\n",
       "      <th>TripType_4</th>\n",
       "      <th>TripType_5</th>\n",
       "      <th>TripType_6</th>\n",
       "      <th>TripType_7</th>\n",
       "      <th>TripType_8</th>\n",
       "      <th>TripType_9</th>\n",
       "      <th>TripType_12</th>\n",
       "      <th>TripType_14</th>\n",
       "      <th>TripType_15</th>\n",
       "      <th>TripType_18</th>\n",
       "      <th>TripType_19</th>\n",
       "      <th>...</th>\n",
       "      <th>TripType_34</th>\n",
       "      <th>TripType_35</th>\n",
       "      <th>TripType_36</th>\n",
       "      <th>TripType_37</th>\n",
       "      <th>TripType_38</th>\n",
       "      <th>TripType_39</th>\n",
       "      <th>TripType_40</th>\n",
       "      <th>TripType_41</th>\n",
       "      <th>TripType_42</th>\n",
       "      <th>TripType_43</th>\n",
       "      <th>TripType_44</th>\n",
       "      <th>TripType_999</th>\n",
       "    </tr>\n",
       "    <tr>\n",
       "      <th>VisitNumber</th>\n",
       "      <th></th>\n",
       "      <th></th>\n",
       "      <th></th>\n",
       "      <th></th>\n",
       "      <th></th>\n",
       "      <th></th>\n",
       "      <th></th>\n",
       "      <th></th>\n",
       "      <th></th>\n",
       "      <th></th>\n",
       "      <th></th>\n",
       "      <th></th>\n",
       "      <th></th>\n",
       "      <th></th>\n",
       "      <th></th>\n",
       "      <th></th>\n",
       "      <th></th>\n",
       "      <th></th>\n",
       "      <th></th>\n",
       "      <th></th>\n",
       "      <th></th>\n",
       "      <th></th>\n",
       "      <th></th>\n",
       "      <th></th>\n",
       "      <th></th>\n",
       "    </tr>\n",
       "  </thead>\n",
       "  <tbody>\n",
       "    <tr>\n",
       "      <th>191338</th>\n",
       "      <td>0.001088</td>\n",
       "      <td>0.001465</td>\n",
       "      <td>0.014540</td>\n",
       "      <td>0.006039</td>\n",
       "      <td>0.018617</td>\n",
       "      <td>0.001138</td>\n",
       "      <td>0.001298</td>\n",
       "      <td>0.008390</td>\n",
       "      <td>0.001227</td>\n",
       "      <td>0.011282</td>\n",
       "      <td>0.003329</td>\n",
       "      <td>0.002071</td>\n",
       "      <td>...</td>\n",
       "      <td>0.003489</td>\n",
       "      <td>0.098075</td>\n",
       "      <td>0.008542</td>\n",
       "      <td>0.013117</td>\n",
       "      <td>0.022594</td>\n",
       "      <td>0.517258</td>\n",
       "      <td>0.005580</td>\n",
       "      <td>0.003473</td>\n",
       "      <td>0.005770</td>\n",
       "      <td>0.007517</td>\n",
       "      <td>0.005077</td>\n",
       "      <td>0.006377</td>\n",
       "    </tr>\n",
       "    <tr>\n",
       "      <th>191339</th>\n",
       "      <td>0.000907</td>\n",
       "      <td>0.001105</td>\n",
       "      <td>0.004560</td>\n",
       "      <td>0.002450</td>\n",
       "      <td>0.006041</td>\n",
       "      <td>0.001604</td>\n",
       "      <td>0.001549</td>\n",
       "      <td>0.006033</td>\n",
       "      <td>0.000859</td>\n",
       "      <td>0.005580</td>\n",
       "      <td>0.015923</td>\n",
       "      <td>0.003135</td>\n",
       "      <td>...</td>\n",
       "      <td>0.002096</td>\n",
       "      <td>0.012667</td>\n",
       "      <td>0.004781</td>\n",
       "      <td>0.005802</td>\n",
       "      <td>0.012522</td>\n",
       "      <td>0.013235</td>\n",
       "      <td>0.004267</td>\n",
       "      <td>0.027352</td>\n",
       "      <td>0.487380</td>\n",
       "      <td>0.017046</td>\n",
       "      <td>0.013500</td>\n",
       "      <td>0.005677</td>\n",
       "    </tr>\n",
       "    <tr>\n",
       "      <th>191340</th>\n",
       "      <td>0.004437</td>\n",
       "      <td>0.003773</td>\n",
       "      <td>0.008617</td>\n",
       "      <td>0.010314</td>\n",
       "      <td>0.035386</td>\n",
       "      <td>0.654351</td>\n",
       "      <td>0.043544</td>\n",
       "      <td>0.005015</td>\n",
       "      <td>0.000495</td>\n",
       "      <td>0.011146</td>\n",
       "      <td>0.009238</td>\n",
       "      <td>0.001618</td>\n",
       "      <td>...</td>\n",
       "      <td>0.003057</td>\n",
       "      <td>0.070153</td>\n",
       "      <td>0.013591</td>\n",
       "      <td>0.003991</td>\n",
       "      <td>0.006672</td>\n",
       "      <td>0.011513</td>\n",
       "      <td>0.003335</td>\n",
       "      <td>0.001880</td>\n",
       "      <td>0.009653</td>\n",
       "      <td>0.000961</td>\n",
       "      <td>0.001242</td>\n",
       "      <td>0.028577</td>\n",
       "    </tr>\n",
       "    <tr>\n",
       "      <th>191341</th>\n",
       "      <td>0.000017</td>\n",
       "      <td>0.000033</td>\n",
       "      <td>0.000364</td>\n",
       "      <td>0.000092</td>\n",
       "      <td>0.000298</td>\n",
       "      <td>0.000058</td>\n",
       "      <td>0.000217</td>\n",
       "      <td>0.001616</td>\n",
       "      <td>0.000052</td>\n",
       "      <td>0.001872</td>\n",
       "      <td>0.000095</td>\n",
       "      <td>0.000037</td>\n",
       "      <td>...</td>\n",
       "      <td>0.000150</td>\n",
       "      <td>0.000268</td>\n",
       "      <td>0.000396</td>\n",
       "      <td>0.000294</td>\n",
       "      <td>0.000456</td>\n",
       "      <td>0.004471</td>\n",
       "      <td>0.001984</td>\n",
       "      <td>0.003939</td>\n",
       "      <td>0.005600</td>\n",
       "      <td>0.001714</td>\n",
       "      <td>0.010705</td>\n",
       "      <td>0.000234</td>\n",
       "    </tr>\n",
       "    <tr>\n",
       "      <th>191348</th>\n",
       "      <td>0.000005</td>\n",
       "      <td>0.000016</td>\n",
       "      <td>0.000012</td>\n",
       "      <td>0.000033</td>\n",
       "      <td>0.000014</td>\n",
       "      <td>0.000004</td>\n",
       "      <td>0.000010</td>\n",
       "      <td>0.000029</td>\n",
       "      <td>0.000062</td>\n",
       "      <td>0.000018</td>\n",
       "      <td>0.000018</td>\n",
       "      <td>0.000011</td>\n",
       "      <td>...</td>\n",
       "      <td>0.000182</td>\n",
       "      <td>0.000010</td>\n",
       "      <td>0.000027</td>\n",
       "      <td>0.000018</td>\n",
       "      <td>0.000019</td>\n",
       "      <td>0.000045</td>\n",
       "      <td>0.000031</td>\n",
       "      <td>0.001587</td>\n",
       "      <td>0.002330</td>\n",
       "      <td>0.000237</td>\n",
       "      <td>0.001942</td>\n",
       "      <td>0.000085</td>\n",
       "    </tr>\n",
       "  </tbody>\n",
       "</table>\n",
       "<p>5 rows × 38 columns</p>\n",
       "</div>"
      ],
      "text/plain": [
       "             TripType_3  TripType_4  TripType_5  TripType_6  TripType_7  \\\n",
       "VisitNumber                                                               \n",
       "191338         0.001088    0.001465    0.014540    0.006039    0.018617   \n",
       "191339         0.000907    0.001105    0.004560    0.002450    0.006041   \n",
       "191340         0.004437    0.003773    0.008617    0.010314    0.035386   \n",
       "191341         0.000017    0.000033    0.000364    0.000092    0.000298   \n",
       "191348         0.000005    0.000016    0.000012    0.000033    0.000014   \n",
       "\n",
       "             TripType_8  TripType_9  TripType_12  TripType_14  TripType_15  \\\n",
       "VisitNumber                                                                  \n",
       "191338         0.001138    0.001298     0.008390     0.001227     0.011282   \n",
       "191339         0.001604    0.001549     0.006033     0.000859     0.005580   \n",
       "191340         0.654351    0.043544     0.005015     0.000495     0.011146   \n",
       "191341         0.000058    0.000217     0.001616     0.000052     0.001872   \n",
       "191348         0.000004    0.000010     0.000029     0.000062     0.000018   \n",
       "\n",
       "             TripType_18  TripType_19      ...       TripType_34  TripType_35  \\\n",
       "VisitNumber                                ...                                  \n",
       "191338          0.003329     0.002071      ...          0.003489     0.098075   \n",
       "191339          0.015923     0.003135      ...          0.002096     0.012667   \n",
       "191340          0.009238     0.001618      ...          0.003057     0.070153   \n",
       "191341          0.000095     0.000037      ...          0.000150     0.000268   \n",
       "191348          0.000018     0.000011      ...          0.000182     0.000010   \n",
       "\n",
       "             TripType_36  TripType_37  TripType_38  TripType_39  TripType_40  \\\n",
       "VisitNumber                                                                    \n",
       "191338          0.008542     0.013117     0.022594     0.517258     0.005580   \n",
       "191339          0.004781     0.005802     0.012522     0.013235     0.004267   \n",
       "191340          0.013591     0.003991     0.006672     0.011513     0.003335   \n",
       "191341          0.000396     0.000294     0.000456     0.004471     0.001984   \n",
       "191348          0.000027     0.000018     0.000019     0.000045     0.000031   \n",
       "\n",
       "             TripType_41  TripType_42  TripType_43  TripType_44  TripType_999  \n",
       "VisitNumber                                                                    \n",
       "191338          0.003473     0.005770     0.007517     0.005077      0.006377  \n",
       "191339          0.027352     0.487380     0.017046     0.013500      0.005677  \n",
       "191340          0.001880     0.009653     0.000961     0.001242      0.028577  \n",
       "191341          0.003939     0.005600     0.001714     0.010705      0.000234  \n",
       "191348          0.001587     0.002330     0.000237     0.001942      0.000085  \n",
       "\n",
       "[5 rows x 38 columns]"
      ]
     },
     "execution_count": 25,
     "metadata": {},
     "output_type": "execute_result"
    }
   ],
   "source": [
    "subform_df_columns = samplesub.columns[1:]\n",
    "result_df = pd.DataFrame(result)\n",
    "result_df.columns = subform_df_columns\n",
    "subform_df = pd.concat([test.reset_index()['VisitNumber'],result_df],axis=1)\n",
    "subform_df.set_index('VisitNumber',inplace=True)\n",
    "subform_df.tail()"
   ]
  },
  {
   "cell_type": "code",
   "execution_count": 26,
   "metadata": {},
   "outputs": [],
   "source": [
    "subform_df.to_csv('./SVM/result_SVC_1e2.csv')"
   ]
  },
  {
   "cell_type": "markdown",
   "metadata": {},
   "source": [
    "## 모델 저장"
   ]
  },
  {
   "cell_type": "code",
   "execution_count": 29,
   "metadata": {},
   "outputs": [],
   "source": [
    "from sklearn.externals import joblib\n",
    "\n",
    "joblib.dump(rbfsvc_model, './SVM/model_SVC_1e2.pkl' )\n",
    "svc = joblib.load('./SVM/model_SVC_1e2.pkl' )"
   ]
  },
  {
   "cell_type": "code",
   "execution_count": null,
   "metadata": {},
   "outputs": [],
   "source": []
  }
 ],
 "metadata": {
  "kernelspec": {
   "display_name": "Python 3",
   "language": "python",
   "name": "python3"
  },
  "language_info": {
   "codemirror_mode": {
    "name": "ipython",
    "version": 3
   },
   "file_extension": ".py",
   "mimetype": "text/x-python",
   "name": "python",
   "nbconvert_exporter": "python",
   "pygments_lexer": "ipython3",
   "version": "3.6.4"
  }
 },
 "nbformat": 4,
 "nbformat_minor": 2
}
